{
 "cells": [
  {
   "cell_type": "markdown",
   "id": "62e5f3ea",
   "metadata": {},
   "source": [
    "# Copy over files to interHMRDistance directory"
   ]
  },
  {
   "cell_type": "code",
   "execution_count": null,
   "id": "63f43461",
   "metadata": {},
   "outputs": [],
   "source": []
  },
  {
   "cell_type": "code",
   "execution_count": null,
   "id": "622b0188",
   "metadata": {},
   "outputs": [],
   "source": [
    "cp /data/hodges_lab/Tim/finalAnalyses_HMRs/hp_lineage/filtRefSeqFiles/HSC.minsize50.filtforrefseqTSSexons.txt\n",
    "/data/hodges_lab/Tim/finalAnalyses_HMRs/interHMRdistances/refSeqFilteredBEDs\n",
    "\n",
    "cp /data/hodges_lab/Tim/finalAnalyses_HMRs/hp_lineage/filtRefSeqFiles/Macrophage.minsize50.filtforrefseqTSSexons.txt\n",
    "/data/hodges_lab/Tim/finalAnalyses_HMRs/interHMRdistances/refSeqFilteredBEDs\n",
    "\n",
    "cp /data/hodges_lab/Tim/finalAnalyses_HMRs/hp_lineage/filtRefSeqFiles/Tcell.minsize50.filtforrefseqTSSexons.txt\n",
    "/data/hodges_lab/Tim/finalAnalyses_HMRs/interHMRdistances/refSeqFilteredBEDs"
   ]
  },
  {
   "cell_type": "markdown",
   "id": "17198f84",
   "metadata": {},
   "source": [
    "# make_observedTables.sh"
   ]
  },
  {
   "cell_type": "code",
   "execution_count": null,
   "id": "ca515493",
   "metadata": {},
   "outputs": [],
   "source": [
    "#bedtools closest -io -d -a ${celltype}.minsize50.filtforrefseqTSSexons.txt -b ${celltype}.minsize50.filtforrefseqTSSexons.txt | awk -v ctype=\"${celltype}\" 'BEGIN{OFS=FS=\"\\t\"}{print $2,ctype}' > ${outDir}${celltype}.obsDistances.txt\n"
   ]
  },
  {
   "cell_type": "code",
   "execution_count": null,
   "id": "efc4dfe8",
   "metadata": {},
   "outputs": [],
   "source": [
    "\n",
    "\n",
    "obsDir=/data/hodges_lab/Tim/finalAnalyses_HMRs/interHMRdistances/refSeqFilteredBEDs/\n",
    "outDir=/data/hodges_lab/Tim/finalAnalyses_HMRs/interHMRdistances/obsDistances/\n",
    "\n",
    "cd $obsDir\n",
    "\n",
    "for celltype in Adrenal Bcell fSpinal fHeart H1ESC Liver\n",
    "do\n",
    "\tbedtools closest -io -d -a ${celltype}.minsize50.filtforrefseqTSSexons.txt -b ${celltype}.minsize50.filtforrefseqTSSexons.txt | awk -v ctype=\"${celltype}\" 'BEGIN{OFS=FS=\"\\t\"}{print $9,ctype}' > ${outDir}${celltype}.obsDistances.txt\n",
    "done\n",
    "\n",
    "cat ${outDir}*.obsDistances.txt > ${outDir}AllCTs.obsDistances.txt"
   ]
  },
  {
   "cell_type": "markdown",
   "id": "e714bcc5",
   "metadata": {},
   "source": [
    "# make_expectedTables.sh"
   ]
  },
  {
   "cell_type": "code",
   "execution_count": null,
   "id": "7a29524b",
   "metadata": {},
   "outputs": [],
   "source": [
    "countDir=/data/hodges_lab/Tim/finalAnalyses_HMRs/interHMRdistances/finalCounts/\n",
    "outDir=/data/hodges_lab/Tim/finalAnalyses_HMRs/interHMRdistances/finalCounts/\n",
    "\n",
    "cd $obsDir\n",
    "\n",
    "for celltype in Adrenal Bcell fHeart fSpinal H1ESC Liver\n",
    "do\n",
    "\tawk -v ctype=\"${celltype}\" 'BEGIN{OFS=FS=\"\\t\"}{print $2,ctype}' ${countDir}${celltype}.avgInterHMRDist.all.txt > ${outDir}${celltype}.expDistances.txt\n",
    "done\n",
    "\n",
    "rm ${outDir}AllCTs.expDistances.txt\n",
    "cat ${outDir}*expDistances.txt > ${outDir}AllCTs.expDistances.txt\n"
   ]
  },
  {
   "cell_type": "markdown",
   "id": "8aec9bd0",
   "metadata": {},
   "source": [
    "# Run shuffle - simulation - scripts"
   ]
  },
  {
   "cell_type": "code",
   "execution_count": null,
   "id": "02825021",
   "metadata": {},
   "outputs": [],
   "source": [
    "#!/bin/bash\n",
    "#SBATCH --nodes=1\n",
    "#SBATCH --ntasks=1\n",
    "#SBATCH --time=30:00:00\n",
    "#SBATCH --mem=100G\n",
    "#SBATCH --output=AdrinterHMR_nullRandom_Adrenal.out\n",
    "\n",
    "dir=/data/hodges_lab/Tim/finalAnalyses_HMRs/interHMRdistances/\n",
    "\n",
    "numIterations=10000\n",
    "whiteList=\"ncbiRefSeqCurated_NM.promotersUp2000Down1000AndExons.txt\"\n",
    "HMRDir=\"/data/hodges_lab/Tim/finalAnalyses_HMRs/interHMRdistances/refSeqFilteredBEDs/\"\n",
    "\n",
    "\n",
    "cd ${dir}\n",
    "\n",
    "\n",
    "######## Code to shuffle and compare closest HMR-HMR distances. Row-by-row dists and avg for a shuffle are each saved in different files. \n",
    "# I want the individual average distances, too. I think it's important to keep. \n",
    "# Adrenal\n",
    "for i in $(seq 0 ${numIterations})\n",
    "do\n",
    "\t# perform shuffle and record results\n",
    "\tbedtools closest -io -d -a <(bedtools shuffle -excl ${whiteList} -i ${HMRDir}Adrenal.minsize50.filtforrefseqTSSexons.txt -g ${dir}hg19.chromSizes.txt | awk 'BEGIN{FS=OFS=\"\\t\"}{print $1,$2,$3}' - | bedtools sort -i -) -b <(bedtools shuffle -excl ${whiteList} -i ${HMRDir}Adrenal.minsize50.filtforrefseqTSSexons.txt -g ${dir}hg19.chromSizes.txt | awk 'BEGIN{FS=OFS=\"\\t\"}{print $1,$2,$3}' - | bedtools sort -i -) | awk 'BEGIN{OFS=FS=\"\\t\"}{print $7}' > ${dir}tablesWithIndivDists/Adrenal.shuffle.${i}.txt\n",
    "\t# calculate the average distance for this shuffle run and save\n",
    "\tawk 'BEGIN{OFS=FS=\"\\t\";i=0}{i=(i+$1)}END{print i,(i/NR)}' ${dir}tablesWithIndivDists/Adrenal.shuffle.${i}.txt > ${dir}temps/Adrenal.avgInterHMRDist.${i}.temp.txt\n",
    "done\n",
    "# summarize shuffle results and store as an output file\n",
    "cat ${dir}temps/Adrenal.avgInterHMRDist.*.temp.txt > ${dir}finalCounts/Adrenal.avgInterHMRDist.all.txt\n",
    "\n",
    "\n"
   ]
  },
  {
   "cell_type": "code",
   "execution_count": null,
   "id": "7971fbcd",
   "metadata": {},
   "outputs": [],
   "source": [
    "#!/bin/bash\n",
    "#SBATCH --nodes=1\n",
    "#SBATCH --ntasks=1\n",
    "#SBATCH --time=30:00:00\n",
    "#SBATCH --mem=100G\n",
    "#SBATCH --output=interHMR_nullRandom_Bcell.out\n",
    "\n",
    "dir=/data/hodges_lab/Tim/finalAnalyses_HMRs/interHMRdistances/\n",
    "\n",
    "numIterations=10000\n",
    "whiteList=\"ncbiRefSeqCurated_NM.promotersUp2000Down1000AndExons.txt\"\n",
    "HMRDir=\"/data/hodges_lab/Tim/finalAnalyses_HMRs/interHMRdistances/refSeqFilteredBEDs/\"\n",
    "\n",
    "cd ${dir}\n",
    "\n",
    "######## Code to shuffle and compare closest HMR-HMR distances. Row-by-row dists and avg for a shuffle are each saved in different files. \n",
    "# I want the individual average distances, too. I think it's important to keep. \n",
    "# Bcell\n",
    "for i in $(seq 0 ${numIterations})\n",
    "do\n",
    "\t# perform shuffle and record results\n",
    "\tbedtools closest -io -d -a <(bedtools shuffle -excl ${whiteList} -i ${HMRDir}Bcell.minsize50.filtforrefseqTSSexons.txt -g ${dir}hg19.chromSizes.txt | awk 'BEGIN{FS=OFS=\"\\t\"}{print $1,$2,$3}' - | bedtools sort -i -) -b <(bedtools shuffle -excl ${whiteList} -i ${HMRDir}Bcell.minsize50.filtforrefseqTSSexons.txt -g ${dir}hg19.chromSizes.txt | awk 'BEGIN{FS=OFS=\"\\t\"}{print $1,$2,$3}' - | bedtools sort -i -) | awk 'BEGIN{OFS=FS=\"\\t\"}{print $7}' > ${dir}tablesWithIndivDists/Bcell.shuffle.${i}.txt\n",
    "\t# calculate the average distance for this shuffle run and save\n",
    "\tawk 'BEGIN{OFS=FS=\"\\t\";i=0}{i=(i+$1)}END{print i,(i/NR)}' ${dir}tablesWithIndivDists/Bcell.shuffle.${i}.txt > ${dir}temps/Bcell.avgInterHMRDist.${i}.temp.txt\n",
    "done\n",
    "# summarize shuffle results and store as an output file\n",
    "cat ${dir}temps/Bcell.avgInterHMRDist.*.temp.txt > ${dir}finalCounts/Bcell.avgInterHMRDist.all.txt\n",
    "\n",
    "\n"
   ]
  },
  {
   "cell_type": "code",
   "execution_count": null,
   "id": "30e2a420",
   "metadata": {},
   "outputs": [],
   "source": [
    "#!/bin/bash\n",
    "#SBATCH --nodes=1\n",
    "#SBATCH --ntasks=1\n",
    "#SBATCH --time=30:00:00\n",
    "#SBATCH --mem=100G\n",
    "#SBATCH --output=FheinterHMR_nullRandom_fHeart.out\n",
    "\n",
    "dir=/data/hodges_lab/Tim/finalAnalyses_HMRs/interHMRdistances/\n",
    "\n",
    "numIterations=10000\n",
    "whiteList=\"ncbiRefSeqCurated_NM.promotersUp2000Down1000AndExons.txt\"\n",
    "HMRDir=\"/data/hodges_lab/Tim/finalAnalyses_HMRs/interHMRdistances/refSeqFilteredBEDs/\"\n",
    "\n",
    "cd ${dir}\n",
    "\n",
    "######## Code to shuffle and compare closest HMR-HMR distances. Row-by-row dists and avg for a shuffle are each saved in different files. \n",
    "# I want the individual average distances, too. I think it's important to keep. \n",
    "# fHeart\n",
    "for i in $(seq 0 ${numIterations})\n",
    "do\n",
    "\t# perform shuffle and record results\n",
    "\tbedtools closest -io -d -a <(bedtools shuffle -excl ${whiteList} -i ${HMRDir}fHeart.minsize50.filtforrefseqTSSexons.txt -g ${dir}hg19.chromSizes.txt | awk 'BEGIN{FS=OFS=\"\\t\"}{print $1,$2,$3}' - | bedtools sort -i -) -b <(bedtools shuffle -excl ${whiteList} -i ${HMRDir}fHeart.minsize50.filtforrefseqTSSexons.txt -g ${dir}hg19.chromSizes.txt | awk 'BEGIN{FS=OFS=\"\\t\"}{print $1,$2,$3}' - | bedtools sort -i -) | awk 'BEGIN{OFS=FS=\"\\t\"}{print $7}' > ${dir}tablesWithIndivDists/fHeart.shuffle.${i}.txt\n",
    "\t# calculate the average distance for this shuffle run and save\n",
    "\tawk 'BEGIN{OFS=FS=\"\\t\";i=0}{i=(i+$1)}END{print i,(i/NR)}' ${dir}tablesWithIndivDists/fHeart.shuffle.${i}.txt > ${dir}temps/fHeart.avgInterHMRDist.${i}.temp.txt\n",
    "done\n",
    "# summarize shuffle results and store as an output file\n",
    "cat ${dir}temps/fHeart.avgInterHMRDist.*.temp.txt > ${dir}finalCounts/fHeart.avgInterHMRDist.all.txt\n",
    "\n",
    "\n"
   ]
  },
  {
   "cell_type": "code",
   "execution_count": null,
   "id": "8de51cce",
   "metadata": {},
   "outputs": [],
   "source": [
    "#!/bin/bash\n",
    "#SBATCH --nodes=1\n",
    "#SBATCH --ntasks=1\n",
    "#SBATCH --time=30:00:00\n",
    "#SBATCH --mem=100G\n",
    "#SBATCH --output=fSpinterHMR_nullRandom_fSpinal.out\n",
    "\n",
    "dir=/data/hodges_lab/Tim/finalAnalyses_HMRs/interHMRdistances/\n",
    "\n",
    "numIterations=10000\n",
    "whiteList=\"ncbiRefSeqCurated_NM.promotersUp2000Down1000AndExons.txt\"\n",
    "HMRDir=\"/data/hodges_lab/Tim/finalAnalyses_HMRs/interHMRdistances/refSeqFilteredBEDs/\"\n",
    "\n",
    "\n",
    "cd ${dir}\n",
    "\n",
    "######## Code to shuffle and compare closest HMR-HMR distances. Row-by-row dists and avg for a shuffle are each saved in different files. \n",
    "# I want the individual average distances, too. I think it's important to keep. \n",
    "# fSpinal\n",
    "for i in $(seq 0 ${numIterations})\n",
    "do\n",
    "\t# perform shuffle and record results\n",
    "\tbedtools closest -io -d -a <(bedtools shuffle -excl ${whiteList} -i ${HMRDir}fSpinal.minsize50.filtforrefseqTSSexons.txt -g ${dir}hg19.chromSizes.txt | awk 'BEGIN{FS=OFS=\"\\t\"}{print $1,$2,$3}' - | bedtools sort -i -) -b <(bedtools shuffle -excl ${whiteList} -i ${HMRDir}fSpinal.minsize50.filtforrefseqTSSexons.txt -g ${dir}hg19.chromSizes.txt | awk 'BEGIN{FS=OFS=\"\\t\"}{print $1,$2,$3}' - | bedtools sort -i -) | awk 'BEGIN{OFS=FS=\"\\t\"}{print $7}' > ${dir}tablesWithIndivDists/fSpinal.shuffle.${i}.txt\n",
    "\t# calculate the average distance for this shuffle run and save\n",
    "\tawk 'BEGIN{OFS=FS=\"\\t\";i=0}{i=(i+$1)}END{print i,(i/NR)}' ${dir}tablesWithIndivDists/fSpinal.shuffle.${i}.txt > ${dir}temps/fSpinal.avgInterHMRDist.${i}.temp.txt\n",
    "done\n",
    "# summarize shuffle results and store as an output file\n",
    "cat ${dir}temps/fSpinal.avgInterHMRDist.*.temp.txt > ${dir}finalCounts/fSpinal.avgInterHMRDist.all.txt\n",
    "\n",
    "\n"
   ]
  },
  {
   "cell_type": "code",
   "execution_count": null,
   "id": "40024dae",
   "metadata": {},
   "outputs": [],
   "source": [
    "#!/bin/bash\n",
    "#SBATCH --nodes=1\n",
    "#SBATCH --ntasks=1\n",
    "#SBATCH --time=30:00:00\n",
    "#SBATCH --mem=100G\n",
    "#SBATCH --output=ESCinterHMR_nullRandom_H1ESC.out\n",
    "\n",
    "dir=/data/hodges_lab/Tim/finalAnalyses_HMRs/interHMRdistances/\n",
    "\n",
    "numIterations=10000\n",
    "whiteList=\"ncbiRefSeqCurated_NM.promotersUp2000Down1000AndExons.txt\"\n",
    "HMRDir=\"/data/hodges_lab/Tim/finalAnalyses_HMRs/interHMRdistances/refSeqFilteredBEDs/\"\n",
    "\n",
    "cd ${dir}\n",
    "\n",
    "######## Code to shuffle and compare closest HMR-HMR distances. Row-by-row dists and avg for a shuffle are each saved in different files. \n",
    "# I want the individual average distances, too. I think it's important to keep. \n",
    "# H1ESC\n",
    "for i in $(seq 0 ${numIterations})\n",
    "do\n",
    "\t# perform shuffle and record results\n",
    "\tbedtools closest -io -d -a <(bedtools shuffle -excl ${whiteList} -i ${HMRDir}H1ESC.minsize50.filtforrefseqTSSexons.txt -g ${dir}hg19.chromSizes.txt | awk 'BEGIN{FS=OFS=\"\\t\"}{print $1,$2,$3}' - | bedtools sort -i -) -b <(bedtools shuffle -excl ${whiteList} -i ${HMRDir}H1ESC.minsize50.filtforrefseqTSSexons.txt -g ${dir}hg19.chromSizes.txt | awk 'BEGIN{FS=OFS=\"\\t\"}{print $1,$2,$3}' - | bedtools sort -i -) | awk 'BEGIN{OFS=FS=\"\\t\"}{print $7}' > ${dir}tablesWithIndivDists/H1ESC.shuffle.${i}.txt\n",
    "\t# calculate the average distance for this shuffle run and save\n",
    "\tawk 'BEGIN{OFS=FS=\"\\t\";i=0}{i=(i+$1)}END{print i,(i/NR)}' ${dir}tablesWithIndivDists/H1ESC.shuffle.${i}.txt > ${dir}temps/H1ESC.avgInterHMRDist.${i}.temp.txt\n",
    "done\n",
    "# summarize shuffle results and store as an output file\n",
    "cat ${dir}temps/H1ESC.avgInterHMRDist.*.temp.txt > ${dir}finalCounts/H1ESC.avgInterHMRDist.all.txt\n",
    "\n",
    "\n"
   ]
  },
  {
   "cell_type": "code",
   "execution_count": null,
   "id": "bcb9e885",
   "metadata": {},
   "outputs": [],
   "source": [
    "#!/bin/bash\n",
    "#SBATCH --nodes=1\n",
    "#SBATCH --ntasks=1\n",
    "#SBATCH --time=30:00:00\n",
    "#SBATCH --mem=100G\n",
    "#SBATCH --output=LivinterHMR_nullRandom_Liver.out\n",
    "\n",
    "dir=/data/hodges_lab/Tim/finalAnalyses_HMRs/interHMRdistances/\n",
    "\n",
    "numIterations=10000\n",
    "whiteList=\"ncbiRefSeqCurated_NM.promotersUp2000Down1000AndExons.txt\"\n",
    "HMRDir=\"/data/hodges_lab/Tim/finalAnalyses_HMRs/interHMRdistances/refSeqFilteredBEDs/\"\n",
    "\n",
    "cd ${dir}\n",
    "\n",
    "######## Code to shuffle and compare closest HMR-HMR distances. Row-by-row dists and avg for a shuffle are each saved in different files. \n",
    "# I want the individual average distances, too. I think it's important to keep. \n",
    "# Liver\n",
    "for i in $(seq 0 ${numIterations})\n",
    "do\n",
    "\t# perform shuffle and record results\n",
    "\tbedtools closest -io -d -a <(bedtools shuffle -excl ${whiteList} -i ${HMRDir}Liver.minsize50.filtforrefseqTSSexons.txt -g ${dir}hg19.chromSizes.txt | awk 'BEGIN{FS=OFS=\"\\t\"}{print $1,$2,$3}' - | bedtools sort -i -) -b <(bedtools shuffle -excl ${whiteList} -i ${HMRDir}Liver.minsize50.filtforrefseqTSSexons.txt -g ${dir}hg19.chromSizes.txt | awk 'BEGIN{FS=OFS=\"\\t\"}{print $1,$2,$3}' - | bedtools sort -i -) | awk 'BEGIN{OFS=FS=\"\\t\"}{print $7}' > ${dir}tablesWithIndivDists/Liver.shuffle.${i}.txt\n",
    "\t# calculate the average distance for this shuffle run and save\n",
    "\tawk 'BEGIN{OFS=FS=\"\\t\";i=0}{i=(i+$1)}END{print i,(i/NR)}' ${dir}tablesWithIndivDists/Liver.shuffle.${i}.txt > ${dir}temps/Liver.avgInterHMRDist.${i}.temp.txt\n",
    "done\n",
    "# summarize shuffle results and store as an output file\n",
    "cat ${dir}temps/Liver.avgInterHMRDist.*.temp.txt > ${dir}finalCounts/Liver.avgInterHMRDist.all.txt\n",
    "\n",
    "\n"
   ]
  },
  {
   "cell_type": "markdown",
   "id": "f1e2b31c",
   "metadata": {},
   "source": [
    "# Run shuffle - simulation - scripts (Cont.)"
   ]
  },
  {
   "cell_type": "code",
   "execution_count": null,
   "id": "3f770435",
   "metadata": {},
   "outputs": [],
   "source": [
    "cd /data/hodges_lab/Tim/finalAnalyses_HMRs/interHMRdistances/runScripts\n",
    "\n",
    "sbatch run_interHMRDists_HSPC.slrm\n",
    "sbatch run_interHMRDists_Macrophage.slrm\n",
    "\n",
    "sbatch /data/hodges_lab/Tim/finalAnalyses_HMRs/interHMRdistances/runScripts/run_interHMRDists_Neutrophhil.slrm\n",
    "sbatch run_interHMRDists_Tcell.slrm"
   ]
  },
  {
   "cell_type": "markdown",
   "id": "257d4fe5",
   "metadata": {},
   "source": [
    "## HSPC"
   ]
  },
  {
   "cell_type": "code",
   "execution_count": null,
   "id": "cf3396bf",
   "metadata": {},
   "outputs": [],
   "source": [
    "#!/bin/bash\n",
    "#SBATCH --nodes=1\n",
    "#SBATCH --ntasks=1\n",
    "#SBATCH --time=30:00:00\n",
    "#SBATCH --mem=100G\n",
    "#SBATCH --output=interHMR_nullRandom_HSPC.out\n",
    "\n",
    "dir=/data/hodges_lab/Tim/finalAnalyses_HMRs/interHMRdistances/\n",
    "\n",
    "numIterations=10000\n",
    "whiteList=\"ncbiRefSeqCurated_NM.promotersUp2000Down1000AndExons.txt\"\n",
    "HMRDir=\"/data/hodges_lab/Tim/finalAnalyses_HMRs/interHMRdistances/refSeqFilteredBEDs/\"\n",
    "\n",
    "cd ${dir}\n",
    "\n",
    "######## Code to shuffle and compare closest HMR-HMR distances. Row-by-row dists and avg for a shuffle are each saved in different files. \n",
    "# I want the individual average distances, too. I think it's important to keep. \n",
    "# HSPC\n",
    "for i in $(seq 0 ${numIterations})\n",
    "do\n",
    "\t# perform shuffle and record results\n",
    "    # shuffle once\n",
    "\tbedtools shuffle -excl ${whiteList} -i ${HMRDir}HSC.minsize50.filtforrefseqTSSexons.txt -g ${dir}hg19.chromSizes.txt | awk 'BEGIN{FS=OFS=\"\\t\"}{print $1,$2,$3}' - | bedtools sort -i - > ${dir}temps/HSPC.shuffle_tmp1.txt\n",
    "    # shuffle again\n",
    "\tbedtools shuffle -excl ${whiteList} -i ${HMRDir}HSC.minsize50.filtforrefseqTSSexons.txt -g ${dir}hg19.chromSizes.txt | awk 'BEGIN{FS=OFS=\"\\t\"}{print $1,$2,$3}' - | bedtools sort -i - > ${dir}temps/HSPC.shuffle_tmp2.txt\n",
    "    # calculate distances\n",
    "\tbedtools closest -io -d -a ${dir}temps/HSPC.shuffle_tmp1.txt -b ${dir}temps/HSPC.shuffle_tmp2.txt | awk 'BEGIN{OFS=FS=\"\\t\"}{print $7}' > ${dir}tablesWithIndivDists/HSPC.shuffle.${i}.txt\n",
    "\t# calculate the average distance for this shuffle run and save\n",
    "\tawk 'BEGIN{OFS=FS=\"\\t\";i=0}{i=(i+$1)}END{print i,(i/NR)}' ${dir}tablesWithIndivDists/HSPC.shuffle.${i}.txt > ${dir}temps/HSPC.avgInterHMRDist.${i}.temp.txt\n",
    "done\n",
    "# summarize shuffle results and store as an output file\n",
    "cat ${dir}temps/HSPC.avgInterHMRDist.*.temp.txt > ${dir}finalCounts/HSPC.avgInterHMRDist.all.txt\n"
   ]
  },
  {
   "cell_type": "markdown",
   "id": "f08c1b48",
   "metadata": {},
   "source": [
    "## Macrophage"
   ]
  },
  {
   "cell_type": "code",
   "execution_count": null,
   "id": "62aa1466",
   "metadata": {},
   "outputs": [],
   "source": [
    "#!/bin/bash\n",
    "#SBATCH --nodes=1\n",
    "#SBATCH --ntasks=1\n",
    "#SBATCH --time=30:00:00\n",
    "#SBATCH --mem=100G\n",
    "#SBATCH --output=interHMR_nullRandom_Macrophage.out\n",
    "\n",
    "dir=/data/hodges_lab/Tim/finalAnalyses_HMRs/interHMRdistances/\n",
    "\n",
    "numIterations=10000\n",
    "whiteList=\"ncbiRefSeqCurated_NM.promotersUp2000Down1000AndExons.txt\"\n",
    "HMRDir=\"/data/hodges_lab/Tim/finalAnalyses_HMRs/interHMRdistances/refSeqFilteredBEDs/\"\n",
    "\n",
    "cd ${dir}\n",
    "\n",
    "######## Code to shuffle and compare closest HMR-HMR distances. Row-by-row dists and avg for a shuffle are each saved in different files. \n",
    "# I want the individual average distances, too. I think it's important to keep. \n",
    "# Macrophage\n",
    "for i in $(seq 0 ${numIterations})\n",
    "do\n",
    "\t# perform shuffle and record results\n",
    "    # shuffle once\n",
    "\tbedtools shuffle -excl ${whiteList} -i ${HMRDir}Macrophage.minsize50.filtforrefseqTSSexons.txt -g ${dir}hg19.chromSizes.txt | awk 'BEGIN{FS=OFS=\"\\t\"}{print $1,$2,$3}' - | bedtools sort -i - > ${dir}temps/Macrophage.shuffle_tmp1.txt\n",
    "    # shuffle again\n",
    "\tbedtools shuffle -excl ${whiteList} -i ${HMRDir}Macrophage.minsize50.filtforrefseqTSSexons.txt -g ${dir}hg19.chromSizes.txt | awk 'BEGIN{FS=OFS=\"\\t\"}{print $1,$2,$3}' - | bedtools sort -i - > ${dir}temps/Macrophage.shuffle_tmp2.txt\n",
    "    # calculate distances\n",
    "\tbedtools closest -io -d -a ${dir}temps/Macrophage.shuffle_tmp1.txt -b ${dir}temps/Macrophage.shuffle_tmp2.txt | awk 'BEGIN{OFS=FS=\"\\t\"}{print $7}' > ${dir}tablesWithIndivDists/Macrophage.shuffle.${i}.txt\n",
    "\t# calculate the average distance for this shuffle run and save\n",
    "\tawk 'BEGIN{OFS=FS=\"\\t\";i=0}{i=(i+$1)}END{print i,(i/NR)}' ${dir}tablesWithIndivDists/Macrophage.shuffle.${i}.txt > ${dir}temps/Macrophage.avgInterHMRDist.${i}.temp.txt\n",
    "done\n",
    "# summarize shuffle results and store as an output file\n",
    "cat ${dir}temps/Macrophage.avgInterHMRDist.*.temp.txt > ${dir}finalCounts/Macrophage.avgInterHMRDist.all.txt\n"
   ]
  },
  {
   "cell_type": "markdown",
   "id": "eed1882a",
   "metadata": {},
   "source": [
    "## Neutrophil"
   ]
  },
  {
   "cell_type": "code",
   "execution_count": null,
   "id": "2e9029be",
   "metadata": {},
   "outputs": [],
   "source": [
    "/data/hodges_lab/Tim/finalAnalyses_HMRs/interHMRdistances/runScripts/run_interHMRDists_Neutrophhil.slrm"
   ]
  },
  {
   "cell_type": "code",
   "execution_count": null,
   "id": "4f44316f",
   "metadata": {},
   "outputs": [],
   "source": [
    "#!/bin/bash\n",
    "#SBATCH --nodes=2\n",
    "#SBATCH --ntasks=2\n",
    "#SBATCH --time=30:00:00\n",
    "#SBATCH --mem=100G\n",
    "#SBATCH --output=interHMR_nullRandom_Neutrophil.out\n",
    "\n",
    "dir=/data/hodges_lab/Tim/finalAnalyses_HMRs/interHMRdistances/\n",
    "\n",
    "numIterations=10000\n",
    "whiteList=\"ncbiRefSeqCurated_NM.promotersUp2000Down1000AndExons.txt\"\n",
    "HMRDir=\"/data/hodges_lab/Tim/finalAnalyses_HMRs/hp_lineage/filtRefSeqFiles/\"\n",
    "\n",
    "cd ${dir}\n",
    "\n",
    "######## Code to shuffle and compare closest HMR-HMR distances. Row-by-row dists and avg for a shuffle are each saved in different files. \n",
    "# I want the individual average distances, too. I think it's important to keep. \n",
    "# Neutrophil\n",
    "for i in $(seq 0 ${numIterations})\n",
    "do\n",
    "\t# perform shuffle and record results\n",
    "    # shuffle once\n",
    "\tbedtools shuffle -excl ${whiteList} -i ${HMRDir}Neutrophil.minsize50.filtforrefseqTSSexons.txt -g ${dir}hg19.chromSizes.txt | awk 'BEGIN{FS=OFS=\"\\t\"}{print $1,$2,$3}' - | bedtools sort -i - > ${dir}temps/Neutrophil.shuffle_tmp1.Jul15.txt\n",
    "    # shuffle again\n",
    "\tbedtools shuffle -excl ${whiteList} -i ${HMRDir}Neutrophil.minsize50.filtforrefseqTSSexons.txt -g ${dir}hg19.chromSizes.txt | awk 'BEGIN{FS=OFS=\"\\t\"}{print $1,$2,$3}' - | bedtools sort -i - > ${dir}temps/Neutrophil.shuffle_tmp2.Jul15.txt\n",
    "    # calculate distances\n",
    "\tbedtools closest -io -d -a ${dir}temps/Neutrophil.shuffle_tmp1.Jul15.txt -b ${dir}temps/Neutrophil.shuffle_tmp2.Jul15.txt | awk 'BEGIN{OFS=FS=\"\\t\"}{print $7}' > ${dir}tablesWithIndivDists/Neutrophil.shuffle.${i}.Jul15.txt\n",
    "\t# calculate the average distance for this shuffle run and save\n",
    "\tawk 'BEGIN{OFS=FS=\"\\t\";i=0}{i=(i+$1)}END{print i,(i/NR)}' ${dir}tablesWithIndivDists/Neutrophil.shuffle.${i}.Jul15.txt > ${dir}temps/Neutrophil.avgInterHMRDist.${i}.temp.Jul15.txt\n",
    "done\n",
    "# summarize shuffle results and store as an output file\n",
    "cat ${dir}temps/Neutrophil.avgInterHMRDist.*.temp.Jul15.txt > ${dir}finalCounts/Neutrophil.avgInterHMRDist.all.Jul15.txt\n"
   ]
  },
  {
   "cell_type": "markdown",
   "id": "54ed3dfe",
   "metadata": {},
   "source": [
    "## T cell "
   ]
  },
  {
   "cell_type": "code",
   "execution_count": null,
   "id": "a85765c9",
   "metadata": {},
   "outputs": [],
   "source": [
    "#!/bin/bash\n",
    "#SBATCH --nodes=1\n",
    "#SBATCH --ntasks=1\n",
    "#SBATCH --time=30:00:00\n",
    "#SBATCH --mem=100G\n",
    "#SBATCH --output=interHMR_nullRandom_Tcell.out\n",
    "\n",
    "dir=/data/hodges_lab/Tim/finalAnalyses_HMRs/interHMRdistances/\n",
    "\n",
    "numIterations=10000\n",
    "whiteList=\"ncbiRefSeqCurated_NM.promotersUp2000Down1000AndExons.txt\"\n",
    "HMRDir=\"/data/hodges_lab/Tim/finalAnalyses_HMRs/interHMRdistances/refSeqFilteredBEDs/\"\n",
    "\n",
    "cd ${dir}\n",
    "\n",
    "######## Code to shuffle and compare closest HMR-HMR distances. Row-by-row dists and avg for a shuffle are each saved in different files. \n",
    "# I want the individual average distances, too. I think it's important to keep. \n",
    "# Tcell\n",
    "for i in $(seq 0 ${numIterations})\n",
    "do\n",
    "\t# perform shuffle and record results\n",
    "    # shuffle once\n",
    "\tbedtools shuffle -excl ${whiteList} -i ${HMRDir}Tcell.minsize50.filtforrefseqTSSexons.txt -g ${dir}hg19.chromSizes.txt | awk 'BEGIN{FS=OFS=\"\\t\"}{print $1,$2,$3}' - | bedtools sort -i - > ${dir}temps/Tcell.shuffle_tmp1.txt\n",
    "    # shuffle again\n",
    "\tbedtools shuffle -excl ${whiteList} -i ${HMRDir}Tcell.minsize50.filtforrefseqTSSexons.txt -g ${dir}hg19.chromSizes.txt | awk 'BEGIN{FS=OFS=\"\\t\"}{print $1,$2,$3}' - | bedtools sort -i - > ${dir}temps/Tcell.shuffle_tmp2.txt\n",
    "    # calculate distances\n",
    "\tbedtools closest -io -d -a ${dir}temps/Tcell.shuffle_tmp1.txt -b ${dir}temps/Tcell.shuffle_tmp2.txt | awk 'BEGIN{OFS=FS=\"\\t\"}{print $7}' > ${dir}tablesWithIndivDists/Tcell.shuffle.${i}.txt\n",
    "\t# calculate the average distance for this shuffle run and save\n",
    "\tawk 'BEGIN{OFS=FS=\"\\t\";i=0}{i=(i+$1)}END{print i,(i/NR)}' ${dir}tablesWithIndivDists/Tcell.shuffle.${i}.txt > ${dir}temps/Tcell.avgInterHMRDist.${i}.temp.txt\n",
    "done\n",
    "# summarize shuffle results and store as an output file\n",
    "cat ${dir}temps/Tcell.avgInterHMRDist.*.temp.txt > ${dir}finalCounts/Tcell.avgInterHMRDist.all.txt\n"
   ]
  },
  {
   "cell_type": "markdown",
   "id": "c016cf31",
   "metadata": {},
   "source": [
    "# Summarize the shuffle results"
   ]
  },
  {
   "cell_type": "code",
   "execution_count": 1,
   "id": "37716368",
   "metadata": {},
   "outputs": [],
   "source": [
    "countDir=/data/hodges_lab/Tim/finalAnalyses_HMRs/interHMRdistances/finalCounts/\n",
    "outDir=/data/hodges_lab/Tim/finalAnalyses_HMRs/interHMRdistances/finalCounts/\n",
    "\n",
    "cd $outDir"
   ]
  },
  {
   "cell_type": "code",
   "execution_count": 2,
   "id": "c045c487",
   "metadata": {},
   "outputs": [],
   "source": [
    "# Iterate over celltypes\n",
    "for celltype in Neutrophil\n",
    "do\n",
    "\tawk -v ctype=\"${celltype}\" 'BEGIN{OFS=FS=\"\\t\"}{print $2,ctype}' ${countDir}${celltype}.avgInterHMRDist.all.Jul15.txt > ${outDir}${celltype}.expDistances.txt\n",
    "done\n",
    "\n",
    "rm ${outDir}AllCTs.expDistances.txt\n",
    "cat ${outDir}*expDistances.txt > ${outDir}AllCTs.expDistances.Jul15.txt\n"
   ]
  },
  {
   "cell_type": "code",
   "execution_count": 3,
   "id": "e8f80eef",
   "metadata": {},
   "outputs": [
    {
     "name": "stdout",
     "output_type": "stream",
     "text": [
      "100010 /data/hodges_lab/Tim/finalAnalyses_HMRs/interHMRdistances/finalCounts/AllCTs.expDistances.Jul15.txt\n"
     ]
    }
   ],
   "source": [
    "wc -l ${outDir}AllCTs.expDistances.Jul15.txt"
   ]
  },
  {
   "cell_type": "code",
   "execution_count": 4,
   "id": "f59c34ae",
   "metadata": {},
   "outputs": [
    {
     "name": "stdout",
     "output_type": "stream",
     "text": [
      "10001 Neutrophil.expDistances.txt\n"
     ]
    }
   ],
   "source": [
    "wc -l Neutrophil.expDistances.txt"
   ]
  },
  {
   "cell_type": "code",
   "execution_count": 4,
   "id": "d9de3dc2",
   "metadata": {
    "scrolled": true
   },
   "outputs": [
    {
     "name": "stdout",
     "output_type": "stream",
     "text": [
      "31440.9\tNeutrophil\n",
      "32277.6\tNeutrophil\n",
      "32131.6\tNeutrophil\n",
      "31903.1\tNeutrophil\n",
      "32457.8\tNeutrophil\n",
      "31998.7\tNeutrophil\n",
      "31982.8\tNeutrophil\n",
      "31692.8\tNeutrophil\n",
      "31927.6\tNeutrophil\n",
      "31843.3\tNeutrophil\n"
     ]
    }
   ],
   "source": [
    "head Neutrophil.expDistances.txt"
   ]
  },
  {
   "cell_type": "code",
   "execution_count": 4,
   "id": "3b5e56b5",
   "metadata": {},
   "outputs": [],
   "source": [
    "# Iterate over celltypes\n",
    "for celltype in HSPC Macrophage Tcell \n",
    "do\n",
    "\tawk -v ctype=\"${celltype}\" 'BEGIN{OFS=FS=\"\\t\"}{print $2,ctype}' ${countDir}${celltype}.avgInterHMRDist.all.txt > ${outDir}${celltype}.expDistances.txt\n",
    "done\n",
    "\n",
    "rm ${outDir}AllCTs.expDistances.txt\n",
    "cat ${outDir}*expDistances.txt > ${outDir}AllCTs.expDistances.txt\n"
   ]
  },
  {
   "cell_type": "code",
   "execution_count": 5,
   "id": "d9401398",
   "metadata": {
    "scrolled": true
   },
   "outputs": [
    {
     "name": "stdout",
     "output_type": "stream",
     "text": [
      "-rw-r--r-- 1 scottt7 hodges_lab 155K Apr 19  2021 fSpinal.expDistances.txt\n",
      "-rw-r--r-- 1 scottt7 hodges_lab 135K Apr 19  2021 H1ESC.expDistances.txt\n",
      "-rw-r--r-- 1 scottt7 hodges_lab 135K Apr 19  2021 Liver.expDistances.txt\n",
      "-rw-r--r-- 1 scottt7 hodges_lab 184K Jun 23 23:10 Tcell.avgInterHMRDist.all.txt\n",
      "-rw-r--r-- 1 scottt7 hodges_lab 184K Jun 23 23:13 HSPC.avgInterHMRDist.all.txt\n",
      "-rw-r--r-- 1 scottt7 hodges_lab 184K Jun 24 01:00 Macrophage.avgInterHMRDist.all.txt\n",
      "-rw-r--r-- 1 scottt7 hodges_lab 126K Jun 25 13:53 HSPC.expDistances.txt\n",
      "-rw-r--r-- 1 scottt7 hodges_lab 184K Jun 25 13:53 Macrophage.expDistances.txt\n",
      "-rw-r--r-- 1 scottt7 hodges_lab 135K Jun 25 13:53 Tcell.expDistances.txt\n",
      "-rw-r--r-- 1 scottt7 hodges_lab 1.3M Jun 25 13:53 AllCTs.expDistances.txt\n"
     ]
    }
   ],
   "source": [
    "ls -lhtr | tail"
   ]
  },
  {
   "cell_type": "code",
   "execution_count": 6,
   "id": "fd544c94",
   "metadata": {
    "scrolled": true
   },
   "outputs": [
    {
     "name": "stdout",
     "output_type": "stream",
     "text": [
      "34463.2\tHSPC\n",
      "33972.6\tHSPC\n",
      "34139.8\tHSPC\n",
      "33724.7\tHSPC\n",
      "33992.1\tHSPC\n",
      "33772.5\tHSPC\n",
      "33960.9\tHSPC\n",
      "33696.8\tHSPC\n",
      "33742.5\tHSPC\n",
      "34090.4\tHSPC\n",
      "29173.7\tMacrophage\n",
      "28841.3\tMacrophage\n",
      "28819.2\tMacrophage\n",
      "28736.3\tMacrophage\n",
      "28736\tMacrophage\n",
      "28778.9\tMacrophage\n",
      "28967.4\tMacrophage\n",
      "28607.4\tMacrophage\n",
      "28724.7\tMacrophage\n",
      "28916.7\tMacrophage\n"
     ]
    }
   ],
   "source": [
    "head HSPC.expDistances.txt\n",
    "head Macrophage.expDistances.txt"
   ]
  },
  {
   "cell_type": "markdown",
   "id": "33294e5f",
   "metadata": {},
   "source": [
    "# Calculate and summarize the observed results"
   ]
  },
  {
   "cell_type": "code",
   "execution_count": 1,
   "id": "399030d3",
   "metadata": {},
   "outputs": [],
   "source": [
    "HMR_Dir=/data/hodges_lab/Tim/finalAnalyses_HMRs/interHMRdistances/refSeqFilteredBEDs/\n",
    "outDir_original=/data/hodges_lab/Tim/finalAnalyses_HMRs/interHMRdistances/obsDistances/\n",
    "OUT_DIR=/data/hodges_lab/Tim/finalAnalyses_HMRs/interHMRdistances/obsDistances_reperformedJun252023/\n",
    "mkdir -p $OUT_DIR\n",
    "\n",
    "cd $HMR_Dir\n",
    "\n",
    "for CELLTYPE in Adrenal Bcell fSpinal fHeart H1ESC Liver Macrophage Tcell \n",
    "do\n",
    "bedtools closest -io -d -a ${CELLTYPE}.minsize50.filtforrefseqTSSexons.txt -b ${CELLTYPE}.minsize50.filtforrefseqTSSexons.txt | awk -v ctype=\"${CELLTYPE}\" 'BEGIN{OFS=FS=\"\\t\"}{print $9,ctype}' > ${OUT_DIR}${CELLTYPE}.obsDistances.txt\n",
    "done\n",
    "\n",
    "for CELLTYPE in HSC\n",
    "do\n",
    "bedtools closest -io -d -a ${CELLTYPE}.minsize50.filtforrefseqTSSexons.txt -b ${CELLTYPE}.minsize50.filtforrefseqTSSexons.txt | awk -v ctype=\"HSPC\" 'BEGIN{OFS=FS=\"\\t\"}{print $9,ctype}' > ${OUT_DIR}HSPC.obsDistances.txt\n",
    "done\n",
    "\n",
    "cat ${OUT_DIR}*.obsDistances.txt > ${OUT_DIR}AllCTs.obsDistances.txt"
   ]
  },
  {
   "cell_type": "code",
   "execution_count": 7,
   "id": "4ac1be6c",
   "metadata": {},
   "outputs": [],
   "source": [
    "HMR_Dir=/data/hodges_lab/Tim/finalAnalyses_HMRs/interHMRdistances/refSeqFilteredBEDs/\n",
    "outDir_original=/data/hodges_lab/Tim/finalAnalyses_HMRs/interHMRdistances/obsDistances/\n",
    "OUT_DIR=/data/hodges_lab/Tim/finalAnalyses_HMRs/interHMRdistances/obsDistances_reperformedJun252023/\n",
    "mkdir -p $OUT_DIR\n",
    "\n",
    "cd $HMR_Dir\n",
    "\n",
    "for CELLTYPE in Neutrophil\n",
    "do\n",
    "bedtools closest -io -d -a /data/hodges_lab/Tim/finalAnalyses_HMRs/hp_lineage/filtRefSeqFiles/${CELLTYPE}.minsize50.filtforrefseqTSSexons.txt -b /data/hodges_lab/Tim/finalAnalyses_HMRs/hp_lineage/filtRefSeqFiles/${CELLTYPE}.minsize50.filtforrefseqTSSexons.txt | awk -v ctype=\"${CELLTYPE}\" 'BEGIN{OFS=FS=\"\\t\"}{print $9,ctype}' > ${OUT_DIR}${CELLTYPE}.obsDistances.txt\n",
    "done\n"
   ]
  },
  {
   "cell_type": "code",
   "execution_count": null,
   "id": "16a174b0",
   "metadata": {},
   "outputs": [],
   "source": [
    "# Make a combined file that includes NEUTROPHIL\n",
    "cat H1ESC.obsDistances.txt fSpinal.obsDistances.txt fHeart.obsDistances.txt Adrenal.obsDistances.txt Liver.obsDistances.txt HSPC.obsDistances.txt Macrophage.obsDistances.txt Neutrophil.obsDistances.txt Bcell.obsDistances.txt Tcell.obsDistances.txt > ${OUT_DIR}AllCTs.obsDistances.Jul15.txt"
   ]
  },
  {
   "cell_type": "code",
   "execution_count": 9,
   "id": "1431c5ee",
   "metadata": {},
   "outputs": [
    {
     "name": "stdout",
     "output_type": "stream",
     "text": [
      "49103 /data/hodges_lab/Tim/finalAnalyses_HMRs/hp_lineage/filtRefSeqFiles/Neutrophil.minsize50.filtforrefseqTSSexons.txt\n"
     ]
    }
   ],
   "source": [
    "wc -l /data/hodges_lab/Tim/finalAnalyses_HMRs/hp_lineage/filtRefSeqFiles/${CELLTYPE}.minsize50.filtforrefseqTSSexons.txt"
   ]
  },
  {
   "cell_type": "code",
   "execution_count": 8,
   "id": "7eccfd38",
   "metadata": {},
   "outputs": [
    {
     "name": "stdout",
     "output_type": "stream",
     "text": [
      "744458 /data/hodges_lab/Tim/finalAnalyses_HMRs/interHMRdistances/obsDistances_reperformedJun252023/AllCTs.obsDistances.Jul15.txt\n"
     ]
    }
   ],
   "source": [
    "wc -l ${OUT_DIR}AllCTs.obsDistances.Jul15.txt"
   ]
  },
  {
   "cell_type": "markdown",
   "id": "a939f677",
   "metadata": {},
   "source": [
    "# Plot"
   ]
  },
  {
   "cell_type": "code",
   "execution_count": 3,
   "id": "b4500f9b",
   "metadata": {},
   "outputs": [],
   "source": [
    "library(\"rstatix\")"
   ]
  },
  {
   "cell_type": "code",
   "execution_count": null,
   "id": "e05e03bd",
   "metadata": {},
   "outputs": [],
   "source": []
  },
  {
   "cell_type": "code",
   "execution_count": 4,
   "id": "26d78e48",
   "metadata": {},
   "outputs": [
    {
     "name": "stderr",
     "output_type": "stream",
     "text": [
      "── \u001b[1mAttaching packages\u001b[22m ─────────────────────────────────────── tidyverse 1.3.1 ──\n",
      "\n",
      "\u001b[32m✔\u001b[39m \u001b[34mtibble \u001b[39m 3.2.1     \u001b[32m✔\u001b[39m \u001b[34mdplyr  \u001b[39m 1.1.1\n",
      "\u001b[32m✔\u001b[39m \u001b[34mtidyr  \u001b[39m 1.3.0     \u001b[32m✔\u001b[39m \u001b[34mstringr\u001b[39m 1.5.0\n",
      "\u001b[32m✔\u001b[39m \u001b[34mreadr  \u001b[39m 2.1.2     \u001b[32m✔\u001b[39m \u001b[34mforcats\u001b[39m 0.5.1\n",
      "\u001b[32m✔\u001b[39m \u001b[34mpurrr  \u001b[39m 1.0.1     \n",
      "\n",
      "── \u001b[1mConflicts\u001b[22m ────────────────────────────────────────── tidyverse_conflicts() ──\n",
      "\u001b[31m✖\u001b[39m \u001b[34mdplyr\u001b[39m::\u001b[32mfilter()\u001b[39m masks \u001b[34mrstatix\u001b[39m::filter(), \u001b[34mstats\u001b[39m::filter()\n",
      "\u001b[31m✖\u001b[39m \u001b[34mdplyr\u001b[39m::\u001b[32mlag()\u001b[39m    masks \u001b[34mstats\u001b[39m::lag()\n",
      "\n"
     ]
    },
    {
     "data": {
      "text/html": [
       "<style>\n",
       ".list-inline {list-style: none; margin:0; padding: 0}\n",
       ".list-inline>li {display: inline-block}\n",
       ".list-inline>li:not(:last-child)::after {content: \"\\00b7\"; padding: 0 .5ex}\n",
       "</style>\n",
       "<ol class=list-inline><li>'Adrenal.minsize50.filtforrefseqTSSexons.txt'</li><li>'Bcell.minsize50.filtforrefseqTSSexons.txt'</li><li>'fHeart.minsize50.filtforrefseqTSSexons.txt'</li><li>'finalCounts'</li><li>'fSpinal.minsize50.filtforrefseqTSSexons.txt'</li><li>'graph_interHMRDists.R'</li><li>'H1ESC.minsize50.filtforrefseqTSSexons.txt'</li><li>'hg19.chromSizes.txt'</li><li>'interHMR_nullRandom_Neutrophil.out'</li><li>'interHMRDistances.9celltypes.June252023.AllDistUnder150000.pdf'</li><li>'interHMRDistances.9celltypes.June252023.AllDistUnder500000.pdf'</li><li>'Liver.minsize50.filtforrefseqTSSexons.txt'</li><li>'ncbiRefSeqCurated_NM.promotersUp2000Down1000AndExons.txt'</li><li>'obsDistances'</li><li>'obsDistances_reperformedJun252023'</li><li>'refSeqFilteredBEDs'</li><li>'run_interHMRDists_Neutrophhil.slrm'</li><li>'run_Neut_Jul15.slrm'</li><li>'runScripts'</li><li>'startingBEDs'</li><li>'tablesWithIndivDists'</li><li>'temps'</li></ol>\n"
      ],
      "text/latex": [
       "\\begin{enumerate*}\n",
       "\\item 'Adrenal.minsize50.filtforrefseqTSSexons.txt'\n",
       "\\item 'Bcell.minsize50.filtforrefseqTSSexons.txt'\n",
       "\\item 'fHeart.minsize50.filtforrefseqTSSexons.txt'\n",
       "\\item 'finalCounts'\n",
       "\\item 'fSpinal.minsize50.filtforrefseqTSSexons.txt'\n",
       "\\item 'graph\\_interHMRDists.R'\n",
       "\\item 'H1ESC.minsize50.filtforrefseqTSSexons.txt'\n",
       "\\item 'hg19.chromSizes.txt'\n",
       "\\item 'interHMR\\_nullRandom\\_Neutrophil.out'\n",
       "\\item 'interHMRDistances.9celltypes.June252023.AllDistUnder150000.pdf'\n",
       "\\item 'interHMRDistances.9celltypes.June252023.AllDistUnder500000.pdf'\n",
       "\\item 'Liver.minsize50.filtforrefseqTSSexons.txt'\n",
       "\\item 'ncbiRefSeqCurated\\_NM.promotersUp2000Down1000AndExons.txt'\n",
       "\\item 'obsDistances'\n",
       "\\item 'obsDistances\\_reperformedJun252023'\n",
       "\\item 'refSeqFilteredBEDs'\n",
       "\\item 'run\\_interHMRDists\\_Neutrophhil.slrm'\n",
       "\\item 'run\\_Neut\\_Jul15.slrm'\n",
       "\\item 'runScripts'\n",
       "\\item 'startingBEDs'\n",
       "\\item 'tablesWithIndivDists'\n",
       "\\item 'temps'\n",
       "\\end{enumerate*}\n"
      ],
      "text/markdown": [
       "1. 'Adrenal.minsize50.filtforrefseqTSSexons.txt'\n",
       "2. 'Bcell.minsize50.filtforrefseqTSSexons.txt'\n",
       "3. 'fHeart.minsize50.filtforrefseqTSSexons.txt'\n",
       "4. 'finalCounts'\n",
       "5. 'fSpinal.minsize50.filtforrefseqTSSexons.txt'\n",
       "6. 'graph_interHMRDists.R'\n",
       "7. 'H1ESC.minsize50.filtforrefseqTSSexons.txt'\n",
       "8. 'hg19.chromSizes.txt'\n",
       "9. 'interHMR_nullRandom_Neutrophil.out'\n",
       "10. 'interHMRDistances.9celltypes.June252023.AllDistUnder150000.pdf'\n",
       "11. 'interHMRDistances.9celltypes.June252023.AllDistUnder500000.pdf'\n",
       "12. 'Liver.minsize50.filtforrefseqTSSexons.txt'\n",
       "13. 'ncbiRefSeqCurated_NM.promotersUp2000Down1000AndExons.txt'\n",
       "14. 'obsDistances'\n",
       "15. 'obsDistances_reperformedJun252023'\n",
       "16. 'refSeqFilteredBEDs'\n",
       "17. 'run_interHMRDists_Neutrophhil.slrm'\n",
       "18. 'run_Neut_Jul15.slrm'\n",
       "19. 'runScripts'\n",
       "20. 'startingBEDs'\n",
       "21. 'tablesWithIndivDists'\n",
       "22. 'temps'\n",
       "\n",
       "\n"
      ],
      "text/plain": [
       " [1] \"Adrenal.minsize50.filtforrefseqTSSexons.txt\"                   \n",
       " [2] \"Bcell.minsize50.filtforrefseqTSSexons.txt\"                     \n",
       " [3] \"fHeart.minsize50.filtforrefseqTSSexons.txt\"                    \n",
       " [4] \"finalCounts\"                                                   \n",
       " [5] \"fSpinal.minsize50.filtforrefseqTSSexons.txt\"                   \n",
       " [6] \"graph_interHMRDists.R\"                                         \n",
       " [7] \"H1ESC.minsize50.filtforrefseqTSSexons.txt\"                     \n",
       " [8] \"hg19.chromSizes.txt\"                                           \n",
       " [9] \"interHMR_nullRandom_Neutrophil.out\"                            \n",
       "[10] \"interHMRDistances.9celltypes.June252023.AllDistUnder150000.pdf\"\n",
       "[11] \"interHMRDistances.9celltypes.June252023.AllDistUnder500000.pdf\"\n",
       "[12] \"Liver.minsize50.filtforrefseqTSSexons.txt\"                     \n",
       "[13] \"ncbiRefSeqCurated_NM.promotersUp2000Down1000AndExons.txt\"      \n",
       "[14] \"obsDistances\"                                                  \n",
       "[15] \"obsDistances_reperformedJun252023\"                             \n",
       "[16] \"refSeqFilteredBEDs\"                                            \n",
       "[17] \"run_interHMRDists_Neutrophhil.slrm\"                            \n",
       "[18] \"run_Neut_Jul15.slrm\"                                           \n",
       "[19] \"runScripts\"                                                    \n",
       "[20] \"startingBEDs\"                                                  \n",
       "[21] \"tablesWithIndivDists\"                                          \n",
       "[22] \"temps\"                                                         "
      ]
     },
     "metadata": {},
     "output_type": "display_data"
    }
   ],
   "source": [
    "library(\"ggplot2\")\n",
    "library(\"tidyverse\")\n",
    "library(\"broom\")\n",
    "\n",
    "# Set working directory \n",
    "setwd(\"/data/hodges_lab/Tim/finalAnalyses_HMRs/interHMRdistances/\")\n",
    "list.files()\n"
   ]
  },
  {
   "cell_type": "markdown",
   "id": "cb2b9178",
   "metadata": {},
   "source": [
    "## Load in data "
   ]
  },
  {
   "cell_type": "code",
   "execution_count": 19,
   "id": "995fce1f",
   "metadata": {},
   "outputs": [
    {
     "name": "stderr",
     "output_type": "stream",
     "text": [
      "\u001b[1mRows: \u001b[22m\u001b[34m396781\u001b[39m \u001b[1mColumns: \u001b[22m\u001b[34m2\u001b[39m\n",
      "\u001b[36m──\u001b[39m \u001b[1mColumn specification\u001b[22m \u001b[36m────────────────────────────────────────────────────────\u001b[39m\n",
      "\u001b[1mDelimiter:\u001b[22m \"\\t\"\n",
      "\u001b[31mchr\u001b[39m (1): Celltype\n",
      "\u001b[32mdbl\u001b[39m (1): Distance\n",
      "\n",
      "\u001b[36mℹ\u001b[39m Use `spec()` to retrieve the full column specification for this data.\n",
      "\u001b[36mℹ\u001b[39m Specify the column types or set `show_col_types = FALSE` to quiet this message.\n"
     ]
    }
   ],
   "source": [
    "# Load in table of \"simulated\" shuffled values\n",
    "AllObsDist <- read_tsv(\"./obsDistances_reperformedJun252023/AllCTs.obsDistances.Jul15.txt\", col_names=c(\"Distance\",\"Celltype\")) %>%\n",
    "  mutate(Group=\"Observed\")\n",
    "\n",
    "\n",
    "b <- AllObsDist %>%\n",
    "  dplyr::filter(Distance<50000)\n",
    "AllObsDistUnder150000 <- AllObsDist %>%\n",
    "  dplyr::filter(Distance<150000)\n",
    "AllObsDistUnder500000 <- AllObsDist %>%\n",
    "  dplyr::filter(Distance<500000)\n",
    "AllObsDistUnder1000000 <- AllObsDist %>%\n",
    "  dplyr::filter(Distance<1000000)\n"
   ]
  },
  {
   "cell_type": "code",
   "execution_count": 20,
   "id": "c33f9ec4",
   "metadata": {},
   "outputs": [
    {
     "data": {
      "text/html": [
       "<style>\n",
       ".list-inline {list-style: none; margin:0; padding: 0}\n",
       ".list-inline>li {display: inline-block}\n",
       ".list-inline>li:not(:last-child)::after {content: \"\\00b7\"; padding: 0 .5ex}\n",
       "</style>\n",
       "<ol class=list-inline><li>'Adrenal'</li><li>'Bcell'</li><li>'fHeart'</li><li>'fSpinal'</li><li>'H1ESC'</li><li>'HSPC'</li><li>'Liver'</li><li>'Macrophage'</li><li>'Tcell'</li><li>'Neutrophil'</li></ol>\n"
      ],
      "text/latex": [
       "\\begin{enumerate*}\n",
       "\\item 'Adrenal'\n",
       "\\item 'Bcell'\n",
       "\\item 'fHeart'\n",
       "\\item 'fSpinal'\n",
       "\\item 'H1ESC'\n",
       "\\item 'HSPC'\n",
       "\\item 'Liver'\n",
       "\\item 'Macrophage'\n",
       "\\item 'Tcell'\n",
       "\\item 'Neutrophil'\n",
       "\\end{enumerate*}\n"
      ],
      "text/markdown": [
       "1. 'Adrenal'\n",
       "2. 'Bcell'\n",
       "3. 'fHeart'\n",
       "4. 'fSpinal'\n",
       "5. 'H1ESC'\n",
       "6. 'HSPC'\n",
       "7. 'Liver'\n",
       "8. 'Macrophage'\n",
       "9. 'Tcell'\n",
       "10. 'Neutrophil'\n",
       "\n",
       "\n"
      ],
      "text/plain": [
       " [1] \"Adrenal\"    \"Bcell\"      \"fHeart\"     \"fSpinal\"    \"H1ESC\"     \n",
       " [6] \"HSPC\"       \"Liver\"      \"Macrophage\" \"Tcell\"      \"Neutrophil\""
      ]
     },
     "metadata": {},
     "output_type": "display_data"
    }
   ],
   "source": [
    "unique(AllObsDistUnder50000$Celltype)"
   ]
  },
  {
   "cell_type": "code",
   "execution_count": 21,
   "id": "07cb0721",
   "metadata": {},
   "outputs": [
    {
     "name": "stderr",
     "output_type": "stream",
     "text": [
      "\u001b[1mRows: \u001b[22m\u001b[34m100010\u001b[39m \u001b[1mColumns: \u001b[22m\u001b[34m2\u001b[39m\n",
      "\u001b[36m──\u001b[39m \u001b[1mColumn specification\u001b[22m \u001b[36m────────────────────────────────────────────────────────\u001b[39m\n",
      "\u001b[1mDelimiter:\u001b[22m \"\\t\"\n",
      "\u001b[31mchr\u001b[39m (1): Celltype\n",
      "\u001b[32mdbl\u001b[39m (1): Distance\n",
      "\n",
      "\u001b[36mℹ\u001b[39m Use `spec()` to retrieve the full column specification for this data.\n",
      "\u001b[36mℹ\u001b[39m Specify the column types or set `show_col_types = FALSE` to quiet this message.\n"
     ]
    }
   ],
   "source": [
    "# Load expected values table \n",
    "AllExpDist <- read_tsv(\"./finalCounts/AllCTs.expDistances.Jul15.txt\", col_names=c(\"Distance\",\"Celltype\")) %>%\n",
    "  mutate(Group=\"Expected\")\n"
   ]
  },
  {
   "cell_type": "markdown",
   "id": "a39b2f36",
   "metadata": {},
   "source": [
    "## Try to factor for ordering"
   ]
  },
  {
   "cell_type": "code",
   "execution_count": 22,
   "id": "3e010f6d",
   "metadata": {
    "scrolled": true
   },
   "outputs": [
    {
     "name": "stdout",
     "output_type": "stream",
     "text": [
      "[1] \"Done.\"\n"
     ]
    }
   ],
   "source": [
    "# Combine and filter by length (length max affects the density resolution in plottinng)\n",
    "AllDist <- rbind(AllObsDist,AllExpDist)\n",
    "AllDistUnder150000 <- rbind(AllObsDistUnder150000,AllExpDist)\n",
    "AllDistUnder500000 <- rbind(AllObsDistUnder500000,AllExpDist)\n",
    "AllDistUnder1000000 <- rbind(AllObsDistUnder1000000,AllExpDist)\n",
    "\n",
    "AllDist$Celltype <- factor(AllDist$Celltype, levels=c(\"H1ESC\",\"fSpinal\",\"fHeart\",\"Adrenal\",\"Liver\",\"HSPC\",\"Macrophage\",\"Neutrophil\",\"Bcell\",\"Tcell\"))\n",
    "\n",
    "\n",
    "AllDistUnder150000$Celltype <- factor(AllDistUnder150000$Celltype, levels=c(\"H1ESC\",\"fSpinal\",\"fHeart\",\"Adrenal\",\"Liver\",\"HSPC\",\"Macrophage\",\"Neutrophil\",\"Bcell\",\"Tcell\"))\n",
    "AllDistUnder500000$Celltype <- factor(AllDistUnder500000$Celltype, levels=c(\"H1ESC\",\"fSpinal\",\"fHeart\",\"Adrenal\",\"Liver\",\"HSPC\",\"Macrophage\",\"Neutrophil\",\"Bcell\",\"Tcell\"))\n",
    "AllDistUnder1000000$Celltype <- factor(AllDistUnder1000000$Celltype, levels=c(\"H1ESC\",\"fSpinal\",\"fHeart\",\"Adrenal\",\"Liver\",\"HSPC\",\"Macrophage\",\"Neutrophil\",\"Bcell\",\"Tcell\"))\n",
    "\n",
    "print(\"Done.\")"
   ]
  },
  {
   "cell_type": "code",
   "execution_count": 23,
   "id": "f3101758",
   "metadata": {
    "scrolled": true
   },
   "outputs": [
    {
     "data": {
      "text/html": [
       "<table class=\"dataframe\">\n",
       "<caption>A tibble: 495037 × 3</caption>\n",
       "<thead>\n",
       "\t<tr><th scope=col>Distance</th><th scope=col>Celltype</th><th scope=col>Group</th></tr>\n",
       "\t<tr><th scope=col>&lt;dbl&gt;</th><th scope=col>&lt;fct&gt;</th><th scope=col>&lt;chr&gt;</th></tr>\n",
       "</thead>\n",
       "<tbody>\n",
       "\t<tr><td>  144</td><td>H1ESC</td><td>Observed</td></tr>\n",
       "\t<tr><td>  144</td><td>H1ESC</td><td>Observed</td></tr>\n",
       "\t<tr><td>   99</td><td>H1ESC</td><td>Observed</td></tr>\n",
       "\t<tr><td>   99</td><td>H1ESC</td><td>Observed</td></tr>\n",
       "\t<tr><td>  135</td><td>H1ESC</td><td>Observed</td></tr>\n",
       "\t<tr><td>  135</td><td>H1ESC</td><td>Observed</td></tr>\n",
       "\t<tr><td>  174</td><td>H1ESC</td><td>Observed</td></tr>\n",
       "\t<tr><td> 9427</td><td>H1ESC</td><td>Observed</td></tr>\n",
       "\t<tr><td> 9427</td><td>H1ESC</td><td>Observed</td></tr>\n",
       "\t<tr><td>37828</td><td>H1ESC</td><td>Observed</td></tr>\n",
       "\t<tr><td>34149</td><td>H1ESC</td><td>Observed</td></tr>\n",
       "\t<tr><td>  133</td><td>H1ESC</td><td>Observed</td></tr>\n",
       "\t<tr><td>  133</td><td>H1ESC</td><td>Observed</td></tr>\n",
       "\t<tr><td>12388</td><td>H1ESC</td><td>Observed</td></tr>\n",
       "\t<tr><td>12388</td><td>H1ESC</td><td>Observed</td></tr>\n",
       "\t<tr><td>40105</td><td>H1ESC</td><td>Observed</td></tr>\n",
       "\t<tr><td>15033</td><td>H1ESC</td><td>Observed</td></tr>\n",
       "\t<tr><td>15033</td><td>H1ESC</td><td>Observed</td></tr>\n",
       "\t<tr><td> 3843</td><td>H1ESC</td><td>Observed</td></tr>\n",
       "\t<tr><td> 3843</td><td>H1ESC</td><td>Observed</td></tr>\n",
       "\t<tr><td> 4111</td><td>H1ESC</td><td>Observed</td></tr>\n",
       "\t<tr><td> 9645</td><td>H1ESC</td><td>Observed</td></tr>\n",
       "\t<tr><td>14293</td><td>H1ESC</td><td>Observed</td></tr>\n",
       "\t<tr><td>  166</td><td>H1ESC</td><td>Observed</td></tr>\n",
       "\t<tr><td>  166</td><td>H1ESC</td><td>Observed</td></tr>\n",
       "\t<tr><td> 4135</td><td>H1ESC</td><td>Observed</td></tr>\n",
       "\t<tr><td>   94</td><td>H1ESC</td><td>Observed</td></tr>\n",
       "\t<tr><td>   94</td><td>H1ESC</td><td>Observed</td></tr>\n",
       "\t<tr><td> 1675</td><td>H1ESC</td><td>Observed</td></tr>\n",
       "\t<tr><td>36099</td><td>H1ESC</td><td>Observed</td></tr>\n",
       "\t<tr><td>⋮</td><td>⋮</td><td>⋮</td></tr>\n",
       "\t<tr><td>47713.8</td><td>Tcell</td><td>Expected</td></tr>\n",
       "\t<tr><td>49081.0</td><td>Tcell</td><td>Expected</td></tr>\n",
       "\t<tr><td>47953.0</td><td>Tcell</td><td>Expected</td></tr>\n",
       "\t<tr><td>48451.2</td><td>Tcell</td><td>Expected</td></tr>\n",
       "\t<tr><td>48256.1</td><td>Tcell</td><td>Expected</td></tr>\n",
       "\t<tr><td>48111.1</td><td>Tcell</td><td>Expected</td></tr>\n",
       "\t<tr><td>49300.4</td><td>Tcell</td><td>Expected</td></tr>\n",
       "\t<tr><td>47650.2</td><td>Tcell</td><td>Expected</td></tr>\n",
       "\t<tr><td>48092.4</td><td>Tcell</td><td>Expected</td></tr>\n",
       "\t<tr><td>48596.2</td><td>Tcell</td><td>Expected</td></tr>\n",
       "\t<tr><td>49002.6</td><td>Tcell</td><td>Expected</td></tr>\n",
       "\t<tr><td>47948.8</td><td>Tcell</td><td>Expected</td></tr>\n",
       "\t<tr><td>47852.5</td><td>Tcell</td><td>Expected</td></tr>\n",
       "\t<tr><td>47880.9</td><td>Tcell</td><td>Expected</td></tr>\n",
       "\t<tr><td>47948.7</td><td>Tcell</td><td>Expected</td></tr>\n",
       "\t<tr><td>48818.5</td><td>Tcell</td><td>Expected</td></tr>\n",
       "\t<tr><td>48778.7</td><td>Tcell</td><td>Expected</td></tr>\n",
       "\t<tr><td>48353.9</td><td>Tcell</td><td>Expected</td></tr>\n",
       "\t<tr><td>48670.1</td><td>Tcell</td><td>Expected</td></tr>\n",
       "\t<tr><td>47963.3</td><td>Tcell</td><td>Expected</td></tr>\n",
       "\t<tr><td>47944.1</td><td>Tcell</td><td>Expected</td></tr>\n",
       "\t<tr><td>48152.3</td><td>Tcell</td><td>Expected</td></tr>\n",
       "\t<tr><td>47982.7</td><td>Tcell</td><td>Expected</td></tr>\n",
       "\t<tr><td>48524.0</td><td>Tcell</td><td>Expected</td></tr>\n",
       "\t<tr><td>48197.7</td><td>Tcell</td><td>Expected</td></tr>\n",
       "\t<tr><td>48358.6</td><td>Tcell</td><td>Expected</td></tr>\n",
       "\t<tr><td>48429.3</td><td>Tcell</td><td>Expected</td></tr>\n",
       "\t<tr><td>48217.4</td><td>Tcell</td><td>Expected</td></tr>\n",
       "\t<tr><td>48061.1</td><td>Tcell</td><td>Expected</td></tr>\n",
       "\t<tr><td>48500.0</td><td>Tcell</td><td>Expected</td></tr>\n",
       "</tbody>\n",
       "</table>\n"
      ],
      "text/latex": [
       "A tibble: 495037 × 3\n",
       "\\begin{tabular}{lll}\n",
       " Distance & Celltype & Group\\\\\n",
       " <dbl> & <fct> & <chr>\\\\\n",
       "\\hline\n",
       "\t   144 & H1ESC & Observed\\\\\n",
       "\t   144 & H1ESC & Observed\\\\\n",
       "\t    99 & H1ESC & Observed\\\\\n",
       "\t    99 & H1ESC & Observed\\\\\n",
       "\t   135 & H1ESC & Observed\\\\\n",
       "\t   135 & H1ESC & Observed\\\\\n",
       "\t   174 & H1ESC & Observed\\\\\n",
       "\t  9427 & H1ESC & Observed\\\\\n",
       "\t  9427 & H1ESC & Observed\\\\\n",
       "\t 37828 & H1ESC & Observed\\\\\n",
       "\t 34149 & H1ESC & Observed\\\\\n",
       "\t   133 & H1ESC & Observed\\\\\n",
       "\t   133 & H1ESC & Observed\\\\\n",
       "\t 12388 & H1ESC & Observed\\\\\n",
       "\t 12388 & H1ESC & Observed\\\\\n",
       "\t 40105 & H1ESC & Observed\\\\\n",
       "\t 15033 & H1ESC & Observed\\\\\n",
       "\t 15033 & H1ESC & Observed\\\\\n",
       "\t  3843 & H1ESC & Observed\\\\\n",
       "\t  3843 & H1ESC & Observed\\\\\n",
       "\t  4111 & H1ESC & Observed\\\\\n",
       "\t  9645 & H1ESC & Observed\\\\\n",
       "\t 14293 & H1ESC & Observed\\\\\n",
       "\t   166 & H1ESC & Observed\\\\\n",
       "\t   166 & H1ESC & Observed\\\\\n",
       "\t  4135 & H1ESC & Observed\\\\\n",
       "\t    94 & H1ESC & Observed\\\\\n",
       "\t    94 & H1ESC & Observed\\\\\n",
       "\t  1675 & H1ESC & Observed\\\\\n",
       "\t 36099 & H1ESC & Observed\\\\\n",
       "\t ⋮ & ⋮ & ⋮\\\\\n",
       "\t 47713.8 & Tcell & Expected\\\\\n",
       "\t 49081.0 & Tcell & Expected\\\\\n",
       "\t 47953.0 & Tcell & Expected\\\\\n",
       "\t 48451.2 & Tcell & Expected\\\\\n",
       "\t 48256.1 & Tcell & Expected\\\\\n",
       "\t 48111.1 & Tcell & Expected\\\\\n",
       "\t 49300.4 & Tcell & Expected\\\\\n",
       "\t 47650.2 & Tcell & Expected\\\\\n",
       "\t 48092.4 & Tcell & Expected\\\\\n",
       "\t 48596.2 & Tcell & Expected\\\\\n",
       "\t 49002.6 & Tcell & Expected\\\\\n",
       "\t 47948.8 & Tcell & Expected\\\\\n",
       "\t 47852.5 & Tcell & Expected\\\\\n",
       "\t 47880.9 & Tcell & Expected\\\\\n",
       "\t 47948.7 & Tcell & Expected\\\\\n",
       "\t 48818.5 & Tcell & Expected\\\\\n",
       "\t 48778.7 & Tcell & Expected\\\\\n",
       "\t 48353.9 & Tcell & Expected\\\\\n",
       "\t 48670.1 & Tcell & Expected\\\\\n",
       "\t 47963.3 & Tcell & Expected\\\\\n",
       "\t 47944.1 & Tcell & Expected\\\\\n",
       "\t 48152.3 & Tcell & Expected\\\\\n",
       "\t 47982.7 & Tcell & Expected\\\\\n",
       "\t 48524.0 & Tcell & Expected\\\\\n",
       "\t 48197.7 & Tcell & Expected\\\\\n",
       "\t 48358.6 & Tcell & Expected\\\\\n",
       "\t 48429.3 & Tcell & Expected\\\\\n",
       "\t 48217.4 & Tcell & Expected\\\\\n",
       "\t 48061.1 & Tcell & Expected\\\\\n",
       "\t 48500.0 & Tcell & Expected\\\\\n",
       "\\end{tabular}\n"
      ],
      "text/markdown": [
       "\n",
       "A tibble: 495037 × 3\n",
       "\n",
       "| Distance &lt;dbl&gt; | Celltype &lt;fct&gt; | Group &lt;chr&gt; |\n",
       "|---|---|---|\n",
       "|   144 | H1ESC | Observed |\n",
       "|   144 | H1ESC | Observed |\n",
       "|    99 | H1ESC | Observed |\n",
       "|    99 | H1ESC | Observed |\n",
       "|   135 | H1ESC | Observed |\n",
       "|   135 | H1ESC | Observed |\n",
       "|   174 | H1ESC | Observed |\n",
       "|  9427 | H1ESC | Observed |\n",
       "|  9427 | H1ESC | Observed |\n",
       "| 37828 | H1ESC | Observed |\n",
       "| 34149 | H1ESC | Observed |\n",
       "|   133 | H1ESC | Observed |\n",
       "|   133 | H1ESC | Observed |\n",
       "| 12388 | H1ESC | Observed |\n",
       "| 12388 | H1ESC | Observed |\n",
       "| 40105 | H1ESC | Observed |\n",
       "| 15033 | H1ESC | Observed |\n",
       "| 15033 | H1ESC | Observed |\n",
       "|  3843 | H1ESC | Observed |\n",
       "|  3843 | H1ESC | Observed |\n",
       "|  4111 | H1ESC | Observed |\n",
       "|  9645 | H1ESC | Observed |\n",
       "| 14293 | H1ESC | Observed |\n",
       "|   166 | H1ESC | Observed |\n",
       "|   166 | H1ESC | Observed |\n",
       "|  4135 | H1ESC | Observed |\n",
       "|    94 | H1ESC | Observed |\n",
       "|    94 | H1ESC | Observed |\n",
       "|  1675 | H1ESC | Observed |\n",
       "| 36099 | H1ESC | Observed |\n",
       "| ⋮ | ⋮ | ⋮ |\n",
       "| 47713.8 | Tcell | Expected |\n",
       "| 49081.0 | Tcell | Expected |\n",
       "| 47953.0 | Tcell | Expected |\n",
       "| 48451.2 | Tcell | Expected |\n",
       "| 48256.1 | Tcell | Expected |\n",
       "| 48111.1 | Tcell | Expected |\n",
       "| 49300.4 | Tcell | Expected |\n",
       "| 47650.2 | Tcell | Expected |\n",
       "| 48092.4 | Tcell | Expected |\n",
       "| 48596.2 | Tcell | Expected |\n",
       "| 49002.6 | Tcell | Expected |\n",
       "| 47948.8 | Tcell | Expected |\n",
       "| 47852.5 | Tcell | Expected |\n",
       "| 47880.9 | Tcell | Expected |\n",
       "| 47948.7 | Tcell | Expected |\n",
       "| 48818.5 | Tcell | Expected |\n",
       "| 48778.7 | Tcell | Expected |\n",
       "| 48353.9 | Tcell | Expected |\n",
       "| 48670.1 | Tcell | Expected |\n",
       "| 47963.3 | Tcell | Expected |\n",
       "| 47944.1 | Tcell | Expected |\n",
       "| 48152.3 | Tcell | Expected |\n",
       "| 47982.7 | Tcell | Expected |\n",
       "| 48524.0 | Tcell | Expected |\n",
       "| 48197.7 | Tcell | Expected |\n",
       "| 48358.6 | Tcell | Expected |\n",
       "| 48429.3 | Tcell | Expected |\n",
       "| 48217.4 | Tcell | Expected |\n",
       "| 48061.1 | Tcell | Expected |\n",
       "| 48500.0 | Tcell | Expected |\n",
       "\n"
      ],
      "text/plain": [
       "       Distance Celltype Group   \n",
       "1        144    H1ESC    Observed\n",
       "2        144    H1ESC    Observed\n",
       "3         99    H1ESC    Observed\n",
       "4         99    H1ESC    Observed\n",
       "5        135    H1ESC    Observed\n",
       "6        135    H1ESC    Observed\n",
       "7        174    H1ESC    Observed\n",
       "8       9427    H1ESC    Observed\n",
       "9       9427    H1ESC    Observed\n",
       "10     37828    H1ESC    Observed\n",
       "11     34149    H1ESC    Observed\n",
       "12       133    H1ESC    Observed\n",
       "13       133    H1ESC    Observed\n",
       "14     12388    H1ESC    Observed\n",
       "15     12388    H1ESC    Observed\n",
       "16     40105    H1ESC    Observed\n",
       "17     15033    H1ESC    Observed\n",
       "18     15033    H1ESC    Observed\n",
       "19      3843    H1ESC    Observed\n",
       "20      3843    H1ESC    Observed\n",
       "21      4111    H1ESC    Observed\n",
       "22      9645    H1ESC    Observed\n",
       "23     14293    H1ESC    Observed\n",
       "24       166    H1ESC    Observed\n",
       "25       166    H1ESC    Observed\n",
       "26      4135    H1ESC    Observed\n",
       "27        94    H1ESC    Observed\n",
       "28        94    H1ESC    Observed\n",
       "29      1675    H1ESC    Observed\n",
       "30     36099    H1ESC    Observed\n",
       "⋮      ⋮        ⋮        ⋮       \n",
       "495008 47713.8  Tcell    Expected\n",
       "495009 49081.0  Tcell    Expected\n",
       "495010 47953.0  Tcell    Expected\n",
       "495011 48451.2  Tcell    Expected\n",
       "495012 48256.1  Tcell    Expected\n",
       "495013 48111.1  Tcell    Expected\n",
       "495014 49300.4  Tcell    Expected\n",
       "495015 47650.2  Tcell    Expected\n",
       "495016 48092.4  Tcell    Expected\n",
       "495017 48596.2  Tcell    Expected\n",
       "495018 49002.6  Tcell    Expected\n",
       "495019 47948.8  Tcell    Expected\n",
       "495020 47852.5  Tcell    Expected\n",
       "495021 47880.9  Tcell    Expected\n",
       "495022 47948.7  Tcell    Expected\n",
       "495023 48818.5  Tcell    Expected\n",
       "495024 48778.7  Tcell    Expected\n",
       "495025 48353.9  Tcell    Expected\n",
       "495026 48670.1  Tcell    Expected\n",
       "495027 47963.3  Tcell    Expected\n",
       "495028 47944.1  Tcell    Expected\n",
       "495029 48152.3  Tcell    Expected\n",
       "495030 47982.7  Tcell    Expected\n",
       "495031 48524.0  Tcell    Expected\n",
       "495032 48197.7  Tcell    Expected\n",
       "495033 48358.6  Tcell    Expected\n",
       "495034 48429.3  Tcell    Expected\n",
       "495035 48217.4  Tcell    Expected\n",
       "495036 48061.1  Tcell    Expected\n",
       "495037 48500.0  Tcell    Expected"
      ]
     },
     "metadata": {},
     "output_type": "display_data"
    }
   ],
   "source": [
    "AllDistUnder500000"
   ]
  },
  {
   "cell_type": "code",
   "execution_count": 24,
   "id": "efae795a",
   "metadata": {
    "scrolled": true
   },
   "outputs": [
    {
     "data": {
      "text/html": [
       "<table class=\"dataframe\">\n",
       "<caption>A tibble: 10 × 1</caption>\n",
       "<thead>\n",
       "\t<tr><th scope=col>Celltype</th></tr>\n",
       "\t<tr><th scope=col>&lt;fct&gt;</th></tr>\n",
       "</thead>\n",
       "<tbody>\n",
       "\t<tr><td>H1ESC     </td></tr>\n",
       "\t<tr><td>fSpinal   </td></tr>\n",
       "\t<tr><td>fHeart    </td></tr>\n",
       "\t<tr><td>Adrenal   </td></tr>\n",
       "\t<tr><td>Liver     </td></tr>\n",
       "\t<tr><td>HSPC      </td></tr>\n",
       "\t<tr><td>Macrophage</td></tr>\n",
       "\t<tr><td>Neutrophil</td></tr>\n",
       "\t<tr><td>Bcell     </td></tr>\n",
       "\t<tr><td>Tcell     </td></tr>\n",
       "</tbody>\n",
       "</table>\n"
      ],
      "text/latex": [
       "A tibble: 10 × 1\n",
       "\\begin{tabular}{l}\n",
       " Celltype\\\\\n",
       " <fct>\\\\\n",
       "\\hline\n",
       "\t H1ESC     \\\\\n",
       "\t fSpinal   \\\\\n",
       "\t fHeart    \\\\\n",
       "\t Adrenal   \\\\\n",
       "\t Liver     \\\\\n",
       "\t HSPC      \\\\\n",
       "\t Macrophage\\\\\n",
       "\t Neutrophil\\\\\n",
       "\t Bcell     \\\\\n",
       "\t Tcell     \\\\\n",
       "\\end{tabular}\n"
      ],
      "text/markdown": [
       "\n",
       "A tibble: 10 × 1\n",
       "\n",
       "| Celltype &lt;fct&gt; |\n",
       "|---|\n",
       "| H1ESC      |\n",
       "| fSpinal    |\n",
       "| fHeart     |\n",
       "| Adrenal    |\n",
       "| Liver      |\n",
       "| HSPC       |\n",
       "| Macrophage |\n",
       "| Neutrophil |\n",
       "| Bcell      |\n",
       "| Tcell      |\n",
       "\n"
      ],
      "text/plain": [
       "   Celltype  \n",
       "1  H1ESC     \n",
       "2  fSpinal   \n",
       "3  fHeart    \n",
       "4  Adrenal   \n",
       "5  Liver     \n",
       "6  HSPC      \n",
       "7  Macrophage\n",
       "8  Neutrophil\n",
       "9  Bcell     \n",
       "10 Tcell     "
      ]
     },
     "metadata": {},
     "output_type": "display_data"
    }
   ],
   "source": [
    "AllDistUnder500000 %>% filter(Group==\"Observed\") %>% select(Celltype) %>% unique()"
   ]
  },
  {
   "cell_type": "markdown",
   "id": "1cc395b8",
   "metadata": {},
   "source": [
    "## Stats"
   ]
  },
  {
   "cell_type": "code",
   "execution_count": 25,
   "id": "a7f1ba32",
   "metadata": {
    "scrolled": true
   },
   "outputs": [
    {
     "data": {
      "text/html": [
       "<table class=\"dataframe\">\n",
       "<caption>A tibble: 495037 × 3</caption>\n",
       "<thead>\n",
       "\t<tr><th scope=col>Distance</th><th scope=col>Celltype</th><th scope=col>Group</th></tr>\n",
       "\t<tr><th scope=col>&lt;dbl&gt;</th><th scope=col>&lt;fct&gt;</th><th scope=col>&lt;chr&gt;</th></tr>\n",
       "</thead>\n",
       "<tbody>\n",
       "\t<tr><td>  144</td><td>H1ESC</td><td>Observed</td></tr>\n",
       "\t<tr><td>  144</td><td>H1ESC</td><td>Observed</td></tr>\n",
       "\t<tr><td>   99</td><td>H1ESC</td><td>Observed</td></tr>\n",
       "\t<tr><td>   99</td><td>H1ESC</td><td>Observed</td></tr>\n",
       "\t<tr><td>  135</td><td>H1ESC</td><td>Observed</td></tr>\n",
       "\t<tr><td>  135</td><td>H1ESC</td><td>Observed</td></tr>\n",
       "\t<tr><td>  174</td><td>H1ESC</td><td>Observed</td></tr>\n",
       "\t<tr><td> 9427</td><td>H1ESC</td><td>Observed</td></tr>\n",
       "\t<tr><td> 9427</td><td>H1ESC</td><td>Observed</td></tr>\n",
       "\t<tr><td>37828</td><td>H1ESC</td><td>Observed</td></tr>\n",
       "\t<tr><td>34149</td><td>H1ESC</td><td>Observed</td></tr>\n",
       "\t<tr><td>  133</td><td>H1ESC</td><td>Observed</td></tr>\n",
       "\t<tr><td>  133</td><td>H1ESC</td><td>Observed</td></tr>\n",
       "\t<tr><td>12388</td><td>H1ESC</td><td>Observed</td></tr>\n",
       "\t<tr><td>12388</td><td>H1ESC</td><td>Observed</td></tr>\n",
       "\t<tr><td>40105</td><td>H1ESC</td><td>Observed</td></tr>\n",
       "\t<tr><td>15033</td><td>H1ESC</td><td>Observed</td></tr>\n",
       "\t<tr><td>15033</td><td>H1ESC</td><td>Observed</td></tr>\n",
       "\t<tr><td> 3843</td><td>H1ESC</td><td>Observed</td></tr>\n",
       "\t<tr><td> 3843</td><td>H1ESC</td><td>Observed</td></tr>\n",
       "\t<tr><td> 4111</td><td>H1ESC</td><td>Observed</td></tr>\n",
       "\t<tr><td> 9645</td><td>H1ESC</td><td>Observed</td></tr>\n",
       "\t<tr><td>14293</td><td>H1ESC</td><td>Observed</td></tr>\n",
       "\t<tr><td>  166</td><td>H1ESC</td><td>Observed</td></tr>\n",
       "\t<tr><td>  166</td><td>H1ESC</td><td>Observed</td></tr>\n",
       "\t<tr><td> 4135</td><td>H1ESC</td><td>Observed</td></tr>\n",
       "\t<tr><td>   94</td><td>H1ESC</td><td>Observed</td></tr>\n",
       "\t<tr><td>   94</td><td>H1ESC</td><td>Observed</td></tr>\n",
       "\t<tr><td> 1675</td><td>H1ESC</td><td>Observed</td></tr>\n",
       "\t<tr><td>36099</td><td>H1ESC</td><td>Observed</td></tr>\n",
       "\t<tr><td>⋮</td><td>⋮</td><td>⋮</td></tr>\n",
       "\t<tr><td>47713.8</td><td>Tcell</td><td>Expected</td></tr>\n",
       "\t<tr><td>49081.0</td><td>Tcell</td><td>Expected</td></tr>\n",
       "\t<tr><td>47953.0</td><td>Tcell</td><td>Expected</td></tr>\n",
       "\t<tr><td>48451.2</td><td>Tcell</td><td>Expected</td></tr>\n",
       "\t<tr><td>48256.1</td><td>Tcell</td><td>Expected</td></tr>\n",
       "\t<tr><td>48111.1</td><td>Tcell</td><td>Expected</td></tr>\n",
       "\t<tr><td>49300.4</td><td>Tcell</td><td>Expected</td></tr>\n",
       "\t<tr><td>47650.2</td><td>Tcell</td><td>Expected</td></tr>\n",
       "\t<tr><td>48092.4</td><td>Tcell</td><td>Expected</td></tr>\n",
       "\t<tr><td>48596.2</td><td>Tcell</td><td>Expected</td></tr>\n",
       "\t<tr><td>49002.6</td><td>Tcell</td><td>Expected</td></tr>\n",
       "\t<tr><td>47948.8</td><td>Tcell</td><td>Expected</td></tr>\n",
       "\t<tr><td>47852.5</td><td>Tcell</td><td>Expected</td></tr>\n",
       "\t<tr><td>47880.9</td><td>Tcell</td><td>Expected</td></tr>\n",
       "\t<tr><td>47948.7</td><td>Tcell</td><td>Expected</td></tr>\n",
       "\t<tr><td>48818.5</td><td>Tcell</td><td>Expected</td></tr>\n",
       "\t<tr><td>48778.7</td><td>Tcell</td><td>Expected</td></tr>\n",
       "\t<tr><td>48353.9</td><td>Tcell</td><td>Expected</td></tr>\n",
       "\t<tr><td>48670.1</td><td>Tcell</td><td>Expected</td></tr>\n",
       "\t<tr><td>47963.3</td><td>Tcell</td><td>Expected</td></tr>\n",
       "\t<tr><td>47944.1</td><td>Tcell</td><td>Expected</td></tr>\n",
       "\t<tr><td>48152.3</td><td>Tcell</td><td>Expected</td></tr>\n",
       "\t<tr><td>47982.7</td><td>Tcell</td><td>Expected</td></tr>\n",
       "\t<tr><td>48524.0</td><td>Tcell</td><td>Expected</td></tr>\n",
       "\t<tr><td>48197.7</td><td>Tcell</td><td>Expected</td></tr>\n",
       "\t<tr><td>48358.6</td><td>Tcell</td><td>Expected</td></tr>\n",
       "\t<tr><td>48429.3</td><td>Tcell</td><td>Expected</td></tr>\n",
       "\t<tr><td>48217.4</td><td>Tcell</td><td>Expected</td></tr>\n",
       "\t<tr><td>48061.1</td><td>Tcell</td><td>Expected</td></tr>\n",
       "\t<tr><td>48500.0</td><td>Tcell</td><td>Expected</td></tr>\n",
       "</tbody>\n",
       "</table>\n"
      ],
      "text/latex": [
       "A tibble: 495037 × 3\n",
       "\\begin{tabular}{lll}\n",
       " Distance & Celltype & Group\\\\\n",
       " <dbl> & <fct> & <chr>\\\\\n",
       "\\hline\n",
       "\t   144 & H1ESC & Observed\\\\\n",
       "\t   144 & H1ESC & Observed\\\\\n",
       "\t    99 & H1ESC & Observed\\\\\n",
       "\t    99 & H1ESC & Observed\\\\\n",
       "\t   135 & H1ESC & Observed\\\\\n",
       "\t   135 & H1ESC & Observed\\\\\n",
       "\t   174 & H1ESC & Observed\\\\\n",
       "\t  9427 & H1ESC & Observed\\\\\n",
       "\t  9427 & H1ESC & Observed\\\\\n",
       "\t 37828 & H1ESC & Observed\\\\\n",
       "\t 34149 & H1ESC & Observed\\\\\n",
       "\t   133 & H1ESC & Observed\\\\\n",
       "\t   133 & H1ESC & Observed\\\\\n",
       "\t 12388 & H1ESC & Observed\\\\\n",
       "\t 12388 & H1ESC & Observed\\\\\n",
       "\t 40105 & H1ESC & Observed\\\\\n",
       "\t 15033 & H1ESC & Observed\\\\\n",
       "\t 15033 & H1ESC & Observed\\\\\n",
       "\t  3843 & H1ESC & Observed\\\\\n",
       "\t  3843 & H1ESC & Observed\\\\\n",
       "\t  4111 & H1ESC & Observed\\\\\n",
       "\t  9645 & H1ESC & Observed\\\\\n",
       "\t 14293 & H1ESC & Observed\\\\\n",
       "\t   166 & H1ESC & Observed\\\\\n",
       "\t   166 & H1ESC & Observed\\\\\n",
       "\t  4135 & H1ESC & Observed\\\\\n",
       "\t    94 & H1ESC & Observed\\\\\n",
       "\t    94 & H1ESC & Observed\\\\\n",
       "\t  1675 & H1ESC & Observed\\\\\n",
       "\t 36099 & H1ESC & Observed\\\\\n",
       "\t ⋮ & ⋮ & ⋮\\\\\n",
       "\t 47713.8 & Tcell & Expected\\\\\n",
       "\t 49081.0 & Tcell & Expected\\\\\n",
       "\t 47953.0 & Tcell & Expected\\\\\n",
       "\t 48451.2 & Tcell & Expected\\\\\n",
       "\t 48256.1 & Tcell & Expected\\\\\n",
       "\t 48111.1 & Tcell & Expected\\\\\n",
       "\t 49300.4 & Tcell & Expected\\\\\n",
       "\t 47650.2 & Tcell & Expected\\\\\n",
       "\t 48092.4 & Tcell & Expected\\\\\n",
       "\t 48596.2 & Tcell & Expected\\\\\n",
       "\t 49002.6 & Tcell & Expected\\\\\n",
       "\t 47948.8 & Tcell & Expected\\\\\n",
       "\t 47852.5 & Tcell & Expected\\\\\n",
       "\t 47880.9 & Tcell & Expected\\\\\n",
       "\t 47948.7 & Tcell & Expected\\\\\n",
       "\t 48818.5 & Tcell & Expected\\\\\n",
       "\t 48778.7 & Tcell & Expected\\\\\n",
       "\t 48353.9 & Tcell & Expected\\\\\n",
       "\t 48670.1 & Tcell & Expected\\\\\n",
       "\t 47963.3 & Tcell & Expected\\\\\n",
       "\t 47944.1 & Tcell & Expected\\\\\n",
       "\t 48152.3 & Tcell & Expected\\\\\n",
       "\t 47982.7 & Tcell & Expected\\\\\n",
       "\t 48524.0 & Tcell & Expected\\\\\n",
       "\t 48197.7 & Tcell & Expected\\\\\n",
       "\t 48358.6 & Tcell & Expected\\\\\n",
       "\t 48429.3 & Tcell & Expected\\\\\n",
       "\t 48217.4 & Tcell & Expected\\\\\n",
       "\t 48061.1 & Tcell & Expected\\\\\n",
       "\t 48500.0 & Tcell & Expected\\\\\n",
       "\\end{tabular}\n"
      ],
      "text/markdown": [
       "\n",
       "A tibble: 495037 × 3\n",
       "\n",
       "| Distance &lt;dbl&gt; | Celltype &lt;fct&gt; | Group &lt;chr&gt; |\n",
       "|---|---|---|\n",
       "|   144 | H1ESC | Observed |\n",
       "|   144 | H1ESC | Observed |\n",
       "|    99 | H1ESC | Observed |\n",
       "|    99 | H1ESC | Observed |\n",
       "|   135 | H1ESC | Observed |\n",
       "|   135 | H1ESC | Observed |\n",
       "|   174 | H1ESC | Observed |\n",
       "|  9427 | H1ESC | Observed |\n",
       "|  9427 | H1ESC | Observed |\n",
       "| 37828 | H1ESC | Observed |\n",
       "| 34149 | H1ESC | Observed |\n",
       "|   133 | H1ESC | Observed |\n",
       "|   133 | H1ESC | Observed |\n",
       "| 12388 | H1ESC | Observed |\n",
       "| 12388 | H1ESC | Observed |\n",
       "| 40105 | H1ESC | Observed |\n",
       "| 15033 | H1ESC | Observed |\n",
       "| 15033 | H1ESC | Observed |\n",
       "|  3843 | H1ESC | Observed |\n",
       "|  3843 | H1ESC | Observed |\n",
       "|  4111 | H1ESC | Observed |\n",
       "|  9645 | H1ESC | Observed |\n",
       "| 14293 | H1ESC | Observed |\n",
       "|   166 | H1ESC | Observed |\n",
       "|   166 | H1ESC | Observed |\n",
       "|  4135 | H1ESC | Observed |\n",
       "|    94 | H1ESC | Observed |\n",
       "|    94 | H1ESC | Observed |\n",
       "|  1675 | H1ESC | Observed |\n",
       "| 36099 | H1ESC | Observed |\n",
       "| ⋮ | ⋮ | ⋮ |\n",
       "| 47713.8 | Tcell | Expected |\n",
       "| 49081.0 | Tcell | Expected |\n",
       "| 47953.0 | Tcell | Expected |\n",
       "| 48451.2 | Tcell | Expected |\n",
       "| 48256.1 | Tcell | Expected |\n",
       "| 48111.1 | Tcell | Expected |\n",
       "| 49300.4 | Tcell | Expected |\n",
       "| 47650.2 | Tcell | Expected |\n",
       "| 48092.4 | Tcell | Expected |\n",
       "| 48596.2 | Tcell | Expected |\n",
       "| 49002.6 | Tcell | Expected |\n",
       "| 47948.8 | Tcell | Expected |\n",
       "| 47852.5 | Tcell | Expected |\n",
       "| 47880.9 | Tcell | Expected |\n",
       "| 47948.7 | Tcell | Expected |\n",
       "| 48818.5 | Tcell | Expected |\n",
       "| 48778.7 | Tcell | Expected |\n",
       "| 48353.9 | Tcell | Expected |\n",
       "| 48670.1 | Tcell | Expected |\n",
       "| 47963.3 | Tcell | Expected |\n",
       "| 47944.1 | Tcell | Expected |\n",
       "| 48152.3 | Tcell | Expected |\n",
       "| 47982.7 | Tcell | Expected |\n",
       "| 48524.0 | Tcell | Expected |\n",
       "| 48197.7 | Tcell | Expected |\n",
       "| 48358.6 | Tcell | Expected |\n",
       "| 48429.3 | Tcell | Expected |\n",
       "| 48217.4 | Tcell | Expected |\n",
       "| 48061.1 | Tcell | Expected |\n",
       "| 48500.0 | Tcell | Expected |\n",
       "\n"
      ],
      "text/plain": [
       "       Distance Celltype Group   \n",
       "1        144    H1ESC    Observed\n",
       "2        144    H1ESC    Observed\n",
       "3         99    H1ESC    Observed\n",
       "4         99    H1ESC    Observed\n",
       "5        135    H1ESC    Observed\n",
       "6        135    H1ESC    Observed\n",
       "7        174    H1ESC    Observed\n",
       "8       9427    H1ESC    Observed\n",
       "9       9427    H1ESC    Observed\n",
       "10     37828    H1ESC    Observed\n",
       "11     34149    H1ESC    Observed\n",
       "12       133    H1ESC    Observed\n",
       "13       133    H1ESC    Observed\n",
       "14     12388    H1ESC    Observed\n",
       "15     12388    H1ESC    Observed\n",
       "16     40105    H1ESC    Observed\n",
       "17     15033    H1ESC    Observed\n",
       "18     15033    H1ESC    Observed\n",
       "19      3843    H1ESC    Observed\n",
       "20      3843    H1ESC    Observed\n",
       "21      4111    H1ESC    Observed\n",
       "22      9645    H1ESC    Observed\n",
       "23     14293    H1ESC    Observed\n",
       "24       166    H1ESC    Observed\n",
       "25       166    H1ESC    Observed\n",
       "26      4135    H1ESC    Observed\n",
       "27        94    H1ESC    Observed\n",
       "28        94    H1ESC    Observed\n",
       "29      1675    H1ESC    Observed\n",
       "30     36099    H1ESC    Observed\n",
       "⋮      ⋮        ⋮        ⋮       \n",
       "495008 47713.8  Tcell    Expected\n",
       "495009 49081.0  Tcell    Expected\n",
       "495010 47953.0  Tcell    Expected\n",
       "495011 48451.2  Tcell    Expected\n",
       "495012 48256.1  Tcell    Expected\n",
       "495013 48111.1  Tcell    Expected\n",
       "495014 49300.4  Tcell    Expected\n",
       "495015 47650.2  Tcell    Expected\n",
       "495016 48092.4  Tcell    Expected\n",
       "495017 48596.2  Tcell    Expected\n",
       "495018 49002.6  Tcell    Expected\n",
       "495019 47948.8  Tcell    Expected\n",
       "495020 47852.5  Tcell    Expected\n",
       "495021 47880.9  Tcell    Expected\n",
       "495022 47948.7  Tcell    Expected\n",
       "495023 48818.5  Tcell    Expected\n",
       "495024 48778.7  Tcell    Expected\n",
       "495025 48353.9  Tcell    Expected\n",
       "495026 48670.1  Tcell    Expected\n",
       "495027 47963.3  Tcell    Expected\n",
       "495028 47944.1  Tcell    Expected\n",
       "495029 48152.3  Tcell    Expected\n",
       "495030 47982.7  Tcell    Expected\n",
       "495031 48524.0  Tcell    Expected\n",
       "495032 48197.7  Tcell    Expected\n",
       "495033 48358.6  Tcell    Expected\n",
       "495034 48429.3  Tcell    Expected\n",
       "495035 48217.4  Tcell    Expected\n",
       "495036 48061.1  Tcell    Expected\n",
       "495037 48500.0  Tcell    Expected"
      ]
     },
     "metadata": {},
     "output_type": "display_data"
    }
   ],
   "source": [
    "AllDistUnder500000"
   ]
  },
  {
   "cell_type": "markdown",
   "id": "aec6e3fc",
   "metadata": {},
   "source": [
    "EXP vs OBS for each Cell type"
   ]
  },
  {
   "cell_type": "code",
   "execution_count": 26,
   "id": "37709a3d",
   "metadata": {},
   "outputs": [
    {
     "data": {
      "text/html": [
       "<table class=\"dataframe\">\n",
       "<caption>A tibble: 10 × 5</caption>\n",
       "<thead>\n",
       "\t<tr><th scope=col>Celltype</th><th scope=col>statistic</th><th scope=col>p.value</th><th scope=col>method</th><th scope=col>alternative</th></tr>\n",
       "\t<tr><th scope=col>&lt;fct&gt;</th><th scope=col>&lt;dbl&gt;</th><th scope=col>&lt;dbl&gt;</th><th scope=col>&lt;chr&gt;</th><th scope=col>&lt;chr&gt;</th></tr>\n",
       "</thead>\n",
       "<tbody>\n",
       "\t<tr><td>H1ESC     </td><td>143367414</td><td>0</td><td>Wilcoxon rank sum test with continuity correction</td><td>two.sided</td></tr>\n",
       "\t<tr><td>fSpinal   </td><td>359719779</td><td>0</td><td>Wilcoxon rank sum test with continuity correction</td><td>two.sided</td></tr>\n",
       "\t<tr><td>fHeart    </td><td>351610130</td><td>0</td><td>Wilcoxon rank sum test with continuity correction</td><td>two.sided</td></tr>\n",
       "\t<tr><td>Adrenal   </td><td>292072010</td><td>0</td><td>Wilcoxon rank sum test with continuity correction</td><td>two.sided</td></tr>\n",
       "\t<tr><td>Liver     </td><td>300094006</td><td>0</td><td>Wilcoxon rank sum test with continuity correction</td><td>two.sided</td></tr>\n",
       "\t<tr><td>HSPC      </td><td>369864714</td><td>0</td><td>Wilcoxon rank sum test with continuity correction</td><td>two.sided</td></tr>\n",
       "\t<tr><td>Macrophage</td><td>445083206</td><td>0</td><td>Wilcoxon rank sum test with continuity correction</td><td>two.sided</td></tr>\n",
       "\t<tr><td>Neutrophil</td><td>402499500</td><td>0</td><td>Wilcoxon rank sum test with continuity correction</td><td>two.sided</td></tr>\n",
       "\t<tr><td>Bcell     </td><td>281841108</td><td>0</td><td>Wilcoxon rank sum test with continuity correction</td><td>two.sided</td></tr>\n",
       "\t<tr><td>Tcell     </td><td>259523905</td><td>0</td><td>Wilcoxon rank sum test with continuity correction</td><td>two.sided</td></tr>\n",
       "</tbody>\n",
       "</table>\n"
      ],
      "text/latex": [
       "A tibble: 10 × 5\n",
       "\\begin{tabular}{lllll}\n",
       " Celltype & statistic & p.value & method & alternative\\\\\n",
       " <fct> & <dbl> & <dbl> & <chr> & <chr>\\\\\n",
       "\\hline\n",
       "\t H1ESC      & 143367414 & 0 & Wilcoxon rank sum test with continuity correction & two.sided\\\\\n",
       "\t fSpinal    & 359719779 & 0 & Wilcoxon rank sum test with continuity correction & two.sided\\\\\n",
       "\t fHeart     & 351610130 & 0 & Wilcoxon rank sum test with continuity correction & two.sided\\\\\n",
       "\t Adrenal    & 292072010 & 0 & Wilcoxon rank sum test with continuity correction & two.sided\\\\\n",
       "\t Liver      & 300094006 & 0 & Wilcoxon rank sum test with continuity correction & two.sided\\\\\n",
       "\t HSPC       & 369864714 & 0 & Wilcoxon rank sum test with continuity correction & two.sided\\\\\n",
       "\t Macrophage & 445083206 & 0 & Wilcoxon rank sum test with continuity correction & two.sided\\\\\n",
       "\t Neutrophil & 402499500 & 0 & Wilcoxon rank sum test with continuity correction & two.sided\\\\\n",
       "\t Bcell      & 281841108 & 0 & Wilcoxon rank sum test with continuity correction & two.sided\\\\\n",
       "\t Tcell      & 259523905 & 0 & Wilcoxon rank sum test with continuity correction & two.sided\\\\\n",
       "\\end{tabular}\n"
      ],
      "text/markdown": [
       "\n",
       "A tibble: 10 × 5\n",
       "\n",
       "| Celltype &lt;fct&gt; | statistic &lt;dbl&gt; | p.value &lt;dbl&gt; | method &lt;chr&gt; | alternative &lt;chr&gt; |\n",
       "|---|---|---|---|---|\n",
       "| H1ESC      | 143367414 | 0 | Wilcoxon rank sum test with continuity correction | two.sided |\n",
       "| fSpinal    | 359719779 | 0 | Wilcoxon rank sum test with continuity correction | two.sided |\n",
       "| fHeart     | 351610130 | 0 | Wilcoxon rank sum test with continuity correction | two.sided |\n",
       "| Adrenal    | 292072010 | 0 | Wilcoxon rank sum test with continuity correction | two.sided |\n",
       "| Liver      | 300094006 | 0 | Wilcoxon rank sum test with continuity correction | two.sided |\n",
       "| HSPC       | 369864714 | 0 | Wilcoxon rank sum test with continuity correction | two.sided |\n",
       "| Macrophage | 445083206 | 0 | Wilcoxon rank sum test with continuity correction | two.sided |\n",
       "| Neutrophil | 402499500 | 0 | Wilcoxon rank sum test with continuity correction | two.sided |\n",
       "| Bcell      | 281841108 | 0 | Wilcoxon rank sum test with continuity correction | two.sided |\n",
       "| Tcell      | 259523905 | 0 | Wilcoxon rank sum test with continuity correction | two.sided |\n",
       "\n"
      ],
      "text/plain": [
       "   Celltype   statistic p.value\n",
       "1  H1ESC      143367414 0      \n",
       "2  fSpinal    359719779 0      \n",
       "3  fHeart     351610130 0      \n",
       "4  Adrenal    292072010 0      \n",
       "5  Liver      300094006 0      \n",
       "6  HSPC       369864714 0      \n",
       "7  Macrophage 445083206 0      \n",
       "8  Neutrophil 402499500 0      \n",
       "9  Bcell      281841108 0      \n",
       "10 Tcell      259523905 0      \n",
       "   method                                            alternative\n",
       "1  Wilcoxon rank sum test with continuity correction two.sided  \n",
       "2  Wilcoxon rank sum test with continuity correction two.sided  \n",
       "3  Wilcoxon rank sum test with continuity correction two.sided  \n",
       "4  Wilcoxon rank sum test with continuity correction two.sided  \n",
       "5  Wilcoxon rank sum test with continuity correction two.sided  \n",
       "6  Wilcoxon rank sum test with continuity correction two.sided  \n",
       "7  Wilcoxon rank sum test with continuity correction two.sided  \n",
       "8  Wilcoxon rank sum test with continuity correction two.sided  \n",
       "9  Wilcoxon rank sum test with continuity correction two.sided  \n",
       "10 Wilcoxon rank sum test with continuity correction two.sided  "
      ]
     },
     "metadata": {},
     "output_type": "display_data"
    }
   ],
   "source": [
    "AllDistUnder500000 %>%\n",
    "  nest(data = c(-Celltype)) %>%\n",
    "  mutate(data = map(data, ~ wilcox.test(Distance ~ Group, data = .x)),\n",
    "         data = map(data, tidy)) %>% \n",
    "  unnest(data)"
   ]
  },
  {
   "cell_type": "markdown",
   "id": "f6863c34",
   "metadata": {},
   "source": [
    "Adam's method"
   ]
  },
  {
   "cell_type": "code",
   "execution_count": 27,
   "id": "aaf4563b",
   "metadata": {},
   "outputs": [
    {
     "data": {
      "text/html": [
       "<table class=\"dataframe\">\n",
       "<caption>A rstatix_test: 10 × 10</caption>\n",
       "<thead>\n",
       "\t<tr><th scope=col>Celltype</th><th scope=col>.y.</th><th scope=col>group1</th><th scope=col>group2</th><th scope=col>n1</th><th scope=col>n2</th><th scope=col>statistic</th><th scope=col>p</th><th scope=col>p.adj</th><th scope=col>p.adj.signif</th></tr>\n",
       "\t<tr><th scope=col>&lt;fct&gt;</th><th scope=col>&lt;chr&gt;</th><th scope=col>&lt;chr&gt;</th><th scope=col>&lt;chr&gt;</th><th scope=col>&lt;int&gt;</th><th scope=col>&lt;int&gt;</th><th scope=col>&lt;dbl&gt;</th><th scope=col>&lt;dbl&gt;</th><th scope=col>&lt;dbl&gt;</th><th scope=col>&lt;chr&gt;</th></tr>\n",
       "</thead>\n",
       "<tbody>\n",
       "\t<tr><td>H1ESC     </td><td>Distance</td><td>Expected</td><td>Observed</td><td>10001</td><td>17907</td><td>143367414</td><td>0</td><td>0</td><td>****</td></tr>\n",
       "\t<tr><td>fSpinal   </td><td>Distance</td><td>Expected</td><td>Observed</td><td>10001</td><td>44209</td><td>359719779</td><td>0</td><td>0</td><td>****</td></tr>\n",
       "\t<tr><td>fHeart    </td><td>Distance</td><td>Expected</td><td>Observed</td><td>10001</td><td>43314</td><td>351610130</td><td>0</td><td>0</td><td>****</td></tr>\n",
       "\t<tr><td>Adrenal   </td><td>Distance</td><td>Expected</td><td>Observed</td><td>10001</td><td>36426</td><td>292072010</td><td>0</td><td>0</td><td>****</td></tr>\n",
       "\t<tr><td>Liver     </td><td>Distance</td><td>Expected</td><td>Observed</td><td>10001</td><td>38025</td><td>300094006</td><td>0</td><td>0</td><td>****</td></tr>\n",
       "\t<tr><td>HSPC      </td><td>Distance</td><td>Expected</td><td>Observed</td><td>10001</td><td>45939</td><td>369864714</td><td>0</td><td>0</td><td>****</td></tr>\n",
       "\t<tr><td>Macrophage</td><td>Distance</td><td>Expected</td><td>Observed</td><td>10001</td><td>54209</td><td>445083206</td><td>0</td><td>0</td><td>****</td></tr>\n",
       "\t<tr><td>Neutrophil</td><td>Distance</td><td>Expected</td><td>Observed</td><td>10001</td><td>48963</td><td>402499500</td><td>0</td><td>0</td><td>****</td></tr>\n",
       "\t<tr><td>Bcell     </td><td>Distance</td><td>Expected</td><td>Observed</td><td>10001</td><td>33861</td><td>281841108</td><td>0</td><td>0</td><td>****</td></tr>\n",
       "\t<tr><td>Tcell     </td><td>Distance</td><td>Expected</td><td>Observed</td><td>10001</td><td>32174</td><td>259523905</td><td>0</td><td>0</td><td>****</td></tr>\n",
       "</tbody>\n",
       "</table>\n"
      ],
      "text/latex": [
       "A rstatix\\_test: 10 × 10\n",
       "\\begin{tabular}{llllllllll}\n",
       " Celltype & .y. & group1 & group2 & n1 & n2 & statistic & p & p.adj & p.adj.signif\\\\\n",
       " <fct> & <chr> & <chr> & <chr> & <int> & <int> & <dbl> & <dbl> & <dbl> & <chr>\\\\\n",
       "\\hline\n",
       "\t H1ESC      & Distance & Expected & Observed & 10001 & 17907 & 143367414 & 0 & 0 & ****\\\\\n",
       "\t fSpinal    & Distance & Expected & Observed & 10001 & 44209 & 359719779 & 0 & 0 & ****\\\\\n",
       "\t fHeart     & Distance & Expected & Observed & 10001 & 43314 & 351610130 & 0 & 0 & ****\\\\\n",
       "\t Adrenal    & Distance & Expected & Observed & 10001 & 36426 & 292072010 & 0 & 0 & ****\\\\\n",
       "\t Liver      & Distance & Expected & Observed & 10001 & 38025 & 300094006 & 0 & 0 & ****\\\\\n",
       "\t HSPC       & Distance & Expected & Observed & 10001 & 45939 & 369864714 & 0 & 0 & ****\\\\\n",
       "\t Macrophage & Distance & Expected & Observed & 10001 & 54209 & 445083206 & 0 & 0 & ****\\\\\n",
       "\t Neutrophil & Distance & Expected & Observed & 10001 & 48963 & 402499500 & 0 & 0 & ****\\\\\n",
       "\t Bcell      & Distance & Expected & Observed & 10001 & 33861 & 281841108 & 0 & 0 & ****\\\\\n",
       "\t Tcell      & Distance & Expected & Observed & 10001 & 32174 & 259523905 & 0 & 0 & ****\\\\\n",
       "\\end{tabular}\n"
      ],
      "text/markdown": [
       "\n",
       "A rstatix_test: 10 × 10\n",
       "\n",
       "| Celltype &lt;fct&gt; | .y. &lt;chr&gt; | group1 &lt;chr&gt; | group2 &lt;chr&gt; | n1 &lt;int&gt; | n2 &lt;int&gt; | statistic &lt;dbl&gt; | p &lt;dbl&gt; | p.adj &lt;dbl&gt; | p.adj.signif &lt;chr&gt; |\n",
       "|---|---|---|---|---|---|---|---|---|---|\n",
       "| H1ESC      | Distance | Expected | Observed | 10001 | 17907 | 143367414 | 0 | 0 | **** |\n",
       "| fSpinal    | Distance | Expected | Observed | 10001 | 44209 | 359719779 | 0 | 0 | **** |\n",
       "| fHeart     | Distance | Expected | Observed | 10001 | 43314 | 351610130 | 0 | 0 | **** |\n",
       "| Adrenal    | Distance | Expected | Observed | 10001 | 36426 | 292072010 | 0 | 0 | **** |\n",
       "| Liver      | Distance | Expected | Observed | 10001 | 38025 | 300094006 | 0 | 0 | **** |\n",
       "| HSPC       | Distance | Expected | Observed | 10001 | 45939 | 369864714 | 0 | 0 | **** |\n",
       "| Macrophage | Distance | Expected | Observed | 10001 | 54209 | 445083206 | 0 | 0 | **** |\n",
       "| Neutrophil | Distance | Expected | Observed | 10001 | 48963 | 402499500 | 0 | 0 | **** |\n",
       "| Bcell      | Distance | Expected | Observed | 10001 | 33861 | 281841108 | 0 | 0 | **** |\n",
       "| Tcell      | Distance | Expected | Observed | 10001 | 32174 | 259523905 | 0 | 0 | **** |\n",
       "\n"
      ],
      "text/plain": [
       "   Celltype   .y.      group1   group2   n1    n2    statistic p p.adj\n",
       "1  H1ESC      Distance Expected Observed 10001 17907 143367414 0 0    \n",
       "2  fSpinal    Distance Expected Observed 10001 44209 359719779 0 0    \n",
       "3  fHeart     Distance Expected Observed 10001 43314 351610130 0 0    \n",
       "4  Adrenal    Distance Expected Observed 10001 36426 292072010 0 0    \n",
       "5  Liver      Distance Expected Observed 10001 38025 300094006 0 0    \n",
       "6  HSPC       Distance Expected Observed 10001 45939 369864714 0 0    \n",
       "7  Macrophage Distance Expected Observed 10001 54209 445083206 0 0    \n",
       "8  Neutrophil Distance Expected Observed 10001 48963 402499500 0 0    \n",
       "9  Bcell      Distance Expected Observed 10001 33861 281841108 0 0    \n",
       "10 Tcell      Distance Expected Observed 10001 32174 259523905 0 0    \n",
       "   p.adj.signif\n",
       "1  ****        \n",
       "2  ****        \n",
       "3  ****        \n",
       "4  ****        \n",
       "5  ****        \n",
       "6  ****        \n",
       "7  ****        \n",
       "8  ****        \n",
       "9  ****        \n",
       "10 ****        "
      ]
     },
     "metadata": {},
     "output_type": "display_data"
    }
   ],
   "source": [
    "stat.test <- AllDistUnder500000 %>%\n",
    "  group_by(Celltype) %>%\n",
    "  wilcox_test(Distance ~ Group) %>%\n",
    "  adjust_pvalue(method = \"fdr\") %>%\n",
    "  add_significance(\"p.adj\")\n",
    "\n",
    "stat.test"
   ]
  },
  {
   "cell_type": "markdown",
   "id": "179a0600",
   "metadata": {},
   "source": [
    "By hand to double check "
   ]
  },
  {
   "cell_type": "code",
   "execution_count": 28,
   "id": "8097021a",
   "metadata": {},
   "outputs": [],
   "source": [
    "AllDistUnder500000_adrenal <- AllDistUnder500000 %>% filter(Celltype==\"Adrenal\")\n",
    "AllDistUnder500000_adrenal_exp <- AllDistUnder500000_adrenal %>% filter(Group==\"Expected\")\n",
    "AllDistUnder500000_adrenal_obs <- AllDistUnder500000_adrenal %>% filter(Group==\"Observed\")"
   ]
  },
  {
   "cell_type": "code",
   "execution_count": 29,
   "id": "a6e72154",
   "metadata": {},
   "outputs": [
    {
     "data": {
      "text/plain": [
       "\n",
       "\tWilcoxon rank sum test with continuity correction\n",
       "\n",
       "data:  AllDistUnder500000_adrenal_exp$Distance and AllDistUnder500000_adrenal_obs$Distance\n",
       "W = 292072010, p-value < 2.2e-16\n",
       "alternative hypothesis: true location shift is not equal to 0\n"
      ]
     },
     "metadata": {},
     "output_type": "display_data"
    }
   ],
   "source": [
    "wilcox.test(AllDistUnder500000_adrenal_exp$Distance, AllDistUnder500000_adrenal_obs$Distance)"
   ]
  },
  {
   "cell_type": "code",
   "execution_count": 29,
   "id": "caee47fd",
   "metadata": {},
   "outputs": [
    {
     "data": {
      "text/plain": [
       "\n",
       "\tWilcoxon rank sum test with continuity correction\n",
       "\n",
       "data:  AllDistUnder500000_adrenal_exp$Distance and AllDistUnder500000_adrenal_obs$Distance\n",
       "W = 292072010, p-value < 2.2e-16\n",
       "alternative hypothesis: true location shift is not equal to 0\n"
      ]
     },
     "metadata": {},
     "output_type": "display_data"
    }
   ],
   "source": [
    "wilcox.test(AllDistUnder500000_adrenal_exp$Distance, AllDistUnder500000_adrenal_obs$Distance)"
   ]
  },
  {
   "cell_type": "code",
   "execution_count": 16,
   "id": "6ae52e0c",
   "metadata": {},
   "outputs": [
    {
     "data": {
      "text/plain": [
       "\n",
       "\tWelch Two Sample t-test\n",
       "\n",
       "data:  AllDistUnder500000_adrenal_exp$Distance and AllDistUnder500000_adrenal_obs$Distance\n",
       "t = 59.542, df = 72888, p-value < 2.2e-16\n",
       "alternative hypothesis: true difference in means is not equal to 0\n",
       "95 percent confidence interval:\n",
       " 11632.00 12423.87\n",
       "sample estimates:\n",
       "mean of x mean of y \n",
       " 42741.98  30714.05 \n"
      ]
     },
     "metadata": {},
     "output_type": "display_data"
    }
   ],
   "source": [
    "t.test(AllDistUnder500000_adrenal_exp$Distance, AllDistUnder500000_adrenal_obs$Distance)"
   ]
  },
  {
   "cell_type": "code",
   "execution_count": 30,
   "id": "cc1ae2a3",
   "metadata": {},
   "outputs": [
    {
     "data": {
      "text/plain": [
       "\n",
       "\tWelch Two Sample t-test\n",
       "\n",
       "data:  AllDistUnder500000_adrenal_exp$Distance and AllDistUnder500000_adrenal_obs$Distance\n",
       "t = 42.105, df = 36434, p-value < 2.2e-16\n",
       "alternative hypothesis: true difference in means is not equal to 0\n",
       "95 percent confidence interval:\n",
       " 11468.02 12587.85\n",
       "sample estimates:\n",
       "mean of x mean of y \n",
       " 42741.98  30714.05 \n"
      ]
     },
     "metadata": {},
     "output_type": "display_data"
    }
   ],
   "source": [
    "t.test(AllDistUnder500000_adrenal_exp$Distance, AllDistUnder500000_adrenal_obs$Distance)"
   ]
  },
  {
   "cell_type": "markdown",
   "id": "8be5bad1",
   "metadata": {},
   "source": [
    "Exploratory and median defining"
   ]
  },
  {
   "cell_type": "code",
   "execution_count": 33,
   "id": "608d970c",
   "metadata": {},
   "outputs": [],
   "source": [
    "med_vals <- AllObsDist %>% \n",
    "  group_by(Celltype) %>%\n",
    "  summarize(medianDis=median(Distance))"
   ]
  },
  {
   "cell_type": "code",
   "execution_count": 46,
   "id": "20e0d190",
   "metadata": {
    "scrolled": true
   },
   "outputs": [
    {
     "data": {
      "text/plain": [
       "   Min. 1st Qu.  Median    Mean 3rd Qu.    Max. \n",
       "     -1    3014   10738   34290   33231 2464681 "
      ]
     },
     "metadata": {},
     "output_type": "display_data"
    },
    {
     "data": {
      "text/html": [
       "<style>\n",
       ".dl-inline {width: auto; margin:0; padding: 0}\n",
       ".dl-inline>dt, .dl-inline>dd {float: none; width: auto; display: inline-block}\n",
       ".dl-inline>dt::after {content: \":\\0020\"; padding-right: .5ex}\n",
       ".dl-inline>dt:not(:first-of-type) {padding-left: .5ex}\n",
       "</style><dl class=dl-inline><dt>10%</dt><dd>880</dd><dt>20%</dt><dd>2149</dd><dt>30%</dt><dd>4067.3</dd><dt>40%</dt><dd>6896</dd><dt>45%</dt><dd>8643</dd><dt>50%</dt><dd>10738</dd><dt>55%</dt><dd>13421.25</dd><dt>60%</dt><dd>16630.8</dd><dt>70%</dt><dd>25960.5</dd><dt>80%</dt><dd>43301.8</dd><dt>90%</dt><dd>83937.5</dd></dl>\n"
      ],
      "text/latex": [
       "\\begin{description*}\n",
       "\\item[10\\textbackslash{}\\%] 880\n",
       "\\item[20\\textbackslash{}\\%] 2149\n",
       "\\item[30\\textbackslash{}\\%] 4067.3\n",
       "\\item[40\\textbackslash{}\\%] 6896\n",
       "\\item[45\\textbackslash{}\\%] 8643\n",
       "\\item[50\\textbackslash{}\\%] 10738\n",
       "\\item[55\\textbackslash{}\\%] 13421.25\n",
       "\\item[60\\textbackslash{}\\%] 16630.8\n",
       "\\item[70\\textbackslash{}\\%] 25960.5\n",
       "\\item[80\\textbackslash{}\\%] 43301.8\n",
       "\\item[90\\textbackslash{}\\%] 83937.5\n",
       "\\end{description*}\n"
      ],
      "text/markdown": [
       "10%\n",
       ":   88020%\n",
       ":   214930%\n",
       ":   4067.340%\n",
       ":   689645%\n",
       ":   864350%\n",
       ":   1073855%\n",
       ":   13421.2560%\n",
       ":   16630.870%\n",
       ":   25960.580%\n",
       ":   43301.890%\n",
       ":   83937.5\n",
       "\n"
      ],
      "text/plain": [
       "     10%      20%      30%      40%      45%      50%      55%      60% \n",
       "  880.00  2149.00  4067.30  6896.00  8643.00 10738.00 13421.25 16630.80 \n",
       "     70%      80%      90% \n",
       "25960.50 43301.80 83937.50 "
      ]
     },
     "metadata": {},
     "output_type": "display_data"
    },
    {
     "data": {
      "text/html": [
       "<style>\n",
       ".dl-inline {width: auto; margin:0; padding: 0}\n",
       ".dl-inline>dt, .dl-inline>dd {float: none; width: auto; display: inline-block}\n",
       ".dl-inline>dt::after {content: \":\\0020\"; padding-right: .5ex}\n",
       ".dl-inline>dt:not(:first-of-type) {padding-left: .5ex}\n",
       "</style><dl class=dl-inline><dt>10%</dt><dd>571</dd><dt>20%</dt><dd>1674</dd><dt>30%</dt><dd>3320.3</dd><dt>40%</dt><dd>5584.4</dd><dt>45%</dt><dd>7095.85</dd><dt>50%</dt><dd>8960.5</dd><dt>55%</dt><dd>11441.05</dd><dt>60%</dt><dd>14331</dd><dt>70%</dt><dd>22855.8</dd><dt>80%</dt><dd>38981</dd><dt>90%</dt><dd>80101.5</dd></dl>\n"
      ],
      "text/latex": [
       "\\begin{description*}\n",
       "\\item[10\\textbackslash{}\\%] 571\n",
       "\\item[20\\textbackslash{}\\%] 1674\n",
       "\\item[30\\textbackslash{}\\%] 3320.3\n",
       "\\item[40\\textbackslash{}\\%] 5584.4\n",
       "\\item[45\\textbackslash{}\\%] 7095.85\n",
       "\\item[50\\textbackslash{}\\%] 8960.5\n",
       "\\item[55\\textbackslash{}\\%] 11441.05\n",
       "\\item[60\\textbackslash{}\\%] 14331\n",
       "\\item[70\\textbackslash{}\\%] 22855.8\n",
       "\\item[80\\textbackslash{}\\%] 38981\n",
       "\\item[90\\textbackslash{}\\%] 80101.5\n",
       "\\end{description*}\n"
      ],
      "text/markdown": [
       "10%\n",
       ":   57120%\n",
       ":   167430%\n",
       ":   3320.340%\n",
       ":   5584.445%\n",
       ":   7095.8550%\n",
       ":   8960.555%\n",
       ":   11441.0560%\n",
       ":   1433170%\n",
       ":   22855.880%\n",
       ":   3898190%\n",
       ":   80101.5\n",
       "\n"
      ],
      "text/plain": [
       "     10%      20%      30%      40%      45%      50%      55%      60% \n",
       "  571.00  1674.00  3320.30  5584.40  7095.85  8960.50 11441.05 14331.00 \n",
       "     70%      80%      90% \n",
       "22855.80 38981.00 80101.50 "
      ]
     },
     "metadata": {},
     "output_type": "display_data"
    },
    {
     "data": {
      "text/html": [
       "<style>\n",
       ".dl-inline {width: auto; margin:0; padding: 0}\n",
       ".dl-inline>dt, .dl-inline>dd {float: none; width: auto; display: inline-block}\n",
       ".dl-inline>dt::after {content: \":\\0020\"; padding-right: .5ex}\n",
       ".dl-inline>dt:not(:first-of-type) {padding-left: .5ex}\n",
       "</style><dl class=dl-inline><dt>10%</dt><dd>890</dd><dt>20%</dt><dd>1944</dd><dt>30%</dt><dd>3502</dd><dt>40%</dt><dd>5600</dd><dt>45%</dt><dd>6890.3</dd><dt>50%</dt><dd>8564</dd><dt>55%</dt><dd>10568.4</dd><dt>60%</dt><dd>13033.2</dd><dt>70%</dt><dd>20398</dd><dt>80%</dt><dd>34109.6</dd><dt>90%</dt><dd>67244.5999999999</dd></dl>\n"
      ],
      "text/latex": [
       "\\begin{description*}\n",
       "\\item[10\\textbackslash{}\\%] 890\n",
       "\\item[20\\textbackslash{}\\%] 1944\n",
       "\\item[30\\textbackslash{}\\%] 3502\n",
       "\\item[40\\textbackslash{}\\%] 5600\n",
       "\\item[45\\textbackslash{}\\%] 6890.3\n",
       "\\item[50\\textbackslash{}\\%] 8564\n",
       "\\item[55\\textbackslash{}\\%] 10568.4\n",
       "\\item[60\\textbackslash{}\\%] 13033.2\n",
       "\\item[70\\textbackslash{}\\%] 20398\n",
       "\\item[80\\textbackslash{}\\%] 34109.6\n",
       "\\item[90\\textbackslash{}\\%] 67244.5999999999\n",
       "\\end{description*}\n"
      ],
      "text/markdown": [
       "10%\n",
       ":   89020%\n",
       ":   194430%\n",
       ":   350240%\n",
       ":   560045%\n",
       ":   6890.350%\n",
       ":   856455%\n",
       ":   10568.460%\n",
       ":   13033.270%\n",
       ":   2039880%\n",
       ":   34109.690%\n",
       ":   67244.5999999999\n",
       "\n"
      ],
      "text/plain": [
       "    10%     20%     30%     40%     45%     50%     55%     60%     70%     80% \n",
       "  890.0  1944.0  3502.0  5600.0  6890.3  8564.0 10568.4 13033.2 20398.0 34109.6 \n",
       "    90% \n",
       "67244.6 "
      ]
     },
     "metadata": {},
     "output_type": "display_data"
    },
    {
     "data": {
      "text/html": [
       "<style>\n",
       ".dl-inline {width: auto; margin:0; padding: 0}\n",
       ".dl-inline>dt, .dl-inline>dd {float: none; width: auto; display: inline-block}\n",
       ".dl-inline>dt::after {content: \":\\0020\"; padding-right: .5ex}\n",
       ".dl-inline>dt:not(:first-of-type) {padding-left: .5ex}\n",
       "</style><dl class=dl-inline><dt>10%</dt><dd>1006</dd><dt>20%</dt><dd>2110</dd><dt>30%</dt><dd>3642.7</dd><dt>40%</dt><dd>5714</dd><dt>45%</dt><dd>7001</dd><dt>50%</dt><dd>8548</dd><dt>55%</dt><dd>10503</dd><dt>60%</dt><dd>12950.4</dd><dt>70%</dt><dd>19924.9</dd><dt>80%</dt><dd>33194.4</dd><dt>90%</dt><dd>65064.5</dd></dl>\n"
      ],
      "text/latex": [
       "\\begin{description*}\n",
       "\\item[10\\textbackslash{}\\%] 1006\n",
       "\\item[20\\textbackslash{}\\%] 2110\n",
       "\\item[30\\textbackslash{}\\%] 3642.7\n",
       "\\item[40\\textbackslash{}\\%] 5714\n",
       "\\item[45\\textbackslash{}\\%] 7001\n",
       "\\item[50\\textbackslash{}\\%] 8548\n",
       "\\item[55\\textbackslash{}\\%] 10503\n",
       "\\item[60\\textbackslash{}\\%] 12950.4\n",
       "\\item[70\\textbackslash{}\\%] 19924.9\n",
       "\\item[80\\textbackslash{}\\%] 33194.4\n",
       "\\item[90\\textbackslash{}\\%] 65064.5\n",
       "\\end{description*}\n"
      ],
      "text/markdown": [
       "10%\n",
       ":   100620%\n",
       ":   211030%\n",
       ":   3642.740%\n",
       ":   571445%\n",
       ":   700150%\n",
       ":   854855%\n",
       ":   1050360%\n",
       ":   12950.470%\n",
       ":   19924.980%\n",
       ":   33194.490%\n",
       ":   65064.5\n",
       "\n"
      ],
      "text/plain": [
       "    10%     20%     30%     40%     45%     50%     55%     60%     70%     80% \n",
       " 1006.0  2110.0  3642.7  5714.0  7001.0  8548.0 10503.0 12950.4 19924.9 33194.4 \n",
       "    90% \n",
       "65064.5 "
      ]
     },
     "metadata": {},
     "output_type": "display_data"
    },
    {
     "data": {
      "text/html": [
       "<style>\n",
       ".dl-inline {width: auto; margin:0; padding: 0}\n",
       ".dl-inline>dt, .dl-inline>dd {float: none; width: auto; display: inline-block}\n",
       ".dl-inline>dt::after {content: \":\\0020\"; padding-right: .5ex}\n",
       ".dl-inline>dt:not(:first-of-type) {padding-left: .5ex}\n",
       "</style><dl class=dl-inline><dt>10%</dt><dd>636</dd><dt>20%</dt><dd>2843</dd><dt>30%</dt><dd>6867</dd><dt>40%</dt><dd>12866.8</dd><dt>45%</dt><dd>16780</dd><dt>50%</dt><dd>21711</dd><dt>55%</dt><dd>27897.4</dd><dt>60%</dt><dd>35055</dd><dt>70%</dt><dd>55379</dd><dt>80%</dt><dd>93447</dd><dt>90%</dt><dd>179337.400000001</dd></dl>\n"
      ],
      "text/latex": [
       "\\begin{description*}\n",
       "\\item[10\\textbackslash{}\\%] 636\n",
       "\\item[20\\textbackslash{}\\%] 2843\n",
       "\\item[30\\textbackslash{}\\%] 6867\n",
       "\\item[40\\textbackslash{}\\%] 12866.8\n",
       "\\item[45\\textbackslash{}\\%] 16780\n",
       "\\item[50\\textbackslash{}\\%] 21711\n",
       "\\item[55\\textbackslash{}\\%] 27897.4\n",
       "\\item[60\\textbackslash{}\\%] 35055\n",
       "\\item[70\\textbackslash{}\\%] 55379\n",
       "\\item[80\\textbackslash{}\\%] 93447\n",
       "\\item[90\\textbackslash{}\\%] 179337.400000001\n",
       "\\end{description*}\n"
      ],
      "text/markdown": [
       "10%\n",
       ":   63620%\n",
       ":   284330%\n",
       ":   686740%\n",
       ":   12866.845%\n",
       ":   1678050%\n",
       ":   2171155%\n",
       ":   27897.460%\n",
       ":   3505570%\n",
       ":   5537980%\n",
       ":   9344790%\n",
       ":   179337.400000001\n",
       "\n"
      ],
      "text/plain": [
       "     10%      20%      30%      40%      45%      50%      55%      60% \n",
       "   636.0   2843.0   6867.0  12866.8  16780.0  21711.0  27897.4  35055.0 \n",
       "     70%      80%      90% \n",
       " 55379.0  93447.0 179337.4 "
      ]
     },
     "metadata": {},
     "output_type": "display_data"
    },
    {
     "data": {
      "text/html": [
       "<style>\n",
       ".dl-inline {width: auto; margin:0; padding: 0}\n",
       ".dl-inline>dt, .dl-inline>dd {float: none; width: auto; display: inline-block}\n",
       ".dl-inline>dt::after {content: \":\\0020\"; padding-right: .5ex}\n",
       ".dl-inline>dt:not(:first-of-type) {padding-left: .5ex}\n",
       "</style><dl class=dl-inline><dt>10%</dt><dd>814.400000000001</dd><dt>20%</dt><dd>1971</dd><dt>30%</dt><dd>3760</dd><dt>40%</dt><dd>6489</dd><dt>45%</dt><dd>8374.4</dd><dt>50%</dt><dd>10474</dd><dt>55%</dt><dd>13157</dd><dt>60%</dt><dd>16549.8</dd><dt>70%</dt><dd>26163.4</dd><dt>80%</dt><dd>43844</dd><dt>90%</dt><dd>84747.8000000001</dd></dl>\n"
      ],
      "text/latex": [
       "\\begin{description*}\n",
       "\\item[10\\textbackslash{}\\%] 814.400000000001\n",
       "\\item[20\\textbackslash{}\\%] 1971\n",
       "\\item[30\\textbackslash{}\\%] 3760\n",
       "\\item[40\\textbackslash{}\\%] 6489\n",
       "\\item[45\\textbackslash{}\\%] 8374.4\n",
       "\\item[50\\textbackslash{}\\%] 10474\n",
       "\\item[55\\textbackslash{}\\%] 13157\n",
       "\\item[60\\textbackslash{}\\%] 16549.8\n",
       "\\item[70\\textbackslash{}\\%] 26163.4\n",
       "\\item[80\\textbackslash{}\\%] 43844\n",
       "\\item[90\\textbackslash{}\\%] 84747.8000000001\n",
       "\\end{description*}\n"
      ],
      "text/markdown": [
       "10%\n",
       ":   814.40000000000120%\n",
       ":   197130%\n",
       ":   376040%\n",
       ":   648945%\n",
       ":   8374.450%\n",
       ":   1047455%\n",
       ":   1315760%\n",
       ":   16549.870%\n",
       ":   26163.480%\n",
       ":   4384490%\n",
       ":   84747.8000000001\n",
       "\n"
      ],
      "text/plain": [
       "    10%     20%     30%     40%     45%     50%     55%     60%     70%     80% \n",
       "  814.4  1971.0  3760.0  6489.0  8374.4 10474.0 13157.0 16549.8 26163.4 43844.0 \n",
       "    90% \n",
       "84747.8 "
      ]
     },
     "metadata": {},
     "output_type": "display_data"
    },
    {
     "name": "stdout",
     "output_type": "stream",
     "text": [
      "[1] \"H1ESC\"\n",
      "     10%      20%      30%      40%      45%      50%      55%      60% \n",
      "  227.00  1283.00  2953.80  5626.60  7102.65  8921.00 11013.15 13299.80 \n",
      "     70%      80%      90% \n",
      "18970.00 26779.00 37041.20 \n",
      "\n",
      "[1] \"fSpinal\"\n",
      "  10%   20%   30%   40%   45%   50%   55%   60%   70%   80%   90% \n",
      "  881  1770  2960  4574  5485  6555  7805  9237 13267 19213 29618 \n",
      "\n",
      "[1] \"fHeart\"\n",
      "  10%   20%   30%   40%   45%   50%   55%   60%   70%   80%   90% \n",
      "  761  1626  2787  4329  5309  6361  7689  9183 13231 19414 29903 \n",
      "\n",
      "[1] \"Adrenal\"\n",
      "    10%     20%     30%     40%     45%     50%     55%     60%     70%     80% \n",
      "  673.0  1678.0  2969.0  4777.0  5990.0  7311.0  8799.3 10524.0 15105.6 21739.2 \n",
      "    90% \n",
      "32016.2 \n",
      "\n",
      "[1] \"Liver\"\n",
      "    10%     20%     30%     40%     45%     50%     55%     60%     70%     80% \n",
      "  633.0  1508.0  2716.8  4441.4  5540.0  6846.0  8461.0 10148.2 14803.0 21582.0 \n",
      "    90% \n",
      "31880.6 \n",
      "\n",
      "[1] \"Bcell\"\n",
      "    10%     20%     30%     40%     45%     50%     55%     60%     70%     80% \n",
      "  436.3  1259.0  2410.0  4030.0  4998.0  6142.0  7474.0  9112.8 13573.1 19841.2 \n",
      "    90% \n",
      "30592.7 \n",
      "\n"
     ]
    },
    {
     "data": {
      "text/html": [
       "<style>\n",
       ".dl-inline {width: auto; margin:0; padding: 0}\n",
       ".dl-inline>dt, .dl-inline>dd {float: none; width: auto; display: inline-block}\n",
       ".dl-inline>dt::after {content: \":\\0020\"; padding-right: .5ex}\n",
       ".dl-inline>dt:not(:first-of-type) {padding-left: .5ex}\n",
       "</style><dl class=dl-inline><dt>10%</dt><dd>673</dd><dt>20%</dt><dd>1678</dd><dt>30%</dt><dd>2969</dd><dt>40%</dt><dd>4777</dd><dt>45%</dt><dd>5990</dd><dt>50%</dt><dd>7311</dd><dt>55%</dt><dd>8799.3</dd><dt>60%</dt><dd>10524</dd><dt>70%</dt><dd>15105.6</dd><dt>80%</dt><dd>21739.2</dd><dt>90%</dt><dd>32016.2</dd></dl>\n"
      ],
      "text/latex": [
       "\\begin{description*}\n",
       "\\item[10\\textbackslash{}\\%] 673\n",
       "\\item[20\\textbackslash{}\\%] 1678\n",
       "\\item[30\\textbackslash{}\\%] 2969\n",
       "\\item[40\\textbackslash{}\\%] 4777\n",
       "\\item[45\\textbackslash{}\\%] 5990\n",
       "\\item[50\\textbackslash{}\\%] 7311\n",
       "\\item[55\\textbackslash{}\\%] 8799.3\n",
       "\\item[60\\textbackslash{}\\%] 10524\n",
       "\\item[70\\textbackslash{}\\%] 15105.6\n",
       "\\item[80\\textbackslash{}\\%] 21739.2\n",
       "\\item[90\\textbackslash{}\\%] 32016.2\n",
       "\\end{description*}\n"
      ],
      "text/markdown": [
       "10%\n",
       ":   67320%\n",
       ":   167830%\n",
       ":   296940%\n",
       ":   477745%\n",
       ":   599050%\n",
       ":   731155%\n",
       ":   8799.360%\n",
       ":   1052470%\n",
       ":   15105.680%\n",
       ":   21739.290%\n",
       ":   32016.2\n",
       "\n"
      ],
      "text/plain": [
       "    10%     20%     30%     40%     45%     50%     55%     60%     70%     80% \n",
       "  673.0  1678.0  2969.0  4777.0  5990.0  7311.0  8799.3 10524.0 15105.6 21739.2 \n",
       "    90% \n",
       "32016.2 "
      ]
     },
     "metadata": {},
     "output_type": "display_data"
    },
    {
     "data": {
      "text/html": [
       "<style>\n",
       ".dl-inline {width: auto; margin:0; padding: 0}\n",
       ".dl-inline>dt, .dl-inline>dd {float: none; width: auto; display: inline-block}\n",
       ".dl-inline>dt::after {content: \":\\0020\"; padding-right: .5ex}\n",
       ".dl-inline>dt:not(:first-of-type) {padding-left: .5ex}\n",
       "</style><dl class=dl-inline><dt>10%</dt><dd>436.3</dd><dt>20%</dt><dd>1259</dd><dt>30%</dt><dd>2410</dd><dt>40%</dt><dd>4030</dd><dt>45%</dt><dd>4998</dd><dt>50%</dt><dd>6142</dd><dt>55%</dt><dd>7474</dd><dt>60%</dt><dd>9112.8</dd><dt>70%</dt><dd>13573.1</dd><dt>80%</dt><dd>19841.2</dd><dt>90%</dt><dd>30592.7</dd></dl>\n"
      ],
      "text/latex": [
       "\\begin{description*}\n",
       "\\item[10\\textbackslash{}\\%] 436.3\n",
       "\\item[20\\textbackslash{}\\%] 1259\n",
       "\\item[30\\textbackslash{}\\%] 2410\n",
       "\\item[40\\textbackslash{}\\%] 4030\n",
       "\\item[45\\textbackslash{}\\%] 4998\n",
       "\\item[50\\textbackslash{}\\%] 6142\n",
       "\\item[55\\textbackslash{}\\%] 7474\n",
       "\\item[60\\textbackslash{}\\%] 9112.8\n",
       "\\item[70\\textbackslash{}\\%] 13573.1\n",
       "\\item[80\\textbackslash{}\\%] 19841.2\n",
       "\\item[90\\textbackslash{}\\%] 30592.7\n",
       "\\end{description*}\n"
      ],
      "text/markdown": [
       "10%\n",
       ":   436.320%\n",
       ":   125930%\n",
       ":   241040%\n",
       ":   403045%\n",
       ":   499850%\n",
       ":   614255%\n",
       ":   747460%\n",
       ":   9112.870%\n",
       ":   13573.180%\n",
       ":   19841.290%\n",
       ":   30592.7\n",
       "\n"
      ],
      "text/plain": [
       "    10%     20%     30%     40%     45%     50%     55%     60%     70%     80% \n",
       "  436.3  1259.0  2410.0  4030.0  4998.0  6142.0  7474.0  9112.8 13573.1 19841.2 \n",
       "    90% \n",
       "30592.7 "
      ]
     },
     "metadata": {},
     "output_type": "display_data"
    },
    {
     "data": {
      "text/html": [
       "<style>\n",
       ".dl-inline {width: auto; margin:0; padding: 0}\n",
       ".dl-inline>dt, .dl-inline>dd {float: none; width: auto; display: inline-block}\n",
       ".dl-inline>dt::after {content: \":\\0020\"; padding-right: .5ex}\n",
       ".dl-inline>dt:not(:first-of-type) {padding-left: .5ex}\n",
       "</style><dl class=dl-inline><dt>10%</dt><dd>761</dd><dt>20%</dt><dd>1626</dd><dt>30%</dt><dd>2787</dd><dt>40%</dt><dd>4329</dd><dt>45%</dt><dd>5309</dd><dt>50%</dt><dd>6361</dd><dt>55%</dt><dd>7689</dd><dt>60%</dt><dd>9183</dd><dt>70%</dt><dd>13231</dd><dt>80%</dt><dd>19414</dd><dt>90%</dt><dd>29903</dd></dl>\n"
      ],
      "text/latex": [
       "\\begin{description*}\n",
       "\\item[10\\textbackslash{}\\%] 761\n",
       "\\item[20\\textbackslash{}\\%] 1626\n",
       "\\item[30\\textbackslash{}\\%] 2787\n",
       "\\item[40\\textbackslash{}\\%] 4329\n",
       "\\item[45\\textbackslash{}\\%] 5309\n",
       "\\item[50\\textbackslash{}\\%] 6361\n",
       "\\item[55\\textbackslash{}\\%] 7689\n",
       "\\item[60\\textbackslash{}\\%] 9183\n",
       "\\item[70\\textbackslash{}\\%] 13231\n",
       "\\item[80\\textbackslash{}\\%] 19414\n",
       "\\item[90\\textbackslash{}\\%] 29903\n",
       "\\end{description*}\n"
      ],
      "text/markdown": [
       "10%\n",
       ":   76120%\n",
       ":   162630%\n",
       ":   278740%\n",
       ":   432945%\n",
       ":   530950%\n",
       ":   636155%\n",
       ":   768960%\n",
       ":   918370%\n",
       ":   1323180%\n",
       ":   1941490%\n",
       ":   29903\n",
       "\n"
      ],
      "text/plain": [
       "  10%   20%   30%   40%   45%   50%   55%   60%   70%   80%   90% \n",
       "  761  1626  2787  4329  5309  6361  7689  9183 13231 19414 29903 "
      ]
     },
     "metadata": {},
     "output_type": "display_data"
    },
    {
     "data": {
      "text/html": [
       "<style>\n",
       ".dl-inline {width: auto; margin:0; padding: 0}\n",
       ".dl-inline>dt, .dl-inline>dd {float: none; width: auto; display: inline-block}\n",
       ".dl-inline>dt::after {content: \":\\0020\"; padding-right: .5ex}\n",
       ".dl-inline>dt:not(:first-of-type) {padding-left: .5ex}\n",
       "</style><dl class=dl-inline><dt>10%</dt><dd>881</dd><dt>20%</dt><dd>1770</dd><dt>30%</dt><dd>2960</dd><dt>40%</dt><dd>4574</dd><dt>45%</dt><dd>5485</dd><dt>50%</dt><dd>6555</dd><dt>55%</dt><dd>7805</dd><dt>60%</dt><dd>9237</dd><dt>70%</dt><dd>13267</dd><dt>80%</dt><dd>19213</dd><dt>90%</dt><dd>29618</dd></dl>\n"
      ],
      "text/latex": [
       "\\begin{description*}\n",
       "\\item[10\\textbackslash{}\\%] 881\n",
       "\\item[20\\textbackslash{}\\%] 1770\n",
       "\\item[30\\textbackslash{}\\%] 2960\n",
       "\\item[40\\textbackslash{}\\%] 4574\n",
       "\\item[45\\textbackslash{}\\%] 5485\n",
       "\\item[50\\textbackslash{}\\%] 6555\n",
       "\\item[55\\textbackslash{}\\%] 7805\n",
       "\\item[60\\textbackslash{}\\%] 9237\n",
       "\\item[70\\textbackslash{}\\%] 13267\n",
       "\\item[80\\textbackslash{}\\%] 19213\n",
       "\\item[90\\textbackslash{}\\%] 29618\n",
       "\\end{description*}\n"
      ],
      "text/markdown": [
       "10%\n",
       ":   88120%\n",
       ":   177030%\n",
       ":   296040%\n",
       ":   457445%\n",
       ":   548550%\n",
       ":   655555%\n",
       ":   780560%\n",
       ":   923770%\n",
       ":   1326780%\n",
       ":   1921390%\n",
       ":   29618\n",
       "\n"
      ],
      "text/plain": [
       "  10%   20%   30%   40%   45%   50%   55%   60%   70%   80%   90% \n",
       "  881  1770  2960  4574  5485  6555  7805  9237 13267 19213 29618 "
      ]
     },
     "metadata": {},
     "output_type": "display_data"
    },
    {
     "data": {
      "text/html": [
       "<style>\n",
       ".dl-inline {width: auto; margin:0; padding: 0}\n",
       ".dl-inline>dt, .dl-inline>dd {float: none; width: auto; display: inline-block}\n",
       ".dl-inline>dt::after {content: \":\\0020\"; padding-right: .5ex}\n",
       ".dl-inline>dt:not(:first-of-type) {padding-left: .5ex}\n",
       "</style><dl class=dl-inline><dt>10%</dt><dd>227</dd><dt>20%</dt><dd>1283</dd><dt>30%</dt><dd>2953.8</dd><dt>40%</dt><dd>5626.6</dd><dt>45%</dt><dd>7102.65</dd><dt>50%</dt><dd>8921</dd><dt>55%</dt><dd>11013.15</dd><dt>60%</dt><dd>13299.8</dd><dt>70%</dt><dd>18970</dd><dt>80%</dt><dd>26779</dd><dt>90%</dt><dd>37041.2</dd></dl>\n"
      ],
      "text/latex": [
       "\\begin{description*}\n",
       "\\item[10\\textbackslash{}\\%] 227\n",
       "\\item[20\\textbackslash{}\\%] 1283\n",
       "\\item[30\\textbackslash{}\\%] 2953.8\n",
       "\\item[40\\textbackslash{}\\%] 5626.6\n",
       "\\item[45\\textbackslash{}\\%] 7102.65\n",
       "\\item[50\\textbackslash{}\\%] 8921\n",
       "\\item[55\\textbackslash{}\\%] 11013.15\n",
       "\\item[60\\textbackslash{}\\%] 13299.8\n",
       "\\item[70\\textbackslash{}\\%] 18970\n",
       "\\item[80\\textbackslash{}\\%] 26779\n",
       "\\item[90\\textbackslash{}\\%] 37041.2\n",
       "\\end{description*}\n"
      ],
      "text/markdown": [
       "10%\n",
       ":   22720%\n",
       ":   128330%\n",
       ":   2953.840%\n",
       ":   5626.645%\n",
       ":   7102.6550%\n",
       ":   892155%\n",
       ":   11013.1560%\n",
       ":   13299.870%\n",
       ":   1897080%\n",
       ":   2677990%\n",
       ":   37041.2\n",
       "\n"
      ],
      "text/plain": [
       "     10%      20%      30%      40%      45%      50%      55%      60% \n",
       "  227.00  1283.00  2953.80  5626.60  7102.65  8921.00 11013.15 13299.80 \n",
       "     70%      80%      90% \n",
       "18970.00 26779.00 37041.20 "
      ]
     },
     "metadata": {},
     "output_type": "display_data"
    },
    {
     "data": {
      "text/html": [
       "<style>\n",
       ".dl-inline {width: auto; margin:0; padding: 0}\n",
       ".dl-inline>dt, .dl-inline>dd {float: none; width: auto; display: inline-block}\n",
       ".dl-inline>dt::after {content: \":\\0020\"; padding-right: .5ex}\n",
       ".dl-inline>dt:not(:first-of-type) {padding-left: .5ex}\n",
       "</style><dl class=dl-inline><dt>10%</dt><dd>633</dd><dt>20%</dt><dd>1508</dd><dt>30%</dt><dd>2716.8</dd><dt>40%</dt><dd>4441.4</dd><dt>45%</dt><dd>5540</dd><dt>50%</dt><dd>6846</dd><dt>55%</dt><dd>8461</dd><dt>60%</dt><dd>10148.2</dd><dt>70%</dt><dd>14803</dd><dt>80%</dt><dd>21582</dd><dt>90%</dt><dd>31880.6</dd></dl>\n"
      ],
      "text/latex": [
       "\\begin{description*}\n",
       "\\item[10\\textbackslash{}\\%] 633\n",
       "\\item[20\\textbackslash{}\\%] 1508\n",
       "\\item[30\\textbackslash{}\\%] 2716.8\n",
       "\\item[40\\textbackslash{}\\%] 4441.4\n",
       "\\item[45\\textbackslash{}\\%] 5540\n",
       "\\item[50\\textbackslash{}\\%] 6846\n",
       "\\item[55\\textbackslash{}\\%] 8461\n",
       "\\item[60\\textbackslash{}\\%] 10148.2\n",
       "\\item[70\\textbackslash{}\\%] 14803\n",
       "\\item[80\\textbackslash{}\\%] 21582\n",
       "\\item[90\\textbackslash{}\\%] 31880.6\n",
       "\\end{description*}\n"
      ],
      "text/markdown": [
       "10%\n",
       ":   63320%\n",
       ":   150830%\n",
       ":   2716.840%\n",
       ":   4441.445%\n",
       ":   554050%\n",
       ":   684655%\n",
       ":   846160%\n",
       ":   10148.270%\n",
       ":   1480380%\n",
       ":   2158290%\n",
       ":   31880.6\n",
       "\n"
      ],
      "text/plain": [
       "    10%     20%     30%     40%     45%     50%     55%     60%     70%     80% \n",
       "  633.0  1508.0  2716.8  4441.4  5540.0  6846.0  8461.0 10148.2 14803.0 21582.0 \n",
       "    90% \n",
       "31880.6 "
      ]
     },
     "metadata": {},
     "output_type": "display_data"
    },
    {
     "name": "stdout",
     "output_type": "stream",
     "text": [
      "  celltype peak_xval\n",
      "1  Adrenal  2260.067\n",
      "2    Bcell  3725.153\n",
      "3   fHeart  3466.545\n",
      "4  fSpinal  4636.350\n",
      "5    H1ESC  8814.038\n",
      "6    Liver  2157.265\n"
     ]
    },
    {
     "data": {
      "text/html": [
       "<table class=\"dataframe\">\n",
       "<caption>A tibble: 10 × 2</caption>\n",
       "<thead>\n",
       "\t<tr><th scope=col>Celltype</th><th scope=col>densMax</th></tr>\n",
       "\t<tr><th scope=col>&lt;chr&gt;</th><th scope=col>&lt;dbl&gt;</th></tr>\n",
       "</thead>\n",
       "<tbody>\n",
       "\t<tr><td>Adrenal   </td><td> -2592.3197</td></tr>\n",
       "\t<tr><td>Bcell     </td><td> -1559.0021</td></tr>\n",
       "\t<tr><td>H1ESC     </td><td>-11757.7962</td></tr>\n",
       "\t<tr><td>HSPC      </td><td> -1141.4146</td></tr>\n",
       "\t<tr><td>Liver     </td><td> -5120.9527</td></tr>\n",
       "\t<tr><td>Macrophage</td><td>   713.6248</td></tr>\n",
       "\t<tr><td>Neutrophil</td><td>  -862.7004</td></tr>\n",
       "\t<tr><td>Tcell     </td><td> -4489.3419</td></tr>\n",
       "\t<tr><td>fHeart    </td><td> -1052.1653</td></tr>\n",
       "\t<tr><td>fSpinal   </td><td>  -357.8520</td></tr>\n",
       "</tbody>\n",
       "</table>\n"
      ],
      "text/latex": [
       "A tibble: 10 × 2\n",
       "\\begin{tabular}{ll}\n",
       " Celltype & densMax\\\\\n",
       " <chr> & <dbl>\\\\\n",
       "\\hline\n",
       "\t Adrenal    &  -2592.3197\\\\\n",
       "\t Bcell      &  -1559.0021\\\\\n",
       "\t H1ESC      & -11757.7962\\\\\n",
       "\t HSPC       &  -1141.4146\\\\\n",
       "\t Liver      &  -5120.9527\\\\\n",
       "\t Macrophage &    713.6248\\\\\n",
       "\t Neutrophil &   -862.7004\\\\\n",
       "\t Tcell      &  -4489.3419\\\\\n",
       "\t fHeart     &  -1052.1653\\\\\n",
       "\t fSpinal    &   -357.8520\\\\\n",
       "\\end{tabular}\n"
      ],
      "text/markdown": [
       "\n",
       "A tibble: 10 × 2\n",
       "\n",
       "| Celltype &lt;chr&gt; | densMax &lt;dbl&gt; |\n",
       "|---|---|\n",
       "| Adrenal    |  -2592.3197 |\n",
       "| Bcell      |  -1559.0021 |\n",
       "| H1ESC      | -11757.7962 |\n",
       "| HSPC       |  -1141.4146 |\n",
       "| Liver      |  -5120.9527 |\n",
       "| Macrophage |    713.6248 |\n",
       "| Neutrophil |   -862.7004 |\n",
       "| Tcell      |  -4489.3419 |\n",
       "| fHeart     |  -1052.1653 |\n",
       "| fSpinal    |   -357.8520 |\n",
       "\n"
      ],
      "text/plain": [
       "   Celltype   densMax    \n",
       "1  Adrenal     -2592.3197\n",
       "2  Bcell       -1559.0021\n",
       "3  H1ESC      -11757.7962\n",
       "4  HSPC        -1141.4146\n",
       "5  Liver       -5120.9527\n",
       "6  Macrophage    713.6248\n",
       "7  Neutrophil   -862.7004\n",
       "8  Tcell       -4489.3419\n",
       "9  fHeart      -1052.1653\n",
       "10 fSpinal      -357.8520"
      ]
     },
     "metadata": {},
     "output_type": "display_data"
    }
   ],
   "source": [
    "\n",
    "# Create a reference for median measures for exp and observed\n",
    "med_vals <- AllObsDist %>% \n",
    "  group_by(Celltype) %>%\n",
    "  summarize(medianDis=median(Distance))\n",
    "\n",
    "#mean_vals <- AllObsDist %>% \n",
    "#  group_by(Celltype) %>%\n",
    "#  summarize(meanDis=mean(Distance))\n",
    "\n",
    "#mode_vals <- AllObsDist %>% \n",
    "#  group_by(Celltype) %>%\n",
    "#  summarize(modeDis=mode(Distance))\n",
    "\n",
    "\n",
    "####### Request\n",
    "# Find the maximum of each observed density plot per cell type\n",
    "d_a <- density( (AllObsDist %>% filter(Celltype==\"Adrenal\"))$Distance )\n",
    "d_b <- density( (AllObsDist %>% filter(Celltype==\"Bcell\"))$Distance )\n",
    "d_h <- density( (AllObsDist %>% filter(Celltype==\"fHeart\"))$Distance )\n",
    "d_s <- density( (AllObsDist %>% filter(Celltype==\"fSpinal\"))$Distance )\n",
    "d_e <- density( (AllObsDist %>% filter(Celltype==\"H1ESC\"))$Distance )\n",
    "d_l <- density( (AllObsDist %>% filter(Celltype==\"Liver\"))$Distance )\n",
    "\n",
    "maxy_a <- which.max(d_a$y)\n",
    "maxy_b <- which.max(d_b$y)\n",
    "maxy_h <- which.max(d_h$y)\n",
    "maxy_s <- which.max(d_s$y)\n",
    "maxy_e <- which.max(d_e$y)\n",
    "maxy_l <- which.max(d_l$y)\n",
    "\n",
    "maxx_a <- d_a$x[maxy_a]\n",
    "maxx_b <- d_b$x[maxy_b]\n",
    "maxx_h <- d_h$x[maxy_h]\n",
    "maxx_s <- d_s$x[maxy_s]\n",
    "maxx_e <- d_e$x[maxy_e]\n",
    "maxx_l <- d_l$x[maxy_l]\n",
    "\n",
    "# Get IQR, median, etc. \n",
    "summary((AllObsDist %>% filter(Celltype==\"Adrenal\"))$Distance)\n",
    "\n",
    "# Get quantiles\n",
    "quantile((AllObsDist %>% filter(Celltype==\"Adrenal\"))$Distance,\n",
    "         c(.1,.2,.3,.4,.45,.5,.55,.6,.7,.8,.9))\n",
    "quantile((AllObsDist %>% filter(Celltype==\"Bcell\"))$Distance,\n",
    "         c(.1,.2,.3,.4,.45,.5,.55,.6,.7,.8,.9))\n",
    "quantile((AllObsDist %>% filter(Celltype==\"fHeart\"))$Distance,\n",
    "         c(.1,.2,.3,.4,.45,.5,.55,.6,.7,.8,.9))\n",
    "quantile((AllObsDist %>% filter(Celltype==\"fSpinal\"))$Distance,\n",
    "         c(.1,.2,.3,.4,.45,.5,.55,.6,.7,.8,.9))\n",
    "quantile((AllObsDist %>% filter(Celltype==\"H1ESC\"))$Distance,\n",
    "         c(.1,.2,.3,.4,.45,.5,.55,.6,.7,.8,.9))\n",
    "quantile((AllObsDist %>% filter(Celltype==\"Liver\"))$Distance,\n",
    "         c(.1,.2,.3,.4,.45,.5,.55,.6,.7,.8,.9))\n",
    "\n",
    "# Get quantiles after length filter of:\n",
    "\n",
    "for (celltype in c(\"H1ESC\",\"fSpinal\",\"fHeart\",\"Adrenal\",\"Liver\",\"Bcell\")) {\n",
    "  print(celltype)\n",
    "  print(quantile(((AllObsDist %>% filter(Celltype==celltype &\n",
    "                                     Distance < 50000))$Distance),\n",
    "           c(.1,.2,.3,.4,.45,.5,.55,.6,.7,.8,.9)))\n",
    "  cat(\"\\n\")\n",
    "}\n",
    "\n",
    "\n",
    "\n",
    "quantile(((AllObsDist %>% filter(Celltype==\"Adrenal\" &\n",
    "                                          Distance < 50000))$Distance),\n",
    "         c(.1,.2,.3,.4,.45,.5,.55,.6,.7,.8,.9))\n",
    "quantile(((AllObsDist %>% filter(Celltype==\"Bcell\" &\n",
    "                                   Distance < 50000))$Distance),\n",
    "         c(.1,.2,.3,.4,.45,.5,.55,.6,.7,.8,.9))\n",
    "quantile(((AllObsDist %>% filter(Celltype==\"fHeart\" &\n",
    "                                   Distance < 50000))$Distance),\n",
    "         c(.1,.2,.3,.4,.45,.5,.55,.6,.7,.8,.9))\n",
    "quantile(((AllObsDist %>% filter(Celltype==\"fSpinal\" &\n",
    "                                   Distance < 50000))$Distance),\n",
    "         c(.1,.2,.3,.4,.45,.5,.55,.6,.7,.8,.9))\n",
    "quantile(((AllObsDist %>% filter(Celltype==\"H1ESC\" &\n",
    "                                   Distance < 50000))$Distance),\n",
    "         c(.1,.2,.3,.4,.45,.5,.55,.6,.7,.8,.9))\n",
    "quantile(((AllObsDist %>% filter(Celltype==\"Liver\" &\n",
    "                                   Distance < 50000))$Distance),\n",
    "         c(.1,.2,.3,.4,.45,.5,.55,.6,.7,.8,.9))\n",
    "\n",
    "\n",
    "\n",
    "\n",
    "list_maxx <- data.frame(\n",
    "  celltype = c(\"Adrenal\",\"Bcell\",\"fHeart\",\"fSpinal\",\"H1ESC\",\"Liver\"),\n",
    "  peak_xval = c(maxx_a, maxx_b, maxx_h, maxx_s, maxx_e, maxx_l)\n",
    ")\n",
    "print(list_maxx)\n",
    "\n",
    "max <- which.max(density(AllObsDist$Distance)$y)\n",
    "AllObsDist %>% \n",
    "  group_by(Celltype) %>%\n",
    "  summarize(densMax=density(Distance)$x[max])\n",
    "\n",
    "# Expected \n",
    "med_vals_exp <- AllExpDist %>% \n",
    "  group_by(Celltype) %>%\n",
    "  summarize(medianDis=median(Distance))\n",
    "\n",
    "\n",
    "# Scaling is HARD\n",
    "# Plot AllDist\n",
    "#ggplot(AllDist, aes(x=Distance, y=..ndensity..)) +\n",
    "#  geom_density(aes(color=Group, fill=Group), alpha=.6) +\n",
    "#  theme_classic() +\n",
    "#  facet_wrap(~Celltype, ncol=1) +\n",
    "#  coord_cartesian(xlim=c(0,110000)) +\n",
    "#  geom_vline(data = med_vals, mapping=aes(xintercept = medianDis), size=1.5, color=\"red\") +\n",
    "#  scale_x_continuous(breaks = seq(0, 130000, by = 10000))\n",
    "\n",
    "#ggplot(AllDistUnder150000, aes(x=Distance, y=..ndensity..)) +\n",
    "#  geom_density(aes(color=Group, fill=Group), alpha=.6) +\n",
    "#  theme_classic() +\n",
    "#  facet_wrap(~Celltype, ncol=1) +\n",
    "#  coord_cartesian(xlim=c(0,110000)) +\n",
    "#  geom_vline(data = med_vals, mapping=aes(xintercept = medianDis), size=1.5, color=\"red\") + \n",
    "#  scale_x_continuous(breaks = seq(0, 130000, by = 10000))\n",
    "\n",
    "\n",
    "#ggplot(AllDistUnder500000, aes(x=Distance, y=..ndensity..)) +\n",
    "#  geom_density(aes(color=Group, fill=Group), alpha=.6) +\n",
    "#  theme_classic() +\n",
    "#  facet_wrap(~Celltype, ncol=1) +\n",
    "#  coord_cartesian(xlim=c(0,110000)) +\n",
    "#  geom_vline(data = med_vals, mapping=aes(xintercept = medianDis), size=1.5, color=\"red\") + \n",
    "#  scale_x_continuous(breaks = seq(0, 130000, by = 10000))\n",
    "\n",
    "\n",
    "\n",
    "\n",
    "\n",
    "###\n",
    "# ggplot(AllDist, aes(x=Distance, y=..ndensity.., group=Group, fill=Group, color=Group)) +\n",
    "#  geom_density() + \n",
    "#  facet_grid(Celltype~.) + \n",
    "#  theme_classic() +\n",
    "#  coord_cartesian(xlim=c(0,110000)) +\n",
    "#  geom_vline(data = med_vals, mapping=aes(xintercept = medianDis), size=1.5, color=\"#126870\") +\n",
    "#  scale_x_continuous(breaks = seq(0, 130000, by = 10000))\n",
    "\n",
    "\n",
    "# ggplot(AllDistUnder1000000, aes(x=Distance, y=..ndensity.., group=Group, fill=Group, color=Group)) +\n",
    "#  geom_density() + \n",
    "#  facet_grid(Celltype~.) + \n",
    "#  theme_classic() +\n",
    "#  coord_cartesian(xlim=c(0,110000)) +\n",
    "#  geom_vline(data = med_vals, mapping=aes(xintercept = medianDis), size=1.5, color=\"#126870\") +\n",
    "#  scale_x_continuous(breaks = seq(0, 130000, by = 10000))\n"
   ]
  },
  {
   "cell_type": "markdown",
   "id": "93331526",
   "metadata": {},
   "source": [
    "## Actual plot "
   ]
  },
  {
   "cell_type": "code",
   "execution_count": 31,
   "id": "cc4b6909",
   "metadata": {},
   "outputs": [
    {
     "name": "stdout",
     "output_type": "stream",
     "text": [
      " Factor w/ 10 levels \"H1ESC\",\"fSpinal\",..: 1 1 1 1 1 1 1 1 1 1 ...\n"
     ]
    }
   ],
   "source": [
    "str(AllDistUnder150000$Celltype)"
   ]
  },
  {
   "cell_type": "code",
   "execution_count": 30,
   "id": "1ce9e486",
   "metadata": {},
   "outputs": [],
   "source": [
    "Celltype_Plotting_Order <- c(\"H1ESC\",\"fSpinal\",\"fHeart\",\"Adrenal\",\"Liver\",\"HSPC\",\"Macrophage\",\"Neutrophil\",\"Bcell\",\"Tcell\")"
   ]
  },
  {
   "cell_type": "code",
   "execution_count": 35,
   "id": "c34a733b",
   "metadata": {
    "scrolled": false
   },
   "outputs": [
    {
     "data": {
      "text/html": [
       "<strong>png:</strong> 2"
      ],
      "text/latex": [
       "\\textbf{png:} 2"
      ],
      "text/markdown": [
       "**png:** 2"
      ],
      "text/plain": [
       "png \n",
       "  2 "
      ]
     },
     "metadata": {},
     "output_type": "display_data"
    },
    {
     "data": {
      "image/png": "[encoded data removed]",
      "text/plain": [
       "plot without title"
      ]
     },
     "metadata": {
      "image/png": {
       "height": 420,
       "width": 420
      }
     },
     "output_type": "display_data"
    }
   ],
   "source": [
    "pdf(\"interHMRDistances.9celltypes.July152023.AllDistUnder150000.pdf\")\n",
    "\n",
    "p15 <- ggplot(AllDistUnder150000, aes(x=Distance, y=..ndensity.., group=Group, fill=Group, color=Group)) +\n",
    "  geom_density() + \n",
    "  facet_grid(factor(Celltype, levels = Celltype_Plotting_Order) ~.) + \n",
    "  theme_classic() +\n",
    "  coord_cartesian(xlim=c(0,110000)) +\n",
    "  geom_vline(data = med_vals, mapping=aes(xintercept = medianDis), size=1.5, color=\"#04263f\") +\n",
    "  scale_x_continuous(breaks = seq(0, 130000, by = 10000)) +\n",
    "  scale_fill_manual( values = c(\"#AAAAAA\",\"#b3e2cd\")) +\n",
    "  scale_color_manual( values = c(\"#AAAAAA\",\"#b3e2cd\"))\n",
    "p15\n",
    "\n",
    "dev.off()\n",
    "p15"
   ]
  },
  {
   "cell_type": "code",
   "execution_count": 39,
   "id": "3ca50826",
   "metadata": {},
   "outputs": [
    {
     "data": {
      "text/html": [
       "'/gpfs52/data/hodges_lab/Tim/finalAnalyses_HMRs/interHMRdistances'"
      ],
      "text/latex": [
       "'/gpfs52/data/hodges\\_lab/Tim/finalAnalyses\\_HMRs/interHMRdistances'"
      ],
      "text/markdown": [
       "'/gpfs52/data/hodges_lab/Tim/finalAnalyses_HMRs/interHMRdistances'"
      ],
      "text/plain": [
       "[1] \"/gpfs52/data/hodges_lab/Tim/finalAnalyses_HMRs/interHMRdistances\""
      ]
     },
     "metadata": {},
     "output_type": "display_data"
    }
   ],
   "source": [
    "getwd()"
   ]
  },
  {
   "cell_type": "code",
   "execution_count": 36,
   "id": "4f17a280",
   "metadata": {
    "scrolled": true
   },
   "outputs": [
    {
     "data": {
      "text/html": [
       "<strong>png:</strong> 2"
      ],
      "text/latex": [
       "\\textbf{png:} 2"
      ],
      "text/markdown": [
       "**png:** 2"
      ],
      "text/plain": [
       "png \n",
       "  2 "
      ]
     },
     "metadata": {},
     "output_type": "display_data"
    },
    {
     "data": {
      "image/png": "[encoded data removed]",
      "text/plain": [
       "plot without title"
      ]
     },
     "metadata": {
      "image/png": {
       "height": 420,
       "width": 420
      }
     },
     "output_type": "display_data"
    }
   ],
   "source": [
    "pdf(\"interHMRDistances.9celltypes.July15.AllDistUnder500000.pdf\")\n",
    "\n",
    "p50 <- ggplot(AllDistUnder500000, aes(x=Distance, y=..ndensity.., group=Group, fill=Group, color=Group)) +\n",
    "  geom_density() + \n",
    "  facet_grid(factor(Celltype, levels = Celltype_Plotting_Order) ~.) + \n",
    "  theme_classic() +\n",
    "  coord_cartesian(xlim=c(0,110000)) +\n",
    "  geom_vline(data = med_vals, mapping=aes(xintercept = medianDis), size=1.5, color=\"#04263f\") +\n",
    "  scale_x_continuous(breaks = seq(0, 130000, by = 10000)) +\n",
    "  scale_fill_manual( values = c(\"#AAAAAA\",\"#b3e2cd\")) +\n",
    "  scale_color_manual( values = c(\"#AAAAAA\",\"#b3e2cd\"))\n",
    "p50\n",
    "\n",
    "dev.off()\n",
    "\n",
    "p50"
   ]
  },
  {
   "cell_type": "markdown",
   "id": "d0a8ceff",
   "metadata": {},
   "source": [
    "## Stats for Table S2 with all cell types (9)"
   ]
  },
  {
   "cell_type": "code",
   "execution_count": 9,
   "id": "6f499826",
   "metadata": {},
   "outputs": [
    {
     "name": "stdout",
     "output_type": "stream",
     "text": [
      "[1] \"H1ESC\"\n"
     ]
    },
    {
     "data": {
      "text/html": [
       "<style>\n",
       ".dl-inline {width: auto; margin:0; padding: 0}\n",
       ".dl-inline>dt, .dl-inline>dd {float: none; width: auto; display: inline-block}\n",
       ".dl-inline>dt::after {content: \":\\0020\"; padding-right: .5ex}\n",
       ".dl-inline>dt:not(:first-of-type) {padding-left: .5ex}\n",
       "</style><dl class=dl-inline><dt>10%</dt><dd>227</dd><dt>20%</dt><dd>1283</dd><dt>30%</dt><dd>2953.8</dd><dt>40%</dt><dd>5626.6</dd><dt>45%</dt><dd>7102.65</dd><dt>50%</dt><dd>8921</dd><dt>55%</dt><dd>11013.15</dd><dt>60%</dt><dd>13299.8</dd><dt>70%</dt><dd>18970</dd><dt>80%</dt><dd>26779</dd><dt>90%</dt><dd>37041.2</dd></dl>\n"
      ],
      "text/latex": [
       "\\begin{description*}\n",
       "\\item[10\\textbackslash{}\\%] 227\n",
       "\\item[20\\textbackslash{}\\%] 1283\n",
       "\\item[30\\textbackslash{}\\%] 2953.8\n",
       "\\item[40\\textbackslash{}\\%] 5626.6\n",
       "\\item[45\\textbackslash{}\\%] 7102.65\n",
       "\\item[50\\textbackslash{}\\%] 8921\n",
       "\\item[55\\textbackslash{}\\%] 11013.15\n",
       "\\item[60\\textbackslash{}\\%] 13299.8\n",
       "\\item[70\\textbackslash{}\\%] 18970\n",
       "\\item[80\\textbackslash{}\\%] 26779\n",
       "\\item[90\\textbackslash{}\\%] 37041.2\n",
       "\\end{description*}\n"
      ],
      "text/markdown": [
       "10%\n",
       ":   22720%\n",
       ":   128330%\n",
       ":   2953.840%\n",
       ":   5626.645%\n",
       ":   7102.6550%\n",
       ":   892155%\n",
       ":   11013.1560%\n",
       ":   13299.870%\n",
       ":   1897080%\n",
       ":   2677990%\n",
       ":   37041.2\n",
       "\n"
      ],
      "text/plain": [
       "     10%      20%      30%      40%      45%      50%      55%      60% \n",
       "  227.00  1283.00  2953.80  5626.60  7102.65  8921.00 11013.15 13299.80 \n",
       "     70%      80%      90% \n",
       "18970.00 26779.00 37041.20 "
      ]
     },
     "metadata": {},
     "output_type": "display_data"
    },
    {
     "name": "stdout",
     "output_type": "stream",
     "text": [
      "[1] \"fSpinal\"\n"
     ]
    },
    {
     "data": {
      "text/html": [
       "<style>\n",
       ".dl-inline {width: auto; margin:0; padding: 0}\n",
       ".dl-inline>dt, .dl-inline>dd {float: none; width: auto; display: inline-block}\n",
       ".dl-inline>dt::after {content: \":\\0020\"; padding-right: .5ex}\n",
       ".dl-inline>dt:not(:first-of-type) {padding-left: .5ex}\n",
       "</style><dl class=dl-inline><dt>10%</dt><dd>881</dd><dt>20%</dt><dd>1770</dd><dt>30%</dt><dd>2960</dd><dt>40%</dt><dd>4574</dd><dt>45%</dt><dd>5485</dd><dt>50%</dt><dd>6555</dd><dt>55%</dt><dd>7805</dd><dt>60%</dt><dd>9237</dd><dt>70%</dt><dd>13267</dd><dt>80%</dt><dd>19213</dd><dt>90%</dt><dd>29618</dd></dl>\n"
      ],
      "text/latex": [
       "\\begin{description*}\n",
       "\\item[10\\textbackslash{}\\%] 881\n",
       "\\item[20\\textbackslash{}\\%] 1770\n",
       "\\item[30\\textbackslash{}\\%] 2960\n",
       "\\item[40\\textbackslash{}\\%] 4574\n",
       "\\item[45\\textbackslash{}\\%] 5485\n",
       "\\item[50\\textbackslash{}\\%] 6555\n",
       "\\item[55\\textbackslash{}\\%] 7805\n",
       "\\item[60\\textbackslash{}\\%] 9237\n",
       "\\item[70\\textbackslash{}\\%] 13267\n",
       "\\item[80\\textbackslash{}\\%] 19213\n",
       "\\item[90\\textbackslash{}\\%] 29618\n",
       "\\end{description*}\n"
      ],
      "text/markdown": [
       "10%\n",
       ":   88120%\n",
       ":   177030%\n",
       ":   296040%\n",
       ":   457445%\n",
       ":   548550%\n",
       ":   655555%\n",
       ":   780560%\n",
       ":   923770%\n",
       ":   1326780%\n",
       ":   1921390%\n",
       ":   29618\n",
       "\n"
      ],
      "text/plain": [
       "  10%   20%   30%   40%   45%   50%   55%   60%   70%   80%   90% \n",
       "  881  1770  2960  4574  5485  6555  7805  9237 13267 19213 29618 "
      ]
     },
     "metadata": {},
     "output_type": "display_data"
    },
    {
     "name": "stdout",
     "output_type": "stream",
     "text": [
      "[1] \"fHeart\"\n"
     ]
    },
    {
     "data": {
      "text/html": [
       "<style>\n",
       ".dl-inline {width: auto; margin:0; padding: 0}\n",
       ".dl-inline>dt, .dl-inline>dd {float: none; width: auto; display: inline-block}\n",
       ".dl-inline>dt::after {content: \":\\0020\"; padding-right: .5ex}\n",
       ".dl-inline>dt:not(:first-of-type) {padding-left: .5ex}\n",
       "</style><dl class=dl-inline><dt>10%</dt><dd>761</dd><dt>20%</dt><dd>1626</dd><dt>30%</dt><dd>2787</dd><dt>40%</dt><dd>4329</dd><dt>45%</dt><dd>5309</dd><dt>50%</dt><dd>6361</dd><dt>55%</dt><dd>7689</dd><dt>60%</dt><dd>9183</dd><dt>70%</dt><dd>13231</dd><dt>80%</dt><dd>19414</dd><dt>90%</dt><dd>29903</dd></dl>\n"
      ],
      "text/latex": [
       "\\begin{description*}\n",
       "\\item[10\\textbackslash{}\\%] 761\n",
       "\\item[20\\textbackslash{}\\%] 1626\n",
       "\\item[30\\textbackslash{}\\%] 2787\n",
       "\\item[40\\textbackslash{}\\%] 4329\n",
       "\\item[45\\textbackslash{}\\%] 5309\n",
       "\\item[50\\textbackslash{}\\%] 6361\n",
       "\\item[55\\textbackslash{}\\%] 7689\n",
       "\\item[60\\textbackslash{}\\%] 9183\n",
       "\\item[70\\textbackslash{}\\%] 13231\n",
       "\\item[80\\textbackslash{}\\%] 19414\n",
       "\\item[90\\textbackslash{}\\%] 29903\n",
       "\\end{description*}\n"
      ],
      "text/markdown": [
       "10%\n",
       ":   76120%\n",
       ":   162630%\n",
       ":   278740%\n",
       ":   432945%\n",
       ":   530950%\n",
       ":   636155%\n",
       ":   768960%\n",
       ":   918370%\n",
       ":   1323180%\n",
       ":   1941490%\n",
       ":   29903\n",
       "\n"
      ],
      "text/plain": [
       "  10%   20%   30%   40%   45%   50%   55%   60%   70%   80%   90% \n",
       "  761  1626  2787  4329  5309  6361  7689  9183 13231 19414 29903 "
      ]
     },
     "metadata": {},
     "output_type": "display_data"
    },
    {
     "name": "stdout",
     "output_type": "stream",
     "text": [
      "[1] \"Adrenal\"\n"
     ]
    },
    {
     "data": {
      "text/html": [
       "<style>\n",
       ".dl-inline {width: auto; margin:0; padding: 0}\n",
       ".dl-inline>dt, .dl-inline>dd {float: none; width: auto; display: inline-block}\n",
       ".dl-inline>dt::after {content: \":\\0020\"; padding-right: .5ex}\n",
       ".dl-inline>dt:not(:first-of-type) {padding-left: .5ex}\n",
       "</style><dl class=dl-inline><dt>10%</dt><dd>673</dd><dt>20%</dt><dd>1678</dd><dt>30%</dt><dd>2969</dd><dt>40%</dt><dd>4777</dd><dt>45%</dt><dd>5990</dd><dt>50%</dt><dd>7311</dd><dt>55%</dt><dd>8799.3</dd><dt>60%</dt><dd>10524</dd><dt>70%</dt><dd>15105.6</dd><dt>80%</dt><dd>21739.2</dd><dt>90%</dt><dd>32016.2</dd></dl>\n"
      ],
      "text/latex": [
       "\\begin{description*}\n",
       "\\item[10\\textbackslash{}\\%] 673\n",
       "\\item[20\\textbackslash{}\\%] 1678\n",
       "\\item[30\\textbackslash{}\\%] 2969\n",
       "\\item[40\\textbackslash{}\\%] 4777\n",
       "\\item[45\\textbackslash{}\\%] 5990\n",
       "\\item[50\\textbackslash{}\\%] 7311\n",
       "\\item[55\\textbackslash{}\\%] 8799.3\n",
       "\\item[60\\textbackslash{}\\%] 10524\n",
       "\\item[70\\textbackslash{}\\%] 15105.6\n",
       "\\item[80\\textbackslash{}\\%] 21739.2\n",
       "\\item[90\\textbackslash{}\\%] 32016.2\n",
       "\\end{description*}\n"
      ],
      "text/markdown": [
       "10%\n",
       ":   67320%\n",
       ":   167830%\n",
       ":   296940%\n",
       ":   477745%\n",
       ":   599050%\n",
       ":   731155%\n",
       ":   8799.360%\n",
       ":   1052470%\n",
       ":   15105.680%\n",
       ":   21739.290%\n",
       ":   32016.2\n",
       "\n"
      ],
      "text/plain": [
       "    10%     20%     30%     40%     45%     50%     55%     60%     70%     80% \n",
       "  673.0  1678.0  2969.0  4777.0  5990.0  7311.0  8799.3 10524.0 15105.6 21739.2 \n",
       "    90% \n",
       "32016.2 "
      ]
     },
     "metadata": {},
     "output_type": "display_data"
    },
    {
     "name": "stdout",
     "output_type": "stream",
     "text": [
      "[1] \"Liver\"\n"
     ]
    },
    {
     "data": {
      "text/html": [
       "<style>\n",
       ".dl-inline {width: auto; margin:0; padding: 0}\n",
       ".dl-inline>dt, .dl-inline>dd {float: none; width: auto; display: inline-block}\n",
       ".dl-inline>dt::after {content: \":\\0020\"; padding-right: .5ex}\n",
       ".dl-inline>dt:not(:first-of-type) {padding-left: .5ex}\n",
       "</style><dl class=dl-inline><dt>10%</dt><dd>633</dd><dt>20%</dt><dd>1508</dd><dt>30%</dt><dd>2716.8</dd><dt>40%</dt><dd>4441.4</dd><dt>45%</dt><dd>5540</dd><dt>50%</dt><dd>6846</dd><dt>55%</dt><dd>8461</dd><dt>60%</dt><dd>10148.2</dd><dt>70%</dt><dd>14803</dd><dt>80%</dt><dd>21582</dd><dt>90%</dt><dd>31880.6</dd></dl>\n"
      ],
      "text/latex": [
       "\\begin{description*}\n",
       "\\item[10\\textbackslash{}\\%] 633\n",
       "\\item[20\\textbackslash{}\\%] 1508\n",
       "\\item[30\\textbackslash{}\\%] 2716.8\n",
       "\\item[40\\textbackslash{}\\%] 4441.4\n",
       "\\item[45\\textbackslash{}\\%] 5540\n",
       "\\item[50\\textbackslash{}\\%] 6846\n",
       "\\item[55\\textbackslash{}\\%] 8461\n",
       "\\item[60\\textbackslash{}\\%] 10148.2\n",
       "\\item[70\\textbackslash{}\\%] 14803\n",
       "\\item[80\\textbackslash{}\\%] 21582\n",
       "\\item[90\\textbackslash{}\\%] 31880.6\n",
       "\\end{description*}\n"
      ],
      "text/markdown": [
       "10%\n",
       ":   63320%\n",
       ":   150830%\n",
       ":   2716.840%\n",
       ":   4441.445%\n",
       ":   554050%\n",
       ":   684655%\n",
       ":   846160%\n",
       ":   10148.270%\n",
       ":   1480380%\n",
       ":   2158290%\n",
       ":   31880.6\n",
       "\n"
      ],
      "text/plain": [
       "    10%     20%     30%     40%     45%     50%     55%     60%     70%     80% \n",
       "  633.0  1508.0  2716.8  4441.4  5540.0  6846.0  8461.0 10148.2 14803.0 21582.0 \n",
       "    90% \n",
       "31880.6 "
      ]
     },
     "metadata": {},
     "output_type": "display_data"
    },
    {
     "name": "stdout",
     "output_type": "stream",
     "text": [
      "[1] \"HSPC\"\n"
     ]
    },
    {
     "data": {
      "text/html": [
       "<style>\n",
       ".dl-inline {width: auto; margin:0; padding: 0}\n",
       ".dl-inline>dt, .dl-inline>dd {float: none; width: auto; display: inline-block}\n",
       ".dl-inline>dt::after {content: \":\\0020\"; padding-right: .5ex}\n",
       ".dl-inline>dt:not(:first-of-type) {padding-left: .5ex}\n",
       "</style><dl class=dl-inline><dt>10%</dt><dd>652</dd><dt>20%</dt><dd>1469</dd><dt>30%</dt><dd>2618</dd><dt>40%</dt><dd>4222.4</dd><dt>45%</dt><dd>5205</dd><dt>50%</dt><dd>6330</dd><dt>55%</dt><dd>7668.15</dd><dt>60%</dt><dd>9208</dd><dt>70%</dt><dd>13361</dd><dt>80%</dt><dd>19384</dd><dt>90%</dt><dd>29702</dd></dl>\n"
      ],
      "text/latex": [
       "\\begin{description*}\n",
       "\\item[10\\textbackslash{}\\%] 652\n",
       "\\item[20\\textbackslash{}\\%] 1469\n",
       "\\item[30\\textbackslash{}\\%] 2618\n",
       "\\item[40\\textbackslash{}\\%] 4222.4\n",
       "\\item[45\\textbackslash{}\\%] 5205\n",
       "\\item[50\\textbackslash{}\\%] 6330\n",
       "\\item[55\\textbackslash{}\\%] 7668.15\n",
       "\\item[60\\textbackslash{}\\%] 9208\n",
       "\\item[70\\textbackslash{}\\%] 13361\n",
       "\\item[80\\textbackslash{}\\%] 19384\n",
       "\\item[90\\textbackslash{}\\%] 29702\n",
       "\\end{description*}\n"
      ],
      "text/markdown": [
       "10%\n",
       ":   65220%\n",
       ":   146930%\n",
       ":   261840%\n",
       ":   4222.445%\n",
       ":   520550%\n",
       ":   633055%\n",
       ":   7668.1560%\n",
       ":   920870%\n",
       ":   1336180%\n",
       ":   1938490%\n",
       ":   29702\n",
       "\n"
      ],
      "text/plain": [
       "     10%      20%      30%      40%      45%      50%      55%      60% \n",
       "  652.00  1469.00  2618.00  4222.40  5205.00  6330.00  7668.15  9208.00 \n",
       "     70%      80%      90% \n",
       "13361.00 19384.00 29702.00 "
      ]
     },
     "metadata": {},
     "output_type": "display_data"
    },
    {
     "name": "stdout",
     "output_type": "stream",
     "text": [
      "[1] \"Macrophage\"\n"
     ]
    },
    {
     "data": {
      "text/html": [
       "<style>\n",
       ".dl-inline {width: auto; margin:0; padding: 0}\n",
       ".dl-inline>dt, .dl-inline>dd {float: none; width: auto; display: inline-block}\n",
       ".dl-inline>dt::after {content: \":\\0020\"; padding-right: .5ex}\n",
       ".dl-inline>dt:not(:first-of-type) {padding-left: .5ex}\n",
       "</style><dl class=dl-inline><dt>10%</dt><dd>535.900000000001</dd><dt>20%</dt><dd>1152.8</dd><dt>30%</dt><dd>2025.7</dd><dt>40%</dt><dd>3284</dd><dt>45%</dt><dd>4078.55</dd><dt>50%</dt><dd>5001</dd><dt>55%</dt><dd>6080.45</dd><dt>60%</dt><dd>7375</dd><dt>70%</dt><dd>10919</dd><dt>80%</dt><dd>16430.2</dd><dt>90%</dt><dd>26317.3</dd></dl>\n"
      ],
      "text/latex": [
       "\\begin{description*}\n",
       "\\item[10\\textbackslash{}\\%] 535.900000000001\n",
       "\\item[20\\textbackslash{}\\%] 1152.8\n",
       "\\item[30\\textbackslash{}\\%] 2025.7\n",
       "\\item[40\\textbackslash{}\\%] 3284\n",
       "\\item[45\\textbackslash{}\\%] 4078.55\n",
       "\\item[50\\textbackslash{}\\%] 5001\n",
       "\\item[55\\textbackslash{}\\%] 6080.45\n",
       "\\item[60\\textbackslash{}\\%] 7375\n",
       "\\item[70\\textbackslash{}\\%] 10919\n",
       "\\item[80\\textbackslash{}\\%] 16430.2\n",
       "\\item[90\\textbackslash{}\\%] 26317.3\n",
       "\\end{description*}\n"
      ],
      "text/markdown": [
       "10%\n",
       ":   535.90000000000120%\n",
       ":   1152.830%\n",
       ":   2025.740%\n",
       ":   328445%\n",
       ":   4078.5550%\n",
       ":   500155%\n",
       ":   6080.4560%\n",
       ":   737570%\n",
       ":   1091980%\n",
       ":   16430.290%\n",
       ":   26317.3\n",
       "\n"
      ],
      "text/plain": [
       "     10%      20%      30%      40%      45%      50%      55%      60% \n",
       "  535.90  1152.80  2025.70  3284.00  4078.55  5001.00  6080.45  7375.00 \n",
       "     70%      80%      90% \n",
       "10919.00 16430.20 26317.30 "
      ]
     },
     "metadata": {},
     "output_type": "display_data"
    },
    {
     "name": "stdout",
     "output_type": "stream",
     "text": [
      "[1] \"Tcell\"\n"
     ]
    },
    {
     "data": {
      "text/html": [
       "<style>\n",
       ".dl-inline {width: auto; margin:0; padding: 0}\n",
       ".dl-inline>dt, .dl-inline>dd {float: none; width: auto; display: inline-block}\n",
       ".dl-inline>dt::after {content: \":\\0020\"; padding-right: .5ex}\n",
       ".dl-inline>dt:not(:first-of-type) {padding-left: .5ex}\n",
       "</style><dl class=dl-inline><dt>10%</dt><dd>715</dd><dt>20%</dt><dd>1789</dd><dt>30%</dt><dd>3329.4</dd><dt>40%</dt><dd>5214</dd><dt>45%</dt><dd>6397.3</dd><dt>50%</dt><dd>7728</dd><dt>55%</dt><dd>9361</dd><dt>60%</dt><dd>11244.8</dd><dt>70%</dt><dd>15820.8</dd><dt>80%</dt><dd>22468.6</dd><dt>90%</dt><dd>32882.2</dd></dl>\n"
      ],
      "text/latex": [
       "\\begin{description*}\n",
       "\\item[10\\textbackslash{}\\%] 715\n",
       "\\item[20\\textbackslash{}\\%] 1789\n",
       "\\item[30\\textbackslash{}\\%] 3329.4\n",
       "\\item[40\\textbackslash{}\\%] 5214\n",
       "\\item[45\\textbackslash{}\\%] 6397.3\n",
       "\\item[50\\textbackslash{}\\%] 7728\n",
       "\\item[55\\textbackslash{}\\%] 9361\n",
       "\\item[60\\textbackslash{}\\%] 11244.8\n",
       "\\item[70\\textbackslash{}\\%] 15820.8\n",
       "\\item[80\\textbackslash{}\\%] 22468.6\n",
       "\\item[90\\textbackslash{}\\%] 32882.2\n",
       "\\end{description*}\n"
      ],
      "text/markdown": [
       "10%\n",
       ":   71520%\n",
       ":   178930%\n",
       ":   3329.440%\n",
       ":   521445%\n",
       ":   6397.350%\n",
       ":   772855%\n",
       ":   936160%\n",
       ":   11244.870%\n",
       ":   15820.880%\n",
       ":   22468.690%\n",
       ":   32882.2\n",
       "\n"
      ],
      "text/plain": [
       "    10%     20%     30%     40%     45%     50%     55%     60%     70%     80% \n",
       "  715.0  1789.0  3329.4  5214.0  6397.3  7728.0  9361.0 11244.8 15820.8 22468.6 \n",
       "    90% \n",
       "32882.2 "
      ]
     },
     "metadata": {},
     "output_type": "display_data"
    },
    {
     "name": "stdout",
     "output_type": "stream",
     "text": [
      "[1] \"Bcell\"\n"
     ]
    },
    {
     "data": {
      "text/html": [
       "<style>\n",
       ".dl-inline {width: auto; margin:0; padding: 0}\n",
       ".dl-inline>dt, .dl-inline>dd {float: none; width: auto; display: inline-block}\n",
       ".dl-inline>dt::after {content: \":\\0020\"; padding-right: .5ex}\n",
       ".dl-inline>dt:not(:first-of-type) {padding-left: .5ex}\n",
       "</style><dl class=dl-inline><dt>10%</dt><dd>436.3</dd><dt>20%</dt><dd>1259</dd><dt>30%</dt><dd>2410</dd><dt>40%</dt><dd>4030</dd><dt>45%</dt><dd>4998</dd><dt>50%</dt><dd>6142</dd><dt>55%</dt><dd>7474</dd><dt>60%</dt><dd>9112.8</dd><dt>70%</dt><dd>13573.1</dd><dt>80%</dt><dd>19841.2</dd><dt>90%</dt><dd>30592.7</dd></dl>\n"
      ],
      "text/latex": [
       "\\begin{description*}\n",
       "\\item[10\\textbackslash{}\\%] 436.3\n",
       "\\item[20\\textbackslash{}\\%] 1259\n",
       "\\item[30\\textbackslash{}\\%] 2410\n",
       "\\item[40\\textbackslash{}\\%] 4030\n",
       "\\item[45\\textbackslash{}\\%] 4998\n",
       "\\item[50\\textbackslash{}\\%] 6142\n",
       "\\item[55\\textbackslash{}\\%] 7474\n",
       "\\item[60\\textbackslash{}\\%] 9112.8\n",
       "\\item[70\\textbackslash{}\\%] 13573.1\n",
       "\\item[80\\textbackslash{}\\%] 19841.2\n",
       "\\item[90\\textbackslash{}\\%] 30592.7\n",
       "\\end{description*}\n"
      ],
      "text/markdown": [
       "10%\n",
       ":   436.320%\n",
       ":   125930%\n",
       ":   241040%\n",
       ":   403045%\n",
       ":   499850%\n",
       ":   614255%\n",
       ":   747460%\n",
       ":   9112.870%\n",
       ":   13573.180%\n",
       ":   19841.290%\n",
       ":   30592.7\n",
       "\n"
      ],
      "text/plain": [
       "    10%     20%     30%     40%     45%     50%     55%     60%     70%     80% \n",
       "  436.3  1259.0  2410.0  4030.0  4998.0  6142.0  7474.0  9112.8 13573.1 19841.2 \n",
       "    90% \n",
       "30592.7 "
      ]
     },
     "metadata": {},
     "output_type": "display_data"
    }
   ],
   "source": [
    "print(\"H1ESC\")\n",
    "quantile(((AllObsDist %>% filter(Celltype==\"H1ESC\" &\n",
    "                                   Distance < 50000))$Distance),\n",
    "         c(.1,.2,.3,.4,.45,.5,.55,.6,.7,.8,.9))\n",
    "\n",
    "print(\"fSpinal\")\n",
    "quantile(((AllObsDist %>% filter(Celltype==\"fSpinal\" &\n",
    "                                   Distance < 50000))$Distance),\n",
    "         c(.1,.2,.3,.4,.45,.5,.55,.6,.7,.8,.9))\n",
    "\n",
    "print(\"fHeart\")\n",
    "quantile(((AllObsDist %>% filter(Celltype==\"fHeart\" &\n",
    "                                   Distance < 50000))$Distance),\n",
    "         c(.1,.2,.3,.4,.45,.5,.55,.6,.7,.8,.9))\n",
    "\n",
    "print(\"Adrenal\")\n",
    "quantile(((AllObsDist %>% filter(Celltype==\"Adrenal\" &\n",
    "                                          Distance < 50000))$Distance),\n",
    "         c(.1,.2,.3,.4,.45,.5,.55,.6,.7,.8,.9))\n",
    "\n",
    "print(\"Liver\")\n",
    "quantile(((AllObsDist %>% filter(Celltype==\"Liver\" &\n",
    "                                   Distance < 50000))$Distance),\n",
    "         c(.1,.2,.3,.4,.45,.5,.55,.6,.7,.8,.9))\n",
    "\n",
    "print(\"HSPC\")\n",
    "quantile(((AllObsDist %>% filter(Celltype==\"HSPC\" &\n",
    "                                   Distance < 50000))$Distance),\n",
    "         c(.1,.2,.3,.4,.45,.5,.55,.6,.7,.8,.9))\n",
    "\n",
    "print(\"Macrophage\")\n",
    "quantile(((AllObsDist %>% filter(Celltype==\"Macrophage\" &\n",
    "                                   Distance < 50000))$Distance),\n",
    "         c(.1,.2,.3,.4,.45,.5,.55,.6,.7,.8,.9))\n",
    "\n",
    "print(\"Tcell\")\n",
    "quantile(((AllObsDist %>% filter(Celltype==\"Tcell\" &\n",
    "                                   Distance < 50000))$Distance),\n",
    "         c(.1,.2,.3,.4,.45,.5,.55,.6,.7,.8,.9))\n",
    "\n",
    "print(\"Bcell\")\n",
    "quantile(((AllObsDist %>% filter(Celltype==\"Bcell\" &\n",
    "                                   Distance < 50000))$Distance),\n",
    "         c(.1,.2,.3,.4,.45,.5,.55,.6,.7,.8,.9))\n",
    "\n"
   ]
  },
  {
   "cell_type": "code",
   "execution_count": 47,
   "id": "71daf6a9",
   "metadata": {},
   "outputs": [
    {
     "name": "stdout",
     "output_type": "stream",
     "text": [
      "[1] \"H1ESC\"\n"
     ]
    },
    {
     "data": {
      "text/html": [
       "<style>\n",
       ".dl-inline {width: auto; margin:0; padding: 0}\n",
       ".dl-inline>dt, .dl-inline>dd {float: none; width: auto; display: inline-block}\n",
       ".dl-inline>dt::after {content: \":\\0020\"; padding-right: .5ex}\n",
       ".dl-inline>dt:not(:first-of-type) {padding-left: .5ex}\n",
       "</style><dl class=dl-inline><dt>10%</dt><dd>227</dd><dt>20%</dt><dd>1283</dd><dt>30%</dt><dd>2953.8</dd><dt>40%</dt><dd>5626.6</dd><dt>45%</dt><dd>7102.65</dd><dt>50%</dt><dd>8921</dd><dt>55%</dt><dd>11013.15</dd><dt>60%</dt><dd>13299.8</dd><dt>70%</dt><dd>18970</dd><dt>80%</dt><dd>26779</dd><dt>90%</dt><dd>37041.2</dd></dl>\n"
      ],
      "text/latex": [
       "\\begin{description*}\n",
       "\\item[10\\textbackslash{}\\%] 227\n",
       "\\item[20\\textbackslash{}\\%] 1283\n",
       "\\item[30\\textbackslash{}\\%] 2953.8\n",
       "\\item[40\\textbackslash{}\\%] 5626.6\n",
       "\\item[45\\textbackslash{}\\%] 7102.65\n",
       "\\item[50\\textbackslash{}\\%] 8921\n",
       "\\item[55\\textbackslash{}\\%] 11013.15\n",
       "\\item[60\\textbackslash{}\\%] 13299.8\n",
       "\\item[70\\textbackslash{}\\%] 18970\n",
       "\\item[80\\textbackslash{}\\%] 26779\n",
       "\\item[90\\textbackslash{}\\%] 37041.2\n",
       "\\end{description*}\n"
      ],
      "text/markdown": [
       "10%\n",
       ":   22720%\n",
       ":   128330%\n",
       ":   2953.840%\n",
       ":   5626.645%\n",
       ":   7102.6550%\n",
       ":   892155%\n",
       ":   11013.1560%\n",
       ":   13299.870%\n",
       ":   1897080%\n",
       ":   2677990%\n",
       ":   37041.2\n",
       "\n"
      ],
      "text/plain": [
       "     10%      20%      30%      40%      45%      50%      55%      60% \n",
       "  227.00  1283.00  2953.80  5626.60  7102.65  8921.00 11013.15 13299.80 \n",
       "     70%      80%      90% \n",
       "18970.00 26779.00 37041.20 "
      ]
     },
     "metadata": {},
     "output_type": "display_data"
    }
   ],
   "source": [
    "print(\"H1ESC\")\n",
    "quantile(((AllObsDist %>% filter(Celltype==\"H1ESC\" &\n",
    "                                   Distance < 50000))$Distance),\n",
    "         c(.1,.2,.3,.4,.45,.5,.55,.6,.7,.8,.9))\n"
   ]
  },
  {
   "cell_type": "code",
   "execution_count": 43,
   "id": "33441897",
   "metadata": {},
   "outputs": [
    {
     "name": "stdout",
     "output_type": "stream",
     "text": [
      "[1] \"H1ESC\"\n"
     ]
    },
    {
     "data": {
      "text/html": [
       "<style>\n",
       ".dl-inline {width: auto; margin:0; padding: 0}\n",
       ".dl-inline>dt, .dl-inline>dd {float: none; width: auto; display: inline-block}\n",
       ".dl-inline>dt::after {content: \":\\0020\"; padding-right: .5ex}\n",
       ".dl-inline>dt:not(:first-of-type) {padding-left: .5ex}\n",
       "</style><dl class=dl-inline><dt>10%</dt><dd>227</dd><dt>20%</dt><dd>1283</dd><dt>30%</dt><dd>2953.8</dd><dt>40%</dt><dd>5626.6</dd><dt>45%</dt><dd>7102.65</dd><dt>50%</dt><dd>8921</dd><dt>55%</dt><dd>11013.15</dd><dt>60%</dt><dd>13299.8</dd><dt>70%</dt><dd>18970</dd><dt>80%</dt><dd>26779</dd><dt>90%</dt><dd>37041.2</dd></dl>\n"
      ],
      "text/latex": [
       "\\begin{description*}\n",
       "\\item[10\\textbackslash{}\\%] 227\n",
       "\\item[20\\textbackslash{}\\%] 1283\n",
       "\\item[30\\textbackslash{}\\%] 2953.8\n",
       "\\item[40\\textbackslash{}\\%] 5626.6\n",
       "\\item[45\\textbackslash{}\\%] 7102.65\n",
       "\\item[50\\textbackslash{}\\%] 8921\n",
       "\\item[55\\textbackslash{}\\%] 11013.15\n",
       "\\item[60\\textbackslash{}\\%] 13299.8\n",
       "\\item[70\\textbackslash{}\\%] 18970\n",
       "\\item[80\\textbackslash{}\\%] 26779\n",
       "\\item[90\\textbackslash{}\\%] 37041.2\n",
       "\\end{description*}\n"
      ],
      "text/markdown": [
       "10%\n",
       ":   22720%\n",
       ":   128330%\n",
       ":   2953.840%\n",
       ":   5626.645%\n",
       ":   7102.6550%\n",
       ":   892155%\n",
       ":   11013.1560%\n",
       ":   13299.870%\n",
       ":   1897080%\n",
       ":   2677990%\n",
       ":   37041.2\n",
       "\n"
      ],
      "text/plain": [
       "     10%      20%      30%      40%      45%      50%      55%      60% \n",
       "  227.00  1283.00  2953.80  5626.60  7102.65  8921.00 11013.15 13299.80 \n",
       "     70%      80%      90% \n",
       "18970.00 26779.00 37041.20 "
      ]
     },
     "metadata": {},
     "output_type": "display_data"
    },
    {
     "name": "stdout",
     "output_type": "stream",
     "text": [
      "[1] \"fSpinal\"\n"
     ]
    },
    {
     "data": {
      "text/html": [
       "<style>\n",
       ".dl-inline {width: auto; margin:0; padding: 0}\n",
       ".dl-inline>dt, .dl-inline>dd {float: none; width: auto; display: inline-block}\n",
       ".dl-inline>dt::after {content: \":\\0020\"; padding-right: .5ex}\n",
       ".dl-inline>dt:not(:first-of-type) {padding-left: .5ex}\n",
       "</style><dl class=dl-inline><dt>10%</dt><dd>881</dd><dt>20%</dt><dd>1770</dd><dt>30%</dt><dd>2960</dd><dt>40%</dt><dd>4574</dd><dt>45%</dt><dd>5485</dd><dt>50%</dt><dd>6555</dd><dt>55%</dt><dd>7805</dd><dt>60%</dt><dd>9237</dd><dt>70%</dt><dd>13267</dd><dt>80%</dt><dd>19213</dd><dt>90%</dt><dd>29618</dd></dl>\n"
      ],
      "text/latex": [
       "\\begin{description*}\n",
       "\\item[10\\textbackslash{}\\%] 881\n",
       "\\item[20\\textbackslash{}\\%] 1770\n",
       "\\item[30\\textbackslash{}\\%] 2960\n",
       "\\item[40\\textbackslash{}\\%] 4574\n",
       "\\item[45\\textbackslash{}\\%] 5485\n",
       "\\item[50\\textbackslash{}\\%] 6555\n",
       "\\item[55\\textbackslash{}\\%] 7805\n",
       "\\item[60\\textbackslash{}\\%] 9237\n",
       "\\item[70\\textbackslash{}\\%] 13267\n",
       "\\item[80\\textbackslash{}\\%] 19213\n",
       "\\item[90\\textbackslash{}\\%] 29618\n",
       "\\end{description*}\n"
      ],
      "text/markdown": [
       "10%\n",
       ":   88120%\n",
       ":   177030%\n",
       ":   296040%\n",
       ":   457445%\n",
       ":   548550%\n",
       ":   655555%\n",
       ":   780560%\n",
       ":   923770%\n",
       ":   1326780%\n",
       ":   1921390%\n",
       ":   29618\n",
       "\n"
      ],
      "text/plain": [
       "  10%   20%   30%   40%   45%   50%   55%   60%   70%   80%   90% \n",
       "  881  1770  2960  4574  5485  6555  7805  9237 13267 19213 29618 "
      ]
     },
     "metadata": {},
     "output_type": "display_data"
    },
    {
     "name": "stdout",
     "output_type": "stream",
     "text": [
      "[1] \"fHeart\"\n"
     ]
    },
    {
     "data": {
      "text/html": [
       "<style>\n",
       ".dl-inline {width: auto; margin:0; padding: 0}\n",
       ".dl-inline>dt, .dl-inline>dd {float: none; width: auto; display: inline-block}\n",
       ".dl-inline>dt::after {content: \":\\0020\"; padding-right: .5ex}\n",
       ".dl-inline>dt:not(:first-of-type) {padding-left: .5ex}\n",
       "</style><dl class=dl-inline><dt>10%</dt><dd>761</dd><dt>20%</dt><dd>1626</dd><dt>30%</dt><dd>2787</dd><dt>40%</dt><dd>4329</dd><dt>45%</dt><dd>5309</dd><dt>50%</dt><dd>6361</dd><dt>55%</dt><dd>7689</dd><dt>60%</dt><dd>9183</dd><dt>70%</dt><dd>13231</dd><dt>80%</dt><dd>19414</dd><dt>90%</dt><dd>29903</dd></dl>\n"
      ],
      "text/latex": [
       "\\begin{description*}\n",
       "\\item[10\\textbackslash{}\\%] 761\n",
       "\\item[20\\textbackslash{}\\%] 1626\n",
       "\\item[30\\textbackslash{}\\%] 2787\n",
       "\\item[40\\textbackslash{}\\%] 4329\n",
       "\\item[45\\textbackslash{}\\%] 5309\n",
       "\\item[50\\textbackslash{}\\%] 6361\n",
       "\\item[55\\textbackslash{}\\%] 7689\n",
       "\\item[60\\textbackslash{}\\%] 9183\n",
       "\\item[70\\textbackslash{}\\%] 13231\n",
       "\\item[80\\textbackslash{}\\%] 19414\n",
       "\\item[90\\textbackslash{}\\%] 29903\n",
       "\\end{description*}\n"
      ],
      "text/markdown": [
       "10%\n",
       ":   76120%\n",
       ":   162630%\n",
       ":   278740%\n",
       ":   432945%\n",
       ":   530950%\n",
       ":   636155%\n",
       ":   768960%\n",
       ":   918370%\n",
       ":   1323180%\n",
       ":   1941490%\n",
       ":   29903\n",
       "\n"
      ],
      "text/plain": [
       "  10%   20%   30%   40%   45%   50%   55%   60%   70%   80%   90% \n",
       "  761  1626  2787  4329  5309  6361  7689  9183 13231 19414 29903 "
      ]
     },
     "metadata": {},
     "output_type": "display_data"
    },
    {
     "name": "stdout",
     "output_type": "stream",
     "text": [
      "[1] \"Adrenal\"\n"
     ]
    },
    {
     "data": {
      "text/html": [
       "<style>\n",
       ".dl-inline {width: auto; margin:0; padding: 0}\n",
       ".dl-inline>dt, .dl-inline>dd {float: none; width: auto; display: inline-block}\n",
       ".dl-inline>dt::after {content: \":\\0020\"; padding-right: .5ex}\n",
       ".dl-inline>dt:not(:first-of-type) {padding-left: .5ex}\n",
       "</style><dl class=dl-inline><dt>10%</dt><dd>673</dd><dt>20%</dt><dd>1678</dd><dt>30%</dt><dd>2969</dd><dt>40%</dt><dd>4777</dd><dt>45%</dt><dd>5990</dd><dt>50%</dt><dd>7311</dd><dt>55%</dt><dd>8799.3</dd><dt>60%</dt><dd>10524</dd><dt>70%</dt><dd>15105.6</dd><dt>80%</dt><dd>21739.2</dd><dt>90%</dt><dd>32016.2</dd></dl>\n"
      ],
      "text/latex": [
       "\\begin{description*}\n",
       "\\item[10\\textbackslash{}\\%] 673\n",
       "\\item[20\\textbackslash{}\\%] 1678\n",
       "\\item[30\\textbackslash{}\\%] 2969\n",
       "\\item[40\\textbackslash{}\\%] 4777\n",
       "\\item[45\\textbackslash{}\\%] 5990\n",
       "\\item[50\\textbackslash{}\\%] 7311\n",
       "\\item[55\\textbackslash{}\\%] 8799.3\n",
       "\\item[60\\textbackslash{}\\%] 10524\n",
       "\\item[70\\textbackslash{}\\%] 15105.6\n",
       "\\item[80\\textbackslash{}\\%] 21739.2\n",
       "\\item[90\\textbackslash{}\\%] 32016.2\n",
       "\\end{description*}\n"
      ],
      "text/markdown": [
       "10%\n",
       ":   67320%\n",
       ":   167830%\n",
       ":   296940%\n",
       ":   477745%\n",
       ":   599050%\n",
       ":   731155%\n",
       ":   8799.360%\n",
       ":   1052470%\n",
       ":   15105.680%\n",
       ":   21739.290%\n",
       ":   32016.2\n",
       "\n"
      ],
      "text/plain": [
       "    10%     20%     30%     40%     45%     50%     55%     60%     70%     80% \n",
       "  673.0  1678.0  2969.0  4777.0  5990.0  7311.0  8799.3 10524.0 15105.6 21739.2 \n",
       "    90% \n",
       "32016.2 "
      ]
     },
     "metadata": {},
     "output_type": "display_data"
    },
    {
     "name": "stdout",
     "output_type": "stream",
     "text": [
      "[1] \"Liver\"\n"
     ]
    },
    {
     "data": {
      "text/html": [
       "<style>\n",
       ".dl-inline {width: auto; margin:0; padding: 0}\n",
       ".dl-inline>dt, .dl-inline>dd {float: none; width: auto; display: inline-block}\n",
       ".dl-inline>dt::after {content: \":\\0020\"; padding-right: .5ex}\n",
       ".dl-inline>dt:not(:first-of-type) {padding-left: .5ex}\n",
       "</style><dl class=dl-inline><dt>10%</dt><dd>633</dd><dt>20%</dt><dd>1508</dd><dt>30%</dt><dd>2716.8</dd><dt>40%</dt><dd>4441.4</dd><dt>45%</dt><dd>5540</dd><dt>50%</dt><dd>6846</dd><dt>55%</dt><dd>8461</dd><dt>60%</dt><dd>10148.2</dd><dt>70%</dt><dd>14803</dd><dt>80%</dt><dd>21582</dd><dt>90%</dt><dd>31880.6</dd></dl>\n"
      ],
      "text/latex": [
       "\\begin{description*}\n",
       "\\item[10\\textbackslash{}\\%] 633\n",
       "\\item[20\\textbackslash{}\\%] 1508\n",
       "\\item[30\\textbackslash{}\\%] 2716.8\n",
       "\\item[40\\textbackslash{}\\%] 4441.4\n",
       "\\item[45\\textbackslash{}\\%] 5540\n",
       "\\item[50\\textbackslash{}\\%] 6846\n",
       "\\item[55\\textbackslash{}\\%] 8461\n",
       "\\item[60\\textbackslash{}\\%] 10148.2\n",
       "\\item[70\\textbackslash{}\\%] 14803\n",
       "\\item[80\\textbackslash{}\\%] 21582\n",
       "\\item[90\\textbackslash{}\\%] 31880.6\n",
       "\\end{description*}\n"
      ],
      "text/markdown": [
       "10%\n",
       ":   63320%\n",
       ":   150830%\n",
       ":   2716.840%\n",
       ":   4441.445%\n",
       ":   554050%\n",
       ":   684655%\n",
       ":   846160%\n",
       ":   10148.270%\n",
       ":   1480380%\n",
       ":   2158290%\n",
       ":   31880.6\n",
       "\n"
      ],
      "text/plain": [
       "    10%     20%     30%     40%     45%     50%     55%     60%     70%     80% \n",
       "  633.0  1508.0  2716.8  4441.4  5540.0  6846.0  8461.0 10148.2 14803.0 21582.0 \n",
       "    90% \n",
       "31880.6 "
      ]
     },
     "metadata": {},
     "output_type": "display_data"
    },
    {
     "name": "stdout",
     "output_type": "stream",
     "text": [
      "[1] \"HSPC\"\n"
     ]
    },
    {
     "data": {
      "text/html": [
       "<style>\n",
       ".dl-inline {width: auto; margin:0; padding: 0}\n",
       ".dl-inline>dt, .dl-inline>dd {float: none; width: auto; display: inline-block}\n",
       ".dl-inline>dt::after {content: \":\\0020\"; padding-right: .5ex}\n",
       ".dl-inline>dt:not(:first-of-type) {padding-left: .5ex}\n",
       "</style><dl class=dl-inline><dt>10%</dt><dd>652</dd><dt>20%</dt><dd>1469</dd><dt>30%</dt><dd>2618</dd><dt>40%</dt><dd>4222.4</dd><dt>45%</dt><dd>5205</dd><dt>50%</dt><dd>6330</dd><dt>55%</dt><dd>7668.15</dd><dt>60%</dt><dd>9208</dd><dt>70%</dt><dd>13361</dd><dt>80%</dt><dd>19384</dd><dt>90%</dt><dd>29702</dd></dl>\n"
      ],
      "text/latex": [
       "\\begin{description*}\n",
       "\\item[10\\textbackslash{}\\%] 652\n",
       "\\item[20\\textbackslash{}\\%] 1469\n",
       "\\item[30\\textbackslash{}\\%] 2618\n",
       "\\item[40\\textbackslash{}\\%] 4222.4\n",
       "\\item[45\\textbackslash{}\\%] 5205\n",
       "\\item[50\\textbackslash{}\\%] 6330\n",
       "\\item[55\\textbackslash{}\\%] 7668.15\n",
       "\\item[60\\textbackslash{}\\%] 9208\n",
       "\\item[70\\textbackslash{}\\%] 13361\n",
       "\\item[80\\textbackslash{}\\%] 19384\n",
       "\\item[90\\textbackslash{}\\%] 29702\n",
       "\\end{description*}\n"
      ],
      "text/markdown": [
       "10%\n",
       ":   65220%\n",
       ":   146930%\n",
       ":   261840%\n",
       ":   4222.445%\n",
       ":   520550%\n",
       ":   633055%\n",
       ":   7668.1560%\n",
       ":   920870%\n",
       ":   1336180%\n",
       ":   1938490%\n",
       ":   29702\n",
       "\n"
      ],
      "text/plain": [
       "     10%      20%      30%      40%      45%      50%      55%      60% \n",
       "  652.00  1469.00  2618.00  4222.40  5205.00  6330.00  7668.15  9208.00 \n",
       "     70%      80%      90% \n",
       "13361.00 19384.00 29702.00 "
      ]
     },
     "metadata": {},
     "output_type": "display_data"
    },
    {
     "name": "stdout",
     "output_type": "stream",
     "text": [
      "[1] \"Macrophage\"\n"
     ]
    },
    {
     "data": {
      "text/html": [
       "<style>\n",
       ".dl-inline {width: auto; margin:0; padding: 0}\n",
       ".dl-inline>dt, .dl-inline>dd {float: none; width: auto; display: inline-block}\n",
       ".dl-inline>dt::after {content: \":\\0020\"; padding-right: .5ex}\n",
       ".dl-inline>dt:not(:first-of-type) {padding-left: .5ex}\n",
       "</style><dl class=dl-inline><dt>10%</dt><dd>535.900000000001</dd><dt>20%</dt><dd>1152.8</dd><dt>30%</dt><dd>2025.7</dd><dt>40%</dt><dd>3284</dd><dt>45%</dt><dd>4078.55</dd><dt>50%</dt><dd>5001</dd><dt>55%</dt><dd>6080.45</dd><dt>60%</dt><dd>7375</dd><dt>70%</dt><dd>10919</dd><dt>80%</dt><dd>16430.2</dd><dt>90%</dt><dd>26317.3</dd></dl>\n"
      ],
      "text/latex": [
       "\\begin{description*}\n",
       "\\item[10\\textbackslash{}\\%] 535.900000000001\n",
       "\\item[20\\textbackslash{}\\%] 1152.8\n",
       "\\item[30\\textbackslash{}\\%] 2025.7\n",
       "\\item[40\\textbackslash{}\\%] 3284\n",
       "\\item[45\\textbackslash{}\\%] 4078.55\n",
       "\\item[50\\textbackslash{}\\%] 5001\n",
       "\\item[55\\textbackslash{}\\%] 6080.45\n",
       "\\item[60\\textbackslash{}\\%] 7375\n",
       "\\item[70\\textbackslash{}\\%] 10919\n",
       "\\item[80\\textbackslash{}\\%] 16430.2\n",
       "\\item[90\\textbackslash{}\\%] 26317.3\n",
       "\\end{description*}\n"
      ],
      "text/markdown": [
       "10%\n",
       ":   535.90000000000120%\n",
       ":   1152.830%\n",
       ":   2025.740%\n",
       ":   328445%\n",
       ":   4078.5550%\n",
       ":   500155%\n",
       ":   6080.4560%\n",
       ":   737570%\n",
       ":   1091980%\n",
       ":   16430.290%\n",
       ":   26317.3\n",
       "\n"
      ],
      "text/plain": [
       "     10%      20%      30%      40%      45%      50%      55%      60% \n",
       "  535.90  1152.80  2025.70  3284.00  4078.55  5001.00  6080.45  7375.00 \n",
       "     70%      80%      90% \n",
       "10919.00 16430.20 26317.30 "
      ]
     },
     "metadata": {},
     "output_type": "display_data"
    },
    {
     "name": "stdout",
     "output_type": "stream",
     "text": [
      "[1] \"Neutrophil\"\n"
     ]
    },
    {
     "data": {
      "text/html": [
       "<style>\n",
       ".dl-inline {width: auto; margin:0; padding: 0}\n",
       ".dl-inline>dt, .dl-inline>dd {float: none; width: auto; display: inline-block}\n",
       ".dl-inline>dt::after {content: \":\\0020\"; padding-right: .5ex}\n",
       ".dl-inline>dt:not(:first-of-type) {padding-left: .5ex}\n",
       "</style><dl class=dl-inline><dt>10%</dt><dd>523</dd><dt>20%</dt><dd>1190</dd><dt>30%</dt><dd>2123</dd><dt>40%</dt><dd>3472</dd><dt>45%</dt><dd>4298</dd><dt>50%</dt><dd>5265</dd><dt>55%</dt><dd>6409.95</dd><dt>60%</dt><dd>7824.4</dd><dt>70%</dt><dd>11583</dd><dt>80%</dt><dd>17323</dd><dt>90%</dt><dd>27366</dd></dl>\n"
      ],
      "text/latex": [
       "\\begin{description*}\n",
       "\\item[10\\textbackslash{}\\%] 523\n",
       "\\item[20\\textbackslash{}\\%] 1190\n",
       "\\item[30\\textbackslash{}\\%] 2123\n",
       "\\item[40\\textbackslash{}\\%] 3472\n",
       "\\item[45\\textbackslash{}\\%] 4298\n",
       "\\item[50\\textbackslash{}\\%] 5265\n",
       "\\item[55\\textbackslash{}\\%] 6409.95\n",
       "\\item[60\\textbackslash{}\\%] 7824.4\n",
       "\\item[70\\textbackslash{}\\%] 11583\n",
       "\\item[80\\textbackslash{}\\%] 17323\n",
       "\\item[90\\textbackslash{}\\%] 27366\n",
       "\\end{description*}\n"
      ],
      "text/markdown": [
       "10%\n",
       ":   52320%\n",
       ":   119030%\n",
       ":   212340%\n",
       ":   347245%\n",
       ":   429850%\n",
       ":   526555%\n",
       ":   6409.9560%\n",
       ":   7824.470%\n",
       ":   1158380%\n",
       ":   1732390%\n",
       ":   27366\n",
       "\n"
      ],
      "text/plain": [
       "     10%      20%      30%      40%      45%      50%      55%      60% \n",
       "  523.00  1190.00  2123.00  3472.00  4298.00  5265.00  6409.95  7824.40 \n",
       "     70%      80%      90% \n",
       "11583.00 17323.00 27366.00 "
      ]
     },
     "metadata": {},
     "output_type": "display_data"
    },
    {
     "name": "stdout",
     "output_type": "stream",
     "text": [
      "[1] \"Tcell\"\n"
     ]
    },
    {
     "data": {
      "text/html": [
       "<style>\n",
       ".dl-inline {width: auto; margin:0; padding: 0}\n",
       ".dl-inline>dt, .dl-inline>dd {float: none; width: auto; display: inline-block}\n",
       ".dl-inline>dt::after {content: \":\\0020\"; padding-right: .5ex}\n",
       ".dl-inline>dt:not(:first-of-type) {padding-left: .5ex}\n",
       "</style><dl class=dl-inline><dt>10%</dt><dd>715</dd><dt>20%</dt><dd>1789</dd><dt>30%</dt><dd>3329.4</dd><dt>40%</dt><dd>5214</dd><dt>45%</dt><dd>6397.3</dd><dt>50%</dt><dd>7728</dd><dt>55%</dt><dd>9361</dd><dt>60%</dt><dd>11244.8</dd><dt>70%</dt><dd>15820.8</dd><dt>80%</dt><dd>22468.6</dd><dt>90%</dt><dd>32882.2</dd></dl>\n"
      ],
      "text/latex": [
       "\\begin{description*}\n",
       "\\item[10\\textbackslash{}\\%] 715\n",
       "\\item[20\\textbackslash{}\\%] 1789\n",
       "\\item[30\\textbackslash{}\\%] 3329.4\n",
       "\\item[40\\textbackslash{}\\%] 5214\n",
       "\\item[45\\textbackslash{}\\%] 6397.3\n",
       "\\item[50\\textbackslash{}\\%] 7728\n",
       "\\item[55\\textbackslash{}\\%] 9361\n",
       "\\item[60\\textbackslash{}\\%] 11244.8\n",
       "\\item[70\\textbackslash{}\\%] 15820.8\n",
       "\\item[80\\textbackslash{}\\%] 22468.6\n",
       "\\item[90\\textbackslash{}\\%] 32882.2\n",
       "\\end{description*}\n"
      ],
      "text/markdown": [
       "10%\n",
       ":   71520%\n",
       ":   178930%\n",
       ":   3329.440%\n",
       ":   521445%\n",
       ":   6397.350%\n",
       ":   772855%\n",
       ":   936160%\n",
       ":   11244.870%\n",
       ":   15820.880%\n",
       ":   22468.690%\n",
       ":   32882.2\n",
       "\n"
      ],
      "text/plain": [
       "    10%     20%     30%     40%     45%     50%     55%     60%     70%     80% \n",
       "  715.0  1789.0  3329.4  5214.0  6397.3  7728.0  9361.0 11244.8 15820.8 22468.6 \n",
       "    90% \n",
       "32882.2 "
      ]
     },
     "metadata": {},
     "output_type": "display_data"
    },
    {
     "name": "stdout",
     "output_type": "stream",
     "text": [
      "[1] \"Bcell\"\n"
     ]
    },
    {
     "data": {
      "text/html": [
       "<style>\n",
       ".dl-inline {width: auto; margin:0; padding: 0}\n",
       ".dl-inline>dt, .dl-inline>dd {float: none; width: auto; display: inline-block}\n",
       ".dl-inline>dt::after {content: \":\\0020\"; padding-right: .5ex}\n",
       ".dl-inline>dt:not(:first-of-type) {padding-left: .5ex}\n",
       "</style><dl class=dl-inline><dt>10%</dt><dd>436.3</dd><dt>20%</dt><dd>1259</dd><dt>30%</dt><dd>2410</dd><dt>40%</dt><dd>4030</dd><dt>45%</dt><dd>4998</dd><dt>50%</dt><dd>6142</dd><dt>55%</dt><dd>7474</dd><dt>60%</dt><dd>9112.8</dd><dt>70%</dt><dd>13573.1</dd><dt>80%</dt><dd>19841.2</dd><dt>90%</dt><dd>30592.7</dd></dl>\n"
      ],
      "text/latex": [
       "\\begin{description*}\n",
       "\\item[10\\textbackslash{}\\%] 436.3\n",
       "\\item[20\\textbackslash{}\\%] 1259\n",
       "\\item[30\\textbackslash{}\\%] 2410\n",
       "\\item[40\\textbackslash{}\\%] 4030\n",
       "\\item[45\\textbackslash{}\\%] 4998\n",
       "\\item[50\\textbackslash{}\\%] 6142\n",
       "\\item[55\\textbackslash{}\\%] 7474\n",
       "\\item[60\\textbackslash{}\\%] 9112.8\n",
       "\\item[70\\textbackslash{}\\%] 13573.1\n",
       "\\item[80\\textbackslash{}\\%] 19841.2\n",
       "\\item[90\\textbackslash{}\\%] 30592.7\n",
       "\\end{description*}\n"
      ],
      "text/markdown": [
       "10%\n",
       ":   436.320%\n",
       ":   125930%\n",
       ":   241040%\n",
       ":   403045%\n",
       ":   499850%\n",
       ":   614255%\n",
       ":   747460%\n",
       ":   9112.870%\n",
       ":   13573.180%\n",
       ":   19841.290%\n",
       ":   30592.7\n",
       "\n"
      ],
      "text/plain": [
       "    10%     20%     30%     40%     45%     50%     55%     60%     70%     80% \n",
       "  436.3  1259.0  2410.0  4030.0  4998.0  6142.0  7474.0  9112.8 13573.1 19841.2 \n",
       "    90% \n",
       "30592.7 "
      ]
     },
     "metadata": {},
     "output_type": "display_data"
    }
   ],
   "source": [
    "print(\"H1ESC\")\n",
    "quantile(((AllObsDist %>% filter(Celltype==\"H1ESC\" &\n",
    "                                   Distance < 50000))$Distance),\n",
    "         c(.1,.2,.3,.4,.45,.5,.55,.6,.7,.8,.9))\n",
    "\n",
    "print(\"fSpinal\")\n",
    "quantile(((AllObsDist %>% filter(Celltype==\"fSpinal\" &\n",
    "                                   Distance < 50000))$Distance),\n",
    "         c(.1,.2,.3,.4,.45,.5,.55,.6,.7,.8,.9))\n",
    "\n",
    "print(\"fHeart\")\n",
    "quantile(((AllObsDist %>% filter(Celltype==\"fHeart\" &\n",
    "                                   Distance < 50000))$Distance),\n",
    "         c(.1,.2,.3,.4,.45,.5,.55,.6,.7,.8,.9))\n",
    "\n",
    "print(\"Adrenal\")\n",
    "quantile(((AllObsDist %>% filter(Celltype==\"Adrenal\" &\n",
    "                                          Distance < 50000))$Distance),\n",
    "         c(.1,.2,.3,.4,.45,.5,.55,.6,.7,.8,.9))\n",
    "\n",
    "print(\"Liver\")\n",
    "quantile(((AllObsDist %>% filter(Celltype==\"Liver\" &\n",
    "                                   Distance < 50000))$Distance),\n",
    "         c(.1,.2,.3,.4,.45,.5,.55,.6,.7,.8,.9))\n",
    "\n",
    "print(\"HSPC\")\n",
    "quantile(((AllObsDist %>% filter(Celltype==\"HSPC\" &\n",
    "                                   Distance < 50000))$Distance),\n",
    "         c(.1,.2,.3,.4,.45,.5,.55,.6,.7,.8,.9))\n",
    "\n",
    "print(\"Macrophage\")\n",
    "quantile(((AllObsDist %>% filter(Celltype==\"Macrophage\" &\n",
    "                                   Distance < 50000))$Distance),\n",
    "         c(.1,.2,.3,.4,.45,.5,.55,.6,.7,.8,.9))\n",
    "\n",
    "print(\"Neutrophil\")\n",
    "quantile(((AllObsDist %>% filter(Celltype==\"Neutrophil\" &\n",
    "                                   Distance < 50000))$Distance),\n",
    "         c(.1,.2,.3,.4,.45,.5,.55,.6,.7,.8,.9))\n",
    "\n",
    "\n",
    "print(\"Tcell\")\n",
    "quantile(((AllObsDist %>% filter(Celltype==\"Tcell\" &\n",
    "                                   Distance < 50000))$Distance),\n",
    "         c(.1,.2,.3,.4,.45,.5,.55,.6,.7,.8,.9))\n",
    "\n",
    "print(\"Bcell\")\n",
    "quantile(((AllObsDist %>% filter(Celltype==\"Bcell\" &\n",
    "                                   Distance < 50000))$Distance),\n",
    "         c(.1,.2,.3,.4,.45,.5,.55,.6,.7,.8,.9))\n",
    "\n"
   ]
  },
  {
   "cell_type": "code",
   "execution_count": 45,
   "id": "f7290b48",
   "metadata": {
    "scrolled": true
   },
   "outputs": [
    {
     "data": {
      "text/html": [
       "<table class=\"dataframe\">\n",
       "<caption>A tibble: 629148 × 3</caption>\n",
       "<thead>\n",
       "\t<tr><th scope=col>Distance</th><th scope=col>Celltype</th><th scope=col>Group</th></tr>\n",
       "\t<tr><th scope=col>&lt;dbl&gt;</th><th scope=col>&lt;fct&gt;</th><th scope=col>&lt;chr&gt;</th></tr>\n",
       "</thead>\n",
       "<tbody>\n",
       "\t<tr><td>42841</td><td>Adrenal</td><td>Observed</td></tr>\n",
       "\t<tr><td>  510</td><td>Adrenal</td><td>Observed</td></tr>\n",
       "\t<tr><td>  288</td><td>Adrenal</td><td>Observed</td></tr>\n",
       "\t<tr><td>  153</td><td>Adrenal</td><td>Observed</td></tr>\n",
       "\t<tr><td>  151</td><td>Adrenal</td><td>Observed</td></tr>\n",
       "\t<tr><td>  135</td><td>Adrenal</td><td>Observed</td></tr>\n",
       "\t<tr><td>  135</td><td>Adrenal</td><td>Observed</td></tr>\n",
       "\t<tr><td>36539</td><td>Adrenal</td><td>Observed</td></tr>\n",
       "\t<tr><td> 7262</td><td>Adrenal</td><td>Observed</td></tr>\n",
       "\t<tr><td> 7262</td><td>Adrenal</td><td>Observed</td></tr>\n",
       "\t<tr><td>   62</td><td>Adrenal</td><td>Observed</td></tr>\n",
       "\t<tr><td>   62</td><td>Adrenal</td><td>Observed</td></tr>\n",
       "\t<tr><td>10573</td><td>Adrenal</td><td>Observed</td></tr>\n",
       "\t<tr><td> 3486</td><td>Adrenal</td><td>Observed</td></tr>\n",
       "\t<tr><td> 1364</td><td>Adrenal</td><td>Observed</td></tr>\n",
       "\t<tr><td> 1364</td><td>Adrenal</td><td>Observed</td></tr>\n",
       "\t<tr><td> 2553</td><td>Adrenal</td><td>Observed</td></tr>\n",
       "\t<tr><td> 2553</td><td>Adrenal</td><td>Observed</td></tr>\n",
       "\t<tr><td>10231</td><td>Adrenal</td><td>Observed</td></tr>\n",
       "\t<tr><td> 8166</td><td>Adrenal</td><td>Observed</td></tr>\n",
       "\t<tr><td>  202</td><td>Adrenal</td><td>Observed</td></tr>\n",
       "\t<tr><td>  202</td><td>Adrenal</td><td>Observed</td></tr>\n",
       "\t<tr><td>   53</td><td>Adrenal</td><td>Observed</td></tr>\n",
       "\t<tr><td>   53</td><td>Adrenal</td><td>Observed</td></tr>\n",
       "\t<tr><td>  836</td><td>Adrenal</td><td>Observed</td></tr>\n",
       "\t<tr><td>  836</td><td>Adrenal</td><td>Observed</td></tr>\n",
       "\t<tr><td> 3385</td><td>Adrenal</td><td>Observed</td></tr>\n",
       "\t<tr><td> 1680</td><td>Adrenal</td><td>Observed</td></tr>\n",
       "\t<tr><td> 1680</td><td>Adrenal</td><td>Observed</td></tr>\n",
       "\t<tr><td> 5708</td><td>Adrenal</td><td>Observed</td></tr>\n",
       "\t<tr><td>⋮</td><td>⋮</td><td>⋮</td></tr>\n",
       "\t<tr><td>38321</td><td>Tcell</td><td>Observed</td></tr>\n",
       "\t<tr><td>38321</td><td>Tcell</td><td>Observed</td></tr>\n",
       "\t<tr><td>11835</td><td>Tcell</td><td>Observed</td></tr>\n",
       "\t<tr><td>   85</td><td>Tcell</td><td>Observed</td></tr>\n",
       "\t<tr><td>   85</td><td>Tcell</td><td>Observed</td></tr>\n",
       "\t<tr><td> 3196</td><td>Tcell</td><td>Observed</td></tr>\n",
       "\t<tr><td> 3196</td><td>Tcell</td><td>Observed</td></tr>\n",
       "\t<tr><td>20992</td><td>Tcell</td><td>Observed</td></tr>\n",
       "\t<tr><td>38761</td><td>Tcell</td><td>Observed</td></tr>\n",
       "\t<tr><td>38761</td><td>Tcell</td><td>Observed</td></tr>\n",
       "\t<tr><td>15123</td><td>Tcell</td><td>Observed</td></tr>\n",
       "\t<tr><td>14835</td><td>Tcell</td><td>Observed</td></tr>\n",
       "\t<tr><td>14835</td><td>Tcell</td><td>Observed</td></tr>\n",
       "\t<tr><td>17542</td><td>Tcell</td><td>Observed</td></tr>\n",
       "\t<tr><td>17542</td><td>Tcell</td><td>Observed</td></tr>\n",
       "\t<tr><td> 3754</td><td>Tcell</td><td>Observed</td></tr>\n",
       "\t<tr><td> 3754</td><td>Tcell</td><td>Observed</td></tr>\n",
       "\t<tr><td>16260</td><td>Tcell</td><td>Observed</td></tr>\n",
       "\t<tr><td>16260</td><td>Tcell</td><td>Observed</td></tr>\n",
       "\t<tr><td> 1368</td><td>Tcell</td><td>Observed</td></tr>\n",
       "\t<tr><td> 1368</td><td>Tcell</td><td>Observed</td></tr>\n",
       "\t<tr><td> 7601</td><td>Tcell</td><td>Observed</td></tr>\n",
       "\t<tr><td>  276</td><td>Tcell</td><td>Observed</td></tr>\n",
       "\t<tr><td>  276</td><td>Tcell</td><td>Observed</td></tr>\n",
       "\t<tr><td> 1869</td><td>Tcell</td><td>Observed</td></tr>\n",
       "\t<tr><td> 1869</td><td>Tcell</td><td>Observed</td></tr>\n",
       "\t<tr><td> 7513</td><td>Tcell</td><td>Observed</td></tr>\n",
       "\t<tr><td>11296</td><td>Tcell</td><td>Observed</td></tr>\n",
       "\t<tr><td>48558</td><td>Tcell</td><td>Observed</td></tr>\n",
       "\t<tr><td>48558</td><td>Tcell</td><td>Observed</td></tr>\n",
       "</tbody>\n",
       "</table>\n"
      ],
      "text/latex": [
       "A tibble: 629148 × 3\n",
       "\\begin{tabular}{lll}\n",
       " Distance & Celltype & Group\\\\\n",
       " <dbl> & <fct> & <chr>\\\\\n",
       "\\hline\n",
       "\t 42841 & Adrenal & Observed\\\\\n",
       "\t   510 & Adrenal & Observed\\\\\n",
       "\t   288 & Adrenal & Observed\\\\\n",
       "\t   153 & Adrenal & Observed\\\\\n",
       "\t   151 & Adrenal & Observed\\\\\n",
       "\t   135 & Adrenal & Observed\\\\\n",
       "\t   135 & Adrenal & Observed\\\\\n",
       "\t 36539 & Adrenal & Observed\\\\\n",
       "\t  7262 & Adrenal & Observed\\\\\n",
       "\t  7262 & Adrenal & Observed\\\\\n",
       "\t    62 & Adrenal & Observed\\\\\n",
       "\t    62 & Adrenal & Observed\\\\\n",
       "\t 10573 & Adrenal & Observed\\\\\n",
       "\t  3486 & Adrenal & Observed\\\\\n",
       "\t  1364 & Adrenal & Observed\\\\\n",
       "\t  1364 & Adrenal & Observed\\\\\n",
       "\t  2553 & Adrenal & Observed\\\\\n",
       "\t  2553 & Adrenal & Observed\\\\\n",
       "\t 10231 & Adrenal & Observed\\\\\n",
       "\t  8166 & Adrenal & Observed\\\\\n",
       "\t   202 & Adrenal & Observed\\\\\n",
       "\t   202 & Adrenal & Observed\\\\\n",
       "\t    53 & Adrenal & Observed\\\\\n",
       "\t    53 & Adrenal & Observed\\\\\n",
       "\t   836 & Adrenal & Observed\\\\\n",
       "\t   836 & Adrenal & Observed\\\\\n",
       "\t  3385 & Adrenal & Observed\\\\\n",
       "\t  1680 & Adrenal & Observed\\\\\n",
       "\t  1680 & Adrenal & Observed\\\\\n",
       "\t  5708 & Adrenal & Observed\\\\\n",
       "\t ⋮ & ⋮ & ⋮\\\\\n",
       "\t 38321 & Tcell & Observed\\\\\n",
       "\t 38321 & Tcell & Observed\\\\\n",
       "\t 11835 & Tcell & Observed\\\\\n",
       "\t    85 & Tcell & Observed\\\\\n",
       "\t    85 & Tcell & Observed\\\\\n",
       "\t  3196 & Tcell & Observed\\\\\n",
       "\t  3196 & Tcell & Observed\\\\\n",
       "\t 20992 & Tcell & Observed\\\\\n",
       "\t 38761 & Tcell & Observed\\\\\n",
       "\t 38761 & Tcell & Observed\\\\\n",
       "\t 15123 & Tcell & Observed\\\\\n",
       "\t 14835 & Tcell & Observed\\\\\n",
       "\t 14835 & Tcell & Observed\\\\\n",
       "\t 17542 & Tcell & Observed\\\\\n",
       "\t 17542 & Tcell & Observed\\\\\n",
       "\t  3754 & Tcell & Observed\\\\\n",
       "\t  3754 & Tcell & Observed\\\\\n",
       "\t 16260 & Tcell & Observed\\\\\n",
       "\t 16260 & Tcell & Observed\\\\\n",
       "\t  1368 & Tcell & Observed\\\\\n",
       "\t  1368 & Tcell & Observed\\\\\n",
       "\t  7601 & Tcell & Observed\\\\\n",
       "\t   276 & Tcell & Observed\\\\\n",
       "\t   276 & Tcell & Observed\\\\\n",
       "\t  1869 & Tcell & Observed\\\\\n",
       "\t  1869 & Tcell & Observed\\\\\n",
       "\t  7513 & Tcell & Observed\\\\\n",
       "\t 11296 & Tcell & Observed\\\\\n",
       "\t 48558 & Tcell & Observed\\\\\n",
       "\t 48558 & Tcell & Observed\\\\\n",
       "\\end{tabular}\n"
      ],
      "text/markdown": [
       "\n",
       "A tibble: 629148 × 3\n",
       "\n",
       "| Distance &lt;dbl&gt; | Celltype &lt;fct&gt; | Group &lt;chr&gt; |\n",
       "|---|---|---|\n",
       "| 42841 | Adrenal | Observed |\n",
       "|   510 | Adrenal | Observed |\n",
       "|   288 | Adrenal | Observed |\n",
       "|   153 | Adrenal | Observed |\n",
       "|   151 | Adrenal | Observed |\n",
       "|   135 | Adrenal | Observed |\n",
       "|   135 | Adrenal | Observed |\n",
       "| 36539 | Adrenal | Observed |\n",
       "|  7262 | Adrenal | Observed |\n",
       "|  7262 | Adrenal | Observed |\n",
       "|    62 | Adrenal | Observed |\n",
       "|    62 | Adrenal | Observed |\n",
       "| 10573 | Adrenal | Observed |\n",
       "|  3486 | Adrenal | Observed |\n",
       "|  1364 | Adrenal | Observed |\n",
       "|  1364 | Adrenal | Observed |\n",
       "|  2553 | Adrenal | Observed |\n",
       "|  2553 | Adrenal | Observed |\n",
       "| 10231 | Adrenal | Observed |\n",
       "|  8166 | Adrenal | Observed |\n",
       "|   202 | Adrenal | Observed |\n",
       "|   202 | Adrenal | Observed |\n",
       "|    53 | Adrenal | Observed |\n",
       "|    53 | Adrenal | Observed |\n",
       "|   836 | Adrenal | Observed |\n",
       "|   836 | Adrenal | Observed |\n",
       "|  3385 | Adrenal | Observed |\n",
       "|  1680 | Adrenal | Observed |\n",
       "|  1680 | Adrenal | Observed |\n",
       "|  5708 | Adrenal | Observed |\n",
       "| ⋮ | ⋮ | ⋮ |\n",
       "| 38321 | Tcell | Observed |\n",
       "| 38321 | Tcell | Observed |\n",
       "| 11835 | Tcell | Observed |\n",
       "|    85 | Tcell | Observed |\n",
       "|    85 | Tcell | Observed |\n",
       "|  3196 | Tcell | Observed |\n",
       "|  3196 | Tcell | Observed |\n",
       "| 20992 | Tcell | Observed |\n",
       "| 38761 | Tcell | Observed |\n",
       "| 38761 | Tcell | Observed |\n",
       "| 15123 | Tcell | Observed |\n",
       "| 14835 | Tcell | Observed |\n",
       "| 14835 | Tcell | Observed |\n",
       "| 17542 | Tcell | Observed |\n",
       "| 17542 | Tcell | Observed |\n",
       "|  3754 | Tcell | Observed |\n",
       "|  3754 | Tcell | Observed |\n",
       "| 16260 | Tcell | Observed |\n",
       "| 16260 | Tcell | Observed |\n",
       "|  1368 | Tcell | Observed |\n",
       "|  1368 | Tcell | Observed |\n",
       "|  7601 | Tcell | Observed |\n",
       "|   276 | Tcell | Observed |\n",
       "|   276 | Tcell | Observed |\n",
       "|  1869 | Tcell | Observed |\n",
       "|  1869 | Tcell | Observed |\n",
       "|  7513 | Tcell | Observed |\n",
       "| 11296 | Tcell | Observed |\n",
       "| 48558 | Tcell | Observed |\n",
       "| 48558 | Tcell | Observed |\n",
       "\n"
      ],
      "text/plain": [
       "       Distance Celltype Group   \n",
       "1      42841    Adrenal  Observed\n",
       "2        510    Adrenal  Observed\n",
       "3        288    Adrenal  Observed\n",
       "4        153    Adrenal  Observed\n",
       "5        151    Adrenal  Observed\n",
       "6        135    Adrenal  Observed\n",
       "7        135    Adrenal  Observed\n",
       "8      36539    Adrenal  Observed\n",
       "9       7262    Adrenal  Observed\n",
       "10      7262    Adrenal  Observed\n",
       "11        62    Adrenal  Observed\n",
       "12        62    Adrenal  Observed\n",
       "13     10573    Adrenal  Observed\n",
       "14      3486    Adrenal  Observed\n",
       "15      1364    Adrenal  Observed\n",
       "16      1364    Adrenal  Observed\n",
       "17      2553    Adrenal  Observed\n",
       "18      2553    Adrenal  Observed\n",
       "19     10231    Adrenal  Observed\n",
       "20      8166    Adrenal  Observed\n",
       "21       202    Adrenal  Observed\n",
       "22       202    Adrenal  Observed\n",
       "23        53    Adrenal  Observed\n",
       "24        53    Adrenal  Observed\n",
       "25       836    Adrenal  Observed\n",
       "26       836    Adrenal  Observed\n",
       "27      3385    Adrenal  Observed\n",
       "28      1680    Adrenal  Observed\n",
       "29      1680    Adrenal  Observed\n",
       "30      5708    Adrenal  Observed\n",
       "⋮      ⋮        ⋮        ⋮       \n",
       "629119 38321    Tcell    Observed\n",
       "629120 38321    Tcell    Observed\n",
       "629121 11835    Tcell    Observed\n",
       "629122    85    Tcell    Observed\n",
       "629123    85    Tcell    Observed\n",
       "629124  3196    Tcell    Observed\n",
       "629125  3196    Tcell    Observed\n",
       "629126 20992    Tcell    Observed\n",
       "629127 38761    Tcell    Observed\n",
       "629128 38761    Tcell    Observed\n",
       "629129 15123    Tcell    Observed\n",
       "629130 14835    Tcell    Observed\n",
       "629131 14835    Tcell    Observed\n",
       "629132 17542    Tcell    Observed\n",
       "629133 17542    Tcell    Observed\n",
       "629134  3754    Tcell    Observed\n",
       "629135  3754    Tcell    Observed\n",
       "629136 16260    Tcell    Observed\n",
       "629137 16260    Tcell    Observed\n",
       "629138  1368    Tcell    Observed\n",
       "629139  1368    Tcell    Observed\n",
       "629140  7601    Tcell    Observed\n",
       "629141   276    Tcell    Observed\n",
       "629142   276    Tcell    Observed\n",
       "629143  1869    Tcell    Observed\n",
       "629144  1869    Tcell    Observed\n",
       "629145  7513    Tcell    Observed\n",
       "629146 11296    Tcell    Observed\n",
       "629147 48558    Tcell    Observed\n",
       "629148 48558    Tcell    Observed"
      ]
     },
     "metadata": {},
     "output_type": "display_data"
    }
   ],
   "source": [
    "AllObsDistUnder50000"
   ]
  },
  {
   "cell_type": "code",
   "execution_count": 41,
   "id": "a7767b83",
   "metadata": {},
   "outputs": [],
   "source": [
    "AllObsDistUnder50000$Celltype <- factor(AllObsDistUnder50000$Celltype, levels=c(\"H1ESC\",\"fSpinal\",\"fHeart\",\"Adrenal\",\"Liver\",\"HSPC\",\"Macrophage\",\"Neutrophil\",\"Tcell\",\"Bcell\"))"
   ]
  },
  {
   "cell_type": "code",
   "execution_count": 48,
   "id": "198b1a1d",
   "metadata": {},
   "outputs": [
    {
     "data": {
      "text/html": [
       "<table class=\"dataframe\">\n",
       "<caption>A matrix: 12 × 10 of type chr</caption>\n",
       "<tbody>\n",
       "\t<tr><th scope=row>Celltype</th><td>H1ESC   </td><td>fSpinal </td><td>fHeart  </td><td>Adrenal </td><td>Liver   </td><td>HSPC    </td><td>Macrophage</td><td>Neutrophil</td><td>Tcell   </td><td>Bcell   </td></tr>\n",
       "\t<tr><th scope=row>q1</th><td>227.0   </td><td>881.0   </td><td>761.0   </td><td>673.0   </td><td>633.0   </td><td>652.0   </td><td>535.9     </td><td>523.0     </td><td>715.0   </td><td>436.0   </td></tr>\n",
       "\t<tr><th scope=row>q2</th><td>1283.0  </td><td>1770.0  </td><td>1626.0  </td><td>1678.0  </td><td>1508.0  </td><td>1469.0  </td><td>1152.8    </td><td>1190.0    </td><td>1789.0  </td><td>1259.0  </td></tr>\n",
       "\t<tr><th scope=row>q3</th><td>2953.8  </td><td>2960.0  </td><td>2787.0  </td><td>2969.0  </td><td>2716.9  </td><td>2618.0  </td><td>2025.7    </td><td>2123.0    </td><td>3329.0  </td><td>2410.0  </td></tr>\n",
       "\t<tr><th scope=row>q4</th><td>5626.6  </td><td>4574.0  </td><td>4329.0  </td><td>4777.0  </td><td>4441.2  </td><td>4222.0  </td><td>3284.0    </td><td>3472.0    </td><td>5214.0  </td><td>4030.0  </td></tr>\n",
       "\t<tr><th scope=row>q45</th><td>7102.65 </td><td>5485.00 </td><td>5309.00 </td><td>5990.00 </td><td>5540.00 </td><td>5205.00 </td><td>4078.55   </td><td>4298.00   </td><td>6397.05 </td><td>4998.00 </td></tr>\n",
       "\t<tr><th scope=row>q5</th><td>8921    </td><td>6555    </td><td>6361    </td><td>7311    </td><td>6846    </td><td>6330    </td><td>5001      </td><td>5265      </td><td>7728    </td><td>6142    </td></tr>\n",
       "\t<tr><th scope=row>q55</th><td>11013.15</td><td> 7805.00</td><td> 7689.00</td><td> 8799.15</td><td> 8461.00</td><td> 7668.00</td><td> 6080.45  </td><td> 6409.95  </td><td> 9361.00</td><td> 7474.00</td></tr>\n",
       "\t<tr><th scope=row>q6</th><td>13299.8 </td><td> 9237.0 </td><td> 9183.0 </td><td>10524.0 </td><td>10148.6 </td><td> 9208.0 </td><td> 7375.0   </td><td> 7824.4   </td><td>11244.8 </td><td> 9113.0 </td></tr>\n",
       "\t<tr><th scope=row>q7</th><td>18970.0 </td><td>13267.0 </td><td>13231.0 </td><td>15104.8 </td><td>14802.5 </td><td>13361.0 </td><td>10919.0   </td><td>11583.0   </td><td>15821.0 </td><td>13573.0 </td></tr>\n",
       "\t<tr><th scope=row>q8</th><td>26779.0 </td><td>19213.0 </td><td>19414.0 </td><td>21740.0 </td><td>21582.0 </td><td>19384.0 </td><td>16430.2   </td><td>17323.0   </td><td>22468.6 </td><td>19841.8 </td></tr>\n",
       "\t<tr><th scope=row>q9</th><td>37041.2 </td><td>29618.0 </td><td>29903.0 </td><td>32020.1 </td><td>31884.8 </td><td>29702.0 </td><td>26317.3   </td><td>27366.0   </td><td>32883.0 </td><td>30593.0 </td></tr>\n",
       "</tbody>\n",
       "</table>\n"
      ],
      "text/latex": [
       "A matrix: 12 × 10 of type chr\n",
       "\\begin{tabular}{r|llllllllll}\n",
       "\tCelltype & H1ESC    & fSpinal  & fHeart   & Adrenal  & Liver    & HSPC     & Macrophage & Neutrophil & Tcell    & Bcell   \\\\\n",
       "\tq1 & 227.0    & 881.0    & 761.0    & 673.0    & 633.0    & 652.0    & 535.9      & 523.0      & 715.0    & 436.0   \\\\\n",
       "\tq2 & 1283.0   & 1770.0   & 1626.0   & 1678.0   & 1508.0   & 1469.0   & 1152.8     & 1190.0     & 1789.0   & 1259.0  \\\\\n",
       "\tq3 & 2953.8   & 2960.0   & 2787.0   & 2969.0   & 2716.9   & 2618.0   & 2025.7     & 2123.0     & 3329.0   & 2410.0  \\\\\n",
       "\tq4 & 5626.6   & 4574.0   & 4329.0   & 4777.0   & 4441.2   & 4222.0   & 3284.0     & 3472.0     & 5214.0   & 4030.0  \\\\\n",
       "\tq45 & 7102.65  & 5485.00  & 5309.00  & 5990.00  & 5540.00  & 5205.00  & 4078.55    & 4298.00    & 6397.05  & 4998.00 \\\\\n",
       "\tq5 & 8921     & 6555     & 6361     & 7311     & 6846     & 6330     & 5001       & 5265       & 7728     & 6142    \\\\\n",
       "\tq55 & 11013.15 &  7805.00 &  7689.00 &  8799.15 &  8461.00 &  7668.00 &  6080.45   &  6409.95   &  9361.00 &  7474.00\\\\\n",
       "\tq6 & 13299.8  &  9237.0  &  9183.0  & 10524.0  & 10148.6  &  9208.0  &  7375.0    &  7824.4    & 11244.8  &  9113.0 \\\\\n",
       "\tq7 & 18970.0  & 13267.0  & 13231.0  & 15104.8  & 14802.5  & 13361.0  & 10919.0    & 11583.0    & 15821.0  & 13573.0 \\\\\n",
       "\tq8 & 26779.0  & 19213.0  & 19414.0  & 21740.0  & 21582.0  & 19384.0  & 16430.2    & 17323.0    & 22468.6  & 19841.8 \\\\\n",
       "\tq9 & 37041.2  & 29618.0  & 29903.0  & 32020.1  & 31884.8  & 29702.0  & 26317.3    & 27366.0    & 32883.0  & 30593.0 \\\\\n",
       "\\end{tabular}\n"
      ],
      "text/markdown": [
       "\n",
       "A matrix: 12 × 10 of type chr\n",
       "\n",
       "| Celltype | H1ESC    | fSpinal  | fHeart   | Adrenal  | Liver    | HSPC     | Macrophage | Neutrophil | Tcell    | Bcell    |\n",
       "| q1 | 227.0    | 881.0    | 761.0    | 673.0    | 633.0    | 652.0    | 535.9      | 523.0      | 715.0    | 436.0    |\n",
       "| q2 | 1283.0   | 1770.0   | 1626.0   | 1678.0   | 1508.0   | 1469.0   | 1152.8     | 1190.0     | 1789.0   | 1259.0   |\n",
       "| q3 | 2953.8   | 2960.0   | 2787.0   | 2969.0   | 2716.9   | 2618.0   | 2025.7     | 2123.0     | 3329.0   | 2410.0   |\n",
       "| q4 | 5626.6   | 4574.0   | 4329.0   | 4777.0   | 4441.2   | 4222.0   | 3284.0     | 3472.0     | 5214.0   | 4030.0   |\n",
       "| q45 | 7102.65  | 5485.00  | 5309.00  | 5990.00  | 5540.00  | 5205.00  | 4078.55    | 4298.00    | 6397.05  | 4998.00  |\n",
       "| q5 | 8921     | 6555     | 6361     | 7311     | 6846     | 6330     | 5001       | 5265       | 7728     | 6142     |\n",
       "| q55 | 11013.15 |  7805.00 |  7689.00 |  8799.15 |  8461.00 |  7668.00 |  6080.45   |  6409.95   |  9361.00 |  7474.00 |\n",
       "| q6 | 13299.8  |  9237.0  |  9183.0  | 10524.0  | 10148.6  |  9208.0  |  7375.0    |  7824.4    | 11244.8  |  9113.0  |\n",
       "| q7 | 18970.0  | 13267.0  | 13231.0  | 15104.8  | 14802.5  | 13361.0  | 10919.0    | 11583.0    | 15821.0  | 13573.0  |\n",
       "| q8 | 26779.0  | 19213.0  | 19414.0  | 21740.0  | 21582.0  | 19384.0  | 16430.2    | 17323.0    | 22468.6  | 19841.8  |\n",
       "| q9 | 37041.2  | 29618.0  | 29903.0  | 32020.1  | 31884.8  | 29702.0  | 26317.3    | 27366.0    | 32883.0  | 30593.0  |\n",
       "\n"
      ],
      "text/plain": [
       "         [,1]     [,2]     [,3]     [,4]     [,5]     [,6]     [,7]      \n",
       "Celltype H1ESC    fSpinal  fHeart   Adrenal  Liver    HSPC     Macrophage\n",
       "q1       227.0    881.0    761.0    673.0    633.0    652.0    535.9     \n",
       "q2       1283.0   1770.0   1626.0   1678.0   1508.0   1469.0   1152.8    \n",
       "q3       2953.8   2960.0   2787.0   2969.0   2716.9   2618.0   2025.7    \n",
       "q4       5626.6   4574.0   4329.0   4777.0   4441.2   4222.0   3284.0    \n",
       "q45      7102.65  5485.00  5309.00  5990.00  5540.00  5205.00  4078.55   \n",
       "q5       8921     6555     6361     7311     6846     6330     5001      \n",
       "q55      11013.15  7805.00  7689.00  8799.15  8461.00  7668.00  6080.45  \n",
       "q6       13299.8   9237.0   9183.0  10524.0  10148.6   9208.0   7375.0   \n",
       "q7       18970.0  13267.0  13231.0  15104.8  14802.5  13361.0  10919.0   \n",
       "q8       26779.0  19213.0  19414.0  21740.0  21582.0  19384.0  16430.2   \n",
       "q9       37041.2  29618.0  29903.0  32020.1  31884.8  29702.0  26317.3   \n",
       "         [,8]       [,9]     [,10]   \n",
       "Celltype Neutrophil Tcell    Bcell   \n",
       "q1       523.0      715.0    436.0   \n",
       "q2       1190.0     1789.0   1259.0  \n",
       "q3       2123.0     3329.0   2410.0  \n",
       "q4       3472.0     5214.0   4030.0  \n",
       "q45      4298.00    6397.05  4998.00 \n",
       "q5       5265       7728     6142    \n",
       "q55       6409.95    9361.00  7474.00\n",
       "q6        7824.4    11244.8   9113.0 \n",
       "q7       11583.0    15821.0  13573.0 \n",
       "q8       17323.0    22468.6  19841.8 \n",
       "q9       27366.0    32883.0  30593.0 "
      ]
     },
     "metadata": {},
     "output_type": "display_data"
    }
   ],
   "source": [
    "AllObsDistUnder50000 %>% group_by(Celltype) %>% summarize(\n",
    "    q1 = quantile(Distance, c(.1)),\n",
    "    q2 = quantile(Distance, c(.2)),\n",
    "    q3 = quantile(Distance, c(.3)),\n",
    "    q4 = quantile(Distance, c(.4)),\n",
    "    q45 = quantile(Distance, c(.45)),\n",
    "    q5 = quantile(Distance, c(.5)),\n",
    "    q55 = quantile(Distance, c(.55)),\n",
    "    q6 = quantile(Distance, c(.6)),\n",
    "    q7 = quantile(Distance, c(.7)),\n",
    "    q8 = quantile(Distance, c(.8)),\n",
    "    q9 = quantile(Distance, c(.9)),\n",
    ") %>% t()"
   ]
  },
  {
   "cell_type": "code",
   "execution_count": 37,
   "id": "53b5a842",
   "metadata": {},
   "outputs": [
    {
     "data": {
      "text/html": [
       "11186.0858696728"
      ],
      "text/latex": [
       "11186.0858696728"
      ],
      "text/markdown": [
       "11186.0858696728"
      ],
      "text/plain": [
       "[1] 11186.09"
      ]
     },
     "metadata": {},
     "output_type": "display_data"
    }
   ],
   "source": [
    "mean(AllObsDistUnder50000$Distance)"
   ]
  },
  {
   "cell_type": "code",
   "execution_count": 36,
   "id": "2498d5e7",
   "metadata": {},
   "outputs": [
    {
     "data": {
      "text/html": [
       "6438"
      ],
      "text/latex": [
       "6438"
      ],
      "text/markdown": [
       "6438"
      ],
      "text/plain": [
       "[1] 6438"
      ]
     },
     "metadata": {},
     "output_type": "display_data"
    }
   ],
   "source": [
    "median(AllObsDistUnder50000$Distance)"
   ]
  },
  {
   "cell_type": "code",
   "execution_count": 42,
   "id": "18f9c1b0",
   "metadata": {},
   "outputs": [
    {
     "data": {
      "text/html": [
       "10665.9891343273"
      ],
      "text/latex": [
       "10665.9891343273"
      ],
      "text/markdown": [
       "10665.9891343273"
      ],
      "text/plain": [
       "[1] 10665.99"
      ]
     },
     "metadata": {},
     "output_type": "display_data"
    },
    {
     "data": {
      "text/html": [
       "6007"
      ],
      "text/latex": [
       "6007"
      ],
      "text/markdown": [
       "6007"
      ],
      "text/plain": [
       "[1] 6007"
      ]
     },
     "metadata": {},
     "output_type": "display_data"
    }
   ],
   "source": [
    "AllObsDistUnder50000_6 <- AllObsDistUnder50000 %>% filter(Celltype %in% c(\"HSPC\",\"Macrophage\",\"Tcell\")) \n",
    "AllObsDistUnder50000_6 %>% select(Distance) %>% unlist() %>% mean()\n",
    "AllObsDistUnder50000_6 %>% select(Distance) %>% unlist() %>% median()"
   ]
  },
  {
   "cell_type": "code",
   "execution_count": null,
   "id": "d4c0b986",
   "metadata": {},
   "outputs": [],
   "source": []
  },
  {
   "cell_type": "code",
   "execution_count": null,
   "id": "a39f7a44",
   "metadata": {},
   "outputs": [],
   "source": []
  },
  {
   "cell_type": "code",
   "execution_count": null,
   "id": "fdc3e660",
   "metadata": {},
   "outputs": [],
   "source": []
  },
  {
   "cell_type": "code",
   "execution_count": 27,
   "id": "dc57cd74",
   "metadata": {},
   "outputs": [
    {
     "data": {
      "text/html": [
       "31866.0251957996"
      ],
      "text/latex": [
       "31866.0251957996"
      ],
      "text/markdown": [
       "31866.0251957996"
      ],
      "text/plain": [
       "[1] 31866.03"
      ]
     },
     "metadata": {},
     "output_type": "display_data"
    }
   ],
   "source": [
    "mean(AllObsDist$Distance)"
   ]
  },
  {
   "cell_type": "code",
   "execution_count": 28,
   "id": "c5adc670",
   "metadata": {},
   "outputs": [
    {
     "data": {
      "text/html": [
       "9182"
      ],
      "text/latex": [
       "9182"
      ],
      "text/markdown": [
       "9182"
      ],
      "text/plain": [
       "[1] 9182"
      ]
     },
     "metadata": {},
     "output_type": "display_data"
    }
   ],
   "source": [
    "median(AllObsDist$Distance)"
   ]
  },
  {
   "cell_type": "code",
   "execution_count": null,
   "id": "02adbee4",
   "metadata": {},
   "outputs": [],
   "source": []
  },
  {
   "cell_type": "code",
   "execution_count": 39,
   "id": "b012694e",
   "metadata": {},
   "outputs": [],
   "source": [
    "AllObsDist_6 <- AllObsDist %>% filter(Celltype %in% c(\"HSPC\",\"Macrophage\",\"Tcell\")) "
   ]
  },
  {
   "cell_type": "code",
   "execution_count": 40,
   "id": "962dae8c",
   "metadata": {},
   "outputs": [
    {
     "data": {
      "text/html": [
       "27807.4266721904"
      ],
      "text/latex": [
       "27807.4266721904"
      ],
      "text/markdown": [
       "27807.4266721904"
      ],
      "text/plain": [
       "[1] 27807.43"
      ]
     },
     "metadata": {},
     "output_type": "display_data"
    }
   ],
   "source": [
    "AllObsDist_6 %>% select(Distance) %>% unlist() %>% mean()"
   ]
  },
  {
   "cell_type": "code",
   "execution_count": 41,
   "id": "c7840b3a",
   "metadata": {},
   "outputs": [
    {
     "data": {
      "text/html": [
       "8175"
      ],
      "text/latex": [
       "8175"
      ],
      "text/markdown": [
       "8175"
      ],
      "text/plain": [
       "[1] 8175"
      ]
     },
     "metadata": {},
     "output_type": "display_data"
    }
   ],
   "source": [
    "AllObsDist_6 %>% select(Distance) %>% unlist() %>% median()"
   ]
  },
  {
   "cell_type": "code",
   "execution_count": 35,
   "id": "56200d41",
   "metadata": {},
   "outputs": [
    {
     "data": {
      "text/html": [
       "<table class=\"dataframe\">\n",
       "<caption>A matrix: 11 × 1 of type dbl</caption>\n",
       "<tbody>\n",
       "\t<tr><th scope=row>q1</th><td>  631.0</td></tr>\n",
       "\t<tr><th scope=row>q2</th><td> 1485.0</td></tr>\n",
       "\t<tr><th scope=row>q3</th><td> 2651.0</td></tr>\n",
       "\t<tr><th scope=row>q4</th><td> 4276.0</td></tr>\n",
       "\t<tr><th scope=row>q45</th><td> 5287.0</td></tr>\n",
       "\t<tr><th scope=row>q5</th><td> 6438.0</td></tr>\n",
       "\t<tr><th scope=row>q55</th><td> 7809.0</td></tr>\n",
       "\t<tr><th scope=row>q6</th><td> 9402.0</td></tr>\n",
       "\t<tr><th scope=row>q7</th><td>13701.0</td></tr>\n",
       "\t<tr><th scope=row>q8</th><td>19995.0</td></tr>\n",
       "\t<tr><th scope=row>q9</th><td>30537.2</td></tr>\n",
       "</tbody>\n",
       "</table>\n"
      ],
      "text/latex": [
       "A matrix: 11 × 1 of type dbl\n",
       "\\begin{tabular}{r|l}\n",
       "\tq1 &   631.0\\\\\n",
       "\tq2 &  1485.0\\\\\n",
       "\tq3 &  2651.0\\\\\n",
       "\tq4 &  4276.0\\\\\n",
       "\tq45 &  5287.0\\\\\n",
       "\tq5 &  6438.0\\\\\n",
       "\tq55 &  7809.0\\\\\n",
       "\tq6 &  9402.0\\\\\n",
       "\tq7 & 13701.0\\\\\n",
       "\tq8 & 19995.0\\\\\n",
       "\tq9 & 30537.2\\\\\n",
       "\\end{tabular}\n"
      ],
      "text/markdown": [
       "\n",
       "A matrix: 11 × 1 of type dbl\n",
       "\n",
       "| q1 |   631.0 |\n",
       "| q2 |  1485.0 |\n",
       "| q3 |  2651.0 |\n",
       "| q4 |  4276.0 |\n",
       "| q45 |  5287.0 |\n",
       "| q5 |  6438.0 |\n",
       "| q55 |  7809.0 |\n",
       "| q6 |  9402.0 |\n",
       "| q7 | 13701.0 |\n",
       "| q8 | 19995.0 |\n",
       "| q9 | 30537.2 |\n",
       "\n"
      ],
      "text/plain": [
       "    [,1]   \n",
       "q1    631.0\n",
       "q2   1485.0\n",
       "q3   2651.0\n",
       "q4   4276.0\n",
       "q45  5287.0\n",
       "q5   6438.0\n",
       "q55  7809.0\n",
       "q6   9402.0\n",
       "q7  13701.0\n",
       "q8  19995.0\n",
       "q9  30537.2"
      ]
     },
     "metadata": {},
     "output_type": "display_data"
    }
   ],
   "source": [
    "AllObsDist %>% filter(Distance < 50000) %>% summarize(\n",
    "    q1 = quantile(Distance, c(.1)),\n",
    "    q2 = quantile(Distance, c(.2)),\n",
    "    q3 = quantile(Distance, c(.3)),\n",
    "    q4 = quantile(Distance, c(.4)),\n",
    "    q45 = quantile(Distance, c(.45)),\n",
    "    q5 = quantile(Distance, c(.5)),\n",
    "    q55 = quantile(Distance, c(.55)),\n",
    "    q6 = quantile(Distance, c(.6)),\n",
    "    q7 = quantile(Distance, c(.7)),\n",
    "    q8 = quantile(Distance, c(.8)),\n",
    "    q9 = quantile(Distance, c(.9)),\n",
    ") %>% t()"
   ]
  },
  {
   "cell_type": "code",
   "execution_count": null,
   "id": "5893e022",
   "metadata": {},
   "outputs": [],
   "source": []
  },
  {
   "cell_type": "code",
   "execution_count": null,
   "id": "18e11a90",
   "metadata": {},
   "outputs": [],
   "source": []
  },
  {
   "cell_type": "code",
   "execution_count": null,
   "id": "e1584bc5",
   "metadata": {},
   "outputs": [],
   "source": []
  }
 ],
 "metadata": {
  "kernelspec": {
   "display_name": "R",
   "language": "R",
   "name": "ir"
  },
  "language_info": {
   "codemirror_mode": "r",
   "file_extension": ".r",
   "mimetype": "text/x-r-source",
   "name": "R",
   "pygments_lexer": "r",
   "version": "4.1.2"
  },
  "toc": {
   "base_numbering": 1,
   "nav_menu": {},
   "number_sections": true,
   "sideBar": true,
   "skip_h1_title": false,
   "title_cell": "Table of Contents",
   "title_sidebar": "Contents",
   "toc_cell": false,
   "toc_position": {},
   "toc_section_display": true,
   "toc_window_display": true
  }
 },
 "nbformat": 4,
 "nbformat_minor": 5
}

{
 "cells": [
  {
   "cell_type": "markdown",
   "id": "a993658e",
   "metadata": {},
   "source": [
    "# Directories and files"
   ]
  },
  {
   "cell_type": "code",
   "execution_count": 1,
   "id": "d31f48fe",
   "metadata": {},
   "outputs": [],
   "source": [
    "# Make a home\n",
    "SE_VENN_DIR=/data/hodges_lab/Tim/SE_VENN/\n",
    "mkdir -p ${SE_VENN_DIR}\n",
    "cd ${SE_VENN_DIR}\n",
    "\n",
    "REF_DIR=${SE_VENN_DIR}references/\n",
    "mkdir -p ${REF_DIR}\n",
    "INTER_DIR=${SE_VENN_DIR}intermediate_files/\n",
    "mkdir -p ${INTER_DIR}\n",
    "OUT_DIR=${SE_VENN_DIR}output_files/\n",
    "mkdir -p ${OUT_DIR}"
   ]
  },
  {
   "cell_type": "markdown",
   "id": "61a439d8",
   "metadata": {},
   "source": [
    "## Super-enhancer file\n",
    "\n",
    "As downloaded from https://www.cell.com/fulltext/S0092-8674(13)01227-0#supplementaryMaterial (Hnisz, et al., 2013)"
   ]
  },
  {
   "cell_type": "code",
   "execution_count": 2,
   "id": "ee073340",
   "metadata": {},
   "outputs": [],
   "source": [
    "HNISZ_FILE=${REF_DIR}GM12878.bed\n",
    "GM_SE_FILE=${REF_DIR}GM12878.superenhancers.bed"
   ]
  },
  {
   "cell_type": "code",
   "execution_count": 3,
   "id": "e9264e5b",
   "metadata": {},
   "outputs": [
    {
     "name": "stdout",
     "output_type": "stream",
     "text": [
      "track name=\"Enhancers in GM12878 in GM12878\" itemRGB=On color=0,0,0\n",
      "chr14\t22916695\t23039397\t16_MACS_peak_6764_lociStitched\t2\n",
      "chr3\t170951491\t171070287\t19_MACS_peak_17341_lociStitched\t14\n"
     ]
    }
   ],
   "source": [
    "head -n 3 ${HNISZ_FILE}"
   ]
  },
  {
   "cell_type": "code",
   "execution_count": 4,
   "id": "76e92293",
   "metadata": {},
   "outputs": [
    {
     "name": "stdout",
     "output_type": "stream",
     "text": [
      "10875 /data/hodges_lab/Tim/SE_VENN/references/GM12878.bed\n"
     ]
    }
   ],
   "source": [
    "wc -l ${HNISZ_FILE}"
   ]
  },
  {
   "cell_type": "code",
   "execution_count": 6,
   "id": "cb4afbda",
   "metadata": {},
   "outputs": [
    {
     "name": "stdout",
     "output_type": "stream",
     "text": [
      "chr1\t17066678\t17067042\t1_MACS_peak_241_lociStitched\t10612\n",
      "\n",
      "track name=\"Enhancers in GM12878 in GM12878\t\" itemRGB=On color=255,0,0\n",
      "chr14\t22916695\t23039397\t16_MACS_peak_6764_lociStitched\t2\n",
      "chr3\t170951491\t171070287\t19_MACS_peak_17341_lociStitched\t14\n"
     ]
    }
   ],
   "source": [
    "# Super enhancer BED starts on line 10619\n",
    "head -n 10620 ${HNISZ_FILE} | tail -n 5"
   ]
  },
  {
   "cell_type": "code",
   "execution_count": 7,
   "id": "cb923f3b",
   "metadata": {},
   "outputs": [
    {
     "name": "stdout",
     "output_type": "stream",
     "text": [
      "chr14\t22916695\t23039397\t16_MACS_peak_6764_lociStitched\n",
      "chr3\t170951491\t171070287\t19_MACS_peak_17341_lociStitched\n",
      "chr14\t91781511\t91885461\t20_MACS_peak_7445_lociStitched\n",
      "chr5\t150438135\t150540068\t14_MACS_peak_19594_lociStitched\n",
      "chr14\t68714552\t68809686\t14_MACS_peak_7193_lociStitched\n",
      "chr17\t76683361\t76778394\t15_MACS_peak_10809_lociStitched\n",
      "chr5\t118643281\t118735385\t13_MACS_peak_19248_lociStitched\n",
      "chr9\t132745933\t132836402\t10_MACS_peak_24483_lociStitched\n",
      "chr13\t47126628\t47214326\t15_MACS_peak_6440_lociStitched\n",
      "chr1\t160673705\t160760985\t10_MACS_peak_1601_lociStitched\n"
     ]
    }
   ],
   "source": [
    "awk 'BEGIN{OFS=FS=\"\\t\"}{if (NR>10618) print $1,$2,$3,$4}' ${HNISZ_FILE} | head"
   ]
  },
  {
   "cell_type": "code",
   "execution_count": 3,
   "id": "302cae6e",
   "metadata": {
    "scrolled": true
   },
   "outputs": [
    {
     "name": "stdout",
     "output_type": "stream",
     "text": [
      "chr1\t12099148\t12149187\t8_MACS_peak_185_lociStitched\n",
      "chr1\t22085538\t22119057\t5_MACS_peak_286_lociStitched\n",
      "chr1\t24213225\t24243574\t6_MACS_peak_333_lociStitched\n"
     ]
    }
   ],
   "source": [
    "awk 'BEGIN{OFS=FS=\"\\t\"}{if (NR>10618) print $1,$2,$3,$4}' ${HNISZ_FILE} | bedtools sort -i - > ${REF_DIR}GM12878.superenhancers.bed\n",
    "\n",
    "head -n 3 ${REF_DIR}GM12878.superenhancers.bed"
   ]
  },
  {
   "cell_type": "markdown",
   "id": "1f3abd15",
   "metadata": {},
   "source": [
    "## B cell files"
   ]
  },
  {
   "cell_type": "code",
   "execution_count": 7,
   "id": "18181ec6",
   "metadata": {},
   "outputs": [],
   "source": [
    "cp /data/hodges_lab/Tim/finalAnalyses_HMRs/hp_lineage/filtRefSeqFiles/Bcell.minsize50.filtforrefseqTSSexons.txt ${REF_DIR}\n",
    "cp /data/hodges_lab/Tim/finalAnalyses_HMRs/hp_lineage/HMRs/Bcell_internalClusters_individualHMRs_hpl.txt ${REF_DIR}"
   ]
  },
  {
   "cell_type": "code",
   "execution_count": 10,
   "id": "02e198ad",
   "metadata": {},
   "outputs": [
    {
     "name": "stdout",
     "output_type": "stream",
     "text": [
      "34070 /data/hodges_lab/Tim/SE_VENN/references/Bcell.minsize50.filtforrefseqTSSexons.txt\n",
      "chr1\t28511\t29460\t949\n",
      "chr1\t237055\t237877\t822\n",
      "chr1\t521533\t521660\t127\n",
      "\n",
      "\n",
      "5974 /data/hodges_lab/Tim/SE_VENN/references/Bcell_internalClusters_individualHMRs_hpl.txt\n",
      "chr1\t564470\t566009\t1539\n",
      "chr1\t566458\t566879\t421\n",
      "chr1\t567166\t570301\t3135\n"
     ]
    }
   ],
   "source": [
    "B_ALL=${REF_DIR}Bcell.minsize50.filtforrefseqTSSexons.txt \n",
    "B_CL=${REF_DIR}Bcell_internalClusters_individualHMRs_hpl.txt\n",
    "\n",
    "wc -l ${B_ALL}\n",
    "head -n 3 ${B_ALL}\n",
    "echo -e \"\\n\"\n",
    "wc -l ${B_CL}\n",
    "head -n 3 ${B_CL}"
   ]
  },
  {
   "cell_type": "markdown",
   "id": "069f3c13",
   "metadata": {},
   "source": [
    "# Combine into \"syntetic regions\""
   ]
  },
  {
   "cell_type": "code",
   "execution_count": 11,
   "id": "a62f554d",
   "metadata": {},
   "outputs": [
    {
     "name": "stdout",
     "output_type": "stream",
     "text": [
      "257 /data/hodges_lab/Tim/SE_VENN/references/GM12878.superenhancers.bed\n",
      "5974 /data/hodges_lab/Tim/SE_VENN/references/Bcell_internalClusters_individualHMRs_hpl.txt\n",
      "34070 /data/hodges_lab/Tim/SE_VENN/references/Bcell.minsize50.filtforrefseqTSSexons.txt\n"
     ]
    }
   ],
   "source": [
    "wc -l ${REF_DIR}GM12878.superenhancers.bed\n",
    "wc -l ${B_CL}\n",
    "wc -l ${B_ALL}"
   ]
  },
  {
   "cell_type": "code",
   "execution_count": 12,
   "id": "d95038b1",
   "metadata": {},
   "outputs": [],
   "source": [
    "cat ${REF_DIR}GM12878.superenhancers.bed ${B_ALL} ${B_CL} | awk 'BEGIN{OFS=FS=\"\\t\"}{print $1,$2,$3}' - | bedtools sort -i - | bedtools merge -i - | awk 'BEGIN{OFS=FS=\"\\t\"}{print $1,$2,$3,\"synReg_\"NR}' - > ${INTER_DIR}GMSEs_Bcell_filtforrefseq.synteticRegions.txt\n"
   ]
  },
  {
   "cell_type": "markdown",
   "id": "460f18e1",
   "metadata": {},
   "source": [
    "# Map original BEDs to the syntetic regions"
   ]
  },
  {
   "cell_type": "code",
   "execution_count": 13,
   "id": "edfb78f1",
   "metadata": {},
   "outputs": [
    {
     "name": "stdout",
     "output_type": "stream",
     "text": [
      "Done.\n"
     ]
    }
   ],
   "source": [
    "# Perform Intersections\n",
    "bedtools intersect -u -a ${INTER_DIR}GMSEs_Bcell_filtforrefseq.synteticRegions.txt -b ${REF_DIR}GM12878.superenhancers.bed > ${INTER_DIR}Syn_SEs.txt \n",
    "bedtools intersect -u -a ${INTER_DIR}GMSEs_Bcell_filtforrefseq.synteticRegions.txt -b ${B_CL} > ${INTER_DIR}Syn_Cl.txt \n",
    "bedtools intersect -u -a ${INTER_DIR}GMSEs_Bcell_filtforrefseq.synteticRegions.txt -b ${B_ALL} > ${INTER_DIR}Syn_All.txt \n",
    "\n",
    "echo \"Done.\""
   ]
  },
  {
   "cell_type": "markdown",
   "id": "1a577d1d",
   "metadata": {},
   "source": [
    "# Plotting"
   ]
  },
  {
   "cell_type": "code",
   "execution_count": 1,
   "id": "12cee157",
   "metadata": {},
   "outputs": [
    {
     "name": "stderr",
     "output_type": "stream",
     "text": [
      "── \u001b[1mAttaching packages\u001b[22m ─────────────────────────────────────── tidyverse 1.3.1 ──\n",
      "\n",
      "\u001b[32m✔\u001b[39m \u001b[34mggplot2\u001b[39m 3.3.6     \u001b[32m✔\u001b[39m \u001b[34mpurrr  \u001b[39m 1.0.1\n",
      "\u001b[32m✔\u001b[39m \u001b[34mtibble \u001b[39m 3.2.1     \u001b[32m✔\u001b[39m \u001b[34mdplyr  \u001b[39m 1.1.1\n",
      "\u001b[32m✔\u001b[39m \u001b[34mtidyr  \u001b[39m 1.3.0     \u001b[32m✔\u001b[39m \u001b[34mstringr\u001b[39m 1.5.0\n",
      "\u001b[32m✔\u001b[39m \u001b[34mreadr  \u001b[39m 2.1.2     \u001b[32m✔\u001b[39m \u001b[34mforcats\u001b[39m 0.5.1\n",
      "\n",
      "── \u001b[1mConflicts\u001b[22m ────────────────────────────────────────── tidyverse_conflicts() ──\n",
      "\u001b[31m✖\u001b[39m \u001b[34mdplyr\u001b[39m::\u001b[32mfilter()\u001b[39m masks \u001b[34mstats\u001b[39m::filter()\n",
      "\u001b[31m✖\u001b[39m \u001b[34mdplyr\u001b[39m::\u001b[32mlag()\u001b[39m    masks \u001b[34mstats\u001b[39m::lag()\n",
      "\n"
     ]
    }
   ],
   "source": [
    "library(tidyverse)\n",
    "library(eulerr)"
   ]
  },
  {
   "cell_type": "markdown",
   "id": "a77a1fbe",
   "metadata": {},
   "source": [
    "## Load "
   ]
  },
  {
   "cell_type": "code",
   "execution_count": 2,
   "id": "fe4803c5",
   "metadata": {
    "scrolled": true
   },
   "outputs": [
    {
     "name": "stderr",
     "output_type": "stream",
     "text": [
      "\u001b[1mRows: \u001b[22m\u001b[34m33346\u001b[39m \u001b[1mColumns: \u001b[22m\u001b[34m4\u001b[39m\n",
      "\u001b[36m──\u001b[39m \u001b[1mColumn specification\u001b[22m \u001b[36m────────────────────────────────────────────────────────\u001b[39m\n",
      "\u001b[1mDelimiter:\u001b[22m \"\\t\"\n",
      "\u001b[31mchr\u001b[39m (2): chr, region\n",
      "\u001b[32mdbl\u001b[39m (2): start, end\n",
      "\n",
      "\u001b[36mℹ\u001b[39m Use `spec()` to retrieve the full column specification for this data.\n",
      "\u001b[36mℹ\u001b[39m Specify the column types or set `show_col_types = FALSE` to quiet this message.\n",
      "\u001b[1mRows: \u001b[22m\u001b[34m5690\u001b[39m \u001b[1mColumns: \u001b[22m\u001b[34m4\u001b[39m\n",
      "\u001b[36m──\u001b[39m \u001b[1mColumn specification\u001b[22m \u001b[36m────────────────────────────────────────────────────────\u001b[39m\n",
      "\u001b[1mDelimiter:\u001b[22m \"\\t\"\n",
      "\u001b[31mchr\u001b[39m (2): chr, region\n",
      "\u001b[32mdbl\u001b[39m (2): start, end\n",
      "\n",
      "\u001b[36mℹ\u001b[39m Use `spec()` to retrieve the full column specification for this data.\n",
      "\u001b[36mℹ\u001b[39m Specify the column types or set `show_col_types = FALSE` to quiet this message.\n",
      "\u001b[1mRows: \u001b[22m\u001b[34m257\u001b[39m \u001b[1mColumns: \u001b[22m\u001b[34m4\u001b[39m\n",
      "\u001b[36m──\u001b[39m \u001b[1mColumn specification\u001b[22m \u001b[36m────────────────────────────────────────────────────────\u001b[39m\n",
      "\u001b[1mDelimiter:\u001b[22m \"\\t\"\n",
      "\u001b[31mchr\u001b[39m (2): chr, region\n",
      "\u001b[32mdbl\u001b[39m (2): start, end\n",
      "\n",
      "\u001b[36mℹ\u001b[39m Use `spec()` to retrieve the full column specification for this data.\n",
      "\u001b[36mℹ\u001b[39m Specify the column types or set `show_col_types = FALSE` to quiet this message.\n"
     ]
    }
   ],
   "source": [
    "setwd(\"/data/hodges_lab/Tim/SE_VENN/\")\n",
    "\n",
    "syn_all <- read_tsv(\"./intermediate_files/Syn_All.txt\", col_names=c(\"chr\",\"start\",\"end\",\"region\")) \n",
    "syn_cl <- read_tsv(\"./intermediate_files/Syn_Cl.txt\", col_names=c(\"chr\",\"start\",\"end\",\"region\")) \n",
    "syn_se <- read_tsv(\"./intermediate_files/Syn_SEs.txt\", col_names=c(\"chr\",\"start\",\"end\",\"region\")) \n",
    "\n",
    "\n",
    "syn_list <- list(\n",
    "  SEs = syn_se$region,\n",
    "  Clustered = syn_cl$region,\n",
    "  All = syn_all$region\n",
    ")"
   ]
  },
  {
   "cell_type": "markdown",
   "id": "0b844ca3",
   "metadata": {},
   "source": [
    "## Plot call "
   ]
  },
  {
   "cell_type": "code",
   "execution_count": 13,
   "id": "ec1a509e",
   "metadata": {},
   "outputs": [
    {
     "data": {
      "text/html": [
       "<strong>png:</strong> 2"
      ],
      "text/latex": [
       "\\textbf{png:} 2"
      ],
      "text/markdown": [
       "**png:** 2"
      ],
      "text/plain": [
       "png \n",
       "  2 "
      ]
     },
     "metadata": {},
     "output_type": "display_data"
    },
    {
     "data": {
      "image/png": "[encoded data removed]",
      "text/plain": [
       "plot without title"
      ]
     },
     "metadata": {
      "image/png": {
       "height": 420,
       "width": 420
      }
     },
     "output_type": "display_data"
    }
   ],
   "source": [
    "pdf(\"SE_Bcell_eulerr.pdf\")\n",
    "\n",
    "p_euler <- plot(euler(syn_list, shape = \"ellipse\"), \n",
    "     quantities = TRUE,\n",
    "     lty = 1)\n",
    "p_euler\n",
    "\n",
    "dev.off()\n",
    "p_euler"
   ]
  },
  {
   "cell_type": "code",
   "execution_count": null,
   "id": "c8a26c77",
   "metadata": {},
   "outputs": [],
   "source": []
  },
  {
   "cell_type": "code",
   "execution_count": null,
   "id": "d6f7ff9d",
   "metadata": {},
   "outputs": [],
   "source": []
  },
  {
   "cell_type": "code",
   "execution_count": null,
   "id": "9830f426",
   "metadata": {},
   "outputs": [],
   "source": []
  },
  {
   "cell_type": "code",
   "execution_count": null,
   "id": "df76cbda",
   "metadata": {},
   "outputs": [],
   "source": []
  },
  {
   "cell_type": "code",
   "execution_count": null,
   "id": "707c4a41",
   "metadata": {},
   "outputs": [],
   "source": []
  },
  {
   "cell_type": "code",
   "execution_count": null,
   "id": "0f435cdf",
   "metadata": {},
   "outputs": [],
   "source": []
  },
  {
   "cell_type": "code",
   "execution_count": null,
   "id": "84b87f91",
   "metadata": {},
   "outputs": [],
   "source": []
  }
 ],
 "metadata": {
  "kernelspec": {
   "display_name": "R",
   "language": "R",
   "name": "ir"
  },
  "language_info": {
   "codemirror_mode": "r",
   "file_extension": ".r",
   "mimetype": "text/x-r-source",
   "name": "R",
   "pygments_lexer": "r",
   "version": "4.1.2"
  },
  "toc": {
   "base_numbering": 1,
   "nav_menu": {},
   "number_sections": true,
   "sideBar": true,
   "skip_h1_title": false,
   "title_cell": "Table of Contents",
   "title_sidebar": "Contents",
   "toc_cell": false,
   "toc_position": {},
   "toc_section_display": true,
   "toc_window_display": true
  }
 },
 "nbformat": 4,
 "nbformat_minor": 5
}

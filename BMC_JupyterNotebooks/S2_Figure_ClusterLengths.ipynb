{
 "cells": [
  {
   "cell_type": "code",
   "execution_count": null,
   "id": "ae48a464",
   "metadata": {},
   "outputs": [],
   "source": []
  },
  {
   "cell_type": "markdown",
   "id": "b1648f74",
   "metadata": {},
   "source": [
    "# Files"
   ]
  },
  {
   "cell_type": "code",
   "execution_count": 4,
   "id": "b266508f",
   "metadata": {},
   "outputs": [],
   "source": [
    "HMR_DIR=/data/hodges_lab/Tim/finalAnalyses_HMRs/HMRs_goodGenes/HMRs/\n",
    "WORKING_DIR=/data/hodges_lab/Tim/paper_submission/data/cluster_lengths/\n",
    "cd ${WORKING_DIR}\n",
    "\n",
    "CL_FILE_DIR=/data/hodges_lab/Tim/paper_submission/data/cluster_lengths/input_files/\n",
    "mkdir -p ${CL_FILE_DIR}\n",
    "\n",
    "# Files\n",
    "mv ${HMR_DIR}*_internalClusters_BED.txt ${CL_FILE_DIR}\n"
   ]
  },
  {
   "cell_type": "code",
   "execution_count": 8,
   "id": "e41f3b0b",
   "metadata": {},
   "outputs": [
    {
     "name": "stdout",
     "output_type": "stream",
     "text": [
      "Adrenal_internalClusters_BED.txt  fSpinal_internalClusters_BED.txt\n",
      "Bcell_internalClusters_BED.txt\t  H1ESC_internalClusters_BED.txt\n",
      "fHeart_internalClusters_BED.txt   Liver_internalClusters_BED.txt\n"
     ]
    }
   ],
   "source": [
    "cd ${CL_FILE_DIR}\n",
    "ls"
   ]
  },
  {
   "cell_type": "markdown",
   "id": "124e4471",
   "metadata": {},
   "source": [
    "## Clean files and add Length/ID column"
   ]
  },
  {
   "cell_type": "code",
   "execution_count": 11,
   "id": "b6794777",
   "metadata": {},
   "outputs": [
    {
     "name": "stdout",
     "output_type": "stream",
     "text": [
      "chr1\t564500\t570301\n",
      "chr1\t839737\t856914\n",
      "chr1\t993521\t1005100\n",
      "chr1\t1072225\t1077128\n",
      "chr1\t1092587\t1106080\n",
      "chr1\t1172539\t1176674\n",
      "chr1\t1825860\t1831061\n",
      "chr1\t2053317\t2055828\n",
      "chr1\t2162085\t2172003\n",
      "chr1\t2241779\t2247030\n"
     ]
    }
   ],
   "source": [
    "head Adrenal_internalClusters_BED.txt"
   ]
  },
  {
   "cell_type": "code",
   "execution_count": 15,
   "id": "57fe1aec",
   "metadata": {},
   "outputs": [],
   "source": [
    "cd ${CL_FILE_DIR}\n",
    "\n",
    "for FILE in *BED.txt\n",
    "do\n",
    "    FILENAME=\"${FILE%%_internalClusters_BED.txt}\"\n",
    "    awk -v ID=$FILENAME 'BEGIN{OFS=FS=\"\\t\"}{print $1,$2,$3,($3-$2),ID}' ${FILE} > ${FILENAME}.ID.txt\n",
    "done"
   ]
  },
  {
   "cell_type": "code",
   "execution_count": null,
   "id": "a671ea2b",
   "metadata": {},
   "outputs": [],
   "source": [
    "# Combine"
   ]
  },
  {
   "cell_type": "code",
   "execution_count": 23,
   "id": "2308ce4c",
   "metadata": {},
   "outputs": [],
   "source": [
    "COMB_DIR=/data/hodges_lab/Tim/paper_submission/data/cluster_lengths/combined/\n",
    "mkdir -p $COMB_DIR"
   ]
  },
  {
   "cell_type": "code",
   "execution_count": 24,
   "id": "0d64a82d",
   "metadata": {},
   "outputs": [],
   "source": [
    "cd ${CL_FILE_DIR}\n",
    "cat *.ID.txt > ${COMB_DIR}cluster_lengths_combined.txt"
   ]
  },
  {
   "cell_type": "code",
   "execution_count": 26,
   "id": "01db5164",
   "metadata": {
    "scrolled": true
   },
   "outputs": [
    {
     "name": "stdout",
     "output_type": "stream",
     "text": [
      "chr1\t564500\t570301\t5801\tAdrenal\n",
      "chr1\t839737\t856914\t17177\tAdrenal\n",
      "chr1\t993521\t1005100\t11579\tAdrenal\n",
      "chr1\t1072225\t1077128\t4903\tAdrenal\n",
      "chr1\t1092587\t1106080\t13493\tAdrenal\n",
      "chr1\t1172539\t1176674\t4135\tAdrenal\n",
      "chr1\t1825860\t1831061\t5201\tAdrenal\n",
      "chr1\t2053317\t2055828\t2511\tAdrenal\n",
      "chr1\t2162085\t2172003\t9918\tAdrenal\n",
      "chr1\t2241779\t2247030\t5251\tAdrenal\n"
     ]
    }
   ],
   "source": [
    "cd ${COMB_DIR}\n",
    "head *.txt"
   ]
  },
  {
   "cell_type": "code",
   "execution_count": null,
   "id": "6c82e0da",
   "metadata": {},
   "outputs": [],
   "source": []
  },
  {
   "cell_type": "markdown",
   "id": "4404cc44",
   "metadata": {},
   "source": [
    "# R"
   ]
  },
  {
   "cell_type": "code",
   "execution_count": 1,
   "id": "2cdf8a11",
   "metadata": {},
   "outputs": [
    {
     "name": "stderr",
     "output_type": "stream",
     "text": [
      "── \u001b[1mAttaching packages\u001b[22m ─────────────────────────────────────── tidyverse 1.3.1 ──\n",
      "\n",
      "\u001b[32m✔\u001b[39m \u001b[34mtibble \u001b[39m 3.1.7     \u001b[32m✔\u001b[39m \u001b[34mdplyr  \u001b[39m 1.0.9\n",
      "\u001b[32m✔\u001b[39m \u001b[34mtidyr  \u001b[39m 1.2.0     \u001b[32m✔\u001b[39m \u001b[34mstringr\u001b[39m 1.4.0\n",
      "\u001b[32m✔\u001b[39m \u001b[34mreadr  \u001b[39m 2.1.2     \u001b[32m✔\u001b[39m \u001b[34mforcats\u001b[39m 0.5.1\n",
      "\u001b[32m✔\u001b[39m \u001b[34mpurrr  \u001b[39m 0.3.4     \n",
      "\n",
      "── \u001b[1mConflicts\u001b[22m ────────────────────────────────────────── tidyverse_conflicts() ──\n",
      "\u001b[31m✖\u001b[39m \u001b[34mdplyr\u001b[39m::\u001b[32mfilter()\u001b[39m masks \u001b[34mstats\u001b[39m::filter()\n",
      "\u001b[31m✖\u001b[39m \u001b[34mdplyr\u001b[39m::\u001b[32mlag()\u001b[39m    masks \u001b[34mstats\u001b[39m::lag()\n",
      "\n",
      "\n",
      "Attaching package: ‘data.table’\n",
      "\n",
      "\n",
      "The following objects are masked from ‘package:dplyr’:\n",
      "\n",
      "    between, first, last\n",
      "\n",
      "\n",
      "The following object is masked from ‘package:purrr’:\n",
      "\n",
      "    transpose\n",
      "\n",
      "\n"
     ]
    }
   ],
   "source": [
    "library(ggplot2)\n",
    "library(tidyverse)\n",
    "library(data.table)\n",
    "\n",
    "setwd(\"/data/hodges_lab/Tim/paper_submission/data/cluster_lengths/combined/\")"
   ]
  },
  {
   "cell_type": "code",
   "execution_count": 2,
   "id": "017c6c0f",
   "metadata": {},
   "outputs": [
    {
     "name": "stderr",
     "output_type": "stream",
     "text": [
      "\u001b[1mRows: \u001b[22m\u001b[34m9343\u001b[39m \u001b[1mColumns: \u001b[22m\u001b[34m5\u001b[39m\n",
      "\u001b[36m──\u001b[39m \u001b[1mColumn specification\u001b[22m \u001b[36m────────────────────────────────────────────────────────\u001b[39m\n",
      "\u001b[1mDelimiter:\u001b[22m \"\\t\"\n",
      "\u001b[31mchr\u001b[39m (2): X1, X5\n",
      "\u001b[32mdbl\u001b[39m (3): X2, X3, X4\n",
      "\n",
      "\u001b[36mℹ\u001b[39m Use `spec()` to retrieve the full column specification for this data.\n",
      "\u001b[36mℹ\u001b[39m Specify the column types or set `show_col_types = FALSE` to quiet this message.\n"
     ]
    }
   ],
   "source": [
    "cll <- read_tsv(\"cluster_lengths_combined.txt\", col_names = F)"
   ]
  },
  {
   "cell_type": "code",
   "execution_count": 4,
   "id": "f5db688a",
   "metadata": {
    "scrolled": true
   },
   "outputs": [],
   "source": [
    "colnames(cll) <- c(\"chr\",\"start\",\"end\",\"length\",\"celltype\")"
   ]
  },
  {
   "cell_type": "code",
   "execution_count": 19,
   "id": "8ea03407",
   "metadata": {},
   "outputs": [
    {
     "data": {
      "image/png": "[encoded data removed]",
      "text/plain": [
       "plot without title"
      ]
     },
     "metadata": {
      "image/png": {
       "height": 420,
       "width": 420
      }
     },
     "output_type": "display_data"
    }
   ],
   "source": [
    "p_cll <- cll %>%\n",
    "    ggplot(aes(x=celltype, y = length)) +\n",
    "        geom_violin() +\n",
    "        geom_boxplot() +\n",
    "        theme_minimal() +\n",
    "        geom_hline(yintercept = 10500, linetype='dashed', size = 1, color = 'red')\n",
    "p_cll"
   ]
  },
  {
   "cell_type": "code",
   "execution_count": 8,
   "id": "c0d72724",
   "metadata": {},
   "outputs": [],
   "source": [
    "cll %>%\n",
    "    ggplot(aes(x=celltype, y = length)) +\n",
    "        geom_boxplot() +\n",
    "        theme_minimal() +\n",
    "        geom_hline(yintercept = 10500)"
   ]
  },
  {
   "cell_type": "code",
   "execution_count": 7,
   "id": "447ed5af",
   "metadata": {},
   "outputs": [
    {
     "data": {
      "text/html": [
       "'/gpfs52/data/hodges_lab/Tim/paper_submission/data/cluster_lengths/combined'"
      ],
      "text/latex": [
       "'/gpfs52/data/hodges\\_lab/Tim/paper\\_submission/data/cluster\\_lengths/combined'"
      ],
      "text/markdown": [
       "'/gpfs52/data/hodges_lab/Tim/paper_submission/data/cluster_lengths/combined'"
      ],
      "text/plain": [
       "[1] \"/gpfs52/data/hodges_lab/Tim/paper_submission/data/cluster_lengths/combined\""
      ]
     },
     "metadata": {},
     "output_type": "display_data"
    }
   ],
   "source": [
    "getwd()"
   ]
  },
  {
   "cell_type": "code",
   "execution_count": 20,
   "id": "7e2f89db",
   "metadata": {},
   "outputs": [
    {
     "name": "stderr",
     "output_type": "stream",
     "text": [
      "Saving 6.67 x 6.67 in image\n",
      "\n"
     ]
    }
   ],
   "source": [
    "ggsave(\"/data/hodges_lab/Tim/paper_submission/data/cluster_lengths/s2_cluster_lengths.pdf\", p_cll)"
   ]
  },
  {
   "cell_type": "code",
   "execution_count": null,
   "id": "a16739b5",
   "metadata": {},
   "outputs": [],
   "source": []
  },
  {
   "cell_type": "code",
   "execution_count": null,
   "id": "b3e6aa15",
   "metadata": {},
   "outputs": [],
   "source": []
  },
  {
   "cell_type": "code",
   "execution_count": null,
   "id": "29119bbc",
   "metadata": {},
   "outputs": [],
   "source": []
  },
  {
   "cell_type": "code",
   "execution_count": null,
   "id": "b0d036d8",
   "metadata": {},
   "outputs": [],
   "source": []
  },
  {
   "cell_type": "code",
   "execution_count": null,
   "id": "1213eec5",
   "metadata": {},
   "outputs": [],
   "source": []
  },
  {
   "cell_type": "code",
   "execution_count": null,
   "id": "9e5d6145",
   "metadata": {},
   "outputs": [],
   "source": []
  }
 ],
 "metadata": {
  "kernelspec": {
   "display_name": "R",
   "language": "R",
   "name": "ir"
  },
  "language_info": {
   "codemirror_mode": "r",
   "file_extension": ".r",
   "mimetype": "text/x-r-source",
   "name": "R",
   "pygments_lexer": "r",
   "version": "4.1.2"
  },
  "toc": {
   "base_numbering": 1,
   "nav_menu": {},
   "number_sections": true,
   "sideBar": true,
   "skip_h1_title": false,
   "title_cell": "Table of Contents",
   "title_sidebar": "Contents",
   "toc_cell": false,
   "toc_position": {},
   "toc_section_display": true,
   "toc_window_display": true
  }
 },
 "nbformat": 4,
 "nbformat_minor": 5
}

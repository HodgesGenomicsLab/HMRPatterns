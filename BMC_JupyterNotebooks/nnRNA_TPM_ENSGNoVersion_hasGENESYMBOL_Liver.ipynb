{
 "cells": [
  {
   "cell_type": "markdown",
   "id": "0925a02d",
   "metadata": {},
   "source": [
    "# Add BED to ENSG_TPM"
   ]
  },
  {
   "cell_type": "code",
   "execution_count": 1,
   "id": "d85db8bd",
   "metadata": {},
   "outputs": [
    {
     "name": "stderr",
     "output_type": "stream",
     "text": [
      "── \u001b[1mAttaching packages\u001b[22m ─────────────────────────────────────── tidyverse 1.3.1 ──\n",
      "\n",
      "\u001b[32m✔\u001b[39m \u001b[34mggplot2\u001b[39m 3.3.6     \u001b[32m✔\u001b[39m \u001b[34mpurrr  \u001b[39m 1.0.1\n",
      "\u001b[32m✔\u001b[39m \u001b[34mtibble \u001b[39m 3.2.1     \u001b[32m✔\u001b[39m \u001b[34mdplyr  \u001b[39m 1.1.1\n",
      "\u001b[32m✔\u001b[39m \u001b[34mtidyr  \u001b[39m 1.3.0     \u001b[32m✔\u001b[39m \u001b[34mstringr\u001b[39m 1.5.0\n",
      "\u001b[32m✔\u001b[39m \u001b[34mreadr  \u001b[39m 2.1.2     \u001b[32m✔\u001b[39m \u001b[34mforcats\u001b[39m 0.5.1\n",
      "\n",
      "── \u001b[1mConflicts\u001b[22m ────────────────────────────────────────── tidyverse_conflicts() ──\n",
      "\u001b[31m✖\u001b[39m \u001b[34mdplyr\u001b[39m::\u001b[32mfilter()\u001b[39m masks \u001b[34mstats\u001b[39m::filter()\n",
      "\u001b[31m✖\u001b[39m \u001b[34mdplyr\u001b[39m::\u001b[32mlag()\u001b[39m    masks \u001b[34mstats\u001b[39m::lag()\n",
      "\n",
      "\n",
      "\n",
      "clusterProfiler v4.2.0  For help: https://yulab-smu.top/biomedical-knowledge-mining-book/\n",
      "\n",
      "If you use clusterProfiler in published research, please cite:\n",
      "T Wu, E Hu, S Xu, M Chen, P Guo, Z Dai, T Feng, L Zhou, W Tang, L Zhan, X Fu, S Liu, X Bo, and G Yu. clusterProfiler 4.0: A universal enrichment tool for interpreting omics data. The Innovation. 2021, 2(3):100141\n",
      "\n",
      "\n",
      "Attaching package: ‘clusterProfiler’\n",
      "\n",
      "\n",
      "The following object is masked from ‘package:purrr’:\n",
      "\n",
      "    simplify\n",
      "\n",
      "\n",
      "The following object is masked from ‘package:stats’:\n",
      "\n",
      "    filter\n",
      "\n",
      "\n"
     ]
    },
    {
     "name": "stdout",
     "output_type": "stream",
     "text": [
      "[1] \"Loaded.\"\n"
     ]
    }
   ],
   "source": [
    "library(tidyverse)\n",
    "library(ggplot2)\n",
    "library(clusterProfiler)\n",
    "library(biomaRt)\n",
    "print(\"Loaded.\")\n",
    "\n",
    "setwd(\"/data/hodges_lab/Tim/nnRNA_TPM_EHGM/reference_files/\")"
   ]
  },
  {
   "cell_type": "markdown",
   "id": "9ba765da",
   "metadata": {},
   "source": [
    "## HepG2"
   ]
  },
  {
   "cell_type": "markdown",
   "id": "9f80f10e",
   "metadata": {},
   "source": [
    "### Average reps"
   ]
  },
  {
   "cell_type": "code",
   "execution_count": 2,
   "id": "e19a2f94",
   "metadata": {},
   "outputs": [
    {
     "name": "stderr",
     "output_type": "stream",
     "text": [
      "\u001b[1mRows: \u001b[22m\u001b[34m58540\u001b[39m \u001b[1mColumns: \u001b[22m\u001b[34m15\u001b[39m\n",
      "\u001b[36m──\u001b[39m \u001b[1mColumn specification\u001b[22m \u001b[36m────────────────────────────────────────────────────────\u001b[39m\n",
      "\u001b[1mDelimiter:\u001b[22m \"\\t\"\n",
      "\u001b[31mchr\u001b[39m  (2): gene_id, transcript_id(s)\n",
      "\u001b[32mdbl\u001b[39m (13): length, effective_length, expected_count, TPM, FPKM, posterior_mea...\n",
      "\n",
      "\u001b[36mℹ\u001b[39m Use `spec()` to retrieve the full column specification for this data.\n",
      "\u001b[36mℹ\u001b[39m Specify the column types or set `show_col_types = FALSE` to quiet this message.\n",
      "\u001b[1mRows: \u001b[22m\u001b[34m58540\u001b[39m \u001b[1mColumns: \u001b[22m\u001b[34m15\u001b[39m\n",
      "\u001b[36m──\u001b[39m \u001b[1mColumn specification\u001b[22m \u001b[36m────────────────────────────────────────────────────────\u001b[39m\n",
      "\u001b[1mDelimiter:\u001b[22m \"\\t\"\n",
      "\u001b[31mchr\u001b[39m  (2): gene_id, transcript_id(s)\n",
      "\u001b[32mdbl\u001b[39m (13): length, effective_length, expected_count, TPM, FPKM, posterior_mea...\n",
      "\n",
      "\u001b[36mℹ\u001b[39m Use `spec()` to retrieve the full column specification for this data.\n",
      "\u001b[36mℹ\u001b[39m Specify the column types or set `show_col_types = FALSE` to quiet this message.\n"
     ]
    }
   ],
   "source": [
    "# Read in ENCFF974MUO.tsv ENCFF649AHO.tsv\n",
    "HepG2_ENSG_file_in_1 <- read_tsv(\"./ENCFF974MUO.tsv\", col_names=TRUE, skip=0)\n",
    "HepG2_ENSG_file_in_2 <- read_tsv(\"./ENCFF649AHO.tsv\", col_names=TRUE, skip=0) "
   ]
  },
  {
   "cell_type": "code",
   "execution_count": 3,
   "id": "f9756c35",
   "metadata": {},
   "outputs": [],
   "source": [
    "# Filter to keep just ENSG rows\n",
    "HepG2_ENSG_only_1 <- HepG2_ENSG_file_in_1 %>%\n",
    "    filter(\"ENSG\"==substr(gene_id, 1, 4))\n",
    "HepG2_ENSG_only_2 <- HepG2_ENSG_file_in_2 %>%\n",
    "    filter(\"ENSG\"==substr(gene_id, 1, 4))\n",
    "\n",
    "# Isolate columns we want: ENSEMBL TPM\n",
    "HepG2_ENSG_TPM_1 <- HepG2_ENSG_only_1 %>%\n",
    "    dplyr::select(gene_id, TPM) %>% # isolate gene_id_clean and TPM columns\n",
    "    magrittr::set_colnames(c(\"ENSEMBL\", \"TPM\")) # Rename these for easier merging and readibility \n",
    "HepG2_ENSG_TPM_2 <- HepG2_ENSG_only_2 %>%\n",
    "    dplyr::select(gene_id, TPM) %>% # isolate gene_id_clean and TPM columns\n",
    "    magrittr::set_colnames(c(\"ENSEMBL\", \"TPM\")) # Rename these for easier merging and readibility \n",
    "\n",
    "\n",
    "# Average reps\n",
    "HepG2_ENSG_TPM_merge12 <- merge(HepG2_ENSG_TPM_1, HepG2_ENSG_TPM_2, by = \"ENSEMBL\") %>% as_tibble()\n",
    "\n",
    "HepG2_ENSG_TPM_avg12 <- HepG2_ENSG_TPM_merge12 %>% dplyr::mutate(TPM = rowMeans(dplyr::select(., TPM.x:TPM.y))) %>% dplyr::select(ENSEMBL, TPM)"
   ]
  },
  {
   "cell_type": "code",
   "execution_count": 4,
   "id": "7bbb93ed",
   "metadata": {},
   "outputs": [],
   "source": [
    "write_tsv(HepG2_ENSG_TPM_avg12, \"HepG2_ENSG_TPM_avg12.txt\", col_names = TRUE)"
   ]
  },
  {
   "cell_type": "markdown",
   "id": "c678fe22",
   "metadata": {},
   "source": [
    "### Biomart"
   ]
  },
  {
   "cell_type": "code",
   "execution_count": 5,
   "id": "e12bad0b",
   "metadata": {
    "scrolled": true
   },
   "outputs": [
    {
     "name": "stderr",
     "output_type": "stream",
     "text": [
      "Warning message:\n",
      "“Ensembl will soon enforce the use of https.\n",
      "Ensure the 'host' argument includes \"https://\"”\n"
     ]
    }
   ],
   "source": [
    "# define biomart object\n",
    "# mart <- useMart(biomart = \"ensembl\", dataset = \"hsapiens_gene_ensembl\")\n",
    "mart <- useMart(biomart=\"ENSEMBL_MART_ENSEMBL\", host=\"grch37.ensembl.org\", path=\"/biomart/martservice\", dataset=\"hsapiens_gene_ensembl\")\n",
    "\n",
    "ENSEMBL_to_GENESYMBOL <- getBM(attributes=c(\"ensembl_gene_id_version\", \"hgnc_symbol\", \"chromosome_name\", \"start_position\", \"end_position\",\"strand\"), filters = \"ensembl_gene_id_version\", values = HepG2_ENSG_TPM_avg12$ENSEMBL, mart= mart)"
   ]
  },
  {
   "cell_type": "markdown",
   "id": "e630fc6c",
   "metadata": {},
   "source": [
    "### Convert ENSEMBL to GENE SYMBOL"
   ]
  },
  {
   "cell_type": "code",
   "execution_count": 6,
   "id": "7d079248",
   "metadata": {
    "scrolled": true
   },
   "outputs": [
    {
     "data": {
      "text/html": [
       "57820"
      ],
      "text/latex": [
       "57820"
      ],
      "text/markdown": [
       "57820"
      ],
      "text/plain": [
       "[1] 57820"
      ]
     },
     "metadata": {},
     "output_type": "display_data"
    },
    {
     "data": {
      "text/html": [
       "<table class=\"dataframe\">\n",
       "<caption>A tibble: 3 × 2</caption>\n",
       "<thead>\n",
       "\t<tr><th scope=col>ENSEMBL</th><th scope=col>TPM</th></tr>\n",
       "\t<tr><th scope=col>&lt;chr&gt;</th><th scope=col>&lt;dbl&gt;</th></tr>\n",
       "</thead>\n",
       "<tbody>\n",
       "\t<tr><td>ENSG00000000003.10</td><td>40.355</td></tr>\n",
       "\t<tr><td>ENSG00000000005.5 </td><td> 0.000</td></tr>\n",
       "\t<tr><td>ENSG00000000419.8 </td><td>79.980</td></tr>\n",
       "</tbody>\n",
       "</table>\n"
      ],
      "text/latex": [
       "A tibble: 3 × 2\n",
       "\\begin{tabular}{ll}\n",
       " ENSEMBL & TPM\\\\\n",
       " <chr> & <dbl>\\\\\n",
       "\\hline\n",
       "\t ENSG00000000003.10 & 40.355\\\\\n",
       "\t ENSG00000000005.5  &  0.000\\\\\n",
       "\t ENSG00000000419.8  & 79.980\\\\\n",
       "\\end{tabular}\n"
      ],
      "text/markdown": [
       "\n",
       "A tibble: 3 × 2\n",
       "\n",
       "| ENSEMBL &lt;chr&gt; | TPM &lt;dbl&gt; |\n",
       "|---|---|\n",
       "| ENSG00000000003.10 | 40.355 |\n",
       "| ENSG00000000005.5  |  0.000 |\n",
       "| ENSG00000000419.8  | 79.980 |\n",
       "\n"
      ],
      "text/plain": [
       "  ENSEMBL            TPM   \n",
       "1 ENSG00000000003.10 40.355\n",
       "2 ENSG00000000005.5   0.000\n",
       "3 ENSG00000000419.8  79.980"
      ]
     },
     "metadata": {},
     "output_type": "display_data"
    }
   ],
   "source": [
    "nrow(HepG2_ENSG_TPM_avg12)\n",
    "head(HepG2_ENSG_TPM_avg12, 3)"
   ]
  },
  {
   "cell_type": "code",
   "execution_count": 7,
   "id": "c6a04bec",
   "metadata": {
    "scrolled": true
   },
   "outputs": [],
   "source": [
    "HepG2_ENSG_TPM_avg12_noVersion <- HepG2_ENSG_TPM_avg12 %>% mutate(ENSG = gsub(\"\\\\..*\", \"\", ENSEMBL))"
   ]
  },
  {
   "cell_type": "code",
   "execution_count": 8,
   "id": "d0186cb3",
   "metadata": {
    "scrolled": true
   },
   "outputs": [
    {
     "data": {
      "text/html": [
       "57849"
      ],
      "text/latex": [
       "57849"
      ],
      "text/markdown": [
       "57849"
      ],
      "text/plain": [
       "[1] 57849"
      ]
     },
     "metadata": {},
     "output_type": "display_data"
    },
    {
     "data": {
      "text/html": [
       "<table class=\"dataframe\">\n",
       "<caption>A data.frame: 57849 × 6</caption>\n",
       "<thead>\n",
       "\t<tr><th scope=col>ensembl_gene_id</th><th scope=col>hgnc_symbol</th><th scope=col>chromosome_name</th><th scope=col>start_position</th><th scope=col>end_position</th><th scope=col>strand</th></tr>\n",
       "\t<tr><th scope=col>&lt;chr&gt;</th><th scope=col>&lt;chr&gt;</th><th scope=col>&lt;chr&gt;</th><th scope=col>&lt;int&gt;</th><th scope=col>&lt;int&gt;</th><th scope=col>&lt;int&gt;</th></tr>\n",
       "</thead>\n",
       "<tbody>\n",
       "\t<tr><td>ENSG00000000003</td><td>TSPAN6  </td><td>X </td><td> 99883667</td><td> 99894988</td><td>-1</td></tr>\n",
       "\t<tr><td>ENSG00000000005</td><td>TNMD    </td><td>X </td><td> 99839799</td><td> 99854882</td><td> 1</td></tr>\n",
       "\t<tr><td>ENSG00000000419</td><td>DPM1    </td><td>20</td><td> 49551404</td><td> 49575092</td><td>-1</td></tr>\n",
       "\t<tr><td>ENSG00000000457</td><td>SCYL3   </td><td>1 </td><td>169818772</td><td>169863408</td><td>-1</td></tr>\n",
       "\t<tr><td>ENSG00000000460</td><td>C1orf112</td><td>1 </td><td>169631245</td><td>169823221</td><td> 1</td></tr>\n",
       "\t<tr><td>ENSG00000000938</td><td>FGR     </td><td>1 </td><td> 27938575</td><td> 27961788</td><td>-1</td></tr>\n",
       "\t<tr><td>ENSG00000000971</td><td>CFH     </td><td>1 </td><td>196621008</td><td>196716634</td><td> 1</td></tr>\n",
       "\t<tr><td>ENSG00000001036</td><td>FUCA2   </td><td>6 </td><td>143815948</td><td>143832827</td><td>-1</td></tr>\n",
       "\t<tr><td>ENSG00000001084</td><td>GCLC    </td><td>6 </td><td> 53362139</td><td> 53481768</td><td>-1</td></tr>\n",
       "\t<tr><td>ENSG00000001167</td><td>NFYA    </td><td>6 </td><td> 41040684</td><td> 41067715</td><td> 1</td></tr>\n",
       "\t<tr><td>ENSG00000001460</td><td>STPG1   </td><td>1 </td><td> 24683489</td><td> 24743424</td><td>-1</td></tr>\n",
       "\t<tr><td>ENSG00000001461</td><td>NIPAL3  </td><td>1 </td><td> 24742284</td><td> 24799466</td><td> 1</td></tr>\n",
       "\t<tr><td>ENSG00000001497</td><td>LAS1L   </td><td>X </td><td> 64732462</td><td> 64754655</td><td>-1</td></tr>\n",
       "\t<tr><td>ENSG00000001561</td><td>ENPP4   </td><td>6 </td><td> 46097730</td><td> 46114436</td><td> 1</td></tr>\n",
       "\t<tr><td>ENSG00000001617</td><td>SEMA3F  </td><td>3 </td><td> 50192478</td><td> 50226508</td><td> 1</td></tr>\n",
       "\t<tr><td>ENSG00000001626</td><td>CFTR    </td><td>7 </td><td>117105838</td><td>117356025</td><td> 1</td></tr>\n",
       "\t<tr><td>ENSG00000001629</td><td>ANKIB1  </td><td>7 </td><td> 91875548</td><td> 92030698</td><td> 1</td></tr>\n",
       "\t<tr><td>ENSG00000001630</td><td>CYP51A1 </td><td>7 </td><td> 91741465</td><td> 91772266</td><td>-1</td></tr>\n",
       "\t<tr><td>ENSG00000001631</td><td>KRIT1   </td><td>7 </td><td> 91828283</td><td> 91875480</td><td>-1</td></tr>\n",
       "\t<tr><td>ENSG00000002016</td><td>RAD52   </td><td>12</td><td>  1021243</td><td>  1099219</td><td>-1</td></tr>\n",
       "\t<tr><td>ENSG00000002079</td><td>MYH16   </td><td>7 </td><td> 98836417</td><td> 98908753</td><td> 1</td></tr>\n",
       "\t<tr><td>ENSG00000002330</td><td>BAD     </td><td>11</td><td> 64037302</td><td> 64052176</td><td>-1</td></tr>\n",
       "\t<tr><td>ENSG00000002549</td><td>LAP3    </td><td>4 </td><td> 17578815</td><td> 17609595</td><td> 1</td></tr>\n",
       "\t<tr><td>ENSG00000002586</td><td>CD99    </td><td>X </td><td>  2609220</td><td>  2659350</td><td> 1</td></tr>\n",
       "\t<tr><td>ENSG00000002587</td><td>HS3ST1  </td><td>4 </td><td> 11394774</td><td> 11431389</td><td>-1</td></tr>\n",
       "\t<tr><td>ENSG00000002726</td><td>AOC1    </td><td>7 </td><td>150521715</td><td>150558592</td><td> 1</td></tr>\n",
       "\t<tr><td>ENSG00000002745</td><td>WNT16   </td><td>7 </td><td>120965421</td><td>120981158</td><td> 1</td></tr>\n",
       "\t<tr><td>ENSG00000002746</td><td>HECW1   </td><td>7 </td><td> 43152198</td><td> 43605600</td><td> 1</td></tr>\n",
       "\t<tr><td>ENSG00000002822</td><td>MAD1L1  </td><td>7 </td><td>  1855429</td><td>  2272878</td><td>-1</td></tr>\n",
       "\t<tr><td>ENSG00000002834</td><td>LASP1   </td><td>17</td><td> 37026112</td><td> 37078023</td><td> 1</td></tr>\n",
       "\t<tr><td>⋮</td><td>⋮</td><td>⋮</td><td>⋮</td><td>⋮</td><td>⋮</td></tr>\n",
       "\t<tr><td>ENSG00000273447</td><td>      </td><td>4 </td><td>110613160</td><td>110613859</td><td> 1</td></tr>\n",
       "\t<tr><td>ENSG00000273448</td><td>      </td><td>7 </td><td> 66798034</td><td> 66799370</td><td> 1</td></tr>\n",
       "\t<tr><td>ENSG00000273449</td><td>      </td><td>4 </td><td>164450923</td><td>164451849</td><td> 1</td></tr>\n",
       "\t<tr><td>ENSG00000273450</td><td>      </td><td>10</td><td> 96074664</td><td> 96075084</td><td>-1</td></tr>\n",
       "\t<tr><td>ENSG00000273451</td><td>      </td><td>20</td><td> 45976881</td><td> 45977886</td><td>-1</td></tr>\n",
       "\t<tr><td>ENSG00000273452</td><td>      </td><td>17</td><td> 12626199</td><td> 12661542</td><td> 1</td></tr>\n",
       "\t<tr><td>ENSG00000273454</td><td>      </td><td>3 </td><td>122996200</td><td>122996751</td><td> 1</td></tr>\n",
       "\t<tr><td>ENSG00000273455</td><td>      </td><td>3 </td><td>135806317</td><td>135806755</td><td>-1</td></tr>\n",
       "\t<tr><td>ENSG00000273456</td><td>      </td><td>2 </td><td>203239655</td><td>203240327</td><td>-1</td></tr>\n",
       "\t<tr><td>ENSG00000273461</td><td>      </td><td>3 </td><td> 72110212</td><td> 72119084</td><td> 1</td></tr>\n",
       "\t<tr><td>ENSG00000273463</td><td>      </td><td>9 </td><td> 36002993</td><td> 36003660</td><td>-1</td></tr>\n",
       "\t<tr><td>ENSG00000273464</td><td>      </td><td>21</td><td> 31029726</td><td> 31030151</td><td> 1</td></tr>\n",
       "\t<tr><td>ENSG00000273466</td><td>      </td><td>2 </td><td>219497979</td><td>219498737</td><td>-1</td></tr>\n",
       "\t<tr><td>ENSG00000273471</td><td>      </td><td>2 </td><td>111143988</td><td>111191250</td><td>-1</td></tr>\n",
       "\t<tr><td>ENSG00000273472</td><td>      </td><td>4 </td><td>141677682</td><td>141679075</td><td> 1</td></tr>\n",
       "\t<tr><td>ENSG00000273473</td><td>      </td><td>9 </td><td>137033891</td><td>137034462</td><td> 1</td></tr>\n",
       "\t<tr><td>ENSG00000273474</td><td>      </td><td>10</td><td> 13717646</td><td> 13717990</td><td> 1</td></tr>\n",
       "\t<tr><td>ENSG00000273476</td><td>      </td><td>10</td><td>102727445</td><td>102727892</td><td> 1</td></tr>\n",
       "\t<tr><td>ENSG00000273477</td><td>      </td><td>7 </td><td> 16127152</td><td> 16129275</td><td>-1</td></tr>\n",
       "\t<tr><td>ENSG00000273478</td><td>      </td><td>1 </td><td>201964824</td><td>201965480</td><td>-1</td></tr>\n",
       "\t<tr><td>ENSG00000273481</td><td>      </td><td>1 </td><td>151300425</td><td>151300905</td><td> 1</td></tr>\n",
       "\t<tr><td>ENSG00000273483</td><td>      </td><td>1 </td><td>113060421</td><td>113061063</td><td>-1</td></tr>\n",
       "\t<tr><td>ENSG00000273484</td><td>OR6R2P</td><td>8 </td><td> 21654972</td><td> 21655271</td><td> 1</td></tr>\n",
       "\t<tr><td>ENSG00000273485</td><td>      </td><td>10</td><td>105209953</td><td>105210609</td><td> 1</td></tr>\n",
       "\t<tr><td>ENSG00000273486</td><td>      </td><td>3 </td><td>136556180</td><td>136557863</td><td>-1</td></tr>\n",
       "\t<tr><td>ENSG00000273487</td><td>      </td><td>1 </td><td> 92654794</td><td> 92656264</td><td> 1</td></tr>\n",
       "\t<tr><td>ENSG00000273488</td><td>      </td><td>3 </td><td>100080031</td><td>100080481</td><td> 1</td></tr>\n",
       "\t<tr><td>ENSG00000273489</td><td>      </td><td>7 </td><td>131178723</td><td>131182453</td><td>-1</td></tr>\n",
       "\t<tr><td>ENSG00000273492</td><td>      </td><td>21</td><td> 27543189</td><td> 27589700</td><td> 1</td></tr>\n",
       "\t<tr><td>ENSG00000273493</td><td>      </td><td>3 </td><td> 58315692</td><td> 58315845</td><td> 1</td></tr>\n",
       "</tbody>\n",
       "</table>\n"
      ],
      "text/latex": [
       "A data.frame: 57849 × 6\n",
       "\\begin{tabular}{llllll}\n",
       " ensembl\\_gene\\_id & hgnc\\_symbol & chromosome\\_name & start\\_position & end\\_position & strand\\\\\n",
       " <chr> & <chr> & <chr> & <int> & <int> & <int>\\\\\n",
       "\\hline\n",
       "\t ENSG00000000003 & TSPAN6   & X  &  99883667 &  99894988 & -1\\\\\n",
       "\t ENSG00000000005 & TNMD     & X  &  99839799 &  99854882 &  1\\\\\n",
       "\t ENSG00000000419 & DPM1     & 20 &  49551404 &  49575092 & -1\\\\\n",
       "\t ENSG00000000457 & SCYL3    & 1  & 169818772 & 169863408 & -1\\\\\n",
       "\t ENSG00000000460 & C1orf112 & 1  & 169631245 & 169823221 &  1\\\\\n",
       "\t ENSG00000000938 & FGR      & 1  &  27938575 &  27961788 & -1\\\\\n",
       "\t ENSG00000000971 & CFH      & 1  & 196621008 & 196716634 &  1\\\\\n",
       "\t ENSG00000001036 & FUCA2    & 6  & 143815948 & 143832827 & -1\\\\\n",
       "\t ENSG00000001084 & GCLC     & 6  &  53362139 &  53481768 & -1\\\\\n",
       "\t ENSG00000001167 & NFYA     & 6  &  41040684 &  41067715 &  1\\\\\n",
       "\t ENSG00000001460 & STPG1    & 1  &  24683489 &  24743424 & -1\\\\\n",
       "\t ENSG00000001461 & NIPAL3   & 1  &  24742284 &  24799466 &  1\\\\\n",
       "\t ENSG00000001497 & LAS1L    & X  &  64732462 &  64754655 & -1\\\\\n",
       "\t ENSG00000001561 & ENPP4    & 6  &  46097730 &  46114436 &  1\\\\\n",
       "\t ENSG00000001617 & SEMA3F   & 3  &  50192478 &  50226508 &  1\\\\\n",
       "\t ENSG00000001626 & CFTR     & 7  & 117105838 & 117356025 &  1\\\\\n",
       "\t ENSG00000001629 & ANKIB1   & 7  &  91875548 &  92030698 &  1\\\\\n",
       "\t ENSG00000001630 & CYP51A1  & 7  &  91741465 &  91772266 & -1\\\\\n",
       "\t ENSG00000001631 & KRIT1    & 7  &  91828283 &  91875480 & -1\\\\\n",
       "\t ENSG00000002016 & RAD52    & 12 &   1021243 &   1099219 & -1\\\\\n",
       "\t ENSG00000002079 & MYH16    & 7  &  98836417 &  98908753 &  1\\\\\n",
       "\t ENSG00000002330 & BAD      & 11 &  64037302 &  64052176 & -1\\\\\n",
       "\t ENSG00000002549 & LAP3     & 4  &  17578815 &  17609595 &  1\\\\\n",
       "\t ENSG00000002586 & CD99     & X  &   2609220 &   2659350 &  1\\\\\n",
       "\t ENSG00000002587 & HS3ST1   & 4  &  11394774 &  11431389 & -1\\\\\n",
       "\t ENSG00000002726 & AOC1     & 7  & 150521715 & 150558592 &  1\\\\\n",
       "\t ENSG00000002745 & WNT16    & 7  & 120965421 & 120981158 &  1\\\\\n",
       "\t ENSG00000002746 & HECW1    & 7  &  43152198 &  43605600 &  1\\\\\n",
       "\t ENSG00000002822 & MAD1L1   & 7  &   1855429 &   2272878 & -1\\\\\n",
       "\t ENSG00000002834 & LASP1    & 17 &  37026112 &  37078023 &  1\\\\\n",
       "\t ⋮ & ⋮ & ⋮ & ⋮ & ⋮ & ⋮\\\\\n",
       "\t ENSG00000273447 &        & 4  & 110613160 & 110613859 &  1\\\\\n",
       "\t ENSG00000273448 &        & 7  &  66798034 &  66799370 &  1\\\\\n",
       "\t ENSG00000273449 &        & 4  & 164450923 & 164451849 &  1\\\\\n",
       "\t ENSG00000273450 &        & 10 &  96074664 &  96075084 & -1\\\\\n",
       "\t ENSG00000273451 &        & 20 &  45976881 &  45977886 & -1\\\\\n",
       "\t ENSG00000273452 &        & 17 &  12626199 &  12661542 &  1\\\\\n",
       "\t ENSG00000273454 &        & 3  & 122996200 & 122996751 &  1\\\\\n",
       "\t ENSG00000273455 &        & 3  & 135806317 & 135806755 & -1\\\\\n",
       "\t ENSG00000273456 &        & 2  & 203239655 & 203240327 & -1\\\\\n",
       "\t ENSG00000273461 &        & 3  &  72110212 &  72119084 &  1\\\\\n",
       "\t ENSG00000273463 &        & 9  &  36002993 &  36003660 & -1\\\\\n",
       "\t ENSG00000273464 &        & 21 &  31029726 &  31030151 &  1\\\\\n",
       "\t ENSG00000273466 &        & 2  & 219497979 & 219498737 & -1\\\\\n",
       "\t ENSG00000273471 &        & 2  & 111143988 & 111191250 & -1\\\\\n",
       "\t ENSG00000273472 &        & 4  & 141677682 & 141679075 &  1\\\\\n",
       "\t ENSG00000273473 &        & 9  & 137033891 & 137034462 &  1\\\\\n",
       "\t ENSG00000273474 &        & 10 &  13717646 &  13717990 &  1\\\\\n",
       "\t ENSG00000273476 &        & 10 & 102727445 & 102727892 &  1\\\\\n",
       "\t ENSG00000273477 &        & 7  &  16127152 &  16129275 & -1\\\\\n",
       "\t ENSG00000273478 &        & 1  & 201964824 & 201965480 & -1\\\\\n",
       "\t ENSG00000273481 &        & 1  & 151300425 & 151300905 &  1\\\\\n",
       "\t ENSG00000273483 &        & 1  & 113060421 & 113061063 & -1\\\\\n",
       "\t ENSG00000273484 & OR6R2P & 8  &  21654972 &  21655271 &  1\\\\\n",
       "\t ENSG00000273485 &        & 10 & 105209953 & 105210609 &  1\\\\\n",
       "\t ENSG00000273486 &        & 3  & 136556180 & 136557863 & -1\\\\\n",
       "\t ENSG00000273487 &        & 1  &  92654794 &  92656264 &  1\\\\\n",
       "\t ENSG00000273488 &        & 3  & 100080031 & 100080481 &  1\\\\\n",
       "\t ENSG00000273489 &        & 7  & 131178723 & 131182453 & -1\\\\\n",
       "\t ENSG00000273492 &        & 21 &  27543189 &  27589700 &  1\\\\\n",
       "\t ENSG00000273493 &        & 3  &  58315692 &  58315845 &  1\\\\\n",
       "\\end{tabular}\n"
      ],
      "text/markdown": [
       "\n",
       "A data.frame: 57849 × 6\n",
       "\n",
       "| ensembl_gene_id &lt;chr&gt; | hgnc_symbol &lt;chr&gt; | chromosome_name &lt;chr&gt; | start_position &lt;int&gt; | end_position &lt;int&gt; | strand &lt;int&gt; |\n",
       "|---|---|---|---|---|---|\n",
       "| ENSG00000000003 | TSPAN6   | X  |  99883667 |  99894988 | -1 |\n",
       "| ENSG00000000005 | TNMD     | X  |  99839799 |  99854882 |  1 |\n",
       "| ENSG00000000419 | DPM1     | 20 |  49551404 |  49575092 | -1 |\n",
       "| ENSG00000000457 | SCYL3    | 1  | 169818772 | 169863408 | -1 |\n",
       "| ENSG00000000460 | C1orf112 | 1  | 169631245 | 169823221 |  1 |\n",
       "| ENSG00000000938 | FGR      | 1  |  27938575 |  27961788 | -1 |\n",
       "| ENSG00000000971 | CFH      | 1  | 196621008 | 196716634 |  1 |\n",
       "| ENSG00000001036 | FUCA2    | 6  | 143815948 | 143832827 | -1 |\n",
       "| ENSG00000001084 | GCLC     | 6  |  53362139 |  53481768 | -1 |\n",
       "| ENSG00000001167 | NFYA     | 6  |  41040684 |  41067715 |  1 |\n",
       "| ENSG00000001460 | STPG1    | 1  |  24683489 |  24743424 | -1 |\n",
       "| ENSG00000001461 | NIPAL3   | 1  |  24742284 |  24799466 |  1 |\n",
       "| ENSG00000001497 | LAS1L    | X  |  64732462 |  64754655 | -1 |\n",
       "| ENSG00000001561 | ENPP4    | 6  |  46097730 |  46114436 |  1 |\n",
       "| ENSG00000001617 | SEMA3F   | 3  |  50192478 |  50226508 |  1 |\n",
       "| ENSG00000001626 | CFTR     | 7  | 117105838 | 117356025 |  1 |\n",
       "| ENSG00000001629 | ANKIB1   | 7  |  91875548 |  92030698 |  1 |\n",
       "| ENSG00000001630 | CYP51A1  | 7  |  91741465 |  91772266 | -1 |\n",
       "| ENSG00000001631 | KRIT1    | 7  |  91828283 |  91875480 | -1 |\n",
       "| ENSG00000002016 | RAD52    | 12 |   1021243 |   1099219 | -1 |\n",
       "| ENSG00000002079 | MYH16    | 7  |  98836417 |  98908753 |  1 |\n",
       "| ENSG00000002330 | BAD      | 11 |  64037302 |  64052176 | -1 |\n",
       "| ENSG00000002549 | LAP3     | 4  |  17578815 |  17609595 |  1 |\n",
       "| ENSG00000002586 | CD99     | X  |   2609220 |   2659350 |  1 |\n",
       "| ENSG00000002587 | HS3ST1   | 4  |  11394774 |  11431389 | -1 |\n",
       "| ENSG00000002726 | AOC1     | 7  | 150521715 | 150558592 |  1 |\n",
       "| ENSG00000002745 | WNT16    | 7  | 120965421 | 120981158 |  1 |\n",
       "| ENSG00000002746 | HECW1    | 7  |  43152198 |  43605600 |  1 |\n",
       "| ENSG00000002822 | MAD1L1   | 7  |   1855429 |   2272878 | -1 |\n",
       "| ENSG00000002834 | LASP1    | 17 |  37026112 |  37078023 |  1 |\n",
       "| ⋮ | ⋮ | ⋮ | ⋮ | ⋮ | ⋮ |\n",
       "| ENSG00000273447 | <!----> | 4  | 110613160 | 110613859 |  1 |\n",
       "| ENSG00000273448 | <!----> | 7  |  66798034 |  66799370 |  1 |\n",
       "| ENSG00000273449 | <!----> | 4  | 164450923 | 164451849 |  1 |\n",
       "| ENSG00000273450 | <!----> | 10 |  96074664 |  96075084 | -1 |\n",
       "| ENSG00000273451 | <!----> | 20 |  45976881 |  45977886 | -1 |\n",
       "| ENSG00000273452 | <!----> | 17 |  12626199 |  12661542 |  1 |\n",
       "| ENSG00000273454 | <!----> | 3  | 122996200 | 122996751 |  1 |\n",
       "| ENSG00000273455 | <!----> | 3  | 135806317 | 135806755 | -1 |\n",
       "| ENSG00000273456 | <!----> | 2  | 203239655 | 203240327 | -1 |\n",
       "| ENSG00000273461 | <!----> | 3  |  72110212 |  72119084 |  1 |\n",
       "| ENSG00000273463 | <!----> | 9  |  36002993 |  36003660 | -1 |\n",
       "| ENSG00000273464 | <!----> | 21 |  31029726 |  31030151 |  1 |\n",
       "| ENSG00000273466 | <!----> | 2  | 219497979 | 219498737 | -1 |\n",
       "| ENSG00000273471 | <!----> | 2  | 111143988 | 111191250 | -1 |\n",
       "| ENSG00000273472 | <!----> | 4  | 141677682 | 141679075 |  1 |\n",
       "| ENSG00000273473 | <!----> | 9  | 137033891 | 137034462 |  1 |\n",
       "| ENSG00000273474 | <!----> | 10 |  13717646 |  13717990 |  1 |\n",
       "| ENSG00000273476 | <!----> | 10 | 102727445 | 102727892 |  1 |\n",
       "| ENSG00000273477 | <!----> | 7  |  16127152 |  16129275 | -1 |\n",
       "| ENSG00000273478 | <!----> | 1  | 201964824 | 201965480 | -1 |\n",
       "| ENSG00000273481 | <!----> | 1  | 151300425 | 151300905 |  1 |\n",
       "| ENSG00000273483 | <!----> | 1  | 113060421 | 113061063 | -1 |\n",
       "| ENSG00000273484 | OR6R2P | 8  |  21654972 |  21655271 |  1 |\n",
       "| ENSG00000273485 | <!----> | 10 | 105209953 | 105210609 |  1 |\n",
       "| ENSG00000273486 | <!----> | 3  | 136556180 | 136557863 | -1 |\n",
       "| ENSG00000273487 | <!----> | 1  |  92654794 |  92656264 |  1 |\n",
       "| ENSG00000273488 | <!----> | 3  | 100080031 | 100080481 |  1 |\n",
       "| ENSG00000273489 | <!----> | 7  | 131178723 | 131182453 | -1 |\n",
       "| ENSG00000273492 | <!----> | 21 |  27543189 |  27589700 |  1 |\n",
       "| ENSG00000273493 | <!----> | 3  |  58315692 |  58315845 |  1 |\n",
       "\n"
      ],
      "text/plain": [
       "      ensembl_gene_id hgnc_symbol chromosome_name start_position end_position\n",
       "1     ENSG00000000003 TSPAN6      X                99883667       99894988   \n",
       "2     ENSG00000000005 TNMD        X                99839799       99854882   \n",
       "3     ENSG00000000419 DPM1        20               49551404       49575092   \n",
       "4     ENSG00000000457 SCYL3       1               169818772      169863408   \n",
       "5     ENSG00000000460 C1orf112    1               169631245      169823221   \n",
       "6     ENSG00000000938 FGR         1                27938575       27961788   \n",
       "7     ENSG00000000971 CFH         1               196621008      196716634   \n",
       "8     ENSG00000001036 FUCA2       6               143815948      143832827   \n",
       "9     ENSG00000001084 GCLC        6                53362139       53481768   \n",
       "10    ENSG00000001167 NFYA        6                41040684       41067715   \n",
       "11    ENSG00000001460 STPG1       1                24683489       24743424   \n",
       "12    ENSG00000001461 NIPAL3      1                24742284       24799466   \n",
       "13    ENSG00000001497 LAS1L       X                64732462       64754655   \n",
       "14    ENSG00000001561 ENPP4       6                46097730       46114436   \n",
       "15    ENSG00000001617 SEMA3F      3                50192478       50226508   \n",
       "16    ENSG00000001626 CFTR        7               117105838      117356025   \n",
       "17    ENSG00000001629 ANKIB1      7                91875548       92030698   \n",
       "18    ENSG00000001630 CYP51A1     7                91741465       91772266   \n",
       "19    ENSG00000001631 KRIT1       7                91828283       91875480   \n",
       "20    ENSG00000002016 RAD52       12                1021243        1099219   \n",
       "21    ENSG00000002079 MYH16       7                98836417       98908753   \n",
       "22    ENSG00000002330 BAD         11               64037302       64052176   \n",
       "23    ENSG00000002549 LAP3        4                17578815       17609595   \n",
       "24    ENSG00000002586 CD99        X                 2609220        2659350   \n",
       "25    ENSG00000002587 HS3ST1      4                11394774       11431389   \n",
       "26    ENSG00000002726 AOC1        7               150521715      150558592   \n",
       "27    ENSG00000002745 WNT16       7               120965421      120981158   \n",
       "28    ENSG00000002746 HECW1       7                43152198       43605600   \n",
       "29    ENSG00000002822 MAD1L1      7                 1855429        2272878   \n",
       "30    ENSG00000002834 LASP1       17               37026112       37078023   \n",
       "⋮     ⋮               ⋮           ⋮               ⋮              ⋮           \n",
       "57820 ENSG00000273447             4               110613160      110613859   \n",
       "57821 ENSG00000273448             7                66798034       66799370   \n",
       "57822 ENSG00000273449             4               164450923      164451849   \n",
       "57823 ENSG00000273450             10               96074664       96075084   \n",
       "57824 ENSG00000273451             20               45976881       45977886   \n",
       "57825 ENSG00000273452             17               12626199       12661542   \n",
       "57826 ENSG00000273454             3               122996200      122996751   \n",
       "57827 ENSG00000273455             3               135806317      135806755   \n",
       "57828 ENSG00000273456             2               203239655      203240327   \n",
       "57829 ENSG00000273461             3                72110212       72119084   \n",
       "57830 ENSG00000273463             9                36002993       36003660   \n",
       "57831 ENSG00000273464             21               31029726       31030151   \n",
       "57832 ENSG00000273466             2               219497979      219498737   \n",
       "57833 ENSG00000273471             2               111143988      111191250   \n",
       "57834 ENSG00000273472             4               141677682      141679075   \n",
       "57835 ENSG00000273473             9               137033891      137034462   \n",
       "57836 ENSG00000273474             10               13717646       13717990   \n",
       "57837 ENSG00000273476             10              102727445      102727892   \n",
       "57838 ENSG00000273477             7                16127152       16129275   \n",
       "57839 ENSG00000273478             1               201964824      201965480   \n",
       "57840 ENSG00000273481             1               151300425      151300905   \n",
       "57841 ENSG00000273483             1               113060421      113061063   \n",
       "57842 ENSG00000273484 OR6R2P      8                21654972       21655271   \n",
       "57843 ENSG00000273485             10              105209953      105210609   \n",
       "57844 ENSG00000273486             3               136556180      136557863   \n",
       "57845 ENSG00000273487             1                92654794       92656264   \n",
       "57846 ENSG00000273488             3               100080031      100080481   \n",
       "57847 ENSG00000273489             7               131178723      131182453   \n",
       "57848 ENSG00000273492             21               27543189       27589700   \n",
       "57849 ENSG00000273493             3                58315692       58315845   \n",
       "      strand\n",
       "1     -1    \n",
       "2      1    \n",
       "3     -1    \n",
       "4     -1    \n",
       "5      1    \n",
       "6     -1    \n",
       "7      1    \n",
       "8     -1    \n",
       "9     -1    \n",
       "10     1    \n",
       "11    -1    \n",
       "12     1    \n",
       "13    -1    \n",
       "14     1    \n",
       "15     1    \n",
       "16     1    \n",
       "17     1    \n",
       "18    -1    \n",
       "19    -1    \n",
       "20    -1    \n",
       "21     1    \n",
       "22    -1    \n",
       "23     1    \n",
       "24     1    \n",
       "25    -1    \n",
       "26     1    \n",
       "27     1    \n",
       "28     1    \n",
       "29    -1    \n",
       "30     1    \n",
       "⋮     ⋮     \n",
       "57820  1    \n",
       "57821  1    \n",
       "57822  1    \n",
       "57823 -1    \n",
       "57824 -1    \n",
       "57825  1    \n",
       "57826  1    \n",
       "57827 -1    \n",
       "57828 -1    \n",
       "57829  1    \n",
       "57830 -1    \n",
       "57831  1    \n",
       "57832 -1    \n",
       "57833 -1    \n",
       "57834  1    \n",
       "57835  1    \n",
       "57836  1    \n",
       "57837  1    \n",
       "57838 -1    \n",
       "57839 -1    \n",
       "57840  1    \n",
       "57841 -1    \n",
       "57842  1    \n",
       "57843  1    \n",
       "57844 -1    \n",
       "57845  1    \n",
       "57846  1    \n",
       "57847 -1    \n",
       "57848  1    \n",
       "57849  1    "
      ]
     },
     "metadata": {},
     "output_type": "display_data"
    }
   ],
   "source": [
    "Liver_ENSEMBLnoVersion_to_GENESYMBOL <- getBM(attributes=c(\"ensembl_gene_id\", \"hgnc_symbol\", \"chromosome_name\", \"start_position\", \"end_position\",\"strand\"), filters = \"ensembl_gene_id\", values = HepG2_ENSG_TPM_avg12_noVersion$ENSG, mart= mart)\n",
    "\n",
    "nrow(Liver_ENSEMBLnoVersion_to_GENESYMBOL)\n",
    "Liver_ENSEMBLnoVersion_to_GENESYMBOL"
   ]
  },
  {
   "cell_type": "code",
   "execution_count": 9,
   "id": "0e41b504",
   "metadata": {},
   "outputs": [
    {
     "data": {
      "text/html": [
       "57849"
      ],
      "text/latex": [
       "57849"
      ],
      "text/markdown": [
       "57849"
      ],
      "text/plain": [
       "[1] 57849"
      ]
     },
     "metadata": {},
     "output_type": "display_data"
    },
    {
     "data": {
      "text/html": [
       "33662"
      ],
      "text/latex": [
       "33662"
      ],
      "text/markdown": [
       "33662"
      ],
      "text/plain": [
       "[1] 33662"
      ]
     },
     "metadata": {},
     "output_type": "display_data"
    },
    {
     "data": {
      "text/html": [
       "24187"
      ],
      "text/latex": [
       "24187"
      ],
      "text/markdown": [
       "24187"
      ],
      "text/plain": [
       "[1] 24187"
      ]
     },
     "metadata": {},
     "output_type": "display_data"
    }
   ],
   "source": [
    "Liver_ENSEMBLnoVersion_to_GENESYMBOL_emptyHGNC <- Liver_ENSEMBLnoVersion_to_GENESYMBOL %>% filter(hgnc_symbol==\"\")\n",
    "Liver_ENSEMBLnoVersion_to_GENESYMBOL_hasHGNC <- Liver_ENSEMBLnoVersion_to_GENESYMBOL %>% filter(hgnc_symbol!=\"\")\n",
    "\n",
    "nrow(Liver_ENSEMBLnoVersion_to_GENESYMBOL)\n",
    "nrow(Liver_ENSEMBLnoVersion_to_GENESYMBOL_hasHGNC)\n",
    "nrow(Liver_ENSEMBLnoVersion_to_GENESYMBOL_emptyHGNC)\n",
    "\n",
    "write_tsv(Liver_ENSEMBLnoVersion_to_GENESYMBOL_hasHGNC, \"Liver_ENSEMBLnoVersion_to_GENESYMBOL_hasHGNC.txt\")\n",
    "write_tsv(Liver_ENSEMBLnoVersion_to_GENESYMBOL_emptyHGNC, \"Liver_ENSEMBLnoVersion_to_GENESYMBOL_emptyHGNC.txt\")"
   ]
  },
  {
   "cell_type": "code",
   "execution_count": 11,
   "id": "6b7514e8",
   "metadata": {
    "scrolled": true
   },
   "outputs": [
    {
     "data": {
      "text/html": [
       "<table class=\"dataframe\">\n",
       "<caption>A data.frame: 33662 × 6</caption>\n",
       "<thead>\n",
       "\t<tr><th scope=col>ensembl_gene_id</th><th scope=col>hgnc_symbol</th><th scope=col>chromosome_name</th><th scope=col>start_position</th><th scope=col>end_position</th><th scope=col>strand</th></tr>\n",
       "\t<tr><th scope=col>&lt;chr&gt;</th><th scope=col>&lt;chr&gt;</th><th scope=col>&lt;chr&gt;</th><th scope=col>&lt;int&gt;</th><th scope=col>&lt;int&gt;</th><th scope=col>&lt;int&gt;</th></tr>\n",
       "</thead>\n",
       "<tbody>\n",
       "\t<tr><td>ENSG00000000003</td><td>TSPAN6  </td><td>X </td><td> 99883667</td><td> 99894988</td><td>-1</td></tr>\n",
       "\t<tr><td>ENSG00000000005</td><td>TNMD    </td><td>X </td><td> 99839799</td><td> 99854882</td><td> 1</td></tr>\n",
       "\t<tr><td>ENSG00000000419</td><td>DPM1    </td><td>20</td><td> 49551404</td><td> 49575092</td><td>-1</td></tr>\n",
       "\t<tr><td>ENSG00000000457</td><td>SCYL3   </td><td>1 </td><td>169818772</td><td>169863408</td><td>-1</td></tr>\n",
       "\t<tr><td>ENSG00000000460</td><td>C1orf112</td><td>1 </td><td>169631245</td><td>169823221</td><td> 1</td></tr>\n",
       "\t<tr><td>ENSG00000000938</td><td>FGR     </td><td>1 </td><td> 27938575</td><td> 27961788</td><td>-1</td></tr>\n",
       "\t<tr><td>ENSG00000000971</td><td>CFH     </td><td>1 </td><td>196621008</td><td>196716634</td><td> 1</td></tr>\n",
       "\t<tr><td>ENSG00000001036</td><td>FUCA2   </td><td>6 </td><td>143815948</td><td>143832827</td><td>-1</td></tr>\n",
       "\t<tr><td>ENSG00000001084</td><td>GCLC    </td><td>6 </td><td> 53362139</td><td> 53481768</td><td>-1</td></tr>\n",
       "\t<tr><td>ENSG00000001167</td><td>NFYA    </td><td>6 </td><td> 41040684</td><td> 41067715</td><td> 1</td></tr>\n",
       "\t<tr><td>ENSG00000001460</td><td>STPG1   </td><td>1 </td><td> 24683489</td><td> 24743424</td><td>-1</td></tr>\n",
       "\t<tr><td>ENSG00000001461</td><td>NIPAL3  </td><td>1 </td><td> 24742284</td><td> 24799466</td><td> 1</td></tr>\n",
       "\t<tr><td>ENSG00000001497</td><td>LAS1L   </td><td>X </td><td> 64732462</td><td> 64754655</td><td>-1</td></tr>\n",
       "\t<tr><td>ENSG00000001561</td><td>ENPP4   </td><td>6 </td><td> 46097730</td><td> 46114436</td><td> 1</td></tr>\n",
       "\t<tr><td>ENSG00000001617</td><td>SEMA3F  </td><td>3 </td><td> 50192478</td><td> 50226508</td><td> 1</td></tr>\n",
       "\t<tr><td>ENSG00000001626</td><td>CFTR    </td><td>7 </td><td>117105838</td><td>117356025</td><td> 1</td></tr>\n",
       "\t<tr><td>ENSG00000001629</td><td>ANKIB1  </td><td>7 </td><td> 91875548</td><td> 92030698</td><td> 1</td></tr>\n",
       "\t<tr><td>ENSG00000001630</td><td>CYP51A1 </td><td>7 </td><td> 91741465</td><td> 91772266</td><td>-1</td></tr>\n",
       "\t<tr><td>ENSG00000001631</td><td>KRIT1   </td><td>7 </td><td> 91828283</td><td> 91875480</td><td>-1</td></tr>\n",
       "\t<tr><td>ENSG00000002016</td><td>RAD52   </td><td>12</td><td>  1021243</td><td>  1099219</td><td>-1</td></tr>\n",
       "\t<tr><td>ENSG00000002079</td><td>MYH16   </td><td>7 </td><td> 98836417</td><td> 98908753</td><td> 1</td></tr>\n",
       "\t<tr><td>ENSG00000002330</td><td>BAD     </td><td>11</td><td> 64037302</td><td> 64052176</td><td>-1</td></tr>\n",
       "\t<tr><td>ENSG00000002549</td><td>LAP3    </td><td>4 </td><td> 17578815</td><td> 17609595</td><td> 1</td></tr>\n",
       "\t<tr><td>ENSG00000002586</td><td>CD99    </td><td>X </td><td>  2609220</td><td>  2659350</td><td> 1</td></tr>\n",
       "\t<tr><td>ENSG00000002587</td><td>HS3ST1  </td><td>4 </td><td> 11394774</td><td> 11431389</td><td>-1</td></tr>\n",
       "\t<tr><td>ENSG00000002726</td><td>AOC1    </td><td>7 </td><td>150521715</td><td>150558592</td><td> 1</td></tr>\n",
       "\t<tr><td>ENSG00000002745</td><td>WNT16   </td><td>7 </td><td>120965421</td><td>120981158</td><td> 1</td></tr>\n",
       "\t<tr><td>ENSG00000002746</td><td>HECW1   </td><td>7 </td><td> 43152198</td><td> 43605600</td><td> 1</td></tr>\n",
       "\t<tr><td>ENSG00000002822</td><td>MAD1L1  </td><td>7 </td><td>  1855429</td><td>  2272878</td><td>-1</td></tr>\n",
       "\t<tr><td>ENSG00000002834</td><td>LASP1   </td><td>17</td><td> 37026112</td><td> 37078023</td><td> 1</td></tr>\n",
       "\t<tr><td>⋮</td><td>⋮</td><td>⋮</td><td>⋮</td><td>⋮</td><td>⋮</td></tr>\n",
       "\t<tr><td>ENSG00000272837</td><td>OR10AE3P   </td><td>12</td><td> 56039979</td><td> 56040447</td><td>-1</td></tr>\n",
       "\t<tr><td>ENSG00000272882</td><td>OR2BH1P    </td><td>11</td><td> 29008182</td><td> 29009045</td><td> 1</td></tr>\n",
       "\t<tr><td>ENSG00000272887</td><td>CSPG4P5    </td><td>15</td><td> 84956505</td><td> 84962703</td><td>-1</td></tr>\n",
       "\t<tr><td>ENSG00000272900</td><td>OR10Q2P    </td><td>11</td><td> 58059298</td><td> 58060237</td><td>-1</td></tr>\n",
       "\t<tr><td>ENSG00000272937</td><td>OR6U2P     </td><td>12</td><td> 56005407</td><td> 56006338</td><td> 1</td></tr>\n",
       "\t<tr><td>ENSG00000272963</td><td>OR7A19P    </td><td>12</td><td> 46986356</td><td> 46987088</td><td> 1</td></tr>\n",
       "\t<tr><td>ENSG00000272968</td><td>RBAK-RBAKDN</td><td>7 </td><td>  5023349</td><td>  5112852</td><td> 1</td></tr>\n",
       "\t<tr><td>ENSG00000273015</td><td>LINC00938  </td><td>12</td><td> 46119510</td><td> 46121558</td><td>-1</td></tr>\n",
       "\t<tr><td>ENSG00000273032</td><td>DGCR9      </td><td>22</td><td> 19005347</td><td> 19007761</td><td> 1</td></tr>\n",
       "\t<tr><td>ENSG00000273048</td><td>MIR4720    </td><td>16</td><td> 81418623</td><td> 81418698</td><td> 1</td></tr>\n",
       "\t<tr><td>ENSG00000273051</td><td>OR51F4P    </td><td>11</td><td>  4773276</td><td>  4774174</td><td>-1</td></tr>\n",
       "\t<tr><td>ENSG00000273079</td><td>GRIN2B     </td><td>12</td><td> 13693165</td><td> 14133053</td><td>-1</td></tr>\n",
       "\t<tr><td>ENSG00000273164</td><td>DGCR10     </td><td>22</td><td> 19010569</td><td> 19011063</td><td> 1</td></tr>\n",
       "\t<tr><td>ENSG00000273228</td><td>OR5BQ1P    </td><td>11</td><td> 56796883</td><td> 56797197</td><td> 1</td></tr>\n",
       "\t<tr><td>ENSG00000273234</td><td>OR2A13P    </td><td>7 </td><td>143839102</td><td>143840031</td><td> 1</td></tr>\n",
       "\t<tr><td>ENSG00000273252</td><td>OR7E39P    </td><td>7 </td><td>  6875051</td><td>  6875425</td><td>-1</td></tr>\n",
       "\t<tr><td>ENSG00000273255</td><td>OR5BP1P    </td><td>11</td><td> 56823062</td><td> 56823607</td><td> 1</td></tr>\n",
       "\t<tr><td>ENSG00000273274</td><td>ZBTB8B     </td><td>1 </td><td> 32930670</td><td> 32962287</td><td> 1</td></tr>\n",
       "\t<tr><td>ENSG00000273311</td><td>DGCR11     </td><td>22</td><td> 19033675</td><td> 19035888</td><td>-1</td></tr>\n",
       "\t<tr><td>ENSG00000273313</td><td>RBAKDN     </td><td>7 </td><td>  5111756</td><td>  5112854</td><td> 1</td></tr>\n",
       "\t<tr><td>ENSG00000273327</td><td>OR6L2P     </td><td>10</td><td>135243898</td><td>135244822</td><td>-1</td></tr>\n",
       "\t<tr><td>ENSG00000273336</td><td>OR7M1P     </td><td>10</td><td>135294742</td><td>135295274</td><td> 1</td></tr>\n",
       "\t<tr><td>ENSG00000273340</td><td>MICE       </td><td>6 </td><td> 29709508</td><td> 29716746</td><td>-1</td></tr>\n",
       "\t<tr><td>ENSG00000273344</td><td>PAXIP1-AS1 </td><td>7 </td><td>154795158</td><td>154797413</td><td> 1</td></tr>\n",
       "\t<tr><td>ENSG00000273377</td><td>OR2Q1P     </td><td>7 </td><td>143677998</td><td>143678913</td><td> 1</td></tr>\n",
       "\t<tr><td>ENSG00000273408</td><td>OR5B15P    </td><td>11</td><td> 58155056</td><td> 58155959</td><td>-1</td></tr>\n",
       "\t<tr><td>ENSG00000273423</td><td>OR13I1P    </td><td>9 </td><td>107392035</td><td>107393298</td><td> 1</td></tr>\n",
       "\t<tr><td>ENSG00000273434</td><td>OR8S21P    </td><td>12</td><td> 48810933</td><td> 48811120</td><td>-1</td></tr>\n",
       "\t<tr><td>ENSG00000273439</td><td>ZNF8       </td><td>19</td><td> 58790318</td><td> 58807254</td><td> 1</td></tr>\n",
       "\t<tr><td>ENSG00000273484</td><td>OR6R2P     </td><td>8 </td><td> 21654972</td><td> 21655271</td><td> 1</td></tr>\n",
       "</tbody>\n",
       "</table>\n"
      ],
      "text/latex": [
       "A data.frame: 33662 × 6\n",
       "\\begin{tabular}{llllll}\n",
       " ensembl\\_gene\\_id & hgnc\\_symbol & chromosome\\_name & start\\_position & end\\_position & strand\\\\\n",
       " <chr> & <chr> & <chr> & <int> & <int> & <int>\\\\\n",
       "\\hline\n",
       "\t ENSG00000000003 & TSPAN6   & X  &  99883667 &  99894988 & -1\\\\\n",
       "\t ENSG00000000005 & TNMD     & X  &  99839799 &  99854882 &  1\\\\\n",
       "\t ENSG00000000419 & DPM1     & 20 &  49551404 &  49575092 & -1\\\\\n",
       "\t ENSG00000000457 & SCYL3    & 1  & 169818772 & 169863408 & -1\\\\\n",
       "\t ENSG00000000460 & C1orf112 & 1  & 169631245 & 169823221 &  1\\\\\n",
       "\t ENSG00000000938 & FGR      & 1  &  27938575 &  27961788 & -1\\\\\n",
       "\t ENSG00000000971 & CFH      & 1  & 196621008 & 196716634 &  1\\\\\n",
       "\t ENSG00000001036 & FUCA2    & 6  & 143815948 & 143832827 & -1\\\\\n",
       "\t ENSG00000001084 & GCLC     & 6  &  53362139 &  53481768 & -1\\\\\n",
       "\t ENSG00000001167 & NFYA     & 6  &  41040684 &  41067715 &  1\\\\\n",
       "\t ENSG00000001460 & STPG1    & 1  &  24683489 &  24743424 & -1\\\\\n",
       "\t ENSG00000001461 & NIPAL3   & 1  &  24742284 &  24799466 &  1\\\\\n",
       "\t ENSG00000001497 & LAS1L    & X  &  64732462 &  64754655 & -1\\\\\n",
       "\t ENSG00000001561 & ENPP4    & 6  &  46097730 &  46114436 &  1\\\\\n",
       "\t ENSG00000001617 & SEMA3F   & 3  &  50192478 &  50226508 &  1\\\\\n",
       "\t ENSG00000001626 & CFTR     & 7  & 117105838 & 117356025 &  1\\\\\n",
       "\t ENSG00000001629 & ANKIB1   & 7  &  91875548 &  92030698 &  1\\\\\n",
       "\t ENSG00000001630 & CYP51A1  & 7  &  91741465 &  91772266 & -1\\\\\n",
       "\t ENSG00000001631 & KRIT1    & 7  &  91828283 &  91875480 & -1\\\\\n",
       "\t ENSG00000002016 & RAD52    & 12 &   1021243 &   1099219 & -1\\\\\n",
       "\t ENSG00000002079 & MYH16    & 7  &  98836417 &  98908753 &  1\\\\\n",
       "\t ENSG00000002330 & BAD      & 11 &  64037302 &  64052176 & -1\\\\\n",
       "\t ENSG00000002549 & LAP3     & 4  &  17578815 &  17609595 &  1\\\\\n",
       "\t ENSG00000002586 & CD99     & X  &   2609220 &   2659350 &  1\\\\\n",
       "\t ENSG00000002587 & HS3ST1   & 4  &  11394774 &  11431389 & -1\\\\\n",
       "\t ENSG00000002726 & AOC1     & 7  & 150521715 & 150558592 &  1\\\\\n",
       "\t ENSG00000002745 & WNT16    & 7  & 120965421 & 120981158 &  1\\\\\n",
       "\t ENSG00000002746 & HECW1    & 7  &  43152198 &  43605600 &  1\\\\\n",
       "\t ENSG00000002822 & MAD1L1   & 7  &   1855429 &   2272878 & -1\\\\\n",
       "\t ENSG00000002834 & LASP1    & 17 &  37026112 &  37078023 &  1\\\\\n",
       "\t ⋮ & ⋮ & ⋮ & ⋮ & ⋮ & ⋮\\\\\n",
       "\t ENSG00000272837 & OR10AE3P    & 12 &  56039979 &  56040447 & -1\\\\\n",
       "\t ENSG00000272882 & OR2BH1P     & 11 &  29008182 &  29009045 &  1\\\\\n",
       "\t ENSG00000272887 & CSPG4P5     & 15 &  84956505 &  84962703 & -1\\\\\n",
       "\t ENSG00000272900 & OR10Q2P     & 11 &  58059298 &  58060237 & -1\\\\\n",
       "\t ENSG00000272937 & OR6U2P      & 12 &  56005407 &  56006338 &  1\\\\\n",
       "\t ENSG00000272963 & OR7A19P     & 12 &  46986356 &  46987088 &  1\\\\\n",
       "\t ENSG00000272968 & RBAK-RBAKDN & 7  &   5023349 &   5112852 &  1\\\\\n",
       "\t ENSG00000273015 & LINC00938   & 12 &  46119510 &  46121558 & -1\\\\\n",
       "\t ENSG00000273032 & DGCR9       & 22 &  19005347 &  19007761 &  1\\\\\n",
       "\t ENSG00000273048 & MIR4720     & 16 &  81418623 &  81418698 &  1\\\\\n",
       "\t ENSG00000273051 & OR51F4P     & 11 &   4773276 &   4774174 & -1\\\\\n",
       "\t ENSG00000273079 & GRIN2B      & 12 &  13693165 &  14133053 & -1\\\\\n",
       "\t ENSG00000273164 & DGCR10      & 22 &  19010569 &  19011063 &  1\\\\\n",
       "\t ENSG00000273228 & OR5BQ1P     & 11 &  56796883 &  56797197 &  1\\\\\n",
       "\t ENSG00000273234 & OR2A13P     & 7  & 143839102 & 143840031 &  1\\\\\n",
       "\t ENSG00000273252 & OR7E39P     & 7  &   6875051 &   6875425 & -1\\\\\n",
       "\t ENSG00000273255 & OR5BP1P     & 11 &  56823062 &  56823607 &  1\\\\\n",
       "\t ENSG00000273274 & ZBTB8B      & 1  &  32930670 &  32962287 &  1\\\\\n",
       "\t ENSG00000273311 & DGCR11      & 22 &  19033675 &  19035888 & -1\\\\\n",
       "\t ENSG00000273313 & RBAKDN      & 7  &   5111756 &   5112854 &  1\\\\\n",
       "\t ENSG00000273327 & OR6L2P      & 10 & 135243898 & 135244822 & -1\\\\\n",
       "\t ENSG00000273336 & OR7M1P      & 10 & 135294742 & 135295274 &  1\\\\\n",
       "\t ENSG00000273340 & MICE        & 6  &  29709508 &  29716746 & -1\\\\\n",
       "\t ENSG00000273344 & PAXIP1-AS1  & 7  & 154795158 & 154797413 &  1\\\\\n",
       "\t ENSG00000273377 & OR2Q1P      & 7  & 143677998 & 143678913 &  1\\\\\n",
       "\t ENSG00000273408 & OR5B15P     & 11 &  58155056 &  58155959 & -1\\\\\n",
       "\t ENSG00000273423 & OR13I1P     & 9  & 107392035 & 107393298 &  1\\\\\n",
       "\t ENSG00000273434 & OR8S21P     & 12 &  48810933 &  48811120 & -1\\\\\n",
       "\t ENSG00000273439 & ZNF8        & 19 &  58790318 &  58807254 &  1\\\\\n",
       "\t ENSG00000273484 & OR6R2P      & 8  &  21654972 &  21655271 &  1\\\\\n",
       "\\end{tabular}\n"
      ],
      "text/markdown": [
       "\n",
       "A data.frame: 33662 × 6\n",
       "\n",
       "| ensembl_gene_id &lt;chr&gt; | hgnc_symbol &lt;chr&gt; | chromosome_name &lt;chr&gt; | start_position &lt;int&gt; | end_position &lt;int&gt; | strand &lt;int&gt; |\n",
       "|---|---|---|---|---|---|\n",
       "| ENSG00000000003 | TSPAN6   | X  |  99883667 |  99894988 | -1 |\n",
       "| ENSG00000000005 | TNMD     | X  |  99839799 |  99854882 |  1 |\n",
       "| ENSG00000000419 | DPM1     | 20 |  49551404 |  49575092 | -1 |\n",
       "| ENSG00000000457 | SCYL3    | 1  | 169818772 | 169863408 | -1 |\n",
       "| ENSG00000000460 | C1orf112 | 1  | 169631245 | 169823221 |  1 |\n",
       "| ENSG00000000938 | FGR      | 1  |  27938575 |  27961788 | -1 |\n",
       "| ENSG00000000971 | CFH      | 1  | 196621008 | 196716634 |  1 |\n",
       "| ENSG00000001036 | FUCA2    | 6  | 143815948 | 143832827 | -1 |\n",
       "| ENSG00000001084 | GCLC     | 6  |  53362139 |  53481768 | -1 |\n",
       "| ENSG00000001167 | NFYA     | 6  |  41040684 |  41067715 |  1 |\n",
       "| ENSG00000001460 | STPG1    | 1  |  24683489 |  24743424 | -1 |\n",
       "| ENSG00000001461 | NIPAL3   | 1  |  24742284 |  24799466 |  1 |\n",
       "| ENSG00000001497 | LAS1L    | X  |  64732462 |  64754655 | -1 |\n",
       "| ENSG00000001561 | ENPP4    | 6  |  46097730 |  46114436 |  1 |\n",
       "| ENSG00000001617 | SEMA3F   | 3  |  50192478 |  50226508 |  1 |\n",
       "| ENSG00000001626 | CFTR     | 7  | 117105838 | 117356025 |  1 |\n",
       "| ENSG00000001629 | ANKIB1   | 7  |  91875548 |  92030698 |  1 |\n",
       "| ENSG00000001630 | CYP51A1  | 7  |  91741465 |  91772266 | -1 |\n",
       "| ENSG00000001631 | KRIT1    | 7  |  91828283 |  91875480 | -1 |\n",
       "| ENSG00000002016 | RAD52    | 12 |   1021243 |   1099219 | -1 |\n",
       "| ENSG00000002079 | MYH16    | 7  |  98836417 |  98908753 |  1 |\n",
       "| ENSG00000002330 | BAD      | 11 |  64037302 |  64052176 | -1 |\n",
       "| ENSG00000002549 | LAP3     | 4  |  17578815 |  17609595 |  1 |\n",
       "| ENSG00000002586 | CD99     | X  |   2609220 |   2659350 |  1 |\n",
       "| ENSG00000002587 | HS3ST1   | 4  |  11394774 |  11431389 | -1 |\n",
       "| ENSG00000002726 | AOC1     | 7  | 150521715 | 150558592 |  1 |\n",
       "| ENSG00000002745 | WNT16    | 7  | 120965421 | 120981158 |  1 |\n",
       "| ENSG00000002746 | HECW1    | 7  |  43152198 |  43605600 |  1 |\n",
       "| ENSG00000002822 | MAD1L1   | 7  |   1855429 |   2272878 | -1 |\n",
       "| ENSG00000002834 | LASP1    | 17 |  37026112 |  37078023 |  1 |\n",
       "| ⋮ | ⋮ | ⋮ | ⋮ | ⋮ | ⋮ |\n",
       "| ENSG00000272837 | OR10AE3P    | 12 |  56039979 |  56040447 | -1 |\n",
       "| ENSG00000272882 | OR2BH1P     | 11 |  29008182 |  29009045 |  1 |\n",
       "| ENSG00000272887 | CSPG4P5     | 15 |  84956505 |  84962703 | -1 |\n",
       "| ENSG00000272900 | OR10Q2P     | 11 |  58059298 |  58060237 | -1 |\n",
       "| ENSG00000272937 | OR6U2P      | 12 |  56005407 |  56006338 |  1 |\n",
       "| ENSG00000272963 | OR7A19P     | 12 |  46986356 |  46987088 |  1 |\n",
       "| ENSG00000272968 | RBAK-RBAKDN | 7  |   5023349 |   5112852 |  1 |\n",
       "| ENSG00000273015 | LINC00938   | 12 |  46119510 |  46121558 | -1 |\n",
       "| ENSG00000273032 | DGCR9       | 22 |  19005347 |  19007761 |  1 |\n",
       "| ENSG00000273048 | MIR4720     | 16 |  81418623 |  81418698 |  1 |\n",
       "| ENSG00000273051 | OR51F4P     | 11 |   4773276 |   4774174 | -1 |\n",
       "| ENSG00000273079 | GRIN2B      | 12 |  13693165 |  14133053 | -1 |\n",
       "| ENSG00000273164 | DGCR10      | 22 |  19010569 |  19011063 |  1 |\n",
       "| ENSG00000273228 | OR5BQ1P     | 11 |  56796883 |  56797197 |  1 |\n",
       "| ENSG00000273234 | OR2A13P     | 7  | 143839102 | 143840031 |  1 |\n",
       "| ENSG00000273252 | OR7E39P     | 7  |   6875051 |   6875425 | -1 |\n",
       "| ENSG00000273255 | OR5BP1P     | 11 |  56823062 |  56823607 |  1 |\n",
       "| ENSG00000273274 | ZBTB8B      | 1  |  32930670 |  32962287 |  1 |\n",
       "| ENSG00000273311 | DGCR11      | 22 |  19033675 |  19035888 | -1 |\n",
       "| ENSG00000273313 | RBAKDN      | 7  |   5111756 |   5112854 |  1 |\n",
       "| ENSG00000273327 | OR6L2P      | 10 | 135243898 | 135244822 | -1 |\n",
       "| ENSG00000273336 | OR7M1P      | 10 | 135294742 | 135295274 |  1 |\n",
       "| ENSG00000273340 | MICE        | 6  |  29709508 |  29716746 | -1 |\n",
       "| ENSG00000273344 | PAXIP1-AS1  | 7  | 154795158 | 154797413 |  1 |\n",
       "| ENSG00000273377 | OR2Q1P      | 7  | 143677998 | 143678913 |  1 |\n",
       "| ENSG00000273408 | OR5B15P     | 11 |  58155056 |  58155959 | -1 |\n",
       "| ENSG00000273423 | OR13I1P     | 9  | 107392035 | 107393298 |  1 |\n",
       "| ENSG00000273434 | OR8S21P     | 12 |  48810933 |  48811120 | -1 |\n",
       "| ENSG00000273439 | ZNF8        | 19 |  58790318 |  58807254 |  1 |\n",
       "| ENSG00000273484 | OR6R2P      | 8  |  21654972 |  21655271 |  1 |\n",
       "\n"
      ],
      "text/plain": [
       "      ensembl_gene_id hgnc_symbol chromosome_name start_position end_position\n",
       "1     ENSG00000000003 TSPAN6      X                99883667       99894988   \n",
       "2     ENSG00000000005 TNMD        X                99839799       99854882   \n",
       "3     ENSG00000000419 DPM1        20               49551404       49575092   \n",
       "4     ENSG00000000457 SCYL3       1               169818772      169863408   \n",
       "5     ENSG00000000460 C1orf112    1               169631245      169823221   \n",
       "6     ENSG00000000938 FGR         1                27938575       27961788   \n",
       "7     ENSG00000000971 CFH         1               196621008      196716634   \n",
       "8     ENSG00000001036 FUCA2       6               143815948      143832827   \n",
       "9     ENSG00000001084 GCLC        6                53362139       53481768   \n",
       "10    ENSG00000001167 NFYA        6                41040684       41067715   \n",
       "11    ENSG00000001460 STPG1       1                24683489       24743424   \n",
       "12    ENSG00000001461 NIPAL3      1                24742284       24799466   \n",
       "13    ENSG00000001497 LAS1L       X                64732462       64754655   \n",
       "14    ENSG00000001561 ENPP4       6                46097730       46114436   \n",
       "15    ENSG00000001617 SEMA3F      3                50192478       50226508   \n",
       "16    ENSG00000001626 CFTR        7               117105838      117356025   \n",
       "17    ENSG00000001629 ANKIB1      7                91875548       92030698   \n",
       "18    ENSG00000001630 CYP51A1     7                91741465       91772266   \n",
       "19    ENSG00000001631 KRIT1       7                91828283       91875480   \n",
       "20    ENSG00000002016 RAD52       12                1021243        1099219   \n",
       "21    ENSG00000002079 MYH16       7                98836417       98908753   \n",
       "22    ENSG00000002330 BAD         11               64037302       64052176   \n",
       "23    ENSG00000002549 LAP3        4                17578815       17609595   \n",
       "24    ENSG00000002586 CD99        X                 2609220        2659350   \n",
       "25    ENSG00000002587 HS3ST1      4                11394774       11431389   \n",
       "26    ENSG00000002726 AOC1        7               150521715      150558592   \n",
       "27    ENSG00000002745 WNT16       7               120965421      120981158   \n",
       "28    ENSG00000002746 HECW1       7                43152198       43605600   \n",
       "29    ENSG00000002822 MAD1L1      7                 1855429        2272878   \n",
       "30    ENSG00000002834 LASP1       17               37026112       37078023   \n",
       "⋮     ⋮               ⋮           ⋮               ⋮              ⋮           \n",
       "33633 ENSG00000272837 OR10AE3P    12               56039979       56040447   \n",
       "33634 ENSG00000272882 OR2BH1P     11               29008182       29009045   \n",
       "33635 ENSG00000272887 CSPG4P5     15               84956505       84962703   \n",
       "33636 ENSG00000272900 OR10Q2P     11               58059298       58060237   \n",
       "33637 ENSG00000272937 OR6U2P      12               56005407       56006338   \n",
       "33638 ENSG00000272963 OR7A19P     12               46986356       46987088   \n",
       "33639 ENSG00000272968 RBAK-RBAKDN 7                 5023349        5112852   \n",
       "33640 ENSG00000273015 LINC00938   12               46119510       46121558   \n",
       "33641 ENSG00000273032 DGCR9       22               19005347       19007761   \n",
       "33642 ENSG00000273048 MIR4720     16               81418623       81418698   \n",
       "33643 ENSG00000273051 OR51F4P     11                4773276        4774174   \n",
       "33644 ENSG00000273079 GRIN2B      12               13693165       14133053   \n",
       "33645 ENSG00000273164 DGCR10      22               19010569       19011063   \n",
       "33646 ENSG00000273228 OR5BQ1P     11               56796883       56797197   \n",
       "33647 ENSG00000273234 OR2A13P     7               143839102      143840031   \n",
       "33648 ENSG00000273252 OR7E39P     7                 6875051        6875425   \n",
       "33649 ENSG00000273255 OR5BP1P     11               56823062       56823607   \n",
       "33650 ENSG00000273274 ZBTB8B      1                32930670       32962287   \n",
       "33651 ENSG00000273311 DGCR11      22               19033675       19035888   \n",
       "33652 ENSG00000273313 RBAKDN      7                 5111756        5112854   \n",
       "33653 ENSG00000273327 OR6L2P      10              135243898      135244822   \n",
       "33654 ENSG00000273336 OR7M1P      10              135294742      135295274   \n",
       "33655 ENSG00000273340 MICE        6                29709508       29716746   \n",
       "33656 ENSG00000273344 PAXIP1-AS1  7               154795158      154797413   \n",
       "33657 ENSG00000273377 OR2Q1P      7               143677998      143678913   \n",
       "33658 ENSG00000273408 OR5B15P     11               58155056       58155959   \n",
       "33659 ENSG00000273423 OR13I1P     9               107392035      107393298   \n",
       "33660 ENSG00000273434 OR8S21P     12               48810933       48811120   \n",
       "33661 ENSG00000273439 ZNF8        19               58790318       58807254   \n",
       "33662 ENSG00000273484 OR6R2P      8                21654972       21655271   \n",
       "      strand\n",
       "1     -1    \n",
       "2      1    \n",
       "3     -1    \n",
       "4     -1    \n",
       "5      1    \n",
       "6     -1    \n",
       "7      1    \n",
       "8     -1    \n",
       "9     -1    \n",
       "10     1    \n",
       "11    -1    \n",
       "12     1    \n",
       "13    -1    \n",
       "14     1    \n",
       "15     1    \n",
       "16     1    \n",
       "17     1    \n",
       "18    -1    \n",
       "19    -1    \n",
       "20    -1    \n",
       "21     1    \n",
       "22    -1    \n",
       "23     1    \n",
       "24     1    \n",
       "25    -1    \n",
       "26     1    \n",
       "27     1    \n",
       "28     1    \n",
       "29    -1    \n",
       "30     1    \n",
       "⋮     ⋮     \n",
       "33633 -1    \n",
       "33634  1    \n",
       "33635 -1    \n",
       "33636 -1    \n",
       "33637  1    \n",
       "33638  1    \n",
       "33639  1    \n",
       "33640 -1    \n",
       "33641  1    \n",
       "33642  1    \n",
       "33643 -1    \n",
       "33644 -1    \n",
       "33645  1    \n",
       "33646  1    \n",
       "33647  1    \n",
       "33648 -1    \n",
       "33649  1    \n",
       "33650  1    \n",
       "33651 -1    \n",
       "33652  1    \n",
       "33653 -1    \n",
       "33654  1    \n",
       "33655 -1    \n",
       "33656  1    \n",
       "33657  1    \n",
       "33658 -1    \n",
       "33659  1    \n",
       "33660 -1    \n",
       "33661  1    \n",
       "33662  1    "
      ]
     },
     "metadata": {},
     "output_type": "display_data"
    }
   ],
   "source": [
    "Liver_ENSEMBLnoVersion_to_GENESYMBOL_hasHGNC"
   ]
  },
  {
   "cell_type": "markdown",
   "id": "9df1455f",
   "metadata": {},
   "source": [
    "### Relink ENSEMBL_to_GENESYMBOL and ENCODE file"
   ]
  },
  {
   "cell_type": "code",
   "execution_count": 12,
   "id": "2eea70c9",
   "metadata": {
    "scrolled": true
   },
   "outputs": [
    {
     "data": {
      "text/html": [
       "33662"
      ],
      "text/latex": [
       "33662"
      ],
      "text/markdown": [
       "33662"
      ],
      "text/plain": [
       "[1] 33662"
      ]
     },
     "metadata": {},
     "output_type": "display_data"
    },
    {
     "data": {
      "text/html": [
       "57820"
      ],
      "text/latex": [
       "57820"
      ],
      "text/markdown": [
       "57820"
      ],
      "text/plain": [
       "[1] 57820"
      ]
     },
     "metadata": {},
     "output_type": "display_data"
    },
    {
     "data": {
      "text/html": [
       "<table class=\"dataframe\">\n",
       "<caption>A data.frame: 3 × 6</caption>\n",
       "<thead>\n",
       "\t<tr><th></th><th scope=col>ensembl_gene_id</th><th scope=col>hgnc_symbol</th><th scope=col>chromosome_name</th><th scope=col>start_position</th><th scope=col>end_position</th><th scope=col>strand</th></tr>\n",
       "\t<tr><th></th><th scope=col>&lt;chr&gt;</th><th scope=col>&lt;chr&gt;</th><th scope=col>&lt;chr&gt;</th><th scope=col>&lt;int&gt;</th><th scope=col>&lt;int&gt;</th><th scope=col>&lt;int&gt;</th></tr>\n",
       "</thead>\n",
       "<tbody>\n",
       "\t<tr><th scope=row>1</th><td>ENSG00000000003</td><td>TSPAN6</td><td>X </td><td>99883667</td><td>99894988</td><td>-1</td></tr>\n",
       "\t<tr><th scope=row>2</th><td>ENSG00000000005</td><td>TNMD  </td><td>X </td><td>99839799</td><td>99854882</td><td> 1</td></tr>\n",
       "\t<tr><th scope=row>3</th><td>ENSG00000000419</td><td>DPM1  </td><td>20</td><td>49551404</td><td>49575092</td><td>-1</td></tr>\n",
       "</tbody>\n",
       "</table>\n"
      ],
      "text/latex": [
       "A data.frame: 3 × 6\n",
       "\\begin{tabular}{r|llllll}\n",
       "  & ensembl\\_gene\\_id & hgnc\\_symbol & chromosome\\_name & start\\_position & end\\_position & strand\\\\\n",
       "  & <chr> & <chr> & <chr> & <int> & <int> & <int>\\\\\n",
       "\\hline\n",
       "\t1 & ENSG00000000003 & TSPAN6 & X  & 99883667 & 99894988 & -1\\\\\n",
       "\t2 & ENSG00000000005 & TNMD   & X  & 99839799 & 99854882 &  1\\\\\n",
       "\t3 & ENSG00000000419 & DPM1   & 20 & 49551404 & 49575092 & -1\\\\\n",
       "\\end{tabular}\n"
      ],
      "text/markdown": [
       "\n",
       "A data.frame: 3 × 6\n",
       "\n",
       "| <!--/--> | ensembl_gene_id &lt;chr&gt; | hgnc_symbol &lt;chr&gt; | chromosome_name &lt;chr&gt; | start_position &lt;int&gt; | end_position &lt;int&gt; | strand &lt;int&gt; |\n",
       "|---|---|---|---|---|---|---|\n",
       "| 1 | ENSG00000000003 | TSPAN6 | X  | 99883667 | 99894988 | -1 |\n",
       "| 2 | ENSG00000000005 | TNMD   | X  | 99839799 | 99854882 |  1 |\n",
       "| 3 | ENSG00000000419 | DPM1   | 20 | 49551404 | 49575092 | -1 |\n",
       "\n"
      ],
      "text/plain": [
       "  ensembl_gene_id hgnc_symbol chromosome_name start_position end_position\n",
       "1 ENSG00000000003 TSPAN6      X               99883667       99894988    \n",
       "2 ENSG00000000005 TNMD        X               99839799       99854882    \n",
       "3 ENSG00000000419 DPM1        20              49551404       49575092    \n",
       "  strand\n",
       "1 -1    \n",
       "2  1    \n",
       "3 -1    "
      ]
     },
     "metadata": {},
     "output_type": "display_data"
    },
    {
     "data": {
      "text/html": [
       "<table class=\"dataframe\">\n",
       "<caption>A tibble: 3 × 3</caption>\n",
       "<thead>\n",
       "\t<tr><th scope=col>ENSEMBL</th><th scope=col>TPM</th><th scope=col>ENSG</th></tr>\n",
       "\t<tr><th scope=col>&lt;chr&gt;</th><th scope=col>&lt;dbl&gt;</th><th scope=col>&lt;chr&gt;</th></tr>\n",
       "</thead>\n",
       "<tbody>\n",
       "\t<tr><td>ENSG00000000003.10</td><td>40.355</td><td>ENSG00000000003</td></tr>\n",
       "\t<tr><td>ENSG00000000005.5 </td><td> 0.000</td><td>ENSG00000000005</td></tr>\n",
       "\t<tr><td>ENSG00000000419.8 </td><td>79.980</td><td>ENSG00000000419</td></tr>\n",
       "</tbody>\n",
       "</table>\n"
      ],
      "text/latex": [
       "A tibble: 3 × 3\n",
       "\\begin{tabular}{lll}\n",
       " ENSEMBL & TPM & ENSG\\\\\n",
       " <chr> & <dbl> & <chr>\\\\\n",
       "\\hline\n",
       "\t ENSG00000000003.10 & 40.355 & ENSG00000000003\\\\\n",
       "\t ENSG00000000005.5  &  0.000 & ENSG00000000005\\\\\n",
       "\t ENSG00000000419.8  & 79.980 & ENSG00000000419\\\\\n",
       "\\end{tabular}\n"
      ],
      "text/markdown": [
       "\n",
       "A tibble: 3 × 3\n",
       "\n",
       "| ENSEMBL &lt;chr&gt; | TPM &lt;dbl&gt; | ENSG &lt;chr&gt; |\n",
       "|---|---|---|\n",
       "| ENSG00000000003.10 | 40.355 | ENSG00000000003 |\n",
       "| ENSG00000000005.5  |  0.000 | ENSG00000000005 |\n",
       "| ENSG00000000419.8  | 79.980 | ENSG00000000419 |\n",
       "\n"
      ],
      "text/plain": [
       "  ENSEMBL            TPM    ENSG           \n",
       "1 ENSG00000000003.10 40.355 ENSG00000000003\n",
       "2 ENSG00000000005.5   0.000 ENSG00000000005\n",
       "3 ENSG00000000419.8  79.980 ENSG00000000419"
      ]
     },
     "metadata": {},
     "output_type": "display_data"
    }
   ],
   "source": [
    "nrow(Liver_ENSEMBLnoVersion_to_GENESYMBOL_hasHGNC)\n",
    "nrow(HepG2_ENSG_TPM_avg12)\n",
    "head(Liver_ENSEMBLnoVersion_to_GENESYMBOL_hasHGNC, 3)\n",
    "head(HepG2_ENSG_TPM_avg12_noVersion, 3)"
   ]
  },
  {
   "cell_type": "code",
   "execution_count": 14,
   "id": "16beb66b",
   "metadata": {
    "scrolled": true
   },
   "outputs": [
    {
     "data": {
      "text/html": [
       "<table class=\"dataframe\">\n",
       "<caption>A data.frame: 33662 × 8</caption>\n",
       "<thead>\n",
       "\t<tr><th scope=col>ensembl_gene_id</th><th scope=col>hgnc_symbol</th><th scope=col>chromosome_name</th><th scope=col>start_position</th><th scope=col>end_position</th><th scope=col>strand</th><th scope=col>ENSEMBL</th><th scope=col>TPM</th></tr>\n",
       "\t<tr><th scope=col>&lt;chr&gt;</th><th scope=col>&lt;chr&gt;</th><th scope=col>&lt;chr&gt;</th><th scope=col>&lt;int&gt;</th><th scope=col>&lt;int&gt;</th><th scope=col>&lt;int&gt;</th><th scope=col>&lt;chr&gt;</th><th scope=col>&lt;dbl&gt;</th></tr>\n",
       "</thead>\n",
       "<tbody>\n",
       "\t<tr><td>ENSG00000000003</td><td>TSPAN6  </td><td>X </td><td> 99883667</td><td> 99894988</td><td>-1</td><td>ENSG00000000003.10</td><td> 40.355</td></tr>\n",
       "\t<tr><td>ENSG00000000005</td><td>TNMD    </td><td>X </td><td> 99839799</td><td> 99854882</td><td> 1</td><td>ENSG00000000005.5 </td><td>  0.000</td></tr>\n",
       "\t<tr><td>ENSG00000000419</td><td>DPM1    </td><td>20</td><td> 49551404</td><td> 49575092</td><td>-1</td><td>ENSG00000000419.8 </td><td> 79.980</td></tr>\n",
       "\t<tr><td>ENSG00000000457</td><td>SCYL3   </td><td>1 </td><td>169818772</td><td>169863408</td><td>-1</td><td>ENSG00000000457.9 </td><td>  1.830</td></tr>\n",
       "\t<tr><td>ENSG00000000460</td><td>C1orf112</td><td>1 </td><td>169631245</td><td>169823221</td><td> 1</td><td>ENSG00000000460.12</td><td>  2.630</td></tr>\n",
       "\t<tr><td>ENSG00000000938</td><td>FGR     </td><td>1 </td><td> 27938575</td><td> 27961788</td><td>-1</td><td>ENSG00000000938.8 </td><td>  0.000</td></tr>\n",
       "\t<tr><td>ENSG00000000971</td><td>CFH     </td><td>1 </td><td>196621008</td><td>196716634</td><td> 1</td><td>ENSG00000000971.11</td><td>  0.500</td></tr>\n",
       "\t<tr><td>ENSG00000001036</td><td>FUCA2   </td><td>6 </td><td>143815948</td><td>143832827</td><td>-1</td><td>ENSG00000001036.9 </td><td> 33.440</td></tr>\n",
       "\t<tr><td>ENSG00000001084</td><td>GCLC    </td><td>6 </td><td> 53362139</td><td> 53481768</td><td>-1</td><td>ENSG00000001084.6 </td><td>320.300</td></tr>\n",
       "\t<tr><td>ENSG00000001167</td><td>NFYA    </td><td>6 </td><td> 41040684</td><td> 41067715</td><td> 1</td><td>ENSG00000001167.10</td><td> 14.010</td></tr>\n",
       "\t<tr><td>ENSG00000001460</td><td>STPG1   </td><td>1 </td><td> 24683489</td><td> 24743424</td><td>-1</td><td>ENSG00000001460.13</td><td>  0.935</td></tr>\n",
       "\t<tr><td>ENSG00000001461</td><td>NIPAL3  </td><td>1 </td><td> 24742284</td><td> 24799466</td><td> 1</td><td>ENSG00000001461.12</td><td>  3.875</td></tr>\n",
       "\t<tr><td>ENSG00000001497</td><td>LAS1L   </td><td>X </td><td> 64732462</td><td> 64754655</td><td>-1</td><td>ENSG00000001497.12</td><td> 20.335</td></tr>\n",
       "\t<tr><td>ENSG00000001561</td><td>ENPP4   </td><td>6 </td><td> 46097730</td><td> 46114436</td><td> 1</td><td>ENSG00000001561.6 </td><td>  0.005</td></tr>\n",
       "\t<tr><td>ENSG00000001617</td><td>SEMA3F  </td><td>3 </td><td> 50192478</td><td> 50226508</td><td> 1</td><td>ENSG00000001617.7 </td><td>  8.110</td></tr>\n",
       "\t<tr><td>ENSG00000001626</td><td>CFTR    </td><td>7 </td><td>117105838</td><td>117356025</td><td> 1</td><td>ENSG00000001626.10</td><td>  0.000</td></tr>\n",
       "\t<tr><td>ENSG00000001629</td><td>ANKIB1  </td><td>7 </td><td> 91875548</td><td> 92030698</td><td> 1</td><td>ENSG00000001629.5 </td><td> 19.700</td></tr>\n",
       "\t<tr><td>ENSG00000001630</td><td>CYP51A1 </td><td>7 </td><td> 91741465</td><td> 91772266</td><td>-1</td><td>ENSG00000001630.11</td><td> 61.655</td></tr>\n",
       "\t<tr><td>ENSG00000001631</td><td>KRIT1   </td><td>7 </td><td> 91828283</td><td> 91875480</td><td>-1</td><td>ENSG00000001631.10</td><td> 14.780</td></tr>\n",
       "\t<tr><td>ENSG00000002016</td><td>RAD52   </td><td>12</td><td>  1021243</td><td>  1099219</td><td>-1</td><td>ENSG00000002016.12</td><td> 13.250</td></tr>\n",
       "\t<tr><td>ENSG00000002079</td><td>MYH16   </td><td>7 </td><td> 98836417</td><td> 98908753</td><td> 1</td><td>ENSG00000002079.8 </td><td>  0.475</td></tr>\n",
       "\t<tr><td>ENSG00000002330</td><td>BAD     </td><td>11</td><td> 64037302</td><td> 64052176</td><td>-1</td><td>ENSG00000002330.9 </td><td>  4.780</td></tr>\n",
       "\t<tr><td>ENSG00000002549</td><td>LAP3    </td><td>4 </td><td> 17578815</td><td> 17609595</td><td> 1</td><td>ENSG00000002549.8 </td><td>327.110</td></tr>\n",
       "\t<tr><td>ENSG00000002586</td><td>CD99    </td><td>X </td><td>  2609220</td><td>  2659350</td><td> 1</td><td>ENSG00000002586.13</td><td> 88.750</td></tr>\n",
       "\t<tr><td>ENSG00000002587</td><td>HS3ST1  </td><td>4 </td><td> 11394774</td><td> 11431389</td><td>-1</td><td>ENSG00000002587.5 </td><td>  0.000</td></tr>\n",
       "\t<tr><td>ENSG00000002726</td><td>AOC1    </td><td>7 </td><td>150521715</td><td>150558592</td><td> 1</td><td>ENSG00000002726.15</td><td>  0.000</td></tr>\n",
       "\t<tr><td>ENSG00000002745</td><td>WNT16   </td><td>7 </td><td>120965421</td><td>120981158</td><td> 1</td><td>ENSG00000002745.8 </td><td>  0.000</td></tr>\n",
       "\t<tr><td>ENSG00000002746</td><td>HECW1   </td><td>7 </td><td> 43152198</td><td> 43605600</td><td> 1</td><td>ENSG00000002746.10</td><td>  0.000</td></tr>\n",
       "\t<tr><td>ENSG00000002822</td><td>MAD1L1  </td><td>7 </td><td>  1855429</td><td>  2272878</td><td>-1</td><td>ENSG00000002822.11</td><td> 21.015</td></tr>\n",
       "\t<tr><td>ENSG00000002834</td><td>LASP1   </td><td>17</td><td> 37026112</td><td> 37078023</td><td> 1</td><td>ENSG00000002834.13</td><td>136.945</td></tr>\n",
       "\t<tr><td>⋮</td><td>⋮</td><td>⋮</td><td>⋮</td><td>⋮</td><td>⋮</td><td>⋮</td><td>⋮</td></tr>\n",
       "\t<tr><td>ENSG00000272837</td><td>OR10AE3P   </td><td>12</td><td> 56039979</td><td> 56040447</td><td>-1</td><td>ENSG00000272837.1</td><td>0.000</td></tr>\n",
       "\t<tr><td>ENSG00000272882</td><td>OR2BH1P    </td><td>11</td><td> 29008182</td><td> 29009045</td><td> 1</td><td>ENSG00000272882.1</td><td>0.000</td></tr>\n",
       "\t<tr><td>ENSG00000272887</td><td>CSPG4P5    </td><td>15</td><td> 84956505</td><td> 84962703</td><td>-1</td><td>ENSG00000272887.1</td><td>0.000</td></tr>\n",
       "\t<tr><td>ENSG00000272900</td><td>OR10Q2P    </td><td>11</td><td> 58059298</td><td> 58060237</td><td>-1</td><td>ENSG00000272900.1</td><td>0.000</td></tr>\n",
       "\t<tr><td>ENSG00000272937</td><td>OR6U2P     </td><td>12</td><td> 56005407</td><td> 56006338</td><td> 1</td><td>ENSG00000272937.1</td><td>0.000</td></tr>\n",
       "\t<tr><td>ENSG00000272963</td><td>OR7A19P    </td><td>12</td><td> 46986356</td><td> 46987088</td><td> 1</td><td>ENSG00000272963.1</td><td>0.000</td></tr>\n",
       "\t<tr><td>ENSG00000272968</td><td>RBAK-RBAKDN</td><td>7 </td><td>  5023349</td><td>  5112852</td><td> 1</td><td>ENSG00000272968.1</td><td>0.725</td></tr>\n",
       "\t<tr><td>ENSG00000273015</td><td>LINC00938  </td><td>12</td><td> 46119510</td><td> 46121558</td><td>-1</td><td>ENSG00000273015.1</td><td>6.330</td></tr>\n",
       "\t<tr><td>ENSG00000273032</td><td>DGCR9      </td><td>22</td><td> 19005347</td><td> 19007761</td><td> 1</td><td>ENSG00000273032.1</td><td>0.000</td></tr>\n",
       "\t<tr><td>ENSG00000273048</td><td>MIR4720    </td><td>16</td><td> 81418623</td><td> 81418698</td><td> 1</td><td>ENSG00000273048.1</td><td>0.000</td></tr>\n",
       "\t<tr><td>ENSG00000273051</td><td>OR51F4P    </td><td>11</td><td>  4773276</td><td>  4774174</td><td>-1</td><td>ENSG00000273051.1</td><td>0.000</td></tr>\n",
       "\t<tr><td>ENSG00000273079</td><td>GRIN2B     </td><td>12</td><td> 13693165</td><td> 14133053</td><td>-1</td><td>ENSG00000273079.1</td><td>0.030</td></tr>\n",
       "\t<tr><td>ENSG00000273164</td><td>DGCR10     </td><td>22</td><td> 19010569</td><td> 19011063</td><td> 1</td><td>ENSG00000273164.1</td><td>0.000</td></tr>\n",
       "\t<tr><td>ENSG00000273228</td><td>OR5BQ1P    </td><td>11</td><td> 56796883</td><td> 56797197</td><td> 1</td><td>ENSG00000273228.1</td><td>0.000</td></tr>\n",
       "\t<tr><td>ENSG00000273234</td><td>OR2A13P    </td><td>7 </td><td>143839102</td><td>143840031</td><td> 1</td><td>ENSG00000273234.1</td><td>0.000</td></tr>\n",
       "\t<tr><td>ENSG00000273252</td><td>OR7E39P    </td><td>7 </td><td>  6875051</td><td>  6875425</td><td>-1</td><td>ENSG00000273252.1</td><td>0.000</td></tr>\n",
       "\t<tr><td>ENSG00000273255</td><td>OR5BP1P    </td><td>11</td><td> 56823062</td><td> 56823607</td><td> 1</td><td>ENSG00000273255.1</td><td>0.000</td></tr>\n",
       "\t<tr><td>ENSG00000273274</td><td>ZBTB8B     </td><td>1 </td><td> 32930670</td><td> 32962287</td><td> 1</td><td>ENSG00000273274.1</td><td>0.000</td></tr>\n",
       "\t<tr><td>ENSG00000273311</td><td>DGCR11     </td><td>22</td><td> 19033675</td><td> 19035888</td><td>-1</td><td>ENSG00000273311.1</td><td>0.055</td></tr>\n",
       "\t<tr><td>ENSG00000273313</td><td>RBAKDN     </td><td>7 </td><td>  5111756</td><td>  5112854</td><td> 1</td><td>ENSG00000273313.1</td><td>0.000</td></tr>\n",
       "\t<tr><td>ENSG00000273327</td><td>OR6L2P     </td><td>10</td><td>135243898</td><td>135244822</td><td>-1</td><td>ENSG00000273327.1</td><td>0.140</td></tr>\n",
       "\t<tr><td>ENSG00000273336</td><td>OR7M1P     </td><td>10</td><td>135294742</td><td>135295274</td><td> 1</td><td>ENSG00000273336.1</td><td>0.740</td></tr>\n",
       "\t<tr><td>ENSG00000273340</td><td>MICE       </td><td>6 </td><td> 29709508</td><td> 29716746</td><td>-1</td><td>ENSG00000273340.1</td><td>0.295</td></tr>\n",
       "\t<tr><td>ENSG00000273344</td><td>PAXIP1-AS1 </td><td>7 </td><td>154795158</td><td>154797413</td><td> 1</td><td>ENSG00000273344.1</td><td>4.770</td></tr>\n",
       "\t<tr><td>ENSG00000273377</td><td>OR2Q1P     </td><td>7 </td><td>143677998</td><td>143678913</td><td> 1</td><td>ENSG00000273377.1</td><td>0.000</td></tr>\n",
       "\t<tr><td>ENSG00000273408</td><td>OR5B15P    </td><td>11</td><td> 58155056</td><td> 58155959</td><td>-1</td><td>ENSG00000273408.1</td><td>0.000</td></tr>\n",
       "\t<tr><td>ENSG00000273423</td><td>OR13I1P    </td><td>9 </td><td>107392035</td><td>107393298</td><td> 1</td><td>ENSG00000273423.1</td><td>0.000</td></tr>\n",
       "\t<tr><td>ENSG00000273434</td><td>OR8S21P    </td><td>12</td><td> 48810933</td><td> 48811120</td><td>-1</td><td>ENSG00000273434.1</td><td>0.000</td></tr>\n",
       "\t<tr><td>ENSG00000273439</td><td>ZNF8       </td><td>19</td><td> 58790318</td><td> 58807254</td><td> 1</td><td>ENSG00000273439.1</td><td>0.375</td></tr>\n",
       "\t<tr><td>ENSG00000273484</td><td>OR6R2P     </td><td>8 </td><td> 21654972</td><td> 21655271</td><td> 1</td><td>ENSG00000273484.1</td><td>0.000</td></tr>\n",
       "</tbody>\n",
       "</table>\n"
      ],
      "text/latex": [
       "A data.frame: 33662 × 8\n",
       "\\begin{tabular}{llllllll}\n",
       " ensembl\\_gene\\_id & hgnc\\_symbol & chromosome\\_name & start\\_position & end\\_position & strand & ENSEMBL & TPM\\\\\n",
       " <chr> & <chr> & <chr> & <int> & <int> & <int> & <chr> & <dbl>\\\\\n",
       "\\hline\n",
       "\t ENSG00000000003 & TSPAN6   & X  &  99883667 &  99894988 & -1 & ENSG00000000003.10 &  40.355\\\\\n",
       "\t ENSG00000000005 & TNMD     & X  &  99839799 &  99854882 &  1 & ENSG00000000005.5  &   0.000\\\\\n",
       "\t ENSG00000000419 & DPM1     & 20 &  49551404 &  49575092 & -1 & ENSG00000000419.8  &  79.980\\\\\n",
       "\t ENSG00000000457 & SCYL3    & 1  & 169818772 & 169863408 & -1 & ENSG00000000457.9  &   1.830\\\\\n",
       "\t ENSG00000000460 & C1orf112 & 1  & 169631245 & 169823221 &  1 & ENSG00000000460.12 &   2.630\\\\\n",
       "\t ENSG00000000938 & FGR      & 1  &  27938575 &  27961788 & -1 & ENSG00000000938.8  &   0.000\\\\\n",
       "\t ENSG00000000971 & CFH      & 1  & 196621008 & 196716634 &  1 & ENSG00000000971.11 &   0.500\\\\\n",
       "\t ENSG00000001036 & FUCA2    & 6  & 143815948 & 143832827 & -1 & ENSG00000001036.9  &  33.440\\\\\n",
       "\t ENSG00000001084 & GCLC     & 6  &  53362139 &  53481768 & -1 & ENSG00000001084.6  & 320.300\\\\\n",
       "\t ENSG00000001167 & NFYA     & 6  &  41040684 &  41067715 &  1 & ENSG00000001167.10 &  14.010\\\\\n",
       "\t ENSG00000001460 & STPG1    & 1  &  24683489 &  24743424 & -1 & ENSG00000001460.13 &   0.935\\\\\n",
       "\t ENSG00000001461 & NIPAL3   & 1  &  24742284 &  24799466 &  1 & ENSG00000001461.12 &   3.875\\\\\n",
       "\t ENSG00000001497 & LAS1L    & X  &  64732462 &  64754655 & -1 & ENSG00000001497.12 &  20.335\\\\\n",
       "\t ENSG00000001561 & ENPP4    & 6  &  46097730 &  46114436 &  1 & ENSG00000001561.6  &   0.005\\\\\n",
       "\t ENSG00000001617 & SEMA3F   & 3  &  50192478 &  50226508 &  1 & ENSG00000001617.7  &   8.110\\\\\n",
       "\t ENSG00000001626 & CFTR     & 7  & 117105838 & 117356025 &  1 & ENSG00000001626.10 &   0.000\\\\\n",
       "\t ENSG00000001629 & ANKIB1   & 7  &  91875548 &  92030698 &  1 & ENSG00000001629.5  &  19.700\\\\\n",
       "\t ENSG00000001630 & CYP51A1  & 7  &  91741465 &  91772266 & -1 & ENSG00000001630.11 &  61.655\\\\\n",
       "\t ENSG00000001631 & KRIT1    & 7  &  91828283 &  91875480 & -1 & ENSG00000001631.10 &  14.780\\\\\n",
       "\t ENSG00000002016 & RAD52    & 12 &   1021243 &   1099219 & -1 & ENSG00000002016.12 &  13.250\\\\\n",
       "\t ENSG00000002079 & MYH16    & 7  &  98836417 &  98908753 &  1 & ENSG00000002079.8  &   0.475\\\\\n",
       "\t ENSG00000002330 & BAD      & 11 &  64037302 &  64052176 & -1 & ENSG00000002330.9  &   4.780\\\\\n",
       "\t ENSG00000002549 & LAP3     & 4  &  17578815 &  17609595 &  1 & ENSG00000002549.8  & 327.110\\\\\n",
       "\t ENSG00000002586 & CD99     & X  &   2609220 &   2659350 &  1 & ENSG00000002586.13 &  88.750\\\\\n",
       "\t ENSG00000002587 & HS3ST1   & 4  &  11394774 &  11431389 & -1 & ENSG00000002587.5  &   0.000\\\\\n",
       "\t ENSG00000002726 & AOC1     & 7  & 150521715 & 150558592 &  1 & ENSG00000002726.15 &   0.000\\\\\n",
       "\t ENSG00000002745 & WNT16    & 7  & 120965421 & 120981158 &  1 & ENSG00000002745.8  &   0.000\\\\\n",
       "\t ENSG00000002746 & HECW1    & 7  &  43152198 &  43605600 &  1 & ENSG00000002746.10 &   0.000\\\\\n",
       "\t ENSG00000002822 & MAD1L1   & 7  &   1855429 &   2272878 & -1 & ENSG00000002822.11 &  21.015\\\\\n",
       "\t ENSG00000002834 & LASP1    & 17 &  37026112 &  37078023 &  1 & ENSG00000002834.13 & 136.945\\\\\n",
       "\t ⋮ & ⋮ & ⋮ & ⋮ & ⋮ & ⋮ & ⋮ & ⋮\\\\\n",
       "\t ENSG00000272837 & OR10AE3P    & 12 &  56039979 &  56040447 & -1 & ENSG00000272837.1 & 0.000\\\\\n",
       "\t ENSG00000272882 & OR2BH1P     & 11 &  29008182 &  29009045 &  1 & ENSG00000272882.1 & 0.000\\\\\n",
       "\t ENSG00000272887 & CSPG4P5     & 15 &  84956505 &  84962703 & -1 & ENSG00000272887.1 & 0.000\\\\\n",
       "\t ENSG00000272900 & OR10Q2P     & 11 &  58059298 &  58060237 & -1 & ENSG00000272900.1 & 0.000\\\\\n",
       "\t ENSG00000272937 & OR6U2P      & 12 &  56005407 &  56006338 &  1 & ENSG00000272937.1 & 0.000\\\\\n",
       "\t ENSG00000272963 & OR7A19P     & 12 &  46986356 &  46987088 &  1 & ENSG00000272963.1 & 0.000\\\\\n",
       "\t ENSG00000272968 & RBAK-RBAKDN & 7  &   5023349 &   5112852 &  1 & ENSG00000272968.1 & 0.725\\\\\n",
       "\t ENSG00000273015 & LINC00938   & 12 &  46119510 &  46121558 & -1 & ENSG00000273015.1 & 6.330\\\\\n",
       "\t ENSG00000273032 & DGCR9       & 22 &  19005347 &  19007761 &  1 & ENSG00000273032.1 & 0.000\\\\\n",
       "\t ENSG00000273048 & MIR4720     & 16 &  81418623 &  81418698 &  1 & ENSG00000273048.1 & 0.000\\\\\n",
       "\t ENSG00000273051 & OR51F4P     & 11 &   4773276 &   4774174 & -1 & ENSG00000273051.1 & 0.000\\\\\n",
       "\t ENSG00000273079 & GRIN2B      & 12 &  13693165 &  14133053 & -1 & ENSG00000273079.1 & 0.030\\\\\n",
       "\t ENSG00000273164 & DGCR10      & 22 &  19010569 &  19011063 &  1 & ENSG00000273164.1 & 0.000\\\\\n",
       "\t ENSG00000273228 & OR5BQ1P     & 11 &  56796883 &  56797197 &  1 & ENSG00000273228.1 & 0.000\\\\\n",
       "\t ENSG00000273234 & OR2A13P     & 7  & 143839102 & 143840031 &  1 & ENSG00000273234.1 & 0.000\\\\\n",
       "\t ENSG00000273252 & OR7E39P     & 7  &   6875051 &   6875425 & -1 & ENSG00000273252.1 & 0.000\\\\\n",
       "\t ENSG00000273255 & OR5BP1P     & 11 &  56823062 &  56823607 &  1 & ENSG00000273255.1 & 0.000\\\\\n",
       "\t ENSG00000273274 & ZBTB8B      & 1  &  32930670 &  32962287 &  1 & ENSG00000273274.1 & 0.000\\\\\n",
       "\t ENSG00000273311 & DGCR11      & 22 &  19033675 &  19035888 & -1 & ENSG00000273311.1 & 0.055\\\\\n",
       "\t ENSG00000273313 & RBAKDN      & 7  &   5111756 &   5112854 &  1 & ENSG00000273313.1 & 0.000\\\\\n",
       "\t ENSG00000273327 & OR6L2P      & 10 & 135243898 & 135244822 & -1 & ENSG00000273327.1 & 0.140\\\\\n",
       "\t ENSG00000273336 & OR7M1P      & 10 & 135294742 & 135295274 &  1 & ENSG00000273336.1 & 0.740\\\\\n",
       "\t ENSG00000273340 & MICE        & 6  &  29709508 &  29716746 & -1 & ENSG00000273340.1 & 0.295\\\\\n",
       "\t ENSG00000273344 & PAXIP1-AS1  & 7  & 154795158 & 154797413 &  1 & ENSG00000273344.1 & 4.770\\\\\n",
       "\t ENSG00000273377 & OR2Q1P      & 7  & 143677998 & 143678913 &  1 & ENSG00000273377.1 & 0.000\\\\\n",
       "\t ENSG00000273408 & OR5B15P     & 11 &  58155056 &  58155959 & -1 & ENSG00000273408.1 & 0.000\\\\\n",
       "\t ENSG00000273423 & OR13I1P     & 9  & 107392035 & 107393298 &  1 & ENSG00000273423.1 & 0.000\\\\\n",
       "\t ENSG00000273434 & OR8S21P     & 12 &  48810933 &  48811120 & -1 & ENSG00000273434.1 & 0.000\\\\\n",
       "\t ENSG00000273439 & ZNF8        & 19 &  58790318 &  58807254 &  1 & ENSG00000273439.1 & 0.375\\\\\n",
       "\t ENSG00000273484 & OR6R2P      & 8  &  21654972 &  21655271 &  1 & ENSG00000273484.1 & 0.000\\\\\n",
       "\\end{tabular}\n"
      ],
      "text/markdown": [
       "\n",
       "A data.frame: 33662 × 8\n",
       "\n",
       "| ensembl_gene_id &lt;chr&gt; | hgnc_symbol &lt;chr&gt; | chromosome_name &lt;chr&gt; | start_position &lt;int&gt; | end_position &lt;int&gt; | strand &lt;int&gt; | ENSEMBL &lt;chr&gt; | TPM &lt;dbl&gt; |\n",
       "|---|---|---|---|---|---|---|---|\n",
       "| ENSG00000000003 | TSPAN6   | X  |  99883667 |  99894988 | -1 | ENSG00000000003.10 |  40.355 |\n",
       "| ENSG00000000005 | TNMD     | X  |  99839799 |  99854882 |  1 | ENSG00000000005.5  |   0.000 |\n",
       "| ENSG00000000419 | DPM1     | 20 |  49551404 |  49575092 | -1 | ENSG00000000419.8  |  79.980 |\n",
       "| ENSG00000000457 | SCYL3    | 1  | 169818772 | 169863408 | -1 | ENSG00000000457.9  |   1.830 |\n",
       "| ENSG00000000460 | C1orf112 | 1  | 169631245 | 169823221 |  1 | ENSG00000000460.12 |   2.630 |\n",
       "| ENSG00000000938 | FGR      | 1  |  27938575 |  27961788 | -1 | ENSG00000000938.8  |   0.000 |\n",
       "| ENSG00000000971 | CFH      | 1  | 196621008 | 196716634 |  1 | ENSG00000000971.11 |   0.500 |\n",
       "| ENSG00000001036 | FUCA2    | 6  | 143815948 | 143832827 | -1 | ENSG00000001036.9  |  33.440 |\n",
       "| ENSG00000001084 | GCLC     | 6  |  53362139 |  53481768 | -1 | ENSG00000001084.6  | 320.300 |\n",
       "| ENSG00000001167 | NFYA     | 6  |  41040684 |  41067715 |  1 | ENSG00000001167.10 |  14.010 |\n",
       "| ENSG00000001460 | STPG1    | 1  |  24683489 |  24743424 | -1 | ENSG00000001460.13 |   0.935 |\n",
       "| ENSG00000001461 | NIPAL3   | 1  |  24742284 |  24799466 |  1 | ENSG00000001461.12 |   3.875 |\n",
       "| ENSG00000001497 | LAS1L    | X  |  64732462 |  64754655 | -1 | ENSG00000001497.12 |  20.335 |\n",
       "| ENSG00000001561 | ENPP4    | 6  |  46097730 |  46114436 |  1 | ENSG00000001561.6  |   0.005 |\n",
       "| ENSG00000001617 | SEMA3F   | 3  |  50192478 |  50226508 |  1 | ENSG00000001617.7  |   8.110 |\n",
       "| ENSG00000001626 | CFTR     | 7  | 117105838 | 117356025 |  1 | ENSG00000001626.10 |   0.000 |\n",
       "| ENSG00000001629 | ANKIB1   | 7  |  91875548 |  92030698 |  1 | ENSG00000001629.5  |  19.700 |\n",
       "| ENSG00000001630 | CYP51A1  | 7  |  91741465 |  91772266 | -1 | ENSG00000001630.11 |  61.655 |\n",
       "| ENSG00000001631 | KRIT1    | 7  |  91828283 |  91875480 | -1 | ENSG00000001631.10 |  14.780 |\n",
       "| ENSG00000002016 | RAD52    | 12 |   1021243 |   1099219 | -1 | ENSG00000002016.12 |  13.250 |\n",
       "| ENSG00000002079 | MYH16    | 7  |  98836417 |  98908753 |  1 | ENSG00000002079.8  |   0.475 |\n",
       "| ENSG00000002330 | BAD      | 11 |  64037302 |  64052176 | -1 | ENSG00000002330.9  |   4.780 |\n",
       "| ENSG00000002549 | LAP3     | 4  |  17578815 |  17609595 |  1 | ENSG00000002549.8  | 327.110 |\n",
       "| ENSG00000002586 | CD99     | X  |   2609220 |   2659350 |  1 | ENSG00000002586.13 |  88.750 |\n",
       "| ENSG00000002587 | HS3ST1   | 4  |  11394774 |  11431389 | -1 | ENSG00000002587.5  |   0.000 |\n",
       "| ENSG00000002726 | AOC1     | 7  | 150521715 | 150558592 |  1 | ENSG00000002726.15 |   0.000 |\n",
       "| ENSG00000002745 | WNT16    | 7  | 120965421 | 120981158 |  1 | ENSG00000002745.8  |   0.000 |\n",
       "| ENSG00000002746 | HECW1    | 7  |  43152198 |  43605600 |  1 | ENSG00000002746.10 |   0.000 |\n",
       "| ENSG00000002822 | MAD1L1   | 7  |   1855429 |   2272878 | -1 | ENSG00000002822.11 |  21.015 |\n",
       "| ENSG00000002834 | LASP1    | 17 |  37026112 |  37078023 |  1 | ENSG00000002834.13 | 136.945 |\n",
       "| ⋮ | ⋮ | ⋮ | ⋮ | ⋮ | ⋮ | ⋮ | ⋮ |\n",
       "| ENSG00000272837 | OR10AE3P    | 12 |  56039979 |  56040447 | -1 | ENSG00000272837.1 | 0.000 |\n",
       "| ENSG00000272882 | OR2BH1P     | 11 |  29008182 |  29009045 |  1 | ENSG00000272882.1 | 0.000 |\n",
       "| ENSG00000272887 | CSPG4P5     | 15 |  84956505 |  84962703 | -1 | ENSG00000272887.1 | 0.000 |\n",
       "| ENSG00000272900 | OR10Q2P     | 11 |  58059298 |  58060237 | -1 | ENSG00000272900.1 | 0.000 |\n",
       "| ENSG00000272937 | OR6U2P      | 12 |  56005407 |  56006338 |  1 | ENSG00000272937.1 | 0.000 |\n",
       "| ENSG00000272963 | OR7A19P     | 12 |  46986356 |  46987088 |  1 | ENSG00000272963.1 | 0.000 |\n",
       "| ENSG00000272968 | RBAK-RBAKDN | 7  |   5023349 |   5112852 |  1 | ENSG00000272968.1 | 0.725 |\n",
       "| ENSG00000273015 | LINC00938   | 12 |  46119510 |  46121558 | -1 | ENSG00000273015.1 | 6.330 |\n",
       "| ENSG00000273032 | DGCR9       | 22 |  19005347 |  19007761 |  1 | ENSG00000273032.1 | 0.000 |\n",
       "| ENSG00000273048 | MIR4720     | 16 |  81418623 |  81418698 |  1 | ENSG00000273048.1 | 0.000 |\n",
       "| ENSG00000273051 | OR51F4P     | 11 |   4773276 |   4774174 | -1 | ENSG00000273051.1 | 0.000 |\n",
       "| ENSG00000273079 | GRIN2B      | 12 |  13693165 |  14133053 | -1 | ENSG00000273079.1 | 0.030 |\n",
       "| ENSG00000273164 | DGCR10      | 22 |  19010569 |  19011063 |  1 | ENSG00000273164.1 | 0.000 |\n",
       "| ENSG00000273228 | OR5BQ1P     | 11 |  56796883 |  56797197 |  1 | ENSG00000273228.1 | 0.000 |\n",
       "| ENSG00000273234 | OR2A13P     | 7  | 143839102 | 143840031 |  1 | ENSG00000273234.1 | 0.000 |\n",
       "| ENSG00000273252 | OR7E39P     | 7  |   6875051 |   6875425 | -1 | ENSG00000273252.1 | 0.000 |\n",
       "| ENSG00000273255 | OR5BP1P     | 11 |  56823062 |  56823607 |  1 | ENSG00000273255.1 | 0.000 |\n",
       "| ENSG00000273274 | ZBTB8B      | 1  |  32930670 |  32962287 |  1 | ENSG00000273274.1 | 0.000 |\n",
       "| ENSG00000273311 | DGCR11      | 22 |  19033675 |  19035888 | -1 | ENSG00000273311.1 | 0.055 |\n",
       "| ENSG00000273313 | RBAKDN      | 7  |   5111756 |   5112854 |  1 | ENSG00000273313.1 | 0.000 |\n",
       "| ENSG00000273327 | OR6L2P      | 10 | 135243898 | 135244822 | -1 | ENSG00000273327.1 | 0.140 |\n",
       "| ENSG00000273336 | OR7M1P      | 10 | 135294742 | 135295274 |  1 | ENSG00000273336.1 | 0.740 |\n",
       "| ENSG00000273340 | MICE        | 6  |  29709508 |  29716746 | -1 | ENSG00000273340.1 | 0.295 |\n",
       "| ENSG00000273344 | PAXIP1-AS1  | 7  | 154795158 | 154797413 |  1 | ENSG00000273344.1 | 4.770 |\n",
       "| ENSG00000273377 | OR2Q1P      | 7  | 143677998 | 143678913 |  1 | ENSG00000273377.1 | 0.000 |\n",
       "| ENSG00000273408 | OR5B15P     | 11 |  58155056 |  58155959 | -1 | ENSG00000273408.1 | 0.000 |\n",
       "| ENSG00000273423 | OR13I1P     | 9  | 107392035 | 107393298 |  1 | ENSG00000273423.1 | 0.000 |\n",
       "| ENSG00000273434 | OR8S21P     | 12 |  48810933 |  48811120 | -1 | ENSG00000273434.1 | 0.000 |\n",
       "| ENSG00000273439 | ZNF8        | 19 |  58790318 |  58807254 |  1 | ENSG00000273439.1 | 0.375 |\n",
       "| ENSG00000273484 | OR6R2P      | 8  |  21654972 |  21655271 |  1 | ENSG00000273484.1 | 0.000 |\n",
       "\n"
      ],
      "text/plain": [
       "      ensembl_gene_id hgnc_symbol chromosome_name start_position end_position\n",
       "1     ENSG00000000003 TSPAN6      X                99883667       99894988   \n",
       "2     ENSG00000000005 TNMD        X                99839799       99854882   \n",
       "3     ENSG00000000419 DPM1        20               49551404       49575092   \n",
       "4     ENSG00000000457 SCYL3       1               169818772      169863408   \n",
       "5     ENSG00000000460 C1orf112    1               169631245      169823221   \n",
       "6     ENSG00000000938 FGR         1                27938575       27961788   \n",
       "7     ENSG00000000971 CFH         1               196621008      196716634   \n",
       "8     ENSG00000001036 FUCA2       6               143815948      143832827   \n",
       "9     ENSG00000001084 GCLC        6                53362139       53481768   \n",
       "10    ENSG00000001167 NFYA        6                41040684       41067715   \n",
       "11    ENSG00000001460 STPG1       1                24683489       24743424   \n",
       "12    ENSG00000001461 NIPAL3      1                24742284       24799466   \n",
       "13    ENSG00000001497 LAS1L       X                64732462       64754655   \n",
       "14    ENSG00000001561 ENPP4       6                46097730       46114436   \n",
       "15    ENSG00000001617 SEMA3F      3                50192478       50226508   \n",
       "16    ENSG00000001626 CFTR        7               117105838      117356025   \n",
       "17    ENSG00000001629 ANKIB1      7                91875548       92030698   \n",
       "18    ENSG00000001630 CYP51A1     7                91741465       91772266   \n",
       "19    ENSG00000001631 KRIT1       7                91828283       91875480   \n",
       "20    ENSG00000002016 RAD52       12                1021243        1099219   \n",
       "21    ENSG00000002079 MYH16       7                98836417       98908753   \n",
       "22    ENSG00000002330 BAD         11               64037302       64052176   \n",
       "23    ENSG00000002549 LAP3        4                17578815       17609595   \n",
       "24    ENSG00000002586 CD99        X                 2609220        2659350   \n",
       "25    ENSG00000002587 HS3ST1      4                11394774       11431389   \n",
       "26    ENSG00000002726 AOC1        7               150521715      150558592   \n",
       "27    ENSG00000002745 WNT16       7               120965421      120981158   \n",
       "28    ENSG00000002746 HECW1       7                43152198       43605600   \n",
       "29    ENSG00000002822 MAD1L1      7                 1855429        2272878   \n",
       "30    ENSG00000002834 LASP1       17               37026112       37078023   \n",
       "⋮     ⋮               ⋮           ⋮               ⋮              ⋮           \n",
       "33633 ENSG00000272837 OR10AE3P    12               56039979       56040447   \n",
       "33634 ENSG00000272882 OR2BH1P     11               29008182       29009045   \n",
       "33635 ENSG00000272887 CSPG4P5     15               84956505       84962703   \n",
       "33636 ENSG00000272900 OR10Q2P     11               58059298       58060237   \n",
       "33637 ENSG00000272937 OR6U2P      12               56005407       56006338   \n",
       "33638 ENSG00000272963 OR7A19P     12               46986356       46987088   \n",
       "33639 ENSG00000272968 RBAK-RBAKDN 7                 5023349        5112852   \n",
       "33640 ENSG00000273015 LINC00938   12               46119510       46121558   \n",
       "33641 ENSG00000273032 DGCR9       22               19005347       19007761   \n",
       "33642 ENSG00000273048 MIR4720     16               81418623       81418698   \n",
       "33643 ENSG00000273051 OR51F4P     11                4773276        4774174   \n",
       "33644 ENSG00000273079 GRIN2B      12               13693165       14133053   \n",
       "33645 ENSG00000273164 DGCR10      22               19010569       19011063   \n",
       "33646 ENSG00000273228 OR5BQ1P     11               56796883       56797197   \n",
       "33647 ENSG00000273234 OR2A13P     7               143839102      143840031   \n",
       "33648 ENSG00000273252 OR7E39P     7                 6875051        6875425   \n",
       "33649 ENSG00000273255 OR5BP1P     11               56823062       56823607   \n",
       "33650 ENSG00000273274 ZBTB8B      1                32930670       32962287   \n",
       "33651 ENSG00000273311 DGCR11      22               19033675       19035888   \n",
       "33652 ENSG00000273313 RBAKDN      7                 5111756        5112854   \n",
       "33653 ENSG00000273327 OR6L2P      10              135243898      135244822   \n",
       "33654 ENSG00000273336 OR7M1P      10              135294742      135295274   \n",
       "33655 ENSG00000273340 MICE        6                29709508       29716746   \n",
       "33656 ENSG00000273344 PAXIP1-AS1  7               154795158      154797413   \n",
       "33657 ENSG00000273377 OR2Q1P      7               143677998      143678913   \n",
       "33658 ENSG00000273408 OR5B15P     11               58155056       58155959   \n",
       "33659 ENSG00000273423 OR13I1P     9               107392035      107393298   \n",
       "33660 ENSG00000273434 OR8S21P     12               48810933       48811120   \n",
       "33661 ENSG00000273439 ZNF8        19               58790318       58807254   \n",
       "33662 ENSG00000273484 OR6R2P      8                21654972       21655271   \n",
       "      strand ENSEMBL            TPM    \n",
       "1     -1     ENSG00000000003.10  40.355\n",
       "2      1     ENSG00000000005.5    0.000\n",
       "3     -1     ENSG00000000419.8   79.980\n",
       "4     -1     ENSG00000000457.9    1.830\n",
       "5      1     ENSG00000000460.12   2.630\n",
       "6     -1     ENSG00000000938.8    0.000\n",
       "7      1     ENSG00000000971.11   0.500\n",
       "8     -1     ENSG00000001036.9   33.440\n",
       "9     -1     ENSG00000001084.6  320.300\n",
       "10     1     ENSG00000001167.10  14.010\n",
       "11    -1     ENSG00000001460.13   0.935\n",
       "12     1     ENSG00000001461.12   3.875\n",
       "13    -1     ENSG00000001497.12  20.335\n",
       "14     1     ENSG00000001561.6    0.005\n",
       "15     1     ENSG00000001617.7    8.110\n",
       "16     1     ENSG00000001626.10   0.000\n",
       "17     1     ENSG00000001629.5   19.700\n",
       "18    -1     ENSG00000001630.11  61.655\n",
       "19    -1     ENSG00000001631.10  14.780\n",
       "20    -1     ENSG00000002016.12  13.250\n",
       "21     1     ENSG00000002079.8    0.475\n",
       "22    -1     ENSG00000002330.9    4.780\n",
       "23     1     ENSG00000002549.8  327.110\n",
       "24     1     ENSG00000002586.13  88.750\n",
       "25    -1     ENSG00000002587.5    0.000\n",
       "26     1     ENSG00000002726.15   0.000\n",
       "27     1     ENSG00000002745.8    0.000\n",
       "28     1     ENSG00000002746.10   0.000\n",
       "29    -1     ENSG00000002822.11  21.015\n",
       "30     1     ENSG00000002834.13 136.945\n",
       "⋮     ⋮      ⋮                  ⋮      \n",
       "33633 -1     ENSG00000272837.1  0.000  \n",
       "33634  1     ENSG00000272882.1  0.000  \n",
       "33635 -1     ENSG00000272887.1  0.000  \n",
       "33636 -1     ENSG00000272900.1  0.000  \n",
       "33637  1     ENSG00000272937.1  0.000  \n",
       "33638  1     ENSG00000272963.1  0.000  \n",
       "33639  1     ENSG00000272968.1  0.725  \n",
       "33640 -1     ENSG00000273015.1  6.330  \n",
       "33641  1     ENSG00000273032.1  0.000  \n",
       "33642  1     ENSG00000273048.1  0.000  \n",
       "33643 -1     ENSG00000273051.1  0.000  \n",
       "33644 -1     ENSG00000273079.1  0.030  \n",
       "33645  1     ENSG00000273164.1  0.000  \n",
       "33646  1     ENSG00000273228.1  0.000  \n",
       "33647  1     ENSG00000273234.1  0.000  \n",
       "33648 -1     ENSG00000273252.1  0.000  \n",
       "33649  1     ENSG00000273255.1  0.000  \n",
       "33650  1     ENSG00000273274.1  0.000  \n",
       "33651 -1     ENSG00000273311.1  0.055  \n",
       "33652  1     ENSG00000273313.1  0.000  \n",
       "33653 -1     ENSG00000273327.1  0.140  \n",
       "33654  1     ENSG00000273336.1  0.740  \n",
       "33655 -1     ENSG00000273340.1  0.295  \n",
       "33656  1     ENSG00000273344.1  4.770  \n",
       "33657  1     ENSG00000273377.1  0.000  \n",
       "33658 -1     ENSG00000273408.1  0.000  \n",
       "33659  1     ENSG00000273423.1  0.000  \n",
       "33660 -1     ENSG00000273434.1  0.000  \n",
       "33661  1     ENSG00000273439.1  0.375  \n",
       "33662  1     ENSG00000273484.1  0.000  "
      ]
     },
     "metadata": {},
     "output_type": "display_data"
    }
   ],
   "source": [
    "merge(Liver_ENSEMBLnoVersion_to_GENESYMBOL_hasHGNC, HepG2_ENSG_TPM_avg12_noVersion, by.x = \"ensembl_gene_id\", by.y = \"ENSG\")"
   ]
  },
  {
   "cell_type": "code",
   "execution_count": 15,
   "id": "311b5b27",
   "metadata": {
    "scrolled": true
   },
   "outputs": [
    {
     "data": {
      "text/html": [
       "<table class=\"dataframe\">\n",
       "<caption>A data.frame: 33662 × 7</caption>\n",
       "<thead>\n",
       "\t<tr><th scope=col>chromosome</th><th scope=col>start_position</th><th scope=col>end_position</th><th scope=col>TPM</th><th scope=col>strand</th><th scope=col>hgnc_symbol</th><th scope=col>ensembl_gene_id</th></tr>\n",
       "\t<tr><th scope=col>&lt;chr&gt;</th><th scope=col>&lt;int&gt;</th><th scope=col>&lt;int&gt;</th><th scope=col>&lt;dbl&gt;</th><th scope=col>&lt;int&gt;</th><th scope=col>&lt;chr&gt;</th><th scope=col>&lt;chr&gt;</th></tr>\n",
       "</thead>\n",
       "<tbody>\n",
       "\t<tr><td>chr1</td><td> 11869</td><td> 14412</td><td> 0.000</td><td> 1</td><td>DDX11L1   </td><td>ENSG00000223972</td></tr>\n",
       "\t<tr><td>chr1</td><td> 14363</td><td> 29806</td><td> 6.370</td><td>-1</td><td>WASH7P    </td><td>ENSG00000227232</td></tr>\n",
       "\t<tr><td>chr1</td><td> 29554</td><td> 31109</td><td> 0.000</td><td> 1</td><td>MIR1302-11</td><td>ENSG00000243485</td></tr>\n",
       "\t<tr><td>chr1</td><td> 29554</td><td> 31109</td><td> 0.000</td><td> 1</td><td>MIR1302-10</td><td>ENSG00000243485</td></tr>\n",
       "\t<tr><td>chr1</td><td> 29554</td><td> 31109</td><td> 0.000</td><td> 1</td><td>MIR1302-9 </td><td>ENSG00000243485</td></tr>\n",
       "\t<tr><td>chr1</td><td> 29554</td><td> 31109</td><td> 0.000</td><td> 1</td><td>MIR1302-2 </td><td>ENSG00000243485</td></tr>\n",
       "\t<tr><td>chr1</td><td> 34554</td><td> 36081</td><td> 0.000</td><td>-1</td><td>FAM138A   </td><td>ENSG00000237613</td></tr>\n",
       "\t<tr><td>chr1</td><td> 52473</td><td> 54936</td><td> 0.000</td><td> 1</td><td>OR4G4P    </td><td>ENSG00000268020</td></tr>\n",
       "\t<tr><td>chr1</td><td> 62948</td><td> 63887</td><td> 0.000</td><td> 1</td><td>OR4G11P   </td><td>ENSG00000240361</td></tr>\n",
       "\t<tr><td>chr1</td><td> 69091</td><td> 70008</td><td> 0.000</td><td> 1</td><td>OR4F5     </td><td>ENSG00000186092</td></tr>\n",
       "\t<tr><td>chr1</td><td>131025</td><td>134836</td><td> 0.300</td><td> 1</td><td>CICP27    </td><td>ENSG00000233750</td></tr>\n",
       "\t<tr><td>chr1</td><td>157784</td><td>157887</td><td> 0.000</td><td>-1</td><td>RNU6-1100P</td><td>ENSG00000222623</td></tr>\n",
       "\t<tr><td>chr1</td><td>329431</td><td>332236</td><td> 0.000</td><td>-1</td><td>CICP7     </td><td>ENSG00000233653</td></tr>\n",
       "\t<tr><td>chr1</td><td>367640</td><td>368634</td><td> 0.010</td><td> 1</td><td>OR4F29    </td><td>ENSG00000235249</td></tr>\n",
       "\t<tr><td>chr1</td><td>379105</td><td>379467</td><td> 0.000</td><td>-1</td><td>WBP1LP7   </td><td>ENSG00000269732</td></tr>\n",
       "\t<tr><td>chr1</td><td>564442</td><td>564813</td><td>12.870</td><td> 1</td><td>MTND1P23  </td><td>ENSG00000225972</td></tr>\n",
       "\t<tr><td>chr1</td><td>565020</td><td>566063</td><td>75.700</td><td> 1</td><td>MTND2P28  </td><td>ENSG00000225630</td></tr>\n",
       "\t<tr><td>chr1</td><td>568915</td><td>569121</td><td> 0.825</td><td> 1</td><td>MTATP8P1  </td><td>ENSG00000240409</td></tr>\n",
       "\t<tr><td>chr1</td><td>569076</td><td>569756</td><td>11.235</td><td> 1</td><td>MTATP6P1  </td><td>ENSG00000248527</td></tr>\n",
       "\t<tr><td>chr1</td><td>610222</td><td>610645</td><td> 0.245</td><td> 1</td><td>WBP1LP6   </td><td>ENSG00000268663</td></tr>\n",
       "\t<tr><td>chr1</td><td>621059</td><td>622053</td><td> 0.010</td><td>-1</td><td>OR4F16    </td><td>ENSG00000185097</td></tr>\n",
       "\t<tr><td>chr1</td><td>657472</td><td>660283</td><td> 0.000</td><td> 1</td><td>CICP3     </td><td>ENSG00000229376</td></tr>\n",
       "\t<tr><td>chr1</td><td>693613</td><td>693716</td><td> 0.000</td><td>-1</td><td>RNU6-1199P</td><td>ENSG00000223181</td></tr>\n",
       "\t<tr><td>chr1</td><td>752751</td><td>755214</td><td> 0.030</td><td> 1</td><td>FAM87B    </td><td>ENSG00000177757</td></tr>\n",
       "\t<tr><td>chr1</td><td>761586</td><td>762902</td><td> 4.780</td><td>-1</td><td>LINC00115 </td><td>ENSG00000225880</td></tr>\n",
       "\t<tr><td>chr1</td><td>762988</td><td>794826</td><td>14.950</td><td> 1</td><td>LINC01128 </td><td>ENSG00000228794</td></tr>\n",
       "\t<tr><td>chr1</td><td>803451</td><td>812283</td><td> 0.305</td><td>-1</td><td>FAM41C    </td><td>ENSG00000230368</td></tr>\n",
       "\t<tr><td>chr1</td><td>808672</td><td>809729</td><td> 0.000</td><td> 1</td><td>TUBB8P11  </td><td>ENSG00000234711</td></tr>\n",
       "\t<tr><td>chr1</td><td>860260</td><td>879955</td><td> 0.025</td><td> 1</td><td>SAMD11    </td><td>ENSG00000187634</td></tr>\n",
       "\t<tr><td>chr1</td><td>879584</td><td>894689</td><td>70.250</td><td>-1</td><td>NOC2L     </td><td>ENSG00000188976</td></tr>\n",
       "\t<tr><td>⋮</td><td>⋮</td><td>⋮</td><td>⋮</td><td>⋮</td><td>⋮</td><td>⋮</td></tr>\n",
       "\t<tr><td>chrY</td><td>27876158</td><td>27881307</td><td>0.000</td><td>-1</td><td>USP9YP9   </td><td>ENSG00000232614</td></tr>\n",
       "\t<tr><td>chrY</td><td>27894743</td><td>27896353</td><td>0.000</td><td>-1</td><td>USP9YP19  </td><td>ENSG00000225326</td></tr>\n",
       "\t<tr><td>chrY</td><td>27898535</td><td>27899017</td><td>0.000</td><td> 1</td><td>XKRYP5    </td><td>ENSG00000223406</td></tr>\n",
       "\t<tr><td>chrY</td><td>27959160</td><td>27960713</td><td>0.000</td><td> 1</td><td>CDY22P    </td><td>ENSG00000229343</td></tr>\n",
       "\t<tr><td>chrY</td><td>28007090</td><td>28007415</td><td>0.000</td><td> 1</td><td>TCEB1P17  </td><td>ENSG00000232695</td></tr>\n",
       "\t<tr><td>chrY</td><td>28018078</td><td>28044800</td><td>0.000</td><td>-1</td><td>OFD1P18Y  </td><td>ENSG00000235511</td></tr>\n",
       "\t<tr><td>chrY</td><td>28050665</td><td>28053397</td><td>0.000</td><td> 1</td><td>TRAPPC2P4 </td><td>ENSG00000232914</td></tr>\n",
       "\t<tr><td>chrY</td><td>28064470</td><td>28065042</td><td>0.000</td><td>-1</td><td>RAB9AP3   </td><td>ENSG00000223655</td></tr>\n",
       "\t<tr><td>chrY</td><td>28069535</td><td>28075973</td><td>0.000</td><td> 1</td><td>USP9YP20  </td><td>ENSG00000230854</td></tr>\n",
       "\t<tr><td>chrY</td><td>28075126</td><td>28075289</td><td>0.000</td><td> 1</td><td>RNU1-40P  </td><td>ENSG00000252625</td></tr>\n",
       "\t<tr><td>chrY</td><td>28079980</td><td>28082028</td><td>0.000</td><td>-1</td><td>USP9YP21  </td><td>ENSG00000227635</td></tr>\n",
       "\t<tr><td>chrY</td><td>28089415</td><td>28100299</td><td>0.000</td><td> 1</td><td>XKRYP6    </td><td>ENSG00000237546</td></tr>\n",
       "\t<tr><td>chrY</td><td>28121660</td><td>28134216</td><td>0.000</td><td> 1</td><td>PRYP4     </td><td>ENSG00000172283</td></tr>\n",
       "\t<tr><td>chrY</td><td>28137388</td><td>28137719</td><td>0.000</td><td>-1</td><td>TCEB1P11  </td><td>ENSG00000227867</td></tr>\n",
       "\t<tr><td>chrY</td><td>28140831</td><td>28141844</td><td>0.000</td><td>-1</td><td>CDY23P    </td><td>ENSG00000231716</td></tr>\n",
       "\t<tr><td>chrY</td><td>28148401</td><td>28155003</td><td>0.000</td><td> 1</td><td>USP9YP26  </td><td>ENSG00000234744</td></tr>\n",
       "\t<tr><td>chrY</td><td>28157582</td><td>28158384</td><td>0.000</td><td> 1</td><td>HSFY8P    </td><td>ENSG00000233156</td></tr>\n",
       "\t<tr><td>chrY</td><td>28201926</td><td>28234640</td><td>0.000</td><td>-1</td><td>OFD1P15Y  </td><td>ENSG00000234888</td></tr>\n",
       "\t<tr><td>chrY</td><td>28269821</td><td>28279455</td><td>0.000</td><td> 1</td><td>RBMY2DP   </td><td>ENSG00000215507</td></tr>\n",
       "\t<tr><td>chrY</td><td>28344478</td><td>28354295</td><td>0.000</td><td>-1</td><td>REREP2Y   </td><td>ENSG00000235014</td></tr>\n",
       "\t<tr><td>chrY</td><td>28424070</td><td>28500565</td><td>0.000</td><td>-1</td><td>PPP1R12BP1</td><td>ENSG00000229238</td></tr>\n",
       "\t<tr><td>chrY</td><td>28507136</td><td>28507239</td><td>0.000</td><td> 1</td><td>RNU6-1314P</td><td>ENSG00000252948</td></tr>\n",
       "\t<tr><td>chrY</td><td>28546758</td><td>28547377</td><td>0.000</td><td> 1</td><td>CYCSP48   </td><td>ENSG00000233843</td></tr>\n",
       "\t<tr><td>chrY</td><td>28555962</td><td>28566682</td><td>0.000</td><td> 1</td><td>ANKRD36P1 </td><td>ENSG00000188399</td></tr>\n",
       "\t<tr><td>chrY</td><td>28654360</td><td>28725837</td><td>0.000</td><td> 1</td><td>TPTE2P4   </td><td>ENSG00000215506</td></tr>\n",
       "\t<tr><td>chrY</td><td>28695572</td><td>28695890</td><td>0.000</td><td> 1</td><td>CYCSP49   </td><td>ENSG00000224240</td></tr>\n",
       "\t<tr><td>chrY</td><td>28732789</td><td>28737748</td><td>0.000</td><td>-1</td><td>SLC25A15P1</td><td>ENSG00000227629</td></tr>\n",
       "\t<tr><td>chrY</td><td>28740998</td><td>28780799</td><td>0.055</td><td>-1</td><td>PARP4P1   </td><td>ENSG00000237917</td></tr>\n",
       "\t<tr><td>chrY</td><td>28772667</td><td>28773306</td><td>0.000</td><td>-1</td><td>FAM58CP   </td><td>ENSG00000231514</td></tr>\n",
       "\t<tr><td>chrY</td><td>59001391</td><td>59001635</td><td>0.000</td><td> 1</td><td>CTBP2P1   </td><td>ENSG00000235857</td></tr>\n",
       "</tbody>\n",
       "</table>\n"
      ],
      "text/latex": [
       "A data.frame: 33662 × 7\n",
       "\\begin{tabular}{lllllll}\n",
       " chromosome & start\\_position & end\\_position & TPM & strand & hgnc\\_symbol & ensembl\\_gene\\_id\\\\\n",
       " <chr> & <int> & <int> & <dbl> & <int> & <chr> & <chr>\\\\\n",
       "\\hline\n",
       "\t chr1 &  11869 &  14412 &  0.000 &  1 & DDX11L1    & ENSG00000223972\\\\\n",
       "\t chr1 &  14363 &  29806 &  6.370 & -1 & WASH7P     & ENSG00000227232\\\\\n",
       "\t chr1 &  29554 &  31109 &  0.000 &  1 & MIR1302-11 & ENSG00000243485\\\\\n",
       "\t chr1 &  29554 &  31109 &  0.000 &  1 & MIR1302-10 & ENSG00000243485\\\\\n",
       "\t chr1 &  29554 &  31109 &  0.000 &  1 & MIR1302-9  & ENSG00000243485\\\\\n",
       "\t chr1 &  29554 &  31109 &  0.000 &  1 & MIR1302-2  & ENSG00000243485\\\\\n",
       "\t chr1 &  34554 &  36081 &  0.000 & -1 & FAM138A    & ENSG00000237613\\\\\n",
       "\t chr1 &  52473 &  54936 &  0.000 &  1 & OR4G4P     & ENSG00000268020\\\\\n",
       "\t chr1 &  62948 &  63887 &  0.000 &  1 & OR4G11P    & ENSG00000240361\\\\\n",
       "\t chr1 &  69091 &  70008 &  0.000 &  1 & OR4F5      & ENSG00000186092\\\\\n",
       "\t chr1 & 131025 & 134836 &  0.300 &  1 & CICP27     & ENSG00000233750\\\\\n",
       "\t chr1 & 157784 & 157887 &  0.000 & -1 & RNU6-1100P & ENSG00000222623\\\\\n",
       "\t chr1 & 329431 & 332236 &  0.000 & -1 & CICP7      & ENSG00000233653\\\\\n",
       "\t chr1 & 367640 & 368634 &  0.010 &  1 & OR4F29     & ENSG00000235249\\\\\n",
       "\t chr1 & 379105 & 379467 &  0.000 & -1 & WBP1LP7    & ENSG00000269732\\\\\n",
       "\t chr1 & 564442 & 564813 & 12.870 &  1 & MTND1P23   & ENSG00000225972\\\\\n",
       "\t chr1 & 565020 & 566063 & 75.700 &  1 & MTND2P28   & ENSG00000225630\\\\\n",
       "\t chr1 & 568915 & 569121 &  0.825 &  1 & MTATP8P1   & ENSG00000240409\\\\\n",
       "\t chr1 & 569076 & 569756 & 11.235 &  1 & MTATP6P1   & ENSG00000248527\\\\\n",
       "\t chr1 & 610222 & 610645 &  0.245 &  1 & WBP1LP6    & ENSG00000268663\\\\\n",
       "\t chr1 & 621059 & 622053 &  0.010 & -1 & OR4F16     & ENSG00000185097\\\\\n",
       "\t chr1 & 657472 & 660283 &  0.000 &  1 & CICP3      & ENSG00000229376\\\\\n",
       "\t chr1 & 693613 & 693716 &  0.000 & -1 & RNU6-1199P & ENSG00000223181\\\\\n",
       "\t chr1 & 752751 & 755214 &  0.030 &  1 & FAM87B     & ENSG00000177757\\\\\n",
       "\t chr1 & 761586 & 762902 &  4.780 & -1 & LINC00115  & ENSG00000225880\\\\\n",
       "\t chr1 & 762988 & 794826 & 14.950 &  1 & LINC01128  & ENSG00000228794\\\\\n",
       "\t chr1 & 803451 & 812283 &  0.305 & -1 & FAM41C     & ENSG00000230368\\\\\n",
       "\t chr1 & 808672 & 809729 &  0.000 &  1 & TUBB8P11   & ENSG00000234711\\\\\n",
       "\t chr1 & 860260 & 879955 &  0.025 &  1 & SAMD11     & ENSG00000187634\\\\\n",
       "\t chr1 & 879584 & 894689 & 70.250 & -1 & NOC2L      & ENSG00000188976\\\\\n",
       "\t ⋮ & ⋮ & ⋮ & ⋮ & ⋮ & ⋮ & ⋮\\\\\n",
       "\t chrY & 27876158 & 27881307 & 0.000 & -1 & USP9YP9    & ENSG00000232614\\\\\n",
       "\t chrY & 27894743 & 27896353 & 0.000 & -1 & USP9YP19   & ENSG00000225326\\\\\n",
       "\t chrY & 27898535 & 27899017 & 0.000 &  1 & XKRYP5     & ENSG00000223406\\\\\n",
       "\t chrY & 27959160 & 27960713 & 0.000 &  1 & CDY22P     & ENSG00000229343\\\\\n",
       "\t chrY & 28007090 & 28007415 & 0.000 &  1 & TCEB1P17   & ENSG00000232695\\\\\n",
       "\t chrY & 28018078 & 28044800 & 0.000 & -1 & OFD1P18Y   & ENSG00000235511\\\\\n",
       "\t chrY & 28050665 & 28053397 & 0.000 &  1 & TRAPPC2P4  & ENSG00000232914\\\\\n",
       "\t chrY & 28064470 & 28065042 & 0.000 & -1 & RAB9AP3    & ENSG00000223655\\\\\n",
       "\t chrY & 28069535 & 28075973 & 0.000 &  1 & USP9YP20   & ENSG00000230854\\\\\n",
       "\t chrY & 28075126 & 28075289 & 0.000 &  1 & RNU1-40P   & ENSG00000252625\\\\\n",
       "\t chrY & 28079980 & 28082028 & 0.000 & -1 & USP9YP21   & ENSG00000227635\\\\\n",
       "\t chrY & 28089415 & 28100299 & 0.000 &  1 & XKRYP6     & ENSG00000237546\\\\\n",
       "\t chrY & 28121660 & 28134216 & 0.000 &  1 & PRYP4      & ENSG00000172283\\\\\n",
       "\t chrY & 28137388 & 28137719 & 0.000 & -1 & TCEB1P11   & ENSG00000227867\\\\\n",
       "\t chrY & 28140831 & 28141844 & 0.000 & -1 & CDY23P     & ENSG00000231716\\\\\n",
       "\t chrY & 28148401 & 28155003 & 0.000 &  1 & USP9YP26   & ENSG00000234744\\\\\n",
       "\t chrY & 28157582 & 28158384 & 0.000 &  1 & HSFY8P     & ENSG00000233156\\\\\n",
       "\t chrY & 28201926 & 28234640 & 0.000 & -1 & OFD1P15Y   & ENSG00000234888\\\\\n",
       "\t chrY & 28269821 & 28279455 & 0.000 &  1 & RBMY2DP    & ENSG00000215507\\\\\n",
       "\t chrY & 28344478 & 28354295 & 0.000 & -1 & REREP2Y    & ENSG00000235014\\\\\n",
       "\t chrY & 28424070 & 28500565 & 0.000 & -1 & PPP1R12BP1 & ENSG00000229238\\\\\n",
       "\t chrY & 28507136 & 28507239 & 0.000 &  1 & RNU6-1314P & ENSG00000252948\\\\\n",
       "\t chrY & 28546758 & 28547377 & 0.000 &  1 & CYCSP48    & ENSG00000233843\\\\\n",
       "\t chrY & 28555962 & 28566682 & 0.000 &  1 & ANKRD36P1  & ENSG00000188399\\\\\n",
       "\t chrY & 28654360 & 28725837 & 0.000 &  1 & TPTE2P4    & ENSG00000215506\\\\\n",
       "\t chrY & 28695572 & 28695890 & 0.000 &  1 & CYCSP49    & ENSG00000224240\\\\\n",
       "\t chrY & 28732789 & 28737748 & 0.000 & -1 & SLC25A15P1 & ENSG00000227629\\\\\n",
       "\t chrY & 28740998 & 28780799 & 0.055 & -1 & PARP4P1    & ENSG00000237917\\\\\n",
       "\t chrY & 28772667 & 28773306 & 0.000 & -1 & FAM58CP    & ENSG00000231514\\\\\n",
       "\t chrY & 59001391 & 59001635 & 0.000 &  1 & CTBP2P1    & ENSG00000235857\\\\\n",
       "\\end{tabular}\n"
      ],
      "text/markdown": [
       "\n",
       "A data.frame: 33662 × 7\n",
       "\n",
       "| chromosome &lt;chr&gt; | start_position &lt;int&gt; | end_position &lt;int&gt; | TPM &lt;dbl&gt; | strand &lt;int&gt; | hgnc_symbol &lt;chr&gt; | ensembl_gene_id &lt;chr&gt; |\n",
       "|---|---|---|---|---|---|---|\n",
       "| chr1 |  11869 |  14412 |  0.000 |  1 | DDX11L1    | ENSG00000223972 |\n",
       "| chr1 |  14363 |  29806 |  6.370 | -1 | WASH7P     | ENSG00000227232 |\n",
       "| chr1 |  29554 |  31109 |  0.000 |  1 | MIR1302-11 | ENSG00000243485 |\n",
       "| chr1 |  29554 |  31109 |  0.000 |  1 | MIR1302-10 | ENSG00000243485 |\n",
       "| chr1 |  29554 |  31109 |  0.000 |  1 | MIR1302-9  | ENSG00000243485 |\n",
       "| chr1 |  29554 |  31109 |  0.000 |  1 | MIR1302-2  | ENSG00000243485 |\n",
       "| chr1 |  34554 |  36081 |  0.000 | -1 | FAM138A    | ENSG00000237613 |\n",
       "| chr1 |  52473 |  54936 |  0.000 |  1 | OR4G4P     | ENSG00000268020 |\n",
       "| chr1 |  62948 |  63887 |  0.000 |  1 | OR4G11P    | ENSG00000240361 |\n",
       "| chr1 |  69091 |  70008 |  0.000 |  1 | OR4F5      | ENSG00000186092 |\n",
       "| chr1 | 131025 | 134836 |  0.300 |  1 | CICP27     | ENSG00000233750 |\n",
       "| chr1 | 157784 | 157887 |  0.000 | -1 | RNU6-1100P | ENSG00000222623 |\n",
       "| chr1 | 329431 | 332236 |  0.000 | -1 | CICP7      | ENSG00000233653 |\n",
       "| chr1 | 367640 | 368634 |  0.010 |  1 | OR4F29     | ENSG00000235249 |\n",
       "| chr1 | 379105 | 379467 |  0.000 | -1 | WBP1LP7    | ENSG00000269732 |\n",
       "| chr1 | 564442 | 564813 | 12.870 |  1 | MTND1P23   | ENSG00000225972 |\n",
       "| chr1 | 565020 | 566063 | 75.700 |  1 | MTND2P28   | ENSG00000225630 |\n",
       "| chr1 | 568915 | 569121 |  0.825 |  1 | MTATP8P1   | ENSG00000240409 |\n",
       "| chr1 | 569076 | 569756 | 11.235 |  1 | MTATP6P1   | ENSG00000248527 |\n",
       "| chr1 | 610222 | 610645 |  0.245 |  1 | WBP1LP6    | ENSG00000268663 |\n",
       "| chr1 | 621059 | 622053 |  0.010 | -1 | OR4F16     | ENSG00000185097 |\n",
       "| chr1 | 657472 | 660283 |  0.000 |  1 | CICP3      | ENSG00000229376 |\n",
       "| chr1 | 693613 | 693716 |  0.000 | -1 | RNU6-1199P | ENSG00000223181 |\n",
       "| chr1 | 752751 | 755214 |  0.030 |  1 | FAM87B     | ENSG00000177757 |\n",
       "| chr1 | 761586 | 762902 |  4.780 | -1 | LINC00115  | ENSG00000225880 |\n",
       "| chr1 | 762988 | 794826 | 14.950 |  1 | LINC01128  | ENSG00000228794 |\n",
       "| chr1 | 803451 | 812283 |  0.305 | -1 | FAM41C     | ENSG00000230368 |\n",
       "| chr1 | 808672 | 809729 |  0.000 |  1 | TUBB8P11   | ENSG00000234711 |\n",
       "| chr1 | 860260 | 879955 |  0.025 |  1 | SAMD11     | ENSG00000187634 |\n",
       "| chr1 | 879584 | 894689 | 70.250 | -1 | NOC2L      | ENSG00000188976 |\n",
       "| ⋮ | ⋮ | ⋮ | ⋮ | ⋮ | ⋮ | ⋮ |\n",
       "| chrY | 27876158 | 27881307 | 0.000 | -1 | USP9YP9    | ENSG00000232614 |\n",
       "| chrY | 27894743 | 27896353 | 0.000 | -1 | USP9YP19   | ENSG00000225326 |\n",
       "| chrY | 27898535 | 27899017 | 0.000 |  1 | XKRYP5     | ENSG00000223406 |\n",
       "| chrY | 27959160 | 27960713 | 0.000 |  1 | CDY22P     | ENSG00000229343 |\n",
       "| chrY | 28007090 | 28007415 | 0.000 |  1 | TCEB1P17   | ENSG00000232695 |\n",
       "| chrY | 28018078 | 28044800 | 0.000 | -1 | OFD1P18Y   | ENSG00000235511 |\n",
       "| chrY | 28050665 | 28053397 | 0.000 |  1 | TRAPPC2P4  | ENSG00000232914 |\n",
       "| chrY | 28064470 | 28065042 | 0.000 | -1 | RAB9AP3    | ENSG00000223655 |\n",
       "| chrY | 28069535 | 28075973 | 0.000 |  1 | USP9YP20   | ENSG00000230854 |\n",
       "| chrY | 28075126 | 28075289 | 0.000 |  1 | RNU1-40P   | ENSG00000252625 |\n",
       "| chrY | 28079980 | 28082028 | 0.000 | -1 | USP9YP21   | ENSG00000227635 |\n",
       "| chrY | 28089415 | 28100299 | 0.000 |  1 | XKRYP6     | ENSG00000237546 |\n",
       "| chrY | 28121660 | 28134216 | 0.000 |  1 | PRYP4      | ENSG00000172283 |\n",
       "| chrY | 28137388 | 28137719 | 0.000 | -1 | TCEB1P11   | ENSG00000227867 |\n",
       "| chrY | 28140831 | 28141844 | 0.000 | -1 | CDY23P     | ENSG00000231716 |\n",
       "| chrY | 28148401 | 28155003 | 0.000 |  1 | USP9YP26   | ENSG00000234744 |\n",
       "| chrY | 28157582 | 28158384 | 0.000 |  1 | HSFY8P     | ENSG00000233156 |\n",
       "| chrY | 28201926 | 28234640 | 0.000 | -1 | OFD1P15Y   | ENSG00000234888 |\n",
       "| chrY | 28269821 | 28279455 | 0.000 |  1 | RBMY2DP    | ENSG00000215507 |\n",
       "| chrY | 28344478 | 28354295 | 0.000 | -1 | REREP2Y    | ENSG00000235014 |\n",
       "| chrY | 28424070 | 28500565 | 0.000 | -1 | PPP1R12BP1 | ENSG00000229238 |\n",
       "| chrY | 28507136 | 28507239 | 0.000 |  1 | RNU6-1314P | ENSG00000252948 |\n",
       "| chrY | 28546758 | 28547377 | 0.000 |  1 | CYCSP48    | ENSG00000233843 |\n",
       "| chrY | 28555962 | 28566682 | 0.000 |  1 | ANKRD36P1  | ENSG00000188399 |\n",
       "| chrY | 28654360 | 28725837 | 0.000 |  1 | TPTE2P4    | ENSG00000215506 |\n",
       "| chrY | 28695572 | 28695890 | 0.000 |  1 | CYCSP49    | ENSG00000224240 |\n",
       "| chrY | 28732789 | 28737748 | 0.000 | -1 | SLC25A15P1 | ENSG00000227629 |\n",
       "| chrY | 28740998 | 28780799 | 0.055 | -1 | PARP4P1    | ENSG00000237917 |\n",
       "| chrY | 28772667 | 28773306 | 0.000 | -1 | FAM58CP    | ENSG00000231514 |\n",
       "| chrY | 59001391 | 59001635 | 0.000 |  1 | CTBP2P1    | ENSG00000235857 |\n",
       "\n"
      ],
      "text/plain": [
       "      chromosome start_position end_position TPM    strand hgnc_symbol\n",
       "1     chr1        11869          14412        0.000  1     DDX11L1    \n",
       "2     chr1        14363          29806        6.370 -1     WASH7P     \n",
       "3     chr1        29554          31109        0.000  1     MIR1302-11 \n",
       "4     chr1        29554          31109        0.000  1     MIR1302-10 \n",
       "5     chr1        29554          31109        0.000  1     MIR1302-9  \n",
       "6     chr1        29554          31109        0.000  1     MIR1302-2  \n",
       "7     chr1        34554          36081        0.000 -1     FAM138A    \n",
       "8     chr1        52473          54936        0.000  1     OR4G4P     \n",
       "9     chr1        62948          63887        0.000  1     OR4G11P    \n",
       "10    chr1        69091          70008        0.000  1     OR4F5      \n",
       "11    chr1       131025         134836        0.300  1     CICP27     \n",
       "12    chr1       157784         157887        0.000 -1     RNU6-1100P \n",
       "13    chr1       329431         332236        0.000 -1     CICP7      \n",
       "14    chr1       367640         368634        0.010  1     OR4F29     \n",
       "15    chr1       379105         379467        0.000 -1     WBP1LP7    \n",
       "16    chr1       564442         564813       12.870  1     MTND1P23   \n",
       "17    chr1       565020         566063       75.700  1     MTND2P28   \n",
       "18    chr1       568915         569121        0.825  1     MTATP8P1   \n",
       "19    chr1       569076         569756       11.235  1     MTATP6P1   \n",
       "20    chr1       610222         610645        0.245  1     WBP1LP6    \n",
       "21    chr1       621059         622053        0.010 -1     OR4F16     \n",
       "22    chr1       657472         660283        0.000  1     CICP3      \n",
       "23    chr1       693613         693716        0.000 -1     RNU6-1199P \n",
       "24    chr1       752751         755214        0.030  1     FAM87B     \n",
       "25    chr1       761586         762902        4.780 -1     LINC00115  \n",
       "26    chr1       762988         794826       14.950  1     LINC01128  \n",
       "27    chr1       803451         812283        0.305 -1     FAM41C     \n",
       "28    chr1       808672         809729        0.000  1     TUBB8P11   \n",
       "29    chr1       860260         879955        0.025  1     SAMD11     \n",
       "30    chr1       879584         894689       70.250 -1     NOC2L      \n",
       "⋮     ⋮          ⋮              ⋮            ⋮      ⋮      ⋮          \n",
       "33633 chrY       27876158       27881307     0.000  -1     USP9YP9    \n",
       "33634 chrY       27894743       27896353     0.000  -1     USP9YP19   \n",
       "33635 chrY       27898535       27899017     0.000   1     XKRYP5     \n",
       "33636 chrY       27959160       27960713     0.000   1     CDY22P     \n",
       "33637 chrY       28007090       28007415     0.000   1     TCEB1P17   \n",
       "33638 chrY       28018078       28044800     0.000  -1     OFD1P18Y   \n",
       "33639 chrY       28050665       28053397     0.000   1     TRAPPC2P4  \n",
       "33640 chrY       28064470       28065042     0.000  -1     RAB9AP3    \n",
       "33641 chrY       28069535       28075973     0.000   1     USP9YP20   \n",
       "33642 chrY       28075126       28075289     0.000   1     RNU1-40P   \n",
       "33643 chrY       28079980       28082028     0.000  -1     USP9YP21   \n",
       "33644 chrY       28089415       28100299     0.000   1     XKRYP6     \n",
       "33645 chrY       28121660       28134216     0.000   1     PRYP4      \n",
       "33646 chrY       28137388       28137719     0.000  -1     TCEB1P11   \n",
       "33647 chrY       28140831       28141844     0.000  -1     CDY23P     \n",
       "33648 chrY       28148401       28155003     0.000   1     USP9YP26   \n",
       "33649 chrY       28157582       28158384     0.000   1     HSFY8P     \n",
       "33650 chrY       28201926       28234640     0.000  -1     OFD1P15Y   \n",
       "33651 chrY       28269821       28279455     0.000   1     RBMY2DP    \n",
       "33652 chrY       28344478       28354295     0.000  -1     REREP2Y    \n",
       "33653 chrY       28424070       28500565     0.000  -1     PPP1R12BP1 \n",
       "33654 chrY       28507136       28507239     0.000   1     RNU6-1314P \n",
       "33655 chrY       28546758       28547377     0.000   1     CYCSP48    \n",
       "33656 chrY       28555962       28566682     0.000   1     ANKRD36P1  \n",
       "33657 chrY       28654360       28725837     0.000   1     TPTE2P4    \n",
       "33658 chrY       28695572       28695890     0.000   1     CYCSP49    \n",
       "33659 chrY       28732789       28737748     0.000  -1     SLC25A15P1 \n",
       "33660 chrY       28740998       28780799     0.055  -1     PARP4P1    \n",
       "33661 chrY       28772667       28773306     0.000  -1     FAM58CP    \n",
       "33662 chrY       59001391       59001635     0.000   1     CTBP2P1    \n",
       "      ensembl_gene_id\n",
       "1     ENSG00000223972\n",
       "2     ENSG00000227232\n",
       "3     ENSG00000243485\n",
       "4     ENSG00000243485\n",
       "5     ENSG00000243485\n",
       "6     ENSG00000243485\n",
       "7     ENSG00000237613\n",
       "8     ENSG00000268020\n",
       "9     ENSG00000240361\n",
       "10    ENSG00000186092\n",
       "11    ENSG00000233750\n",
       "12    ENSG00000222623\n",
       "13    ENSG00000233653\n",
       "14    ENSG00000235249\n",
       "15    ENSG00000269732\n",
       "16    ENSG00000225972\n",
       "17    ENSG00000225630\n",
       "18    ENSG00000240409\n",
       "19    ENSG00000248527\n",
       "20    ENSG00000268663\n",
       "21    ENSG00000185097\n",
       "22    ENSG00000229376\n",
       "23    ENSG00000223181\n",
       "24    ENSG00000177757\n",
       "25    ENSG00000225880\n",
       "26    ENSG00000228794\n",
       "27    ENSG00000230368\n",
       "28    ENSG00000234711\n",
       "29    ENSG00000187634\n",
       "30    ENSG00000188976\n",
       "⋮     ⋮              \n",
       "33633 ENSG00000232614\n",
       "33634 ENSG00000225326\n",
       "33635 ENSG00000223406\n",
       "33636 ENSG00000229343\n",
       "33637 ENSG00000232695\n",
       "33638 ENSG00000235511\n",
       "33639 ENSG00000232914\n",
       "33640 ENSG00000223655\n",
       "33641 ENSG00000230854\n",
       "33642 ENSG00000252625\n",
       "33643 ENSG00000227635\n",
       "33644 ENSG00000237546\n",
       "33645 ENSG00000172283\n",
       "33646 ENSG00000227867\n",
       "33647 ENSG00000231716\n",
       "33648 ENSG00000234744\n",
       "33649 ENSG00000233156\n",
       "33650 ENSG00000234888\n",
       "33651 ENSG00000215507\n",
       "33652 ENSG00000235014\n",
       "33653 ENSG00000229238\n",
       "33654 ENSG00000252948\n",
       "33655 ENSG00000233843\n",
       "33656 ENSG00000188399\n",
       "33657 ENSG00000215506\n",
       "33658 ENSG00000224240\n",
       "33659 ENSG00000227629\n",
       "33660 ENSG00000237917\n",
       "33661 ENSG00000231514\n",
       "33662 ENSG00000235857"
      ]
     },
     "metadata": {},
     "output_type": "display_data"
    }
   ],
   "source": [
    "# merge, sort columns, sort BED coordinates\n",
    "HepG2_ENSG_TPM_avg12_noVersion_hasHGNC <- merge(Liver_ENSEMBLnoVersion_to_GENESYMBOL_hasHGNC, HepG2_ENSG_TPM_avg12_noVersion, by.x = \"ensembl_gene_id\", by.y = \"ENSG\") %>% \n",
    "mutate(chromosome = paste0(\"chr\", chromosome_name)) %>% \n",
    "dplyr::select(chromosome, start_position, end_position, TPM, strand, hgnc_symbol, ensembl_gene_id) %>% arrange(chromosome, start_position)\n",
    "\n",
    "HepG2_ENSG_TPM_avg12_noVersion_hasHGNC"
   ]
  },
  {
   "cell_type": "code",
   "execution_count": 16,
   "id": "dbe4878d",
   "metadata": {},
   "outputs": [],
   "source": [
    "write_tsv(HepG2_ENSG_TPM_avg12_noVersion_hasHGNC, \"HepG2_ENSG_TPM_avg12_noVersion_hasHGNC.txt\", col_names = TRUE)"
   ]
  },
  {
   "cell_type": "markdown",
   "id": "87c49854",
   "metadata": {},
   "source": [
    "#### Adjust BED coordinates for TSS based on strand"
   ]
  },
  {
   "cell_type": "code",
   "execution_count": 17,
   "id": "f3f7c66a",
   "metadata": {
    "scrolled": true
   },
   "outputs": [
    {
     "data": {
      "text/html": [
       "<table class=\"dataframe\">\n",
       "<caption>A data.frame: 3 × 8</caption>\n",
       "<thead>\n",
       "\t<tr><th></th><th scope=col>chromosome</th><th scope=col>start_position</th><th scope=col>end_position</th><th scope=col>TPM</th><th scope=col>strand</th><th scope=col>hgnc_symbol</th><th scope=col>ensembl_gene_id</th><th scope=col>TSS_start</th></tr>\n",
       "\t<tr><th></th><th scope=col>&lt;chr&gt;</th><th scope=col>&lt;int&gt;</th><th scope=col>&lt;int&gt;</th><th scope=col>&lt;dbl&gt;</th><th scope=col>&lt;int&gt;</th><th scope=col>&lt;chr&gt;</th><th scope=col>&lt;chr&gt;</th><th scope=col>&lt;int&gt;</th></tr>\n",
       "</thead>\n",
       "<tbody>\n",
       "\t<tr><th scope=row>1</th><td>chr1</td><td>11869</td><td>14412</td><td>0.00</td><td> 1</td><td>DDX11L1   </td><td>ENSG00000223972</td><td>11869</td></tr>\n",
       "\t<tr><th scope=row>2</th><td>chr1</td><td>14363</td><td>29806</td><td>6.37</td><td>-1</td><td>WASH7P    </td><td>ENSG00000227232</td><td>29806</td></tr>\n",
       "\t<tr><th scope=row>3</th><td>chr1</td><td>29554</td><td>31109</td><td>0.00</td><td> 1</td><td>MIR1302-11</td><td>ENSG00000243485</td><td>29554</td></tr>\n",
       "</tbody>\n",
       "</table>\n"
      ],
      "text/latex": [
       "A data.frame: 3 × 8\n",
       "\\begin{tabular}{r|llllllll}\n",
       "  & chromosome & start\\_position & end\\_position & TPM & strand & hgnc\\_symbol & ensembl\\_gene\\_id & TSS\\_start\\\\\n",
       "  & <chr> & <int> & <int> & <dbl> & <int> & <chr> & <chr> & <int>\\\\\n",
       "\\hline\n",
       "\t1 & chr1 & 11869 & 14412 & 0.00 &  1 & DDX11L1    & ENSG00000223972 & 11869\\\\\n",
       "\t2 & chr1 & 14363 & 29806 & 6.37 & -1 & WASH7P     & ENSG00000227232 & 29806\\\\\n",
       "\t3 & chr1 & 29554 & 31109 & 0.00 &  1 & MIR1302-11 & ENSG00000243485 & 29554\\\\\n",
       "\\end{tabular}\n"
      ],
      "text/markdown": [
       "\n",
       "A data.frame: 3 × 8\n",
       "\n",
       "| <!--/--> | chromosome &lt;chr&gt; | start_position &lt;int&gt; | end_position &lt;int&gt; | TPM &lt;dbl&gt; | strand &lt;int&gt; | hgnc_symbol &lt;chr&gt; | ensembl_gene_id &lt;chr&gt; | TSS_start &lt;int&gt; |\n",
       "|---|---|---|---|---|---|---|---|---|\n",
       "| 1 | chr1 | 11869 | 14412 | 0.00 |  1 | DDX11L1    | ENSG00000223972 | 11869 |\n",
       "| 2 | chr1 | 14363 | 29806 | 6.37 | -1 | WASH7P     | ENSG00000227232 | 29806 |\n",
       "| 3 | chr1 | 29554 | 31109 | 0.00 |  1 | MIR1302-11 | ENSG00000243485 | 29554 |\n",
       "\n"
      ],
      "text/plain": [
       "  chromosome start_position end_position TPM  strand hgnc_symbol\n",
       "1 chr1       11869          14412        0.00  1     DDX11L1    \n",
       "2 chr1       14363          29806        6.37 -1     WASH7P     \n",
       "3 chr1       29554          31109        0.00  1     MIR1302-11 \n",
       "  ensembl_gene_id TSS_start\n",
       "1 ENSG00000223972 11869    \n",
       "2 ENSG00000227232 29806    \n",
       "3 ENSG00000243485 29554    "
      ]
     },
     "metadata": {},
     "output_type": "display_data"
    }
   ],
   "source": [
    "HepG2_ENSG_TPM_avg12_noVersion_hasHGNC_TSSstart <- HepG2_ENSG_TPM_avg12_noVersion_hasHGNC %>% mutate(TSS_start = case_when(\n",
    "    (strand == \"1\") ~ start_position,\n",
    "    (strand == \"-1\") ~ end_position\n",
    ")) %>% arrange(chromosome, start_position)\n",
    "head(HepG2_ENSG_TPM_avg12_noVersion_hasHGNC_TSSstart, 3)"
   ]
  },
  {
   "cell_type": "code",
   "execution_count": 18,
   "id": "e4465f3a",
   "metadata": {},
   "outputs": [
    {
     "data": {
      "text/html": [
       "33662"
      ],
      "text/latex": [
       "33662"
      ],
      "text/markdown": [
       "33662"
      ],
      "text/plain": [
       "[1] 33662"
      ]
     },
     "metadata": {},
     "output_type": "display_data"
    },
    {
     "data": {
      "text/html": [
       "<table class=\"dataframe\">\n",
       "<caption>A data.frame: 3 × 7</caption>\n",
       "<thead>\n",
       "\t<tr><th></th><th scope=col>chromosome</th><th scope=col>TSS_start</th><th scope=col>TSS_end</th><th scope=col>TPM</th><th scope=col>strand</th><th scope=col>hgnc_symbol</th><th scope=col>ensembl_gene_id</th></tr>\n",
       "\t<tr><th></th><th scope=col>&lt;chr&gt;</th><th scope=col>&lt;int&gt;</th><th scope=col>&lt;dbl&gt;</th><th scope=col>&lt;dbl&gt;</th><th scope=col>&lt;int&gt;</th><th scope=col>&lt;chr&gt;</th><th scope=col>&lt;chr&gt;</th></tr>\n",
       "</thead>\n",
       "<tbody>\n",
       "\t<tr><th scope=row>1</th><td>chr1</td><td>11869</td><td>11870</td><td>0</td><td>1</td><td>DDX11L1   </td><td>ENSG00000223972</td></tr>\n",
       "\t<tr><th scope=row>2</th><td>chr1</td><td>29554</td><td>29555</td><td>0</td><td>1</td><td>MIR1302-11</td><td>ENSG00000243485</td></tr>\n",
       "\t<tr><th scope=row>3</th><td>chr1</td><td>29554</td><td>29555</td><td>0</td><td>1</td><td>MIR1302-10</td><td>ENSG00000243485</td></tr>\n",
       "</tbody>\n",
       "</table>\n"
      ],
      "text/latex": [
       "A data.frame: 3 × 7\n",
       "\\begin{tabular}{r|lllllll}\n",
       "  & chromosome & TSS\\_start & TSS\\_end & TPM & strand & hgnc\\_symbol & ensembl\\_gene\\_id\\\\\n",
       "  & <chr> & <int> & <dbl> & <dbl> & <int> & <chr> & <chr>\\\\\n",
       "\\hline\n",
       "\t1 & chr1 & 11869 & 11870 & 0 & 1 & DDX11L1    & ENSG00000223972\\\\\n",
       "\t2 & chr1 & 29554 & 29555 & 0 & 1 & MIR1302-11 & ENSG00000243485\\\\\n",
       "\t3 & chr1 & 29554 & 29555 & 0 & 1 & MIR1302-10 & ENSG00000243485\\\\\n",
       "\\end{tabular}\n"
      ],
      "text/markdown": [
       "\n",
       "A data.frame: 3 × 7\n",
       "\n",
       "| <!--/--> | chromosome &lt;chr&gt; | TSS_start &lt;int&gt; | TSS_end &lt;dbl&gt; | TPM &lt;dbl&gt; | strand &lt;int&gt; | hgnc_symbol &lt;chr&gt; | ensembl_gene_id &lt;chr&gt; |\n",
       "|---|---|---|---|---|---|---|---|\n",
       "| 1 | chr1 | 11869 | 11870 | 0 | 1 | DDX11L1    | ENSG00000223972 |\n",
       "| 2 | chr1 | 29554 | 29555 | 0 | 1 | MIR1302-11 | ENSG00000243485 |\n",
       "| 3 | chr1 | 29554 | 29555 | 0 | 1 | MIR1302-10 | ENSG00000243485 |\n",
       "\n"
      ],
      "text/plain": [
       "  chromosome TSS_start TSS_end TPM strand hgnc_symbol ensembl_gene_id\n",
       "1 chr1       11869     11870   0   1      DDX11L1     ENSG00000223972\n",
       "2 chr1       29554     29555   0   1      MIR1302-11  ENSG00000243485\n",
       "3 chr1       29554     29555   0   1      MIR1302-10  ENSG00000243485"
      ]
     },
     "metadata": {},
     "output_type": "display_data"
    }
   ],
   "source": [
    "HepG2_ENSG_TPM_avg12_noVersion_hasHGNC_TSScoords <- HepG2_ENSG_TPM_avg12_noVersion_hasHGNC_TSSstart %>% dplyr::mutate(TSS_end = (TSS_start + 1)) %>% dplyr::select(chromosome, TSS_start, TSS_end, TPM, strand, hgnc_symbol, ensembl_gene_id) %>% dplyr::arrange(chromosome, TSS_start)\n",
    "\n",
    "nrow(HepG2_ENSG_TPM_avg12_noVersion_hasHGNC_TSScoords)\n",
    "head(HepG2_ENSG_TPM_avg12_noVersion_hasHGNC_TSScoords, 3)\n"
   ]
  },
  {
   "cell_type": "markdown",
   "id": "e6dea8dd",
   "metadata": {},
   "source": [
    "#### Filter for TPM"
   ]
  },
  {
   "cell_type": "code",
   "execution_count": 20,
   "id": "58cad7f4",
   "metadata": {
    "scrolled": true
   },
   "outputs": [],
   "source": [
    "HepG2_ENSG_TPM_avg12_noVersion_hasHGNC_minTPM0 <- HepG2_ENSG_TPM_avg12_noVersion_hasHGNC_TSScoords %>% filter(TPM > 0)\n",
    "\n",
    "write_tsv(HepG2_ENSG_TPM_avg12_noVersion_hasHGNC_minTPM0, \"HepG2_ENSG_TPM_avg12_noVersion_hasHGNC_minTPM0.withHeaders.txt\", col_names = TRUE)\n",
    "write_tsv(HepG2_ENSG_TPM_avg12_noVersion_hasHGNC_minTPM0, \"HepG2_ENSG_TPM_avg12_noVersion_hasHGNC_minTPM0.txt\", col_names = FALSE)"
   ]
  },
  {
   "cell_type": "markdown",
   "id": "dd8a2db0",
   "metadata": {},
   "source": [
    "# Get 2NN"
   ]
  },
  {
   "cell_type": "code",
   "execution_count": 1,
   "id": "bc4d73fd",
   "metadata": {},
   "outputs": [
    {
     "name": "stdout",
     "output_type": "stream",
     "text": [
      "Done liver.\n"
     ]
    }
   ],
   "source": [
    "HOME_DIR=/data/hodges_lab/Tim/nnRNA_TPM_EHGM/\n",
    "mkdir -p ${HOME_DIR}\n",
    "REF_DIR=${HOME_DIR}reference_files/\n",
    "\n",
    "# Directory \n",
    "mkdir -p ${HOME_DIR}intermediate_files\n",
    "cd ${HOME_DIR}intermediate_files\n",
    "\n",
    "INTER_DIR=${HOME_DIR}intermediate_files/\n",
    "REF_DIR=${HOME_DIR}reference_files/\n",
    "OUT_DIR=${HOME_DIR}output_files/\n",
    "\n",
    "echo \"Done liver.\""
   ]
  },
  {
   "cell_type": "code",
   "execution_count": 2,
   "id": "a2869124",
   "metadata": {},
   "outputs": [
    {
     "name": "stdout",
     "output_type": "stream",
     "text": [
      "Done.\n"
     ]
    }
   ],
   "source": [
    "# Bcell \n",
    "bedtools sort -i ${REF_DIR}HepG2_ENSG_TPM_avg12_noVersion_hasHGNC_minTPM0.txt | awk 'BEGIN{OFS=FS=\"\\t\"}{print }' - > ${REF_DIR}HepG2_ENSG_TPM_avg12_noVersion_hasHGNC_minTPM0.sorted.txt\n",
    "\n",
    "echo \"Done.\""
   ]
  },
  {
   "cell_type": "code",
   "execution_count": 3,
   "id": "5827e6a7",
   "metadata": {},
   "outputs": [
    {
     "name": "stdout",
     "output_type": "stream",
     "text": [
      "Done.\n"
     ]
    }
   ],
   "source": [
    "# Initalize HMR files \n",
    "Liver_CLUSTERED_CS_FILE=/data/hodges_lab/Tim/finalAnalyses_HMRs/hp_lineage/HMRs/Liver_internalClusters_individualHMRs_cellspecific_hpl.txt\n",
    "Liver_UNCLUSTERED_CS_FILE=/data/hodges_lab/Tim/finalAnalyses_HMRs/hp_lineage/HMRs/Liver_unclustered_cellspecific_hpl.txt\n",
    "\n",
    "awk 'BEGIN{OFS=FS=\"\\t\"}{print $1,$2,$3,\"Liver_ClusteredCS\"}' ${Liver_CLUSTERED_CS_FILE} | bedtools sort -i - > ${INTER_DIR}Liver.clustered_cs.tmp_sorted.txt\n",
    "awk 'BEGIN{OFS=FS=\"\\t\"}{print $1,$2,$3,\"Liver_UnclusteredCS\"}' ${Liver_UNCLUSTERED_CS_FILE} | bedtools sort -i - > ${INTER_DIR}Liver.unclustered_cs.tmp_sorted.txt\n",
    "\n",
    "echo \"Done.\""
   ]
  },
  {
   "cell_type": "code",
   "execution_count": null,
   "id": "fc7f16bb",
   "metadata": {},
   "outputs": [],
   "source": [
    "# Clusters contain cell specific "
   ]
  },
  {
   "cell_type": "code",
   "execution_count": 4,
   "id": "a00dd80e",
   "metadata": {},
   "outputs": [
    {
     "name": "stdout",
     "output_type": "stream",
     "text": [
      "798 /data/hodges_lab/Tim/nnRNA_TPM_EHGM/intermediate_files/Liver_internalClusters_hpl.containsCellSpecificHMR.txt\n"
     ]
    }
   ],
   "source": [
    "## How many clusters are represented by the individual clustered cell specific HMRs\n",
    "bedtools intersect -u -a /data/hodges_lab/Tim/finalAnalyses_HMRs/hp_lineage/HMRs/Liver_internalClusters_hpl.txt -b /data/hodges_lab/Tim/finalAnalyses_HMRs/hp_lineage/HMRs/Liver_internalClusters_individualHMRs_cellspecific_hpl.txt > ${INTER_DIR}Liver_internalClusters_hpl.containsCellSpecificHMR.txt\n",
    "\n",
    "wc -l ${INTER_DIR}Liver_internalClusters_hpl.containsCellSpecificHMR.txt\n",
    "\n",
    "awk 'BEGIN{OFS=FS=\"\\t\"}{print $1,$2,$3,\"Bcell_ClusteredCS\"}' ${INTER_DIR}Liver_internalClusters_hpl.containsCellSpecificHMR.txt | bedtools sort -i - > ${INTER_DIR}Liver_internalClusters_hpl.containsCellSpecificHMR.tmp_sorted.txt"
   ]
  },
  {
   "cell_type": "code",
   "execution_count": null,
   "id": "6fbe4801",
   "metadata": {},
   "outputs": [],
   "source": [
    "# Clusters contain cell specific "
   ]
  },
  {
   "cell_type": "code",
   "execution_count": 2,
   "id": "e10eac46",
   "metadata": {},
   "outputs": [
    {
     "name": "stdout",
     "output_type": "stream",
     "text": [
      "Done.\n"
     ]
    }
   ],
   "source": [
    "bedtools closest -d -k 2 -a ${INTER_DIR}Liver_internalClusters_hpl.containsCellSpecificHMR.tmp_sorted.txt -b ${REF_DIR}HepG2_ENSG_TPM_avg12_noVersion_hasHGNC_minTPM0.sorted.txt > ${INTER_DIR}Liver_clusters_containsCS.2NN.HepG2_ENSGnoVersionGENESYMBOL_minTPM0.txt\n",
    "\n",
    "echo \"Done.\""
   ]
  },
  {
   "cell_type": "code",
   "execution_count": 3,
   "id": "e5bc07b2",
   "metadata": {},
   "outputs": [
    {
     "name": "stdout",
     "output_type": "stream",
     "text": [
      "Done.\n"
     ]
    }
   ],
   "source": [
    "# bedtools closest -d -k 2 -a ${INTER_DIR}Bcell.clustered_cs.tmp_sorted.txt -b ${REF_DIR}GM_ENSGGENESYMBOL_minTPM0.sorted.txt > ${INTER_DIR}Bcell_clustered_cellspecific.2NN.GM_ENSGGENESYMBOL_minTPM0.txt\n",
    "\n",
    "bedtools closest -d -k 2 -a ${INTER_DIR}Liver.unclustered_cs.tmp_sorted.txt -b ${REF_DIR}HepG2_ENSG_TPM_avg12_noVersion_hasHGNC_minTPM0.sorted.txt > ${INTER_DIR}Liver_unclustered_cellspecific.2NN.HepG2_ENSGnoVersionGENESYMBOL_minTPM0.txt\n",
    "\n",
    "echo \"Done.\""
   ]
  },
  {
   "cell_type": "code",
   "execution_count": 4,
   "id": "4bbd5aef",
   "metadata": {},
   "outputs": [
    {
     "name": "stdout",
     "output_type": "stream",
     "text": [
      "1604 /data/hodges_lab/Tim/nnRNA_TPM_EHGM/intermediate_files/Liver_clusters_containsCS.2NN.HepG2_ENSGnoVersionGENESYMBOL_minTPM0.txt\n",
      "10852 /data/hodges_lab/Tim/nnRNA_TPM_EHGM/intermediate_files/Liver_unclustered_cellspecific.2NN.HepG2_ENSGnoVersionGENESYMBOL_minTPM0.txt\n"
     ]
    }
   ],
   "source": [
    "wc -l ${INTER_DIR}Liver_clusters_containsCS.2NN.HepG2_ENSGnoVersionGENESYMBOL_minTPM0.txt\n",
    "wc -l ${INTER_DIR}Liver_unclustered_cellspecific.2NN.HepG2_ENSGnoVersionGENESYMBOL_minTPM0.txt"
   ]
  },
  {
   "cell_type": "markdown",
   "id": "b8a216d6",
   "metadata": {},
   "source": [
    "# TAD Filter"
   ]
  },
  {
   "cell_type": "code",
   "execution_count": 5,
   "id": "362c5606",
   "metadata": {},
   "outputs": [
    {
     "name": "stdout",
     "output_type": "stream",
     "text": [
      "Made continuous BED file.\n"
     ]
    }
   ],
   "source": [
    "# Intersect 2NN file with TADs\n",
    "\n",
    "# First, create an HMR-Gene end-to-end BED file:\n",
    "#\"ChrHMRProm\",\"StartHMRProm\",\"EndHMRProm\",\"ChrHMR\",\"StartHMR\",\"EndHMR\",\"ChrProm\",\"StartProm\",\"EndProm\",\"ENSEMBL\",\"TPM\",\"HMRPromDist\",\"HMRGroup\"\n",
    "\n",
    "# Check if HMR is before the TSS, else, TSS before  \n",
    "awk 'BEGIN{OFS=FS=\"\\t\"}{if ($2<$6)\n",
    "print $1,$2,$7,$1,$2,$3,$4,$5,$6,$7,$8,$9,$10,$11,$12;\n",
    "else print $1,$6,$3,$1,$2,$3,$4,$5,$6,$7,$8,$9,$10,$11,$12;\n",
    "}' ${INTER_DIR}Liver_clusters_containsCS.2NN.HepG2_ENSGnoVersionGENESYMBOL_minTPM0.txt | awk 'BEGIN{OFS=FS=\"\\t\"}{if ($2!~/-1/) print}' - > ${INTER_DIR}Liver_clusters_containsCS.2NN.HepG2_ENSGnoVersionGENESYMBOL_minTPM0.ContinuousBEDFormat.txt \n",
    "\n",
    "awk 'BEGIN{OFS=FS=\"\\t\"}{if ($2<$6)\n",
    "print $1,$2,$7,$1,$2,$3,$4,$5,$6,$7,$8,$9,$10,$11,$12;\n",
    "else print $1,$6,$3,$1,$2,$3,$4,$5,$6,$7,$8,$9,$10,$11,$12;\n",
    "}' ${INTER_DIR}Liver_unclustered_cellspecific.2NN.HepG2_ENSGnoVersionGENESYMBOL_minTPM0.txt | awk 'BEGIN{OFS=FS=\"\\t\"}{if ($2!~/-1/) print}' - > ${INTER_DIR}Liver_unclustered_cellspecific.2NN.HepG2_ENSGnoVersionGENESYMBOL_minTPM0.ContinuousBEDFormat.txt\n",
    "\n",
    "echo \"Made continuous BED file.\"\n"
   ]
  },
  {
   "cell_type": "code",
   "execution_count": 6,
   "id": "57ce0abf",
   "metadata": {},
   "outputs": [
    {
     "name": "stdout",
     "output_type": "stream",
     "text": [
      "Done.\n"
     ]
    }
   ],
   "source": [
    "bedtools intersect -f 1.0 -a ${INTER_DIR}Liver_clusters_containsCS.2NN.HepG2_ENSGnoVersionGENESYMBOL_minTPM0.ContinuousBEDFormat.txt \\\n",
    "-b ${REF_DIR}Liver_STL011_Leung2015-raw_TADs.txt > ${INTER_DIR}Liver_clusters_containsCS.2NN.HepG2_ENSGnoVersionGENESYMBOL_minTPM0.TAD_filtered.txt\n",
    "\n",
    "bedtools intersect -f 1.0 -a ${INTER_DIR}Liver_unclustered_cellspecific.2NN.HepG2_ENSGnoVersionGENESYMBOL_minTPM0.ContinuousBEDFormat.txt  \\\n",
    "-b ${REF_DIR}Liver_STL011_Leung2015-raw_TADs.txt > ${INTER_DIR}Liver_unclustered_cellspecific.2NN.HepG2_ENSGnoVersionGENESYMBOL_minTPM0.TAD_filtered.txt\n",
    "\n",
    "echo \"Done.\""
   ]
  },
  {
   "cell_type": "code",
   "execution_count": 7,
   "id": "6418c0aa",
   "metadata": {},
   "outputs": [
    {
     "name": "stdout",
     "output_type": "stream",
     "text": [
      "1604 /data/hodges_lab/Tim/nnRNA_TPM_EHGM/intermediate_files/Liver_clusters_containsCS.2NN.HepG2_ENSGnoVersionGENESYMBOL_minTPM0.ContinuousBEDFormat.txt\n",
      "644 /data/hodges_lab/Tim/nnRNA_TPM_EHGM/intermediate_files/Liver_clusters_containsCS.2NN.HepG2_ENSGnoVersionGENESYMBOL_minTPM0.TAD_filtered.txt\n"
     ]
    }
   ],
   "source": [
    "wc -l ${INTER_DIR}Liver_clusters_containsCS.2NN.HepG2_ENSGnoVersionGENESYMBOL_minTPM0.ContinuousBEDFormat.txt\n",
    "wc -l ${INTER_DIR}Liver_clusters_containsCS.2NN.HepG2_ENSGnoVersionGENESYMBOL_minTPM0.TAD_filtered.txt"
   ]
  },
  {
   "cell_type": "markdown",
   "id": "4ce85114",
   "metadata": {},
   "source": [
    "# Remove gene reps "
   ]
  },
  {
   "cell_type": "code",
   "execution_count": 1,
   "id": "07e229fd",
   "metadata": {},
   "outputs": [
    {
     "name": "stderr",
     "output_type": "stream",
     "text": [
      "── \u001b[1mAttaching packages\u001b[22m ─────────────────────────────────────── tidyverse 1.3.1 ──\n",
      "\n",
      "\u001b[32m✔\u001b[39m \u001b[34mggplot2\u001b[39m 3.3.6     \u001b[32m✔\u001b[39m \u001b[34mpurrr  \u001b[39m 1.0.1\n",
      "\u001b[32m✔\u001b[39m \u001b[34mtibble \u001b[39m 3.2.1     \u001b[32m✔\u001b[39m \u001b[34mdplyr  \u001b[39m 1.1.1\n",
      "\u001b[32m✔\u001b[39m \u001b[34mtidyr  \u001b[39m 1.3.0     \u001b[32m✔\u001b[39m \u001b[34mstringr\u001b[39m 1.5.0\n",
      "\u001b[32m✔\u001b[39m \u001b[34mreadr  \u001b[39m 2.1.2     \u001b[32m✔\u001b[39m \u001b[34mforcats\u001b[39m 0.5.1\n",
      "\n",
      "── \u001b[1mConflicts\u001b[22m ────────────────────────────────────────── tidyverse_conflicts() ──\n",
      "\u001b[31m✖\u001b[39m \u001b[34mdplyr\u001b[39m::\u001b[32mfilter()\u001b[39m masks \u001b[34mstats\u001b[39m::filter()\n",
      "\u001b[31m✖\u001b[39m \u001b[34mdplyr\u001b[39m::\u001b[32mlag()\u001b[39m    masks \u001b[34mstats\u001b[39m::lag()\n",
      "\n"
     ]
    },
    {
     "name": "stdout",
     "output_type": "stream",
     "text": [
      "[1] \"Loaded libraries.\"\n"
     ]
    }
   ],
   "source": [
    "library(tidyverse)\n",
    "library(ggplot2)\n",
    "library(ggpubr)\n",
    "\n",
    "#Set working directory \n",
    "setwd(\"/data/hodges_lab/Tim/nnRNA_TPM_EHGM/output_files/\")\n",
    "\n",
    "print(\"Loaded libraries.\")"
   ]
  },
  {
   "cell_type": "code",
   "execution_count": 2,
   "id": "2ff9dd02",
   "metadata": {},
   "outputs": [
    {
     "name": "stderr",
     "output_type": "stream",
     "text": [
      "\u001b[1mRows: \u001b[22m\u001b[34m644\u001b[39m \u001b[1mColumns: \u001b[22m\u001b[34m15\u001b[39m\n",
      "\u001b[36m──\u001b[39m \u001b[1mColumn specification\u001b[22m \u001b[36m────────────────────────────────────────────────────────\u001b[39m\n",
      "\u001b[1mDelimiter:\u001b[22m \"\\t\"\n",
      "\u001b[31mchr\u001b[39m (6): X1, X4, X7, X8, X13, X14\n",
      "\u001b[32mdbl\u001b[39m (9): X2, X3, X5, X6, X9, X10, X11, X12, X15\n",
      "\n",
      "\u001b[36mℹ\u001b[39m Use `spec()` to retrieve the full column specification for this data.\n",
      "\u001b[36mℹ\u001b[39m Specify the column types or set `show_col_types = FALSE` to quiet this message.\n",
      "\u001b[1mRows: \u001b[22m\u001b[34m4674\u001b[39m \u001b[1mColumns: \u001b[22m\u001b[34m15\u001b[39m\n",
      "\u001b[36m──\u001b[39m \u001b[1mColumn specification\u001b[22m \u001b[36m────────────────────────────────────────────────────────\u001b[39m\n",
      "\u001b[1mDelimiter:\u001b[22m \"\\t\"\n",
      "\u001b[31mchr\u001b[39m (6): X1, X4, X7, X8, X13, X14\n",
      "\u001b[32mdbl\u001b[39m (9): X2, X3, X5, X6, X9, X10, X11, X12, X15\n",
      "\n",
      "\u001b[36mℹ\u001b[39m Use `spec()` to retrieve the full column specification for this data.\n",
      "\u001b[36mℹ\u001b[39m Specify the column types or set `show_col_types = FALSE` to quiet this message.\n"
     ]
    }
   ],
   "source": [
    "Liver_clusters_containsCS.2NN.HepG2_ENSGnoVersionGENESYMBOL_minTPM0.TAD_filtered <- read_tsv(\"../intermediate_files/Liver_clusters_containsCS.2NN.HepG2_ENSGnoVersionGENESYMBOL_minTPM0.TAD_filtered.txt\", col_names=F) %>% magrittr::set_colnames(c(\"ChrHMRTSS\",\"StartHMRTSS\",\"EndHMRTSS\",\"ChrHMR\",\"StartHMR\",\"EndHMR\",\"HMRGroup\",\"ChrTSS\",\"StartTSS\",\"EndTSS\",\"TPM\",\"strand\",\"GENE_SYMBOL\",\"ENSEMBL\",\"HMRTSSDist\")) \n",
    "\n",
    "\n",
    "Liver_unclustered_cellspecific.2NN.HepG2_ENSGnoVersionGENESYMBOL_minTPM0.TAD_filtered <- read_tsv(\"../intermediate_files/Liver_unclustered_cellspecific.2NN.HepG2_ENSGnoVersionGENESYMBOL_minTPM0.TAD_filtered.txt\", col_names=F) %>% magrittr::set_colnames(c(\"ChrHMRTSS\",\"StartHMRTSS\",\"EndHMRTSS\",\"ChrHMR\",\"StartHMR\",\"EndHMR\",\"HMRGroup\",\"ChrTSS\",\"StartTSS\",\"EndTSS\",\"TPM\",\"strand\",\"GENE_SYMBOL\",\"ENSEMBL\",\"HMRTSSDist\"))"
   ]
  },
  {
   "cell_type": "markdown",
   "id": "9e21d1c0",
   "metadata": {},
   "source": [
    "Remove rep call "
   ]
  },
  {
   "cell_type": "code",
   "execution_count": 3,
   "id": "2222e444",
   "metadata": {
    "scrolled": false
   },
   "outputs": [
    {
     "data": {
      "text/html": [
       "525"
      ],
      "text/latex": [
       "525"
      ],
      "text/markdown": [
       "525"
      ],
      "text/plain": [
       "[1] 525"
      ]
     },
     "metadata": {},
     "output_type": "display_data"
    },
    {
     "data": {
      "text/html": [
       "<table class=\"dataframe\">\n",
       "<caption>A tibble: 3 × 4</caption>\n",
       "<thead>\n",
       "\t<tr><th scope=col>ENSEMBL</th><th scope=col>TPM</th><th scope=col>HMRTSSDist</th><th scope=col>HMRGroup</th></tr>\n",
       "\t<tr><th scope=col>&lt;chr&gt;</th><th scope=col>&lt;dbl&gt;</th><th scope=col>&lt;dbl&gt;</th><th scope=col>&lt;chr&gt;</th></tr>\n",
       "</thead>\n",
       "<tbody>\n",
       "\t<tr><td>ENSG00000003436</td><td>1298.520</td><td>14735</td><td>Liver_clustersContainsCS</td></tr>\n",
       "\t<tr><td>ENSG00000003987</td><td>   0.700</td><td>74761</td><td>Liver_clustersContainsCS</td></tr>\n",
       "\t<tr><td>ENSG00000006704</td><td>   6.915</td><td>47505</td><td>Liver_clustersContainsCS</td></tr>\n",
       "</tbody>\n",
       "</table>\n"
      ],
      "text/latex": [
       "A tibble: 3 × 4\n",
       "\\begin{tabular}{llll}\n",
       " ENSEMBL & TPM & HMRTSSDist & HMRGroup\\\\\n",
       " <chr> & <dbl> & <dbl> & <chr>\\\\\n",
       "\\hline\n",
       "\t ENSG00000003436 & 1298.520 & 14735 & Liver\\_clustersContainsCS\\\\\n",
       "\t ENSG00000003987 &    0.700 & 74761 & Liver\\_clustersContainsCS\\\\\n",
       "\t ENSG00000006704 &    6.915 & 47505 & Liver\\_clustersContainsCS\\\\\n",
       "\\end{tabular}\n"
      ],
      "text/markdown": [
       "\n",
       "A tibble: 3 × 4\n",
       "\n",
       "| ENSEMBL &lt;chr&gt; | TPM &lt;dbl&gt; | HMRTSSDist &lt;dbl&gt; | HMRGroup &lt;chr&gt; |\n",
       "|---|---|---|---|\n",
       "| ENSG00000003436 | 1298.520 | 14735 | Liver_clustersContainsCS |\n",
       "| ENSG00000003987 |    0.700 | 74761 | Liver_clustersContainsCS |\n",
       "| ENSG00000006704 |    6.915 | 47505 | Liver_clustersContainsCS |\n",
       "\n"
      ],
      "text/plain": [
       "  ENSEMBL         TPM      HMRTSSDist HMRGroup                \n",
       "1 ENSG00000003436 1298.520 14735      Liver_clustersContainsCS\n",
       "2 ENSG00000003987    0.700 74761      Liver_clustersContainsCS\n",
       "3 ENSG00000006704    6.915 47505      Liver_clustersContainsCS"
      ]
     },
     "metadata": {},
     "output_type": "display_data"
    },
    {
     "data": {
      "text/html": [
       "2864"
      ],
      "text/latex": [
       "2864"
      ],
      "text/markdown": [
       "2864"
      ],
      "text/plain": [
       "[1] 2864"
      ]
     },
     "metadata": {},
     "output_type": "display_data"
    },
    {
     "data": {
      "text/html": [
       "<table class=\"dataframe\">\n",
       "<caption>A tibble: 3 × 4</caption>\n",
       "<thead>\n",
       "\t<tr><th scope=col>ENSEMBL</th><th scope=col>TPM</th><th scope=col>HMRTSSDist</th><th scope=col>HMRGroup</th></tr>\n",
       "\t<tr><th scope=col>&lt;chr&gt;</th><th scope=col>&lt;dbl&gt;</th><th scope=col>&lt;dbl&gt;</th><th scope=col>&lt;chr&gt;</th></tr>\n",
       "</thead>\n",
       "<tbody>\n",
       "\t<tr><td>ENSG00000000971</td><td> 0.500</td><td>507691</td><td>Liver_unclustered</td></tr>\n",
       "\t<tr><td>ENSG00000003147</td><td> 0.065</td><td> 49648</td><td>Liver_unclustered</td></tr>\n",
       "\t<tr><td>ENSG00000003393</td><td>18.905</td><td> 22176</td><td>Liver_unclustered</td></tr>\n",
       "</tbody>\n",
       "</table>\n"
      ],
      "text/latex": [
       "A tibble: 3 × 4\n",
       "\\begin{tabular}{llll}\n",
       " ENSEMBL & TPM & HMRTSSDist & HMRGroup\\\\\n",
       " <chr> & <dbl> & <dbl> & <chr>\\\\\n",
       "\\hline\n",
       "\t ENSG00000000971 &  0.500 & 507691 & Liver\\_unclustered\\\\\n",
       "\t ENSG00000003147 &  0.065 &  49648 & Liver\\_unclustered\\\\\n",
       "\t ENSG00000003393 & 18.905 &  22176 & Liver\\_unclustered\\\\\n",
       "\\end{tabular}\n"
      ],
      "text/markdown": [
       "\n",
       "A tibble: 3 × 4\n",
       "\n",
       "| ENSEMBL &lt;chr&gt; | TPM &lt;dbl&gt; | HMRTSSDist &lt;dbl&gt; | HMRGroup &lt;chr&gt; |\n",
       "|---|---|---|---|\n",
       "| ENSG00000000971 |  0.500 | 507691 | Liver_unclustered |\n",
       "| ENSG00000003147 |  0.065 |  49648 | Liver_unclustered |\n",
       "| ENSG00000003393 | 18.905 |  22176 | Liver_unclustered |\n",
       "\n"
      ],
      "text/plain": [
       "  ENSEMBL         TPM    HMRTSSDist HMRGroup         \n",
       "1 ENSG00000000971  0.500 507691     Liver_unclustered\n",
       "2 ENSG00000003147  0.065  49648     Liver_unclustered\n",
       "3 ENSG00000003393 18.905  22176     Liver_unclustered"
      ]
     },
     "metadata": {},
     "output_type": "display_data"
    }
   ],
   "source": [
    "Liver_clusters_containsCS.2NN.HepG2_ENSGnoVersionGENESYMBOL_minTPM0.TAD_filtered.uniqueENSGTSS_TPM <- Liver_clusters_containsCS.2NN.HepG2_ENSGnoVersionGENESYMBOL_minTPM0.TAD_filtered %>% dplyr::select(ENSEMBL, TPM, HMRTSSDist) %>% dplyr::distinct(ENSEMBL, TPM, .keep_all = TRUE) %>% mutate(HMRGroup = \"Liver_clustersContainsCS\") %>% arrange(ENSEMBL)\n",
    "\n",
    "Liver_unclustered_cellspecific.2NN.HepG2_ENSGnoVersionGENESYMBOL_minTPM0.TAD_filtered.uniqueENSGTSS_TPM <- Liver_unclustered_cellspecific.2NN.HepG2_ENSGnoVersionGENESYMBOL_minTPM0.TAD_filtered %>% dplyr::select(ENSEMBL, TPM, HMRTSSDist) %>% dplyr::distinct(ENSEMBL, TPM, .keep_all = TRUE) %>% mutate(HMRGroup = \"Liver_unclustered\") %>% arrange(ENSEMBL)\n",
    "\n",
    "nrow(Liver_clusters_containsCS.2NN.HepG2_ENSGnoVersionGENESYMBOL_minTPM0.TAD_filtered.uniqueENSGTSS_TPM)\n",
    "head(Liver_clusters_containsCS.2NN.HepG2_ENSGnoVersionGENESYMBOL_minTPM0.TAD_filtered.uniqueENSGTSS_TPM, 3)\n",
    "nrow(Liver_unclustered_cellspecific.2NN.HepG2_ENSGnoVersionGENESYMBOL_minTPM0.TAD_filtered.uniqueENSGTSS_TPM)\n",
    "head(Liver_unclustered_cellspecific.2NN.HepG2_ENSGnoVersionGENESYMBOL_minTPM0.TAD_filtered.uniqueENSGTSS_TPM, 3)"
   ]
  },
  {
   "cell_type": "markdown",
   "id": "d7345961",
   "metadata": {},
   "source": [
    "# STATS"
   ]
  },
  {
   "cell_type": "code",
   "execution_count": 4,
   "id": "6a6bb7b9",
   "metadata": {},
   "outputs": [
    {
     "data": {
      "text/plain": [
       "\n",
       "\tWilcoxon rank sum test with continuity correction\n",
       "\n",
       "data:  Liver_clusters_containsCS.2NN.HepG2_ENSGnoVersionGENESYMBOL_minTPM0.TAD_filtered.uniqueENSGTSS_TPM$TPM and Liver_unclustered_cellspecific.2NN.HepG2_ENSGnoVersionGENESYMBOL_minTPM0.TAD_filtered.uniqueENSGTSS_TPM$TPM\n",
       "W = 803966, p-value = 0.01137\n",
       "alternative hypothesis: true location shift is not equal to 0\n"
      ]
     },
     "metadata": {},
     "output_type": "display_data"
    }
   ],
   "source": [
    "wilcox.test(Liver_clusters_containsCS.2NN.HepG2_ENSGnoVersionGENESYMBOL_minTPM0.TAD_filtered.uniqueENSGTSS_TPM$TPM, Liver_unclustered_cellspecific.2NN.HepG2_ENSGnoVersionGENESYMBOL_minTPM0.TAD_filtered.uniqueENSGTSS_TPM$TPM)"
   ]
  },
  {
   "cell_type": "code",
   "execution_count": 8,
   "id": "2c901176",
   "metadata": {
    "scrolled": false
   },
   "outputs": [
    {
     "data": {
      "text/html": [
       "<table class=\"dataframe\">\n",
       "<caption>A tibble: 2 × 2</caption>\n",
       "<thead>\n",
       "\t<tr><th scope=col>HMRGroup</th><th scope=col>n</th></tr>\n",
       "\t<tr><th scope=col>&lt;chr&gt;</th><th scope=col>&lt;int&gt;</th></tr>\n",
       "</thead>\n",
       "<tbody>\n",
       "\t<tr><td>Liver_clustersContainsCS</td><td> 525</td></tr>\n",
       "\t<tr><td>Liver_unclustered       </td><td>2864</td></tr>\n",
       "</tbody>\n",
       "</table>\n"
      ],
      "text/latex": [
       "A tibble: 2 × 2\n",
       "\\begin{tabular}{ll}\n",
       " HMRGroup & n\\\\\n",
       " <chr> & <int>\\\\\n",
       "\\hline\n",
       "\t Liver\\_clustersContainsCS &  525\\\\\n",
       "\t Liver\\_unclustered        & 2864\\\\\n",
       "\\end{tabular}\n"
      ],
      "text/markdown": [
       "\n",
       "A tibble: 2 × 2\n",
       "\n",
       "| HMRGroup &lt;chr&gt; | n &lt;int&gt; |\n",
       "|---|---|\n",
       "| Liver_clustersContainsCS |  525 |\n",
       "| Liver_unclustered        | 2864 |\n",
       "\n"
      ],
      "text/plain": [
       "  HMRGroup                 n   \n",
       "1 Liver_clustersContainsCS  525\n",
       "2 Liver_unclustered        2864"
      ]
     },
     "metadata": {},
     "output_type": "display_data"
    },
    {
     "name": "stderr",
     "output_type": "stream",
     "text": [
      "\u001b[1m\u001b[22m`summarise()` has grouped output by 'HMRGroup'. You can override using the\n",
      "`.groups` argument.\n"
     ]
    },
    {
     "data": {
      "text/html": [
       "<table class=\"dataframe\">\n",
       "<caption>A grouped_df: 14 × 3</caption>\n",
       "<thead>\n",
       "\t<tr><th scope=col>HMRGroup</th><th scope=col>distBin</th><th scope=col>n</th></tr>\n",
       "\t<tr><th scope=col>&lt;chr&gt;</th><th scope=col>&lt;fct&gt;</th><th scope=col>&lt;int&gt;</th></tr>\n",
       "</thead>\n",
       "<tbody>\n",
       "\t<tr><td>Liver_clustersContainsCS</td><td>0-10  </td><td>  91</td></tr>\n",
       "\t<tr><td>Liver_clustersContainsCS</td><td>10-20 </td><td>  59</td></tr>\n",
       "\t<tr><td>Liver_clustersContainsCS</td><td>20-30 </td><td>  46</td></tr>\n",
       "\t<tr><td>Liver_clustersContainsCS</td><td>30-40 </td><td>  40</td></tr>\n",
       "\t<tr><td>Liver_clustersContainsCS</td><td>40-50 </td><td>  29</td></tr>\n",
       "\t<tr><td>Liver_clustersContainsCS</td><td>50-100</td><td>  97</td></tr>\n",
       "\t<tr><td>Liver_clustersContainsCS</td><td><span style=white-space:pre-wrap>&gt;100  </span></td><td> 163</td></tr>\n",
       "\t<tr><td>Liver_unclustered       </td><td>0-10  </td><td> 156</td></tr>\n",
       "\t<tr><td>Liver_unclustered       </td><td>10-20 </td><td> 260</td></tr>\n",
       "\t<tr><td>Liver_unclustered       </td><td>20-30 </td><td> 229</td></tr>\n",
       "\t<tr><td>Liver_unclustered       </td><td>30-40 </td><td> 198</td></tr>\n",
       "\t<tr><td>Liver_unclustered       </td><td>40-50 </td><td> 174</td></tr>\n",
       "\t<tr><td>Liver_unclustered       </td><td>50-100</td><td> 583</td></tr>\n",
       "\t<tr><td><span style=white-space:pre-wrap>Liver_unclustered       </span></td><td><span style=white-space:pre-wrap>&gt;100  </span></td><td>1264</td></tr>\n",
       "</tbody>\n",
       "</table>\n"
      ],
      "text/latex": [
       "A grouped\\_df: 14 × 3\n",
       "\\begin{tabular}{lll}\n",
       " HMRGroup & distBin & n\\\\\n",
       " <chr> & <fct> & <int>\\\\\n",
       "\\hline\n",
       "\t Liver\\_clustersContainsCS & 0-10   &   91\\\\\n",
       "\t Liver\\_clustersContainsCS & 10-20  &   59\\\\\n",
       "\t Liver\\_clustersContainsCS & 20-30  &   46\\\\\n",
       "\t Liver\\_clustersContainsCS & 30-40  &   40\\\\\n",
       "\t Liver\\_clustersContainsCS & 40-50  &   29\\\\\n",
       "\t Liver\\_clustersContainsCS & 50-100 &   97\\\\\n",
       "\t Liver\\_clustersContainsCS & >100   &  163\\\\\n",
       "\t Liver\\_unclustered        & 0-10   &  156\\\\\n",
       "\t Liver\\_unclustered        & 10-20  &  260\\\\\n",
       "\t Liver\\_unclustered        & 20-30  &  229\\\\\n",
       "\t Liver\\_unclustered        & 30-40  &  198\\\\\n",
       "\t Liver\\_unclustered        & 40-50  &  174\\\\\n",
       "\t Liver\\_unclustered        & 50-100 &  583\\\\\n",
       "\t Liver\\_unclustered        & >100   & 1264\\\\\n",
       "\\end{tabular}\n"
      ],
      "text/markdown": [
       "\n",
       "A grouped_df: 14 × 3\n",
       "\n",
       "| HMRGroup &lt;chr&gt; | distBin &lt;fct&gt; | n &lt;int&gt; |\n",
       "|---|---|---|\n",
       "| Liver_clustersContainsCS | 0-10   |   91 |\n",
       "| Liver_clustersContainsCS | 10-20  |   59 |\n",
       "| Liver_clustersContainsCS | 20-30  |   46 |\n",
       "| Liver_clustersContainsCS | 30-40  |   40 |\n",
       "| Liver_clustersContainsCS | 40-50  |   29 |\n",
       "| Liver_clustersContainsCS | 50-100 |   97 |\n",
       "| Liver_clustersContainsCS | &gt;100   |  163 |\n",
       "| Liver_unclustered        | 0-10   |  156 |\n",
       "| Liver_unclustered        | 10-20  |  260 |\n",
       "| Liver_unclustered        | 20-30  |  229 |\n",
       "| Liver_unclustered        | 30-40  |  198 |\n",
       "| Liver_unclustered        | 40-50  |  174 |\n",
       "| Liver_unclustered        | 50-100 |  583 |\n",
       "| Liver_unclustered        | &gt;100   | 1264 |\n",
       "\n"
      ],
      "text/plain": [
       "   HMRGroup                 distBin n   \n",
       "1  Liver_clustersContainsCS 0-10      91\n",
       "2  Liver_clustersContainsCS 10-20     59\n",
       "3  Liver_clustersContainsCS 20-30     46\n",
       "4  Liver_clustersContainsCS 30-40     40\n",
       "5  Liver_clustersContainsCS 40-50     29\n",
       "6  Liver_clustersContainsCS 50-100    97\n",
       "7  Liver_clustersContainsCS >100     163\n",
       "8  Liver_unclustered        0-10     156\n",
       "9  Liver_unclustered        10-20    260\n",
       "10 Liver_unclustered        20-30    229\n",
       "11 Liver_unclustered        30-40    198\n",
       "12 Liver_unclustered        40-50    174\n",
       "13 Liver_unclustered        50-100   583\n",
       "14 Liver_unclustered        >100    1264"
      ]
     },
     "metadata": {},
     "output_type": "display_data"
    }
   ],
   "source": [
    "Liver_clustersContainsCS_Unclustered.2NN.HepG2_ENSGnoVersionGENESYMBOL_minTPM0.TAD_filtered.uniqueENSGTSS_TPM.distBin %>% \n",
    "  group_by(HMRGroup) %>% \n",
    "  summarise(n = n())\n",
    "\n",
    "Liver_clustersContainsCS_Unclustered.2NN.HepG2_ENSGnoVersionGENESYMBOL_minTPM0.TAD_filtered.uniqueENSGTSS_TPM.distBin %>% \n",
    "  group_by(HMRGroup, distBin) %>% \n",
    "  summarise(n = n())\n"
   ]
  },
  {
   "cell_type": "markdown",
   "id": "5ce00bb6",
   "metadata": {},
   "source": [
    "# Plot"
   ]
  },
  {
   "cell_type": "code",
   "execution_count": 5,
   "id": "d313c39a",
   "metadata": {},
   "outputs": [],
   "source": [
    "Liver_clustersContainsCS_Unclustered.2NN.HepG2_ENSGnoVersionGENESYMBOL_minTPM0.TAD_filtered.uniqueENSGTSS_TPM <- \n",
    "rbind(Liver_clusters_containsCS.2NN.HepG2_ENSGnoVersionGENESYMBOL_minTPM0.TAD_filtered.uniqueENSGTSS_TPM, Liver_unclustered_cellspecific.2NN.HepG2_ENSGnoVersionGENESYMBOL_minTPM0.TAD_filtered.uniqueENSGTSS_TPM)"
   ]
  },
  {
   "cell_type": "code",
   "execution_count": 6,
   "id": "6e46a2ff",
   "metadata": {},
   "outputs": [
    {
     "name": "stdout",
     "output_type": "stream",
     "text": [
      "[1] \"Done.\"\n"
     ]
    }
   ],
   "source": [
    "Liver_clustersContainsCS_Unclustered.2NN.HepG2_ENSGnoVersionGENESYMBOL_minTPM0.TAD_filtered.uniqueENSGTSS_TPM.distBin <- Liver_clustersContainsCS_Unclustered.2NN.HepG2_ENSGnoVersionGENESYMBOL_minTPM0.TAD_filtered.uniqueENSGTSS_TPM %>% \n",
    "  mutate(distBin = case_when(\n",
    "    HMRTSSDist < 10000 ~ \"0-10\",\n",
    "    HMRTSSDist >= 10000 & HMRTSSDist < 20000 ~ \"10-20\",\n",
    "    HMRTSSDist >= 20000 & HMRTSSDist < 30000 ~ \"20-30\",\n",
    "    HMRTSSDist >= 30000 & HMRTSSDist < 40000 ~ \"30-40\",\n",
    "    HMRTSSDist >= 40000 & HMRTSSDist < 50000 ~ \"40-50\",\n",
    "    HMRTSSDist >= 50000 & HMRTSSDist < 100000 ~ \"50-100\",\n",
    "    HMRTSSDist >= 100000 ~ \">100\"\n",
    "  ))\n",
    "\n",
    "print(\"Done.\")"
   ]
  },
  {
   "cell_type": "code",
   "execution_count": 7,
   "id": "ee0ad0b7",
   "metadata": {},
   "outputs": [
    {
     "name": "stdout",
     "output_type": "stream",
     "text": [
      "[1] \"Done.\"\n"
     ]
    }
   ],
   "source": [
    "Liver_clustersContainsCS_Unclustered.2NN.HepG2_ENSGnoVersionGENESYMBOL_minTPM0.TAD_filtered.uniqueENSGTSS_TPM.distBin$distBin <- factor(Liver_clustersContainsCS_Unclustered.2NN.HepG2_ENSGnoVersionGENESYMBOL_minTPM0.TAD_filtered.uniqueENSGTSS_TPM.distBin$distBin, levels = c(\"0-10\", \"10-20\", \"20-30\", \"30-40\", \"40-50\", \"50-100\", \">100\"))\n",
    "\n",
    "print(\"Done.\")"
   ]
  },
  {
   "cell_type": "code",
   "execution_count": 10,
   "id": "778b6564",
   "metadata": {},
   "outputs": [
    {
     "data": {
      "image/png": "[encoded data removed]",
      "text/plain": [
       "plot without title"
      ]
     },
     "metadata": {
      "image/png": {
       "height": 420,
       "width": 420
      }
     },
     "output_type": "display_data"
    }
   ],
   "source": [
    "pdf(\"Liver.2NN.TAD.UniqueGenes.ALL.pdf\")\n",
    "\n",
    "pall <- ggplot(Liver_clustersContainsCS_Unclustered.2NN.HepG2_ENSGnoVersionGENESYMBOL_minTPM0.TAD_filtered.uniqueENSGTSS_TPM.distBin, aes(x=HMRGroup, y=log10(TPM))) +\n",
    "  geom_boxplot(aes(fill=HMRGroup)) +\n",
    "  theme_classic() +\n",
    "  ggtitle(\"ENSGnoVersion_withGENESYMBOL - Liver - All\") +\n",
    "  theme(plot.title = element_text(hjust = 0.5, face = \"bold\")) +\n",
    "  xlab(\"HMR to Gene Distance\") +\n",
    "  ylab(\"log10(TPM)\") +\n",
    "  stat_compare_means(aes(group=HMRGroup), \n",
    "                     method=\"wilcox.test\",  \n",
    "                     method.args = list(alternative = \"two.sided\"),\n",
    "                     label=\"p\",\n",
    "                     label.y=6.25)\n",
    "pall\n",
    "\n",
    "dev.off()\n",
    "pall"
   ]
  },
  {
   "cell_type": "code",
   "execution_count": 11,
   "id": "8548c83e",
   "metadata": {},
   "outputs": [
    {
     "data": {
      "image/png": "[encoded data removed]",
      "text/plain": [
       "plot without title"
      ]
     },
     "metadata": {
      "image/png": {
       "height": 420,
       "width": 420
      }
     },
     "output_type": "display_data"
    }
   ],
   "source": [
    "pdf(\"Liver.2NN.TAD.UniqueGenes.BINNED.pdf\")\n",
    "\n",
    "pbin <- ggplot(Liver_clustersContainsCS_Unclustered.2NN.HepG2_ENSGnoVersionGENESYMBOL_minTPM0.TAD_filtered.uniqueENSGTSS_TPM.distBin, aes(x=distBin, y=log10(TPM))) +\n",
    "  geom_boxplot(aes(fill=HMRGroup), width = .5, position=position_dodge(.75)) +\n",
    "  theme_classic() +\n",
    "  ggtitle(\"ENSGnoVersion_withGENESYMBOL - Liver - Binned by Distance\") +\n",
    "  theme(plot.title = element_text(hjust = 0.5, face = \"bold\")) +\n",
    "  xlab(\"HMR to Gene Distance\") +\n",
    "  ylab(\"log10(TPM)\") +\n",
    "  stat_compare_means(aes(group=HMRGroup), \n",
    "                     method=\"wilcox.test\",  \n",
    "                     method.args = list(alternative = \"two.sided\"),\n",
    "                     label=\"p\",\n",
    "                     label.y=6.25,\n",
    "                    size = 2.5) +\n",
    "  theme(aspect.ratio = .6)\n",
    "pbin\n",
    "\n",
    "dev.off()\n",
    "pbin"
   ]
  },
  {
   "cell_type": "markdown",
   "id": "40eea4d3",
   "metadata": {},
   "source": [
    "# Plot fraction HMRs - 1 NN"
   ]
  },
  {
   "cell_type": "markdown",
   "id": "6d8a92ab",
   "metadata": {},
   "source": [
    "## Find 100NN"
   ]
  },
  {
   "cell_type": "code",
   "execution_count": 1,
   "id": "01e5552d",
   "metadata": {},
   "outputs": [
    {
     "name": "stdout",
     "output_type": "stream",
     "text": [
      "Done.\n"
     ]
    }
   ],
   "source": [
    "HOME_DIR=/data/hodges_lab/Tim/nnRNA_TPM_EHGM/\n",
    "mkdir -p ${HOME_DIR}\n",
    "REF_DIR=${HOME_DIR}reference_files/\n",
    "\n",
    "# Directory \n",
    "mkdir -p ${HOME_DIR}intermediate_files\n",
    "cd ${HOME_DIR}intermediate_files\n",
    "\n",
    "INTER_DIR=${HOME_DIR}intermediate_files/\n",
    "REF_DIR=${HOME_DIR}reference_files/\n",
    "OUT_DIR=${HOME_DIR}output_files/\n",
    "\n",
    "echo \"Done.\""
   ]
  },
  {
   "cell_type": "code",
   "execution_count": 5,
   "id": "94c29096",
   "metadata": {},
   "outputs": [
    {
     "name": "stdout",
     "output_type": "stream",
     "text": [
      "Done.\n"
     ]
    }
   ],
   "source": [
    "bedtools closest -d -k 100 -a ${INTER_DIR}Liver_internalClusters_hpl.containsCellSpecificHMR.tmp_sorted.txt -b ${REF_DIR}HepG2_ENSG_TPM_avg12_noVersion_hasHGNC_minTPM0.sorted.txt > ${INTER_DIR}Liver_clusters_containsCS.100NN.HepG2_ENSGnoVersionGENESYMBOL_minTPM0.txt\n",
    "\n",
    "echo \"Done.\""
   ]
  },
  {
   "cell_type": "code",
   "execution_count": 3,
   "id": "d6c16824",
   "metadata": {},
   "outputs": [
    {
     "name": "stdout",
     "output_type": "stream",
     "text": [
      "Done.\n"
     ]
    }
   ],
   "source": [
    "bedtools closest -d -k 100 -a ${INTER_DIR}Liver.unclustered_cs.tmp_sorted.txt -b ${REF_DIR}HepG2_ENSG_TPM_avg12_noVersion_hasHGNC_minTPM0.sorted.txt > ${INTER_DIR}Liver_unclustered_cellspecific.100NN.HepG2_ENSGnoVersionGENESYMBOL_minTPM0.txt\n",
    "\n",
    "echo \"Done.\""
   ]
  },
  {
   "cell_type": "markdown",
   "id": "615b72bb",
   "metadata": {},
   "source": [
    "## TAD Filter"
   ]
  },
  {
   "cell_type": "code",
   "execution_count": 6,
   "id": "b6857d32",
   "metadata": {},
   "outputs": [
    {
     "name": "stdout",
     "output_type": "stream",
     "text": [
      "Made continuous BED file.\n"
     ]
    }
   ],
   "source": [
    "# Intersect 2NN file with TADs\n",
    "\n",
    "# First, create an HMR-Gene end-to-end BED file:\n",
    "#\"ChrHMRProm\",\"StartHMRProm\",\"EndHMRProm\",\"ChrHMR\",\"StartHMR\",\"EndHMR\",\"ChrProm\",\"StartProm\",\"EndProm\",\"ENSEMBL\",\"TPM\",\"HMRPromDist\",\"HMRGroup\"\n",
    "\n",
    "# Check if HMR is before the TSS, else, TSS before  \n",
    "awk 'BEGIN{OFS=FS=\"\\t\"}{if ($2<$6)\n",
    "print $1,$2,$7,$1,$2,$3,$4,$5,$6,$7,$8,$9,$10,$11,$12;\n",
    "else print $1,$6,$3,$1,$2,$3,$4,$5,$6,$7,$8,$9,$10,$11,$12;\n",
    "}' ${INTER_DIR}Liver_clusters_containsCS.100NN.HepG2_ENSGnoVersionGENESYMBOL_minTPM0.txt | awk 'BEGIN{OFS=FS=\"\\t\"}{if ($2!~/-1/) print}' - > ${INTER_DIR}Liver_clusters_containsCS.100NN.HepG2_ENSGnoVersionGENESYMBOL_minTPM0.ContinuousBEDFormat.txt \n",
    "\n",
    "awk 'BEGIN{OFS=FS=\"\\t\"}{if ($2<$6)\n",
    "print $1,$2,$7,$1,$2,$3,$4,$5,$6,$7,$8,$9,$10,$11,$12;\n",
    "else print $1,$6,$3,$1,$2,$3,$4,$5,$6,$7,$8,$9,$10,$11,$12;\n",
    "}' ${INTER_DIR}Liver_unclustered_cellspecific.100NN.HepG2_ENSGnoVersionGENESYMBOL_minTPM0.txt | awk 'BEGIN{OFS=FS=\"\\t\"}{if ($2!~/-1/) print}' - > ${INTER_DIR}Liver_unclustered_cellspecific.100NN.HepG2_ENSGnoVersionGENESYMBOL_minTPM0.ContinuousBEDFormat.txt\n",
    "\n",
    "echo \"Made continuous BED file.\"\n"
   ]
  },
  {
   "cell_type": "code",
   "execution_count": 8,
   "id": "c22455e7",
   "metadata": {},
   "outputs": [
    {
     "name": "stdout",
     "output_type": "stream",
     "text": [
      "Done.\n"
     ]
    }
   ],
   "source": [
    "bedtools intersect -f 1.0 -a ${INTER_DIR}Liver_clusters_containsCS.100NN.HepG2_ENSGnoVersionGENESYMBOL_minTPM0.ContinuousBEDFormat.txt \\\n",
    "-b ${REF_DIR}Liver_STL011_Leung2015-raw_TADs.txt > ${INTER_DIR}Liver_clusters_containsCS.100NN.HepG2_ENSGnoVersionGENESYMBOL_minTPM0.TAD_filtered.txt\n",
    "\n",
    "bedtools intersect -f 1.0 -a ${INTER_DIR}Liver_unclustered_cellspecific.100NN.HepG2_ENSGnoVersionGENESYMBOL_minTPM0.ContinuousBEDFormat.txt  \\\n",
    "-b ${REF_DIR}Liver_STL011_Leung2015-raw_TADs.txt > ${INTER_DIR}Liver_unclustered_cellspecific.100NN.HepG2_ENSGnoVersionGENESYMBOL_minTPM0.TAD_filtered.txt\n",
    "\n",
    "echo \"Done.\""
   ]
  },
  {
   "cell_type": "markdown",
   "id": "7de866c0",
   "metadata": {},
   "source": [
    "## Filter down to 1NN per HMR"
   ]
  },
  {
   "cell_type": "code",
   "execution_count": 20,
   "id": "996c07d0",
   "metadata": {},
   "outputs": [
    {
     "name": "stdout",
     "output_type": "stream",
     "text": [
      "[1] \"Loaded libraries.\"\n"
     ]
    }
   ],
   "source": [
    "library(tidyverse)\n",
    "library(ggplot2)\n",
    "library(ggpubr)\n",
    "\n",
    "#Set working directory \n",
    "setwd(\"/data/hodges_lab/Tim/nnRNA_TPM_EHGM/output_files/\")\n",
    "\n",
    "print(\"Loaded libraries.\")"
   ]
  },
  {
   "cell_type": "code",
   "execution_count": 21,
   "id": "745a36d5",
   "metadata": {
    "scrolled": true
   },
   "outputs": [
    {
     "name": "stderr",
     "output_type": "stream",
     "text": [
      "\u001b[1mRows: \u001b[22m\u001b[34m798\u001b[39m \u001b[1mColumns: \u001b[22m\u001b[34m4\u001b[39m\n",
      "\u001b[36m──\u001b[39m \u001b[1mColumn specification\u001b[22m \u001b[36m────────────────────────────────────────────────────────\u001b[39m\n",
      "\u001b[1mDelimiter:\u001b[22m \"\\t\"\n",
      "\u001b[31mchr\u001b[39m (1): chr\n",
      "\u001b[32mdbl\u001b[39m (3): start, end, numHMRs\n",
      "\n",
      "\u001b[36mℹ\u001b[39m Use `spec()` to retrieve the full column specification for this data.\n",
      "\u001b[36mℹ\u001b[39m Specify the column types or set `show_col_types = FALSE` to quiet this message.\n",
      "\u001b[1mRows: \u001b[22m\u001b[34m5424\u001b[39m \u001b[1mColumns: \u001b[22m\u001b[34m3\u001b[39m\n",
      "\u001b[36m──\u001b[39m \u001b[1mColumn specification\u001b[22m \u001b[36m────────────────────────────────────────────────────────\u001b[39m\n",
      "\u001b[1mDelimiter:\u001b[22m \"\\t\"\n",
      "\u001b[31mchr\u001b[39m (1): chr\n",
      "\u001b[32mdbl\u001b[39m (2): start, end\n",
      "\n",
      "\u001b[36mℹ\u001b[39m Use `spec()` to retrieve the full column specification for this data.\n",
      "\u001b[36mℹ\u001b[39m Specify the column types or set `show_col_types = FALSE` to quiet this message.\n"
     ]
    }
   ],
   "source": [
    "Liver_clusters_containsCS <- read_tsv(\"/data/hodges_lab/Tim/nnRNA_TPM_EHGM/intermediate_files/Liver_internalClusters_hpl.containsCellSpecificHMR.txt\", col_names = c(\"chr\",\"start\",\"end\",\"numHMRs\"))\n",
    "\n",
    "Liver_unclustered_CS <- \n",
    "read_tsv(\"/data/hodges_lab/Tim/finalAnalyses_HMRs/hp_lineage/HMRs/Liver_unclustered_cellspecific_hpl.txt\",  col_names = c(\"chr\",\"start\",\"end\"))"
   ]
  },
  {
   "cell_type": "code",
   "execution_count": 3,
   "id": "6060b89f",
   "metadata": {},
   "outputs": [
    {
     "data": {
      "text/html": [
       "798"
      ],
      "text/latex": [
       "798"
      ],
      "text/markdown": [
       "798"
      ],
      "text/plain": [
       "[1] 798"
      ]
     },
     "metadata": {},
     "output_type": "display_data"
    },
    {
     "data": {
      "text/html": [
       "5424"
      ],
      "text/latex": [
       "5424"
      ],
      "text/markdown": [
       "5424"
      ],
      "text/plain": [
       "[1] 5424"
      ]
     },
     "metadata": {},
     "output_type": "display_data"
    }
   ],
   "source": [
    "Liver_clusters_containsCS %>% nrow()\n",
    "Liver_unclustered_CS %>% nrow()"
   ]
  },
  {
   "cell_type": "code",
   "execution_count": 22,
   "id": "251bc89c",
   "metadata": {},
   "outputs": [
    {
     "name": "stderr",
     "output_type": "stream",
     "text": [
      "\u001b[1mRows: \u001b[22m\u001b[34m4236\u001b[39m \u001b[1mColumns: \u001b[22m\u001b[34m15\u001b[39m\n",
      "\u001b[36m──\u001b[39m \u001b[1mColumn specification\u001b[22m \u001b[36m────────────────────────────────────────────────────────\u001b[39m\n",
      "\u001b[1mDelimiter:\u001b[22m \"\\t\"\n",
      "\u001b[31mchr\u001b[39m (6): X1, X4, X7, X8, X13, X14\n",
      "\u001b[32mdbl\u001b[39m (9): X2, X3, X5, X6, X9, X10, X11, X12, X15\n",
      "\n",
      "\u001b[36mℹ\u001b[39m Use `spec()` to retrieve the full column specification for this data.\n",
      "\u001b[36mℹ\u001b[39m Specify the column types or set `show_col_types = FALSE` to quiet this message.\n",
      "\u001b[1mRows: \u001b[22m\u001b[34m18349\u001b[39m \u001b[1mColumns: \u001b[22m\u001b[34m15\u001b[39m\n",
      "\u001b[36m──\u001b[39m \u001b[1mColumn specification\u001b[22m \u001b[36m────────────────────────────────────────────────────────\u001b[39m\n",
      "\u001b[1mDelimiter:\u001b[22m \"\\t\"\n",
      "\u001b[31mchr\u001b[39m (6): X1, X4, X7, X8, X13, X14\n",
      "\u001b[32mdbl\u001b[39m (9): X2, X3, X5, X6, X9, X10, X11, X12, X15\n",
      "\n",
      "\u001b[36mℹ\u001b[39m Use `spec()` to retrieve the full column specification for this data.\n",
      "\u001b[36mℹ\u001b[39m Specify the column types or set `show_col_types = FALSE` to quiet this message.\n"
     ]
    }
   ],
   "source": [
    "Liver_clusters_containsCS.100NN.HepG2_ENSGnoVersionGENESYMBOL_minTPM0.TAD_filtered <- read_tsv(\"../intermediate_files/Liver_clusters_containsCS.100NN.HepG2_ENSGnoVersionGENESYMBOL_minTPM0.TAD_filtered.txt\", col_names=F) %>% magrittr::set_colnames(c(\"ChrHMRTSS\",\"StartHMRTSS\",\"EndHMRTSS\",\"ChrHMR\",\"StartHMR\",\"EndHMR\",\"HMRGroup\",\"ChrTSS\",\"StartTSS\",\"EndTSS\",\"TPM\",\"strand\",\"GENE_SYMBOL\",\"ENSEMBL\",\"HMRTSSDist\")) \n",
    "\n",
    "\n",
    "Liver_unclustered_cellspecific.100NN.HepG2_ENSGnoVersionGENESYMBOL_minTPM0.TAD_filtered <- read_tsv(\"../intermediate_files/Liver_unclustered_cellspecific.100NN.HepG2_ENSGnoVersionGENESYMBOL_minTPM0.TAD_filtered.txt\", col_names=F) %>% magrittr::set_colnames(c(\"ChrHMRTSS\",\"StartHMRTSS\",\"EndHMRTSS\",\"ChrHMR\",\"StartHMR\",\"EndHMR\",\"HMRGroup\",\"ChrTSS\",\"StartTSS\",\"EndTSS\",\"TPM\",\"strand\",\"GENE_SYMBOL\",\"ENSEMBL\",\"HMRTSSDist\"))"
   ]
  },
  {
   "cell_type": "code",
   "execution_count": 7,
   "id": "c7e27eaf",
   "metadata": {
    "scrolled": true
   },
   "outputs": [
    {
     "data": {
      "text/html": [
       "4236"
      ],
      "text/latex": [
       "4236"
      ],
      "text/markdown": [
       "4236"
      ],
      "text/plain": [
       "[1] 4236"
      ]
     },
     "metadata": {},
     "output_type": "display_data"
    }
   ],
   "source": [
    "Liver_clusters_containsCS.100NN.HepG2_ENSGnoVersionGENESYMBOL_minTPM0.TAD_filtered %>% nrow()"
   ]
  },
  {
   "cell_type": "code",
   "execution_count": 9,
   "id": "f02ef100",
   "metadata": {},
   "outputs": [
    {
     "data": {
      "text/html": [
       "381"
      ],
      "text/latex": [
       "381"
      ],
      "text/markdown": [
       "381"
      ],
      "text/plain": [
       "[1] 381"
      ]
     },
     "metadata": {},
     "output_type": "display_data"
    }
   ],
   "source": [
    "Liver_clusters_containsCS.100NN.HepG2_ENSGnoVersionGENESYMBOL_minTPM0.TAD_filtered %>% group_by(ChrHMR, StartHMR) %>% top_n(n = 1, wt = -HMRTSSDist) %>% nrow()"
   ]
  },
  {
   "cell_type": "code",
   "execution_count": 34,
   "id": "66f31a62",
   "metadata": {},
   "outputs": [],
   "source": [
    "Liver_clusters_containsCS.100NN.HepG2_ENSGnoVersionGENESYMBOL_minTPM0.TAD_filtered.1NN <-Liver_clusters_containsCS.100NN.HepG2_ENSGnoVersionGENESYMBOL_minTPM0.TAD_filtered %>% \n",
    "group_by(ChrHMR, StartHMR) %>% # Group by each HMR\n",
    "top_n(n = 1, wt = -HMRTSSDist) %>%  # Take top row by lowest Distance\n",
    "top_n(n = 1, wt = TPM) %>%  # Might overlap two genes or have a tie in dist. Take top TPM\n",
    "top_n(n = 1, wt = GENE_SYMBOL)  # Might still overlap two genes with same TPM (often 0TPM), so take first alphabetically\n",
    "\n",
    "Liver_unclustered_cellspecific.100NN.HepG2_ENSGnoVersionGENESYMBOL_minTPM0.TAD_filtered.1NN <-Liver_unclustered_cellspecific.100NN.HepG2_ENSGnoVersionGENESYMBOL_minTPM0.TAD_filtered %>% \n",
    "group_by(ChrHMR, StartHMR) %>% # Group by each HMR\n",
    "top_n(n = 1, wt = -HMRTSSDist) %>%  # Take top row by lowest Distance\n",
    "top_n(n = 1, wt = TPM) %>%  # Might overlap two genes or have a tie in dist. Take top TPM\n",
    "top_n(n = 1, wt = GENE_SYMBOL)  # Might still overlap two genes with same TPM (often 0TPM), so take first alphabetically"
   ]
  },
  {
   "cell_type": "code",
   "execution_count": 49,
   "id": "7ad19b45",
   "metadata": {},
   "outputs": [
    {
     "data": {
      "text/html": [
       "2957"
      ],
      "text/latex": [
       "2957"
      ],
      "text/markdown": [
       "2957"
      ],
      "text/plain": [
       "[1] 2957"
      ]
     },
     "metadata": {},
     "output_type": "display_data"
    }
   ],
   "source": [
    "Liver_unclustered_cellspecific.100NN.HepG2_ENSGnoVersionGENESYMBOL_minTPM0.TAD_filtered %>% \n",
    "group_by(ChrHMR, StartHMR) %>% # Group by each HMR\n",
    "top_n(n = 1, wt = -HMRTSSDist) %>%  # Take top row by lowest Distance\n",
    "top_n(n = 1, wt = TPM) %>%  # Might overlap two genes or have a tie in dist. Take top TPM\n",
    "top_n(n = 1, wt = GENE_SYMBOL) %>% nrow()"
   ]
  },
  {
   "cell_type": "code",
   "execution_count": 50,
   "id": "37d66140",
   "metadata": {},
   "outputs": [
    {
     "data": {
      "text/html": [
       "2957"
      ],
      "text/latex": [
       "2957"
      ],
      "text/markdown": [
       "2957"
      ],
      "text/plain": [
       "[1] 2957"
      ]
     },
     "metadata": {},
     "output_type": "display_data"
    }
   ],
   "source": [
    "Liver_unclustered_cellspecific.100NN.HepG2_ENSGnoVersionGENESYMBOL_minTPM0.TAD_filtered %>% \n",
    "group_by(ChrHMR, StartHMR) %>% # Group by each HMR\n",
    "top_n(n = 1, wt = -HMRTSSDist) %>%  nrow()"
   ]
  },
  {
   "cell_type": "markdown",
   "id": "115bb952",
   "metadata": {},
   "source": [
    "## Calculate fractions"
   ]
  },
  {
   "cell_type": "code",
   "execution_count": 35,
   "id": "c7866d00",
   "metadata": {},
   "outputs": [
    {
     "name": "stdout",
     "output_type": "stream",
     "text": [
      "[1] \"Initialized.\"\n"
     ]
    }
   ],
   "source": [
    "threshold_list <- c(10000,25000,50000,75000,100000,150000)\n",
    "\n",
    "numGene_CLcontainsCS_1NN <- tibble(\n",
    "    thresholds = threshold_list,\n",
    "    HMRGroup = \"Liver_clustersContainsCS\"\n",
    ")\n",
    "\n",
    "numGene_UNCS_1NN <- tibble(\n",
    "    thresholds = threshold_list,\n",
    "    HMRGroup = \"Liver_unclustered\"\n",
    ")\n",
    "\n",
    "\n",
    "get_numGenes_per_threshold <- function(thresh, df){\n",
    "    df %>% filter(HMRTSSDist < thresh) %>% nrow()\n",
    "}\n",
    "                                                    \n",
    "print(\"Initialized.\")"
   ]
  },
  {
   "cell_type": "code",
   "execution_count": 36,
   "id": "58b59453",
   "metadata": {},
   "outputs": [
    {
     "name": "stdout",
     "output_type": "stream",
     "text": [
      "[1] \"Done.\"\n"
     ]
    }
   ],
   "source": [
    "# Get numbers by threshold\n",
    "\n",
    "# CLusters that contain Cell Specific \n",
    "CLcontainsCS_counts <- map(threshold_list, get_numGenes_per_threshold, df = Liver_clusters_containsCS.100NN.HepG2_ENSGnoVersionGENESYMBOL_minTPM0.TAD_filtered.1NN)\n",
    "\n",
    "numGene_CLcontainsCS_1NN$HMRCounts <- unlist(CLcontainsCS_counts)\n",
    "\n",
    "\n",
    "\n",
    "# UNclustered Cell specific \n",
    "UNCS_counts <- map(threshold_list, get_numGenes_per_threshold, df = Liver_unclustered_cellspecific.100NN.HepG2_ENSGnoVersionGENESYMBOL_minTPM0.TAD_filtered.1NN)\n",
    "\n",
    "numGene_UNCS_1NN$HMRCounts <- unlist(UNCS_counts)\n",
    "\n",
    "print(\"Done.\")"
   ]
  },
  {
   "cell_type": "code",
   "execution_count": 48,
   "id": "3e8d2f91",
   "metadata": {},
   "outputs": [
    {
     "data": {
      "text/html": [
       "<ol>\n",
       "\t<li>175</li>\n",
       "\t<li>564</li>\n",
       "\t<li>1027</li>\n",
       "\t<li>1340</li>\n",
       "\t<li>1558</li>\n",
       "\t<li>1834</li>\n",
       "</ol>\n"
      ],
      "text/latex": [
       "\\begin{enumerate}\n",
       "\\item 175\n",
       "\\item 564\n",
       "\\item 1027\n",
       "\\item 1340\n",
       "\\item 1558\n",
       "\\item 1834\n",
       "\\end{enumerate}\n"
      ],
      "text/markdown": [
       "1. 175\n",
       "2. 564\n",
       "3. 1027\n",
       "4. 1340\n",
       "5. 1558\n",
       "6. 1834\n",
       "\n",
       "\n"
      ],
      "text/plain": [
       "[[1]]\n",
       "[1] 175\n",
       "\n",
       "[[2]]\n",
       "[1] 564\n",
       "\n",
       "[[3]]\n",
       "[1] 1027\n",
       "\n",
       "[[4]]\n",
       "[1] 1340\n",
       "\n",
       "[[5]]\n",
       "[1] 1558\n",
       "\n",
       "[[6]]\n",
       "[1] 1834\n"
      ]
     },
     "metadata": {},
     "output_type": "display_data"
    }
   ],
   "source": [
    "UNCS_counts"
   ]
  },
  {
   "cell_type": "code",
   "execution_count": 37,
   "id": "bb02e46f",
   "metadata": {},
   "outputs": [
    {
     "data": {
      "text/html": [
       "<table class=\"dataframe\">\n",
       "<caption>A tibble: 6 × 3</caption>\n",
       "<thead>\n",
       "\t<tr><th scope=col>thresholds</th><th scope=col>HMRGroup</th><th scope=col>HMRCounts</th></tr>\n",
       "\t<tr><th scope=col>&lt;dbl&gt;</th><th scope=col>&lt;chr&gt;</th><th scope=col>&lt;int&gt;</th></tr>\n",
       "</thead>\n",
       "<tbody>\n",
       "\t<tr><td> 10000</td><td>Liver_clustersContainsCS</td><td> 83</td></tr>\n",
       "\t<tr><td> 25000</td><td>Liver_clustersContainsCS</td><td>146</td></tr>\n",
       "\t<tr><td> 50000</td><td>Liver_clustersContainsCS</td><td>207</td></tr>\n",
       "\t<tr><td> 75000</td><td>Liver_clustersContainsCS</td><td>236</td></tr>\n",
       "\t<tr><td>100000</td><td>Liver_clustersContainsCS</td><td>260</td></tr>\n",
       "\t<tr><td>150000</td><td>Liver_clustersContainsCS</td><td>297</td></tr>\n",
       "</tbody>\n",
       "</table>\n"
      ],
      "text/latex": [
       "A tibble: 6 × 3\n",
       "\\begin{tabular}{lll}\n",
       " thresholds & HMRGroup & HMRCounts\\\\\n",
       " <dbl> & <chr> & <int>\\\\\n",
       "\\hline\n",
       "\t  10000 & Liver\\_clustersContainsCS &  83\\\\\n",
       "\t  25000 & Liver\\_clustersContainsCS & 146\\\\\n",
       "\t  50000 & Liver\\_clustersContainsCS & 207\\\\\n",
       "\t  75000 & Liver\\_clustersContainsCS & 236\\\\\n",
       "\t 100000 & Liver\\_clustersContainsCS & 260\\\\\n",
       "\t 150000 & Liver\\_clustersContainsCS & 297\\\\\n",
       "\\end{tabular}\n"
      ],
      "text/markdown": [
       "\n",
       "A tibble: 6 × 3\n",
       "\n",
       "| thresholds &lt;dbl&gt; | HMRGroup &lt;chr&gt; | HMRCounts &lt;int&gt; |\n",
       "|---|---|---|\n",
       "|  10000 | Liver_clustersContainsCS |  83 |\n",
       "|  25000 | Liver_clustersContainsCS | 146 |\n",
       "|  50000 | Liver_clustersContainsCS | 207 |\n",
       "|  75000 | Liver_clustersContainsCS | 236 |\n",
       "| 100000 | Liver_clustersContainsCS | 260 |\n",
       "| 150000 | Liver_clustersContainsCS | 297 |\n",
       "\n"
      ],
      "text/plain": [
       "  thresholds HMRGroup                 HMRCounts\n",
       "1  10000     Liver_clustersContainsCS  83      \n",
       "2  25000     Liver_clustersContainsCS 146      \n",
       "3  50000     Liver_clustersContainsCS 207      \n",
       "4  75000     Liver_clustersContainsCS 236      \n",
       "5 100000     Liver_clustersContainsCS 260      \n",
       "6 150000     Liver_clustersContainsCS 297      "
      ]
     },
     "metadata": {},
     "output_type": "display_data"
    }
   ],
   "source": [
    "numGene_CLcontainsCS_1NN"
   ]
  },
  {
   "cell_type": "code",
   "execution_count": 47,
   "id": "94505615",
   "metadata": {},
   "outputs": [
    {
     "data": {
      "text/html": [
       "<table class=\"dataframe\">\n",
       "<caption>A tibble: 6 × 3</caption>\n",
       "<thead>\n",
       "\t<tr><th scope=col>thresholds</th><th scope=col>HMRGroup</th><th scope=col>HMRCounts</th></tr>\n",
       "\t<tr><th scope=col>&lt;dbl&gt;</th><th scope=col>&lt;chr&gt;</th><th scope=col>&lt;int&gt;</th></tr>\n",
       "</thead>\n",
       "<tbody>\n",
       "\t<tr><td> 10000</td><td>Liver_unclustered</td><td> 175</td></tr>\n",
       "\t<tr><td> 25000</td><td>Liver_unclustered</td><td> 564</td></tr>\n",
       "\t<tr><td> 50000</td><td>Liver_unclustered</td><td>1027</td></tr>\n",
       "\t<tr><td> 75000</td><td>Liver_unclustered</td><td>1340</td></tr>\n",
       "\t<tr><td>100000</td><td>Liver_unclustered</td><td>1558</td></tr>\n",
       "\t<tr><td>150000</td><td>Liver_unclustered</td><td>1834</td></tr>\n",
       "</tbody>\n",
       "</table>\n"
      ],
      "text/latex": [
       "A tibble: 6 × 3\n",
       "\\begin{tabular}{lll}\n",
       " thresholds & HMRGroup & HMRCounts\\\\\n",
       " <dbl> & <chr> & <int>\\\\\n",
       "\\hline\n",
       "\t  10000 & Liver\\_unclustered &  175\\\\\n",
       "\t  25000 & Liver\\_unclustered &  564\\\\\n",
       "\t  50000 & Liver\\_unclustered & 1027\\\\\n",
       "\t  75000 & Liver\\_unclustered & 1340\\\\\n",
       "\t 100000 & Liver\\_unclustered & 1558\\\\\n",
       "\t 150000 & Liver\\_unclustered & 1834\\\\\n",
       "\\end{tabular}\n"
      ],
      "text/markdown": [
       "\n",
       "A tibble: 6 × 3\n",
       "\n",
       "| thresholds &lt;dbl&gt; | HMRGroup &lt;chr&gt; | HMRCounts &lt;int&gt; |\n",
       "|---|---|---|\n",
       "|  10000 | Liver_unclustered |  175 |\n",
       "|  25000 | Liver_unclustered |  564 |\n",
       "|  50000 | Liver_unclustered | 1027 |\n",
       "|  75000 | Liver_unclustered | 1340 |\n",
       "| 100000 | Liver_unclustered | 1558 |\n",
       "| 150000 | Liver_unclustered | 1834 |\n",
       "\n"
      ],
      "text/plain": [
       "  thresholds HMRGroup          HMRCounts\n",
       "1  10000     Liver_unclustered  175     \n",
       "2  25000     Liver_unclustered  564     \n",
       "3  50000     Liver_unclustered 1027     \n",
       "4  75000     Liver_unclustered 1340     \n",
       "5 100000     Liver_unclustered 1558     \n",
       "6 150000     Liver_unclustered 1834     "
      ]
     },
     "metadata": {},
     "output_type": "display_data"
    }
   ],
   "source": [
    "numGene_UNCS_1NN"
   ]
  },
  {
   "cell_type": "code",
   "execution_count": null,
   "id": "b2bc2439",
   "metadata": {},
   "outputs": [],
   "source": []
  },
  {
   "cell_type": "code",
   "execution_count": 38,
   "id": "7d1e9a75",
   "metadata": {},
   "outputs": [
    {
     "name": "stdout",
     "output_type": "stream",
     "text": [
      "[1] \"Done.\"\n"
     ]
    }
   ],
   "source": [
    "# Calc fraction\n",
    "numGene_CLcontainsCS_1NN_fraction <- numGene_CLcontainsCS_1NN %>% mutate(fraction = (HMRCounts/798) )\n",
    "numGene_UNCS_1NN_fraction <- numGene_UNCS_1NN %>% mutate(fraction = (HMRCounts/5424) )\n",
    "\n",
    "numGene_CLcontainsCS_UNCS_1NN_fraction <- rbind(numGene_CLcontainsCS_1NN_fraction, numGene_UNCS_1NN_fraction)\n",
    "\n",
    "print(\"Done.\")"
   ]
  },
  {
   "cell_type": "markdown",
   "id": "30db8675",
   "metadata": {},
   "source": [
    "## Plot"
   ]
  },
  {
   "cell_type": "code",
   "execution_count": 39,
   "id": "3b93b4bf",
   "metadata": {},
   "outputs": [
    {
     "data": {
      "image/png": "[encoded data removed]",
      "text/plain": [
       "plot without title"
      ]
     },
     "metadata": {
      "image/png": {
       "height": 420,
       "width": 420
      }
     },
     "output_type": "display_data"
    }
   ],
   "source": [
    "p_numGene_1NN <- numGene_CLcontainsCS_UNCS_1NN_fraction %>%\n",
    "ggplot(aes(x = thresholds, y = fraction)) +\n",
    "geom_point(aes(color = HMRGroup)) + \n",
    "geom_line(aes(color = HMRGroup)) +\n",
    "theme_minimal() +\n",
    "scale_color_manual(values=c(\"#B0DAB6\", \"#3990C0\")) +\n",
    "theme(aspect.ratio = .7, legend.position = \"top\") +\n",
    "scale_x_continuous(breaks=threshold_list) +\n",
    "ylab(\"Fraction HMRs with Gene Assignment\")\n",
    "p_numGene_1NN"
   ]
  },
  {
   "cell_type": "code",
   "execution_count": null,
   "id": "63a7219c",
   "metadata": {},
   "outputs": [],
   "source": [
    "## Fraction of fractions"
   ]
  },
  {
   "cell_type": "code",
   "execution_count": 40,
   "id": "b00102cc",
   "metadata": {},
   "outputs": [],
   "source": [
    "numGene_CLcontainsCS_UNCS_1NN_fractionRatio <- merge(numGene_CLcontainsCS_1NN_fraction, numGene_UNCS_1NN_fraction, by = \"thresholds\") %>% mutate(fractionRatio = (fraction.x/fraction.y))"
   ]
  },
  {
   "cell_type": "code",
   "execution_count": 41,
   "id": "dfb490ff",
   "metadata": {},
   "outputs": [
    {
     "data": {
      "text/html": [
       "<table class=\"dataframe\">\n",
       "<caption>A data.frame: 6 × 8</caption>\n",
       "<thead>\n",
       "\t<tr><th scope=col>thresholds</th><th scope=col>HMRGroup.x</th><th scope=col>HMRCounts.x</th><th scope=col>fraction.x</th><th scope=col>HMRGroup.y</th><th scope=col>HMRCounts.y</th><th scope=col>fraction.y</th><th scope=col>fractionRatio</th></tr>\n",
       "\t<tr><th scope=col>&lt;dbl&gt;</th><th scope=col>&lt;chr&gt;</th><th scope=col>&lt;int&gt;</th><th scope=col>&lt;dbl&gt;</th><th scope=col>&lt;chr&gt;</th><th scope=col>&lt;int&gt;</th><th scope=col>&lt;dbl&gt;</th><th scope=col>&lt;dbl&gt;</th></tr>\n",
       "</thead>\n",
       "<tbody>\n",
       "\t<tr><td> 10000</td><td>Liver_clustersContainsCS</td><td> 83</td><td>0.1040100</td><td>Liver_unclustered</td><td> 175</td><td>0.03226401</td><td>3.223716</td></tr>\n",
       "\t<tr><td> 25000</td><td>Liver_clustersContainsCS</td><td>146</td><td>0.1829574</td><td>Liver_unclustered</td><td> 564</td><td>0.10398230</td><td>1.759505</td></tr>\n",
       "\t<tr><td> 50000</td><td>Liver_clustersContainsCS</td><td>207</td><td>0.2593985</td><td>Liver_unclustered</td><td>1027</td><td>0.18934366</td><td>1.369988</td></tr>\n",
       "\t<tr><td> 75000</td><td>Liver_clustersContainsCS</td><td>236</td><td>0.2957393</td><td>Liver_unclustered</td><td>1340</td><td>0.24705015</td><td>1.197082</td></tr>\n",
       "\t<tr><td>100000</td><td>Liver_clustersContainsCS</td><td>260</td><td>0.3258145</td><td>Liver_unclustered</td><td>1558</td><td>0.28724189</td><td>1.134286</td></tr>\n",
       "\t<tr><td>150000</td><td>Liver_clustersContainsCS</td><td>297</td><td>0.3721805</td><td>Liver_unclustered</td><td>1834</td><td>0.33812684</td><td>1.100713</td></tr>\n",
       "</tbody>\n",
       "</table>\n"
      ],
      "text/latex": [
       "A data.frame: 6 × 8\n",
       "\\begin{tabular}{llllllll}\n",
       " thresholds & HMRGroup.x & HMRCounts.x & fraction.x & HMRGroup.y & HMRCounts.y & fraction.y & fractionRatio\\\\\n",
       " <dbl> & <chr> & <int> & <dbl> & <chr> & <int> & <dbl> & <dbl>\\\\\n",
       "\\hline\n",
       "\t  10000 & Liver\\_clustersContainsCS &  83 & 0.1040100 & Liver\\_unclustered &  175 & 0.03226401 & 3.223716\\\\\n",
       "\t  25000 & Liver\\_clustersContainsCS & 146 & 0.1829574 & Liver\\_unclustered &  564 & 0.10398230 & 1.759505\\\\\n",
       "\t  50000 & Liver\\_clustersContainsCS & 207 & 0.2593985 & Liver\\_unclustered & 1027 & 0.18934366 & 1.369988\\\\\n",
       "\t  75000 & Liver\\_clustersContainsCS & 236 & 0.2957393 & Liver\\_unclustered & 1340 & 0.24705015 & 1.197082\\\\\n",
       "\t 100000 & Liver\\_clustersContainsCS & 260 & 0.3258145 & Liver\\_unclustered & 1558 & 0.28724189 & 1.134286\\\\\n",
       "\t 150000 & Liver\\_clustersContainsCS & 297 & 0.3721805 & Liver\\_unclustered & 1834 & 0.33812684 & 1.100713\\\\\n",
       "\\end{tabular}\n"
      ],
      "text/markdown": [
       "\n",
       "A data.frame: 6 × 8\n",
       "\n",
       "| thresholds &lt;dbl&gt; | HMRGroup.x &lt;chr&gt; | HMRCounts.x &lt;int&gt; | fraction.x &lt;dbl&gt; | HMRGroup.y &lt;chr&gt; | HMRCounts.y &lt;int&gt; | fraction.y &lt;dbl&gt; | fractionRatio &lt;dbl&gt; |\n",
       "|---|---|---|---|---|---|---|---|\n",
       "|  10000 | Liver_clustersContainsCS |  83 | 0.1040100 | Liver_unclustered |  175 | 0.03226401 | 3.223716 |\n",
       "|  25000 | Liver_clustersContainsCS | 146 | 0.1829574 | Liver_unclustered |  564 | 0.10398230 | 1.759505 |\n",
       "|  50000 | Liver_clustersContainsCS | 207 | 0.2593985 | Liver_unclustered | 1027 | 0.18934366 | 1.369988 |\n",
       "|  75000 | Liver_clustersContainsCS | 236 | 0.2957393 | Liver_unclustered | 1340 | 0.24705015 | 1.197082 |\n",
       "| 100000 | Liver_clustersContainsCS | 260 | 0.3258145 | Liver_unclustered | 1558 | 0.28724189 | 1.134286 |\n",
       "| 150000 | Liver_clustersContainsCS | 297 | 0.3721805 | Liver_unclustered | 1834 | 0.33812684 | 1.100713 |\n",
       "\n"
      ],
      "text/plain": [
       "  thresholds HMRGroup.x               HMRCounts.x fraction.x HMRGroup.y       \n",
       "1  10000     Liver_clustersContainsCS  83         0.1040100  Liver_unclustered\n",
       "2  25000     Liver_clustersContainsCS 146         0.1829574  Liver_unclustered\n",
       "3  50000     Liver_clustersContainsCS 207         0.2593985  Liver_unclustered\n",
       "4  75000     Liver_clustersContainsCS 236         0.2957393  Liver_unclustered\n",
       "5 100000     Liver_clustersContainsCS 260         0.3258145  Liver_unclustered\n",
       "6 150000     Liver_clustersContainsCS 297         0.3721805  Liver_unclustered\n",
       "  HMRCounts.y fraction.y fractionRatio\n",
       "1  175        0.03226401 3.223716     \n",
       "2  564        0.10398230 1.759505     \n",
       "3 1027        0.18934366 1.369988     \n",
       "4 1340        0.24705015 1.197082     \n",
       "5 1558        0.28724189 1.134286     \n",
       "6 1834        0.33812684 1.100713     "
      ]
     },
     "metadata": {},
     "output_type": "display_data"
    }
   ],
   "source": [
    "numGene_CLcontainsCS_UNCS_1NN_fractionRatio"
   ]
  },
  {
   "cell_type": "code",
   "execution_count": 42,
   "id": "7b5a6626",
   "metadata": {},
   "outputs": [
    {
     "data": {
      "image/png": "[encoded data removed]",
      "text/plain": [
       "plot without title"
      ]
     },
     "metadata": {
      "image/png": {
       "height": 420,
       "width": 420
      }
     },
     "output_type": "display_data"
    }
   ],
   "source": [
    "p_numGeneFraction_1NN <- numGene_CLcontainsCS_UNCS_1NN_fractionRatio %>% \n",
    "ggplot(aes(x = thresholds, y = fractionRatio)) +\n",
    "geom_point() + \n",
    "geom_line() +\n",
    "geom_hline(yintercept = 1, color = \"red\") + \n",
    "coord_cartesian(ylim = c(1,4.5)) +\n",
    "theme_minimal() +\n",
    "scale_x_continuous(breaks=threshold_list) + \n",
    "theme(aspect.ratio = .25) +\n",
    "ylab(\"FractionCL/FractionUN\")\n",
    "\n",
    "p_numGeneFraction_1NN"
   ]
  },
  {
   "cell_type": "code",
   "execution_count": 43,
   "id": "e4db8b58",
   "metadata": {},
   "outputs": [
    {
     "data": {
      "image/png": "[encoded data removed]",
      "text/plain": [
       "plot without title"
      ]
     },
     "metadata": {
      "image/png": {
       "height": 420,
       "width": 420
      }
     },
     "output_type": "display_data"
    }
   ],
   "source": [
    "ggpubr::ggarrange(p_numGene_1NN, p_numGeneFraction_1NN, nrow = 2, align = \"v\", heights = c(4, 1.539))"
   ]
  },
  {
   "cell_type": "markdown",
   "id": "5f16ae16",
   "metadata": {},
   "source": [
    "## Stats for fractions"
   ]
  },
  {
   "cell_type": "code",
   "execution_count": 44,
   "id": "4b33cd30",
   "metadata": {},
   "outputs": [
    {
     "data": {
      "text/html": [
       "<table class=\"dataframe\">\n",
       "<caption>A data.frame: 3 × 8</caption>\n",
       "<thead>\n",
       "\t<tr><th></th><th scope=col>thresholds</th><th scope=col>HMRGroup.x</th><th scope=col>HMRCounts.x</th><th scope=col>fraction.x</th><th scope=col>HMRGroup.y</th><th scope=col>HMRCounts.y</th><th scope=col>fraction.y</th><th scope=col>fractionRatio</th></tr>\n",
       "\t<tr><th></th><th scope=col>&lt;dbl&gt;</th><th scope=col>&lt;chr&gt;</th><th scope=col>&lt;int&gt;</th><th scope=col>&lt;dbl&gt;</th><th scope=col>&lt;chr&gt;</th><th scope=col>&lt;int&gt;</th><th scope=col>&lt;dbl&gt;</th><th scope=col>&lt;dbl&gt;</th></tr>\n",
       "</thead>\n",
       "<tbody>\n",
       "\t<tr><th scope=row>1</th><td>10000</td><td>Liver_clustersContainsCS</td><td> 83</td><td>0.1040100</td><td>Liver_unclustered</td><td> 175</td><td>0.03226401</td><td>3.223716</td></tr>\n",
       "\t<tr><th scope=row>2</th><td>25000</td><td>Liver_clustersContainsCS</td><td>146</td><td>0.1829574</td><td>Liver_unclustered</td><td> 564</td><td>0.10398230</td><td>1.759505</td></tr>\n",
       "\t<tr><th scope=row>3</th><td>50000</td><td>Liver_clustersContainsCS</td><td>207</td><td>0.2593985</td><td>Liver_unclustered</td><td>1027</td><td>0.18934366</td><td>1.369988</td></tr>\n",
       "</tbody>\n",
       "</table>\n"
      ],
      "text/latex": [
       "A data.frame: 3 × 8\n",
       "\\begin{tabular}{r|llllllll}\n",
       "  & thresholds & HMRGroup.x & HMRCounts.x & fraction.x & HMRGroup.y & HMRCounts.y & fraction.y & fractionRatio\\\\\n",
       "  & <dbl> & <chr> & <int> & <dbl> & <chr> & <int> & <dbl> & <dbl>\\\\\n",
       "\\hline\n",
       "\t1 & 10000 & Liver\\_clustersContainsCS &  83 & 0.1040100 & Liver\\_unclustered &  175 & 0.03226401 & 3.223716\\\\\n",
       "\t2 & 25000 & Liver\\_clustersContainsCS & 146 & 0.1829574 & Liver\\_unclustered &  564 & 0.10398230 & 1.759505\\\\\n",
       "\t3 & 50000 & Liver\\_clustersContainsCS & 207 & 0.2593985 & Liver\\_unclustered & 1027 & 0.18934366 & 1.369988\\\\\n",
       "\\end{tabular}\n"
      ],
      "text/markdown": [
       "\n",
       "A data.frame: 3 × 8\n",
       "\n",
       "| <!--/--> | thresholds &lt;dbl&gt; | HMRGroup.x &lt;chr&gt; | HMRCounts.x &lt;int&gt; | fraction.x &lt;dbl&gt; | HMRGroup.y &lt;chr&gt; | HMRCounts.y &lt;int&gt; | fraction.y &lt;dbl&gt; | fractionRatio &lt;dbl&gt; |\n",
       "|---|---|---|---|---|---|---|---|---|\n",
       "| 1 | 10000 | Liver_clustersContainsCS |  83 | 0.1040100 | Liver_unclustered |  175 | 0.03226401 | 3.223716 |\n",
       "| 2 | 25000 | Liver_clustersContainsCS | 146 | 0.1829574 | Liver_unclustered |  564 | 0.10398230 | 1.759505 |\n",
       "| 3 | 50000 | Liver_clustersContainsCS | 207 | 0.2593985 | Liver_unclustered | 1027 | 0.18934366 | 1.369988 |\n",
       "\n"
      ],
      "text/plain": [
       "  thresholds HMRGroup.x               HMRCounts.x fraction.x HMRGroup.y       \n",
       "1 10000      Liver_clustersContainsCS  83         0.1040100  Liver_unclustered\n",
       "2 25000      Liver_clustersContainsCS 146         0.1829574  Liver_unclustered\n",
       "3 50000      Liver_clustersContainsCS 207         0.2593985  Liver_unclustered\n",
       "  HMRCounts.y fraction.y fractionRatio\n",
       "1  175        0.03226401 3.223716     \n",
       "2  564        0.10398230 1.759505     \n",
       "3 1027        0.18934366 1.369988     "
      ]
     },
     "metadata": {},
     "output_type": "display_data"
    }
   ],
   "source": [
    "head(numGene_CLcontainsCS_UNCS_1NN_fractionRatio, 3)"
   ]
  },
  {
   "cell_type": "code",
   "execution_count": 33,
   "id": "86d28432",
   "metadata": {
    "scrolled": true
   },
   "outputs": [
    {
     "data": {
      "text/html": [
       "<table class=\"dataframe\">\n",
       "<caption>A rowwise_df: 6 × 10</caption>\n",
       "<thead>\n",
       "\t<tr><th scope=col>thresholds</th><th scope=col>HMRGroup.x</th><th scope=col>HMRCounts.x</th><th scope=col>fraction.x</th><th scope=col>HMRGroup.y</th><th scope=col>HMRCounts.y</th><th scope=col>fraction.y</th><th scope=col>fractionRatio</th><th scope=col>propTestP</th><th scope=col>propTestStat</th></tr>\n",
       "\t<tr><th scope=col>&lt;dbl&gt;</th><th scope=col>&lt;chr&gt;</th><th scope=col>&lt;int&gt;</th><th scope=col>&lt;dbl&gt;</th><th scope=col>&lt;chr&gt;</th><th scope=col>&lt;int&gt;</th><th scope=col>&lt;dbl&gt;</th><th scope=col>&lt;dbl&gt;</th><th scope=col>&lt;dbl&gt;</th><th scope=col>&lt;dbl&gt;</th></tr>\n",
       "</thead>\n",
       "<tbody>\n",
       "\t<tr><td> 10000</td><td>Liver_clustersContainsCS</td><td> 83</td><td>0.1040100</td><td>Liver_unclustered</td><td> 175</td><td>0.03226401</td><td>3.223716</td><td>5.633194e-21</td><td>88.296890</td></tr>\n",
       "\t<tr><td> 25000</td><td>Liver_clustersContainsCS</td><td>146</td><td>0.1829574</td><td>Liver_unclustered</td><td> 564</td><td>0.10398230</td><td>1.759505</td><td>8.484266e-11</td><td>42.142871</td></tr>\n",
       "\t<tr><td> 50000</td><td>Liver_clustersContainsCS</td><td>207</td><td>0.2593985</td><td>Liver_unclustered</td><td>1027</td><td>0.18934366</td><td>1.369988</td><td>4.511161e-06</td><td>21.034377</td></tr>\n",
       "\t<tr><td> 75000</td><td>Liver_clustersContainsCS</td><td>236</td><td>0.2957393</td><td>Liver_unclustered</td><td>1340</td><td>0.24705015</td><td>1.197082</td><td>3.622866e-03</td><td> 8.463788</td></tr>\n",
       "\t<tr><td>100000</td><td>Liver_clustersContainsCS</td><td>260</td><td>0.3258145</td><td>Liver_unclustered</td><td>1558</td><td>0.28724189</td><td>1.134286</td><td>2.813396e-02</td><td> 4.819840</td></tr>\n",
       "\t<tr><td>150000</td><td>Liver_clustersContainsCS</td><td>297</td><td>0.3721805</td><td>Liver_unclustered</td><td>1834</td><td>0.33812684</td><td>1.100713</td><td>6.391721e-02</td><td> 3.432708</td></tr>\n",
       "</tbody>\n",
       "</table>\n"
      ],
      "text/latex": [
       "A rowwise\\_df: 6 × 10\n",
       "\\begin{tabular}{llllllllll}\n",
       " thresholds & HMRGroup.x & HMRCounts.x & fraction.x & HMRGroup.y & HMRCounts.y & fraction.y & fractionRatio & propTestP & propTestStat\\\\\n",
       " <dbl> & <chr> & <int> & <dbl> & <chr> & <int> & <dbl> & <dbl> & <dbl> & <dbl>\\\\\n",
       "\\hline\n",
       "\t  10000 & Liver\\_clustersContainsCS &  83 & 0.1040100 & Liver\\_unclustered &  175 & 0.03226401 & 3.223716 & 5.633194e-21 & 88.296890\\\\\n",
       "\t  25000 & Liver\\_clustersContainsCS & 146 & 0.1829574 & Liver\\_unclustered &  564 & 0.10398230 & 1.759505 & 8.484266e-11 & 42.142871\\\\\n",
       "\t  50000 & Liver\\_clustersContainsCS & 207 & 0.2593985 & Liver\\_unclustered & 1027 & 0.18934366 & 1.369988 & 4.511161e-06 & 21.034377\\\\\n",
       "\t  75000 & Liver\\_clustersContainsCS & 236 & 0.2957393 & Liver\\_unclustered & 1340 & 0.24705015 & 1.197082 & 3.622866e-03 &  8.463788\\\\\n",
       "\t 100000 & Liver\\_clustersContainsCS & 260 & 0.3258145 & Liver\\_unclustered & 1558 & 0.28724189 & 1.134286 & 2.813396e-02 &  4.819840\\\\\n",
       "\t 150000 & Liver\\_clustersContainsCS & 297 & 0.3721805 & Liver\\_unclustered & 1834 & 0.33812684 & 1.100713 & 6.391721e-02 &  3.432708\\\\\n",
       "\\end{tabular}\n"
      ],
      "text/markdown": [
       "\n",
       "A rowwise_df: 6 × 10\n",
       "\n",
       "| thresholds &lt;dbl&gt; | HMRGroup.x &lt;chr&gt; | HMRCounts.x &lt;int&gt; | fraction.x &lt;dbl&gt; | HMRGroup.y &lt;chr&gt; | HMRCounts.y &lt;int&gt; | fraction.y &lt;dbl&gt; | fractionRatio &lt;dbl&gt; | propTestP &lt;dbl&gt; | propTestStat &lt;dbl&gt; |\n",
       "|---|---|---|---|---|---|---|---|---|---|\n",
       "|  10000 | Liver_clustersContainsCS |  83 | 0.1040100 | Liver_unclustered |  175 | 0.03226401 | 3.223716 | 5.633194e-21 | 88.296890 |\n",
       "|  25000 | Liver_clustersContainsCS | 146 | 0.1829574 | Liver_unclustered |  564 | 0.10398230 | 1.759505 | 8.484266e-11 | 42.142871 |\n",
       "|  50000 | Liver_clustersContainsCS | 207 | 0.2593985 | Liver_unclustered | 1027 | 0.18934366 | 1.369988 | 4.511161e-06 | 21.034377 |\n",
       "|  75000 | Liver_clustersContainsCS | 236 | 0.2957393 | Liver_unclustered | 1340 | 0.24705015 | 1.197082 | 3.622866e-03 |  8.463788 |\n",
       "| 100000 | Liver_clustersContainsCS | 260 | 0.3258145 | Liver_unclustered | 1558 | 0.28724189 | 1.134286 | 2.813396e-02 |  4.819840 |\n",
       "| 150000 | Liver_clustersContainsCS | 297 | 0.3721805 | Liver_unclustered | 1834 | 0.33812684 | 1.100713 | 6.391721e-02 |  3.432708 |\n",
       "\n"
      ],
      "text/plain": [
       "  thresholds HMRGroup.x               HMRCounts.x fraction.x HMRGroup.y       \n",
       "1  10000     Liver_clustersContainsCS  83         0.1040100  Liver_unclustered\n",
       "2  25000     Liver_clustersContainsCS 146         0.1829574  Liver_unclustered\n",
       "3  50000     Liver_clustersContainsCS 207         0.2593985  Liver_unclustered\n",
       "4  75000     Liver_clustersContainsCS 236         0.2957393  Liver_unclustered\n",
       "5 100000     Liver_clustersContainsCS 260         0.3258145  Liver_unclustered\n",
       "6 150000     Liver_clustersContainsCS 297         0.3721805  Liver_unclustered\n",
       "  HMRCounts.y fraction.y fractionRatio propTestP    propTestStat\n",
       "1  175        0.03226401 3.223716      5.633194e-21 88.296890   \n",
       "2  564        0.10398230 1.759505      8.484266e-11 42.142871   \n",
       "3 1027        0.18934366 1.369988      4.511161e-06 21.034377   \n",
       "4 1340        0.24705015 1.197082      3.622866e-03  8.463788   \n",
       "5 1558        0.28724189 1.134286      2.813396e-02  4.819840   \n",
       "6 1834        0.33812684 1.100713      6.391721e-02  3.432708   "
      ]
     },
     "metadata": {},
     "output_type": "display_data"
    }
   ],
   "source": [
    "numGene_CLcontainsCS_UNCS_1NN_fractionRatio_pvals <- numGene_CLcontainsCS_UNCS_1NN_fractionRatio %>% rowwise() %>% mutate(\n",
    "    propTestP = prop.test(x = c(HMRCounts.x, HMRCounts.y), n = c(798, 5424))$p.value,\n",
    "    propTestStat = prop.test(x = c(HMRCounts.x, HMRCounts.y), n = c(798, 5424))$statistic,\n",
    ")\n",
    "numGene_CLcontainsCS_UNCS_1NN_fractionRatio_pvals"
   ]
  },
  {
   "cell_type": "code",
   "execution_count": 45,
   "id": "c6b5a1ff",
   "metadata": {},
   "outputs": [
    {
     "data": {
      "image/png": "[encoded data removed]",
      "text/plain": [
       "plot without title"
      ]
     },
     "metadata": {
      "image/png": {
       "height": 420,
       "width": 420
      }
     },
     "output_type": "display_data"
    }
   ],
   "source": [
    "p_numGene_1NN_stats <- p_numGene_1NN +\n",
    "geom_text(data = numGene_CLcontainsCS_UNCS_1NN_fractionRatio_pvals, aes(x = thresholds+1000, y = .5, label = format(propTestP, digits=3)))\n",
    "p_numGene_1NN_stats"
   ]
  },
  {
   "cell_type": "markdown",
   "id": "c2a7801a",
   "metadata": {},
   "source": [
    "## Plot w/ stats"
   ]
  },
  {
   "cell_type": "code",
   "execution_count": 46,
   "id": "5a5770e3",
   "metadata": {},
   "outputs": [
    {
     "data": {
      "text/html": [
       "<strong>png:</strong> 2"
      ],
      "text/latex": [
       "\\textbf{png:} 2"
      ],
      "text/markdown": [
       "**png:** 2"
      ],
      "text/plain": [
       "png \n",
       "  2 "
      ]
     },
     "metadata": {},
     "output_type": "display_data"
    },
    {
     "data": {
      "image/png": "[encoded data removed]",
      "text/plain": [
       "plot without title"
      ]
     },
     "metadata": {
      "image/png": {
       "height": 420,
       "width": 420
      }
     },
     "output_type": "display_data"
    }
   ],
   "source": [
    "pdf(\"Liver.TAD.1NN.UniqueGenes.ProportionOfHMRsbyDistance.June11.pdf\")\n",
    "\n",
    "p_numGene_1NN_stats <- numGene_CLcontainsCS_UNCS_1NN_fraction %>%\n",
    "ggplot(aes(x = thresholds, y = fraction)) +\n",
    "geom_point(aes(color = HMRGroup), size = 5) + \n",
    "geom_line(aes(color = HMRGroup), size = 2) +\n",
    "theme_bw() +\n",
    "scale_color_manual(values=c(\"#B0DAB6\", \"#3990C0\")) +\n",
    "theme(aspect.ratio = .7, legend.position = \"top\") +\n",
    "scale_x_continuous(breaks=threshold_list) +\n",
    "ylab(\"Fraction HMRs with Gene Assignment\") +\n",
    "geom_text(data = numGene_CLcontainsCS_UNCS_1NN_fractionRatio_pvals, aes(x = thresholds+1000, y = .5, label = format(propTestP, digits=3)))\n",
    "p_numGene_1NN_stats\n",
    "\n",
    "dev.off()\n",
    "p_numGene_1NN_stats"
   ]
  },
  {
   "cell_type": "code",
   "execution_count": 17,
   "id": "80b0fc12",
   "metadata": {},
   "outputs": [
    {
     "data": {
      "image/png": "[encoded data removed]",
      "text/plain": [
       "plot without title"
      ]
     },
     "metadata": {
      "image/png": {
       "height": 420,
       "width": 420
      }
     },
     "output_type": "display_data"
    }
   ],
   "source": [
    "p_numGene_1NN_stats <- p_numGene_1NN +\n",
    "geom_text(data = numGene_CLcontainsCS_UNCS_1NN_fractionRatio_pvals, aes(x = thresholds+1000, y = .5, label = format(propTestP, digits=3)))\n",
    "p_numGene_1NN_stats"
   ]
  },
  {
   "cell_type": "code",
   "execution_count": null,
   "id": "7caf2cf8",
   "metadata": {},
   "outputs": [],
   "source": []
  },
  {
   "cell_type": "code",
   "execution_count": 25,
   "id": "c65c4c06",
   "metadata": {
    "scrolled": true
   },
   "outputs": [
    {
     "data": {
      "image/png": "[encoded data removed]",
      "text/plain": [
       "plot without title"
      ]
     },
     "metadata": {
      "image/png": {
       "height": 420,
       "width": 420
      }
     },
     "output_type": "display_data"
    }
   ],
   "source": [
    "ggpubr::ggarrange(p_numGene_1NN_stats, p_numGeneFraction_1NN, nrow = 2, align = \"v\", heights = c(4, 1.539))"
   ]
  }
 ],
 "metadata": {
  "kernelspec": {
   "display_name": "R",
   "language": "R",
   "name": "ir"
  },
  "language_info": {
   "codemirror_mode": "r",
   "file_extension": ".r",
   "mimetype": "text/x-r-source",
   "name": "R",
   "pygments_lexer": "r",
   "version": "4.1.2"
  },
  "toc": {
   "base_numbering": 1,
   "nav_menu": {},
   "number_sections": true,
   "sideBar": true,
   "skip_h1_title": false,
   "title_cell": "Table of Contents",
   "title_sidebar": "Contents",
   "toc_cell": false,
   "toc_position": {
    "height": "calc(100% - 180px)",
    "left": "10px",
    "top": "150px",
    "width": "309.797px"
   },
   "toc_section_display": true,
   "toc_window_display": true
  }
 },
 "nbformat": 4,
 "nbformat_minor": 5
}

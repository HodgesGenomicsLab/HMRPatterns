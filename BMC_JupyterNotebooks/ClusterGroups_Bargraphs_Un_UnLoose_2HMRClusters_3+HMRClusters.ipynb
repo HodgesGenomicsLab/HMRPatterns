{
 "cells": [
  {
   "cell_type": "markdown",
   "id": "16d77baa",
   "metadata": {},
   "source": [
    "# B cell: Compute cluster groups "
   ]
  },
  {
   "cell_type": "code",
   "execution_count": 3,
   "id": "ead6f1d9",
   "metadata": {},
   "outputs": [],
   "source": [
    "WRK_DIR=/data/hodges_lab/Tim/ClusterTesting/\n",
    "mkdir -p ${WRK_DIR}"
   ]
  },
  {
   "cell_type": "code",
   "execution_count": 2,
   "id": "8c116060",
   "metadata": {},
   "outputs": [],
   "source": [
    "# RefSeq TSS/Exon file\n",
    "TSSExon_FILE=/data/hodges_lab/Tim/finalAnalyses_HMRs/hp_lineage/referenceFiles/ncbiRefSeqCurated_NM.promotersUp2000Down1000AndExons.txt "
   ]
  },
  {
   "cell_type": "code",
   "execution_count": 3,
   "id": "2a410cf8",
   "metadata": {},
   "outputs": [
    {
     "name": "stdout",
     "output_type": "stream",
     "text": [
      "34070 /data/hodges_lab/Tim/finalAnalyses_HMRs/hp_lineage/filtRefSeqFiles/Bcell.minsize50.filtforrefseqTSSexons.txt\n"
     ]
    }
   ],
   "source": [
    "# B cell - filtered for RefSeq TSS/Exon file \n",
    "BCL_FILE=/data/hodges_lab/Tim/finalAnalyses_HMRs/hp_lineage/filtRefSeqFiles/Bcell.minsize50.filtforrefseqTSSexons.txt\n",
    "\n",
    "wc -l ${BCL_FILE}"
   ]
  },
  {
   "cell_type": "code",
   "execution_count": 4,
   "id": "ef7b5281",
   "metadata": {},
   "outputs": [
    {
     "name": "stdout",
     "output_type": "stream",
     "text": [
      "54998 /data/hodges_lab/Tim/finalAnalyses_HMRs/hp_lineage/startingBEDs/Bcell.hmr.bed\n"
     ]
    }
   ],
   "source": [
    "# B cell - HMR file as downloaded\n",
    "BCL_BASE_FILE=/data/hodges_lab/Tim/finalAnalyses_HMRs/hp_lineage/startingBEDs/Bcell.hmr.bed\n",
    "wc -l ${BCL_BASE_FILE}"
   ]
  },
  {
   "cell_type": "code",
   "execution_count": null,
   "id": "7597bc71",
   "metadata": {},
   "outputs": [],
   "source": []
  },
  {
   "cell_type": "markdown",
   "id": "d831ad97",
   "metadata": {},
   "source": [
    "## Unclustered - current method "
   ]
  },
  {
   "cell_type": "code",
   "execution_count": 5,
   "id": "7f87de23",
   "metadata": {},
   "outputs": [
    {
     "name": "stdout",
     "output_type": "stream",
     "text": [
      "Found unclustered HMRs.\n"
     ]
    }
   ],
   "source": [
    "awk 'BEGIN{OFS=FS=\"\\t\"}{if (($3-$2)>49) print $1,$2,$3}' ${BCL_BASE_FILE} | bedtools merge -c 2 -o count -d 6000 -i - | awk 'BEGIN{FS=OFS=\"\\t\"}{if ($4<2) print}' - | awk 'BEGIN{OFS=FS=\"\\t\"}{print $1,$2,$3}' - | bedtools intersect -v -a - -b ${TSSExon_FILE} > ${WRK_DIR}Bcell_unclustered_hpl.current.txt\n",
    "\n",
    "echo \"Found unclustered HMRs.\""
   ]
  },
  {
   "cell_type": "markdown",
   "id": "562207bc",
   "metadata": {},
   "source": [
    "## Unclustered - RefSeq filter first (More inclusive)"
   ]
  },
  {
   "cell_type": "code",
   "execution_count": 7,
   "id": "8fc96c46",
   "metadata": {},
   "outputs": [
    {
     "name": "stdout",
     "output_type": "stream",
     "text": [
      "Done.\n"
     ]
    }
   ],
   "source": [
    "bedtools merge -c 2 -o count -d 6000 -i ${BCL_FILE} | awk 'BEGIN{FS=OFS=\"\\t\"}{if ($4<2) print}' - | awk 'BEGIN{OFS=FS=\"\\t\"}{print $1,$2,$3}' - > ${WRK_DIR}Bcell_unclustered_hpl.RefSeqFilterFirst.txt\n",
    "\n",
    "echo \"Done.\""
   ]
  },
  {
   "cell_type": "markdown",
   "id": "f1df0bd7",
   "metadata": {},
   "source": [
    "### Unclustered - RefSeq - cell specific "
   ]
  },
  {
   "cell_type": "code",
   "execution_count": 29,
   "id": "fab980af",
   "metadata": {},
   "outputs": [],
   "source": [
    "bedtools intersect -u -a ${WRK_DIR}Bcell_unclustered_hpl.RefSeqFilterFirst.txt -b /data/hodges_lab/Tim/finalAnalyses_HMRs/hp_lineage/HMRs/Bcell_all_cellspecific_hpl.txt > ${WRK_DIR}Bcell_unclustered_hpl.RefSeqFilterFirst.cellspecific.txt"
   ]
  },
  {
   "cell_type": "code",
   "execution_count": null,
   "id": "05e2781c",
   "metadata": {},
   "outputs": [],
   "source": []
  },
  {
   "cell_type": "code",
   "execution_count": null,
   "id": "533ddb96",
   "metadata": {},
   "outputs": [],
   "source": []
  },
  {
   "cell_type": "markdown",
   "id": "ab774689",
   "metadata": {},
   "source": [
    "## Clusters of two - internal clusters "
   ]
  },
  {
   "cell_type": "code",
   "execution_count": null,
   "id": "572a059c",
   "metadata": {},
   "outputs": [],
   "source": [
    "### Old way "
   ]
  },
  {
   "cell_type": "code",
   "execution_count": 7,
   "id": "00929468",
   "metadata": {},
   "outputs": [
    {
     "name": "stdout",
     "output_type": "stream",
     "text": [
      "3734\n"
     ]
    }
   ],
   "source": [
    "bedtools merge -c 2 -o count -d 6000 -i /data/hodges_lab/Tim/finalAnalyses_HMRs/hp_lineage/filtRefSeqFiles/Bcell.minsize50.filtforrefseqTSSexons.txt | awk 'BEGIN{FS=OFS=\"\\t\"}{if ($4==2) print}' - | wc -l"
   ]
  },
  {
   "cell_type": "code",
   "execution_count": null,
   "id": "e367f5b9",
   "metadata": {},
   "outputs": [],
   "source": [
    "### New way start"
   ]
  },
  {
   "cell_type": "code",
   "execution_count": 5,
   "id": "f2eb75db",
   "metadata": {},
   "outputs": [
    {
     "name": "stdout",
     "output_type": "stream",
     "text": [
      "chr1\t67090\t70090\tNM_001005484.1\n",
      "chr1\t69090\t70008\tNM_001005484.1\n",
      "chr1\t365658\t368658\tNM_001005221.2\n",
      "chr1\t367658\t368597\tNM_001005221.2\n",
      "chr1\t621034\t624034\tNM_001005277.1\n",
      "chr1\t621095\t622034\tNM_001005277.1\n",
      "chr1\t859110\t862110\tNM_152486.3\n",
      "chr1\t861110\t861180\tNM_152486.3\n",
      "chr1\t861301\t861393\tNM_152486.3\n",
      "chr1\t865534\t865716\tNM_152486.3\n"
     ]
    }
   ],
   "source": [
    "head ${TSSExon_FILE}"
   ]
  },
  {
   "cell_type": "code",
   "execution_count": 10,
   "id": "ea24ff1a",
   "metadata": {},
   "outputs": [
    {
     "name": "stdout",
     "output_type": "stream",
     "text": [
      "chr1\t249250621\n",
      "chr10\t135534747\n",
      "chr11\t135006516\n",
      "chr12\t133851895\n",
      "chr13\t115169878\n",
      "chr14\t107349540\n",
      "chr15\t102531392\n",
      "chr16\t90354753\n",
      "chr17\t81195210\n",
      "chr18\t78077248\n"
     ]
    }
   ],
   "source": [
    "head /data/hodges_lab/Tim/finalAnalyses_HMRs/hp_lineage/referenceFiles/hg19.chrom.sizes.twoCol.sorted"
   ]
  },
  {
   "cell_type": "code",
   "execution_count": 5,
   "id": "67adf7a9",
   "metadata": {},
   "outputs": [
    {
     "name": "stdout",
     "output_type": "stream",
     "text": [
      "Made whitelist.\n"
     ]
    }
   ],
   "source": [
    "awk 'BEGIN{OFS=FS=\"\\t\"}{if ($1 !~ /\\_/)print $1,$2,$3}' ${TSSExon_FILE} | bedtools sort -i - | bedtools complement -i - -g /data/hodges_lab/Tim/finalAnalyses_HMRs/hp_lineage/referenceFiles/hg19.chrom.sizes.twoCol.sorted > ${WRK_DIR}Bcell_whitelist.txt\n",
    "echo \"Made whitelist.\"\n"
   ]
  },
  {
   "cell_type": "code",
   "execution_count": 15,
   "id": "ecbfb512",
   "metadata": {},
   "outputs": [
    {
     "name": "stdout",
     "output_type": "stream",
     "text": [
      "chr1\t0\t67090\n",
      "chr1\t70090\t365658\n",
      "chr1\t368658\t621034\n",
      "chr1\t624034\t859110\n",
      "chr1\t862110\t865534\n",
      "chr1\t865716\t866418\n",
      "chr1\t866469\t871151\n",
      "chr1\t871276\t874419\n",
      "chr1\t874509\t874654\n",
      "chr1\t874840\t876523\n",
      "chr1\t368658\t621034\t4\n",
      "chr1\t624034\t859110\t13\n",
      "chr1\t866469\t871151\t2\n",
      "chr1\t919473\t934343\t2\n",
      "chr1\t991496\t1006346\t6\n",
      "chr1\t1011686\t1017202\t2\n",
      "chr1\t1053469\t1107259\t9\n",
      "chr1\t1184102\t1189291\t2\n",
      "chr1\t1512243\t1533391\t2\n",
      "chr1\t1537515\t1548794\t2\n"
     ]
    }
   ],
   "source": [
    "head ${WRK_DIR}Bcell_whitelist.txt\n",
    "head ${WRK_DIR}Bcell_whitelistRegions_contain2ormoreHMRs_hpl.txt"
   ]
  },
  {
   "cell_type": "code",
   "execution_count": 8,
   "id": "90292489",
   "metadata": {
    "scrolled": true
   },
   "outputs": [
    {
     "name": "stdout",
     "output_type": "stream",
     "text": [
      "chr1\t521533\t521660\tchr1\t368658\t621034\t4\n",
      "chr1\t564470\t566009\tchr1\t368658\t621034\t4\n",
      "chr1\t566458\t566879\tchr1\t368658\t621034\t4\n",
      "chr1\t567166\t570301\tchr1\t368658\t621034\t4\n",
      "chr1\t713671\t715041\tchr1\t624034\t859110\t13\n",
      "chr1\t724219\t724516\tchr1\t624034\t859110\t13\n",
      "chr1\t762003\t763205\tchr1\t624034\t859110\t13\n",
      "chr1\t794016\t794456\tchr1\t624034\t859110\t13\n",
      "chr1\t801089\t801505\tchr1\t624034\t859110\t13\n",
      "chr1\t804991\t805500\tchr1\t624034\t859110\t13\n",
      "chr1\t832618\t833196\tchr1\t624034\t859110\t13\n",
      "chr1\t833785\t834596\tchr1\t624034\t859110\t13\n",
      "chr1\t839724\t841039\tchr1\t624034\t859110\t13\n",
      "chr1\t842095\t842689\tchr1\t624034\t859110\t13\n",
      "chr1\t845310\t845847\tchr1\t624034\t859110\t13\n",
      "chr1\t848051\t848467\tchr1\t624034\t859110\t13\n",
      "chr1\t855967\t856881\tchr1\t624034\t859110\t13\n",
      "chr1\t867226\t867418\tchr1\t866469\t871151\t2\n",
      "chr1\t869149\t870886\tchr1\t866469\t871151\t2\n",
      "chr1\t931262\t932201\tchr1\t919473\t934343\t2\n",
      "chr1\t932815\t933045\tchr1\t919473\t934343\t2\n",
      "chr1\t993725\t995717\tchr1\t991496\t1006346\t6\n",
      "chr1\t997402\t998086\tchr1\t991496\t1006346\t6\n",
      "chr1\t999033\t1000573\tchr1\t991496\t1006346\t6\n",
      "chr1\t1003631\t1005100\tchr1\t991496\t1006346\t6\n",
      "chr1\t1005383\t1005519\tchr1\t991496\t1006346\t6\n",
      "chr1\t1005817\t1006171\tchr1\t991496\t1006346\t6\n",
      "chr1\t1013125\t1013636\tchr1\t1011686\t1017202\t2\n",
      "chr1\t1014655\t1016103\tchr1\t1011686\t1017202\t2\n",
      "chr1\t1057380\t1058017\tchr1\t1053469\t1107259\t9\n",
      "chr1\t1071770\t1073219\tchr1\t1053469\t1107259\t9\n",
      "chr1\t1076605\t1076862\tchr1\t1053469\t1107259\t9\n",
      "chr1\t1079449\t1080160\tchr1\t1053469\t1107259\t9\n",
      "chr1\t1092645\t1093973\tchr1\t1053469\t1107259\t9\n",
      "chr1\t1099552\t1099651\tchr1\t1053469\t1107259\t9\n",
      "chr1\t1101641\t1101896\tchr1\t1053469\t1107259\t9\n",
      "chr1\t1105132\t1105321\tchr1\t1053469\t1107259\t9\n",
      "chr1\t1105477\t1106080\tchr1\t1053469\t1107259\t9\n",
      "chr1\t1185531\t1185784\tchr1\t1184102\t1189291\t2\n",
      "chr1\t1186356\t1186514\tchr1\t1184102\t1189291\t2\n",
      "chr1\t1521621\t1521912\tchr1\t1512243\t1533391\t2\n",
      "chr1\t1532681\t1533152\tchr1\t1512243\t1533391\t2\n",
      "chr1\t1538029\t1538273\tchr1\t1537515\t1548794\t2\n",
      "chr1\t1542535\t1542805\tchr1\t1537515\t1548794\t2\n",
      "chr1\t1609040\t1610006\tchr1\t1608285\t1622414\t2\n",
      "chr1\t1610479\t1610648\tchr1\t1608285\t1622414\t2\n",
      "chr1\t1771819\t1771926\tchr1\t1770677\t1821526\t5\n",
      "chr1\t1774186\t1774504\tchr1\t1770677\t1821526\t5\n",
      "chr1\t1779539\t1779732\tchr1\t1770677\t1821526\t5\n",
      "chr1\t1792416\t1792619\tchr1\t1770677\t1821526\t5\n",
      "chr1\t1796124\t1796593\tchr1\t1770677\t1821526\t5\n",
      "chr1\t1827360\t1827924\tchr1\t1824556\t1844698\t6\n",
      "chr1\t1830655\t1831404\tchr1\t1824556\t1844698\t6\n",
      "chr1\t1833498\t1833790\tchr1\t1824556\t1844698\t6\n",
      "chr1\t1837578\t1838044\tchr1\t1824556\t1844698\t6\n"
     ]
    }
   ],
   "source": [
    "head -n 55 ${WRK_DIR}Bcell_whitelistRegions_cluster_contain2ormoreHMRs_individualHMRs_temp_hpl.txt"
   ]
  },
  {
   "cell_type": "code",
   "execution_count": 9,
   "id": "a29ad5a6",
   "metadata": {},
   "outputs": [
    {
     "name": "stdout",
     "output_type": "stream",
     "text": [
      "chr1\t801089\t805500\t2\n",
      "chr1\t867226\t870886\t2\n",
      "chr1\t931262\t933045\t2\n",
      "chr1\t1013125\t1016103\t2\n",
      "chr1\t1185531\t1186514\t2\n",
      "chr1\t1538029\t1542805\t2\n",
      "chr1\t1609040\t1610648\t2\n",
      "chr1\t1792416\t1796593\t2\n",
      "chr1\t1941843\t1946688\t2\n",
      "chr1\t1976113\t1978261\t2\n"
     ]
    }
   ],
   "source": [
    "head ${WRK_DIR}Bcell_internalClusters_contain2HMRs_hpl.txt"
   ]
  },
  {
   "cell_type": "code",
   "execution_count": 11,
   "id": "5ace82e0",
   "metadata": {
    "scrolled": true
   },
   "outputs": [
    {
     "name": "stdout",
     "output_type": "stream",
     "text": [
      "chr1\t28511\t29460\t949\n",
      "chr1\t237055\t237877\t822\n",
      "chr1\t521533\t521660\t127\n",
      "chr1\t564470\t566009\t1539\n",
      "chr1\t566458\t566879\t421\n",
      "chr1\t567166\t570301\t3135\n",
      "chr1\t713671\t715041\t1370\n",
      "chr1\t724219\t724516\t297\n",
      "chr1\t762003\t763205\t1202\n",
      "chr1\t794016\t794456\t440\n",
      "chr1\t801089\t801505\t416\n",
      "chr1\t804991\t805500\t509\n",
      "chr1\t832618\t833196\t578\n",
      "chr1\t833785\t834596\t811\n",
      "chr1\t839724\t841039\t1315\n",
      "chr1\t842095\t842689\t594\n",
      "chr1\t845310\t845847\t537\n",
      "chr1\t848051\t848467\t416\n",
      "chr1\t855967\t856881\t914\n",
      "chr1\t867226\t867418\t192\n",
      "chr1\t869149\t870886\t1737\n",
      "chr1\t931262\t932201\t939\n",
      "chr1\t932815\t933045\t230\n",
      "chr1\t939973\t940923\t950\n",
      "chr1\t958316\t958626\t310\n",
      "chr1\t993725\t995717\t1992\n",
      "chr1\t997402\t998086\t684\n",
      "chr1\t999033\t1000573\t1540\n",
      "chr1\t1003631\t1005100\t1469\n",
      "chr1\t1005383\t1005519\t136\n",
      "chr1\t1005817\t1006171\t354\n",
      "chr1\t1013125\t1013636\t511\n",
      "chr1\t1014655\t1016103\t1448\n",
      "chr1\t1057380\t1058017\t637\n",
      "chr1\t1071770\t1073219\t1449\n",
      "chr1\t1076605\t1076862\t257\n",
      "chr1\t1079449\t1080160\t711\n",
      "chr1\t1092645\t1093973\t1328\n",
      "chr1\t1099552\t1099651\t99\n",
      "chr1\t1101641\t1101896\t255\n",
      "chr1\t1105132\t1105321\t189\n",
      "chr1\t1105477\t1106080\t603\n",
      "chr1\t1136149\t1137591\t1442\n",
      "chr1\t1173359\t1173622\t263\n",
      "chr1\t1185531\t1185784\t253\n",
      "chr1\t1186356\t1186514\t158\n",
      "chr1\t1240198\t1240647\t449\n",
      "chr1\t1251076\t1251208\t132\n",
      "chr1\t1306762\t1307920\t1158\n",
      "chr1\t1367787\t1367984\t197\n"
     ]
    }
   ],
   "source": [
    "head -n 50 /data/hodges_lab/Tim/finalAnalyses_HMRs/hp_lineage/filtRefSeqFiles/Bcell.minsize50.filtforrefseqTSSexons.txt"
   ]
  },
  {
   "cell_type": "code",
   "execution_count": 17,
   "id": "8f39d715",
   "metadata": {},
   "outputs": [
    {
     "name": "stdout",
     "output_type": "stream",
     "text": [
      "chr1\t801089\t805500\t2\n",
      "chr1\t867226\t870886\t2\n",
      "chr1\t931262\t933045\t2\n",
      "chr1\t1013125\t1016103\t2\n",
      "chr1\t1185531\t1186514\t2\n",
      "chr1\t1538029\t1542805\t2\n",
      "chr1\t1609040\t1610648\t2\n",
      "chr1\t1792416\t1796593\t2\n",
      "chr1\t1941843\t1946688\t2\n",
      "chr1\t1976113\t1978261\t2\n"
     ]
    }
   ],
   "source": [
    "head ${WRK_DIR}Bcell_internalClusters_contain2HMRs_hpl.txt"
   ]
  },
  {
   "cell_type": "code",
   "execution_count": 19,
   "id": "32d897e1",
   "metadata": {},
   "outputs": [
    {
     "name": "stdout",
     "output_type": "stream",
     "text": [
      "3602 /data/hodges_lab/Tim/ClusterTesting/Bcell_internalClusters_contain2HMRs_hpl_BED.txt\n",
      "7204 /data/hodges_lab/Tim/ClusterTesting/Bcell_internalClusters_contain2HMRs_individualHMRs_hpl.txt\n"
     ]
    }
   ],
   "source": [
    "wc -l ${WRK_DIR}Bcell_internalClusters_contain2HMRs_hpl_BED.txt\n",
    "wc -l ${WRK_DIR}Bcell_internalClusters_contain2HMRs_individualHMRs_hpl.txt"
   ]
  },
  {
   "cell_type": "code",
   "execution_count": 7,
   "id": "53750ad1",
   "metadata": {
    "scrolled": true
   },
   "outputs": [
    {
     "name": "stdout",
     "output_type": "stream",
     "text": [
      "Start.\n",
      "Made whitelist.\n",
      "Found whitelist regions that contain 2+ HMRs.\n",
      "Created double BED for whitelist regions that contain 2+ HMRs.\n",
      "Found internalClusters containing exactly 2 HMRs.\n",
      "\n",
      "\n",
      "Found the HMRs composing internalClusters containing 3+ HMRs.\n"
     ]
    }
   ],
   "source": [
    "echo \"Start.\"\n",
    "\n",
    "awk 'BEGIN{OFS=FS=\"\\t\"}{if ($1 !~ /\\_/)print $1,$2,$3}' ${TSSExon_FILE} | bedtools sort -i - | bedtools complement -i - -g /data/hodges_lab/Tim/finalAnalyses_HMRs/hp_lineage/referenceFiles/hg19.chrom.sizes.twoCol.sorted > ${WRK_DIR}Bcell_whitelist.txt\n",
    "echo \"Made whitelist.\"\n",
    "\n",
    "\n",
    "# (a) Find whitelist regions with 2+ HMRs\n",
    "bedtools intersect -c -F 1.0 -a ${WRK_DIR}Bcell_whitelist.txt -b ${BCL_FILE} | awk 'BEGIN{OFS=FS=\"\\t\"}{if ($4>1) print}' - > ${WRK_DIR}Bcell_whitelistRegions_contain2ormoreHMRs_hpl.txt\n",
    "echo \"Found whitelist regions that contain 2+ HMRs.\"\n",
    "\n",
    "# (b)Find what HMRs are in these to create a double BED file in a parsable list for custom merging: [1-3]: BED coordinates of Whitelist region [4]: #HMR in Whitelist region, [5-7]: BED coordinates of HMRs in Whitelist region\n",
    "# Diagnostic: bedtools intersect -loj -F 1.0 -a Bcell_whitelistRegions_contain3ormoreHMRs.txt -b Bcell.HMR.min50.txt | awk 'BEGIN{OFS=FS=\"\\t\"}{print}' - | bedtools sort -i - | head\n",
    "# awk 'BEGIN{OFS=FS=\"\\t\"}{print $5,$6,$7,$1,$2,$3,$4}' temp.txt | head\n",
    "\n",
    "bedtools intersect -loj -F 1.0 -a ${WRK_DIR}Bcell_whitelistRegions_contain2ormoreHMRs_hpl.txt -b ${BCL_FILE} | awk 'BEGIN{OFS=FS=\"\\t\"}{print $5,$6,$7,$1,$2,$3,$4}' - | bedtools sort -i - > ${WRK_DIR}Bcell_whitelistRegions_cluster_contain2ormoreHMRs_individualHMRs_temp_hpl.txt\n",
    "echo \"Created double BED for whitelist regions that contain 2+ HMRs.\"\n",
    "\n",
    "# (c) Custom merge within these regions\n",
    "awk -v whitelistStart=1 -v hmrsCount=1 -v clusterChr=1 -v clusterStart=1 -v clusterEnd=2 'BEGIN{OFS=FS=\"\\t\";dist=6000;whitelistStart=1;hmrsCount=1;clusterChr=1;clusterStart=1;clusterEnd=2;} {\n",
    "# Check if we are in the same WhitelistBoundary\n",
    "if ($5!=whitelistStart) {\n",
    "print clusterChr,clusterStart,clusterEnd,hmrsCount;\n",
    "whitelistStart=$5;\n",
    "hmrsCount=1;\n",
    "clusterChr=$1;\n",
    "clusterStart=$2;\n",
    "clusterEnd=$3;\n",
    "} else {\n",
    "# case if (1) we are staying within a Whitelist boundary, but (2) the previous HMR was >6000bp away\n",
    "if (($2-clusterEnd)>6000) {\n",
    "print clusterChr,clusterStart,clusterEnd,hmrsCount;\n",
    "clusterStart=$2;\n",
    "clusterEnd=$3;\n",
    "hmrsCount=1;\n",
    "} else {\n",
    "clusterEnd=$3;\n",
    "hmrsCount+=1;\n",
    "}\n",
    "}\n",
    "}' ${WRK_DIR}Bcell_whitelistRegions_cluster_contain2ormoreHMRs_individualHMRs_temp_hpl.txt | awk 'BEGIN{OFS=FS=\"\\t\"}{if ($4==2) print $0}' - > ${WRK_DIR}Bcell_internalClusters_contain2HMRs_hpl.txt\n",
    "\n",
    "echo \"Found internalClusters containing exactly 2 HMRs.\"\n",
    "\n",
    "#########################\n",
    "#########################\n",
    "#########################\n",
    "# Remove unplaced contigs, causes issues downline \n",
    "awk 'BEGIN{OFS=FS=\"\\t\"}{if ($1 !~ /\\_/)print $1,$2,$3}' ${WRK_DIR}Bcell_internalClusters_contain2HMRs_hpl.txt > ${WRK_DIR}Bcell_internalClusters_contain2HMRs_hpl_BED.txt\n",
    "echo -e \"\\n\"\n",
    "\n",
    "\n",
    "##### ((5)) internalClusters_individualHMRs \n",
    "#####\n",
    "bedtools intersect -u -a ${BCL_FILE} -b ${WRK_DIR}Bcell_internalClusters_contain2HMRs_hpl_BED.txt > ${WRK_DIR}Bcell_internalClusters_contain2HMRs_individualHMRs_hpl.txt\n",
    "echo \"Found the HMRs composing internalClusters containing exactly 2 HMRs.\"\n",
    "\n",
    "\n"
   ]
  },
  {
   "cell_type": "markdown",
   "id": "eff86404",
   "metadata": {},
   "source": [
    "## Clusters of three - internal clusters"
   ]
  },
  {
   "cell_type": "code",
   "execution_count": 11,
   "id": "69342b7d",
   "metadata": {},
   "outputs": [
    {
     "name": "stdout",
     "output_type": "stream",
     "text": [
      "Starting.\n",
      "Made whitelist.\n",
      "Found whitelist regions that contain 3+ HMRs.\n",
      "Created double BED for whitelist regions that contain 3+ HMRs.\n",
      "Found internalClusters containing 3+ HMRs.\n",
      "\n",
      "\n",
      "Found the HMRs composing internalClusters containing 3+ HMRs.\n"
     ]
    }
   ],
   "source": [
    "echo \"Starting.\"\n",
    "\n",
    "awk 'BEGIN{OFS=FS=\"\\t\"}{if ($1 !~ /\\_/)print $1,$2,$3}' ${TSSExon_FILE} | bedtools sort -i - | bedtools complement -i - -g /data/hodges_lab/Tim/finalAnalyses_HMRs/hp_lineage/referenceFiles/hg19.chrom.sizes.twoCol.sorted > ${WRK_DIR}Bcell_whitelist.txt\n",
    "echo \"Made whitelist.\"\n",
    "\n",
    "\n",
    "# (a) Find whitelist regions with 3+ HMRs\n",
    "bedtools intersect -c -F 1.0 -a ${WRK_DIR}Bcell_whitelist.txt -b ${BCL_FILE} | awk 'BEGIN{OFS=FS=\"\\t\"}{if ($4>2) print}' - > ${WRK_DIR}Bcell_whitelistRegions_contain3ormoreHMRs_hpl.txt\n",
    "echo \"Found whitelist regions that contain 3+ HMRs.\"\n",
    "\n",
    "\n",
    "bedtools intersect -loj -F 1.0 -a ${WRK_DIR}Bcell_whitelistRegions_contain3ormoreHMRs_hpl.txt -b ${BCL_FILE} | awk 'BEGIN{OFS=FS=\"\\t\"}{print $5,$6,$7,$1,$2,$3,$4}' - | bedtools sort -i - > ${WRK_DIR}Bcell_whitelistRegions_cluster_individualHMRs_temp_hpl.txt\n",
    "\n",
    "echo \"Created double BED for whitelist regions that contain 3+ HMRs.\"\n",
    "\n",
    "# (c) Custom merge within these regions\n",
    "awk -v whitelistStart=1 -v hmrsCount=1 -v clusterChr=1 -v clusterStart=1 -v clusterEnd=2 'BEGIN{OFS=FS=\"\\t\";dist=6000;whitelistStart=1;hmrsCount=1;clusterChr=1;clusterStart=1;clusterEnd=2;} {\n",
    "# Check if we are in the same WhitelistBoundary\n",
    "if ($5!=whitelistStart) {\n",
    "print clusterChr,clusterStart,clusterEnd,hmrsCount;\n",
    "whitelistStart=$5;\n",
    "hmrsCount=1;\n",
    "clusterChr=$1;\n",
    "clusterStart=$2;\n",
    "clusterEnd=$3;\n",
    "} else {\n",
    "# case if (1) we are staying within a Whitelist boundary, but (2) the previous HMR was >6000bp away\n",
    "if (($2-clusterEnd)>6000) {\n",
    "print clusterChr,clusterStart,clusterEnd,hmrsCount;\n",
    "clusterStart=$2;\n",
    "clusterEnd=$3;\n",
    "hmrsCount=1;\n",
    "} else {\n",
    "clusterEnd=$3;\n",
    "hmrsCount+=1;\n",
    "}\n",
    "}\n",
    "}' ${WRK_DIR}Bcell_whitelistRegions_cluster_individualHMRs_temp_hpl.txt | awk 'BEGIN{OFS=FS=\"\\t\"}{if ($4>2) print $0}' - > ${WRK_DIR}Bcell_internalClusters_hpl.txt\n",
    "echo \"Found internalClusters containing 3+ HMRs.\"\n",
    "\n",
    "#########################\n",
    "#########################\n",
    "#########################\n",
    "# Remove unplaced contigs, causes issues downline \n",
    "awk 'BEGIN{OFS=FS=\"\\t\"}{if ($1 !~ /\\_/)print $1,$2,$3}' ${WRK_DIR}Bcell_internalClusters_hpl.txt > ${WRK_DIR}Bcell_internalClusters_hpl_BED.txt\n",
    "echo -e \"\\n\"\n",
    "\n",
    "\n",
    "##### ((5)) internalClusters_individualHMRs \n",
    "#####\n",
    "bedtools intersect -u -a ${BCL_FILE} -b ${WRK_DIR}Bcell_internalClusters_hpl_BED.txt > ${WRK_DIR}Bcell_internalClusters_individualHMRs_hpl.txt\n",
    "echo \"Found the HMRs composing internalClusters containing 3+ HMRs.\"\n",
    "\n",
    "\n"
   ]
  },
  {
   "cell_type": "code",
   "execution_count": 22,
   "id": "a7887d08",
   "metadata": {},
   "outputs": [
    {
     "name": "stdout",
     "output_type": "stream",
     "text": [
      "3734\n"
     ]
    }
   ],
   "source": [
    " bedtools merge -c 2 -o count -d 6000 -i ${BCL_FILE} | awk 'BEGIN{FS=OFS=\"\\t\"}{if ($4==2) print}' - | wc -l"
   ]
  },
  {
   "cell_type": "code",
   "execution_count": 12,
   "id": "d53c4d22",
   "metadata": {},
   "outputs": [
    {
     "name": "stdout",
     "output_type": "stream",
     "text": [
      "3734\n"
     ]
    }
   ],
   "source": [
    "bedtools merge -c 2 -o count -d 6000 -i /data/hodges_lab/Tim/finalAnalyses_HMRs/hp_lineage/filtRefSeqFiles/Bcell.minsize50.filtforrefseqTSSexons.txt | awk 'BEGIN{FS=OFS=\"\\t\"}{if ($4==2) print}' - | wc -l"
   ]
  },
  {
   "cell_type": "code",
   "execution_count": 23,
   "id": "34787214",
   "metadata": {},
   "outputs": [
    {
     "name": "stdout",
     "output_type": "stream",
     "text": [
      "3602 /data/hodges_lab/Tim/ClusterTesting/Bcell_internalClusters_contain2HMRs_hpl.txt\n"
     ]
    }
   ],
   "source": [
    "wc -l ${WRK_DIR}Bcell_internalClusters_contain2HMRs_hpl.txt"
   ]
  },
  {
   "cell_type": "code",
   "execution_count": 24,
   "id": "53c72317",
   "metadata": {},
   "outputs": [
    {
     "name": "stdout",
     "output_type": "stream",
     "text": [
      "7204 /data/hodges_lab/Tim/ClusterTesting/Bcell_internalClusters_contain2HMRs_individualHMRs_hpl.txt\n",
      "5974 /data/hodges_lab/Tim/ClusterTesting/Bcell_internalClusters_individualHMRs_hpl.txt\n"
     ]
    }
   ],
   "source": [
    "wc -l ${WRK_DIR}Bcell_internalClusters_contain2HMRs_individualHMRs_hpl.txt\n",
    "wc -l ${WRK_DIR}Bcell_internalClusters_individualHMRs_hpl.txt\n"
   ]
  },
  {
   "cell_type": "code",
   "execution_count": 6,
   "id": "5bcdab90",
   "metadata": {},
   "outputs": [
    {
     "name": "stdout",
     "output_type": "stream",
     "text": [
      "17185 /data/hodges_lab/Tim/ClusterTesting/Bcell_unclustered_hpl.current.txt\n",
      "19959 /data/hodges_lab/Tim/ClusterTesting/Bcell_unclustered_hpl.RefSeqFilterFirst.txt\n",
      "7204 /data/hodges_lab/Tim/ClusterTesting/Bcell_internalClusters_contain2HMRs_individualHMRs_hpl.txt\n",
      "5974 /data/hodges_lab/Tim/ClusterTesting/Bcell_internalClusters_individualHMRs_hpl.txt\n"
     ]
    }
   ],
   "source": [
    "wc -l ${WRK_DIR}Bcell_unclustered_hpl.current.txt\n",
    "wc -l ${WRK_DIR}Bcell_unclustered_hpl.RefSeqFilterFirst.txt\n",
    "wc -l ${WRK_DIR}Bcell_internalClusters_contain2HMRs_individualHMRs_hpl.txt\n",
    "wc -l ${WRK_DIR}Bcell_internalClusters_individualHMRs_hpl.txt"
   ]
  },
  {
   "cell_type": "markdown",
   "id": "072d333c",
   "metadata": {},
   "source": [
    "# Liver "
   ]
  },
  {
   "cell_type": "code",
   "execution_count": 4,
   "id": "cbae8970",
   "metadata": {
    "scrolled": true
   },
   "outputs": [
    {
     "name": "stdout",
     "output_type": "stream",
     "text": [
      "38132 /data/hodges_lab/Tim/finalAnalyses_HMRs/hp_lineage/filtRefSeqFiles/Liver.minsize50.filtforrefseqTSSexons.txt\n",
      "58652 /data/hodges_lab/Tim/finalAnalyses_HMRs/hp_lineage/startingBEDs/Human_Liver.hmr.bed\n",
      "Found unclustered HMRs.\n",
      "Done.\n",
      "Made whitelist.\n",
      "Starting cluster compilation.\n",
      "Found whitelist regions that contain 2+ HMRs.\n",
      "Created double BED for whitelist regions that contain 2+ HMRs.\n",
      "Found internalClusters containing exactly 2 HMRs.\n",
      "\n",
      "\n",
      "Found the HMRs composing internalClusters containing exactly 2 HMRs.\n",
      "Starting 3+ cluster compilation.\n",
      "Found whitelist regions that contain 3+ HMRs.\n",
      "Created double BED for whitelist regions that contain 3+ HMRs.\n",
      "Found internalClusters containing 3+ HMRs.\n",
      "\n",
      "\n",
      "Found the HMRs composing internalClusters containing 3+ HMRs.\n",
      "All merge -c 2 -d 6000 - naive\n",
      "3770\n",
      "3667 /data/hodges_lab/Tim/ClusterTesting/Liver_internalClusters_contain2HMRs_hpl.txt\n",
      "7334 /data/hodges_lab/Tim/ClusterTesting/Liver_internalClusters_contain2HMRs_individualHMRs_hpl.txt\n",
      "6636 /data/hodges_lab/Tim/ClusterTesting/Liver_internalClusters_individualHMRs_hpl.txt\n"
     ]
    }
   ],
   "source": [
    "# Liver: Compute cluster groups \n",
    "\n",
    "CELLTYPE=\"Liver\" #${CELLTYPE}\n",
    "\n",
    "WRK_DIR=/data/hodges_lab/Tim/ClusterTesting/\n",
    "mkdir -p ${WRK_DIR}\n",
    "\n",
    "# RefSeq TSS/Exon file\n",
    "TSSExon_FILE=/data/hodges_lab/Tim/finalAnalyses_HMRs/hp_lineage/referenceFiles/ncbiRefSeqCurated_NM.promotersUp2000Down1000AndExons.txt \n",
    "\n",
    "# B cell - filtered for RefSeq TSS/Exon file \n",
    "FiltRefSeq_FILE=/data/hodges_lab/Tim/finalAnalyses_HMRs/hp_lineage/filtRefSeqFiles/${CELLTYPE}.minsize50.filtforrefseqTSSexons.txt # Was BCL_FILE\n",
    "\n",
    "wc -l ${FiltRefSeq_FILE}\n",
    "\n",
    "# B cell - HMR file as downloaded\n",
    "BASE_HMR_FILE=/data/hodges_lab/Tim/finalAnalyses_HMRs/hp_lineage/startingBEDs/Human_${CELLTYPE}.hmr.bed\n",
    "wc -l ${BASE_HMR_FILE}\n",
    "\n",
    "\n",
    "\n",
    "## Unclustered - current method \n",
    "\n",
    "awk 'BEGIN{OFS=FS=\"\\t\"}{if (($3-$2)>49) print $1,$2,$3}' ${BASE_HMR_FILE} | bedtools merge -c 2 -o count -d 6000 -i - | awk 'BEGIN{FS=OFS=\"\\t\"}{if ($4<2) print}' - | awk 'BEGIN{OFS=FS=\"\\t\"}{print $1,$2,$3}' - | bedtools intersect -v -a - -b ${TSSExon_FILE} > ${WRK_DIR}${CELLTYPE}_unclustered_hpl.current.txt\n",
    "\n",
    "echo \"Found unclustered HMRs.\"\n",
    "\n",
    "## Unclustered - RefSeq filter first (More inclusive)\n",
    "\n",
    "bedtools merge -c 2 -o count -d 6000 -i ${FiltRefSeq_FILE} | awk 'BEGIN{FS=OFS=\"\\t\"}{if ($4<2) print}' - | awk 'BEGIN{OFS=FS=\"\\t\"}{print $1,$2,$3}' - > ${WRK_DIR}${CELLTYPE}_unclustered_hpl.RefSeqFilterFirst.txt\n",
    "\n",
    "echo \"Done.\"\n",
    "\n",
    "### Unclustered - RefSeq - cell specific \n",
    "\n",
    "# bedtools intersect -u -a ${WRK_DIR}${CELLTYPE}_unclustered_hpl.RefSeqFilterFirst.txt -b /data/hodges_lab/Tim/finalAnalyses_HMRs/hp_lineage/HMRs/${CELLTYPE}_all_cellspecific_hpl.txt > ${WRK_DIR}${CELLTYPE}_unclustered_hpl.RefSeqFilterFirst.cellspecific.txt\n",
    "\n",
    "\n",
    "\n",
    "## Clusters of two - internal clusters \n",
    "\n",
    "awk 'BEGIN{OFS=FS=\"\\t\"}{if ($1 !~ /\\_/)print $1,$2,$3}' ${TSSExon_FILE} | bedtools sort -i - | bedtools complement -i - -g /data/hodges_lab/Tim/finalAnalyses_HMRs/hp_lineage/referenceFiles/hg19.chrom.sizes.twoCol.sorted > ${WRK_DIR}${CELLTYPE}_whitelist.txt\n",
    "echo \"Made whitelist.\"\n",
    "\n",
    "echo \"Starting cluster compilation.\"\n",
    "\n",
    "# (a) Find whitelist regions with 2+ HMRs\n",
    "bedtools intersect -c -F 1.0 -a ${WRK_DIR}${CELLTYPE}_whitelist.txt -b ${FiltRefSeq_FILE} | awk 'BEGIN{OFS=FS=\"\\t\"}{if ($4>1) print}' - > ${WRK_DIR}${CELLTYPE}_whitelistRegions_contain2ormoreHMRs_hpl.txt\n",
    "echo \"Found whitelist regions that contain 2+ HMRs.\"\n",
    "\n",
    "\n",
    "\n",
    "\n",
    "\n",
    "# (b)Find what HMRs are in these to create a double BED file in a parsable list for custom merging: [1-3]: BED coordinates of Whitelist region [4]: #HMR in Whitelist region, [5-7]: BED coordinates of HMRs in Whitelist region\n",
    "# Diagnostic: bedtools intersect -loj -F 1.0 -a Bcell_whitelistRegions_contain3ormoreHMRs.txt -b Bcell.HMR.min50.txt | awk 'BEGIN{OFS=FS=\"\\t\"}{print}' - | bedtools sort -i - | head\n",
    "# awk 'BEGIN{OFS=FS=\"\\t\"}{print $5,$6,$7,$1,$2,$3,$4}' temp.txt | head\n",
    "\n",
    "bedtools intersect -loj -F 1.0 -a ${WRK_DIR}${CELLTYPE}_whitelistRegions_contain2ormoreHMRs_hpl.txt -b ${FiltRefSeq_FILE} | awk 'BEGIN{OFS=FS=\"\\t\"}{print $5,$6,$7,$1,$2,$3,$4}' - | bedtools sort -i - > ${WRK_DIR}${CELLTYPE}_whitelistRegions_cluster_contain2ormoreHMRs_individualHMRs_temp_hpl.txt\n",
    "echo \"Created double BED for whitelist regions that contain 2+ HMRs.\"\n",
    "\n",
    "# (c) Custom merge within these regions\n",
    "awk -v whitelistStart=1 -v hmrsCount=1 -v clusterChr=1 -v clusterStart=1 -v clusterEnd=2 'BEGIN{OFS=FS=\"\\t\";dist=6000;whitelistStart=1;hmrsCount=1;clusterChr=1;clusterStart=1;clusterEnd=2;} {\n",
    "# Check if we are in the same WhitelistBoundary\n",
    "if ($5!=whitelistStart) {\n",
    "print clusterChr,clusterStart,clusterEnd,hmrsCount;\n",
    "whitelistStart=$5;\n",
    "hmrsCount=1;\n",
    "clusterChr=$1;\n",
    "clusterStart=$2;\n",
    "clusterEnd=$3;\n",
    "} else {\n",
    "# case if (1) we are staying within a Whitelist boundary, but (2) the previous HMR was >6000bp away\n",
    "if (($2-clusterEnd)>6000) {\n",
    "print clusterChr,clusterStart,clusterEnd,hmrsCount;\n",
    "clusterStart=$2;\n",
    "clusterEnd=$3;\n",
    "hmrsCount=1;\n",
    "} else {\n",
    "clusterEnd=$3;\n",
    "hmrsCount+=1;\n",
    "}\n",
    "}\n",
    "}' ${WRK_DIR}${CELLTYPE}_whitelistRegions_cluster_contain2ormoreHMRs_individualHMRs_temp_hpl.txt | awk 'BEGIN{OFS=FS=\"\\t\"}{if ($4==2) print $0}' - > ${WRK_DIR}${CELLTYPE}_internalClusters_contain2HMRs_hpl.txt\n",
    "\n",
    "echo \"Found internalClusters containing exactly 2 HMRs.\"\n",
    "\n",
    "#########################\n",
    "#########################\n",
    "#########################\n",
    "# Remove unplaced contigs, causes issues downline \n",
    "awk 'BEGIN{OFS=FS=\"\\t\"}{if ($1 !~ /\\_/)print $1,$2,$3}' ${WRK_DIR}${CELLTYPE}_internalClusters_contain2HMRs_hpl.txt > ${WRK_DIR}${CELLTYPE}_internalClusters_contain2HMRs_hpl_BED.txt\n",
    "echo -e \"\\n\"\n",
    "\n",
    "\n",
    "##### ((5)) internalClusters_individualHMRs \n",
    "#####\n",
    "bedtools intersect -u -a ${FiltRefSeq_FILE} -b ${WRK_DIR}${CELLTYPE}_internalClusters_contain2HMRs_hpl_BED.txt > ${WRK_DIR}${CELLTYPE}_internalClusters_contain2HMRs_individualHMRs_hpl.txt\n",
    "echo \"Found the HMRs composing internalClusters containing exactly 2 HMRs.\"\n",
    "\n",
    "\n",
    "\n",
    "\n",
    "## Clusters of three - internal clusters\n",
    "\n",
    "echo \"Starting 3+ cluster compilation.\"\n",
    "\n",
    "# (a) Find whitelist regions with 3+ HMRs\n",
    "bedtools intersect -c -F 1.0 -a ${WRK_DIR}${CELLTYPE}_whitelist.txt -b ${FiltRefSeq_FILE} | awk 'BEGIN{OFS=FS=\"\\t\"}{if ($4>2) print}' - > ${WRK_DIR}${CELLTYPE}_whitelistRegions_contain3ormoreHMRs_hpl.txt\n",
    "echo \"Found whitelist regions that contain 3+ HMRs.\"\n",
    "\n",
    "\n",
    "bedtools intersect -loj -F 1.0 -a ${WRK_DIR}${CELLTYPE}_whitelistRegions_contain3ormoreHMRs_hpl.txt -b ${FiltRefSeq_FILE} | awk 'BEGIN{OFS=FS=\"\\t\"}{print $5,$6,$7,$1,$2,$3,$4}' - | bedtools sort -i - > ${WRK_DIR}${CELLTYPE}_whitelistRegions_cluster_individualHMRs_temp_hpl.txt\n",
    "\n",
    "echo \"Created double BED for whitelist regions that contain 3+ HMRs.\"\n",
    "\n",
    "# (c) Custom merge within these regions\n",
    "awk -v whitelistStart=1 -v hmrsCount=1 -v clusterChr=1 -v clusterStart=1 -v clusterEnd=2 'BEGIN{OFS=FS=\"\\t\";dist=6000;whitelistStart=1;hmrsCount=1;clusterChr=1;clusterStart=1;clusterEnd=2;} {\n",
    "# Check if we are in the same WhitelistBoundary\n",
    "if ($5!=whitelistStart) {\n",
    "print clusterChr,clusterStart,clusterEnd,hmrsCount;\n",
    "whitelistStart=$5;\n",
    "hmrsCount=1;\n",
    "clusterChr=$1;\n",
    "clusterStart=$2;\n",
    "clusterEnd=$3;\n",
    "} else {\n",
    "# case if (1) we are staying within a Whitelist boundary, but (2) the previous HMR was >6000bp away\n",
    "if (($2-clusterEnd)>6000) {\n",
    "print clusterChr,clusterStart,clusterEnd,hmrsCount;\n",
    "clusterStart=$2;\n",
    "clusterEnd=$3;\n",
    "hmrsCount=1;\n",
    "} else {\n",
    "clusterEnd=$3;\n",
    "hmrsCount+=1;\n",
    "}\n",
    "}\n",
    "}' ${WRK_DIR}${CELLTYPE}_whitelistRegions_cluster_individualHMRs_temp_hpl.txt | awk 'BEGIN{OFS=FS=\"\\t\"}{if ($4>2) print $0}' - > ${WRK_DIR}${CELLTYPE}_internalClusters_hpl.txt\n",
    "echo \"Found internalClusters containing 3+ HMRs.\"\n",
    "\n",
    "#########################\n",
    "#########################\n",
    "#########################\n",
    "# Remove unplaced contigs, causes issues downline \n",
    "awk 'BEGIN{OFS=FS=\"\\t\"}{if ($1 !~ /\\_/)print $1,$2,$3}' ${WRK_DIR}${CELLTYPE}_internalClusters_hpl.txt > ${WRK_DIR}${CELLTYPE}_internalClusters_hpl_BED.txt\n",
    "echo -e \"\\n\"\n",
    "\n",
    "\n",
    "##### ((5)) internalClusters_individualHMRs \n",
    "#####\n",
    "bedtools intersect -u -a ${FiltRefSeq_FILE} -b ${WRK_DIR}${CELLTYPE}_internalClusters_hpl_BED.txt > ${WRK_DIR}${CELLTYPE}_internalClusters_individualHMRs_hpl.txt\n",
    "echo \"Found the HMRs composing internalClusters containing 3+ HMRs.\"\n",
    "\n",
    "\n",
    "\n",
    "echo \"All merge -c 2 -d 6000 - naive\"\n",
    " bedtools merge -c 2 -o count -d 6000 -i ${FiltRefSeq_FILE} | awk 'BEGIN{FS=OFS=\"\\t\"}{if ($4==2) print}' - | wc -l\n",
    "\n",
    "wc -l ${WRK_DIR}${CELLTYPE}_internalClusters_contain2HMRs_hpl.txt\n",
    "wc -l ${WRK_DIR}${CELLTYPE}_internalClusters_contain2HMRs_individualHMRs_hpl.txt\n",
    "wc -l ${WRK_DIR}${CELLTYPE}_internalClusters_individualHMRs_hpl.txt\n"
   ]
  },
  {
   "cell_type": "code",
   "execution_count": 5,
   "id": "ab3368c5",
   "metadata": {},
   "outputs": [
    {
     "name": "stdout",
     "output_type": "stream",
     "text": [
      "20470 /data/hodges_lab/Tim/ClusterTesting/Liver_unclustered_hpl.current.txt\n",
      "23460 /data/hodges_lab/Tim/ClusterTesting/Liver_unclustered_hpl.RefSeqFilterFirst.txt\n",
      "7334 /data/hodges_lab/Tim/ClusterTesting/Liver_internalClusters_contain2HMRs_individualHMRs_hpl.txt\n",
      "6636 /data/hodges_lab/Tim/ClusterTesting/Liver_internalClusters_individualHMRs_hpl.txt\n"
     ]
    }
   ],
   "source": [
    "wc -l ${WRK_DIR}${CELLTYPE}_unclustered_hpl.current.txt\n",
    "wc -l ${WRK_DIR}${CELLTYPE}_unclustered_hpl.RefSeqFilterFirst.txt\n",
    "wc -l ${WRK_DIR}${CELLTYPE}_internalClusters_contain2HMRs_individualHMRs_hpl.txt\n",
    "wc -l ${WRK_DIR}${CELLTYPE}_internalClusters_individualHMRs_hpl.txt"
   ]
  },
  {
   "cell_type": "markdown",
   "id": "af25c73f",
   "metadata": {},
   "source": [
    "# H1 ESC"
   ]
  },
  {
   "cell_type": "code",
   "execution_count": 16,
   "id": "49ae220f",
   "metadata": {},
   "outputs": [
    {
     "name": "stdout",
     "output_type": "stream",
     "text": [
      "18235 /data/hodges_lab/Tim/finalAnalyses_HMRs/hp_lineage/filtRefSeqFiles/H1ESC.minsize50.filtforrefseqTSSexons.txt\n",
      "36359 /data/hodges_lab/Tim/finalAnalyses_HMRs/hp_lineage/startingBEDs/Human_H1ESC.hmr.bed\n",
      "Found unclustered HMRs.\n",
      "Done.\n",
      "Made whitelist.\n",
      "Starting cluster compilation.\n",
      "Found whitelist regions that contain 2+ HMRs.\n",
      "Created double BED for whitelist regions that contain 2+ HMRs.\n",
      "Found internalClusters containing exactly 2 HMRs.\n",
      "\n",
      "\n",
      "Found the HMRs composing internalClusters containing exactly 2 HMRs.\n",
      "Starting 3+ cluster compilation.\n",
      "Found whitelist regions that contain 3+ HMRs.\n",
      "Created double BED for whitelist regions that contain 3+ HMRs.\n",
      "Found internalClusters containing 3+ HMRs.\n",
      "\n",
      "\n",
      "Found the HMRs composing internalClusters containing 3+ HMRs.\n",
      "All merge -c 2 -d 6000 - naive\n",
      "1661\n",
      "1581 /data/hodges_lab/Tim/ClusterTesting/H1ESC_internalClusters_contain2HMRs_hpl.txt\n",
      "3162 /data/hodges_lab/Tim/ClusterTesting/H1ESC_internalClusters_contain2HMRs_individualHMRs_hpl.txt\n",
      "1684 /data/hodges_lab/Tim/ClusterTesting/H1ESC_internalClusters_individualHMRs_hpl.txt\n"
     ]
    }
   ],
   "source": [
    "# Liver: Compute cluster groups \n",
    "\n",
    "CELLTYPE=\"H1ESC\" #${CELLTYPE}\n",
    "\n",
    "WRK_DIR=/data/hodges_lab/Tim/ClusterTesting/\n",
    "mkdir -p ${WRK_DIR}\n",
    "\n",
    "# RefSeq TSS/Exon file\n",
    "TSSExon_FILE=/data/hodges_lab/Tim/finalAnalyses_HMRs/hp_lineage/referenceFiles/ncbiRefSeqCurated_NM.promotersUp2000Down1000AndExons.txt \n",
    "\n",
    "# B cell - filtered for RefSeq TSS/Exon file \n",
    "FiltRefSeq_FILE=/data/hodges_lab/Tim/finalAnalyses_HMRs/hp_lineage/filtRefSeqFiles/${CELLTYPE}.minsize50.filtforrefseqTSSexons.txt # Was BCL_FILE\n",
    "\n",
    "wc -l ${FiltRefSeq_FILE}\n",
    "\n",
    "# B cell - HMR file as downloaded\n",
    "BASE_HMR_FILE=/data/hodges_lab/Tim/finalAnalyses_HMRs/hp_lineage/startingBEDs/Human_${CELLTYPE}.hmr.bed\n",
    "wc -l ${BASE_HMR_FILE}\n",
    "\n",
    "\n",
    "\n",
    "## Unclustered - current method \n",
    "\n",
    "awk 'BEGIN{OFS=FS=\"\\t\"}{if (($3-$2)>49) print $1,$2,$3}' ${BASE_HMR_FILE} | bedtools merge -c 2 -o count -d 6000 -i - | awk 'BEGIN{FS=OFS=\"\\t\"}{if ($4<2) print}' - | awk 'BEGIN{OFS=FS=\"\\t\"}{print $1,$2,$3}' - | bedtools intersect -v -a - -b ${TSSExon_FILE} > ${WRK_DIR}${CELLTYPE}_unclustered_hpl.current.txt\n",
    "\n",
    "echo \"Found unclustered HMRs.\"\n",
    "\n",
    "## Unclustered - RefSeq filter first (More inclusive)\n",
    "\n",
    "bedtools merge -c 2 -o count -d 6000 -i ${FiltRefSeq_FILE} | awk 'BEGIN{FS=OFS=\"\\t\"}{if ($4<2) print}' - | awk 'BEGIN{OFS=FS=\"\\t\"}{print $1,$2,$3}' - > ${WRK_DIR}${CELLTYPE}_unclustered_hpl.RefSeqFilterFirst.txt\n",
    "\n",
    "echo \"Done.\"\n",
    "\n",
    "### Unclustered - RefSeq - cell specific \n",
    "\n",
    "# bedtools intersect -u -a ${WRK_DIR}${CELLTYPE}_unclustered_hpl.RefSeqFilterFirst.txt -b /data/hodges_lab/Tim/finalAnalyses_HMRs/hp_lineage/HMRs/${CELLTYPE}_all_cellspecific_hpl.txt > ${WRK_DIR}${CELLTYPE}_unclustered_hpl.RefSeqFilterFirst.cellspecific.txt\n",
    "\n",
    "\n",
    "\n",
    "## Clusters of two - internal clusters \n",
    "\n",
    "awk 'BEGIN{OFS=FS=\"\\t\"}{if ($1 !~ /\\_/)print $1,$2,$3}' ${TSSExon_FILE} | bedtools sort -i - | bedtools complement -i - -g /data/hodges_lab/Tim/finalAnalyses_HMRs/hp_lineage/referenceFiles/hg19.chrom.sizes.twoCol.sorted > ${WRK_DIR}${CELLTYPE}_whitelist.txt\n",
    "echo \"Made whitelist.\"\n",
    "\n",
    "echo \"Starting cluster compilation.\"\n",
    "\n",
    "# (a) Find whitelist regions with 2+ HMRs\n",
    "bedtools intersect -c -F 1.0 -a ${WRK_DIR}${CELLTYPE}_whitelist.txt -b ${FiltRefSeq_FILE} | awk 'BEGIN{OFS=FS=\"\\t\"}{if ($4>1) print}' - > ${WRK_DIR}${CELLTYPE}_whitelistRegions_contain2ormoreHMRs_hpl.txt\n",
    "echo \"Found whitelist regions that contain 2+ HMRs.\"\n",
    "\n",
    "\n",
    "\n",
    "\n",
    "\n",
    "# (b)Find what HMRs are in these to create a double BED file in a parsable list for custom merging: [1-3]: BED coordinates of Whitelist region [4]: #HMR in Whitelist region, [5-7]: BED coordinates of HMRs in Whitelist region\n",
    "# Diagnostic: bedtools intersect -loj -F 1.0 -a Bcell_whitelistRegions_contain3ormoreHMRs.txt -b Bcell.HMR.min50.txt | awk 'BEGIN{OFS=FS=\"\\t\"}{print}' - | bedtools sort -i - | head\n",
    "# awk 'BEGIN{OFS=FS=\"\\t\"}{print $5,$6,$7,$1,$2,$3,$4}' temp.txt | head\n",
    "\n",
    "bedtools intersect -loj -F 1.0 -a ${WRK_DIR}${CELLTYPE}_whitelistRegions_contain2ormoreHMRs_hpl.txt -b ${FiltRefSeq_FILE} | awk 'BEGIN{OFS=FS=\"\\t\"}{print $5,$6,$7,$1,$2,$3,$4}' - | bedtools sort -i - > ${WRK_DIR}${CELLTYPE}_whitelistRegions_cluster_contain2ormoreHMRs_individualHMRs_temp_hpl.txt\n",
    "echo \"Created double BED for whitelist regions that contain 2+ HMRs.\"\n",
    "\n",
    "# (c) Custom merge within these regions\n",
    "awk -v whitelistStart=1 -v hmrsCount=1 -v clusterChr=1 -v clusterStart=1 -v clusterEnd=2 'BEGIN{OFS=FS=\"\\t\";dist=6000;whitelistStart=1;hmrsCount=1;clusterChr=1;clusterStart=1;clusterEnd=2;} {\n",
    "# Check if we are in the same WhitelistBoundary\n",
    "if ($5!=whitelistStart) {\n",
    "print clusterChr,clusterStart,clusterEnd,hmrsCount;\n",
    "whitelistStart=$5;\n",
    "hmrsCount=1;\n",
    "clusterChr=$1;\n",
    "clusterStart=$2;\n",
    "clusterEnd=$3;\n",
    "} else {\n",
    "# case if (1) we are staying within a Whitelist boundary, but (2) the previous HMR was >6000bp away\n",
    "if (($2-clusterEnd)>6000) {\n",
    "print clusterChr,clusterStart,clusterEnd,hmrsCount;\n",
    "clusterStart=$2;\n",
    "clusterEnd=$3;\n",
    "hmrsCount=1;\n",
    "} else {\n",
    "clusterEnd=$3;\n",
    "hmrsCount+=1;\n",
    "}\n",
    "}\n",
    "}' ${WRK_DIR}${CELLTYPE}_whitelistRegions_cluster_contain2ormoreHMRs_individualHMRs_temp_hpl.txt | awk 'BEGIN{OFS=FS=\"\\t\"}{if ($4==2) print $0}' - > ${WRK_DIR}${CELLTYPE}_internalClusters_contain2HMRs_hpl.txt\n",
    "\n",
    "echo \"Found internalClusters containing exactly 2 HMRs.\"\n",
    "\n",
    "#########################\n",
    "#########################\n",
    "#########################\n",
    "# Remove unplaced contigs, causes issues downline \n",
    "awk 'BEGIN{OFS=FS=\"\\t\"}{if ($1 !~ /\\_/)print $1,$2,$3}' ${WRK_DIR}${CELLTYPE}_internalClusters_contain2HMRs_hpl.txt > ${WRK_DIR}${CELLTYPE}_internalClusters_contain2HMRs_hpl_BED.txt\n",
    "echo -e \"\\n\"\n",
    "\n",
    "\n",
    "##### ((5)) internalClusters_individualHMRs \n",
    "#####\n",
    "bedtools intersect -u -a ${FiltRefSeq_FILE} -b ${WRK_DIR}${CELLTYPE}_internalClusters_contain2HMRs_hpl_BED.txt > ${WRK_DIR}${CELLTYPE}_internalClusters_contain2HMRs_individualHMRs_hpl.txt\n",
    "echo \"Found the HMRs composing internalClusters containing exactly 2 HMRs.\"\n",
    "\n",
    "\n",
    "\n",
    "\n",
    "## Clusters of three - internal clusters\n",
    "\n",
    "echo \"Starting 3+ cluster compilation.\"\n",
    "\n",
    "# (a) Find whitelist regions with 3+ HMRs\n",
    "bedtools intersect -c -F 1.0 -a ${WRK_DIR}${CELLTYPE}_whitelist.txt -b ${FiltRefSeq_FILE} | awk 'BEGIN{OFS=FS=\"\\t\"}{if ($4>2) print}' - > ${WRK_DIR}${CELLTYPE}_whitelistRegions_contain3ormoreHMRs_hpl.txt\n",
    "echo \"Found whitelist regions that contain 3+ HMRs.\"\n",
    "\n",
    "\n",
    "bedtools intersect -loj -F 1.0 -a ${WRK_DIR}${CELLTYPE}_whitelistRegions_contain3ormoreHMRs_hpl.txt -b ${FiltRefSeq_FILE} | awk 'BEGIN{OFS=FS=\"\\t\"}{print $5,$6,$7,$1,$2,$3,$4}' - | bedtools sort -i - > ${WRK_DIR}${CELLTYPE}_whitelistRegions_cluster_individualHMRs_temp_hpl.txt\n",
    "\n",
    "echo \"Created double BED for whitelist regions that contain 3+ HMRs.\"\n",
    "\n",
    "# (c) Custom merge within these regions\n",
    "awk -v whitelistStart=1 -v hmrsCount=1 -v clusterChr=1 -v clusterStart=1 -v clusterEnd=2 'BEGIN{OFS=FS=\"\\t\";dist=6000;whitelistStart=1;hmrsCount=1;clusterChr=1;clusterStart=1;clusterEnd=2;} {\n",
    "# Check if we are in the same WhitelistBoundary\n",
    "if ($5!=whitelistStart) {\n",
    "print clusterChr,clusterStart,clusterEnd,hmrsCount;\n",
    "whitelistStart=$5;\n",
    "hmrsCount=1;\n",
    "clusterChr=$1;\n",
    "clusterStart=$2;\n",
    "clusterEnd=$3;\n",
    "} else {\n",
    "# case if (1) we are staying within a Whitelist boundary, but (2) the previous HMR was >6000bp away\n",
    "if (($2-clusterEnd)>6000) {\n",
    "print clusterChr,clusterStart,clusterEnd,hmrsCount;\n",
    "clusterStart=$2;\n",
    "clusterEnd=$3;\n",
    "hmrsCount=1;\n",
    "} else {\n",
    "clusterEnd=$3;\n",
    "hmrsCount+=1;\n",
    "}\n",
    "}\n",
    "}' ${WRK_DIR}${CELLTYPE}_whitelistRegions_cluster_individualHMRs_temp_hpl.txt | awk 'BEGIN{OFS=FS=\"\\t\"}{if ($4>2) print $0}' - > ${WRK_DIR}${CELLTYPE}_internalClusters_hpl.txt\n",
    "echo \"Found internalClusters containing 3+ HMRs.\"\n",
    "\n",
    "#########################\n",
    "#########################\n",
    "#########################\n",
    "# Remove unplaced contigs, causes issues downline \n",
    "awk 'BEGIN{OFS=FS=\"\\t\"}{if ($1 !~ /\\_/)print $1,$2,$3}' ${WRK_DIR}${CELLTYPE}_internalClusters_hpl.txt > ${WRK_DIR}${CELLTYPE}_internalClusters_hpl_BED.txt\n",
    "echo -e \"\\n\"\n",
    "\n",
    "\n",
    "##### ((5)) internalClusters_individualHMRs \n",
    "#####\n",
    "bedtools intersect -u -a ${FiltRefSeq_FILE} -b ${WRK_DIR}${CELLTYPE}_internalClusters_hpl_BED.txt > ${WRK_DIR}${CELLTYPE}_internalClusters_individualHMRs_hpl.txt\n",
    "echo \"Found the HMRs composing internalClusters containing 3+ HMRs.\"\n",
    "\n",
    "\n",
    "\n",
    "echo \"All merge -c 2 -d 6000 - naive\"\n",
    " bedtools merge -c 2 -o count -d 6000 -i ${FiltRefSeq_FILE} | awk 'BEGIN{FS=OFS=\"\\t\"}{if ($4==2) print}' - | wc -l\n",
    "\n",
    "wc -l ${WRK_DIR}${CELLTYPE}_internalClusters_contain2HMRs_hpl.txt\n",
    "wc -l ${WRK_DIR}${CELLTYPE}_internalClusters_contain2HMRs_individualHMRs_hpl.txt\n",
    "wc -l ${WRK_DIR}${CELLTYPE}_internalClusters_individualHMRs_hpl.txt\n"
   ]
  },
  {
   "cell_type": "code",
   "execution_count": 17,
   "id": "632fad57",
   "metadata": {},
   "outputs": [
    {
     "name": "stdout",
     "output_type": "stream",
     "text": [
      "11605 /data/hodges_lab/Tim/ClusterTesting/H1ESC_unclustered_hpl.current.txt\n",
      "13152 /data/hodges_lab/Tim/ClusterTesting/H1ESC_unclustered_hpl.RefSeqFilterFirst.txt\n",
      "3162 /data/hodges_lab/Tim/ClusterTesting/H1ESC_internalClusters_contain2HMRs_individualHMRs_hpl.txt\n",
      "1684 /data/hodges_lab/Tim/ClusterTesting/H1ESC_internalClusters_individualHMRs_hpl.txt\n"
     ]
    }
   ],
   "source": [
    "wc -l ${WRK_DIR}H1ESC_unclustered_hpl.current.txt\n",
    "wc -l ${WRK_DIR}H1ESC_unclustered_hpl.RefSeqFilterFirst.txt\n",
    "wc -l ${WRK_DIR}H1ESC_internalClusters_contain2HMRs_individualHMRs_hpl.txt\n",
    "wc -l ${WRK_DIR}H1ESC_internalClusters_individualHMRs_hpl.txt"
   ]
  },
  {
   "cell_type": "code",
   "execution_count": null,
   "id": "41110a9c",
   "metadata": {},
   "outputs": [],
   "source": []
  },
  {
   "cell_type": "markdown",
   "id": "54335030",
   "metadata": {},
   "source": [
    "# HSPC "
   ]
  },
  {
   "cell_type": "code",
   "execution_count": 19,
   "id": "17341a0e",
   "metadata": {},
   "outputs": [
    {
     "name": "stdout",
     "output_type": "stream",
     "text": [
      "46056 /data/hodges_lab/Tim/finalAnalyses_HMRs/hp_lineage/filtRefSeqFiles/HSC.minsize50.filtforrefseqTSSexons.txt\n",
      "67223 /data/hodges_lab/Tim/finalAnalyses_HMRs/hp_lineage/startingBEDs/Human_HSC.hmr.bed\n",
      "Found unclustered HMRs.\n",
      "Done.\n",
      "Made whitelist.\n",
      "Starting cluster compilation.\n",
      "Found whitelist regions that contain 2+ HMRs.\n",
      "Created double BED for whitelist regions that contain 2+ HMRs.\n",
      "Found internalClusters containing exactly 2 HMRs.\n",
      "\n",
      "\n",
      "Found the HMRs composing internalClusters containing exactly 2 HMRs.\n",
      "Starting 3+ cluster compilation.\n",
      "Found whitelist regions that contain 3+ HMRs.\n",
      "Created double BED for whitelist regions that contain 3+ HMRs.\n",
      "Found internalClusters containing 3+ HMRs.\n",
      "\n",
      "\n",
      "Found the HMRs composing internalClusters containing 3+ HMRs.\n",
      "All merge -c 2 -d 6000 - naive\n",
      "5102\n",
      "4959 /data/hodges_lab/Tim/ClusterTesting/HSPC_internalClusters_contain2HMRs_hpl.txt\n",
      "9918 /data/hodges_lab/Tim/ClusterTesting/HSPC_internalClusters_contain2HMRs_individualHMRs_hpl.txt\n",
      "8280 /data/hodges_lab/Tim/ClusterTesting/HSPC_internalClusters_individualHMRs_hpl.txt\n"
     ]
    }
   ],
   "source": [
    "# Liver: Compute cluster groups \n",
    "\n",
    "CELLTYPE=\"HSPC\" #${CELLTYPE}\n",
    "\n",
    "WRK_DIR=/data/hodges_lab/Tim/ClusterTesting/\n",
    "mkdir -p ${WRK_DIR}\n",
    "\n",
    "# RefSeq TSS/Exon file\n",
    "TSSExon_FILE=/data/hodges_lab/Tim/finalAnalyses_HMRs/hp_lineage/referenceFiles/ncbiRefSeqCurated_NM.promotersUp2000Down1000AndExons.txt \n",
    "\n",
    "# B cell - filtered for RefSeq TSS/Exon file \n",
    "FiltRefSeq_FILE=/data/hodges_lab/Tim/finalAnalyses_HMRs/hp_lineage/filtRefSeqFiles/HSC.minsize50.filtforrefseqTSSexons.txt # Was BCL_FILE\n",
    "\n",
    "wc -l ${FiltRefSeq_FILE}\n",
    "\n",
    "# B cell - HMR file as downloaded\n",
    "BASE_HMR_FILE=/data/hodges_lab/Tim/finalAnalyses_HMRs/hp_lineage/startingBEDs/Human_HSC.hmr.bed\n",
    "wc -l ${BASE_HMR_FILE}\n",
    "\n",
    "\n",
    "\n",
    "## Unclustered - current method \n",
    "\n",
    "awk 'BEGIN{OFS=FS=\"\\t\"}{if (($3-$2)>49) print $1,$2,$3}' ${BASE_HMR_FILE} | bedtools merge -c 2 -o count -d 6000 -i - | awk 'BEGIN{FS=OFS=\"\\t\"}{if ($4<2) print}' - | awk 'BEGIN{OFS=FS=\"\\t\"}{print $1,$2,$3}' - | bedtools intersect -v -a - -b ${TSSExon_FILE} > ${WRK_DIR}${CELLTYPE}_unclustered_hpl.current.txt\n",
    "\n",
    "echo \"Found unclustered HMRs.\"\n",
    "\n",
    "## Unclustered - RefSeq filter first (More inclusive)\n",
    "\n",
    "bedtools merge -c 2 -o count -d 6000 -i ${FiltRefSeq_FILE} | awk 'BEGIN{FS=OFS=\"\\t\"}{if ($4<2) print}' - | awk 'BEGIN{OFS=FS=\"\\t\"}{print $1,$2,$3}' - > ${WRK_DIR}${CELLTYPE}_unclustered_hpl.RefSeqFilterFirst.txt\n",
    "\n",
    "echo \"Done.\"\n",
    "\n",
    "### Unclustered - RefSeq - cell specific \n",
    "\n",
    "# bedtools intersect -u -a ${WRK_DIR}${CELLTYPE}_unclustered_hpl.RefSeqFilterFirst.txt -b /data/hodges_lab/Tim/finalAnalyses_HMRs/hp_lineage/HMRs/${CELLTYPE}_all_cellspecific_hpl.txt > ${WRK_DIR}${CELLTYPE}_unclustered_hpl.RefSeqFilterFirst.cellspecific.txt\n",
    "\n",
    "\n",
    "\n",
    "## Clusters of two - internal clusters \n",
    "\n",
    "awk 'BEGIN{OFS=FS=\"\\t\"}{if ($1 !~ /\\_/)print $1,$2,$3}' ${TSSExon_FILE} | bedtools sort -i - | bedtools complement -i - -g /data/hodges_lab/Tim/finalAnalyses_HMRs/hp_lineage/referenceFiles/hg19.chrom.sizes.twoCol.sorted > ${WRK_DIR}${CELLTYPE}_whitelist.txt\n",
    "echo \"Made whitelist.\"\n",
    "\n",
    "echo \"Starting cluster compilation.\"\n",
    "\n",
    "# (a) Find whitelist regions with 2+ HMRs\n",
    "bedtools intersect -c -F 1.0 -a ${WRK_DIR}${CELLTYPE}_whitelist.txt -b ${FiltRefSeq_FILE} | awk 'BEGIN{OFS=FS=\"\\t\"}{if ($4>1) print}' - > ${WRK_DIR}${CELLTYPE}_whitelistRegions_contain2ormoreHMRs_hpl.txt\n",
    "echo \"Found whitelist regions that contain 2+ HMRs.\"\n",
    "\n",
    "\n",
    "\n",
    "\n",
    "\n",
    "# (b)Find what HMRs are in these to create a double BED file in a parsable list for custom merging: [1-3]: BED coordinates of Whitelist region [4]: #HMR in Whitelist region, [5-7]: BED coordinates of HMRs in Whitelist region\n",
    "# Diagnostic: bedtools intersect -loj -F 1.0 -a Bcell_whitelistRegions_contain3ormoreHMRs.txt -b Bcell.HMR.min50.txt | awk 'BEGIN{OFS=FS=\"\\t\"}{print}' - | bedtools sort -i - | head\n",
    "# awk 'BEGIN{OFS=FS=\"\\t\"}{print $5,$6,$7,$1,$2,$3,$4}' temp.txt | head\n",
    "\n",
    "bedtools intersect -loj -F 1.0 -a ${WRK_DIR}${CELLTYPE}_whitelistRegions_contain2ormoreHMRs_hpl.txt -b ${FiltRefSeq_FILE} | awk 'BEGIN{OFS=FS=\"\\t\"}{print $5,$6,$7,$1,$2,$3,$4}' - | bedtools sort -i - > ${WRK_DIR}${CELLTYPE}_whitelistRegions_cluster_contain2ormoreHMRs_individualHMRs_temp_hpl.txt\n",
    "echo \"Created double BED for whitelist regions that contain 2+ HMRs.\"\n",
    "\n",
    "# (c) Custom merge within these regions\n",
    "awk -v whitelistStart=1 -v hmrsCount=1 -v clusterChr=1 -v clusterStart=1 -v clusterEnd=2 'BEGIN{OFS=FS=\"\\t\";dist=6000;whitelistStart=1;hmrsCount=1;clusterChr=1;clusterStart=1;clusterEnd=2;} {\n",
    "# Check if we are in the same WhitelistBoundary\n",
    "if ($5!=whitelistStart) {\n",
    "print clusterChr,clusterStart,clusterEnd,hmrsCount;\n",
    "whitelistStart=$5;\n",
    "hmrsCount=1;\n",
    "clusterChr=$1;\n",
    "clusterStart=$2;\n",
    "clusterEnd=$3;\n",
    "} else {\n",
    "# case if (1) we are staying within a Whitelist boundary, but (2) the previous HMR was >6000bp away\n",
    "if (($2-clusterEnd)>6000) {\n",
    "print clusterChr,clusterStart,clusterEnd,hmrsCount;\n",
    "clusterStart=$2;\n",
    "clusterEnd=$3;\n",
    "hmrsCount=1;\n",
    "} else {\n",
    "clusterEnd=$3;\n",
    "hmrsCount+=1;\n",
    "}\n",
    "}\n",
    "}' ${WRK_DIR}${CELLTYPE}_whitelistRegions_cluster_contain2ormoreHMRs_individualHMRs_temp_hpl.txt | awk 'BEGIN{OFS=FS=\"\\t\"}{if ($4==2) print $0}' - > ${WRK_DIR}${CELLTYPE}_internalClusters_contain2HMRs_hpl.txt\n",
    "\n",
    "echo \"Found internalClusters containing exactly 2 HMRs.\"\n",
    "\n",
    "#########################\n",
    "#########################\n",
    "#########################\n",
    "# Remove unplaced contigs, causes issues downline \n",
    "awk 'BEGIN{OFS=FS=\"\\t\"}{if ($1 !~ /\\_/)print $1,$2,$3}' ${WRK_DIR}${CELLTYPE}_internalClusters_contain2HMRs_hpl.txt > ${WRK_DIR}${CELLTYPE}_internalClusters_contain2HMRs_hpl_BED.txt\n",
    "echo -e \"\\n\"\n",
    "\n",
    "\n",
    "##### ((5)) internalClusters_individualHMRs \n",
    "#####\n",
    "bedtools intersect -u -a ${FiltRefSeq_FILE} -b ${WRK_DIR}${CELLTYPE}_internalClusters_contain2HMRs_hpl_BED.txt > ${WRK_DIR}${CELLTYPE}_internalClusters_contain2HMRs_individualHMRs_hpl.txt\n",
    "echo \"Found the HMRs composing internalClusters containing exactly 2 HMRs.\"\n",
    "\n",
    "\n",
    "\n",
    "\n",
    "## Clusters of three - internal clusters\n",
    "\n",
    "echo \"Starting 3+ cluster compilation.\"\n",
    "\n",
    "# (a) Find whitelist regions with 3+ HMRs\n",
    "bedtools intersect -c -F 1.0 -a ${WRK_DIR}${CELLTYPE}_whitelist.txt -b ${FiltRefSeq_FILE} | awk 'BEGIN{OFS=FS=\"\\t\"}{if ($4>2) print}' - > ${WRK_DIR}${CELLTYPE}_whitelistRegions_contain3ormoreHMRs_hpl.txt\n",
    "echo \"Found whitelist regions that contain 3+ HMRs.\"\n",
    "\n",
    "\n",
    "bedtools intersect -loj -F 1.0 -a ${WRK_DIR}${CELLTYPE}_whitelistRegions_contain3ormoreHMRs_hpl.txt -b ${FiltRefSeq_FILE} | awk 'BEGIN{OFS=FS=\"\\t\"}{print $5,$6,$7,$1,$2,$3,$4}' - | bedtools sort -i - > ${WRK_DIR}${CELLTYPE}_whitelistRegions_cluster_individualHMRs_temp_hpl.txt\n",
    "\n",
    "echo \"Created double BED for whitelist regions that contain 3+ HMRs.\"\n",
    "\n",
    "# (c) Custom merge within these regions\n",
    "awk -v whitelistStart=1 -v hmrsCount=1 -v clusterChr=1 -v clusterStart=1 -v clusterEnd=2 'BEGIN{OFS=FS=\"\\t\";dist=6000;whitelistStart=1;hmrsCount=1;clusterChr=1;clusterStart=1;clusterEnd=2;} {\n",
    "# Check if we are in the same WhitelistBoundary\n",
    "if ($5!=whitelistStart) {\n",
    "print clusterChr,clusterStart,clusterEnd,hmrsCount;\n",
    "whitelistStart=$5;\n",
    "hmrsCount=1;\n",
    "clusterChr=$1;\n",
    "clusterStart=$2;\n",
    "clusterEnd=$3;\n",
    "} else {\n",
    "# case if (1) we are staying within a Whitelist boundary, but (2) the previous HMR was >6000bp away\n",
    "if (($2-clusterEnd)>6000) {\n",
    "print clusterChr,clusterStart,clusterEnd,hmrsCount;\n",
    "clusterStart=$2;\n",
    "clusterEnd=$3;\n",
    "hmrsCount=1;\n",
    "} else {\n",
    "clusterEnd=$3;\n",
    "hmrsCount+=1;\n",
    "}\n",
    "}\n",
    "}' ${WRK_DIR}${CELLTYPE}_whitelistRegions_cluster_individualHMRs_temp_hpl.txt | awk 'BEGIN{OFS=FS=\"\\t\"}{if ($4>2) print $0}' - > ${WRK_DIR}${CELLTYPE}_internalClusters_hpl.txt\n",
    "echo \"Found internalClusters containing 3+ HMRs.\"\n",
    "\n",
    "#########################\n",
    "#########################\n",
    "#########################\n",
    "# Remove unplaced contigs, causes issues downline \n",
    "awk 'BEGIN{OFS=FS=\"\\t\"}{if ($1 !~ /\\_/)print $1,$2,$3}' ${WRK_DIR}${CELLTYPE}_internalClusters_hpl.txt > ${WRK_DIR}${CELLTYPE}_internalClusters_hpl_BED.txt\n",
    "echo -e \"\\n\"\n",
    "\n",
    "\n",
    "##### ((5)) internalClusters_individualHMRs \n",
    "#####\n",
    "bedtools intersect -u -a ${FiltRefSeq_FILE} -b ${WRK_DIR}${CELLTYPE}_internalClusters_hpl_BED.txt > ${WRK_DIR}${CELLTYPE}_internalClusters_individualHMRs_hpl.txt\n",
    "echo \"Found the HMRs composing internalClusters containing 3+ HMRs.\"\n",
    "\n",
    "\n",
    "\n",
    "echo \"All merge -c 2 -d 6000 - naive\"\n",
    " bedtools merge -c 2 -o count -d 6000 -i ${FiltRefSeq_FILE} | awk 'BEGIN{FS=OFS=\"\\t\"}{if ($4==2) print}' - | wc -l\n",
    "\n",
    "wc -l ${WRK_DIR}${CELLTYPE}_internalClusters_contain2HMRs_hpl.txt\n",
    "wc -l ${WRK_DIR}${CELLTYPE}_internalClusters_contain2HMRs_individualHMRs_hpl.txt\n",
    "wc -l ${WRK_DIR}${CELLTYPE}_internalClusters_individualHMRs_hpl.txt\n"
   ]
  },
  {
   "cell_type": "code",
   "execution_count": 20,
   "id": "915b474a",
   "metadata": {},
   "outputs": [
    {
     "name": "stdout",
     "output_type": "stream",
     "text": [
      "23406 /data/hodges_lab/Tim/ClusterTesting/HSPC_unclustered_hpl.current.txt\n",
      "26732 /data/hodges_lab/Tim/ClusterTesting/HSPC_unclustered_hpl.RefSeqFilterFirst.txt\n",
      "9918 /data/hodges_lab/Tim/ClusterTesting/HSPC_internalClusters_contain2HMRs_individualHMRs_hpl.txt\n",
      "8280 /data/hodges_lab/Tim/ClusterTesting/HSPC_internalClusters_individualHMRs_hpl.txt\n"
     ]
    }
   ],
   "source": [
    "wc -l ${WRK_DIR}HSPC_unclustered_hpl.current.txt\n",
    "wc -l ${WRK_DIR}HSPC_unclustered_hpl.RefSeqFilterFirst.txt\n",
    "wc -l ${WRK_DIR}HSPC_internalClusters_contain2HMRs_individualHMRs_hpl.txt\n",
    "wc -l ${WRK_DIR}HSPC_internalClusters_individualHMRs_hpl.txt"
   ]
  },
  {
   "cell_type": "markdown",
   "id": "059a8827",
   "metadata": {},
   "source": [
    "# Numbers summary"
   ]
  },
  {
   "cell_type": "code",
   "execution_count": 4,
   "id": "9bcfb871",
   "metadata": {},
   "outputs": [],
   "source": [
    "WRK_DIR=/data/hodges_lab/Tim/ClusterTesting/"
   ]
  },
  {
   "cell_type": "code",
   "execution_count": 5,
   "id": "fd4a03b8",
   "metadata": {},
   "outputs": [
    {
     "name": "stdout",
     "output_type": "stream",
     "text": [
      "17185 /data/hodges_lab/Tim/ClusterTesting/Bcell_unclustered_hpl.current.txt\n",
      "19959 /data/hodges_lab/Tim/ClusterTesting/Bcell_unclustered_hpl.RefSeqFilterFirst.txt\n",
      "7204 /data/hodges_lab/Tim/ClusterTesting/Bcell_internalClusters_contain2HMRs_individualHMRs_hpl.txt\n",
      "5974 /data/hodges_lab/Tim/ClusterTesting/Bcell_internalClusters_individualHMRs_hpl.txt\n"
     ]
    }
   ],
   "source": [
    "wc -l ${WRK_DIR}Bcell_unclustered_hpl.current.txt\n",
    "wc -l ${WRK_DIR}Bcell_unclustered_hpl.RefSeqFilterFirst.txt\n",
    "wc -l ${WRK_DIR}Bcell_internalClusters_contain2HMRs_individualHMRs_hpl.txt\n",
    "wc -l ${WRK_DIR}Bcell_internalClusters_individualHMRs_hpl.txt\n",
    "\n",
    "# 17185, 19959, 7204, 5974"
   ]
  },
  {
   "cell_type": "code",
   "execution_count": 6,
   "id": "23b814a7",
   "metadata": {},
   "outputs": [
    {
     "name": "stdout",
     "output_type": "stream",
     "text": [
      "20470 /data/hodges_lab/Tim/ClusterTesting/Liver_unclustered_hpl.current.txt\n",
      "23460 /data/hodges_lab/Tim/ClusterTesting/Liver_unclustered_hpl.RefSeqFilterFirst.txt\n",
      "7334 /data/hodges_lab/Tim/ClusterTesting/Liver_internalClusters_contain2HMRs_individualHMRs_hpl.txt\n",
      "6636 /data/hodges_lab/Tim/ClusterTesting/Liver_internalClusters_individualHMRs_hpl.txt\n"
     ]
    }
   ],
   "source": [
    "wc -l ${WRK_DIR}Liver_unclustered_hpl.current.txt\n",
    "wc -l ${WRK_DIR}Liver_unclustered_hpl.RefSeqFilterFirst.txt\n",
    "wc -l ${WRK_DIR}Liver_internalClusters_contain2HMRs_individualHMRs_hpl.txt\n",
    "wc -l ${WRK_DIR}Liver_internalClusters_individualHMRs_hpl.txt\n",
    "\n",
    "# 20470, 23460, 7334, 6636"
   ]
  },
  {
   "cell_type": "code",
   "execution_count": 7,
   "id": "79c079ad",
   "metadata": {},
   "outputs": [
    {
     "name": "stdout",
     "output_type": "stream",
     "text": [
      "11605 /data/hodges_lab/Tim/ClusterTesting/H1ESC_unclustered_hpl.current.txt\n",
      "13152 /data/hodges_lab/Tim/ClusterTesting/H1ESC_unclustered_hpl.RefSeqFilterFirst.txt\n",
      "3162 /data/hodges_lab/Tim/ClusterTesting/H1ESC_internalClusters_contain2HMRs_individualHMRs_hpl.txt\n",
      "1684 /data/hodges_lab/Tim/ClusterTesting/H1ESC_internalClusters_individualHMRs_hpl.txt\n"
     ]
    }
   ],
   "source": [
    "wc -l ${WRK_DIR}H1ESC_unclustered_hpl.current.txt\n",
    "wc -l ${WRK_DIR}H1ESC_unclustered_hpl.RefSeqFilterFirst.txt\n",
    "wc -l ${WRK_DIR}H1ESC_internalClusters_contain2HMRs_individualHMRs_hpl.txt\n",
    "wc -l ${WRK_DIR}H1ESC_internalClusters_individualHMRs_hpl.txt\n",
    "\n",
    "# 11605, 13152, 3162, 1684"
   ]
  },
  {
   "cell_type": "code",
   "execution_count": 8,
   "id": "4843cd87",
   "metadata": {},
   "outputs": [
    {
     "name": "stdout",
     "output_type": "stream",
     "text": [
      "23406 /data/hodges_lab/Tim/ClusterTesting/HSPC_unclustered_hpl.current.txt\n",
      "26732 /data/hodges_lab/Tim/ClusterTesting/HSPC_unclustered_hpl.RefSeqFilterFirst.txt\n",
      "9918 /data/hodges_lab/Tim/ClusterTesting/HSPC_internalClusters_contain2HMRs_individualHMRs_hpl.txt\n",
      "8280 /data/hodges_lab/Tim/ClusterTesting/HSPC_internalClusters_individualHMRs_hpl.txt\n"
     ]
    }
   ],
   "source": [
    "wc -l ${WRK_DIR}HSPC_unclustered_hpl.current.txt\n",
    "wc -l ${WRK_DIR}HSPC_unclustered_hpl.RefSeqFilterFirst.txt\n",
    "wc -l ${WRK_DIR}HSPC_internalClusters_contain2HMRs_individualHMRs_hpl.txt\n",
    "wc -l ${WRK_DIR}HSPC_internalClusters_individualHMRs_hpl.txt\n",
    "\n",
    "# 23406, 26732, 9918, 8280"
   ]
  },
  {
   "cell_type": "markdown",
   "id": "39209ce6",
   "metadata": {},
   "source": [
    "# Plot"
   ]
  },
  {
   "cell_type": "code",
   "execution_count": 1,
   "id": "dca9e1c5",
   "metadata": {},
   "outputs": [
    {
     "name": "stderr",
     "output_type": "stream",
     "text": [
      "── \u001b[1mAttaching packages\u001b[22m ─────────────────────────────────────── tidyverse 1.3.1 ──\n",
      "\n",
      "\u001b[32m✔\u001b[39m \u001b[34mggplot2\u001b[39m 3.3.6     \u001b[32m✔\u001b[39m \u001b[34mpurrr  \u001b[39m 1.0.1\n",
      "\u001b[32m✔\u001b[39m \u001b[34mtibble \u001b[39m 3.2.1     \u001b[32m✔\u001b[39m \u001b[34mdplyr  \u001b[39m 1.1.1\n",
      "\u001b[32m✔\u001b[39m \u001b[34mtidyr  \u001b[39m 1.3.0     \u001b[32m✔\u001b[39m \u001b[34mstringr\u001b[39m 1.5.0\n",
      "\u001b[32m✔\u001b[39m \u001b[34mreadr  \u001b[39m 2.1.2     \u001b[32m✔\u001b[39m \u001b[34mforcats\u001b[39m 0.5.1\n",
      "\n",
      "── \u001b[1mConflicts\u001b[22m ────────────────────────────────────────── tidyverse_conflicts() ──\n",
      "\u001b[31m✖\u001b[39m \u001b[34mdplyr\u001b[39m::\u001b[32mfilter()\u001b[39m masks \u001b[34mstats\u001b[39m::filter()\n",
      "\u001b[31m✖\u001b[39m \u001b[34mdplyr\u001b[39m::\u001b[32mlag()\u001b[39m    masks \u001b[34mstats\u001b[39m::lag()\n",
      "\n"
     ]
    }
   ],
   "source": [
    "library(tidyverse)\n",
    "library(ggplot2)"
   ]
  },
  {
   "cell_type": "code",
   "execution_count": 3,
   "id": "3e1fe5a7",
   "metadata": {},
   "outputs": [],
   "source": [
    "setwd(\"/data/hodges_lab/Tim/ClusterTesting/\")"
   ]
  },
  {
   "cell_type": "markdown",
   "id": "771e4a07",
   "metadata": {},
   "source": [
    "## Dataframe"
   ]
  },
  {
   "cell_type": "code",
   "execution_count": null,
   "id": "452f8254",
   "metadata": {},
   "outputs": [],
   "source": [
    "#> pwd\n",
    "#/data/hodges_lab/Tim/finalAnalyses_HMRs/hp_lineage/filtRefSeqFiles\n",
    "#> wc -l *\n",
    "#   34070 Bcell.minsize50.filtforrefseqTSSexons.txt\n",
    "#   18235 H1ESC.minsize50.filtforrefseqTSSexons.txt\n",
    "#   46056 HSC.minsize50.filtforrefseqTSSexons.txt\n",
    "#   38132 Liver.minsize50.filtforrefseqTSSexons.txt\n"
   ]
  },
  {
   "cell_type": "code",
   "execution_count": null,
   "id": "a1b6baa1",
   "metadata": {},
   "outputs": [],
   "source": [
    "# Unclustered:TSS/Exon-proximal"
   ]
  },
  {
   "cell_type": "code",
   "execution_count": 15,
   "id": "51a76e87",
   "metadata": {},
   "outputs": [
    {
     "data": {
      "text/html": [
       "<table class=\"dataframe\">\n",
       "<caption>A tibble: 20 × 4</caption>\n",
       "<thead>\n",
       "\t<tr><th scope=col>Celltype</th><th scope=col>HMRGroup</th><th scope=col>Count</th><th scope=col>HMRTotal</th></tr>\n",
       "\t<tr><th scope=col>&lt;chr&gt;</th><th scope=col>&lt;chr&gt;</th><th scope=col>&lt;dbl&gt;</th><th scope=col>&lt;dbl&gt;</th></tr>\n",
       "</thead>\n",
       "<tbody>\n",
       "\t<tr><td>H1ESC </td><td>Unclustered                  </td><td>11605</td><td>18235</td></tr>\n",
       "\t<tr><td>H1ESC </td><td>Unclustered:Loose            </td><td>13152</td><td>18235</td></tr>\n",
       "\t<tr><td>H1ESC </td><td>Unclustered:TSS/Exon-proximal</td><td> 1547</td><td>18235</td></tr>\n",
       "\t<tr><td>H1ESC </td><td>2-HMR clusters               </td><td> 3162</td><td>18235</td></tr>\n",
       "\t<tr><td>H1ESC </td><td>3+HMR clusters               </td><td> 1684</td><td>18235</td></tr>\n",
       "\t<tr><td>HSPC  </td><td>Unclustered                  </td><td>23406</td><td>46056</td></tr>\n",
       "\t<tr><td>HSPC  </td><td>Unclustered:Loose            </td><td>26732</td><td>46056</td></tr>\n",
       "\t<tr><td>HSPC  </td><td>Unclustered:TSS/Exon-proximal</td><td> 3326</td><td>46056</td></tr>\n",
       "\t<tr><td>HSPC  </td><td>2-HMR clusters               </td><td> 9918</td><td>46056</td></tr>\n",
       "\t<tr><td>HSPC  </td><td>3+HMR clusters               </td><td> 8280</td><td>46056</td></tr>\n",
       "\t<tr><td>B cell</td><td>Unclustered                  </td><td>17185</td><td>34070</td></tr>\n",
       "\t<tr><td>B cell</td><td>Unclustered:Loose            </td><td>19959</td><td>34070</td></tr>\n",
       "\t<tr><td>B cell</td><td>Unclustered:TSS/Exon-proximal</td><td> 2774</td><td>34070</td></tr>\n",
       "\t<tr><td>B cell</td><td>2-HMR clusters               </td><td> 7204</td><td>34070</td></tr>\n",
       "\t<tr><td>B cell</td><td>3+HMR clusters               </td><td> 5974</td><td>34070</td></tr>\n",
       "\t<tr><td>Liver </td><td>Unclustered                  </td><td>20470</td><td>38132</td></tr>\n",
       "\t<tr><td>Liver </td><td>Unclustered:Loose            </td><td>23460</td><td>38132</td></tr>\n",
       "\t<tr><td>Liver </td><td>Unclustered:TSS/Exon-proximal</td><td> 2990</td><td>38132</td></tr>\n",
       "\t<tr><td>Liver </td><td>2-HMR clusters               </td><td> 7334</td><td>38132</td></tr>\n",
       "\t<tr><td>Liver </td><td>3+HMR clusters               </td><td> 6636</td><td>38132</td></tr>\n",
       "</tbody>\n",
       "</table>\n"
      ],
      "text/latex": [
       "A tibble: 20 × 4\n",
       "\\begin{tabular}{llll}\n",
       " Celltype & HMRGroup & Count & HMRTotal\\\\\n",
       " <chr> & <chr> & <dbl> & <dbl>\\\\\n",
       "\\hline\n",
       "\t H1ESC  & Unclustered                   & 11605 & 18235\\\\\n",
       "\t H1ESC  & Unclustered:Loose             & 13152 & 18235\\\\\n",
       "\t H1ESC  & Unclustered:TSS/Exon-proximal &  1547 & 18235\\\\\n",
       "\t H1ESC  & 2-HMR clusters                &  3162 & 18235\\\\\n",
       "\t H1ESC  & 3+HMR clusters                &  1684 & 18235\\\\\n",
       "\t HSPC   & Unclustered                   & 23406 & 46056\\\\\n",
       "\t HSPC   & Unclustered:Loose             & 26732 & 46056\\\\\n",
       "\t HSPC   & Unclustered:TSS/Exon-proximal &  3326 & 46056\\\\\n",
       "\t HSPC   & 2-HMR clusters                &  9918 & 46056\\\\\n",
       "\t HSPC   & 3+HMR clusters                &  8280 & 46056\\\\\n",
       "\t B cell & Unclustered                   & 17185 & 34070\\\\\n",
       "\t B cell & Unclustered:Loose             & 19959 & 34070\\\\\n",
       "\t B cell & Unclustered:TSS/Exon-proximal &  2774 & 34070\\\\\n",
       "\t B cell & 2-HMR clusters                &  7204 & 34070\\\\\n",
       "\t B cell & 3+HMR clusters                &  5974 & 34070\\\\\n",
       "\t Liver  & Unclustered                   & 20470 & 38132\\\\\n",
       "\t Liver  & Unclustered:Loose             & 23460 & 38132\\\\\n",
       "\t Liver  & Unclustered:TSS/Exon-proximal &  2990 & 38132\\\\\n",
       "\t Liver  & 2-HMR clusters                &  7334 & 38132\\\\\n",
       "\t Liver  & 3+HMR clusters                &  6636 & 38132\\\\\n",
       "\\end{tabular}\n"
      ],
      "text/markdown": [
       "\n",
       "A tibble: 20 × 4\n",
       "\n",
       "| Celltype &lt;chr&gt; | HMRGroup &lt;chr&gt; | Count &lt;dbl&gt; | HMRTotal &lt;dbl&gt; |\n",
       "|---|---|---|---|\n",
       "| H1ESC  | Unclustered                   | 11605 | 18235 |\n",
       "| H1ESC  | Unclustered:Loose             | 13152 | 18235 |\n",
       "| H1ESC  | Unclustered:TSS/Exon-proximal |  1547 | 18235 |\n",
       "| H1ESC  | 2-HMR clusters                |  3162 | 18235 |\n",
       "| H1ESC  | 3+HMR clusters                |  1684 | 18235 |\n",
       "| HSPC   | Unclustered                   | 23406 | 46056 |\n",
       "| HSPC   | Unclustered:Loose             | 26732 | 46056 |\n",
       "| HSPC   | Unclustered:TSS/Exon-proximal |  3326 | 46056 |\n",
       "| HSPC   | 2-HMR clusters                |  9918 | 46056 |\n",
       "| HSPC   | 3+HMR clusters                |  8280 | 46056 |\n",
       "| B cell | Unclustered                   | 17185 | 34070 |\n",
       "| B cell | Unclustered:Loose             | 19959 | 34070 |\n",
       "| B cell | Unclustered:TSS/Exon-proximal |  2774 | 34070 |\n",
       "| B cell | 2-HMR clusters                |  7204 | 34070 |\n",
       "| B cell | 3+HMR clusters                |  5974 | 34070 |\n",
       "| Liver  | Unclustered                   | 20470 | 38132 |\n",
       "| Liver  | Unclustered:Loose             | 23460 | 38132 |\n",
       "| Liver  | Unclustered:TSS/Exon-proximal |  2990 | 38132 |\n",
       "| Liver  | 2-HMR clusters                |  7334 | 38132 |\n",
       "| Liver  | 3+HMR clusters                |  6636 | 38132 |\n",
       "\n"
      ],
      "text/plain": [
       "   Celltype HMRGroup                      Count HMRTotal\n",
       "1  H1ESC    Unclustered                   11605 18235   \n",
       "2  H1ESC    Unclustered:Loose             13152 18235   \n",
       "3  H1ESC    Unclustered:TSS/Exon-proximal  1547 18235   \n",
       "4  H1ESC    2-HMR clusters                 3162 18235   \n",
       "5  H1ESC    3+HMR clusters                 1684 18235   \n",
       "6  HSPC     Unclustered                   23406 46056   \n",
       "7  HSPC     Unclustered:Loose             26732 46056   \n",
       "8  HSPC     Unclustered:TSS/Exon-proximal  3326 46056   \n",
       "9  HSPC     2-HMR clusters                 9918 46056   \n",
       "10 HSPC     3+HMR clusters                 8280 46056   \n",
       "11 B cell   Unclustered                   17185 34070   \n",
       "12 B cell   Unclustered:Loose             19959 34070   \n",
       "13 B cell   Unclustered:TSS/Exon-proximal  2774 34070   \n",
       "14 B cell   2-HMR clusters                 7204 34070   \n",
       "15 B cell   3+HMR clusters                 5974 34070   \n",
       "16 Liver    Unclustered                   20470 38132   \n",
       "17 Liver    Unclustered:Loose             23460 38132   \n",
       "18 Liver    Unclustered:TSS/Exon-proximal  2990 38132   \n",
       "19 Liver    2-HMR clusters                 7334 38132   \n",
       "20 Liver    3+HMR clusters                 6636 38132   "
      ]
     },
     "metadata": {},
     "output_type": "display_data"
    }
   ],
   "source": [
    "df <- tibble(\n",
    "    Celltype = c(rep(\"H1ESC\", 5), rep(\"HSPC\", 5), rep(\"B cell\", 5), rep(\"Liver\", 5)),\n",
    "    HMRGroup = rep(c(\"Unclustered\",\"Unclustered:Loose\", \"Unclustered:TSS/Exon-proximal\", \"2-HMR clusters\", \"3+HMR clusters\"), 4),\n",
    "    Count = c(11605, 13152, (13152-11605), 3162, 1684, \n",
    "              23406, 26732, (26732-23406), 9918, 8280, \n",
    "              17185, 19959, (19959-17185), 7204, 5974, \n",
    "              20470, 23460, (23460-20470), 7334, 6636),\n",
    "    HMRTotal = c(rep(18235, 5), rep(46056, 5), rep(34070, 5), rep(38132, 5))\n",
    ")\n",
    "df"
   ]
  },
  {
   "cell_type": "code",
   "execution_count": 29,
   "id": "8a3f7858",
   "metadata": {},
   "outputs": [
    {
     "data": {
      "text/html": [
       "<table class=\"dataframe\">\n",
       "<caption>A tibble: 20 × 5</caption>\n",
       "<thead>\n",
       "\t<tr><th scope=col>Celltype</th><th scope=col>HMRGroup</th><th scope=col>Count</th><th scope=col>HMRTotal</th><th scope=col>Proportion</th></tr>\n",
       "\t<tr><th scope=col>&lt;fct&gt;</th><th scope=col>&lt;fct&gt;</th><th scope=col>&lt;dbl&gt;</th><th scope=col>&lt;dbl&gt;</th><th scope=col>&lt;dbl&gt;</th></tr>\n",
       "</thead>\n",
       "<tbody>\n",
       "\t<tr><td>H1ESC </td><td>Unclustered                  </td><td>11605</td><td>18235</td><td>0.63641349</td></tr>\n",
       "\t<tr><td>H1ESC </td><td>Unclustered:Loose            </td><td>13152</td><td>18235</td><td>0.72125034</td></tr>\n",
       "\t<tr><td>H1ESC </td><td>Unclustered:TSS/Exon-proximal</td><td> 1547</td><td>18235</td><td>0.08483685</td></tr>\n",
       "\t<tr><td>H1ESC </td><td>2-HMR clusters               </td><td> 3162</td><td>18235</td><td>0.17340280</td></tr>\n",
       "\t<tr><td>H1ESC </td><td>3+HMR clusters               </td><td> 1684</td><td>18235</td><td>0.09234988</td></tr>\n",
       "\t<tr><td>HSPC  </td><td>Unclustered                  </td><td>23406</td><td>46056</td><td>0.50820740</td></tr>\n",
       "\t<tr><td>HSPC  </td><td>Unclustered:Loose            </td><td>26732</td><td>46056</td><td>0.58042383</td></tr>\n",
       "\t<tr><td>HSPC  </td><td>Unclustered:TSS/Exon-proximal</td><td> 3326</td><td>46056</td><td>0.07221643</td></tr>\n",
       "\t<tr><td>HSPC  </td><td>2-HMR clusters               </td><td> 9918</td><td>46056</td><td>0.21534653</td></tr>\n",
       "\t<tr><td>HSPC  </td><td>3+HMR clusters               </td><td> 8280</td><td>46056</td><td>0.17978114</td></tr>\n",
       "\t<tr><td>B cell</td><td>Unclustered                  </td><td>17185</td><td>34070</td><td>0.50440270</td></tr>\n",
       "\t<tr><td>B cell</td><td>Unclustered:Loose            </td><td>19959</td><td>34070</td><td>0.58582330</td></tr>\n",
       "\t<tr><td>B cell</td><td>Unclustered:TSS/Exon-proximal</td><td> 2774</td><td>34070</td><td>0.08142060</td></tr>\n",
       "\t<tr><td>B cell</td><td>2-HMR clusters               </td><td> 7204</td><td>34070</td><td>0.21144702</td></tr>\n",
       "\t<tr><td>B cell</td><td>3+HMR clusters               </td><td> 5974</td><td>34070</td><td>0.17534488</td></tr>\n",
       "\t<tr><td>Liver </td><td>Unclustered                  </td><td>20470</td><td>38132</td><td>0.53681947</td></tr>\n",
       "\t<tr><td>Liver </td><td>Unclustered:Loose            </td><td>23460</td><td>38132</td><td>0.61523130</td></tr>\n",
       "\t<tr><td>Liver </td><td>Unclustered:TSS/Exon-proximal</td><td> 2990</td><td>38132</td><td>0.07841183</td></tr>\n",
       "\t<tr><td>Liver </td><td>2-HMR clusters               </td><td> 7334</td><td>38132</td><td>0.19233190</td></tr>\n",
       "\t<tr><td>Liver </td><td>3+HMR clusters               </td><td> 6636</td><td>38132</td><td>0.17402706</td></tr>\n",
       "</tbody>\n",
       "</table>\n"
      ],
      "text/latex": [
       "A tibble: 20 × 5\n",
       "\\begin{tabular}{lllll}\n",
       " Celltype & HMRGroup & Count & HMRTotal & Proportion\\\\\n",
       " <fct> & <fct> & <dbl> & <dbl> & <dbl>\\\\\n",
       "\\hline\n",
       "\t H1ESC  & Unclustered                   & 11605 & 18235 & 0.63641349\\\\\n",
       "\t H1ESC  & Unclustered:Loose             & 13152 & 18235 & 0.72125034\\\\\n",
       "\t H1ESC  & Unclustered:TSS/Exon-proximal &  1547 & 18235 & 0.08483685\\\\\n",
       "\t H1ESC  & 2-HMR clusters                &  3162 & 18235 & 0.17340280\\\\\n",
       "\t H1ESC  & 3+HMR clusters                &  1684 & 18235 & 0.09234988\\\\\n",
       "\t HSPC   & Unclustered                   & 23406 & 46056 & 0.50820740\\\\\n",
       "\t HSPC   & Unclustered:Loose             & 26732 & 46056 & 0.58042383\\\\\n",
       "\t HSPC   & Unclustered:TSS/Exon-proximal &  3326 & 46056 & 0.07221643\\\\\n",
       "\t HSPC   & 2-HMR clusters                &  9918 & 46056 & 0.21534653\\\\\n",
       "\t HSPC   & 3+HMR clusters                &  8280 & 46056 & 0.17978114\\\\\n",
       "\t B cell & Unclustered                   & 17185 & 34070 & 0.50440270\\\\\n",
       "\t B cell & Unclustered:Loose             & 19959 & 34070 & 0.58582330\\\\\n",
       "\t B cell & Unclustered:TSS/Exon-proximal &  2774 & 34070 & 0.08142060\\\\\n",
       "\t B cell & 2-HMR clusters                &  7204 & 34070 & 0.21144702\\\\\n",
       "\t B cell & 3+HMR clusters                &  5974 & 34070 & 0.17534488\\\\\n",
       "\t Liver  & Unclustered                   & 20470 & 38132 & 0.53681947\\\\\n",
       "\t Liver  & Unclustered:Loose             & 23460 & 38132 & 0.61523130\\\\\n",
       "\t Liver  & Unclustered:TSS/Exon-proximal &  2990 & 38132 & 0.07841183\\\\\n",
       "\t Liver  & 2-HMR clusters                &  7334 & 38132 & 0.19233190\\\\\n",
       "\t Liver  & 3+HMR clusters                &  6636 & 38132 & 0.17402706\\\\\n",
       "\\end{tabular}\n"
      ],
      "text/markdown": [
       "\n",
       "A tibble: 20 × 5\n",
       "\n",
       "| Celltype &lt;fct&gt; | HMRGroup &lt;fct&gt; | Count &lt;dbl&gt; | HMRTotal &lt;dbl&gt; | Proportion &lt;dbl&gt; |\n",
       "|---|---|---|---|---|\n",
       "| H1ESC  | Unclustered                   | 11605 | 18235 | 0.63641349 |\n",
       "| H1ESC  | Unclustered:Loose             | 13152 | 18235 | 0.72125034 |\n",
       "| H1ESC  | Unclustered:TSS/Exon-proximal |  1547 | 18235 | 0.08483685 |\n",
       "| H1ESC  | 2-HMR clusters                |  3162 | 18235 | 0.17340280 |\n",
       "| H1ESC  | 3+HMR clusters                |  1684 | 18235 | 0.09234988 |\n",
       "| HSPC   | Unclustered                   | 23406 | 46056 | 0.50820740 |\n",
       "| HSPC   | Unclustered:Loose             | 26732 | 46056 | 0.58042383 |\n",
       "| HSPC   | Unclustered:TSS/Exon-proximal |  3326 | 46056 | 0.07221643 |\n",
       "| HSPC   | 2-HMR clusters                |  9918 | 46056 | 0.21534653 |\n",
       "| HSPC   | 3+HMR clusters                |  8280 | 46056 | 0.17978114 |\n",
       "| B cell | Unclustered                   | 17185 | 34070 | 0.50440270 |\n",
       "| B cell | Unclustered:Loose             | 19959 | 34070 | 0.58582330 |\n",
       "| B cell | Unclustered:TSS/Exon-proximal |  2774 | 34070 | 0.08142060 |\n",
       "| B cell | 2-HMR clusters                |  7204 | 34070 | 0.21144702 |\n",
       "| B cell | 3+HMR clusters                |  5974 | 34070 | 0.17534488 |\n",
       "| Liver  | Unclustered                   | 20470 | 38132 | 0.53681947 |\n",
       "| Liver  | Unclustered:Loose             | 23460 | 38132 | 0.61523130 |\n",
       "| Liver  | Unclustered:TSS/Exon-proximal |  2990 | 38132 | 0.07841183 |\n",
       "| Liver  | 2-HMR clusters                |  7334 | 38132 | 0.19233190 |\n",
       "| Liver  | 3+HMR clusters                |  6636 | 38132 | 0.17402706 |\n",
       "\n"
      ],
      "text/plain": [
       "   Celltype HMRGroup                      Count HMRTotal Proportion\n",
       "1  H1ESC    Unclustered                   11605 18235    0.63641349\n",
       "2  H1ESC    Unclustered:Loose             13152 18235    0.72125034\n",
       "3  H1ESC    Unclustered:TSS/Exon-proximal  1547 18235    0.08483685\n",
       "4  H1ESC    2-HMR clusters                 3162 18235    0.17340280\n",
       "5  H1ESC    3+HMR clusters                 1684 18235    0.09234988\n",
       "6  HSPC     Unclustered                   23406 46056    0.50820740\n",
       "7  HSPC     Unclustered:Loose             26732 46056    0.58042383\n",
       "8  HSPC     Unclustered:TSS/Exon-proximal  3326 46056    0.07221643\n",
       "9  HSPC     2-HMR clusters                 9918 46056    0.21534653\n",
       "10 HSPC     3+HMR clusters                 8280 46056    0.17978114\n",
       "11 B cell   Unclustered                   17185 34070    0.50440270\n",
       "12 B cell   Unclustered:Loose             19959 34070    0.58582330\n",
       "13 B cell   Unclustered:TSS/Exon-proximal  2774 34070    0.08142060\n",
       "14 B cell   2-HMR clusters                 7204 34070    0.21144702\n",
       "15 B cell   3+HMR clusters                 5974 34070    0.17534488\n",
       "16 Liver    Unclustered                   20470 38132    0.53681947\n",
       "17 Liver    Unclustered:Loose             23460 38132    0.61523130\n",
       "18 Liver    Unclustered:TSS/Exon-proximal  2990 38132    0.07841183\n",
       "19 Liver    2-HMR clusters                 7334 38132    0.19233190\n",
       "20 Liver    3+HMR clusters                 6636 38132    0.17402706"
      ]
     },
     "metadata": {},
     "output_type": "display_data"
    }
   ],
   "source": [
    "df_frac <- df %>% mutate(Proportion = (Count/HMRTotal))\n",
    "\n",
    "# Order cell types and HMR groups\n",
    "df_frac$Celltype <- factor(df_frac$Celltype, levels = c(\"H1ESC\",\"HSPC\",\"B cell\",\"Liver\"))\n",
    "df_frac$HMRGroup <- factor(df_frac$HMRGroup, levels = c(\"Unclustered\",\"Unclustered:TSS/Exon-proximal\",\"2-HMR clusters\",\"3+HMR clusters\",\"Unclustered:Loose\"))\n",
    "\n",
    "df_frac"
   ]
  },
  {
   "cell_type": "markdown",
   "id": "7ee7ded6",
   "metadata": {},
   "source": [
    "## GGPlot2 call "
   ]
  },
  {
   "cell_type": "code",
   "execution_count": 55,
   "id": "41615b95",
   "metadata": {},
   "outputs": [
    {
     "data": {
      "text/html": [
       "<strong>png:</strong> 2"
      ],
      "text/latex": [
       "\\textbf{png:} 2"
      ],
      "text/markdown": [
       "**png:** 2"
      ],
      "text/plain": [
       "png \n",
       "  2 "
      ]
     },
     "metadata": {},
     "output_type": "display_data"
    }
   ],
   "source": [
    "pdf(\"/data/hodges_lab/Tim/HMRGroups_Bargraph.pdf\")\n",
    "\n",
    "pg <- df_frac %>% filter(!HMRGroup %in% c(\"Unclustered:Loose\")) %>%\n",
    "ggplot(aes(x = HMRGroup, y = Proportion, fill = Celltype)) +\n",
    "geom_bar(width = .7, stat = \"identity\",  position = position_dodge(width=.9)) +\n",
    "theme_minimal() +\n",
    "scale_fill_manual(values=c(\"#615f5f\",\"#87c4ba\", \"#389686\", \"#72b1db\")) +\n",
    "theme(aspect.ratio = .5)\n",
    "pg\n",
    "\n",
    "dev.off()"
   ]
  },
  {
   "cell_type": "code",
   "execution_count": null,
   "id": "0be28ac8",
   "metadata": {},
   "outputs": [],
   "source": []
  },
  {
   "cell_type": "code",
   "execution_count": null,
   "id": "a147fecb",
   "metadata": {},
   "outputs": [],
   "source": []
  }
 ],
 "metadata": {
  "kernelspec": {
   "display_name": "R",
   "language": "R",
   "name": "ir"
  },
  "language_info": {
   "codemirror_mode": "r",
   "file_extension": ".r",
   "mimetype": "text/x-r-source",
   "name": "R",
   "pygments_lexer": "r",
   "version": "4.1.2"
  },
  "toc": {
   "base_numbering": 1,
   "nav_menu": {},
   "number_sections": true,
   "sideBar": true,
   "skip_h1_title": false,
   "title_cell": "Table of Contents",
   "title_sidebar": "Contents",
   "toc_cell": false,
   "toc_position": {},
   "toc_section_display": true,
   "toc_window_display": true
  }
 },
 "nbformat": 4,
 "nbformat_minor": 5
}

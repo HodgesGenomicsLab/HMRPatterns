{
 "cells": [
  {
   "cell_type": "markdown",
   "id": "0d909bd9",
   "metadata": {},
   "source": [
    "# Load libraries"
   ]
  },
  {
   "cell_type": "code",
   "execution_count": 1,
   "id": "3916fef3",
   "metadata": {},
   "outputs": [
    {
     "name": "stderr",
     "output_type": "stream",
     "text": [
      "── \u001b[1mAttaching packages\u001b[22m ─────────────────────────────────────── tidyverse 1.3.1 ──\n",
      "\n",
      "\u001b[32m✔\u001b[39m \u001b[34mggplot2\u001b[39m 3.3.6     \u001b[32m✔\u001b[39m \u001b[34mpurrr  \u001b[39m 1.0.1\n",
      "\u001b[32m✔\u001b[39m \u001b[34mtibble \u001b[39m 3.2.1     \u001b[32m✔\u001b[39m \u001b[34mdplyr  \u001b[39m 1.1.1\n",
      "\u001b[32m✔\u001b[39m \u001b[34mtidyr  \u001b[39m 1.3.0     \u001b[32m✔\u001b[39m \u001b[34mstringr\u001b[39m 1.5.0\n",
      "\u001b[32m✔\u001b[39m \u001b[34mreadr  \u001b[39m 2.1.2     \u001b[32m✔\u001b[39m \u001b[34mforcats\u001b[39m 0.5.1\n",
      "\n",
      "── \u001b[1mConflicts\u001b[22m ────────────────────────────────────────── tidyverse_conflicts() ──\n",
      "\u001b[31m✖\u001b[39m \u001b[34mdplyr\u001b[39m::\u001b[32mfilter()\u001b[39m masks \u001b[34mstats\u001b[39m::filter()\n",
      "\u001b[31m✖\u001b[39m \u001b[34mdplyr\u001b[39m::\u001b[32mlag()\u001b[39m    masks \u001b[34mstats\u001b[39m::lag()\n",
      "\n"
     ]
    }
   ],
   "source": [
    "library(tidyverse)\n",
    "library(ggplot2)"
   ]
  },
  {
   "cell_type": "code",
   "execution_count": 2,
   "id": "e63a7629",
   "metadata": {},
   "outputs": [],
   "source": [
    "setwd(\"/data/hodges_lab/Tim/finalAnalyses_HMRs/hp_lineage/HMRs/\")"
   ]
  },
  {
   "cell_type": "markdown",
   "id": "885f3ca6",
   "metadata": {},
   "source": [
    "# Load files "
   ]
  },
  {
   "cell_type": "code",
   "execution_count": 3,
   "id": "60005f81",
   "metadata": {},
   "outputs": [
    {
     "data": {
      "text/html": [
       "<style>\n",
       ".list-inline {list-style: none; margin:0; padding: 0}\n",
       ".list-inline>li {display: inline-block}\n",
       ".list-inline>li:not(:last-child)::after {content: \"\\00b7\"; padding: 0 .5ex}\n",
       "</style>\n",
       "<ol class=list-inline><li>'Adrenal_internalClusters_hpl_BED.txt'</li><li>'Bcell_internalClusters_hpl_BED.txt'</li><li>'BT_internalClusters_hpl_BED.txt'</li><li>'fHeart_internalClusters_hpl_BED.txt'</li><li>'fSpinal_internalClusters_hpl_BED.txt'</li><li>'H1ESC_internalClusters_hpl_BED.txt'</li><li>'HSC_internalClusters_hpl_BED.txt'</li><li>'Liver_internalClusters_hpl_BED.txt'</li><li>'Macrophage_internalClusters_hpl_BED.txt'</li><li>'MN_internalClusters_hpl_BED.txt'</li><li>'MNBT_internalClusters_hpl_BED.txt'</li><li>'Neutrophil_internalClusters_hpl_BED.txt'</li><li>'Tcell_internalClusters_hpl_BED.txt'</li></ol>\n"
      ],
      "text/latex": [
       "\\begin{enumerate*}\n",
       "\\item 'Adrenal\\_internalClusters\\_hpl\\_BED.txt'\n",
       "\\item 'Bcell\\_internalClusters\\_hpl\\_BED.txt'\n",
       "\\item 'BT\\_internalClusters\\_hpl\\_BED.txt'\n",
       "\\item 'fHeart\\_internalClusters\\_hpl\\_BED.txt'\n",
       "\\item 'fSpinal\\_internalClusters\\_hpl\\_BED.txt'\n",
       "\\item 'H1ESC\\_internalClusters\\_hpl\\_BED.txt'\n",
       "\\item 'HSC\\_internalClusters\\_hpl\\_BED.txt'\n",
       "\\item 'Liver\\_internalClusters\\_hpl\\_BED.txt'\n",
       "\\item 'Macrophage\\_internalClusters\\_hpl\\_BED.txt'\n",
       "\\item 'MN\\_internalClusters\\_hpl\\_BED.txt'\n",
       "\\item 'MNBT\\_internalClusters\\_hpl\\_BED.txt'\n",
       "\\item 'Neutrophil\\_internalClusters\\_hpl\\_BED.txt'\n",
       "\\item 'Tcell\\_internalClusters\\_hpl\\_BED.txt'\n",
       "\\end{enumerate*}\n"
      ],
      "text/markdown": [
       "1. 'Adrenal_internalClusters_hpl_BED.txt'\n",
       "2. 'Bcell_internalClusters_hpl_BED.txt'\n",
       "3. 'BT_internalClusters_hpl_BED.txt'\n",
       "4. 'fHeart_internalClusters_hpl_BED.txt'\n",
       "5. 'fSpinal_internalClusters_hpl_BED.txt'\n",
       "6. 'H1ESC_internalClusters_hpl_BED.txt'\n",
       "7. 'HSC_internalClusters_hpl_BED.txt'\n",
       "8. 'Liver_internalClusters_hpl_BED.txt'\n",
       "9. 'Macrophage_internalClusters_hpl_BED.txt'\n",
       "10. 'MN_internalClusters_hpl_BED.txt'\n",
       "11. 'MNBT_internalClusters_hpl_BED.txt'\n",
       "12. 'Neutrophil_internalClusters_hpl_BED.txt'\n",
       "13. 'Tcell_internalClusters_hpl_BED.txt'\n",
       "\n",
       "\n"
      ],
      "text/plain": [
       " [1] \"Adrenal_internalClusters_hpl_BED.txt\"   \n",
       " [2] \"Bcell_internalClusters_hpl_BED.txt\"     \n",
       " [3] \"BT_internalClusters_hpl_BED.txt\"        \n",
       " [4] \"fHeart_internalClusters_hpl_BED.txt\"    \n",
       " [5] \"fSpinal_internalClusters_hpl_BED.txt\"   \n",
       " [6] \"H1ESC_internalClusters_hpl_BED.txt\"     \n",
       " [7] \"HSC_internalClusters_hpl_BED.txt\"       \n",
       " [8] \"Liver_internalClusters_hpl_BED.txt\"     \n",
       " [9] \"Macrophage_internalClusters_hpl_BED.txt\"\n",
       "[10] \"MN_internalClusters_hpl_BED.txt\"        \n",
       "[11] \"MNBT_internalClusters_hpl_BED.txt\"      \n",
       "[12] \"Neutrophil_internalClusters_hpl_BED.txt\"\n",
       "[13] \"Tcell_internalClusters_hpl_BED.txt\"     "
      ]
     },
     "metadata": {},
     "output_type": "display_data"
    }
   ],
   "source": [
    "list.files(pattern = \"*internalClusters_hpl_BED.txt\")"
   ]
  },
  {
   "cell_type": "code",
   "execution_count": null,
   "id": "cfbde4fb",
   "metadata": {},
   "outputs": [],
   "source": [
    "list_of_input <- "
   ]
  },
  {
   "cell_type": "code",
   "execution_count": null,
   "id": "459786e4",
   "metadata": {},
   "outputs": [],
   "source": []
  },
  {
   "cell_type": "code",
   "execution_count": 11,
   "id": "cde95795",
   "metadata": {
    "scrolled": true
   },
   "outputs": [
    {
     "name": "stderr",
     "output_type": "stream",
     "text": [
      "\u001b[1mRows: \u001b[22m\u001b[34m470\u001b[39m \u001b[1mColumns: \u001b[22m\u001b[34m3\u001b[39m\n",
      "\u001b[36m──\u001b[39m \u001b[1mColumn specification\u001b[22m \u001b[36m────────────────────────────────────────────────────────\u001b[39m\n",
      "\u001b[1mDelimiter:\u001b[22m \"\\t\"\n",
      "\u001b[31mchr\u001b[39m (1): chr\n",
      "\u001b[32mdbl\u001b[39m (2): start, end\n",
      "\n",
      "\u001b[36mℹ\u001b[39m Use `spec()` to retrieve the full column specification for this data.\n",
      "\u001b[36mℹ\u001b[39m Specify the column types or set `show_col_types = FALSE` to quiet this message.\n",
      "\u001b[1mRows: \u001b[22m\u001b[34m2120\u001b[39m \u001b[1mColumns: \u001b[22m\u001b[34m3\u001b[39m\n",
      "\u001b[36m──\u001b[39m \u001b[1mColumn specification\u001b[22m \u001b[36m────────────────────────────────────────────────────────\u001b[39m\n",
      "\u001b[1mDelimiter:\u001b[22m \"\\t\"\n",
      "\u001b[31mchr\u001b[39m (1): chr\n",
      "\u001b[32mdbl\u001b[39m (2): start, end\n",
      "\n",
      "\u001b[36mℹ\u001b[39m Use `spec()` to retrieve the full column specification for this data.\n",
      "\u001b[36mℹ\u001b[39m Specify the column types or set `show_col_types = FALSE` to quiet this message.\n",
      "\u001b[1mRows: \u001b[22m\u001b[34m2021\u001b[39m \u001b[1mColumns: \u001b[22m\u001b[34m3\u001b[39m\n",
      "\u001b[36m──\u001b[39m \u001b[1mColumn specification\u001b[22m \u001b[36m────────────────────────────────────────────────────────\u001b[39m\n",
      "\u001b[1mDelimiter:\u001b[22m \"\\t\"\n",
      "\u001b[31mchr\u001b[39m (1): chr\n",
      "\u001b[32mdbl\u001b[39m (2): start, end\n",
      "\n",
      "\u001b[36mℹ\u001b[39m Use `spec()` to retrieve the full column specification for this data.\n",
      "\u001b[36mℹ\u001b[39m Specify the column types or set `show_col_types = FALSE` to quiet this message.\n",
      "\u001b[1mRows: \u001b[22m\u001b[34m1514\u001b[39m \u001b[1mColumns: \u001b[22m\u001b[34m3\u001b[39m\n",
      "\u001b[36m──\u001b[39m \u001b[1mColumn specification\u001b[22m \u001b[36m────────────────────────────────────────────────────────\u001b[39m\n",
      "\u001b[1mDelimiter:\u001b[22m \"\\t\"\n",
      "\u001b[31mchr\u001b[39m (1): chr\n",
      "\u001b[32mdbl\u001b[39m (2): start, end\n",
      "\n",
      "\u001b[36mℹ\u001b[39m Use `spec()` to retrieve the full column specification for this data.\n",
      "\u001b[36mℹ\u001b[39m Specify the column types or set `show_col_types = FALSE` to quiet this message.\n",
      "\u001b[1mRows: \u001b[22m\u001b[34m1639\u001b[39m \u001b[1mColumns: \u001b[22m\u001b[34m3\u001b[39m\n",
      "\u001b[36m──\u001b[39m \u001b[1mColumn specification\u001b[22m \u001b[36m────────────────────────────────────────────────────────\u001b[39m\n",
      "\u001b[1mDelimiter:\u001b[22m \"\\t\"\n",
      "\u001b[31mchr\u001b[39m (1): chr\n",
      "\u001b[32mdbl\u001b[39m (2): start, end\n",
      "\n",
      "\u001b[36mℹ\u001b[39m Use `spec()` to retrieve the full column specification for this data.\n",
      "\u001b[36mℹ\u001b[39m Specify the column types or set `show_col_types = FALSE` to quiet this message.\n",
      "\u001b[1mRows: \u001b[22m\u001b[34m2175\u001b[39m \u001b[1mColumns: \u001b[22m\u001b[34m3\u001b[39m\n",
      "\u001b[36m──\u001b[39m \u001b[1mColumn specification\u001b[22m \u001b[36m────────────────────────────────────────────────────────\u001b[39m\n",
      "\u001b[1mDelimiter:\u001b[22m \"\\t\"\n",
      "\u001b[31mchr\u001b[39m (1): chr\n",
      "\u001b[32mdbl\u001b[39m (2): start, end\n",
      "\n",
      "\u001b[36mℹ\u001b[39m Use `spec()` to retrieve the full column specification for this data.\n",
      "\u001b[36mℹ\u001b[39m Specify the column types or set `show_col_types = FALSE` to quiet this message.\n",
      "\u001b[1mRows: \u001b[22m\u001b[34m3275\u001b[39m \u001b[1mColumns: \u001b[22m\u001b[34m3\u001b[39m\n",
      "\u001b[36m──\u001b[39m \u001b[1mColumn specification\u001b[22m \u001b[36m────────────────────────────────────────────────────────\u001b[39m\n",
      "\u001b[1mDelimiter:\u001b[22m \"\\t\"\n",
      "\u001b[31mchr\u001b[39m (1): chr\n",
      "\u001b[32mdbl\u001b[39m (2): start, end\n",
      "\n",
      "\u001b[36mℹ\u001b[39m Use `spec()` to retrieve the full column specification for this data.\n",
      "\u001b[36mℹ\u001b[39m Specify the column types or set `show_col_types = FALSE` to quiet this message.\n",
      "\u001b[1mRows: \u001b[22m\u001b[34m2723\u001b[39m \u001b[1mColumns: \u001b[22m\u001b[34m3\u001b[39m\n",
      "\u001b[36m──\u001b[39m \u001b[1mColumn specification\u001b[22m \u001b[36m────────────────────────────────────────────────────────\u001b[39m\n",
      "\u001b[1mDelimiter:\u001b[22m \"\\t\"\n",
      "\u001b[31mchr\u001b[39m (1): chr\n",
      "\u001b[32mdbl\u001b[39m (2): start, end\n",
      "\n",
      "\u001b[36mℹ\u001b[39m Use `spec()` to retrieve the full column specification for this data.\n",
      "\u001b[36mℹ\u001b[39m Specify the column types or set `show_col_types = FALSE` to quiet this message.\n",
      "\u001b[1mRows: \u001b[22m\u001b[34m1150\u001b[39m \u001b[1mColumns: \u001b[22m\u001b[34m3\u001b[39m\n",
      "\u001b[36m──\u001b[39m \u001b[1mColumn specification\u001b[22m \u001b[36m────────────────────────────────────────────────────────\u001b[39m\n",
      "\u001b[1mDelimiter:\u001b[22m \"\\t\"\n",
      "\u001b[31mchr\u001b[39m (1): chr\n",
      "\u001b[32mdbl\u001b[39m (2): start, end\n",
      "\n",
      "\u001b[36mℹ\u001b[39m Use `spec()` to retrieve the full column specification for this data.\n",
      "\u001b[36mℹ\u001b[39m Specify the column types or set `show_col_types = FALSE` to quiet this message.\n",
      "\u001b[1mRows: \u001b[22m\u001b[34m1579\u001b[39m \u001b[1mColumns: \u001b[22m\u001b[34m3\u001b[39m\n",
      "\u001b[36m──\u001b[39m \u001b[1mColumn specification\u001b[22m \u001b[36m────────────────────────────────────────────────────────\u001b[39m\n",
      "\u001b[1mDelimiter:\u001b[22m \"\\t\"\n",
      "\u001b[31mchr\u001b[39m (1): chr\n",
      "\u001b[32mdbl\u001b[39m (2): start, end\n",
      "\n",
      "\u001b[36mℹ\u001b[39m Use `spec()` to retrieve the full column specification for this data.\n",
      "\u001b[36mℹ\u001b[39m Specify the column types or set `show_col_types = FALSE` to quiet this message.\n"
     ]
    }
   ],
   "source": [
    "bed_heads <- c(\"chr\",\"start\", \"end\")\n",
    "\n",
    "H1ESC_clusters <- read_tsv(\"H1ESC_internalClusters_hpl_BED.txt\", col_names = bed_heads) %>% mutate(Length = (end - start), Celltype = \"H1ESC\")\n",
    "\n",
    "fSpinal_clusters <- read_tsv(\"fSpinal_internalClusters_hpl_BED.txt\", col_names = bed_heads) %>% mutate(Length = (end - start), Celltype = \"fSpinal\")\n",
    "\n",
    "fHeart_clusters <- read_tsv(\"fHeart_internalClusters_hpl_BED.txt\", col_names = bed_heads) %>% mutate(Length = (end - start), Celltype = \"fHeart\")\n",
    "\n",
    "Adrenal_clusters <- read_tsv(\"Adrenal_internalClusters_hpl_BED.txt\", col_names = bed_heads) %>% mutate(Length = (end - start), Celltype = \"Adrenal\")\n",
    "\n",
    "Liver_clusters <- read_tsv(\"Liver_internalClusters_hpl_BED.txt\", col_names = bed_heads) %>% mutate(Length = (end - start), Celltype = \"Liver\")\n",
    "\n",
    "HSPC_clusters <- read_tsv(\"HSC_internalClusters_hpl_BED.txt\", col_names = bed_heads) %>% mutate(Length = (end - start), Celltype = \"HSPC\")\n",
    "\n",
    "Macrophage_clusters <- read_tsv(\"Macrophage_internalClusters_hpl_BED.txt\", col_names = bed_heads) %>% mutate(Length = (end - start), Celltype = \"Macrophage\")\n",
    "\n",
    "Neutrophil_clusters <- read_tsv(\"Neutrophil_internalClusters_hpl_BED.txt\", col_names = bed_heads) %>% mutate(Length = (end - start), Celltype = \"Neutrophil\")\n",
    "\n",
    "Tcell_clusters <- read_tsv(\"Tcell_internalClusters_hpl_BED.txt\", col_names = bed_heads) %>% mutate(Length = (end - start), Celltype = \"Tcell\")\n",
    "\n",
    "Bcell_clusters <- read_tsv(\"Bcell_internalClusters_hpl_BED.txt\", col_names = bed_heads) %>% mutate(Length = (end - start), Celltype = \"Bcell\")\n",
    "\n"
   ]
  },
  {
   "cell_type": "code",
   "execution_count": 12,
   "id": "22b902a9",
   "metadata": {
    "scrolled": true
   },
   "outputs": [
    {
     "data": {
      "text/html": [
       "<table class=\"dataframe\">\n",
       "<caption>A tibble: 2021 × 5</caption>\n",
       "<thead>\n",
       "\t<tr><th scope=col>chr</th><th scope=col>start</th><th scope=col>end</th><th scope=col>Length</th><th scope=col>Celltype</th></tr>\n",
       "\t<tr><th scope=col>&lt;chr&gt;</th><th scope=col>&lt;dbl&gt;</th><th scope=col>&lt;dbl&gt;</th><th scope=col>&lt;dbl&gt;</th><th scope=col>&lt;chr&gt;</th></tr>\n",
       "</thead>\n",
       "<tbody>\n",
       "\t<tr><td>chr1</td><td> 801044</td><td> 808630</td><td> 7586</td><td>fHeart</td></tr>\n",
       "\t<tr><td>chr1</td><td> 839737</td><td> 856881</td><td>17144</td><td>fHeart</td></tr>\n",
       "\t<tr><td>chr1</td><td> 993461</td><td>1005433</td><td>11972</td><td>fHeart</td></tr>\n",
       "\t<tr><td>chr1</td><td>1012726</td><td>1016433</td><td> 3707</td><td>fHeart</td></tr>\n",
       "\t<tr><td>chr1</td><td>1072028</td><td>1080069</td><td> 8041</td><td>fHeart</td></tr>\n",
       "\t<tr><td>chr1</td><td>1092645</td><td>1106068</td><td>13423</td><td>fHeart</td></tr>\n",
       "\t<tr><td>chr1</td><td>1173336</td><td>1176508</td><td> 3172</td><td>fHeart</td></tr>\n",
       "\t<tr><td>chr1</td><td>1440368</td><td>1444451</td><td> 4083</td><td>fHeart</td></tr>\n",
       "\t<tr><td>chr1</td><td>1976097</td><td>1979262</td><td> 3165</td><td>fHeart</td></tr>\n",
       "\t<tr><td>chr1</td><td>2055008</td><td>2065242</td><td>10234</td><td>fHeart</td></tr>\n",
       "\t<tr><td>chr1</td><td>2164204</td><td>2183503</td><td>19299</td><td>fHeart</td></tr>\n",
       "\t<tr><td>chr1</td><td>2201773</td><td>2211348</td><td> 9575</td><td>fHeart</td></tr>\n",
       "\t<tr><td>chr1</td><td>2242916</td><td>2247075</td><td> 4159</td><td>fHeart</td></tr>\n",
       "\t<tr><td>chr1</td><td>2374380</td><td>2383946</td><td> 9566</td><td>fHeart</td></tr>\n",
       "\t<tr><td>chr1</td><td>2391240</td><td>2395097</td><td> 3857</td><td>fHeart</td></tr>\n",
       "\t<tr><td>chr1</td><td>2464153</td><td>2485158</td><td>21005</td><td>fHeart</td></tr>\n",
       "\t<tr><td>chr1</td><td>2595302</td><td>2632891</td><td>37589</td><td>fHeart</td></tr>\n",
       "\t<tr><td>chr1</td><td>2687151</td><td>2695304</td><td> 8153</td><td>fHeart</td></tr>\n",
       "\t<tr><td>chr1</td><td>2991480</td><td>3001055</td><td> 9575</td><td>fHeart</td></tr>\n",
       "\t<tr><td>chr1</td><td>3017438</td><td>3028534</td><td>11096</td><td>fHeart</td></tr>\n",
       "\t<tr><td>chr1</td><td>3036211</td><td>3044232</td><td> 8021</td><td>fHeart</td></tr>\n",
       "\t<tr><td>chr1</td><td>3051879</td><td>3062476</td><td>10597</td><td>fHeart</td></tr>\n",
       "\t<tr><td>chr1</td><td>3070599</td><td>3079344</td><td> 8745</td><td>fHeart</td></tr>\n",
       "\t<tr><td>chr1</td><td>3086360</td><td>3091718</td><td> 5358</td><td>fHeart</td></tr>\n",
       "\t<tr><td>chr1</td><td>3227631</td><td>3246855</td><td>19224</td><td>fHeart</td></tr>\n",
       "\t<tr><td>chr1</td><td>3262323</td><td>3269774</td><td> 7451</td><td>fHeart</td></tr>\n",
       "\t<tr><td>chr1</td><td>3276534</td><td>3282944</td><td> 6410</td><td>fHeart</td></tr>\n",
       "\t<tr><td>chr1</td><td>3456589</td><td>3465059</td><td> 8470</td><td>fHeart</td></tr>\n",
       "\t<tr><td>chr1</td><td>3530099</td><td>3538023</td><td> 7924</td><td>fHeart</td></tr>\n",
       "\t<tr><td>chr1</td><td>3585301</td><td>3595150</td><td> 9849</td><td>fHeart</td></tr>\n",
       "\t<tr><td>⋮</td><td>⋮</td><td>⋮</td><td>⋮</td><td>⋮</td></tr>\n",
       "\t<tr><td>chrY</td><td>10033489</td><td>10043077</td><td> 9588</td><td>fHeart</td></tr>\n",
       "\t<tr><td>chrY</td><td>10049480</td><td>10083754</td><td>34274</td><td>fHeart</td></tr>\n",
       "\t<tr><td>chrY</td><td>13126964</td><td>13143672</td><td>16708</td><td>fHeart</td></tr>\n",
       "\t<tr><td>chrY</td><td>13194170</td><td>13200777</td><td> 6607</td><td>fHeart</td></tr>\n",
       "\t<tr><td>chrY</td><td>13258137</td><td>13279768</td><td>21631</td><td>fHeart</td></tr>\n",
       "\t<tr><td>chrY</td><td>13288287</td><td>13299302</td><td>11015</td><td>fHeart</td></tr>\n",
       "\t<tr><td>chrY</td><td>13369501</td><td>13384722</td><td>15221</td><td>fHeart</td></tr>\n",
       "\t<tr><td>chrY</td><td>13398764</td><td>13451759</td><td>52995</td><td>fHeart</td></tr>\n",
       "\t<tr><td>chrY</td><td>13481640</td><td>13489061</td><td> 7421</td><td>fHeart</td></tr>\n",
       "\t<tr><td>chrY</td><td>13507925</td><td>13552310</td><td>44385</td><td>fHeart</td></tr>\n",
       "\t<tr><td>chrY</td><td>13559934</td><td>13575952</td><td>16018</td><td>fHeart</td></tr>\n",
       "\t<tr><td>chrY</td><td>13614766</td><td>13641174</td><td>26408</td><td>fHeart</td></tr>\n",
       "\t<tr><td>chrY</td><td>13889339</td><td>13903914</td><td>14575</td><td>fHeart</td></tr>\n",
       "\t<tr><td>chrY</td><td>13936999</td><td>13955161</td><td>18162</td><td>fHeart</td></tr>\n",
       "\t<tr><td>chrY</td><td>13969159</td><td>14037546</td><td>68387</td><td>fHeart</td></tr>\n",
       "\t<tr><td>chrY</td><td>14064467</td><td>14082333</td><td>17866</td><td>fHeart</td></tr>\n",
       "\t<tr><td>chrY</td><td>14129555</td><td>14146089</td><td>16534</td><td>fHeart</td></tr>\n",
       "\t<tr><td>chrY</td><td>14156790</td><td>14190751</td><td>33961</td><td>fHeart</td></tr>\n",
       "\t<tr><td>chrY</td><td>14199922</td><td>14210348</td><td>10426</td><td>fHeart</td></tr>\n",
       "\t<tr><td>chrY</td><td>14256817</td><td>14265655</td><td> 8838</td><td>fHeart</td></tr>\n",
       "\t<tr><td>chrY</td><td>14309201</td><td>14336811</td><td>27610</td><td>fHeart</td></tr>\n",
       "\t<tr><td>chrY</td><td>14532357</td><td>14543694</td><td>11337</td><td>fHeart</td></tr>\n",
       "\t<tr><td>chrY</td><td>14772720</td><td>14776041</td><td> 3321</td><td>fHeart</td></tr>\n",
       "\t<tr><td>chrY</td><td>22474401</td><td>22512677</td><td>38276</td><td>fHeart</td></tr>\n",
       "\t<tr><td>chrY</td><td>23734669</td><td>23742688</td><td> 8019</td><td>fHeart</td></tr>\n",
       "\t<tr><td>chrY</td><td>23773086</td><td>23786109</td><td>13023</td><td>fHeart</td></tr>\n",
       "\t<tr><td>chrY</td><td>23860137</td><td>23877430</td><td>17293</td><td>fHeart</td></tr>\n",
       "\t<tr><td>chrY</td><td>23971615</td><td>23988456</td><td>16841</td><td>fHeart</td></tr>\n",
       "\t<tr><td>chrY</td><td>28759176</td><td>28786115</td><td>26939</td><td>fHeart</td></tr>\n",
       "\t<tr><td>chrY</td><td>58968459</td><td>58982549</td><td>14090</td><td>fHeart</td></tr>\n",
       "</tbody>\n",
       "</table>\n"
      ],
      "text/latex": [
       "A tibble: 2021 × 5\n",
       "\\begin{tabular}{lllll}\n",
       " chr & start & end & Length & Celltype\\\\\n",
       " <chr> & <dbl> & <dbl> & <dbl> & <chr>\\\\\n",
       "\\hline\n",
       "\t chr1 &  801044 &  808630 &  7586 & fHeart\\\\\n",
       "\t chr1 &  839737 &  856881 & 17144 & fHeart\\\\\n",
       "\t chr1 &  993461 & 1005433 & 11972 & fHeart\\\\\n",
       "\t chr1 & 1012726 & 1016433 &  3707 & fHeart\\\\\n",
       "\t chr1 & 1072028 & 1080069 &  8041 & fHeart\\\\\n",
       "\t chr1 & 1092645 & 1106068 & 13423 & fHeart\\\\\n",
       "\t chr1 & 1173336 & 1176508 &  3172 & fHeart\\\\\n",
       "\t chr1 & 1440368 & 1444451 &  4083 & fHeart\\\\\n",
       "\t chr1 & 1976097 & 1979262 &  3165 & fHeart\\\\\n",
       "\t chr1 & 2055008 & 2065242 & 10234 & fHeart\\\\\n",
       "\t chr1 & 2164204 & 2183503 & 19299 & fHeart\\\\\n",
       "\t chr1 & 2201773 & 2211348 &  9575 & fHeart\\\\\n",
       "\t chr1 & 2242916 & 2247075 &  4159 & fHeart\\\\\n",
       "\t chr1 & 2374380 & 2383946 &  9566 & fHeart\\\\\n",
       "\t chr1 & 2391240 & 2395097 &  3857 & fHeart\\\\\n",
       "\t chr1 & 2464153 & 2485158 & 21005 & fHeart\\\\\n",
       "\t chr1 & 2595302 & 2632891 & 37589 & fHeart\\\\\n",
       "\t chr1 & 2687151 & 2695304 &  8153 & fHeart\\\\\n",
       "\t chr1 & 2991480 & 3001055 &  9575 & fHeart\\\\\n",
       "\t chr1 & 3017438 & 3028534 & 11096 & fHeart\\\\\n",
       "\t chr1 & 3036211 & 3044232 &  8021 & fHeart\\\\\n",
       "\t chr1 & 3051879 & 3062476 & 10597 & fHeart\\\\\n",
       "\t chr1 & 3070599 & 3079344 &  8745 & fHeart\\\\\n",
       "\t chr1 & 3086360 & 3091718 &  5358 & fHeart\\\\\n",
       "\t chr1 & 3227631 & 3246855 & 19224 & fHeart\\\\\n",
       "\t chr1 & 3262323 & 3269774 &  7451 & fHeart\\\\\n",
       "\t chr1 & 3276534 & 3282944 &  6410 & fHeart\\\\\n",
       "\t chr1 & 3456589 & 3465059 &  8470 & fHeart\\\\\n",
       "\t chr1 & 3530099 & 3538023 &  7924 & fHeart\\\\\n",
       "\t chr1 & 3585301 & 3595150 &  9849 & fHeart\\\\\n",
       "\t ⋮ & ⋮ & ⋮ & ⋮ & ⋮\\\\\n",
       "\t chrY & 10033489 & 10043077 &  9588 & fHeart\\\\\n",
       "\t chrY & 10049480 & 10083754 & 34274 & fHeart\\\\\n",
       "\t chrY & 13126964 & 13143672 & 16708 & fHeart\\\\\n",
       "\t chrY & 13194170 & 13200777 &  6607 & fHeart\\\\\n",
       "\t chrY & 13258137 & 13279768 & 21631 & fHeart\\\\\n",
       "\t chrY & 13288287 & 13299302 & 11015 & fHeart\\\\\n",
       "\t chrY & 13369501 & 13384722 & 15221 & fHeart\\\\\n",
       "\t chrY & 13398764 & 13451759 & 52995 & fHeart\\\\\n",
       "\t chrY & 13481640 & 13489061 &  7421 & fHeart\\\\\n",
       "\t chrY & 13507925 & 13552310 & 44385 & fHeart\\\\\n",
       "\t chrY & 13559934 & 13575952 & 16018 & fHeart\\\\\n",
       "\t chrY & 13614766 & 13641174 & 26408 & fHeart\\\\\n",
       "\t chrY & 13889339 & 13903914 & 14575 & fHeart\\\\\n",
       "\t chrY & 13936999 & 13955161 & 18162 & fHeart\\\\\n",
       "\t chrY & 13969159 & 14037546 & 68387 & fHeart\\\\\n",
       "\t chrY & 14064467 & 14082333 & 17866 & fHeart\\\\\n",
       "\t chrY & 14129555 & 14146089 & 16534 & fHeart\\\\\n",
       "\t chrY & 14156790 & 14190751 & 33961 & fHeart\\\\\n",
       "\t chrY & 14199922 & 14210348 & 10426 & fHeart\\\\\n",
       "\t chrY & 14256817 & 14265655 &  8838 & fHeart\\\\\n",
       "\t chrY & 14309201 & 14336811 & 27610 & fHeart\\\\\n",
       "\t chrY & 14532357 & 14543694 & 11337 & fHeart\\\\\n",
       "\t chrY & 14772720 & 14776041 &  3321 & fHeart\\\\\n",
       "\t chrY & 22474401 & 22512677 & 38276 & fHeart\\\\\n",
       "\t chrY & 23734669 & 23742688 &  8019 & fHeart\\\\\n",
       "\t chrY & 23773086 & 23786109 & 13023 & fHeart\\\\\n",
       "\t chrY & 23860137 & 23877430 & 17293 & fHeart\\\\\n",
       "\t chrY & 23971615 & 23988456 & 16841 & fHeart\\\\\n",
       "\t chrY & 28759176 & 28786115 & 26939 & fHeart\\\\\n",
       "\t chrY & 58968459 & 58982549 & 14090 & fHeart\\\\\n",
       "\\end{tabular}\n"
      ],
      "text/markdown": [
       "\n",
       "A tibble: 2021 × 5\n",
       "\n",
       "| chr &lt;chr&gt; | start &lt;dbl&gt; | end &lt;dbl&gt; | Length &lt;dbl&gt; | Celltype &lt;chr&gt; |\n",
       "|---|---|---|---|---|\n",
       "| chr1 |  801044 |  808630 |  7586 | fHeart |\n",
       "| chr1 |  839737 |  856881 | 17144 | fHeart |\n",
       "| chr1 |  993461 | 1005433 | 11972 | fHeart |\n",
       "| chr1 | 1012726 | 1016433 |  3707 | fHeart |\n",
       "| chr1 | 1072028 | 1080069 |  8041 | fHeart |\n",
       "| chr1 | 1092645 | 1106068 | 13423 | fHeart |\n",
       "| chr1 | 1173336 | 1176508 |  3172 | fHeart |\n",
       "| chr1 | 1440368 | 1444451 |  4083 | fHeart |\n",
       "| chr1 | 1976097 | 1979262 |  3165 | fHeart |\n",
       "| chr1 | 2055008 | 2065242 | 10234 | fHeart |\n",
       "| chr1 | 2164204 | 2183503 | 19299 | fHeart |\n",
       "| chr1 | 2201773 | 2211348 |  9575 | fHeart |\n",
       "| chr1 | 2242916 | 2247075 |  4159 | fHeart |\n",
       "| chr1 | 2374380 | 2383946 |  9566 | fHeart |\n",
       "| chr1 | 2391240 | 2395097 |  3857 | fHeart |\n",
       "| chr1 | 2464153 | 2485158 | 21005 | fHeart |\n",
       "| chr1 | 2595302 | 2632891 | 37589 | fHeart |\n",
       "| chr1 | 2687151 | 2695304 |  8153 | fHeart |\n",
       "| chr1 | 2991480 | 3001055 |  9575 | fHeart |\n",
       "| chr1 | 3017438 | 3028534 | 11096 | fHeart |\n",
       "| chr1 | 3036211 | 3044232 |  8021 | fHeart |\n",
       "| chr1 | 3051879 | 3062476 | 10597 | fHeart |\n",
       "| chr1 | 3070599 | 3079344 |  8745 | fHeart |\n",
       "| chr1 | 3086360 | 3091718 |  5358 | fHeart |\n",
       "| chr1 | 3227631 | 3246855 | 19224 | fHeart |\n",
       "| chr1 | 3262323 | 3269774 |  7451 | fHeart |\n",
       "| chr1 | 3276534 | 3282944 |  6410 | fHeart |\n",
       "| chr1 | 3456589 | 3465059 |  8470 | fHeart |\n",
       "| chr1 | 3530099 | 3538023 |  7924 | fHeart |\n",
       "| chr1 | 3585301 | 3595150 |  9849 | fHeart |\n",
       "| ⋮ | ⋮ | ⋮ | ⋮ | ⋮ |\n",
       "| chrY | 10033489 | 10043077 |  9588 | fHeart |\n",
       "| chrY | 10049480 | 10083754 | 34274 | fHeart |\n",
       "| chrY | 13126964 | 13143672 | 16708 | fHeart |\n",
       "| chrY | 13194170 | 13200777 |  6607 | fHeart |\n",
       "| chrY | 13258137 | 13279768 | 21631 | fHeart |\n",
       "| chrY | 13288287 | 13299302 | 11015 | fHeart |\n",
       "| chrY | 13369501 | 13384722 | 15221 | fHeart |\n",
       "| chrY | 13398764 | 13451759 | 52995 | fHeart |\n",
       "| chrY | 13481640 | 13489061 |  7421 | fHeart |\n",
       "| chrY | 13507925 | 13552310 | 44385 | fHeart |\n",
       "| chrY | 13559934 | 13575952 | 16018 | fHeart |\n",
       "| chrY | 13614766 | 13641174 | 26408 | fHeart |\n",
       "| chrY | 13889339 | 13903914 | 14575 | fHeart |\n",
       "| chrY | 13936999 | 13955161 | 18162 | fHeart |\n",
       "| chrY | 13969159 | 14037546 | 68387 | fHeart |\n",
       "| chrY | 14064467 | 14082333 | 17866 | fHeart |\n",
       "| chrY | 14129555 | 14146089 | 16534 | fHeart |\n",
       "| chrY | 14156790 | 14190751 | 33961 | fHeart |\n",
       "| chrY | 14199922 | 14210348 | 10426 | fHeart |\n",
       "| chrY | 14256817 | 14265655 |  8838 | fHeart |\n",
       "| chrY | 14309201 | 14336811 | 27610 | fHeart |\n",
       "| chrY | 14532357 | 14543694 | 11337 | fHeart |\n",
       "| chrY | 14772720 | 14776041 |  3321 | fHeart |\n",
       "| chrY | 22474401 | 22512677 | 38276 | fHeart |\n",
       "| chrY | 23734669 | 23742688 |  8019 | fHeart |\n",
       "| chrY | 23773086 | 23786109 | 13023 | fHeart |\n",
       "| chrY | 23860137 | 23877430 | 17293 | fHeart |\n",
       "| chrY | 23971615 | 23988456 | 16841 | fHeart |\n",
       "| chrY | 28759176 | 28786115 | 26939 | fHeart |\n",
       "| chrY | 58968459 | 58982549 | 14090 | fHeart |\n",
       "\n"
      ],
      "text/plain": [
       "     chr  start    end      Length Celltype\n",
       "1    chr1  801044   808630   7586  fHeart  \n",
       "2    chr1  839737   856881  17144  fHeart  \n",
       "3    chr1  993461  1005433  11972  fHeart  \n",
       "4    chr1 1012726  1016433   3707  fHeart  \n",
       "5    chr1 1072028  1080069   8041  fHeart  \n",
       "6    chr1 1092645  1106068  13423  fHeart  \n",
       "7    chr1 1173336  1176508   3172  fHeart  \n",
       "8    chr1 1440368  1444451   4083  fHeart  \n",
       "9    chr1 1976097  1979262   3165  fHeart  \n",
       "10   chr1 2055008  2065242  10234  fHeart  \n",
       "11   chr1 2164204  2183503  19299  fHeart  \n",
       "12   chr1 2201773  2211348   9575  fHeart  \n",
       "13   chr1 2242916  2247075   4159  fHeart  \n",
       "14   chr1 2374380  2383946   9566  fHeart  \n",
       "15   chr1 2391240  2395097   3857  fHeart  \n",
       "16   chr1 2464153  2485158  21005  fHeart  \n",
       "17   chr1 2595302  2632891  37589  fHeart  \n",
       "18   chr1 2687151  2695304   8153  fHeart  \n",
       "19   chr1 2991480  3001055   9575  fHeart  \n",
       "20   chr1 3017438  3028534  11096  fHeart  \n",
       "21   chr1 3036211  3044232   8021  fHeart  \n",
       "22   chr1 3051879  3062476  10597  fHeart  \n",
       "23   chr1 3070599  3079344   8745  fHeart  \n",
       "24   chr1 3086360  3091718   5358  fHeart  \n",
       "25   chr1 3227631  3246855  19224  fHeart  \n",
       "26   chr1 3262323  3269774   7451  fHeart  \n",
       "27   chr1 3276534  3282944   6410  fHeart  \n",
       "28   chr1 3456589  3465059   8470  fHeart  \n",
       "29   chr1 3530099  3538023   7924  fHeart  \n",
       "30   chr1 3585301  3595150   9849  fHeart  \n",
       "⋮    ⋮    ⋮        ⋮        ⋮      ⋮       \n",
       "1992 chrY 10033489 10043077  9588  fHeart  \n",
       "1993 chrY 10049480 10083754 34274  fHeart  \n",
       "1994 chrY 13126964 13143672 16708  fHeart  \n",
       "1995 chrY 13194170 13200777  6607  fHeart  \n",
       "1996 chrY 13258137 13279768 21631  fHeart  \n",
       "1997 chrY 13288287 13299302 11015  fHeart  \n",
       "1998 chrY 13369501 13384722 15221  fHeart  \n",
       "1999 chrY 13398764 13451759 52995  fHeart  \n",
       "2000 chrY 13481640 13489061  7421  fHeart  \n",
       "2001 chrY 13507925 13552310 44385  fHeart  \n",
       "2002 chrY 13559934 13575952 16018  fHeart  \n",
       "2003 chrY 13614766 13641174 26408  fHeart  \n",
       "2004 chrY 13889339 13903914 14575  fHeart  \n",
       "2005 chrY 13936999 13955161 18162  fHeart  \n",
       "2006 chrY 13969159 14037546 68387  fHeart  \n",
       "2007 chrY 14064467 14082333 17866  fHeart  \n",
       "2008 chrY 14129555 14146089 16534  fHeart  \n",
       "2009 chrY 14156790 14190751 33961  fHeart  \n",
       "2010 chrY 14199922 14210348 10426  fHeart  \n",
       "2011 chrY 14256817 14265655  8838  fHeart  \n",
       "2012 chrY 14309201 14336811 27610  fHeart  \n",
       "2013 chrY 14532357 14543694 11337  fHeart  \n",
       "2014 chrY 14772720 14776041  3321  fHeart  \n",
       "2015 chrY 22474401 22512677 38276  fHeart  \n",
       "2016 chrY 23734669 23742688  8019  fHeart  \n",
       "2017 chrY 23773086 23786109 13023  fHeart  \n",
       "2018 chrY 23860137 23877430 17293  fHeart  \n",
       "2019 chrY 23971615 23988456 16841  fHeart  \n",
       "2020 chrY 28759176 28786115 26939  fHeart  \n",
       "2021 chrY 58968459 58982549 14090  fHeart  "
      ]
     },
     "metadata": {},
     "output_type": "display_data"
    }
   ],
   "source": [
    "fHeart_clusters"
   ]
  },
  {
   "cell_type": "code",
   "execution_count": 12,
   "id": "3e510ff7",
   "metadata": {
    "scrolled": true
   },
   "outputs": [
    {
     "data": {
      "text/html": [
       "<table class=\"dataframe\">\n",
       "<caption>A tibble: 1150 × 5</caption>\n",
       "<thead>\n",
       "\t<tr><th scope=col>chr</th><th scope=col>start</th><th scope=col>end</th><th scope=col>Length</th><th scope=col>Celltype</th></tr>\n",
       "\t<tr><th scope=col>&lt;chr&gt;</th><th scope=col>&lt;dbl&gt;</th><th scope=col>&lt;dbl&gt;</th><th scope=col>&lt;dbl&gt;</th><th scope=col>&lt;chr&gt;</th></tr>\n",
       "</thead>\n",
       "<tbody>\n",
       "\t<tr><td>chr1</td><td>  832618</td><td>  848444</td><td>15826</td><td>Tcell</td></tr>\n",
       "\t<tr><td>chr1</td><td>  867144</td><td>  871136</td><td> 3992</td><td>Tcell</td></tr>\n",
       "\t<tr><td>chr1</td><td>  993809</td><td> 1005100</td><td>11291</td><td>Tcell</td></tr>\n",
       "\t<tr><td>chr1</td><td> 1012015</td><td> 1016295</td><td> 4280</td><td>Tcell</td></tr>\n",
       "\t<tr><td>chr1</td><td> 1072023</td><td> 1080084</td><td> 8061</td><td>Tcell</td></tr>\n",
       "\t<tr><td>chr1</td><td> 2053317</td><td> 2065178</td><td>11861</td><td>Tcell</td></tr>\n",
       "\t<tr><td>chr1</td><td> 2165628</td><td> 2172304</td><td> 6676</td><td>Tcell</td></tr>\n",
       "\t<tr><td>chr1</td><td> 2183435</td><td> 2190860</td><td> 7425</td><td>Tcell</td></tr>\n",
       "\t<tr><td>chr1</td><td> 2243014</td><td> 2250614</td><td> 7600</td><td>Tcell</td></tr>\n",
       "\t<tr><td>chr1</td><td> 2472022</td><td> 2481004</td><td> 8982</td><td>Tcell</td></tr>\n",
       "\t<tr><td>chr1</td><td> 2583319</td><td> 2632561</td><td>49242</td><td>Tcell</td></tr>\n",
       "\t<tr><td>chr1</td><td> 2684904</td><td> 2690116</td><td> 5212</td><td>Tcell</td></tr>\n",
       "\t<tr><td>chr1</td><td> 3071940</td><td> 3078076</td><td> 6136</td><td>Tcell</td></tr>\n",
       "\t<tr><td>chr1</td><td> 3085309</td><td> 3091718</td><td> 6409</td><td>Tcell</td></tr>\n",
       "\t<tr><td>chr1</td><td> 3134446</td><td> 3142858</td><td> 8412</td><td>Tcell</td></tr>\n",
       "\t<tr><td>chr1</td><td> 3237207</td><td> 3240234</td><td> 3027</td><td>Tcell</td></tr>\n",
       "\t<tr><td>chr1</td><td> 3818858</td><td> 3827880</td><td> 9022</td><td>Tcell</td></tr>\n",
       "\t<tr><td>chr1</td><td> 5890867</td><td> 5897488</td><td> 6621</td><td>Tcell</td></tr>\n",
       "\t<tr><td>chr1</td><td> 7609352</td><td> 7616234</td><td> 6882</td><td>Tcell</td></tr>\n",
       "\t<tr><td>chr1</td><td> 9251302</td><td> 9263933</td><td>12631</td><td>Tcell</td></tr>\n",
       "\t<tr><td>chr1</td><td>10999892</td><td>11004700</td><td> 4808</td><td>Tcell</td></tr>\n",
       "\t<tr><td>chr1</td><td>11410286</td><td>11415869</td><td> 5583</td><td>Tcell</td></tr>\n",
       "\t<tr><td>chr1</td><td>11954147</td><td>11959224</td><td> 5077</td><td>Tcell</td></tr>\n",
       "\t<tr><td>chr1</td><td>12210743</td><td>12222408</td><td>11665</td><td>Tcell</td></tr>\n",
       "\t<tr><td>chr1</td><td>12233495</td><td>12239529</td><td> 6034</td><td>Tcell</td></tr>\n",
       "\t<tr><td>chr1</td><td>12494183</td><td>12498887</td><td> 4704</td><td>Tcell</td></tr>\n",
       "\t<tr><td>chr1</td><td>15738615</td><td>15744453</td><td> 5838</td><td>Tcell</td></tr>\n",
       "\t<tr><td>chr1</td><td>16553452</td><td>16554780</td><td> 1328</td><td>Tcell</td></tr>\n",
       "\t<tr><td>chr1</td><td>17018683</td><td>17034774</td><td>16091</td><td>Tcell</td></tr>\n",
       "\t<tr><td>chr1</td><td>18919529</td><td>18926365</td><td> 6836</td><td>Tcell</td></tr>\n",
       "\t<tr><td>⋮</td><td>⋮</td><td>⋮</td><td>⋮</td><td>⋮</td></tr>\n",
       "\t<tr><td>chrX</td><td> 39942289</td><td> 39950079</td><td> 7790</td><td>Tcell</td></tr>\n",
       "\t<tr><td>chrX</td><td> 40005007</td><td> 40018000</td><td>12993</td><td>Tcell</td></tr>\n",
       "\t<tr><td>chrX</td><td> 40026864</td><td> 40032276</td><td> 5412</td><td>Tcell</td></tr>\n",
       "\t<tr><td>chrX</td><td> 40398487</td><td> 40403660</td><td> 5173</td><td>Tcell</td></tr>\n",
       "\t<tr><td>chrX</td><td> 40974421</td><td> 40979402</td><td> 4981</td><td>Tcell</td></tr>\n",
       "\t<tr><td>chrX</td><td> 42802217</td><td> 42808432</td><td> 6215</td><td>Tcell</td></tr>\n",
       "\t<tr><td>chrX</td><td> 45612877</td><td> 45631299</td><td>18422</td><td>Tcell</td></tr>\n",
       "\t<tr><td>chrX</td><td> 47217944</td><td> 47226102</td><td> 8158</td><td>Tcell</td></tr>\n",
       "\t<tr><td>chrX</td><td> 47879908</td><td> 47886441</td><td> 6533</td><td>Tcell</td></tr>\n",
       "\t<tr><td>chrX</td><td> 48794376</td><td> 48799343</td><td> 4967</td><td>Tcell</td></tr>\n",
       "\t<tr><td>chrX</td><td> 56788815</td><td> 56792333</td><td> 3518</td><td>Tcell</td></tr>\n",
       "\t<tr><td>chrX</td><td> 78394354</td><td> 78423691</td><td>29337</td><td>Tcell</td></tr>\n",
       "\t<tr><td>chrX</td><td>106916152</td><td>106920454</td><td> 4302</td><td>Tcell</td></tr>\n",
       "\t<tr><td>chrX</td><td>118811315</td><td>118823690</td><td>12375</td><td>Tcell</td></tr>\n",
       "\t<tr><td>chrX</td><td>119123601</td><td>119135676</td><td>12075</td><td>Tcell</td></tr>\n",
       "\t<tr><td>chrX</td><td>128735139</td><td>128741297</td><td> 6158</td><td>Tcell</td></tr>\n",
       "\t<tr><td>chrX</td><td>129086513</td><td>129095934</td><td> 9421</td><td>Tcell</td></tr>\n",
       "\t<tr><td>chrX</td><td>129216157</td><td>129232066</td><td>15909</td><td>Tcell</td></tr>\n",
       "\t<tr><td>chrX</td><td>130197212</td><td>130208146</td><td>10934</td><td>Tcell</td></tr>\n",
       "\t<tr><td>chrX</td><td>135708434</td><td>135718188</td><td> 9754</td><td>Tcell</td></tr>\n",
       "\t<tr><td>chrX</td><td>139844123</td><td>139848475</td><td> 4352</td><td>Tcell</td></tr>\n",
       "\t<tr><td>chrX</td><td>149738972</td><td>149743954</td><td> 4982</td><td>Tcell</td></tr>\n",
       "\t<tr><td>chrX</td><td>152927634</td><td>152935001</td><td> 7367</td><td>Tcell</td></tr>\n",
       "\t<tr><td>chrX</td><td>153082160</td><td>153087909</td><td> 5749</td><td>Tcell</td></tr>\n",
       "\t<tr><td>chrX</td><td>153187470</td><td>153189333</td><td> 1863</td><td>Tcell</td></tr>\n",
       "\t<tr><td>chrX</td><td>153249977</td><td>153255759</td><td> 5782</td><td>Tcell</td></tr>\n",
       "\t<tr><td>chrX</td><td>153570236</td><td>153576296</td><td> 6060</td><td>Tcell</td></tr>\n",
       "\t<tr><td>chrY</td><td>  7140082</td><td>  7151381</td><td>11299</td><td>Tcell</td></tr>\n",
       "\t<tr><td>chrY</td><td> 13427307</td><td> 13436471</td><td> 9164</td><td>Tcell</td></tr>\n",
       "\t<tr><td>chrY</td><td> 13614766</td><td> 13633155</td><td>18389</td><td>Tcell</td></tr>\n",
       "</tbody>\n",
       "</table>\n"
      ],
      "text/latex": [
       "A tibble: 1150 × 5\n",
       "\\begin{tabular}{lllll}\n",
       " chr & start & end & Length & Celltype\\\\\n",
       " <chr> & <dbl> & <dbl> & <dbl> & <chr>\\\\\n",
       "\\hline\n",
       "\t chr1 &   832618 &   848444 & 15826 & Tcell\\\\\n",
       "\t chr1 &   867144 &   871136 &  3992 & Tcell\\\\\n",
       "\t chr1 &   993809 &  1005100 & 11291 & Tcell\\\\\n",
       "\t chr1 &  1012015 &  1016295 &  4280 & Tcell\\\\\n",
       "\t chr1 &  1072023 &  1080084 &  8061 & Tcell\\\\\n",
       "\t chr1 &  2053317 &  2065178 & 11861 & Tcell\\\\\n",
       "\t chr1 &  2165628 &  2172304 &  6676 & Tcell\\\\\n",
       "\t chr1 &  2183435 &  2190860 &  7425 & Tcell\\\\\n",
       "\t chr1 &  2243014 &  2250614 &  7600 & Tcell\\\\\n",
       "\t chr1 &  2472022 &  2481004 &  8982 & Tcell\\\\\n",
       "\t chr1 &  2583319 &  2632561 & 49242 & Tcell\\\\\n",
       "\t chr1 &  2684904 &  2690116 &  5212 & Tcell\\\\\n",
       "\t chr1 &  3071940 &  3078076 &  6136 & Tcell\\\\\n",
       "\t chr1 &  3085309 &  3091718 &  6409 & Tcell\\\\\n",
       "\t chr1 &  3134446 &  3142858 &  8412 & Tcell\\\\\n",
       "\t chr1 &  3237207 &  3240234 &  3027 & Tcell\\\\\n",
       "\t chr1 &  3818858 &  3827880 &  9022 & Tcell\\\\\n",
       "\t chr1 &  5890867 &  5897488 &  6621 & Tcell\\\\\n",
       "\t chr1 &  7609352 &  7616234 &  6882 & Tcell\\\\\n",
       "\t chr1 &  9251302 &  9263933 & 12631 & Tcell\\\\\n",
       "\t chr1 & 10999892 & 11004700 &  4808 & Tcell\\\\\n",
       "\t chr1 & 11410286 & 11415869 &  5583 & Tcell\\\\\n",
       "\t chr1 & 11954147 & 11959224 &  5077 & Tcell\\\\\n",
       "\t chr1 & 12210743 & 12222408 & 11665 & Tcell\\\\\n",
       "\t chr1 & 12233495 & 12239529 &  6034 & Tcell\\\\\n",
       "\t chr1 & 12494183 & 12498887 &  4704 & Tcell\\\\\n",
       "\t chr1 & 15738615 & 15744453 &  5838 & Tcell\\\\\n",
       "\t chr1 & 16553452 & 16554780 &  1328 & Tcell\\\\\n",
       "\t chr1 & 17018683 & 17034774 & 16091 & Tcell\\\\\n",
       "\t chr1 & 18919529 & 18926365 &  6836 & Tcell\\\\\n",
       "\t ⋮ & ⋮ & ⋮ & ⋮ & ⋮\\\\\n",
       "\t chrX &  39942289 &  39950079 &  7790 & Tcell\\\\\n",
       "\t chrX &  40005007 &  40018000 & 12993 & Tcell\\\\\n",
       "\t chrX &  40026864 &  40032276 &  5412 & Tcell\\\\\n",
       "\t chrX &  40398487 &  40403660 &  5173 & Tcell\\\\\n",
       "\t chrX &  40974421 &  40979402 &  4981 & Tcell\\\\\n",
       "\t chrX &  42802217 &  42808432 &  6215 & Tcell\\\\\n",
       "\t chrX &  45612877 &  45631299 & 18422 & Tcell\\\\\n",
       "\t chrX &  47217944 &  47226102 &  8158 & Tcell\\\\\n",
       "\t chrX &  47879908 &  47886441 &  6533 & Tcell\\\\\n",
       "\t chrX &  48794376 &  48799343 &  4967 & Tcell\\\\\n",
       "\t chrX &  56788815 &  56792333 &  3518 & Tcell\\\\\n",
       "\t chrX &  78394354 &  78423691 & 29337 & Tcell\\\\\n",
       "\t chrX & 106916152 & 106920454 &  4302 & Tcell\\\\\n",
       "\t chrX & 118811315 & 118823690 & 12375 & Tcell\\\\\n",
       "\t chrX & 119123601 & 119135676 & 12075 & Tcell\\\\\n",
       "\t chrX & 128735139 & 128741297 &  6158 & Tcell\\\\\n",
       "\t chrX & 129086513 & 129095934 &  9421 & Tcell\\\\\n",
       "\t chrX & 129216157 & 129232066 & 15909 & Tcell\\\\\n",
       "\t chrX & 130197212 & 130208146 & 10934 & Tcell\\\\\n",
       "\t chrX & 135708434 & 135718188 &  9754 & Tcell\\\\\n",
       "\t chrX & 139844123 & 139848475 &  4352 & Tcell\\\\\n",
       "\t chrX & 149738972 & 149743954 &  4982 & Tcell\\\\\n",
       "\t chrX & 152927634 & 152935001 &  7367 & Tcell\\\\\n",
       "\t chrX & 153082160 & 153087909 &  5749 & Tcell\\\\\n",
       "\t chrX & 153187470 & 153189333 &  1863 & Tcell\\\\\n",
       "\t chrX & 153249977 & 153255759 &  5782 & Tcell\\\\\n",
       "\t chrX & 153570236 & 153576296 &  6060 & Tcell\\\\\n",
       "\t chrY &   7140082 &   7151381 & 11299 & Tcell\\\\\n",
       "\t chrY &  13427307 &  13436471 &  9164 & Tcell\\\\\n",
       "\t chrY &  13614766 &  13633155 & 18389 & Tcell\\\\\n",
       "\\end{tabular}\n"
      ],
      "text/markdown": [
       "\n",
       "A tibble: 1150 × 5\n",
       "\n",
       "| chr &lt;chr&gt; | start &lt;dbl&gt; | end &lt;dbl&gt; | Length &lt;dbl&gt; | Celltype &lt;chr&gt; |\n",
       "|---|---|---|---|---|\n",
       "| chr1 |   832618 |   848444 | 15826 | Tcell |\n",
       "| chr1 |   867144 |   871136 |  3992 | Tcell |\n",
       "| chr1 |   993809 |  1005100 | 11291 | Tcell |\n",
       "| chr1 |  1012015 |  1016295 |  4280 | Tcell |\n",
       "| chr1 |  1072023 |  1080084 |  8061 | Tcell |\n",
       "| chr1 |  2053317 |  2065178 | 11861 | Tcell |\n",
       "| chr1 |  2165628 |  2172304 |  6676 | Tcell |\n",
       "| chr1 |  2183435 |  2190860 |  7425 | Tcell |\n",
       "| chr1 |  2243014 |  2250614 |  7600 | Tcell |\n",
       "| chr1 |  2472022 |  2481004 |  8982 | Tcell |\n",
       "| chr1 |  2583319 |  2632561 | 49242 | Tcell |\n",
       "| chr1 |  2684904 |  2690116 |  5212 | Tcell |\n",
       "| chr1 |  3071940 |  3078076 |  6136 | Tcell |\n",
       "| chr1 |  3085309 |  3091718 |  6409 | Tcell |\n",
       "| chr1 |  3134446 |  3142858 |  8412 | Tcell |\n",
       "| chr1 |  3237207 |  3240234 |  3027 | Tcell |\n",
       "| chr1 |  3818858 |  3827880 |  9022 | Tcell |\n",
       "| chr1 |  5890867 |  5897488 |  6621 | Tcell |\n",
       "| chr1 |  7609352 |  7616234 |  6882 | Tcell |\n",
       "| chr1 |  9251302 |  9263933 | 12631 | Tcell |\n",
       "| chr1 | 10999892 | 11004700 |  4808 | Tcell |\n",
       "| chr1 | 11410286 | 11415869 |  5583 | Tcell |\n",
       "| chr1 | 11954147 | 11959224 |  5077 | Tcell |\n",
       "| chr1 | 12210743 | 12222408 | 11665 | Tcell |\n",
       "| chr1 | 12233495 | 12239529 |  6034 | Tcell |\n",
       "| chr1 | 12494183 | 12498887 |  4704 | Tcell |\n",
       "| chr1 | 15738615 | 15744453 |  5838 | Tcell |\n",
       "| chr1 | 16553452 | 16554780 |  1328 | Tcell |\n",
       "| chr1 | 17018683 | 17034774 | 16091 | Tcell |\n",
       "| chr1 | 18919529 | 18926365 |  6836 | Tcell |\n",
       "| ⋮ | ⋮ | ⋮ | ⋮ | ⋮ |\n",
       "| chrX |  39942289 |  39950079 |  7790 | Tcell |\n",
       "| chrX |  40005007 |  40018000 | 12993 | Tcell |\n",
       "| chrX |  40026864 |  40032276 |  5412 | Tcell |\n",
       "| chrX |  40398487 |  40403660 |  5173 | Tcell |\n",
       "| chrX |  40974421 |  40979402 |  4981 | Tcell |\n",
       "| chrX |  42802217 |  42808432 |  6215 | Tcell |\n",
       "| chrX |  45612877 |  45631299 | 18422 | Tcell |\n",
       "| chrX |  47217944 |  47226102 |  8158 | Tcell |\n",
       "| chrX |  47879908 |  47886441 |  6533 | Tcell |\n",
       "| chrX |  48794376 |  48799343 |  4967 | Tcell |\n",
       "| chrX |  56788815 |  56792333 |  3518 | Tcell |\n",
       "| chrX |  78394354 |  78423691 | 29337 | Tcell |\n",
       "| chrX | 106916152 | 106920454 |  4302 | Tcell |\n",
       "| chrX | 118811315 | 118823690 | 12375 | Tcell |\n",
       "| chrX | 119123601 | 119135676 | 12075 | Tcell |\n",
       "| chrX | 128735139 | 128741297 |  6158 | Tcell |\n",
       "| chrX | 129086513 | 129095934 |  9421 | Tcell |\n",
       "| chrX | 129216157 | 129232066 | 15909 | Tcell |\n",
       "| chrX | 130197212 | 130208146 | 10934 | Tcell |\n",
       "| chrX | 135708434 | 135718188 |  9754 | Tcell |\n",
       "| chrX | 139844123 | 139848475 |  4352 | Tcell |\n",
       "| chrX | 149738972 | 149743954 |  4982 | Tcell |\n",
       "| chrX | 152927634 | 152935001 |  7367 | Tcell |\n",
       "| chrX | 153082160 | 153087909 |  5749 | Tcell |\n",
       "| chrX | 153187470 | 153189333 |  1863 | Tcell |\n",
       "| chrX | 153249977 | 153255759 |  5782 | Tcell |\n",
       "| chrX | 153570236 | 153576296 |  6060 | Tcell |\n",
       "| chrY |   7140082 |   7151381 | 11299 | Tcell |\n",
       "| chrY |  13427307 |  13436471 |  9164 | Tcell |\n",
       "| chrY |  13614766 |  13633155 | 18389 | Tcell |\n",
       "\n"
      ],
      "text/plain": [
       "     chr  start     end       Length Celltype\n",
       "1    chr1   832618    848444  15826  Tcell   \n",
       "2    chr1   867144    871136   3992  Tcell   \n",
       "3    chr1   993809   1005100  11291  Tcell   \n",
       "4    chr1  1012015   1016295   4280  Tcell   \n",
       "5    chr1  1072023   1080084   8061  Tcell   \n",
       "6    chr1  2053317   2065178  11861  Tcell   \n",
       "7    chr1  2165628   2172304   6676  Tcell   \n",
       "8    chr1  2183435   2190860   7425  Tcell   \n",
       "9    chr1  2243014   2250614   7600  Tcell   \n",
       "10   chr1  2472022   2481004   8982  Tcell   \n",
       "11   chr1  2583319   2632561  49242  Tcell   \n",
       "12   chr1  2684904   2690116   5212  Tcell   \n",
       "13   chr1  3071940   3078076   6136  Tcell   \n",
       "14   chr1  3085309   3091718   6409  Tcell   \n",
       "15   chr1  3134446   3142858   8412  Tcell   \n",
       "16   chr1  3237207   3240234   3027  Tcell   \n",
       "17   chr1  3818858   3827880   9022  Tcell   \n",
       "18   chr1  5890867   5897488   6621  Tcell   \n",
       "19   chr1  7609352   7616234   6882  Tcell   \n",
       "20   chr1  9251302   9263933  12631  Tcell   \n",
       "21   chr1 10999892  11004700   4808  Tcell   \n",
       "22   chr1 11410286  11415869   5583  Tcell   \n",
       "23   chr1 11954147  11959224   5077  Tcell   \n",
       "24   chr1 12210743  12222408  11665  Tcell   \n",
       "25   chr1 12233495  12239529   6034  Tcell   \n",
       "26   chr1 12494183  12498887   4704  Tcell   \n",
       "27   chr1 15738615  15744453   5838  Tcell   \n",
       "28   chr1 16553452  16554780   1328  Tcell   \n",
       "29   chr1 17018683  17034774  16091  Tcell   \n",
       "30   chr1 18919529  18926365   6836  Tcell   \n",
       "⋮    ⋮    ⋮         ⋮         ⋮      ⋮       \n",
       "1121 chrX  39942289  39950079  7790  Tcell   \n",
       "1122 chrX  40005007  40018000 12993  Tcell   \n",
       "1123 chrX  40026864  40032276  5412  Tcell   \n",
       "1124 chrX  40398487  40403660  5173  Tcell   \n",
       "1125 chrX  40974421  40979402  4981  Tcell   \n",
       "1126 chrX  42802217  42808432  6215  Tcell   \n",
       "1127 chrX  45612877  45631299 18422  Tcell   \n",
       "1128 chrX  47217944  47226102  8158  Tcell   \n",
       "1129 chrX  47879908  47886441  6533  Tcell   \n",
       "1130 chrX  48794376  48799343  4967  Tcell   \n",
       "1131 chrX  56788815  56792333  3518  Tcell   \n",
       "1132 chrX  78394354  78423691 29337  Tcell   \n",
       "1133 chrX 106916152 106920454  4302  Tcell   \n",
       "1134 chrX 118811315 118823690 12375  Tcell   \n",
       "1135 chrX 119123601 119135676 12075  Tcell   \n",
       "1136 chrX 128735139 128741297  6158  Tcell   \n",
       "1137 chrX 129086513 129095934  9421  Tcell   \n",
       "1138 chrX 129216157 129232066 15909  Tcell   \n",
       "1139 chrX 130197212 130208146 10934  Tcell   \n",
       "1140 chrX 135708434 135718188  9754  Tcell   \n",
       "1141 chrX 139844123 139848475  4352  Tcell   \n",
       "1142 chrX 149738972 149743954  4982  Tcell   \n",
       "1143 chrX 152927634 152935001  7367  Tcell   \n",
       "1144 chrX 153082160 153087909  5749  Tcell   \n",
       "1145 chrX 153187470 153189333  1863  Tcell   \n",
       "1146 chrX 153249977 153255759  5782  Tcell   \n",
       "1147 chrX 153570236 153576296  6060  Tcell   \n",
       "1148 chrY   7140082   7151381 11299  Tcell   \n",
       "1149 chrY  13427307  13436471  9164  Tcell   \n",
       "1150 chrY  13614766  13633155 18389  Tcell   "
      ]
     },
     "metadata": {},
     "output_type": "display_data"
    }
   ],
   "source": [
    "Tcell_clusters"
   ]
  },
  {
   "cell_type": "code",
   "execution_count": 13,
   "id": "f8d5c827",
   "metadata": {},
   "outputs": [],
   "source": [
    "df_of_infiles <- rbind(H1ESC_clusters,\n",
    "                    fSpinal_clusters,\n",
    "                    fHeart_clusters,\n",
    "                    Adrenal_clusters,\n",
    "                    Liver_clusters,\n",
    "                    HSPC_clusters,\n",
    "                    Macrophage_clusters,\n",
    "                    Neutrophil_clusters,\n",
    "                    Tcell_clusters,\n",
    "                    Bcell_clusters)"
   ]
  },
  {
   "cell_type": "code",
   "execution_count": 14,
   "id": "3338ea2c",
   "metadata": {
    "scrolled": true
   },
   "outputs": [],
   "source": [
    "df_of_infiles$Celltype <- factor(df_of_infiles$Celltype, \n",
    "                                levels = c(\"H1ESC\", \"fSpinal\", \"fHeart\", \"Adrenal\", \"Liver\",\n",
    "                                           \"HSPC\", \"Macrophage\", \"Neutrophil\", \"Tcell\", \"Bcell\"))"
   ]
  },
  {
   "cell_type": "code",
   "execution_count": 15,
   "id": "d29ee2bb",
   "metadata": {},
   "outputs": [
    {
     "data": {
      "text/html": [
       "<style>\n",
       ".list-inline {list-style: none; margin:0; padding: 0}\n",
       ".list-inline>li {display: inline-block}\n",
       ".list-inline>li:not(:last-child)::after {content: \"\\00b7\"; padding: 0 .5ex}\n",
       "</style>\n",
       "<ol class=list-inline><li>H1ESC</li><li>fSpinal</li><li>fHeart</li><li>Adrenal</li><li>Liver</li><li>HSPC</li><li>Macrophage</li><li>Neutrophil</li><li>Tcell</li><li>Bcell</li></ol>\n",
       "\n",
       "<details>\n",
       "\t<summary style=display:list-item;cursor:pointer>\n",
       "\t\t<strong>Levels</strong>:\n",
       "\t</summary>\n",
       "\t<style>\n",
       "\t.list-inline {list-style: none; margin:0; padding: 0}\n",
       "\t.list-inline>li {display: inline-block}\n",
       "\t.list-inline>li:not(:last-child)::after {content: \"\\00b7\"; padding: 0 .5ex}\n",
       "\t</style>\n",
       "\t<ol class=list-inline><li>'H1ESC'</li><li>'fSpinal'</li><li>'fHeart'</li><li>'Adrenal'</li><li>'Liver'</li><li>'HSPC'</li><li>'Macrophage'</li><li>'Neutrophil'</li><li>'Tcell'</li><li>'Bcell'</li></ol>\n",
       "</details>"
      ],
      "text/latex": [
       "\\begin{enumerate*}\n",
       "\\item H1ESC\n",
       "\\item fSpinal\n",
       "\\item fHeart\n",
       "\\item Adrenal\n",
       "\\item Liver\n",
       "\\item HSPC\n",
       "\\item Macrophage\n",
       "\\item Neutrophil\n",
       "\\item Tcell\n",
       "\\item Bcell\n",
       "\\end{enumerate*}\n",
       "\n",
       "\\emph{Levels}: \\begin{enumerate*}\n",
       "\\item 'H1ESC'\n",
       "\\item 'fSpinal'\n",
       "\\item 'fHeart'\n",
       "\\item 'Adrenal'\n",
       "\\item 'Liver'\n",
       "\\item 'HSPC'\n",
       "\\item 'Macrophage'\n",
       "\\item 'Neutrophil'\n",
       "\\item 'Tcell'\n",
       "\\item 'Bcell'\n",
       "\\end{enumerate*}\n"
      ],
      "text/markdown": [
       "1. H1ESC\n",
       "2. fSpinal\n",
       "3. fHeart\n",
       "4. Adrenal\n",
       "5. Liver\n",
       "6. HSPC\n",
       "7. Macrophage\n",
       "8. Neutrophil\n",
       "9. Tcell\n",
       "10. Bcell\n",
       "\n",
       "\n",
       "\n",
       "**Levels**: 1. 'H1ESC'\n",
       "2. 'fSpinal'\n",
       "3. 'fHeart'\n",
       "4. 'Adrenal'\n",
       "5. 'Liver'\n",
       "6. 'HSPC'\n",
       "7. 'Macrophage'\n",
       "8. 'Neutrophil'\n",
       "9. 'Tcell'\n",
       "10. 'Bcell'\n",
       "\n",
       "\n"
      ],
      "text/plain": [
       " [1] H1ESC      fSpinal    fHeart     Adrenal    Liver      HSPC      \n",
       " [7] Macrophage Neutrophil Tcell      Bcell     \n",
       "10 Levels: H1ESC fSpinal fHeart Adrenal Liver HSPC Macrophage ... Bcell"
      ]
     },
     "metadata": {},
     "output_type": "display_data"
    }
   ],
   "source": [
    "unique(df_of_infiles$Celltype)"
   ]
  },
  {
   "cell_type": "markdown",
   "id": "95669fa0",
   "metadata": {},
   "source": [
    "# Plot"
   ]
  },
  {
   "cell_type": "code",
   "execution_count": 16,
   "id": "98facdcb",
   "metadata": {},
   "outputs": [
    {
     "data": {
      "image/png": "[encoded data removed]",
      "text/plain": [
       "plot without title"
      ]
     },
     "metadata": {
      "image/png": {
       "height": 420,
       "width": 420
      }
     },
     "output_type": "display_data"
    }
   ],
   "source": [
    "df_of_infiles %>%\n",
    "    ggplot(aes(x=Celltype, y = Length)) +\n",
    "        geom_violin() +\n",
    "        geom_boxplot() +\n",
    "        theme_minimal() +\n",
    "        geom_hline(yintercept = 10500, linetype='dashed', size = 1, color = 'red')"
   ]
  },
  {
   "cell_type": "code",
   "execution_count": 17,
   "id": "2d8f2761",
   "metadata": {},
   "outputs": [
    {
     "data": {
      "text/html": [
       "<strong>png:</strong> 2"
      ],
      "text/latex": [
       "\\textbf{png:} 2"
      ],
      "text/markdown": [
       "**png:** 2"
      ],
      "text/plain": [
       "png \n",
       "  2 "
      ]
     },
     "metadata": {},
     "output_type": "display_data"
    }
   ],
   "source": [
    "pdf(\"/data/hodges_lab/Tim/FigS4_clusterLengths_ggplot.July15.withNeutrophil.pdf\")\n",
    "\n",
    "df_of_infiles %>%\n",
    "    ggplot(aes(x=Celltype, y = Length)) +\n",
    "        geom_violin() +\n",
    "        geom_boxplot() +\n",
    "        theme_minimal() +\n",
    "        geom_hline(yintercept = 10000, linetype='dashed', size = 1, color = 'red')\n",
    "\n",
    "dev.off()"
   ]
  },
  {
   "cell_type": "markdown",
   "id": "89b531dd",
   "metadata": {},
   "source": [
    "# Stats for average cluster length"
   ]
  },
  {
   "cell_type": "code",
   "execution_count": 18,
   "id": "51bf75e0",
   "metadata": {},
   "outputs": [
    {
     "data": {
      "text/html": [
       "9764.58844958749"
      ],
      "text/latex": [
       "9764.58844958749"
      ],
      "text/markdown": [
       "9764.58844958749"
      ],
      "text/plain": [
       "[1] 9764.588"
      ]
     },
     "metadata": {},
     "output_type": "display_data"
    },
    {
     "data": {
      "text/html": [
       "8313"
      ],
      "text/latex": [
       "8313"
      ],
      "text/markdown": [
       "8313"
      ],
      "text/plain": [
       "[1] 8313"
      ]
     },
     "metadata": {},
     "output_type": "display_data"
    }
   ],
   "source": [
    "mean(df_of_infiles$Length)\n",
    "median(df_of_infiles$Length)"
   ]
  },
  {
   "cell_type": "code",
   "execution_count": null,
   "id": "51e34803",
   "metadata": {},
   "outputs": [],
   "source": [
    "# Try a 50,000 length rheshold...."
   ]
  },
  {
   "cell_type": "code",
   "execution_count": 33,
   "id": "35fe7c87",
   "metadata": {},
   "outputs": [
    {
     "data": {
      "text/html": [
       "9650.80005041275"
      ],
      "text/latex": [
       "9650.80005041275"
      ],
      "text/markdown": [
       "9650.80005041275"
      ],
      "text/plain": [
       "[1] 9650.8"
      ]
     },
     "metadata": {},
     "output_type": "display_data"
    },
    {
     "data": {
      "text/html": [
       "8380"
      ],
      "text/latex": [
       "8380"
      ],
      "text/markdown": [
       "8380"
      ],
      "text/plain": [
       "[1] 8380"
      ]
     },
     "metadata": {},
     "output_type": "display_data"
    }
   ],
   "source": [
    "df_of_infiles %>% filter(Length < 50000) %>% select(Length) %>% unlist() %>% mean()\n",
    "\n",
    "df_of_infiles %>% filter(Length < 50000) %>% select(Length) %>% unlist() %>% median()"
   ]
  },
  {
   "cell_type": "code",
   "execution_count": null,
   "id": "74c8ef04",
   "metadata": {},
   "outputs": [],
   "source": []
  },
  {
   "cell_type": "code",
   "execution_count": null,
   "id": "84f4564c",
   "metadata": {},
   "outputs": [],
   "source": []
  },
  {
   "cell_type": "code",
   "execution_count": null,
   "id": "40e38943",
   "metadata": {},
   "outputs": [],
   "source": []
  },
  {
   "cell_type": "code",
   "execution_count": 31,
   "id": "e5c566da",
   "metadata": {},
   "outputs": [
    {
     "data": {
      "text/html": [
       "10551.2385743337"
      ],
      "text/latex": [
       "10551.2385743337"
      ],
      "text/markdown": [
       "10551.2385743337"
      ],
      "text/plain": [
       "[1] 10551.24"
      ]
     },
     "metadata": {},
     "output_type": "display_data"
    },
    {
     "data": {
      "text/html": [
       "8746"
      ],
      "text/latex": [
       "8746"
      ],
      "text/markdown": [
       "8746"
      ],
      "text/plain": [
       "[1] 8746"
      ]
     },
     "metadata": {},
     "output_type": "display_data"
    }
   ],
   "source": [
    "df_of_infiles_6 <- df_of_infiles %>% filter(!Celltype %in% c(\"HSPC\",\"Macrophage\",\"Tcell\"))\n",
    "df_of_infiles_6 %>% select(Length) %>% unlist() %>% mean()\n",
    "df_of_infiles_6 %>% select(Length) %>% unlist() %>% median()"
   ]
  }
 ],
 "metadata": {
  "kernelspec": {
   "display_name": "R",
   "language": "R",
   "name": "ir"
  },
  "language_info": {
   "codemirror_mode": "r",
   "file_extension": ".r",
   "mimetype": "text/x-r-source",
   "name": "R",
   "pygments_lexer": "r",
   "version": "4.1.2"
  },
  "toc": {
   "base_numbering": 1,
   "nav_menu": {},
   "number_sections": true,
   "sideBar": true,
   "skip_h1_title": false,
   "title_cell": "Table of Contents",
   "title_sidebar": "Contents",
   "toc_cell": false,
   "toc_position": {},
   "toc_section_display": true,
   "toc_window_display": true
  }
 },
 "nbformat": 4,
 "nbformat_minor": 5
}

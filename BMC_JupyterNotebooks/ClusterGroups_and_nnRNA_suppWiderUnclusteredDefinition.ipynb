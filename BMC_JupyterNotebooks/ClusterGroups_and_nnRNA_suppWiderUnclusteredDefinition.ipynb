{
 "cells": [
  {
   "cell_type": "markdown",
   "id": "a2c4bd23",
   "metadata": {},
   "source": [
    "# Compute cluster groups "
   ]
  },
  {
   "cell_type": "code",
   "execution_count": 1,
   "id": "3af850c2",
   "metadata": {},
   "outputs": [],
   "source": [
    "WRK_DIR=/data/hodges_lab/Tim/ClusterTesting/\n",
    "mkdir -p ${WRK_DIR}"
   ]
  },
  {
   "cell_type": "code",
   "execution_count": 2,
   "id": "d9c37bba",
   "metadata": {},
   "outputs": [],
   "source": [
    "# RefSeq TSS/Exon file\n",
    "TSSExon_FILE=/data/hodges_lab/Tim/finalAnalyses_HMRs/hp_lineage/referenceFiles/ncbiRefSeqCurated_NM.promotersUp2000Down1000AndExons.txt "
   ]
  },
  {
   "cell_type": "code",
   "execution_count": 3,
   "id": "174497ef",
   "metadata": {},
   "outputs": [
    {
     "name": "stdout",
     "output_type": "stream",
     "text": [
      "34070 /data/hodges_lab/Tim/finalAnalyses_HMRs/hp_lineage/filtRefSeqFiles/Bcell.minsize50.filtforrefseqTSSexons.txt\n"
     ]
    }
   ],
   "source": [
    "# B cell - filtered for RefSeq TSS/Exon file \n",
    "BCL_FILE=/data/hodges_lab/Tim/finalAnalyses_HMRs/hp_lineage/filtRefSeqFiles/Bcell.minsize50.filtforrefseqTSSexons.txt\n",
    "\n",
    "wc -l ${BCL_FILE}"
   ]
  },
  {
   "cell_type": "code",
   "execution_count": 4,
   "id": "02806bf6",
   "metadata": {},
   "outputs": [
    {
     "name": "stdout",
     "output_type": "stream",
     "text": [
      "54998 /data/hodges_lab/Tim/finalAnalyses_HMRs/hp_lineage/startingBEDs/Bcell.hmr.bed\n"
     ]
    }
   ],
   "source": [
    "# B cell - HMR file as downloaded\n",
    "BCL_BASE_FILE=/data/hodges_lab/Tim/finalAnalyses_HMRs/hp_lineage/startingBEDs/Bcell.hmr.bed\n",
    "wc -l ${BCL_BASE_FILE}"
   ]
  },
  {
   "cell_type": "code",
   "execution_count": null,
   "id": "7b86b61f",
   "metadata": {},
   "outputs": [],
   "source": []
  },
  {
   "cell_type": "markdown",
   "id": "e29d2d20",
   "metadata": {},
   "source": [
    "## Unclustered - current method "
   ]
  },
  {
   "cell_type": "code",
   "execution_count": 5,
   "id": "8422dc88",
   "metadata": {},
   "outputs": [
    {
     "name": "stdout",
     "output_type": "stream",
     "text": [
      "Found unclustered HMRs.\n"
     ]
    }
   ],
   "source": [
    "awk 'BEGIN{OFS=FS=\"\\t\"}{if (($3-$2)>49) print $1,$2,$3}' ${BCL_BASE_FILE} | bedtools merge -c 2 -o count -d 6000 -i - | awk 'BEGIN{FS=OFS=\"\\t\"}{if ($4<2) print}' - | awk 'BEGIN{OFS=FS=\"\\t\"}{print $1,$2,$3}' - | bedtools intersect -v -a - -b ${TSSExon_FILE} > ${WRK_DIR}Bcell_unclustered_hpl.current.txt\n",
    "\n",
    "echo \"Found unclustered HMRs.\""
   ]
  },
  {
   "cell_type": "markdown",
   "id": "64368329",
   "metadata": {},
   "source": [
    "## Unclustered - RefSeq filter first (More inclusive)"
   ]
  },
  {
   "cell_type": "code",
   "execution_count": 7,
   "id": "03b47c1d",
   "metadata": {},
   "outputs": [
    {
     "name": "stdout",
     "output_type": "stream",
     "text": [
      "Done.\n"
     ]
    }
   ],
   "source": [
    "bedtools merge -c 2 -o count -d 6000 -i ${BCL_FILE} | awk 'BEGIN{FS=OFS=\"\\t\"}{if ($4<2) print}' - | awk 'BEGIN{OFS=FS=\"\\t\"}{print $1,$2,$3}' - > ${WRK_DIR}Bcell_unclustered_hpl.RefSeqFilterFirst.txt\n",
    "\n",
    "echo \"Done.\""
   ]
  },
  {
   "cell_type": "markdown",
   "id": "61cba64a",
   "metadata": {},
   "source": [
    "### Unclustered - RefSeq - cell specific "
   ]
  },
  {
   "cell_type": "code",
   "execution_count": 29,
   "id": "aa43ecaa",
   "metadata": {},
   "outputs": [],
   "source": [
    "bedtools intersect -u -a ${WRK_DIR}Bcell_unclustered_hpl.RefSeqFilterFirst.txt -b /data/hodges_lab/Tim/finalAnalyses_HMRs/hp_lineage/HMRs/Bcell_all_cellspecific_hpl.txt > ${WRK_DIR}Bcell_unclustered_hpl.RefSeqFilterFirst.cellspecific.txt"
   ]
  },
  {
   "cell_type": "code",
   "execution_count": null,
   "id": "b7f649db",
   "metadata": {},
   "outputs": [],
   "source": []
  },
  {
   "cell_type": "code",
   "execution_count": null,
   "id": "7d3cdd21",
   "metadata": {},
   "outputs": [],
   "source": []
  },
  {
   "cell_type": "markdown",
   "id": "d5838041",
   "metadata": {},
   "source": [
    "## Clusters of two - internal clusters "
   ]
  },
  {
   "cell_type": "code",
   "execution_count": 5,
   "id": "3cabdb8d",
   "metadata": {},
   "outputs": [
    {
     "name": "stdout",
     "output_type": "stream",
     "text": [
      "chr1\t67090\t70090\tNM_001005484.1\n",
      "chr1\t69090\t70008\tNM_001005484.1\n",
      "chr1\t365658\t368658\tNM_001005221.2\n",
      "chr1\t367658\t368597\tNM_001005221.2\n",
      "chr1\t621034\t624034\tNM_001005277.1\n",
      "chr1\t621095\t622034\tNM_001005277.1\n",
      "chr1\t859110\t862110\tNM_152486.3\n",
      "chr1\t861110\t861180\tNM_152486.3\n",
      "chr1\t861301\t861393\tNM_152486.3\n",
      "chr1\t865534\t865716\tNM_152486.3\n"
     ]
    }
   ],
   "source": [
    "head ${TSSExon_FILE}"
   ]
  },
  {
   "cell_type": "code",
   "execution_count": 10,
   "id": "75ee01ef",
   "metadata": {},
   "outputs": [
    {
     "name": "stdout",
     "output_type": "stream",
     "text": [
      "chr1\t249250621\n",
      "chr10\t135534747\n",
      "chr11\t135006516\n",
      "chr12\t133851895\n",
      "chr13\t115169878\n",
      "chr14\t107349540\n",
      "chr15\t102531392\n",
      "chr16\t90354753\n",
      "chr17\t81195210\n",
      "chr18\t78077248\n"
     ]
    }
   ],
   "source": [
    "head /data/hodges_lab/Tim/finalAnalyses_HMRs/hp_lineage/referenceFiles/hg19.chrom.sizes.twoCol.sorted"
   ]
  },
  {
   "cell_type": "code",
   "execution_count": 5,
   "id": "436a19d6",
   "metadata": {},
   "outputs": [
    {
     "name": "stdout",
     "output_type": "stream",
     "text": [
      "Made whitelist.\n"
     ]
    }
   ],
   "source": [
    "awk 'BEGIN{OFS=FS=\"\\t\"}{if ($1 !~ /\\_/)print $1,$2,$3}' ${TSSExon_FILE} | bedtools sort -i - | bedtools complement -i - -g /data/hodges_lab/Tim/finalAnalyses_HMRs/hp_lineage/referenceFiles/hg19.chrom.sizes.twoCol.sorted > ${WRK_DIR}Bcell_whitelist.txt\n",
    "echo \"Made whitelist.\"\n"
   ]
  },
  {
   "cell_type": "code",
   "execution_count": 15,
   "id": "85fc65cf",
   "metadata": {},
   "outputs": [
    {
     "name": "stdout",
     "output_type": "stream",
     "text": [
      "chr1\t0\t67090\n",
      "chr1\t70090\t365658\n",
      "chr1\t368658\t621034\n",
      "chr1\t624034\t859110\n",
      "chr1\t862110\t865534\n",
      "chr1\t865716\t866418\n",
      "chr1\t866469\t871151\n",
      "chr1\t871276\t874419\n",
      "chr1\t874509\t874654\n",
      "chr1\t874840\t876523\n",
      "chr1\t368658\t621034\t4\n",
      "chr1\t624034\t859110\t13\n",
      "chr1\t866469\t871151\t2\n",
      "chr1\t919473\t934343\t2\n",
      "chr1\t991496\t1006346\t6\n",
      "chr1\t1011686\t1017202\t2\n",
      "chr1\t1053469\t1107259\t9\n",
      "chr1\t1184102\t1189291\t2\n",
      "chr1\t1512243\t1533391\t2\n",
      "chr1\t1537515\t1548794\t2\n"
     ]
    }
   ],
   "source": [
    "head ${WRK_DIR}Bcell_whitelist.txt\n",
    "head ${WRK_DIR}Bcell_whitelistRegions_contain2ormoreHMRs_hpl.txt"
   ]
  },
  {
   "cell_type": "code",
   "execution_count": 18,
   "id": "9ef49073",
   "metadata": {},
   "outputs": [
    {
     "name": "stdout",
     "output_type": "stream",
     "text": [
      "chr1\t521533\t521660\tchr1\t368658\t621034\t4\n",
      "chr1\t564470\t566009\tchr1\t368658\t621034\t4\n",
      "chr1\t566458\t566879\tchr1\t368658\t621034\t4\n",
      "chr1\t567166\t570301\tchr1\t368658\t621034\t4\n",
      "chr1\t713671\t715041\tchr1\t624034\t859110\t13\n",
      "chr1\t724219\t724516\tchr1\t624034\t859110\t13\n",
      "chr1\t762003\t763205\tchr1\t624034\t859110\t13\n",
      "chr1\t794016\t794456\tchr1\t624034\t859110\t13\n",
      "chr1\t801089\t801505\tchr1\t624034\t859110\t13\n",
      "chr1\t804991\t805500\tchr1\t624034\t859110\t13\n",
      "chr1\t832618\t833196\tchr1\t624034\t859110\t13\n",
      "chr1\t833785\t834596\tchr1\t624034\t859110\t13\n",
      "chr1\t839724\t841039\tchr1\t624034\t859110\t13\n",
      "chr1\t842095\t842689\tchr1\t624034\t859110\t13\n",
      "chr1\t845310\t845847\tchr1\t624034\t859110\t13\n"
     ]
    }
   ],
   "source": [
    "head -n 15 ${WRK_DIR}Bcell_whitelistRegions_cluster_contain2ormoreHMRs_individualHMRs_temp_hpl.txt"
   ]
  },
  {
   "cell_type": "code",
   "execution_count": 17,
   "id": "ca3c5627",
   "metadata": {},
   "outputs": [
    {
     "name": "stdout",
     "output_type": "stream",
     "text": [
      "chr1\t801089\t805500\t2\n",
      "chr1\t867226\t870886\t2\n",
      "chr1\t931262\t933045\t2\n",
      "chr1\t1013125\t1016103\t2\n",
      "chr1\t1185531\t1186514\t2\n",
      "chr1\t1538029\t1542805\t2\n",
      "chr1\t1609040\t1610648\t2\n",
      "chr1\t1792416\t1796593\t2\n",
      "chr1\t1941843\t1946688\t2\n",
      "chr1\t1976113\t1978261\t2\n"
     ]
    }
   ],
   "source": [
    "head ${WRK_DIR}Bcell_internalClusters_contain2HMRs_hpl.txt"
   ]
  },
  {
   "cell_type": "code",
   "execution_count": 19,
   "id": "fc3d2b8d",
   "metadata": {},
   "outputs": [
    {
     "name": "stdout",
     "output_type": "stream",
     "text": [
      "3602 /data/hodges_lab/Tim/ClusterTesting/Bcell_internalClusters_contain2HMRs_hpl_BED.txt\n",
      "7204 /data/hodges_lab/Tim/ClusterTesting/Bcell_internalClusters_contain2HMRs_individualHMRs_hpl.txt\n"
     ]
    }
   ],
   "source": [
    "wc -l ${WRK_DIR}Bcell_internalClusters_contain2HMRs_hpl_BED.txt\n",
    "wc -l ${WRK_DIR}Bcell_internalClusters_contain2HMRs_individualHMRs_hpl.txt"
   ]
  },
  {
   "cell_type": "code",
   "execution_count": 7,
   "id": "0bc708f3",
   "metadata": {
    "scrolled": true
   },
   "outputs": [
    {
     "name": "stdout",
     "output_type": "stream",
     "text": [
      "Start.\n",
      "Made whitelist.\n",
      "Found whitelist regions that contain 2+ HMRs.\n",
      "Created double BED for whitelist regions that contain 2+ HMRs.\n",
      "Found internalClusters containing exactly 2 HMRs.\n",
      "\n",
      "\n",
      "Found the HMRs composing internalClusters containing 3+ HMRs.\n"
     ]
    }
   ],
   "source": [
    "echo \"Start.\"\n",
    "\n",
    "awk 'BEGIN{OFS=FS=\"\\t\"}{if ($1 !~ /\\_/)print $1,$2,$3}' ${TSSExon_FILE} | bedtools sort -i - | bedtools complement -i - -g /data/hodges_lab/Tim/finalAnalyses_HMRs/hp_lineage/referenceFiles/hg19.chrom.sizes.twoCol.sorted > ${WRK_DIR}Bcell_whitelist.txt\n",
    "echo \"Made whitelist.\"\n",
    "\n",
    "\n",
    "# (a) Find whitelist regions with 2+ HMRs\n",
    "bedtools intersect -c -F 1.0 -a ${WRK_DIR}Bcell_whitelist.txt -b ${BCL_FILE} | awk 'BEGIN{OFS=FS=\"\\t\"}{if ($4>1) print}' - > ${WRK_DIR}Bcell_whitelistRegions_contain2ormoreHMRs_hpl.txt\n",
    "echo \"Found whitelist regions that contain 2+ HMRs.\"\n",
    "\n",
    "# (b)Find what HMRs are in these to create a double BED file in a parsable list for custom merging: [1-3]: BED coordinates of Whitelist region [4]: #HMR in Whitelist region, [5-7]: BED coordinates of HMRs in Whitelist region\n",
    "# Diagnostic: bedtools intersect -loj -F 1.0 -a Bcell_whitelistRegions_contain3ormoreHMRs.txt -b Bcell.HMR.min50.txt | awk 'BEGIN{OFS=FS=\"\\t\"}{print}' - | bedtools sort -i - | head\n",
    "# awk 'BEGIN{OFS=FS=\"\\t\"}{print $5,$6,$7,$1,$2,$3,$4}' temp.txt | head\n",
    "\n",
    "bedtools intersect -loj -F 1.0 -a ${WRK_DIR}Bcell_whitelistRegions_contain2ormoreHMRs_hpl.txt -b ${BCL_FILE} | awk 'BEGIN{OFS=FS=\"\\t\"}{print $5,$6,$7,$1,$2,$3,$4}' - | bedtools sort -i - > ${WRK_DIR}Bcell_whitelistRegions_cluster_contain2ormoreHMRs_individualHMRs_temp_hpl.txt\n",
    "echo \"Created double BED for whitelist regions that contain 2+ HMRs.\"\n",
    "\n",
    "# (c) Custom merge within these regions\n",
    "awk -v whitelistStart=1 -v hmrsCount=1 -v clusterChr=1 -v clusterStart=1 -v clusterEnd=2 'BEGIN{OFS=FS=\"\\t\";dist=6000;whitelistStart=1;hmrsCount=1;clusterChr=1;clusterStart=1;clusterEnd=2;} {\n",
    "# Check if we are in the same WhitelistBoundary\n",
    "if ($5!=whitelistStart) {\n",
    "print clusterChr,clusterStart,clusterEnd,hmrsCount;\n",
    "whitelistStart=$5;\n",
    "hmrsCount=1;\n",
    "clusterChr=$1;\n",
    "clusterStart=$2;\n",
    "clusterEnd=$3;\n",
    "} else {\n",
    "# case if (1) we are staying within a Whitelist boundary, but (2) the previous HMR was >6000bp away\n",
    "if (($2-clusterEnd)>6000) {\n",
    "print clusterChr,clusterStart,clusterEnd,hmrsCount;\n",
    "clusterStart=$2;\n",
    "clusterEnd=$3;\n",
    "hmrsCount=1;\n",
    "} else {\n",
    "clusterEnd=$3;\n",
    "hmrsCount+=1;\n",
    "}\n",
    "}\n",
    "}' ${WRK_DIR}Bcell_whitelistRegions_cluster_contain2ormoreHMRs_individualHMRs_temp_hpl.txt | awk 'BEGIN{OFS=FS=\"\\t\"}{if ($4==2) print $0}' - > ${WRK_DIR}Bcell_internalClusters_contain2HMRs_hpl.txt\n",
    "\n",
    "echo \"Found internalClusters containing exactly 2 HMRs.\"\n",
    "\n",
    "#########################\n",
    "#########################\n",
    "#########################\n",
    "# Remove unplaced contigs, causes issues downline \n",
    "awk 'BEGIN{OFS=FS=\"\\t\"}{if ($1 !~ /\\_/)print $1,$2,$3}' ${WRK_DIR}Bcell_internalClusters_contain2HMRs_hpl.txt > ${WRK_DIR}Bcell_internalClusters_contain2HMRs_hpl_BED.txt\n",
    "echo -e \"\\n\"\n",
    "\n",
    "\n",
    "##### ((5)) internalClusters_individualHMRs \n",
    "#####\n",
    "bedtools intersect -u -a ${BCL_FILE} -b ${WRK_DIR}Bcell_internalClusters_contain2HMRs_hpl_BED.txt > ${WRK_DIR}Bcell_internalClusters_contain2HMRs_individualHMRs_hpl.txt\n",
    "echo \"Found the HMRs composing internalClusters containing exactly 2 HMRs.\"\n",
    "\n",
    "\n"
   ]
  },
  {
   "cell_type": "markdown",
   "id": "1d5f0c9b",
   "metadata": {},
   "source": [
    "## Clusters of three - internal clusters"
   ]
  },
  {
   "cell_type": "code",
   "execution_count": 11,
   "id": "485f2686",
   "metadata": {},
   "outputs": [
    {
     "name": "stdout",
     "output_type": "stream",
     "text": [
      "Starting.\n",
      "Made whitelist.\n",
      "Found whitelist regions that contain 3+ HMRs.\n",
      "Created double BED for whitelist regions that contain 3+ HMRs.\n",
      "Found internalClusters containing 3+ HMRs.\n",
      "\n",
      "\n",
      "Found the HMRs composing internalClusters containing 3+ HMRs.\n"
     ]
    }
   ],
   "source": [
    "echo \"Starting.\"\n",
    "\n",
    "awk 'BEGIN{OFS=FS=\"\\t\"}{if ($1 !~ /\\_/)print $1,$2,$3}' ${TSSExon_FILE} | bedtools sort -i - | bedtools complement -i - -g /data/hodges_lab/Tim/finalAnalyses_HMRs/hp_lineage/referenceFiles/hg19.chrom.sizes.twoCol.sorted > ${WRK_DIR}Bcell_whitelist.txt\n",
    "echo \"Made whitelist.\"\n",
    "\n",
    "\n",
    "# (a) Find whitelist regions with 3+ HMRs\n",
    "bedtools intersect -c -F 1.0 -a ${WRK_DIR}Bcell_whitelist.txt -b ${BCL_FILE} | awk 'BEGIN{OFS=FS=\"\\t\"}{if ($4>2) print}' - > ${WRK_DIR}Bcell_whitelistRegions_contain3ormoreHMRs_hpl.txt\n",
    "echo \"Found whitelist regions that contain 3+ HMRs.\"\n",
    "\n",
    "\n",
    "bedtools intersect -loj -F 1.0 -a ${WRK_DIR}Bcell_whitelistRegions_contain3ormoreHMRs_hpl.txt -b ${BCL_FILE} | awk 'BEGIN{OFS=FS=\"\\t\"}{print $5,$6,$7,$1,$2,$3,$4}' - | bedtools sort -i - > ${WRK_DIR}Bcell_whitelistRegions_cluster_individualHMRs_temp_hpl.txt\n",
    "\n",
    "echo \"Created double BED for whitelist regions that contain 3+ HMRs.\"\n",
    "\n",
    "# (c) Custom merge within these regions\n",
    "awk -v whitelistStart=1 -v hmrsCount=1 -v clusterChr=1 -v clusterStart=1 -v clusterEnd=2 'BEGIN{OFS=FS=\"\\t\";dist=6000;whitelistStart=1;hmrsCount=1;clusterChr=1;clusterStart=1;clusterEnd=2;} {\n",
    "# Check if we are in the same WhitelistBoundary\n",
    "if ($5!=whitelistStart) {\n",
    "print clusterChr,clusterStart,clusterEnd,hmrsCount;\n",
    "whitelistStart=$5;\n",
    "hmrsCount=1;\n",
    "clusterChr=$1;\n",
    "clusterStart=$2;\n",
    "clusterEnd=$3;\n",
    "} else {\n",
    "# case if (1) we are staying within a Whitelist boundary, but (2) the previous HMR was >6000bp away\n",
    "if (($2-clusterEnd)>6000) {\n",
    "print clusterChr,clusterStart,clusterEnd,hmrsCount;\n",
    "clusterStart=$2;\n",
    "clusterEnd=$3;\n",
    "hmrsCount=1;\n",
    "} else {\n",
    "clusterEnd=$3;\n",
    "hmrsCount+=1;\n",
    "}\n",
    "}\n",
    "}' ${WRK_DIR}Bcell_whitelistRegions_cluster_individualHMRs_temp_hpl.txt | awk 'BEGIN{OFS=FS=\"\\t\"}{if ($4>2) print $0}' - > ${WRK_DIR}Bcell_internalClusters_hpl.txt\n",
    "echo \"Found internalClusters containing 3+ HMRs.\"\n",
    "\n",
    "#########################\n",
    "#########################\n",
    "#########################\n",
    "# Remove unplaced contigs, causes issues downline \n",
    "awk 'BEGIN{OFS=FS=\"\\t\"}{if ($1 !~ /\\_/)print $1,$2,$3}' ${WRK_DIR}Bcell_internalClusters_hpl.txt > ${WRK_DIR}Bcell_internalClusters_hpl_BED.txt\n",
    "echo -e \"\\n\"\n",
    "\n",
    "\n",
    "##### ((5)) internalClusters_individualHMRs \n",
    "#####\n",
    "bedtools intersect -u -a ${BCL_FILE} -b ${WRK_DIR}Bcell_internalClusters_hpl_BED.txt > ${WRK_DIR}Bcell_internalClusters_individualHMRs_hpl.txt\n",
    "echo \"Found the HMRs composing internalClusters containing 3+ HMRs.\"\n",
    "\n",
    "\n"
   ]
  },
  {
   "cell_type": "code",
   "execution_count": 22,
   "id": "6c6fc2f1",
   "metadata": {},
   "outputs": [
    {
     "name": "stdout",
     "output_type": "stream",
     "text": [
      "3734\n"
     ]
    }
   ],
   "source": [
    " bedtools merge -c 2 -o count -d 6000 -i ${BCL_FILE} | awk 'BEGIN{FS=OFS=\"\\t\"}{if ($4==2) print}' - | wc -l"
   ]
  },
  {
   "cell_type": "code",
   "execution_count": 23,
   "id": "d22e1296",
   "metadata": {},
   "outputs": [
    {
     "name": "stdout",
     "output_type": "stream",
     "text": [
      "3602 /data/hodges_lab/Tim/ClusterTesting/Bcell_internalClusters_contain2HMRs_hpl.txt\n"
     ]
    }
   ],
   "source": [
    "wc -l ${WRK_DIR}Bcell_internalClusters_contain2HMRs_hpl.txt"
   ]
  },
  {
   "cell_type": "code",
   "execution_count": 24,
   "id": "53243824",
   "metadata": {},
   "outputs": [
    {
     "name": "stdout",
     "output_type": "stream",
     "text": [
      "7204 /data/hodges_lab/Tim/ClusterTesting/Bcell_internalClusters_contain2HMRs_individualHMRs_hpl.txt\n",
      "5974 /data/hodges_lab/Tim/ClusterTesting/Bcell_internalClusters_individualHMRs_hpl.txt\n"
     ]
    }
   ],
   "source": [
    "wc -l ${WRK_DIR}Bcell_internalClusters_contain2HMRs_individualHMRs_hpl.txt\n",
    "wc -l ${WRK_DIR}Bcell_internalClusters_individualHMRs_hpl.txt\n"
   ]
  },
  {
   "cell_type": "markdown",
   "id": "656d3ed4",
   "metadata": {},
   "source": [
    "# Get 2-HMR clusters that contain a cell specific "
   ]
  },
  {
   "cell_type": "code",
   "execution_count": null,
   "id": "433aeea9",
   "metadata": {},
   "outputs": [],
   "source": [
    "${WRK_DIR}Bcell_internalClusters_contain2HMRs_hpl_BED.txt "
   ]
  },
  {
   "cell_type": "code",
   "execution_count": 25,
   "id": "fa590390",
   "metadata": {},
   "outputs": [],
   "source": [
    "bedtools intersect -u -a ${WRK_DIR}Bcell_internalClusters_contain2HMRs_hpl_BED.txt -b /data/hodges_lab/Tim/finalAnalyses_HMRs/hp_lineage/HMRs/Bcell_all_cellspecific_hpl.txt > ${WRK_DIR}Bcell_internalClusters_contain2HMRs_hpl.containsCS.txt"
   ]
  },
  {
   "cell_type": "code",
   "execution_count": 26,
   "id": "634c30ec",
   "metadata": {},
   "outputs": [
    {
     "name": "stdout",
     "output_type": "stream",
     "text": [
      "Done.\n"
     ]
    }
   ],
   "source": [
    "echo \"Done.\""
   ]
  },
  {
   "cell_type": "markdown",
   "id": "29cb6781",
   "metadata": {},
   "source": [
    "# nnRNA"
   ]
  },
  {
   "cell_type": "markdown",
   "id": "30c1ddf6",
   "metadata": {},
   "source": [
    "# Get 2NN"
   ]
  },
  {
   "cell_type": "code",
   "execution_count": 1,
   "id": "9e2f65a0",
   "metadata": {},
   "outputs": [
    {
     "name": "stdout",
     "output_type": "stream",
     "text": [
      "Done.\n"
     ]
    }
   ],
   "source": [
    "HOME_DIR=/data/hodges_lab/Tim/nnRNA_TPM_EHGM/\n",
    "mkdir -p ${HOME_DIR}\n",
    "REF_DIR=${HOME_DIR}reference_files/\n",
    "\n",
    "# Directory \n",
    "mkdir -p ${HOME_DIR}intermediate_files\n",
    "cd ${HOME_DIR}intermediate_files\n",
    "\n",
    "INTER_DIR=${HOME_DIR}intermediate_files/\n",
    "REF_DIR=${HOME_DIR}reference_files/\n",
    "OUT_DIR=${HOME_DIR}output_files/\n",
    "\n",
    "echo \"Done.\""
   ]
  },
  {
   "cell_type": "code",
   "execution_count": 28,
   "id": "9acecddf",
   "metadata": {},
   "outputs": [
    {
     "name": "stdout",
     "output_type": "stream",
     "text": [
      "Done.\n"
     ]
    }
   ],
   "source": [
    "# Bcell \n",
    "bedtools sort -i ${REF_DIR}GM_ENSG_TPM_avg12_noVersion_hasHGNC_minTPM0.txt | awk 'BEGIN{OFS=FS=\"\\t\"}{print }' - > ${REF_DIR}GM_ENSG_TPM_avg12_noVersion_hasHGNC_minTPM0.sorted.txt\n",
    "\n",
    "echo \"Done.\""
   ]
  },
  {
   "cell_type": "code",
   "execution_count": 2,
   "id": "bd05c88b",
   "metadata": {},
   "outputs": [
    {
     "name": "stdout",
     "output_type": "stream",
     "text": [
      "Done.\n"
     ]
    }
   ],
   "source": [
    "# Initalize HMR files \n",
    "CLUSTERED_CS_FILE=/data/hodges_lab/Tim/finalAnalyses_HMRs/hp_lineage/HMRs/Bcell_internalClusters_individualHMRs_cellspecific_hpl.txt\n",
    "UNCLUSTERED_CS_FILE=/data/hodges_lab/Tim/finalAnalyses_HMRs/hp_lineage/HMRs/Bcell_unclustered_cellspecific_hpl.txt\n",
    "UNCLUSTERED_CS_ALL_FILE=/data/hodges_lab/Tim/ClusterTesting/Bcell_unclustered_hpl.RefSeqFilterFirst.cellspecific.txt\n",
    "echo \"Done.\""
   ]
  },
  {
   "cell_type": "code",
   "execution_count": 3,
   "id": "a40907b1",
   "metadata": {},
   "outputs": [
    {
     "name": "stdout",
     "output_type": "stream",
     "text": [
      "756 /data/hodges_lab/Tim/finalAnalyses_HMRs/hp_lineage/HMRs/Bcell_internalClusters_individualHMRs_cellspecific_hpl.txt\n",
      "1844 /data/hodges_lab/Tim/finalAnalyses_HMRs/hp_lineage/HMRs/Bcell_unclustered_cellspecific_hpl.txt\n",
      "2270 /data/hodges_lab/Tim/ClusterTesting/Bcell_unclustered_hpl.RefSeqFilterFirst.cellspecific.txt\n"
     ]
    }
   ],
   "source": [
    "wc -l $CLUSTERED_CS_FILE\n",
    "wc -l $UNCLUSTERED_CS_FILE\n",
    "wc -l $UNCLUSTERED_CS_ALL_FILE"
   ]
  },
  {
   "cell_type": "code",
   "execution_count": 30,
   "id": "3ab776ab",
   "metadata": {},
   "outputs": [
    {
     "name": "stdout",
     "output_type": "stream",
     "text": [
      "Done.\n"
     ]
    }
   ],
   "source": [
    "# Initalize HMR files \n",
    "CLUSTERED_CS_FILE=/data/hodges_lab/Tim/finalAnalyses_HMRs/hp_lineage/HMRs/Bcell_internalClusters_individualHMRs_cellspecific_hpl.txt\n",
    "UNCLUSTERED_CS_FILE=/data/hodges_lab/Tim/finalAnalyses_HMRs/hp_lineage/HMRs/Bcell_unclustered_cellspecific_hpl.txt\n",
    "UNCLUSTERED_CS_ALL_FILE=/data/hodges_lab/Tim/ClusterTesting/Bcell_unclustered_hpl.RefSeqFilterFirst.cellspecific.txt\n",
    "\n",
    "awk 'BEGIN{OFS=FS=\"\\t\"}{print $1,$2,$3,\"Bcell_ClusteredCS\"}' ${CLUSTERED_CS_FILE} | bedtools sort -i - > ${INTER_DIR}Bcell.clustered_cs.tmp_sorted.txt\n",
    "awk 'BEGIN{OFS=FS=\"\\t\"}{print $1,$2,$3,\"Bcell_UnclusteredCS\"}' ${UNCLUSTERED_CS_FILE} | bedtools sort -i - > ${INTER_DIR}Bcell.unclustered_cs.tmp_sorted.txt\n",
    "awk 'BEGIN{OFS=FS=\"\\t\"}{print $1,$2,$3,\"Bcell_UnclusteredLooseCS\"}' ${UNCLUSTERED_CS_ALL_FILE} | bedtools sort -i - > ${INTER_DIR}Bcell.unclustered_loose_cs.tmp_sorted.txt\n",
    "\n",
    "echo \"Done.\""
   ]
  },
  {
   "cell_type": "code",
   "execution_count": null,
   "id": "0df3976d",
   "metadata": {},
   "outputs": [],
   "source": [
    "# Clusters contain cell specific "
   ]
  },
  {
   "cell_type": "code",
   "execution_count": 31,
   "id": "9e8ac8af",
   "metadata": {},
   "outputs": [
    {
     "name": "stdout",
     "output_type": "stream",
     "text": [
      "484 /data/hodges_lab/Tim/nnRNA_TPM_EHGM/intermediate_files/Bcell_internalClusters_hpl.containsCellSpecificHMR.txt\n"
     ]
    }
   ],
   "source": [
    "## How many clusters are represented by the individual clustered cell specific HMRs\n",
    "bedtools intersect -u -a /data/hodges_lab/Tim/finalAnalyses_HMRs/hp_lineage/HMRs/Bcell_internalClusters_hpl.txt -b /data/hodges_lab/Tim/finalAnalyses_HMRs/hp_lineage/HMRs/Bcell_internalClusters_individualHMRs_cellspecific_hpl.txt > ${INTER_DIR}Bcell_internalClusters_hpl.containsCellSpecificHMR.txt\n",
    "\n",
    "wc -l ${INTER_DIR}Bcell_internalClusters_hpl.containsCellSpecificHMR.txt\n",
    "\n",
    "awk 'BEGIN{OFS=FS=\"\\t\"}{print $1,$2,$3,\"Bcell_ClusteredCS\"}' ${INTER_DIR}Bcell_internalClusters_hpl.containsCellSpecificHMR.txt | bedtools sort -i - > ${INTER_DIR}Bcell_internalClusters_hpl.containsCellSpecificHMR.tmp_sorted.txt"
   ]
  },
  {
   "cell_type": "code",
   "execution_count": null,
   "id": "94b67699",
   "metadata": {},
   "outputs": [],
   "source": [
    "# Clusters contain cell specific - closest 2NN genes"
   ]
  },
  {
   "cell_type": "code",
   "execution_count": 32,
   "id": "6badf95b",
   "metadata": {},
   "outputs": [
    {
     "name": "stdout",
     "output_type": "stream",
     "text": [
      "Done.\n"
     ]
    }
   ],
   "source": [
    "bedtools closest -d -k 2 -a ${INTER_DIR}Bcell_internalClusters_hpl.containsCellSpecificHMR.tmp_sorted.txt -b ${REF_DIR}GM_ENSG_TPM_avg12_noVersion_hasHGNC_minTPM0.sorted.txt > ${INTER_DIR}Bcell_clusters_containsCS.2NN.GM_ENSGnoVersionGENESYMBOL_minTPM0.txt\n",
    "\n",
    "echo \"Done.\""
   ]
  },
  {
   "cell_type": "code",
   "execution_count": 10,
   "id": "6a6417da",
   "metadata": {},
   "outputs": [
    {
     "name": "stdout",
     "output_type": "stream",
     "text": [
      "Done.\n"
     ]
    }
   ],
   "source": [
    "# bedtools closest -d -k 2 -a ${INTER_DIR}Bcell.clustered_cs.tmp_sorted.txt -b ${REF_DIR}GM_ENSGGENESYMBOL_minTPM0.sorted.txt > ${INTER_DIR}Bcell_clustered_cellspecific.2NN.GM_ENSGGENESYMBOL_minTPM0.txt\n",
    "\n",
    "bedtools closest -d -k 2 -a ${INTER_DIR}Bcell.unclustered_cs.tmp_sorted.txt -b ${REF_DIR}GM_ENSG_TPM_avg12_noVersion_hasHGNC_minTPM0.sorted.txt > ${INTER_DIR}Bcell_unclustered_cellspecific.2NN.GM_ENSGnoVersionGENESYMBOL_minTPM0.txt\n",
    "\n",
    "echo \"Done.\""
   ]
  },
  {
   "cell_type": "code",
   "execution_count": 33,
   "id": "1fde91dd",
   "metadata": {},
   "outputs": [
    {
     "name": "stdout",
     "output_type": "stream",
     "text": [
      "Done.\n"
     ]
    }
   ],
   "source": [
    "# bedtools closest -d -k 2 -a ${INTER_DIR}Bcell.clustered_cs.tmp_sorted.txt -b ${REF_DIR}GM_ENSGGENESYMBOL_minTPM0.sorted.txt > ${INTER_DIR}Bcell_clustered_cellspecific.2NN.GM_ENSGGENESYMBOL_minTPM0.txt\n",
    "\n",
    "bedtools closest -d -k 2 -a ${INTER_DIR}Bcell.unclustered_loose_cs.tmp_sorted.txt -b ${REF_DIR}GM_ENSG_TPM_avg12_noVersion_hasHGNC_minTPM0.sorted.txt > ${INTER_DIR}Bcell_unclustered_loose_cellspecific.2NN.GM_ENSGnoVersionGENESYMBOL_minTPM0.txt\n",
    "\n",
    "echo \"Done.\""
   ]
  },
  {
   "cell_type": "code",
   "execution_count": null,
   "id": "bfc28045",
   "metadata": {},
   "outputs": [],
   "source": []
  },
  {
   "cell_type": "code",
   "execution_count": null,
   "id": "532fed0c",
   "metadata": {},
   "outputs": [],
   "source": []
  },
  {
   "cell_type": "code",
   "execution_count": null,
   "id": "09e18e39",
   "metadata": {},
   "outputs": [],
   "source": []
  },
  {
   "cell_type": "code",
   "execution_count": 34,
   "id": "0a0950f2",
   "metadata": {},
   "outputs": [
    {
     "name": "stdout",
     "output_type": "stream",
     "text": [
      "970 /data/hodges_lab/Tim/nnRNA_TPM_EHGM/intermediate_files/Bcell_clusters_containsCS.2NN.GM_ENSGnoVersionGENESYMBOL_minTPM0.txt\n",
      "3678 /data/hodges_lab/Tim/nnRNA_TPM_EHGM/intermediate_files/Bcell_unclustered_cellspecific.2NN.GM_ENSGnoVersionGENESYMBOL_minTPM0.txt\n",
      "4533 /data/hodges_lab/Tim/nnRNA_TPM_EHGM/intermediate_files/Bcell_unclustered_loose_cellspecific.2NN.GM_ENSGnoVersionGENESYMBOL_minTPM0.txt\n"
     ]
    }
   ],
   "source": [
    "wc -l ${INTER_DIR}Bcell_clusters_containsCS.2NN.GM_ENSGnoVersionGENESYMBOL_minTPM0.txt\n",
    "wc -l ${INTER_DIR}Bcell_unclustered_cellspecific.2NN.GM_ENSGnoVersionGENESYMBOL_minTPM0.txt\n",
    "wc -l ${INTER_DIR}Bcell_unclustered_loose_cellspecific.2NN.GM_ENSGnoVersionGENESYMBOL_minTPM0.txt"
   ]
  },
  {
   "cell_type": "code",
   "execution_count": 15,
   "id": "b74933bb",
   "metadata": {},
   "outputs": [
    {
     "name": "stdout",
     "output_type": "stream",
     "text": [
      "968 Bcell_clusters_containscellspecific.2NN.GM_ENSGGENESYMBOL_minTPM0.ContinuousBEDFormat.txt\n"
     ]
    }
   ],
   "source": [
    "wc -l Bcell_clusters_containscellspecific.2NN.GM_ENSGGENESYMBOL_minTPM0.ContinuousBEDFormat.txt"
   ]
  },
  {
   "cell_type": "markdown",
   "id": "06ba54bf",
   "metadata": {},
   "source": [
    "# TAD Filter"
   ]
  },
  {
   "cell_type": "code",
   "execution_count": 35,
   "id": "3464a492",
   "metadata": {},
   "outputs": [
    {
     "name": "stdout",
     "output_type": "stream",
     "text": [
      "Made continuous BED file.\n"
     ]
    }
   ],
   "source": [
    "# Intersect 2NN file with TADs\n",
    "\n",
    "# First, create an HMR-Gene end-to-end BED file:\n",
    "#\"ChrHMRProm\",\"StartHMRProm\",\"EndHMRProm\",\"ChrHMR\",\"StartHMR\",\"EndHMR\",\"ChrProm\",\"StartProm\",\"EndProm\",\"ENSEMBL\",\"TPM\",\"HMRPromDist\",\"HMRGroup\"\n",
    "\n",
    "# Check if HMR is before the TSS, else, TSS before  \n",
    "awk 'BEGIN{OFS=FS=\"\\t\"}{if ($2<$6)\n",
    "print $1,$2,$7,$1,$2,$3,$4,$5,$6,$7,$8,$9,$10,$11,$12;\n",
    "else print $1,$6,$3,$1,$2,$3,$4,$5,$6,$7,$8,$9,$10,$11,$12;\n",
    "}' ${INTER_DIR}Bcell_clusters_containsCS.2NN.GM_ENSGnoVersionGENESYMBOL_minTPM0.txt | awk 'BEGIN{OFS=FS=\"\\t\"}{if ($2!~/-1/) print}' - > ${INTER_DIR}Bcell_clusters_containsCS.2NN.GM_ENSGnoVersionGENESYMBOL_minTPM0.ContinuousBEDFormat.txt \n",
    "\n",
    "awk 'BEGIN{OFS=FS=\"\\t\"}{if ($2<$6)\n",
    "print $1,$2,$7,$1,$2,$3,$4,$5,$6,$7,$8,$9,$10,$11,$12;\n",
    "else print $1,$6,$3,$1,$2,$3,$4,$5,$6,$7,$8,$9,$10,$11,$12;\n",
    "}' ${INTER_DIR}Bcell_unclustered_cellspecific.2NN.GM_ENSGnoVersionGENESYMBOL_minTPM0.txt | awk 'BEGIN{OFS=FS=\"\\t\"}{if ($2!~/-1/) print}' - > ${INTER_DIR}Bcell_unclustered_cellspecific.2NN.GM_ENSGnoVersionGENESYMBOL_minTPM0.ContinuousBEDFormat.txt\n",
    "\n",
    "\n",
    "awk 'BEGIN{OFS=FS=\"\\t\"}{if ($2<$6)\n",
    "print $1,$2,$7,$1,$2,$3,$4,$5,$6,$7,$8,$9,$10,$11,$12;\n",
    "else print $1,$6,$3,$1,$2,$3,$4,$5,$6,$7,$8,$9,$10,$11,$12;\n",
    "}' ${INTER_DIR}Bcell_unclustered_loose_cellspecific.2NN.GM_ENSGnoVersionGENESYMBOL_minTPM0.txt | awk 'BEGIN{OFS=FS=\"\\t\"}{if ($2!~/-1/) print}' - > ${INTER_DIR}Bcell_unclustered_loose_cellspecific.2NN.GM_ENSGnoVersionGENESYMBOL_minTPM0.ContinuousBEDFormat.txt\n",
    "\n",
    "echo \"Made continuous BED file.\"\n"
   ]
  },
  {
   "cell_type": "code",
   "execution_count": 36,
   "id": "940989d1",
   "metadata": {},
   "outputs": [
    {
     "name": "stdout",
     "output_type": "stream",
     "text": [
      "Done.\n"
     ]
    }
   ],
   "source": [
    "bedtools intersect -f 1.0 -a ${INTER_DIR}Bcell_clusters_containsCS.2NN.GM_ENSGnoVersionGENESYMBOL_minTPM0.ContinuousBEDFormat.txt \\\n",
    "-b ${REF_DIR}GM12878_Lieberman-raw_TADs.txt > ${INTER_DIR}Bcell_clusters_containsCS.2NN.GM_ENSGnoVersionGENESYMBOL_minTPM0.TAD_filtered.txt\n",
    "\n",
    "bedtools intersect -f 1.0 -a ${INTER_DIR}Bcell_unclustered_cellspecific.2NN.GM_ENSGnoVersionGENESYMBOL_minTPM0.ContinuousBEDFormat.txt  \\\n",
    "-b ${REF_DIR}GM12878_Lieberman-raw_TADs.txt > ${INTER_DIR}Bcell_unclustered_cellspecific.2NN.GM_ENSGnoVersionGENESYMBOL_minTPM0.TAD_filtered.txt\n",
    "\n",
    "bedtools intersect -f 1.0 -a ${INTER_DIR}Bcell_unclustered_loose_cellspecific.2NN.GM_ENSGnoVersionGENESYMBOL_minTPM0.ContinuousBEDFormat.txt  \\\n",
    "-b ${REF_DIR}GM12878_Lieberman-raw_TADs.txt > ${INTER_DIR}Bcell_unclustered_loose_cellspecific.2NN.GM_ENSGnoVersionGENESYMBOL_minTPM0.TAD_filtered.txt\n",
    "\n",
    "\n",
    "echo \"Done.\""
   ]
  },
  {
   "cell_type": "code",
   "execution_count": 39,
   "id": "6a06aaaf",
   "metadata": {},
   "outputs": [
    {
     "name": "stdout",
     "output_type": "stream",
     "text": [
      "970 /data/hodges_lab/Tim/nnRNA_TPM_EHGM/intermediate_files/Bcell_clusters_containsCS.2NN.GM_ENSGnoVersionGENESYMBOL_minTPM0.ContinuousBEDFormat.txt\n",
      "760 /data/hodges_lab/Tim/nnRNA_TPM_EHGM/intermediate_files/Bcell_clusters_containsCS.2NN.GM_ENSGnoVersionGENESYMBOL_minTPM0.TAD_filtered.txt\n",
      "2492 /data/hodges_lab/Tim/nnRNA_TPM_EHGM/intermediate_files/Bcell_unclustered_cellspecific.2NN.GM_ENSGnoVersionGENESYMBOL_minTPM0.TAD_filtered.txt\n",
      "3227 /data/hodges_lab/Tim/nnRNA_TPM_EHGM/intermediate_files/Bcell_unclustered_loose_cellspecific.2NN.GM_ENSGnoVersionGENESYMBOL_minTPM0.TAD_filtered.txt\n"
     ]
    }
   ],
   "source": [
    "wc -l ${INTER_DIR}Bcell_clusters_containsCS.2NN.GM_ENSGnoVersionGENESYMBOL_minTPM0.ContinuousBEDFormat.txt\n",
    "wc -l ${INTER_DIR}Bcell_clusters_containsCS.2NN.GM_ENSGnoVersionGENESYMBOL_minTPM0.TAD_filtered.txt\n",
    "wc -l ${INTER_DIR}Bcell_unclustered_cellspecific.2NN.GM_ENSGnoVersionGENESYMBOL_minTPM0.TAD_filtered.txt\n",
    "wc -l ${INTER_DIR}Bcell_unclustered_loose_cellspecific.2NN.GM_ENSGnoVersionGENESYMBOL_minTPM0.TAD_filtered.txt"
   ]
  },
  {
   "cell_type": "markdown",
   "id": "c58146f5",
   "metadata": {},
   "source": [
    "# Remove gene reps "
   ]
  },
  {
   "cell_type": "code",
   "execution_count": 20,
   "id": "5b717348",
   "metadata": {},
   "outputs": [
    {
     "name": "stdout",
     "output_type": "stream",
     "text": [
      "[1] \"Loaded libraries.\"\n"
     ]
    }
   ],
   "source": [
    "library(tidyverse)\n",
    "library(ggplot2)\n",
    "library(ggpubr)\n",
    "\n",
    "#Set working directory \n",
    "setwd(\"/data/hodges_lab/Tim/nnRNA_TPM_EHGM/output_files/\")\n",
    "\n",
    "print(\"Loaded libraries.\")"
   ]
  },
  {
   "cell_type": "code",
   "execution_count": 21,
   "id": "6053ff66",
   "metadata": {},
   "outputs": [
    {
     "name": "stderr",
     "output_type": "stream",
     "text": [
      "\u001b[1mRows: \u001b[22m\u001b[34m760\u001b[39m \u001b[1mColumns: \u001b[22m\u001b[34m15\u001b[39m\n",
      "\u001b[36m──\u001b[39m \u001b[1mColumn specification\u001b[22m \u001b[36m────────────────────────────────────────────────────────\u001b[39m\n",
      "\u001b[1mDelimiter:\u001b[22m \"\\t\"\n",
      "\u001b[31mchr\u001b[39m (6): X1, X4, X7, X8, X13, X14\n",
      "\u001b[32mdbl\u001b[39m (9): X2, X3, X5, X6, X9, X10, X11, X12, X15\n",
      "\n",
      "\u001b[36mℹ\u001b[39m Use `spec()` to retrieve the full column specification for this data.\n",
      "\u001b[36mℹ\u001b[39m Specify the column types or set `show_col_types = FALSE` to quiet this message.\n",
      "\u001b[1mRows: \u001b[22m\u001b[34m2492\u001b[39m \u001b[1mColumns: \u001b[22m\u001b[34m15\u001b[39m\n",
      "\u001b[36m──\u001b[39m \u001b[1mColumn specification\u001b[22m \u001b[36m────────────────────────────────────────────────────────\u001b[39m\n",
      "\u001b[1mDelimiter:\u001b[22m \"\\t\"\n",
      "\u001b[31mchr\u001b[39m (6): X1, X4, X7, X8, X13, X14\n",
      "\u001b[32mdbl\u001b[39m (9): X2, X3, X5, X6, X9, X10, X11, X12, X15\n",
      "\n",
      "\u001b[36mℹ\u001b[39m Use `spec()` to retrieve the full column specification for this data.\n",
      "\u001b[36mℹ\u001b[39m Specify the column types or set `show_col_types = FALSE` to quiet this message.\n",
      "\u001b[1mRows: \u001b[22m\u001b[34m3227\u001b[39m \u001b[1mColumns: \u001b[22m\u001b[34m15\u001b[39m\n",
      "\u001b[36m──\u001b[39m \u001b[1mColumn specification\u001b[22m \u001b[36m────────────────────────────────────────────────────────\u001b[39m\n",
      "\u001b[1mDelimiter:\u001b[22m \"\\t\"\n",
      "\u001b[31mchr\u001b[39m (6): X1, X4, X7, X8, X13, X14\n",
      "\u001b[32mdbl\u001b[39m (9): X2, X3, X5, X6, X9, X10, X11, X12, X15\n",
      "\n",
      "\u001b[36mℹ\u001b[39m Use `spec()` to retrieve the full column specification for this data.\n",
      "\u001b[36mℹ\u001b[39m Specify the column types or set `show_col_types = FALSE` to quiet this message.\n"
     ]
    }
   ],
   "source": [
    "Bcell_clusters_containsCS.2NN.GM_ENSGnoVersionGENESYMBOL_minTPM0.TAD_filtered <- read_tsv(\"../intermediate_files/Bcell_clusters_containsCS.2NN.GM_ENSGnoVersionGENESYMBOL_minTPM0.TAD_filtered.txt\", col_names=F) %>% magrittr::set_colnames(c(\"ChrHMRTSS\",\"StartHMRTSS\",\"EndHMRTSS\",\"ChrHMR\",\"StartHMR\",\"EndHMR\",\"HMRGroup\",\"ChrTSS\",\"StartTSS\",\"EndTSS\",\"TPM\",\"strand\",\"GENE_SYMBOL\",\"ENSEMBL\",\"HMRTSSDist\")) \n",
    "\n",
    "\n",
    "Bcell_unclustered_cellspecific.2NN.GM_ENSGnoVersionGENESYMBOL_minTPM0.TAD_filtered <- read_tsv(\"../intermediate_files/Bcell_unclustered_cellspecific.2NN.GM_ENSGnoVersionGENESYMBOL_minTPM0.TAD_filtered.txt\", col_names=F) %>% magrittr::set_colnames(c(\"ChrHMRTSS\",\"StartHMRTSS\",\"EndHMRTSS\",\"ChrHMR\",\"StartHMR\",\"EndHMR\",\"HMRGroup\",\"ChrTSS\",\"StartTSS\",\"EndTSS\",\"TPM\",\"strand\",\"GENE_SYMBOL\",\"ENSEMBL\",\"HMRTSSDist\"))\n",
    "\n",
    "Bcell_unclustered_loose_cellspecific.2NN.GM_ENSGnoVersionGENESYMBOL_minTPM0.TAD_filtered <- read_tsv(\"../intermediate_files/Bcell_unclustered_loose_cellspecific.2NN.GM_ENSGnoVersionGENESYMBOL_minTPM0.TAD_filtered.txt\", col_names=F) %>% magrittr::set_colnames(c(\"ChrHMRTSS\",\"StartHMRTSS\",\"EndHMRTSS\",\"ChrHMR\",\"StartHMR\",\"EndHMR\",\"HMRGroup\",\"ChrTSS\",\"StartTSS\",\"EndTSS\",\"TPM\",\"strand\",\"GENE_SYMBOL\",\"ENSEMBL\",\"HMRTSSDist\"))"
   ]
  },
  {
   "cell_type": "markdown",
   "id": "b9e3ebc6",
   "metadata": {},
   "source": [
    "Remove rep call "
   ]
  },
  {
   "cell_type": "code",
   "execution_count": 22,
   "id": "9bd412fe",
   "metadata": {
    "scrolled": true
   },
   "outputs": [
    {
     "data": {
      "text/html": [
       "670"
      ],
      "text/latex": [
       "670"
      ],
      "text/markdown": [
       "670"
      ],
      "text/plain": [
       "[1] 670"
      ]
     },
     "metadata": {},
     "output_type": "display_data"
    },
    {
     "data": {
      "text/html": [
       "<table class=\"dataframe\">\n",
       "<caption>A tibble: 3 × 4</caption>\n",
       "<thead>\n",
       "\t<tr><th scope=col>ENSEMBL</th><th scope=col>TPM</th><th scope=col>HMRTSSDist</th><th scope=col>HMRGroup</th></tr>\n",
       "\t<tr><th scope=col>&lt;chr&gt;</th><th scope=col>&lt;dbl&gt;</th><th scope=col>&lt;dbl&gt;</th><th scope=col>&lt;chr&gt;</th></tr>\n",
       "</thead>\n",
       "<tbody>\n",
       "\t<tr><td>ENSG00000002822</td><td>21.650</td><td>304807</td><td>Bcell_clustered</td></tr>\n",
       "\t<tr><td>ENSG00000004848</td><td> 0.005</td><td>  9410</td><td>Bcell_clustered</td></tr>\n",
       "\t<tr><td>ENSG00000006116</td><td> 0.010</td><td>234975</td><td>Bcell_clustered</td></tr>\n",
       "</tbody>\n",
       "</table>\n"
      ],
      "text/latex": [
       "A tibble: 3 × 4\n",
       "\\begin{tabular}{llll}\n",
       " ENSEMBL & TPM & HMRTSSDist & HMRGroup\\\\\n",
       " <chr> & <dbl> & <dbl> & <chr>\\\\\n",
       "\\hline\n",
       "\t ENSG00000002822 & 21.650 & 304807 & Bcell\\_clustered\\\\\n",
       "\t ENSG00000004848 &  0.005 &   9410 & Bcell\\_clustered\\\\\n",
       "\t ENSG00000006116 &  0.010 & 234975 & Bcell\\_clustered\\\\\n",
       "\\end{tabular}\n"
      ],
      "text/markdown": [
       "\n",
       "A tibble: 3 × 4\n",
       "\n",
       "| ENSEMBL &lt;chr&gt; | TPM &lt;dbl&gt; | HMRTSSDist &lt;dbl&gt; | HMRGroup &lt;chr&gt; |\n",
       "|---|---|---|---|\n",
       "| ENSG00000002822 | 21.650 | 304807 | Bcell_clustered |\n",
       "| ENSG00000004848 |  0.005 |   9410 | Bcell_clustered |\n",
       "| ENSG00000006116 |  0.010 | 234975 | Bcell_clustered |\n",
       "\n"
      ],
      "text/plain": [
       "  ENSEMBL         TPM    HMRTSSDist HMRGroup       \n",
       "1 ENSG00000002822 21.650 304807     Bcell_clustered\n",
       "2 ENSG00000004848  0.005   9410     Bcell_clustered\n",
       "3 ENSG00000006116  0.010 234975     Bcell_clustered"
      ]
     },
     "metadata": {},
     "output_type": "display_data"
    },
    {
     "data": {
      "text/html": [
       "2068"
      ],
      "text/latex": [
       "2068"
      ],
      "text/markdown": [
       "2068"
      ],
      "text/plain": [
       "[1] 2068"
      ]
     },
     "metadata": {},
     "output_type": "display_data"
    },
    {
     "data": {
      "text/html": [
       "<table class=\"dataframe\">\n",
       "<caption>A tibble: 3 × 4</caption>\n",
       "<thead>\n",
       "\t<tr><th scope=col>ENSEMBL</th><th scope=col>TPM</th><th scope=col>HMRTSSDist</th><th scope=col>HMRGroup</th></tr>\n",
       "\t<tr><th scope=col>&lt;chr&gt;</th><th scope=col>&lt;dbl&gt;</th><th scope=col>&lt;dbl&gt;</th><th scope=col>&lt;chr&gt;</th></tr>\n",
       "</thead>\n",
       "<tbody>\n",
       "\t<tr><td>ENSG00000000460</td><td> 8.440</td><td>18308</td><td>Bcell_unclustered</td></tr>\n",
       "\t<tr><td>ENSG00000002549</td><td>51.545</td><td>15615</td><td>Bcell_unclustered</td></tr>\n",
       "\t<tr><td>ENSG00000002587</td><td> 0.185</td><td>40332</td><td>Bcell_unclustered</td></tr>\n",
       "</tbody>\n",
       "</table>\n"
      ],
      "text/latex": [
       "A tibble: 3 × 4\n",
       "\\begin{tabular}{llll}\n",
       " ENSEMBL & TPM & HMRTSSDist & HMRGroup\\\\\n",
       " <chr> & <dbl> & <dbl> & <chr>\\\\\n",
       "\\hline\n",
       "\t ENSG00000000460 &  8.440 & 18308 & Bcell\\_unclustered\\\\\n",
       "\t ENSG00000002549 & 51.545 & 15615 & Bcell\\_unclustered\\\\\n",
       "\t ENSG00000002587 &  0.185 & 40332 & Bcell\\_unclustered\\\\\n",
       "\\end{tabular}\n"
      ],
      "text/markdown": [
       "\n",
       "A tibble: 3 × 4\n",
       "\n",
       "| ENSEMBL &lt;chr&gt; | TPM &lt;dbl&gt; | HMRTSSDist &lt;dbl&gt; | HMRGroup &lt;chr&gt; |\n",
       "|---|---|---|---|\n",
       "| ENSG00000000460 |  8.440 | 18308 | Bcell_unclustered |\n",
       "| ENSG00000002549 | 51.545 | 15615 | Bcell_unclustered |\n",
       "| ENSG00000002587 |  0.185 | 40332 | Bcell_unclustered |\n",
       "\n"
      ],
      "text/plain": [
       "  ENSEMBL         TPM    HMRTSSDist HMRGroup         \n",
       "1 ENSG00000000460  8.440 18308      Bcell_unclustered\n",
       "2 ENSG00000002549 51.545 15615      Bcell_unclustered\n",
       "3 ENSG00000002587  0.185 40332      Bcell_unclustered"
      ]
     },
     "metadata": {},
     "output_type": "display_data"
    },
    {
     "data": {
      "text/html": [
       "2639"
      ],
      "text/latex": [
       "2639"
      ],
      "text/markdown": [
       "2639"
      ],
      "text/plain": [
       "[1] 2639"
      ]
     },
     "metadata": {},
     "output_type": "display_data"
    },
    {
     "data": {
      "text/html": [
       "<table class=\"dataframe\">\n",
       "<caption>A tibble: 3 × 4</caption>\n",
       "<thead>\n",
       "\t<tr><th scope=col>ENSEMBL</th><th scope=col>TPM</th><th scope=col>HMRTSSDist</th><th scope=col>HMRGroup</th></tr>\n",
       "\t<tr><th scope=col>&lt;chr&gt;</th><th scope=col>&lt;dbl&gt;</th><th scope=col>&lt;dbl&gt;</th><th scope=col>&lt;chr&gt;</th></tr>\n",
       "</thead>\n",
       "<tbody>\n",
       "\t<tr><td>ENSG00000000460</td><td> 8.440</td><td>18308</td><td>Bcell_unclustered</td></tr>\n",
       "\t<tr><td>ENSG00000002549</td><td>51.545</td><td>15615</td><td>Bcell_unclustered</td></tr>\n",
       "\t<tr><td>ENSG00000002587</td><td> 0.185</td><td>40332</td><td>Bcell_unclustered</td></tr>\n",
       "</tbody>\n",
       "</table>\n"
      ],
      "text/latex": [
       "A tibble: 3 × 4\n",
       "\\begin{tabular}{llll}\n",
       " ENSEMBL & TPM & HMRTSSDist & HMRGroup\\\\\n",
       " <chr> & <dbl> & <dbl> & <chr>\\\\\n",
       "\\hline\n",
       "\t ENSG00000000460 &  8.440 & 18308 & Bcell\\_unclustered\\\\\n",
       "\t ENSG00000002549 & 51.545 & 15615 & Bcell\\_unclustered\\\\\n",
       "\t ENSG00000002587 &  0.185 & 40332 & Bcell\\_unclustered\\\\\n",
       "\\end{tabular}\n"
      ],
      "text/markdown": [
       "\n",
       "A tibble: 3 × 4\n",
       "\n",
       "| ENSEMBL &lt;chr&gt; | TPM &lt;dbl&gt; | HMRTSSDist &lt;dbl&gt; | HMRGroup &lt;chr&gt; |\n",
       "|---|---|---|---|\n",
       "| ENSG00000000460 |  8.440 | 18308 | Bcell_unclustered |\n",
       "| ENSG00000002549 | 51.545 | 15615 | Bcell_unclustered |\n",
       "| ENSG00000002587 |  0.185 | 40332 | Bcell_unclustered |\n",
       "\n"
      ],
      "text/plain": [
       "  ENSEMBL         TPM    HMRTSSDist HMRGroup         \n",
       "1 ENSG00000000460  8.440 18308      Bcell_unclustered\n",
       "2 ENSG00000002549 51.545 15615      Bcell_unclustered\n",
       "3 ENSG00000002587  0.185 40332      Bcell_unclustered"
      ]
     },
     "metadata": {},
     "output_type": "display_data"
    }
   ],
   "source": [
    "Bcell_clusters_containsCS.2NN.GM_ENSGnoVersionGENESYMBOL_minTPM0.TAD_filtered.uniqueENSGTSS_TPM <- Bcell_clusters_containsCS.2NN.GM_ENSGnoVersionGENESYMBOL_minTPM0.TAD_filtered %>% dplyr::select(ENSEMBL, TPM, HMRTSSDist) %>% dplyr::distinct(ENSEMBL, TPM, .keep_all = TRUE) %>% mutate(HMRGroup = \"Bcell_clustered\") %>% arrange(ENSEMBL)\n",
    "\n",
    "Bcell_unclustered_cellspecific.2NN.GM_ENSGnoVersionGENESYMBOL_minTPM0.TAD_filtered.uniqueENSGTSS_TPM <- Bcell_unclustered_cellspecific.2NN.GM_ENSGnoVersionGENESYMBOL_minTPM0.TAD_filtered %>% dplyr::select(ENSEMBL, TPM, HMRTSSDist) %>% dplyr::distinct(ENSEMBL, TPM, .keep_all = TRUE) %>% mutate(HMRGroup = \"Bcell_unclustered\") %>% arrange(ENSEMBL)\n",
    "\n",
    "Bcell_unclustered_loose_cellspecific.2NN.GM_ENSGnoVersionGENESYMBOL_minTPM0.TAD_filtered.uniqueENSGTSS_TPM <- Bcell_unclustered_loose_cellspecific.2NN.GM_ENSGnoVersionGENESYMBOL_minTPM0.TAD_filtered %>% dplyr::select(ENSEMBL, TPM, HMRTSSDist) %>% dplyr::distinct(ENSEMBL, TPM, .keep_all = TRUE) %>% mutate(HMRGroup = \"Bcell_unclustered\") %>% arrange(ENSEMBL)\n",
    "\n",
    "nrow(Bcell_clusters_containsCS.2NN.GM_ENSGnoVersionGENESYMBOL_minTPM0.TAD_filtered.uniqueENSGTSS_TPM)\n",
    "head(Bcell_clusters_containsCS.2NN.GM_ENSGnoVersionGENESYMBOL_minTPM0.TAD_filtered.uniqueENSGTSS_TPM, 3)\n",
    "nrow(Bcell_unclustered_cellspecific.2NN.GM_ENSGnoVersionGENESYMBOL_minTPM0.TAD_filtered.uniqueENSGTSS_TPM)\n",
    "head(Bcell_unclustered_cellspecific.2NN.GM_ENSGnoVersionGENESYMBOL_minTPM0.TAD_filtered.uniqueENSGTSS_TPM, 3)\n",
    "nrow(Bcell_unclustered_loose_cellspecific.2NN.GM_ENSGnoVersionGENESYMBOL_minTPM0.TAD_filtered.uniqueENSGTSS_TPM)\n",
    "head(Bcell_unclustered_loose_cellspecific.2NN.GM_ENSGnoVersionGENESYMBOL_minTPM0.TAD_filtered.uniqueENSGTSS_TPM, 3)"
   ]
  },
  {
   "cell_type": "markdown",
   "id": "a1ed130b",
   "metadata": {},
   "source": [
    "# STATS"
   ]
  },
  {
   "cell_type": "code",
   "execution_count": 25,
   "id": "554804d3",
   "metadata": {},
   "outputs": [
    {
     "data": {
      "text/plain": [
       "\n",
       "\tWilcoxon rank sum test with continuity correction\n",
       "\n",
       "data:  Bcell_clusters_containsCS.2NN.GM_ENSGnoVersionGENESYMBOL_minTPM0.TAD_filtered.uniqueENSGTSS_TPM$TPM and Bcell_unclustered_loose_cellspecific.2NN.GM_ENSGnoVersionGENESYMBOL_minTPM0.TAD_filtered.uniqueENSGTSS_TPM$TPM\n",
       "W = 923002, p-value = 0.07788\n",
       "alternative hypothesis: true location shift is not equal to 0\n"
      ]
     },
     "metadata": {},
     "output_type": "display_data"
    }
   ],
   "source": [
    "wilcox.test(Bcell_clusters_containsCS.2NN.GM_ENSGnoVersionGENESYMBOL_minTPM0.TAD_filtered.uniqueENSGTSS_TPM$TPM, Bcell_unclustered_loose_cellspecific.2NN.GM_ENSGnoVersionGENESYMBOL_minTPM0.TAD_filtered.uniqueENSGTSS_TPM$TPM)"
   ]
  },
  {
   "cell_type": "code",
   "execution_count": 24,
   "id": "13f03ffc",
   "metadata": {
    "scrolled": true
   },
   "outputs": [
    {
     "data": {
      "text/plain": [
       "\n",
       "\tWilcoxon rank sum test with continuity correction\n",
       "\n",
       "data:  Bcell_clusters_containsCS.2NN.GM_ENSGnoVersionGENESYMBOL_minTPM0.TAD_filtered.uniqueENSGTSS_TPM$TPM and Bcell_unclustered_cellspecific.2NN.GM_ENSGnoVersionGENESYMBOL_minTPM0.TAD_filtered.uniqueENSGTSS_TPM$TPM\n",
       "W = 740714, p-value = 0.007028\n",
       "alternative hypothesis: true location shift is not equal to 0\n"
      ]
     },
     "metadata": {},
     "output_type": "display_data"
    }
   ],
   "source": [
    "wilcox.test(Bcell_clusters_containsCS.2NN.GM_ENSGnoVersionGENESYMBOL_minTPM0.TAD_filtered.uniqueENSGTSS_TPM$TPM, Bcell_unclustered_cellspecific.2NN.GM_ENSGnoVersionGENESYMBOL_minTPM0.TAD_filtered.uniqueENSGTSS_TPM$TPM)"
   ]
  },
  {
   "cell_type": "code",
   "execution_count": 4,
   "id": "6c994525",
   "metadata": {},
   "outputs": [
    {
     "data": {
      "text/plain": [
       "\n",
       "\tWilcoxon rank sum test with continuity correction\n",
       "\n",
       "data:  Bcell_clusters_containsCS.2NN.GM_ENSGnoVersionGENESYMBOL_minTPM0.TAD_filtered.uniqueENSGTSS_TPM$TPM and Bcell_unclustered_cellspecific.2NN.GM_ENSGnoVersionGENESYMBOL_minTPM0.TAD_filtered.uniqueENSGTSS_TPM$TPM\n",
       "W = 740714, p-value = 0.007028\n",
       "alternative hypothesis: true location shift is not equal to 0\n"
      ]
     },
     "metadata": {},
     "output_type": "display_data"
    }
   ],
   "source": [
    "wilcox.test(Bcell_clusters_containsCS.2NN.GM_ENSGnoVersionGENESYMBOL_minTPM0.TAD_filtered.uniqueENSGTSS_TPM$TPM, Bcell_unclustered_cellspecific.2NN.GM_ENSGnoVersionGENESYMBOL_minTPM0.TAD_filtered.uniqueENSGTSS_TPM$TPM)"
   ]
  },
  {
   "cell_type": "code",
   "execution_count": 5,
   "id": "0a588e28",
   "metadata": {},
   "outputs": [
    {
     "data": {
      "text/plain": [
       "\n",
       "\tWilcoxon rank sum test with continuity correction\n",
       "\n",
       "data:  Bcell_clusters_containsCS.2NN.GM_ENSGnoVersionGENESYMBOL_minTPM0.TAD_filtered.uniqueENSGTSS_TPM$TPM and Bcell_unclustered_loose_cellspecific.2NN.GM_ENSGnoVersionGENESYMBOL_minTPM0.TAD_filtered.uniqueENSGTSS_TPM$TPM\n",
       "W = 923002, p-value = 0.07788\n",
       "alternative hypothesis: true location shift is not equal to 0\n"
      ]
     },
     "metadata": {},
     "output_type": "display_data"
    }
   ],
   "source": [
    "wilcox.test(Bcell_clusters_containsCS.2NN.GM_ENSGnoVersionGENESYMBOL_minTPM0.TAD_filtered.uniqueENSGTSS_TPM$TPM, Bcell_unclustered_loose_cellspecific.2NN.GM_ENSGnoVersionGENESYMBOL_minTPM0.TAD_filtered.uniqueENSGTSS_TPM$TPM)"
   ]
  },
  {
   "cell_type": "code",
   "execution_count": 21,
   "id": "f0202820",
   "metadata": {},
   "outputs": [
    {
     "data": {
      "text/plain": [
       "\n",
       "\tWilcoxon rank sum test with continuity correction\n",
       "\n",
       "data:  Bcell_clusters_containsCS.2NN.GM_ENSGnoVersionGENESYMBOL_minTPM0.TAD_filtered.uniqueENSGTSS_TPM$TPM and Bcell_unclustered_cellspecific.2NN.GM_ENSGnoVersionGENESYMBOL_minTPM0.TAD_filtered.uniqueENSGTSS_TPM$TPM\n",
       "W = 740714, p-value = 0.007028\n",
       "alternative hypothesis: true location shift is not equal to 0\n"
      ]
     },
     "metadata": {},
     "output_type": "display_data"
    }
   ],
   "source": [
    "wilcox.test(Bcell_clusters_containsCS.2NN.GM_ENSGnoVersionGENESYMBOL_minTPM0.TAD_filtered.uniqueENSGTSS_TPM$TPM, Bcell_unclustered_cellspecific.2NN.GM_ENSGnoVersionGENESYMBOL_minTPM0.TAD_filtered.uniqueENSGTSS_TPM$TPM)"
   ]
  },
  {
   "cell_type": "code",
   "execution_count": 23,
   "id": "0b01370a",
   "metadata": {},
   "outputs": [
    {
     "ename": "ERROR",
     "evalue": "Error in group_by(., HMRGroup): object 'Bcell_clustersContainsCS_Unclustered.2NN.GM_ENSGnoVersionGENESYMBOL_minTPM0.TAD_filtered.uniqueENSGTSS_TPM.distBin' not found\n",
     "output_type": "error",
     "traceback": [
      "Error in group_by(., HMRGroup): object 'Bcell_clustersContainsCS_Unclustered.2NN.GM_ENSGnoVersionGENESYMBOL_minTPM0.TAD_filtered.uniqueENSGTSS_TPM.distBin' not found\nTraceback:\n",
      "1. Bcell_clustersContainsCS_Unclustered.2NN.GM_ENSGnoVersionGENESYMBOL_minTPM0.TAD_filtered.uniqueENSGTSS_TPM.distBin %>% \n .     group_by(HMRGroup) %>% summarise(n = n())",
      "2. summarise(., n = n())",
      "3. group_by(., HMRGroup)"
     ]
    }
   ],
   "source": [
    "Bcell_clustersContainsCS_Unclustered.2NN.GM_ENSGnoVersionGENESYMBOL_minTPM0.TAD_filtered.uniqueENSGTSS_TPM.distBin %>% \n",
    "  group_by(HMRGroup) %>% \n",
    "  summarise(n = n())\n",
    "\n",
    "Bcell_clustersContainsCS_Unclustered.2NN.GM_ENSGnoVersionGENESYMBOL_minTPM0.TAD_filtered.uniqueENSGTSS_TPM.distBin %>% \n",
    "  group_by(HMRGroup, distBin) %>% \n",
    "  summarise(n = n())\n"
   ]
  },
  {
   "cell_type": "markdown",
   "id": "73e05e84",
   "metadata": {},
   "source": [
    "# Plot"
   ]
  },
  {
   "cell_type": "code",
   "execution_count": 6,
   "id": "6720e906",
   "metadata": {},
   "outputs": [],
   "source": [
    "Bcell_clustersContainsCS_Unclustered.2NN.GM_ENSGnoVersionGENESYMBOL_minTPM0.TAD_filtered.uniqueENSGTSS_TPM <- \n",
    "rbind(Bcell_clusters_containsCS.2NN.GM_ENSGnoVersionGENESYMBOL_minTPM0.TAD_filtered.uniqueENSGTSS_TPM, Bcell_unclustered_cellspecific.2NN.GM_ENSGnoVersionGENESYMBOL_minTPM0.TAD_filtered.uniqueENSGTSS_TPM)\n",
    "\n",
    "\n",
    "Bcell_clustersContainsCS_UnclusteredLoose.2NN.GM_ENSGnoVersionGENESYMBOL_minTPM0.TAD_filtered.uniqueENSGTSS_TPM <- \n",
    "rbind(Bcell_clusters_containsCS.2NN.GM_ENSGnoVersionGENESYMBOL_minTPM0.TAD_filtered.uniqueENSGTSS_TPM, Bcell_unclustered_loose_cellspecific.2NN.GM_ENSGnoVersionGENESYMBOL_minTPM0.TAD_filtered.uniqueENSGTSS_TPM)"
   ]
  },
  {
   "cell_type": "code",
   "execution_count": 7,
   "id": "b3f0f794",
   "metadata": {},
   "outputs": [
    {
     "name": "stdout",
     "output_type": "stream",
     "text": [
      "[1] \"Done.\"\n",
      "[1] \"Done.\"\n"
     ]
    }
   ],
   "source": [
    "Bcell_clustersContainsCS_Unclustered.2NN.GM_ENSGnoVersionGENESYMBOL_minTPM0.TAD_filtered.uniqueENSGTSS_TPM.distBin <- Bcell_clustersContainsCS_Unclustered.2NN.GM_ENSGnoVersionGENESYMBOL_minTPM0.TAD_filtered.uniqueENSGTSS_TPM %>% \n",
    "  mutate(distBin = case_when(\n",
    "    HMRTSSDist < 10000 ~ \"0-10\",\n",
    "    HMRTSSDist >= 10000 & HMRTSSDist < 20000 ~ \"10-20\",\n",
    "    HMRTSSDist >= 20000 & HMRTSSDist < 30000 ~ \"20-30\",\n",
    "    HMRTSSDist >= 30000 & HMRTSSDist < 40000 ~ \"30-40\",\n",
    "    HMRTSSDist >= 40000 & HMRTSSDist < 50000 ~ \"40-50\",\n",
    "    HMRTSSDist >= 50000 & HMRTSSDist < 100000 ~ \"50-100\",\n",
    "    HMRTSSDist >= 100000 ~ \">100\"\n",
    "  ))\n",
    "\n",
    "print(\"Done.\")\n",
    "\n",
    "Bcell_clustersContainsCS_UnclusteredLoose.2NN.GM_ENSGnoVersionGENESYMBOL_minTPM0.TAD_filtered.uniqueENSGTSS_TPM.distBin <- Bcell_clustersContainsCS_UnclusteredLoose.2NN.GM_ENSGnoVersionGENESYMBOL_minTPM0.TAD_filtered.uniqueENSGTSS_TPM %>% \n",
    "  mutate(distBin = case_when(\n",
    "    HMRTSSDist < 10000 ~ \"0-10\",\n",
    "    HMRTSSDist >= 10000 & HMRTSSDist < 20000 ~ \"10-20\",\n",
    "    HMRTSSDist >= 20000 & HMRTSSDist < 30000 ~ \"20-30\",\n",
    "    HMRTSSDist >= 30000 & HMRTSSDist < 40000 ~ \"30-40\",\n",
    "    HMRTSSDist >= 40000 & HMRTSSDist < 50000 ~ \"40-50\",\n",
    "    HMRTSSDist >= 50000 & HMRTSSDist < 100000 ~ \"50-100\",\n",
    "    HMRTSSDist >= 100000 ~ \">100\"\n",
    "  ))\n",
    "\n",
    "print(\"Done.\")"
   ]
  },
  {
   "cell_type": "code",
   "execution_count": 8,
   "id": "9ee4fb3a",
   "metadata": {},
   "outputs": [
    {
     "name": "stdout",
     "output_type": "stream",
     "text": [
      "[1] \"Done.\"\n",
      "[1] \"Done.\"\n"
     ]
    }
   ],
   "source": [
    "Bcell_clustersContainsCS_Unclustered.2NN.GM_ENSGnoVersionGENESYMBOL_minTPM0.TAD_filtered.uniqueENSGTSS_TPM.distBin$distBin <- factor(Bcell_clustersContainsCS_Unclustered.2NN.GM_ENSGnoVersionGENESYMBOL_minTPM0.TAD_filtered.uniqueENSGTSS_TPM.distBin$distBin, levels = c(\"0-10\", \"10-20\", \"20-30\", \"30-40\", \"40-50\", \"50-100\", \">100\"))\n",
    "\n",
    "print(\"Done.\")\n",
    "\n",
    "Bcell_clustersContainsCS_UnclusteredLoose.2NN.GM_ENSGnoVersionGENESYMBOL_minTPM0.TAD_filtered.uniqueENSGTSS_TPM.distBin$distBin <- factor(Bcell_clustersContainsCS_UnclusteredLoose.2NN.GM_ENSGnoVersionGENESYMBOL_minTPM0.TAD_filtered.uniqueENSGTSS_TPM.distBin$distBin, levels = c(\"0-10\", \"10-20\", \"20-30\", \"30-40\", \"40-50\", \"50-100\", \">100\"))\n",
    "\n",
    "print(\"Done.\")"
   ]
  },
  {
   "cell_type": "code",
   "execution_count": 9,
   "id": "c833e360",
   "metadata": {},
   "outputs": [
    {
     "data": {
      "image/png": "[encoded data removed]",
      "text/plain": [
       "plot without title"
      ]
     },
     "metadata": {
      "image/png": {
       "height": 420,
       "width": 420
      }
     },
     "output_type": "display_data"
    },
    {
     "data": {
      "image/png": "[encoded data removed]",
      "text/plain": [
       "plot without title"
      ]
     },
     "metadata": {
      "image/png": {
       "height": 420,
       "width": 420
      }
     },
     "output_type": "display_data"
    }
   ],
   "source": [
    "ggplot(Bcell_clustersContainsCS_Unclustered.2NN.GM_ENSGnoVersionGENESYMBOL_minTPM0.TAD_filtered.uniqueENSGTSS_TPM.distBin, aes(x=HMRGroup, y=log10(TPM))) +\n",
    "  geom_boxplot(aes(fill=HMRGroup)) +\n",
    "  theme_classic() +\n",
    "  ggtitle(\"ENSGnoVersion_withGENESYMBOL Bcell - All\") +\n",
    "  theme(plot.title = element_text(hjust = 0.5, face = \"bold\")) +\n",
    "  xlab(\"HMR to Gene Distance\") +\n",
    "  ylab(\"log10(TPM)\") +\n",
    "  stat_compare_means(aes(group=HMRGroup), \n",
    "                     method=\"wilcox.test\",  \n",
    "                     method.args = list(alternative = \"two.sided\"),\n",
    "                     label=\"p\",\n",
    "                     label.y=6.25)\n",
    "\n",
    "ggplot(Bcell_clustersContainsCS_UnclusteredLoose.2NN.GM_ENSGnoVersionGENESYMBOL_minTPM0.TAD_filtered.uniqueENSGTSS_TPM.distBin, aes(x=HMRGroup, y=log10(TPM))) +\n",
    "  geom_boxplot(aes(fill=HMRGroup)) +\n",
    "  theme_classic() +\n",
    "  ggtitle(\"ENSGnoVersion_withGENESYMBOL Bcell - All\") +\n",
    "  theme(plot.title = element_text(hjust = 0.5, face = \"bold\")) +\n",
    "  xlab(\"HMR to Gene Distance\") +\n",
    "  ylab(\"log10(TPM)\") +\n",
    "  stat_compare_means(aes(group=HMRGroup), \n",
    "                     method=\"wilcox.test\",  \n",
    "                     method.args = list(alternative = \"two.sided\"),\n",
    "                     label=\"p\",\n",
    "                     label.y=6.25)"
   ]
  },
  {
   "cell_type": "code",
   "execution_count": 11,
   "id": "d317a060",
   "metadata": {},
   "outputs": [
    {
     "data": {
      "text/html": [
       "<strong>png:</strong> 2"
      ],
      "text/latex": [
       "\\textbf{png:} 2"
      ],
      "text/markdown": [
       "**png:** 2"
      ],
      "text/plain": [
       "png \n",
       "  2 "
      ]
     },
     "metadata": {},
     "output_type": "display_data"
    }
   ],
   "source": [
    "pdf(\"/data/hodges_lab/Tim/nnRNA.Clustered_vs_UnclusteredLoose.pdf\")\n",
    "\n",
    "ggplot(Bcell_clustersContainsCS_UnclusteredLoose.2NN.GM_ENSGnoVersionGENESYMBOL_minTPM0.TAD_filtered.uniqueENSGTSS_TPM.distBin, aes(x=HMRGroup, y=log10(TPM))) +\n",
    "  geom_boxplot(aes(fill=HMRGroup)) +\n",
    "  theme_classic() +\n",
    "  ggtitle(\"ENSGnoVersion_withGENESYMBOL Bcell - All\") +\n",
    "  theme(plot.title = element_text(hjust = 0.5, face = \"bold\")) +\n",
    "  xlab(\"HMR to Gene Distance\") +\n",
    "  ylab(\"log10(TPM)\") +\n",
    "  stat_compare_means(aes(group=HMRGroup), \n",
    "                     method=\"wilcox.test\",  \n",
    "                     method.args = list(alternative = \"two.sided\"),\n",
    "                     label=\"p\",\n",
    "                     label.y=6.25)\n",
    "\n",
    "dev.off()"
   ]
  },
  {
   "cell_type": "code",
   "execution_count": 19,
   "id": "7c2ddc16",
   "metadata": {},
   "outputs": [
    {
     "data": {
      "image/png": "[encoded data removed]",
      "text/plain": [
       "plot without title"
      ]
     },
     "metadata": {
      "image/png": {
       "height": 420,
       "width": 420
      }
     },
     "output_type": "display_data"
    }
   ],
   "source": [
    "ggplot(Bcell_clustersContainsCS_Unclustered.2NN.GM_ENSGnoVersionGENESYMBOL_minTPM0.TAD_filtered.uniqueENSGTSS_TPM.distBin, aes(x=distBin, y=log10(TPM))) +\n",
    "  geom_boxplot(aes(fill=HMRGroup), width = .5, position=position_dodge(.75)) +\n",
    "  theme_classic() +\n",
    "  ggtitle(\"ENSGnoVersion_withGENESYMBOL B cell - Binned by Distance\") +\n",
    "  theme(plot.title = element_text(hjust = 0.5, face = \"bold\")) +\n",
    "  xlab(\"HMR to Gene Distance\") +\n",
    "  ylab(\"log10(TPM)\") +\n",
    "  stat_compare_means(aes(group=HMRGroup), \n",
    "                     method=\"wilcox.test\",  \n",
    "                     method.args = list(alternative = \"two.sided\"),\n",
    "                     label=\"p\",\n",
    "                     label.y=6.25,\n",
    "                    size = 2.5) +\n",
    "  theme(aspect.ratio = .6)"
   ]
  },
  {
   "cell_type": "code",
   "execution_count": null,
   "id": "11affcab",
   "metadata": {},
   "outputs": [],
   "source": []
  },
  {
   "cell_type": "code",
   "execution_count": null,
   "id": "cf507260",
   "metadata": {},
   "outputs": [],
   "source": []
  },
  {
   "cell_type": "markdown",
   "id": "c9894889",
   "metadata": {},
   "source": [
    "# Plot fraction HMRs - 1 NN"
   ]
  },
  {
   "cell_type": "markdown",
   "id": "829a65b8",
   "metadata": {},
   "source": [
    "## Find 100NN"
   ]
  },
  {
   "cell_type": "code",
   "execution_count": 4,
   "id": "dcb6b3dc",
   "metadata": {},
   "outputs": [
    {
     "name": "stdout",
     "output_type": "stream",
     "text": [
      "Done.\n"
     ]
    }
   ],
   "source": [
    "HOME_DIR=/data/hodges_lab/Tim/nnRNA_TPM_EHGM/\n",
    "mkdir -p ${HOME_DIR}\n",
    "REF_DIR=${HOME_DIR}reference_files/\n",
    "\n",
    "# Directory \n",
    "mkdir -p ${HOME_DIR}intermediate_files\n",
    "cd ${HOME_DIR}intermediate_files\n",
    "\n",
    "INTER_DIR=${HOME_DIR}intermediate_files/\n",
    "REF_DIR=${HOME_DIR}reference_files/\n",
    "OUT_DIR=${HOME_DIR}output_files/\n",
    "\n",
    "echo \"Done.\""
   ]
  },
  {
   "cell_type": "code",
   "execution_count": 2,
   "id": "755cc9e7",
   "metadata": {},
   "outputs": [
    {
     "name": "stdout",
     "output_type": "stream",
     "text": [
      "Done.\n"
     ]
    }
   ],
   "source": [
    "# Bcell \n",
    "bedtools sort -i ${REF_DIR}GM_ENSG_TPM_avg12_noVersion_hasHGNC_minTPM0.txt | awk 'BEGIN{OFS=FS=\"\\t\"}{print }' - > ${REF_DIR}GM_ENSG_TPM_avg12_noVersion_hasHGNC_minTPM0.sorted.txt\n",
    "\n",
    "echo \"Done.\""
   ]
  },
  {
   "cell_type": "code",
   "execution_count": null,
   "id": "747e3e29",
   "metadata": {},
   "outputs": [],
   "source": []
  },
  {
   "cell_type": "markdown",
   "id": "8d5be4b1",
   "metadata": {},
   "source": [
    "## Continue - CL - UN - UN_LOOSE"
   ]
  },
  {
   "cell_type": "code",
   "execution_count": 6,
   "id": "308d72f7",
   "metadata": {},
   "outputs": [],
   "source": [
    "WRK_DIR=/data/hodges_lab/Tim/ClusterTesting/"
   ]
  },
  {
   "cell_type": "code",
   "execution_count": 5,
   "id": "33404201",
   "metadata": {},
   "outputs": [],
   "source": [
    "bedtools intersect -u -a ${WRK_DIR}Bcell_unclustered_hpl.RefSeqFilterFirst.txt -b /data/hodges_lab/Tim/finalAnalyses_HMRs/hp_lineage/HMRs/Bcell_all_cellspecific_hpl.txt > ${WRK_DIR}Bcell_unclustered_loose_hpl.cellspecific.txt "
   ]
  },
  {
   "cell_type": "code",
   "execution_count": 6,
   "id": "b33aaca4",
   "metadata": {},
   "outputs": [
    {
     "name": "stdout",
     "output_type": "stream",
     "text": [
      "Done.\n",
      "484 /data/hodges_lab/Tim/nnRNA_TPM_EHGM/intermediate_files/Bcell_internalClusters_hpl.containsCellSpecificHMR.txt\n",
      "Done.\n"
     ]
    }
   ],
   "source": [
    "# Initalize HMR files \n",
    "CLUSTERED_CS_FILE=/data/hodges_lab/Tim/finalAnalyses_HMRs/hp_lineage/HMRs/Bcell_internalClusters_individualHMRs_cellspecific_hpl.txt\n",
    "UNCLUSTERED_CS_FILE=/data/hodges_lab/Tim/finalAnalyses_HMRs/hp_lineage/HMRs/Bcell_unclustered_cellspecific_hpl.txt\n",
    "UNCLUSTERED_LOOSE_CS_FILE=${WRK_DIR}Bcell_unclustered_loose_hpl.cellspecific.txt \n",
    "\n",
    "awk 'BEGIN{OFS=FS=\"\\t\"}{print $1,$2,$3,\"Bcell_ClusteredCS\"}' ${CLUSTERED_CS_FILE} | bedtools sort -i - > ${INTER_DIR}Bcell.clustered_cs.tmp_sorted.txt\n",
    "awk 'BEGIN{OFS=FS=\"\\t\"}{print $1,$2,$3,\"Bcell_UnclusteredCS\"}' ${UNCLUSTERED_CS_FILE} | bedtools sort -i - > ${INTER_DIR}Bcell.unclustered_cs,.tmp_sorted.txt\n",
    "awk 'BEGIN{OFS=FS=\"\\t\"}{print $1,$2,$3,\"Bcell_UnclusteredCS\"}' ${UNCLUSTERED_LOOSE_CS_FILE} | bedtools sort -i - > ${WRK_DIR}Bcell_unclustered_hpl.RefSeqFilterFirst.cellspecific.txt\n",
    "\n",
    "echo \"Done.\"\n",
    "\n",
    "## How many clusters are represented by the individual clustered cell specific HMRs\n",
    "bedtools intersect -u -a /data/hodges_lab/Tim/finalAnalyses_HMRs/hp_lineage/HMRs/Bcell_internalClusters_hpl.txt -b /data/hodges_lab/Tim/finalAnalyses_HMRs/hp_lineage/HMRs/Bcell_internalClusters_individualHMRs_cellspecific_hpl.txt > ${INTER_DIR}Bcell_internalClusters_hpl.containsCellSpecificHMR.txt\n",
    "\n",
    "wc -l ${INTER_DIR}Bcell_internalClusters_hpl.containsCellSpecificHMR.txt\n",
    "\n",
    "awk 'BEGIN{OFS=FS=\"\\t\"}{print $1,$2,$3,\"Bcell_ClusteredCS\"}' ${INTER_DIR}Bcell_internalClusters_hpl.containsCellSpecificHMR.txt | bedtools sort -i - > ${INTER_DIR}Bcell_internalClusters_hpl.containsCellSpecificHMR.tmp_sorted.txt\n",
    "\n",
    "echo \"Done.\""
   ]
  },
  {
   "cell_type": "code",
   "execution_count": 7,
   "id": "47c78b21",
   "metadata": {},
   "outputs": [
    {
     "name": "stdout",
     "output_type": "stream",
     "text": [
      "Done.\n"
     ]
    }
   ],
   "source": [
    "bedtools closest -d -k 100 -a ${INTER_DIR}Bcell_internalClusters_hpl.containsCellSpecificHMR.tmp_sorted.txt -b ${REF_DIR}GM_ENSG_TPM_avg12_noVersion_hasHGNC_minTPM0.sorted.txt > ${INTER_DIR}Bcell_clusters_containsCS.100NN.GM_ENSGnoVersionGENESYMBOL_minTPM0.txt\n",
    "\n",
    "echo \"Done.\""
   ]
  },
  {
   "cell_type": "code",
   "execution_count": 8,
   "id": "7bcc3aa3",
   "metadata": {},
   "outputs": [
    {
     "name": "stdout",
     "output_type": "stream",
     "text": [
      "Done.\n"
     ]
    }
   ],
   "source": [
    "bedtools closest -d -k 100 -a ${INTER_DIR}Bcell.unclustered_cs.tmp_sorted.txt -b ${REF_DIR}GM_ENSG_TPM_avg12_noVersion_hasHGNC_minTPM0.sorted.txt > ${INTER_DIR}Bcell_unclustered_cellspecific.100NN.GM_ENSGnoVersionGENESYMBOL_minTPM0.txt\n",
    "\n",
    "echo \"Done.\""
   ]
  },
  {
   "cell_type": "code",
   "execution_count": 8,
   "id": "efce50ed",
   "metadata": {},
   "outputs": [
    {
     "name": "stdout",
     "output_type": "stream",
     "text": [
      "Done.\n"
     ]
    }
   ],
   "source": [
    "bedtools closest -d -k 100 -a ${WRK_DIR}Bcell_unclustered_hpl.RefSeqFilterFirst.cellspecific.txt -b ${REF_DIR}GM_ENSG_TPM_avg12_noVersion_hasHGNC_minTPM0.sorted.txt > ${INTER_DIR}Bcell_unclustered_loose_cellspecific.100NN.GM_ENSGnoVersionGENESYMBOL_minTPM0.txt\n",
    "\n",
    "echo \"Done.\""
   ]
  },
  {
   "cell_type": "markdown",
   "id": "c08b445c",
   "metadata": {},
   "source": [
    "## Find denominators"
   ]
  },
  {
   "cell_type": "code",
   "execution_count": 7,
   "id": "7eb89cd0",
   "metadata": {},
   "outputs": [
    {
     "name": "stdout",
     "output_type": "stream",
     "text": [
      "484 /data/hodges_lab/Tim/nnRNA_TPM_EHGM/intermediate_files/Bcell_internalClusters_hpl.containsCellSpecificHMR.tmp_sorted.txt\n",
      "1844 /data/hodges_lab/Tim/nnRNA_TPM_EHGM/intermediate_files/Bcell.unclustered_cs.tmp_sorted.txt\n",
      "2270 /data/hodges_lab/Tim/ClusterTesting/Bcell_unclustered_hpl.RefSeqFilterFirst.cellspecific.txt\n"
     ]
    }
   ],
   "source": [
    "wc -l ${INTER_DIR}Bcell_internalClusters_hpl.containsCellSpecificHMR.tmp_sorted.txt\n",
    "wc -l ${INTER_DIR}Bcell.unclustered_cs.tmp_sorted.txt\n",
    "wc -l ${WRK_DIR}Bcell_unclustered_hpl.RefSeqFilterFirst.cellspecific.txt"
   ]
  },
  {
   "cell_type": "code",
   "execution_count": 18,
   "id": "557a0c63",
   "metadata": {},
   "outputs": [
    {
     "name": "stdout",
     "output_type": "stream",
     "text": [
      "40\n",
      "444\n"
     ]
    }
   ],
   "source": [
    "awk 'BEGIN{OFS=FS=\"\\t\"}{if ($1==\"chrY\") print}' ${INTER_DIR}Bcell_internalClusters_hpl.containsCellSpecificHMR.tmp_sorted.txt | wc -l \n",
    "\n",
    "awk 'BEGIN{OFS=FS=\"\\t\"}{if ($1!=\"chrY\") print}' ${INTER_DIR}Bcell_internalClusters_hpl.containsCellSpecificHMR.tmp_sorted.txt | wc -l "
   ]
  },
  {
   "cell_type": "code",
   "execution_count": 19,
   "id": "cadcc7dd",
   "metadata": {},
   "outputs": [
    {
     "name": "stdout",
     "output_type": "stream",
     "text": [
      "223\n",
      "1621\n"
     ]
    }
   ],
   "source": [
    "awk 'BEGIN{OFS=FS=\"\\t\"}{if ($1==\"chrY\") print}' ${INTER_DIR}Bcell.unclustered_cs.tmp_sorted.txt | wc -l \n",
    "\n",
    "awk 'BEGIN{OFS=FS=\"\\t\"}{if ($1!=\"chrY\") print}' ${INTER_DIR}Bcell.unclustered_cs.tmp_sorted.txt | wc -l "
   ]
  },
  {
   "cell_type": "code",
   "execution_count": 20,
   "id": "efbd9190",
   "metadata": {},
   "outputs": [
    {
     "name": "stdout",
     "output_type": "stream",
     "text": [
      "230\n",
      "2040\n"
     ]
    }
   ],
   "source": [
    "awk 'BEGIN{OFS=FS=\"\\t\"}{if ($1==\"chrY\") print}' ${WRK_DIR}Bcell_unclustered_hpl.RefSeqFilterFirst.cellspecific.txt | wc -l \n",
    "\n",
    "awk 'BEGIN{OFS=FS=\"\\t\"}{if ($1!=\"chrY\") print}' ${WRK_DIR}Bcell_unclustered_hpl.RefSeqFilterFirst.cellspecific.txt | wc -l "
   ]
  },
  {
   "cell_type": "markdown",
   "id": "2d75e42c",
   "metadata": {},
   "source": [
    "## TAD Filter"
   ]
  },
  {
   "cell_type": "code",
   "execution_count": 9,
   "id": "1018e5f5",
   "metadata": {},
   "outputs": [
    {
     "name": "stdout",
     "output_type": "stream",
     "text": [
      "Made continuous BED file.\n"
     ]
    }
   ],
   "source": [
    "# Intersect 2NN file with TADs\n",
    "\n",
    "# First, create an HMR-Gene end-to-end BED file:\n",
    "#\"ChrHMRProm\",\"StartHMRProm\",\"EndHMRProm\",\"ChrHMR\",\"StartHMR\",\"EndHMR\",\"ChrProm\",\"StartProm\",\"EndProm\",\"ENSEMBL\",\"TPM\",\"HMRPromDist\",\"HMRGroup\"\n",
    "\n",
    "# Check if HMR is before the TSS, else, TSS before  \n",
    "awk 'BEGIN{OFS=FS=\"\\t\"}{if ($2<$6)\n",
    "print $1,$2,$7,$1,$2,$3,$4,$5,$6,$7,$8,$9,$10,$11,$12;\n",
    "else print $1,$6,$3,$1,$2,$3,$4,$5,$6,$7,$8,$9,$10,$11,$12;\n",
    "}' ${INTER_DIR}Bcell_clusters_containsCS.100NN.GM_ENSGnoVersionGENESYMBOL_minTPM0.txt | awk 'BEGIN{OFS=FS=\"\\t\"}{if ($2!~/-1/) print}' - > b\n",
    "\n",
    "awk 'BEGIN{OFS=FS=\"\\t\"}{if ($2<$6)\n",
    "print $1,$2,$7,$1,$2,$3,$4,$5,$6,$7,$8,$9,$10,$11,$12;\n",
    "else print $1,$6,$3,$1,$2,$3,$4,$5,$6,$7,$8,$9,$10,$11,$12;\n",
    "}' ${INTER_DIR}Bcell_unclustered_cellspecific.100NN.GM_ENSGnoVersionGENESYMBOL_minTPM0.txt | awk 'BEGIN{OFS=FS=\"\\t\"}{if ($2!~/-1/) print}' - > ${INTER_DIR}Bcell_unclustered_cellspecific.100NN.GM_ENSGnoVersionGENESYMBOL_minTPM0.ContinuousBEDFormat.txt\n",
    "\n",
    "#################### NEED TO EDIT\n",
    "awk 'BEGIN{OFS=FS=\"\\t\"}{if ($2<$6)\n",
    "print $1,$2,$7,$1,$2,$3,$4,$5,$6,$7,$8,$9,$10,$11,$12;\n",
    "else print $1,$6,$3,$1,$2,$3,$4,$5,$6,$7,$8,$9,$10,$11,$12;\n",
    "}' ${INTER_DIR}Bcell_unclustered_loose_cellspecific.100NN.GM_ENSGnoVersionGENESYMBOL_minTPM0.txt | awk 'BEGIN{OFS=FS=\"\\t\"}{if ($2!~/-1/) print}' - > ${INTER_DIR}Bcell_unclustered_loose_cellspecific.100NN.GM_ENSGnoVersionGENESYMBOL_minTPM0.ContinuousBEDFormat.txt\n",
    "\n",
    "\n",
    "\n",
    "\n",
    "echo \"Made continuous BED file.\"\n"
   ]
  },
  {
   "cell_type": "code",
   "execution_count": 10,
   "id": "86e4422b",
   "metadata": {},
   "outputs": [
    {
     "name": "stdout",
     "output_type": "stream",
     "text": [
      "45165 /data/hodges_lab/Tim/nnRNA_TPM_EHGM/intermediate_files/Bcell_clusters_containsCS.100NN.GM_ENSGnoVersionGENESYMBOL_minTPM0.ContinuousBEDFormat.txt\n",
      "165145 /data/hodges_lab/Tim/nnRNA_TPM_EHGM/intermediate_files/Bcell_unclustered_cellspecific.100NN.GM_ENSGnoVersionGENESYMBOL_minTPM0.ContinuousBEDFormat.txt\n",
      "207180 /data/hodges_lab/Tim/nnRNA_TPM_EHGM/intermediate_files/Bcell_unclustered_loose_cellspecific.100NN.GM_ENSGnoVersionGENESYMBOL_minTPM0.ContinuousBEDFormat.txt\n"
     ]
    }
   ],
   "source": [
    "wc -l ${INTER_DIR}Bcell_clusters_containsCS.100NN.GM_ENSGnoVersionGENESYMBOL_minTPM0.ContinuousBEDFormat.txt \n",
    "wc -l ${INTER_DIR}Bcell_unclustered_cellspecific.100NN.GM_ENSGnoVersionGENESYMBOL_minTPM0.ContinuousBEDFormat.txt\n",
    "wc -l ${INTER_DIR}Bcell_unclustered_loose_cellspecific.100NN.GM_ENSGnoVersionGENESYMBOL_minTPM0.ContinuousBEDFormat.txt"
   ]
  },
  {
   "cell_type": "code",
   "execution_count": 11,
   "id": "0aa64bb0",
   "metadata": {},
   "outputs": [
    {
     "name": "stdout",
     "output_type": "stream",
     "text": [
      "Done.\n",
      "Done.\n",
      "Done.\n"
     ]
    }
   ],
   "source": [
    "bedtools intersect -f 1.0 -a ${INTER_DIR}Bcell_clusters_containsCS.100NN.GM_ENSGnoVersionGENESYMBOL_minTPM0.ContinuousBEDFormat.txt \\\n",
    "-b ${REF_DIR}GM12878_Lieberman-raw_TADs.txt > ${INTER_DIR}Bcell_clusters_containsCS.100NN.GM_ENSGnoVersionGENESYMBOL_minTPM0.TAD_filtered.txt\n",
    "\n",
    "echo \"Done.\"\n",
    "\n",
    "\n",
    "bedtools intersect -f 1.0 -a ${INTER_DIR}Bcell_unclustered_cellspecific.100NN.GM_ENSGnoVersionGENESYMBOL_minTPM0.ContinuousBEDFormat.txt  \\\n",
    "-b ${REF_DIR}GM12878_Lieberman-raw_TADs.txt > ${INTER_DIR}Bcell_unclustered_cellspecific.100NN.GM_ENSGnoVersionGENESYMBOL_minTPM0.TAD_filtered.txt\n",
    "\n",
    "echo \"Done.\"\n",
    "\n",
    "\n",
    "bedtools intersect -f 1.0 -a ${INTER_DIR}Bcell_unclustered_loose_cellspecific.100NN.GM_ENSGnoVersionGENESYMBOL_minTPM0.ContinuousBEDFormat.txt  \\\n",
    "-b ${REF_DIR}GM12878_Lieberman-raw_TADs.txt > ${INTER_DIR}Bcell_unclustered_loose_cellspecific.100NN.GM_ENSGnoVersionGENESYMBOL_minTPM0.TAD_filtered.txt\n",
    "\n",
    "echo \"Done.\""
   ]
  },
  {
   "cell_type": "markdown",
   "id": "433062e8",
   "metadata": {},
   "source": [
    "## Filter down to 1NN per HMR"
   ]
  },
  {
   "cell_type": "code",
   "execution_count": 1,
   "id": "e7a371a4",
   "metadata": {},
   "outputs": [
    {
     "name": "stderr",
     "output_type": "stream",
     "text": [
      "── \u001b[1mAttaching packages\u001b[22m ─────────────────────────────────────── tidyverse 1.3.1 ──\n",
      "\n",
      "\u001b[32m✔\u001b[39m \u001b[34mggplot2\u001b[39m 3.3.6     \u001b[32m✔\u001b[39m \u001b[34mpurrr  \u001b[39m 1.0.1\n",
      "\u001b[32m✔\u001b[39m \u001b[34mtibble \u001b[39m 3.2.1     \u001b[32m✔\u001b[39m \u001b[34mdplyr  \u001b[39m 1.1.1\n",
      "\u001b[32m✔\u001b[39m \u001b[34mtidyr  \u001b[39m 1.3.0     \u001b[32m✔\u001b[39m \u001b[34mstringr\u001b[39m 1.5.0\n",
      "\u001b[32m✔\u001b[39m \u001b[34mreadr  \u001b[39m 2.1.2     \u001b[32m✔\u001b[39m \u001b[34mforcats\u001b[39m 0.5.1\n",
      "\n",
      "── \u001b[1mConflicts\u001b[22m ────────────────────────────────────────── tidyverse_conflicts() ──\n",
      "\u001b[31m✖\u001b[39m \u001b[34mdplyr\u001b[39m::\u001b[32mfilter()\u001b[39m masks \u001b[34mstats\u001b[39m::filter()\n",
      "\u001b[31m✖\u001b[39m \u001b[34mdplyr\u001b[39m::\u001b[32mlag()\u001b[39m    masks \u001b[34mstats\u001b[39m::lag()\n",
      "\n"
     ]
    },
    {
     "name": "stdout",
     "output_type": "stream",
     "text": [
      "[1] \"Loaded libraries.\"\n"
     ]
    }
   ],
   "source": [
    "library(tidyverse)\n",
    "library(ggplot2)\n",
    "library(ggpubr)\n",
    "\n",
    "#Set working directory \n",
    "setwd(\"/data/hodges_lab/Tim/nnRNA_TPM_EHGM/output_files/\")\n",
    "\n",
    "print(\"Loaded libraries.\")"
   ]
  },
  {
   "cell_type": "code",
   "execution_count": 2,
   "id": "01c1c12d",
   "metadata": {},
   "outputs": [
    {
     "name": "stderr",
     "output_type": "stream",
     "text": [
      "\u001b[1mRows: \u001b[22m\u001b[34m4210\u001b[39m \u001b[1mColumns: \u001b[22m\u001b[34m15\u001b[39m\n",
      "\u001b[36m──\u001b[39m \u001b[1mColumn specification\u001b[22m \u001b[36m────────────────────────────────────────────────────────\u001b[39m\n",
      "\u001b[1mDelimiter:\u001b[22m \"\\t\"\n",
      "\u001b[31mchr\u001b[39m (6): chr, numHMRs, X7, X8, X13, X14\n",
      "\u001b[32mdbl\u001b[39m (9): start, end, X5, X6, X9, X10, X11, X12, X15\n",
      "\n",
      "\u001b[36mℹ\u001b[39m Use `spec()` to retrieve the full column specification for this data.\n",
      "\u001b[36mℹ\u001b[39m Specify the column types or set `show_col_types = FALSE` to quiet this message.\n",
      "\u001b[1mRows: \u001b[22m\u001b[34m11105\u001b[39m \u001b[1mColumns: \u001b[22m\u001b[34m15\u001b[39m\n",
      "\u001b[36m──\u001b[39m \u001b[1mColumn specification\u001b[22m \u001b[36m────────────────────────────────────────────────────────\u001b[39m\n",
      "\u001b[1mDelimiter:\u001b[22m \"\\t\"\n",
      "\u001b[31mchr\u001b[39m (6): chr, X4, X7, X8, X13, X14\n",
      "\u001b[32mdbl\u001b[39m (9): start, end, X5, X6, X9, X10, X11, X12, X15\n",
      "\n",
      "\u001b[36mℹ\u001b[39m Use `spec()` to retrieve the full column specification for this data.\n",
      "\u001b[36mℹ\u001b[39m Specify the column types or set `show_col_types = FALSE` to quiet this message.\n",
      "\u001b[1mRows: \u001b[22m\u001b[34m15496\u001b[39m \u001b[1mColumns: \u001b[22m\u001b[34m15\u001b[39m\n",
      "\u001b[36m──\u001b[39m \u001b[1mColumn specification\u001b[22m \u001b[36m────────────────────────────────────────────────────────\u001b[39m\n",
      "\u001b[1mDelimiter:\u001b[22m \"\\t\"\n",
      "\u001b[31mchr\u001b[39m (6): chr, X4, X7, X8, X13, X14\n",
      "\u001b[32mdbl\u001b[39m (9): start, end, X5, X6, X9, X10, X11, X12, X15\n",
      "\n",
      "\u001b[36mℹ\u001b[39m Use `spec()` to retrieve the full column specification for this data.\n",
      "\u001b[36mℹ\u001b[39m Specify the column types or set `show_col_types = FALSE` to quiet this message.\n"
     ]
    }
   ],
   "source": [
    "Bcell_clusters_containsCS <- read_tsv(\"/data/hodges_lab/Tim/nnRNA_TPM_EHGM/intermediate_files/Bcell_clusters_containsCS.100NN.GM_ENSGnoVersionGENESYMBOL_minTPM0.TAD_filtered.txt\", col_names = c(\"chr\",\"start\",\"end\",\"numHMRs\"))\n",
    "\n",
    "Bcell_unclustered_CS <- \n",
    "read_tsv(\"/data/hodges_lab/Tim/nnRNA_TPM_EHGM/intermediate_files/Bcell_unclustered_cellspecific.100NN.GM_ENSGnoVersionGENESYMBOL_minTPM0.TAD_filtered.txt\",  col_names = c(\"chr\",\"start\",\"end\"))\n",
    "\n",
    "Bcell_unclustered_loose_CS <- \n",
    "read_tsv(\"/data/hodges_lab/Tim/nnRNA_TPM_EHGM/intermediate_files/Bcell_unclustered_loose_cellspecific.100NN.GM_ENSGnoVersionGENESYMBOL_minTPM0.TAD_filtered.txt\",  col_names = c(\"chr\",\"start\",\"end\"))"
   ]
  },
  {
   "cell_type": "code",
   "execution_count": null,
   "id": "84f18250",
   "metadata": {},
   "outputs": [],
   "source": []
  },
  {
   "cell_type": "code",
   "execution_count": 4,
   "id": "45ce1db7",
   "metadata": {
    "scrolled": false
   },
   "outputs": [
    {
     "data": {
      "text/html": [
       "4210"
      ],
      "text/latex": [
       "4210"
      ],
      "text/markdown": [
       "4210"
      ],
      "text/plain": [
       "[1] 4210"
      ]
     },
     "metadata": {},
     "output_type": "display_data"
    }
   ],
   "source": [
    "Bcell_clusters_containsCS %>% filter(chr!=\"chrY\") %>% nrow()"
   ]
  },
  {
   "cell_type": "code",
   "execution_count": 4,
   "id": "48766afc",
   "metadata": {
    "scrolled": true
   },
   "outputs": [
    {
     "data": {
      "text/html": [
       "11105"
      ],
      "text/latex": [
       "11105"
      ],
      "text/markdown": [
       "11105"
      ],
      "text/plain": [
       "[1] 11105"
      ]
     },
     "metadata": {},
     "output_type": "display_data"
    }
   ],
   "source": [
    "Bcell_unclustered_CS %>% filter(chr!=\"chrY\") %>% nrow()"
   ]
  },
  {
   "cell_type": "code",
   "execution_count": 3,
   "id": "888c2835",
   "metadata": {
    "scrolled": true
   },
   "outputs": [
    {
     "data": {
      "text/html": [
       "15496"
      ],
      "text/latex": [
       "15496"
      ],
      "text/markdown": [
       "15496"
      ],
      "text/plain": [
       "[1] 15496"
      ]
     },
     "metadata": {},
     "output_type": "display_data"
    }
   ],
   "source": [
    "Bcell_unclustered_loose_CS %>% filter(chr!=\"chrY\") %>% nrow()"
   ]
  },
  {
   "cell_type": "code",
   "execution_count": 3,
   "id": "6b8da729",
   "metadata": {},
   "outputs": [
    {
     "name": "stderr",
     "output_type": "stream",
     "text": [
      "\u001b[1mRows: \u001b[22m\u001b[34m4210\u001b[39m \u001b[1mColumns: \u001b[22m\u001b[34m15\u001b[39m\n",
      "\u001b[36m──\u001b[39m \u001b[1mColumn specification\u001b[22m \u001b[36m────────────────────────────────────────────────────────\u001b[39m\n",
      "\u001b[1mDelimiter:\u001b[22m \"\\t\"\n",
      "\u001b[31mchr\u001b[39m (6): X1, X4, X7, X8, X13, X14\n",
      "\u001b[32mdbl\u001b[39m (9): X2, X3, X5, X6, X9, X10, X11, X12, X15\n",
      "\n",
      "\u001b[36mℹ\u001b[39m Use `spec()` to retrieve the full column specification for this data.\n",
      "\u001b[36mℹ\u001b[39m Specify the column types or set `show_col_types = FALSE` to quiet this message.\n",
      "\u001b[1mRows: \u001b[22m\u001b[34m11105\u001b[39m \u001b[1mColumns: \u001b[22m\u001b[34m15\u001b[39m\n",
      "\u001b[36m──\u001b[39m \u001b[1mColumn specification\u001b[22m \u001b[36m────────────────────────────────────────────────────────\u001b[39m\n",
      "\u001b[1mDelimiter:\u001b[22m \"\\t\"\n",
      "\u001b[31mchr\u001b[39m (6): X1, X4, X7, X8, X13, X14\n",
      "\u001b[32mdbl\u001b[39m (9): X2, X3, X5, X6, X9, X10, X11, X12, X15\n",
      "\n",
      "\u001b[36mℹ\u001b[39m Use `spec()` to retrieve the full column specification for this data.\n",
      "\u001b[36mℹ\u001b[39m Specify the column types or set `show_col_types = FALSE` to quiet this message.\n",
      "\u001b[1mRows: \u001b[22m\u001b[34m15496\u001b[39m \u001b[1mColumns: \u001b[22m\u001b[34m15\u001b[39m\n",
      "\u001b[36m──\u001b[39m \u001b[1mColumn specification\u001b[22m \u001b[36m────────────────────────────────────────────────────────\u001b[39m\n",
      "\u001b[1mDelimiter:\u001b[22m \"\\t\"\n",
      "\u001b[31mchr\u001b[39m (6): X1, X4, X7, X8, X13, X14\n",
      "\u001b[32mdbl\u001b[39m (9): X2, X3, X5, X6, X9, X10, X11, X12, X15\n",
      "\n",
      "\u001b[36mℹ\u001b[39m Use `spec()` to retrieve the full column specification for this data.\n",
      "\u001b[36mℹ\u001b[39m Specify the column types or set `show_col_types = FALSE` to quiet this message.\n"
     ]
    }
   ],
   "source": [
    "Bcell_clusters_containsCS.100NN.GM_ENSGnoVersionGENESYMBOL_minTPM0.TAD_filtered <- read_tsv(\"../intermediate_files/Bcell_clusters_containsCS.100NN.GM_ENSGnoVersionGENESYMBOL_minTPM0.TAD_filtered.txt\", col_names=F) %>% magrittr::set_colnames(c(\"ChrHMRTSS\",\"StartHMRTSS\",\"EndHMRTSS\",\"ChrHMR\",\"StartHMR\",\"EndHMR\",\"HMRGroup\",\"ChrTSS\",\"StartTSS\",\"EndTSS\",\"TPM\",\"strand\",\"GENE_SYMBOL\",\"ENSEMBL\",\"HMRTSSDist\")) \n",
    "\n",
    "\n",
    "Bcell_unclustered_cellspecific.100NN.GM_ENSGnoVersionGENESYMBOL_minTPM0.TAD_filtered <- read_tsv(\"../intermediate_files/Bcell_unclustered_cellspecific.100NN.GM_ENSGnoVersionGENESYMBOL_minTPM0.TAD_filtered.txt\", col_names=F) %>% magrittr::set_colnames(c(\"ChrHMRTSS\",\"StartHMRTSS\",\"EndHMRTSS\",\"ChrHMR\",\"StartHMR\",\"EndHMR\",\"HMRGroup\",\"ChrTSS\",\"StartTSS\",\"EndTSS\",\"TPM\",\"strand\",\"GENE_SYMBOL\",\"ENSEMBL\",\"HMRTSSDist\"))\n",
    "\n",
    "Bcell_unclustered_loose_cellspecific.100NN.GM_ENSGnoVersionGENESYMBOL_minTPM0.TAD_filtered <- read_tsv(\"../intermediate_files/Bcell_unclustered_loose_cellspecific.100NN.GM_ENSGnoVersionGENESYMBOL_minTPM0.TAD_filtered.txt\", col_names=F) %>% magrittr::set_colnames(c(\"ChrHMRTSS\",\"StartHMRTSS\",\"EndHMRTSS\",\"ChrHMR\",\"StartHMR\",\"EndHMR\",\"HMRGroup\",\"ChrTSS\",\"StartTSS\",\"EndTSS\",\"TPM\",\"strand\",\"GENE_SYMBOL\",\"ENSEMBL\",\"HMRTSSDist\"))"
   ]
  },
  {
   "cell_type": "code",
   "execution_count": null,
   "id": "e344b0f2",
   "metadata": {},
   "outputs": [],
   "source": [
    "#### Proportion of Clusters(w/ CS) (out of 444 - no chrY) - TAD FILTER"
   ]
  },
  {
   "cell_type": "code",
   "execution_count": 4,
   "id": "073ee928",
   "metadata": {},
   "outputs": [
    {
     "data": {
      "text/html": [
       "424"
      ],
      "text/latex": [
       "424"
      ],
      "text/markdown": [
       "424"
      ],
      "text/plain": [
       "[1] 424"
      ]
     },
     "metadata": {},
     "output_type": "display_data"
    }
   ],
   "source": [
    "Bcell_clusters_containsCS.100NN.GM_ENSGnoVersionGENESYMBOL_minTPM0.TAD_filtered %>% \n",
    "group_by(ChrHMR, StartHMR) %>% # Group by each HMR\n",
    "top_n(n = 1, wt = -HMRTSSDist) %>%  # Take top row by lowest Distance\n",
    "top_n(n = 1, wt = TPM) %>%  # Might overlap two genes or have a tie in dist. Take top TPM\n",
    "top_n(n = 1, wt = GENE_SYMBOL) %>%  # Might still overlap two genes with same TPM (often 0TPM), so take first alphabetically\n",
    "nrow()"
   ]
  },
  {
   "cell_type": "code",
   "execution_count": null,
   "id": "e58fcbaa",
   "metadata": {},
   "outputs": [],
   "source": [
    "#### Proportion of Clusters(w/ CS) (out of 444 - no chrY) -  TAD FILTER"
   ]
  },
  {
   "cell_type": "code",
   "execution_count": 5,
   "id": "916164fb",
   "metadata": {},
   "outputs": [
    {
     "data": {
      "text/html": [
       "1480"
      ],
      "text/latex": [
       "1480"
      ],
      "text/markdown": [
       "1480"
      ],
      "text/plain": [
       "[1] 1480"
      ]
     },
     "metadata": {},
     "output_type": "display_data"
    }
   ],
   "source": [
    "Bcell_unclustered_cellspecific.100NN.GM_ENSGnoVersionGENESYMBOL_minTPM0.TAD_filtered %>%\n",
    "group_by(ChrHMR, StartHMR) %>% # Group by each HMR\n",
    "top_n(n = 1, wt = -HMRTSSDist) %>%  # Take top row by lowest Distance\n",
    "top_n(n = 1, wt = TPM) %>%  # Might overlap two genes or have a tie in dist. Take top TPM\n",
    "top_n(n = 1, wt = GENE_SYMBOL) %>%  # Might still overlap two genes with same TPM (often 0TPM), so take first alphabetically\n",
    "nrow()"
   ]
  },
  {
   "cell_type": "code",
   "execution_count": 6,
   "id": "48576e47",
   "metadata": {},
   "outputs": [
    {
     "data": {
      "text/html": [
       "1870"
      ],
      "text/latex": [
       "1870"
      ],
      "text/markdown": [
       "1870"
      ],
      "text/plain": [
       "[1] 1870"
      ]
     },
     "metadata": {},
     "output_type": "display_data"
    }
   ],
   "source": [
    "Bcell_unclustered_loose_cellspecific.100NN.GM_ENSGnoVersionGENESYMBOL_minTPM0.TAD_filtered %>%\n",
    "group_by(ChrHMR, StartHMR) %>% # Group by each HMR\n",
    "top_n(n = 1, wt = -HMRTSSDist) %>%  # Take top row by lowest Distance\n",
    "top_n(n = 1, wt = TPM) %>%  # Might overlap two genes or have a tie in dist. Take top TPM\n",
    "top_n(n = 1, wt = GENE_SYMBOL) %>%  # Might still overlap two genes with same TPM (often 0TPM), so take first alphabetically\n",
    "nrow()"
   ]
  },
  {
   "cell_type": "code",
   "execution_count": null,
   "id": "6ec432f0",
   "metadata": {},
   "outputs": [],
   "source": []
  },
  {
   "cell_type": "code",
   "execution_count": null,
   "id": "584edcb0",
   "metadata": {},
   "outputs": [],
   "source": []
  },
  {
   "cell_type": "code",
   "execution_count": null,
   "id": "eadea3de",
   "metadata": {},
   "outputs": [],
   "source": []
  },
  {
   "cell_type": "code",
   "execution_count": null,
   "id": "2980d469",
   "metadata": {},
   "outputs": [],
   "source": []
  },
  {
   "cell_type": "code",
   "execution_count": null,
   "id": "21c4b820",
   "metadata": {},
   "outputs": [],
   "source": []
  },
  {
   "cell_type": "code",
   "execution_count": 10,
   "id": "28449018",
   "metadata": {},
   "outputs": [
    {
     "data": {
      "text/html": [
       "4210"
      ],
      "text/latex": [
       "4210"
      ],
      "text/markdown": [
       "4210"
      ],
      "text/plain": [
       "[1] 4210"
      ]
     },
     "metadata": {},
     "output_type": "display_data"
    }
   ],
   "source": [
    "Bcell_clusters_containsCS.100NN.GM_ENSGnoVersionGENESYMBOL_minTPM0.TAD_filtered %>% nrow()"
   ]
  },
  {
   "cell_type": "code",
   "execution_count": 11,
   "id": "fe205d82",
   "metadata": {},
   "outputs": [
    {
     "data": {
      "text/html": [
       "426"
      ],
      "text/latex": [
       "426"
      ],
      "text/markdown": [
       "426"
      ],
      "text/plain": [
       "[1] 426"
      ]
     },
     "metadata": {},
     "output_type": "display_data"
    }
   ],
   "source": [
    "Bcell_clusters_containsCS.100NN.GM_ENSGnoVersionGENESYMBOL_minTPM0.TAD_filtered %>% group_by(ChrHMR, StartHMR) %>% top_n(n = 1, wt = -HMRTSSDist) %>% nrow()"
   ]
  },
  {
   "cell_type": "code",
   "execution_count": 12,
   "id": "e9022249",
   "metadata": {},
   "outputs": [
    {
     "data": {
      "text/html": [
       "424"
      ],
      "text/latex": [
       "424"
      ],
      "text/markdown": [
       "424"
      ],
      "text/plain": [
       "[1] 424"
      ]
     },
     "metadata": {},
     "output_type": "display_data"
    }
   ],
   "source": [
    "Bcell_clusters_containsCS.100NN.GM_ENSGnoVersionGENESYMBOL_minTPM0.TAD_filtered %>% group_by(ChrHMR, StartHMR) %>% top_n(n = 1, wt = -HMRTSSDist) %>% top_n(n = 1, wt = TPM) %>% top_n(n = 1, wt = GENE_SYMBOL) %>% nrow()"
   ]
  },
  {
   "cell_type": "code",
   "execution_count": 13,
   "id": "22da6f3f",
   "metadata": {},
   "outputs": [
    {
     "data": {
      "text/html": [
       "424"
      ],
      "text/latex": [
       "424"
      ],
      "text/markdown": [
       "424"
      ],
      "text/plain": [
       "[1] 424"
      ]
     },
     "metadata": {},
     "output_type": "display_data"
    }
   ],
   "source": [
    "Bcell_clusters_containsCS.100NN.GM_ENSGnoVersionGENESYMBOL_minTPM0.TAD_filtered %>% group_by(ChrHMR, StartHMR) %>% top_n(n = 1, wt = -HMRTSSDist) %>% top_n(n = 1, wt = TPM) %>% top_n(n = 1, wt = GENE_SYMBOL) %>% nrow()"
   ]
  },
  {
   "cell_type": "code",
   "execution_count": 9,
   "id": "3430d3ac",
   "metadata": {},
   "outputs": [
    {
     "data": {
      "text/html": [
       "444"
      ],
      "text/latex": [
       "444"
      ],
      "text/markdown": [
       "444"
      ],
      "text/plain": [
       "[1] 444"
      ]
     },
     "metadata": {},
     "output_type": "display_data"
    },
    {
     "data": {
      "text/html": [
       "444"
      ],
      "text/latex": [
       "444"
      ],
      "text/markdown": [
       "444"
      ],
      "text/plain": [
       "[1] 444"
      ]
     },
     "metadata": {},
     "output_type": "display_data"
    }
   ],
   "source": [
    "Bcell_clusters_containsCS %>% filter(chr!=\"chrY\") %>% nrow()\n",
    "Bcell_clusters_containsCS_noY <- Bcell_clusters_containsCS %>% filter(chr!=\"chrY\")\n",
    "Bcell_clusters_containsCS_noY %>% nrow()"
   ]
  },
  {
   "cell_type": "code",
   "execution_count": null,
   "id": "cd1387b0",
   "metadata": {},
   "outputs": [],
   "source": []
  },
  {
   "cell_type": "code",
   "execution_count": null,
   "id": "a3635af9",
   "metadata": {},
   "outputs": [],
   "source": []
  },
  {
   "cell_type": "markdown",
   "id": "32e86bd4",
   "metadata": {},
   "source": [
    "### Filter down "
   ]
  },
  {
   "cell_type": "code",
   "execution_count": 17,
   "id": "e4fc7d9f",
   "metadata": {
    "scrolled": true
   },
   "outputs": [
    {
     "data": {
      "text/html": [
       "<table class=\"dataframe\">\n",
       "<caption>A grouped_df: 1870 × 15</caption>\n",
       "<thead>\n",
       "\t<tr><th scope=col>ChrHMRTSS</th><th scope=col>StartHMRTSS</th><th scope=col>EndHMRTSS</th><th scope=col>ChrHMR</th><th scope=col>StartHMR</th><th scope=col>EndHMR</th><th scope=col>HMRGroup</th><th scope=col>ChrTSS</th><th scope=col>StartTSS</th><th scope=col>EndTSS</th><th scope=col>TPM</th><th scope=col>strand</th><th scope=col>GENE_SYMBOL</th><th scope=col>ENSEMBL</th><th scope=col>HMRTSSDist</th></tr>\n",
       "\t<tr><th scope=col>&lt;chr&gt;</th><th scope=col>&lt;dbl&gt;</th><th scope=col>&lt;dbl&gt;</th><th scope=col>&lt;chr&gt;</th><th scope=col>&lt;dbl&gt;</th><th scope=col>&lt;dbl&gt;</th><th scope=col>&lt;chr&gt;</th><th scope=col>&lt;chr&gt;</th><th scope=col>&lt;dbl&gt;</th><th scope=col>&lt;dbl&gt;</th><th scope=col>&lt;dbl&gt;</th><th scope=col>&lt;dbl&gt;</th><th scope=col>&lt;chr&gt;</th><th scope=col>&lt;chr&gt;</th><th scope=col>&lt;dbl&gt;</th></tr>\n",
       "</thead>\n",
       "<tbody>\n",
       "\t<tr><td>chr1</td><td> 1385069</td><td> 1394334</td><td>chr1</td><td> 1394021</td><td> 1394334</td><td>Bcell_UnclusteredCS</td><td>chr1</td><td> 1385069</td><td> 1385070</td><td>   0.525</td><td> 1</td><td>ATAD3C  </td><td>ENSG00000215915</td><td>  8952</td></tr>\n",
       "\t<tr><td>chr1</td><td> 1981909</td><td> 2032210</td><td>chr1</td><td> 2032031</td><td> 2032210</td><td>Bcell_UnclusteredCS</td><td>chr1</td><td> 1981909</td><td> 1981910</td><td>   0.575</td><td> 1</td><td>PRKCZ   </td><td>ENSG00000067606</td><td> 50122</td></tr>\n",
       "\t<tr><td>chr1</td><td> 2263385</td><td> 2323147</td><td>chr1</td><td> 2263385</td><td> 2263443</td><td>Bcell_UnclusteredCS</td><td>chr1</td><td> 2323146</td><td> 2323147</td><td>   2.535</td><td>-1</td><td>MORN1   </td><td>ENSG00000116151</td><td> 59704</td></tr>\n",
       "\t<tr><td>chr1</td><td> 3569325</td><td> 3573852</td><td>chr1</td><td> 3573086</td><td> 3573852</td><td>Bcell_UnclusteredCS</td><td>chr1</td><td> 3569325</td><td> 3569326</td><td>  15.720</td><td>-1</td><td>WRAP73  </td><td>ENSG00000116213</td><td>  3761</td></tr>\n",
       "\t<tr><td>chr1</td><td> 6052533</td><td> 6073327</td><td>chr1</td><td> 6073217</td><td> 6073327</td><td>Bcell_UnclusteredCS</td><td>chr1</td><td> 6052533</td><td> 6052534</td><td>   3.605</td><td>-1</td><td>NPHP4   </td><td>ENSG00000131697</td><td> 20684</td></tr>\n",
       "\t<tr><td>chr1</td><td> 6659636</td><td> 6673746</td><td>chr1</td><td> 6659636</td><td> 6660325</td><td>Bcell_UnclusteredCS</td><td>chr1</td><td> 6673745</td><td> 6673746</td><td>   5.935</td><td> 1</td><td>PHF13   </td><td>ENSG00000116273</td><td> 13421</td></tr>\n",
       "\t<tr><td>chr1</td><td>12079523</td><td>12101107</td><td>chr1</td><td>12100074</td><td>12101107</td><td>Bcell_UnclusteredCS</td><td>chr1</td><td>12079523</td><td>12079524</td><td>  21.715</td><td> 1</td><td>MIIP    </td><td>ENSG00000116691</td><td> 20551</td></tr>\n",
       "\t<tr><td>chr1</td><td>12227060</td><td>12258322</td><td>chr1</td><td>12258053</td><td>12258322</td><td>Bcell_UnclusteredCS</td><td>chr1</td><td>12227060</td><td>12227061</td><td>  31.810</td><td> 1</td><td>TNFRSF1B</td><td>ENSG00000028137</td><td> 30993</td></tr>\n",
       "\t<tr><td>chr1</td><td>14925200</td><td>15040438</td><td>chr1</td><td>15040254</td><td>15040438</td><td>Bcell_UnclusteredCS</td><td>chr1</td><td>14925200</td><td>14925201</td><td>   1.670</td><td> 1</td><td>KAZN    </td><td>ENSG00000189337</td><td>115054</td></tr>\n",
       "\t<tr><td>chr1</td><td>18404348</td><td>18434241</td><td>chr1</td><td>18404348</td><td>18404580</td><td>Bcell_UnclusteredCS</td><td>chr1</td><td>18434240</td><td>18434241</td><td>   0.045</td><td> 1</td><td>IGSF21  </td><td>ENSG00000117154</td><td> 29661</td></tr>\n",
       "\t<tr><td>chr1</td><td>19186176</td><td>19195881</td><td>chr1</td><td>19195721</td><td>19195881</td><td>Bcell_UnclusteredCS</td><td>chr1</td><td>19186176</td><td>19186177</td><td>   0.005</td><td>-1</td><td>TAS1R2  </td><td>ENSG00000179002</td><td>  9545</td></tr>\n",
       "\t<tr><td>chr1</td><td>22087677</td><td>22110100</td><td>chr1</td><td>22087677</td><td>22089082</td><td>Bcell_UnclusteredCS</td><td>chr1</td><td>22110099</td><td>22110100</td><td>  37.530</td><td>-1</td><td>USP48   </td><td>ENSG00000090686</td><td> 21018</td></tr>\n",
       "\t<tr><td>chr1</td><td>22106294</td><td>22110100</td><td>chr1</td><td>22106294</td><td>22106773</td><td>Bcell_UnclusteredCS</td><td>chr1</td><td>22110099</td><td>22110100</td><td>  37.530</td><td>-1</td><td>USP48   </td><td>ENSG00000090686</td><td>  3327</td></tr>\n",
       "\t<tr><td>chr1</td><td>22470462</td><td>22482011</td><td>chr1</td><td>22481946</td><td>22482011</td><td>Bcell_UnclusteredCS</td><td>chr1</td><td>22470462</td><td>22470463</td><td>   0.040</td><td>-1</td><td>WNT4    </td><td>ENSG00000162552</td><td> 11484</td></tr>\n",
       "\t<tr><td>chr1</td><td>24514449</td><td>24553751</td><td>chr1</td><td>24553383</td><td>24553751</td><td>Bcell_UnclusteredCS</td><td>chr1</td><td>24514449</td><td>24514450</td><td>   1.720</td><td>-1</td><td>IFNLR1  </td><td>ENSG00000185436</td><td> 38934</td></tr>\n",
       "\t<tr><td>chr1</td><td>24860964</td><td>24882603</td><td>chr1</td><td>24860964</td><td>24861150</td><td>Bcell_UnclusteredCS</td><td>chr1</td><td>24882602</td><td>24882603</td><td>   0.005</td><td> 1</td><td>NCMAP   </td><td>ENSG00000184454</td><td> 21453</td></tr>\n",
       "\t<tr><td>chr1</td><td>25242448</td><td>25291613</td><td>chr1</td><td>25242448</td><td>25242570</td><td>Bcell_UnclusteredCS</td><td>chr1</td><td>25291612</td><td>25291613</td><td>  57.410</td><td>-1</td><td>RUNX3   </td><td>ENSG00000020633</td><td> 49043</td></tr>\n",
       "\t<tr><td>chr1</td><td>25291612</td><td>25373247</td><td>chr1</td><td>25372734</td><td>25373247</td><td>Bcell_UnclusteredCS</td><td>chr1</td><td>25291612</td><td>25291613</td><td>  57.410</td><td>-1</td><td>RUNX3   </td><td>ENSG00000020633</td><td> 81122</td></tr>\n",
       "\t<tr><td>chr1</td><td>25943959</td><td>25956163</td><td>chr1</td><td>25955620</td><td>25956163</td><td>Bcell_UnclusteredCS</td><td>chr1</td><td>25943959</td><td>25943960</td><td>   0.075</td><td> 1</td><td>MAN1C1  </td><td>ENSG00000117643</td><td> 11661</td></tr>\n",
       "\t<tr><td>chr1</td><td>26126667</td><td>26131354</td><td>chr1</td><td>26131133</td><td>26131354</td><td>Bcell_UnclusteredCS</td><td>chr1</td><td>26126667</td><td>26126668</td><td>   1.770</td><td> 1</td><td>SEPN1   </td><td>ENSG00000162430</td><td>  4466</td></tr>\n",
       "\t<tr><td>chr1</td><td>27433141</td><td>27493473</td><td>chr1</td><td>27433141</td><td>27433285</td><td>Bcell_UnclusteredCS</td><td>chr1</td><td>27493472</td><td>27493473</td><td>   7.615</td><td>-1</td><td>SLC9A1  </td><td>ENSG00000090020</td><td> 60188</td></tr>\n",
       "\t<tr><td>chr1</td><td>27693383</td><td>27696751</td><td>chr1</td><td>27696156</td><td>27696751</td><td>Bcell_UnclusteredCS</td><td>chr1</td><td>27693383</td><td>27693384</td><td>   0.795</td><td>-1</td><td>MAP3K6  </td><td>ENSG00000142733</td><td>  2773</td></tr>\n",
       "\t<tr><td>chr1</td><td>27768425</td><td>27816670</td><td>chr1</td><td>27768425</td><td>27769315</td><td>Bcell_UnclusteredCS</td><td>chr1</td><td>27816669</td><td>27816670</td><td>  42.775</td><td>-1</td><td>WASF2   </td><td>ENSG00000158195</td><td> 47355</td></tr>\n",
       "\t<tr><td>chr1</td><td>27809797</td><td>27816670</td><td>chr1</td><td>27809797</td><td>27810107</td><td>Bcell_UnclusteredCS</td><td>chr1</td><td>27816669</td><td>27816670</td><td>  42.775</td><td>-1</td><td>WASF2   </td><td>ENSG00000158195</td><td>  6563</td></tr>\n",
       "\t<tr><td>chr1</td><td>28199055</td><td>28217318</td><td>chr1</td><td>28216907</td><td>28217318</td><td>Bcell_UnclusteredCS</td><td>chr1</td><td>28199055</td><td>28199056</td><td>  20.935</td><td> 1</td><td>THEMIS2 </td><td>ENSG00000130775</td><td> 17852</td></tr>\n",
       "\t<tr><td>chr1</td><td>28835071</td><td>28838132</td><td>chr1</td><td>28837950</td><td>28838132</td><td>Bcell_UnclusteredCS</td><td>chr1</td><td>28835071</td><td>28835072</td><td>3464.135</td><td> 1</td><td>SNORA73B</td><td>ENSG00000200087</td><td>  2879</td></tr>\n",
       "\t<tr><td>chr1</td><td>32479430</td><td>32487531</td><td>chr1</td><td>32486412</td><td>32487531</td><td>Bcell_UnclusteredCS</td><td>chr1</td><td>32479430</td><td>32479431</td><td>  76.815</td><td> 1</td><td>KHDRBS1 </td><td>ENSG00000121774</td><td>  6982</td></tr>\n",
       "\t<tr><td>chr1</td><td>32716840</td><td>32719857</td><td>chr1</td><td>32719399</td><td>32719857</td><td>Bcell_UnclusteredCS</td><td>chr1</td><td>32716840</td><td>32716841</td><td>  51.700</td><td> 1</td><td>LCK     </td><td>ENSG00000182866</td><td>  2559</td></tr>\n",
       "\t<tr><td>chr1</td><td>32716840</td><td>32730715</td><td>chr1</td><td>32730435</td><td>32730715</td><td>Bcell_UnclusteredCS</td><td>chr1</td><td>32716840</td><td>32716841</td><td>  51.700</td><td> 1</td><td>LCK     </td><td>ENSG00000182866</td><td> 13595</td></tr>\n",
       "\t<tr><td>chr1</td><td>32757687</td><td>32774677</td><td>chr1</td><td>32774187</td><td>32774677</td><td>Bcell_UnclusteredCS</td><td>chr1</td><td>32757687</td><td>32757688</td><td>  58.740</td><td> 1</td><td>HDAC1   </td><td>ENSG00000116478</td><td> 16500</td></tr>\n",
       "\t<tr><td>⋮</td><td>⋮</td><td>⋮</td><td>⋮</td><td>⋮</td><td>⋮</td><td>⋮</td><td>⋮</td><td>⋮</td><td>⋮</td><td>⋮</td><td>⋮</td><td>⋮</td><td>⋮</td><td>⋮</td></tr>\n",
       "\t<tr><td>chrX</td><td> 55744172</td><td> 55821377</td><td>chrX</td><td> 55820159</td><td> 55821377</td><td>Bcell_UnclusteredCS</td><td>chrX</td><td> 55744172</td><td> 55744173</td><td>  3.835</td><td> 1</td><td>RRAGB    </td><td>ENSG00000083750</td><td>  75987</td></tr>\n",
       "\t<tr><td>chrX</td><td> 55744172</td><td> 55945983</td><td>chrX</td><td> 55945745</td><td> 55945983</td><td>Bcell_UnclusteredCS</td><td>chrX</td><td> 55744172</td><td> 55744173</td><td>  3.835</td><td> 1</td><td>RRAGB    </td><td>ENSG00000083750</td><td> 201573</td></tr>\n",
       "\t<tr><td>chrX</td><td> 62466185</td><td> 62569526</td><td>chrX</td><td> 62466185</td><td> 62466288</td><td>Bcell_UnclusteredCS</td><td>chrX</td><td> 62569525</td><td> 62569526</td><td>  0.070</td><td> 1</td><td>SPIN4-AS1</td><td>ENSG00000233661</td><td> 103238</td></tr>\n",
       "\t<tr><td>chrX</td><td> 74144035</td><td> 74145283</td><td>chrX</td><td> 74144035</td><td> 74144156</td><td>Bcell_UnclusteredCS</td><td>chrX</td><td> 74145282</td><td> 74145283</td><td>  2.810</td><td>-1</td><td>KIAA2022 </td><td>ENSG00000050030</td><td>   1127</td></tr>\n",
       "\t<tr><td>chrX</td><td> 74493920</td><td> 74580531</td><td>chrX</td><td> 74580334</td><td> 74580531</td><td>Bcell_UnclusteredCS</td><td>chrX</td><td> 74493920</td><td> 74493921</td><td>  4.105</td><td> 1</td><td>UPRT     </td><td>ENSG00000094841</td><td>  86414</td></tr>\n",
       "\t<tr><td>chrX</td><td> 78964620</td><td> 79270256</td><td>chrX</td><td> 78964620</td><td> 78966457</td><td>Bcell_UnclusteredCS</td><td>chrX</td><td> 79270255</td><td> 79270256</td><td>  0.005</td><td> 1</td><td>TBX22    </td><td>ENSG00000122145</td><td> 303799</td></tr>\n",
       "\t<tr><td>chrX</td><td> 80063348</td><td> 80065188</td><td>chrX</td><td> 80063348</td><td> 80063654</td><td>Bcell_UnclusteredCS</td><td>chrX</td><td> 80065187</td><td> 80065188</td><td>  4.925</td><td>-1</td><td>BRWD3    </td><td>ENSG00000165288</td><td>   1534</td></tr>\n",
       "\t<tr><td>chrX</td><td> 80457442</td><td> 80605724</td><td>chrX</td><td> 80605523</td><td> 80605724</td><td>Bcell_UnclusteredCS</td><td>chrX</td><td> 80457442</td><td> 80457443</td><td> 35.375</td><td> 1</td><td>SH3BGRL  </td><td>ENSG00000131171</td><td> 148081</td></tr>\n",
       "\t<tr><td>chrX</td><td> 80457442</td><td> 81153643</td><td>chrX</td><td> 81152857</td><td> 81153643</td><td>Bcell_UnclusteredCS</td><td>chrX</td><td> 80457442</td><td> 80457443</td><td> 35.375</td><td> 1</td><td>SH3BGRL  </td><td>ENSG00000131171</td><td> 695415</td></tr>\n",
       "\t<tr><td>chrX</td><td> 84258832</td><td> 84350826</td><td>chrX</td><td> 84350606</td><td> 84350826</td><td>Bcell_UnclusteredCS</td><td>chrX</td><td> 84258832</td><td> 84258833</td><td>  5.420</td><td> 1</td><td>APOOL    </td><td>ENSG00000155008</td><td>  91774</td></tr>\n",
       "\t<tr><td>chrX</td><td> 86959307</td><td> 87442057</td><td>chrX</td><td> 87440824</td><td> 87442057</td><td>Bcell_UnclusteredCS</td><td>chrX</td><td> 86959307</td><td> 86959308</td><td>  0.050</td><td>-1</td><td>RPSAP15  </td><td>ENSG00000237506</td><td> 481517</td></tr>\n",
       "\t<tr><td>chrX</td><td> 96090821</td><td> 96138908</td><td>chrX</td><td> 96090821</td><td> 96091558</td><td>Bcell_UnclusteredCS</td><td>chrX</td><td> 96138907</td><td> 96138908</td><td>  0.245</td><td> 1</td><td>RPA4     </td><td>ENSG00000204086</td><td>  47350</td></tr>\n",
       "\t<tr><td>chrX</td><td> 99411771</td><td> 99668486</td><td>chrX</td><td> 99667367</td><td> 99668486</td><td>Bcell_UnclusteredCS</td><td>chrX</td><td> 99411771</td><td> 99411772</td><td>  0.050</td><td>-1</td><td>RPSAP8   </td><td>ENSG00000230592</td><td> 255596</td></tr>\n",
       "\t<tr><td>chrX</td><td>102631268</td><td>102674865</td><td>chrX</td><td>102674776</td><td>102674865</td><td>Bcell_UnclusteredCS</td><td>chrX</td><td>102631268</td><td>102631269</td><td>  0.340</td><td> 1</td><td>NGFRAP1  </td><td>ENSG00000166681</td><td>  43508</td></tr>\n",
       "\t<tr><td>chrX</td><td>103411301</td><td>103498317</td><td>chrX</td><td>103497985</td><td>103498317</td><td>Bcell_UnclusteredCS</td><td>chrX</td><td>103411301</td><td>103411302</td><td>  3.740</td><td> 1</td><td>FAM199X  </td><td>ENSG00000123575</td><td>  86684</td></tr>\n",
       "\t<tr><td>chrX</td><td>103810996</td><td>103813358</td><td>chrX</td><td>103812931</td><td>103813358</td><td>Bcell_UnclusteredCS</td><td>chrX</td><td>103810996</td><td>103810997</td><td>  0.005</td><td> 1</td><td>IL1RAPL2 </td><td>ENSG00000189108</td><td>   1935</td></tr>\n",
       "\t<tr><td>chrX</td><td>107068985</td><td>107070514</td><td>chrX</td><td>107070119</td><td>107070514</td><td>Bcell_UnclusteredCS</td><td>chrX</td><td>107068985</td><td>107068986</td><td>  0.040</td><td> 1</td><td>MID2     </td><td>ENSG00000080561</td><td>   1134</td></tr>\n",
       "\t<tr><td>chrX</td><td>107979651</td><td>108313755</td><td>chrX</td><td>108312165</td><td>108313755</td><td>Bcell_UnclusteredCS</td><td>chrX</td><td>107979651</td><td>107979652</td><td>  0.010</td><td>-1</td><td>IRS4     </td><td>ENSG00000133124</td><td> 332514</td></tr>\n",
       "\t<tr><td>chrX</td><td>111540424</td><td>111923376</td><td>chrX</td><td>111540424</td><td>111540771</td><td>Bcell_UnclusteredCS</td><td>chrX</td><td>111923375</td><td>111923376</td><td>  0.155</td><td>-1</td><td>LHFPL1   </td><td>ENSG00000182508</td><td> 382605</td></tr>\n",
       "\t<tr><td>chrX</td><td>112084043</td><td>113028341</td><td>chrX</td><td>113028188</td><td>113028341</td><td>Bcell_UnclusteredCS</td><td>chrX</td><td>112084043</td><td>112084044</td><td>  5.185</td><td>-1</td><td>AMOT     </td><td>ENSG00000126016</td><td> 944145</td></tr>\n",
       "\t<tr><td>chrX</td><td>117629861</td><td>117631780</td><td>chrX</td><td>117630872</td><td>117631780</td><td>Bcell_UnclusteredCS</td><td>chrX</td><td>117629861</td><td>117629862</td><td>  9.130</td><td> 1</td><td>DOCK11   </td><td>ENSG00000147251</td><td>   1011</td></tr>\n",
       "\t<tr><td>chrX</td><td>118739858</td><td>118770984</td><td>chrX</td><td>118770255</td><td>118770984</td><td>Bcell_UnclusteredCS</td><td>chrX</td><td>118739858</td><td>118739859</td><td>  7.975</td><td>-1</td><td>NKRF     </td><td>ENSG00000186416</td><td>  30397</td></tr>\n",
       "\t<tr><td>chrX</td><td>122864707</td><td>122866907</td><td>chrX</td><td>122864707</td><td>122864772</td><td>Bcell_UnclusteredCS</td><td>chrX</td><td>122866906</td><td>122866907</td><td> 26.655</td><td>-1</td><td>THOC2    </td><td>ENSG00000125676</td><td>   2135</td></tr>\n",
       "\t<tr><td>chrX</td><td>124097666</td><td>125607233</td><td>chrX</td><td>125606843</td><td>125607233</td><td>Bcell_UnclusteredCS</td><td>chrX</td><td>124097666</td><td>124097667</td><td>  0.005</td><td>-1</td><td>TENM1    </td><td>ENSG00000009694</td><td>1509177</td></tr>\n",
       "\t<tr><td>chrX</td><td>130880224</td><td>131351176</td><td>chrX</td><td>130880224</td><td>130880690</td><td>Bcell_UnclusteredCS</td><td>chrX</td><td>131351175</td><td>131351176</td><td>  0.410</td><td> 1</td><td>RAP2C-AS1</td><td>ENSG00000232160</td><td> 470486</td></tr>\n",
       "\t<tr><td>chrX</td><td>133118185</td><td>133119923</td><td>chrX</td><td>133118185</td><td>133118258</td><td>Bcell_UnclusteredCS</td><td>chrX</td><td>133119922</td><td>133119923</td><td>  0.270</td><td>-1</td><td>GPC3     </td><td>ENSG00000147257</td><td>   1665</td></tr>\n",
       "\t<tr><td>chrX</td><td>137792247</td><td>138304940</td><td>chrX</td><td>137792247</td><td>137792647</td><td>Bcell_UnclusteredCS</td><td>chrX</td><td>138304939</td><td>138304940</td><td>  0.060</td><td>-1</td><td>FGF13    </td><td>ENSG00000129682</td><td> 512293</td></tr>\n",
       "\t<tr><td>chrX</td><td>152240819</td><td>152349916</td><td>chrX</td><td>152349590</td><td>152349916</td><td>Bcell_UnclusteredCS</td><td>chrX</td><td>152240819</td><td>152240820</td><td>  0.010</td><td> 1</td><td>PNMA6C   </td><td>ENSG00000235961</td><td> 108771</td></tr>\n",
       "\t<tr><td>chrX</td><td>153519895</td><td>153603007</td><td>chrX</td><td>153519895</td><td>153520410</td><td>Bcell_UnclusteredCS</td><td>chrX</td><td>153603006</td><td>153603007</td><td>241.275</td><td>-1</td><td>FLNA     </td><td>ENSG00000196924</td><td>  82597</td></tr>\n",
       "\t<tr><td>chrX</td><td>153526648</td><td>153603007</td><td>chrX</td><td>153526648</td><td>153526953</td><td>Bcell_UnclusteredCS</td><td>chrX</td><td>153603006</td><td>153603007</td><td>241.275</td><td>-1</td><td>FLNA     </td><td>ENSG00000196924</td><td>  76054</td></tr>\n",
       "</tbody>\n",
       "</table>\n"
      ],
      "text/latex": [
       "A grouped\\_df: 1870 × 15\n",
       "\\begin{tabular}{lllllllllllllll}\n",
       " ChrHMRTSS & StartHMRTSS & EndHMRTSS & ChrHMR & StartHMR & EndHMR & HMRGroup & ChrTSS & StartTSS & EndTSS & TPM & strand & GENE\\_SYMBOL & ENSEMBL & HMRTSSDist\\\\\n",
       " <chr> & <dbl> & <dbl> & <chr> & <dbl> & <dbl> & <chr> & <chr> & <dbl> & <dbl> & <dbl> & <dbl> & <chr> & <chr> & <dbl>\\\\\n",
       "\\hline\n",
       "\t chr1 &  1385069 &  1394334 & chr1 &  1394021 &  1394334 & Bcell\\_UnclusteredCS & chr1 &  1385069 &  1385070 &    0.525 &  1 & ATAD3C   & ENSG00000215915 &   8952\\\\\n",
       "\t chr1 &  1981909 &  2032210 & chr1 &  2032031 &  2032210 & Bcell\\_UnclusteredCS & chr1 &  1981909 &  1981910 &    0.575 &  1 & PRKCZ    & ENSG00000067606 &  50122\\\\\n",
       "\t chr1 &  2263385 &  2323147 & chr1 &  2263385 &  2263443 & Bcell\\_UnclusteredCS & chr1 &  2323146 &  2323147 &    2.535 & -1 & MORN1    & ENSG00000116151 &  59704\\\\\n",
       "\t chr1 &  3569325 &  3573852 & chr1 &  3573086 &  3573852 & Bcell\\_UnclusteredCS & chr1 &  3569325 &  3569326 &   15.720 & -1 & WRAP73   & ENSG00000116213 &   3761\\\\\n",
       "\t chr1 &  6052533 &  6073327 & chr1 &  6073217 &  6073327 & Bcell\\_UnclusteredCS & chr1 &  6052533 &  6052534 &    3.605 & -1 & NPHP4    & ENSG00000131697 &  20684\\\\\n",
       "\t chr1 &  6659636 &  6673746 & chr1 &  6659636 &  6660325 & Bcell\\_UnclusteredCS & chr1 &  6673745 &  6673746 &    5.935 &  1 & PHF13    & ENSG00000116273 &  13421\\\\\n",
       "\t chr1 & 12079523 & 12101107 & chr1 & 12100074 & 12101107 & Bcell\\_UnclusteredCS & chr1 & 12079523 & 12079524 &   21.715 &  1 & MIIP     & ENSG00000116691 &  20551\\\\\n",
       "\t chr1 & 12227060 & 12258322 & chr1 & 12258053 & 12258322 & Bcell\\_UnclusteredCS & chr1 & 12227060 & 12227061 &   31.810 &  1 & TNFRSF1B & ENSG00000028137 &  30993\\\\\n",
       "\t chr1 & 14925200 & 15040438 & chr1 & 15040254 & 15040438 & Bcell\\_UnclusteredCS & chr1 & 14925200 & 14925201 &    1.670 &  1 & KAZN     & ENSG00000189337 & 115054\\\\\n",
       "\t chr1 & 18404348 & 18434241 & chr1 & 18404348 & 18404580 & Bcell\\_UnclusteredCS & chr1 & 18434240 & 18434241 &    0.045 &  1 & IGSF21   & ENSG00000117154 &  29661\\\\\n",
       "\t chr1 & 19186176 & 19195881 & chr1 & 19195721 & 19195881 & Bcell\\_UnclusteredCS & chr1 & 19186176 & 19186177 &    0.005 & -1 & TAS1R2   & ENSG00000179002 &   9545\\\\\n",
       "\t chr1 & 22087677 & 22110100 & chr1 & 22087677 & 22089082 & Bcell\\_UnclusteredCS & chr1 & 22110099 & 22110100 &   37.530 & -1 & USP48    & ENSG00000090686 &  21018\\\\\n",
       "\t chr1 & 22106294 & 22110100 & chr1 & 22106294 & 22106773 & Bcell\\_UnclusteredCS & chr1 & 22110099 & 22110100 &   37.530 & -1 & USP48    & ENSG00000090686 &   3327\\\\\n",
       "\t chr1 & 22470462 & 22482011 & chr1 & 22481946 & 22482011 & Bcell\\_UnclusteredCS & chr1 & 22470462 & 22470463 &    0.040 & -1 & WNT4     & ENSG00000162552 &  11484\\\\\n",
       "\t chr1 & 24514449 & 24553751 & chr1 & 24553383 & 24553751 & Bcell\\_UnclusteredCS & chr1 & 24514449 & 24514450 &    1.720 & -1 & IFNLR1   & ENSG00000185436 &  38934\\\\\n",
       "\t chr1 & 24860964 & 24882603 & chr1 & 24860964 & 24861150 & Bcell\\_UnclusteredCS & chr1 & 24882602 & 24882603 &    0.005 &  1 & NCMAP    & ENSG00000184454 &  21453\\\\\n",
       "\t chr1 & 25242448 & 25291613 & chr1 & 25242448 & 25242570 & Bcell\\_UnclusteredCS & chr1 & 25291612 & 25291613 &   57.410 & -1 & RUNX3    & ENSG00000020633 &  49043\\\\\n",
       "\t chr1 & 25291612 & 25373247 & chr1 & 25372734 & 25373247 & Bcell\\_UnclusteredCS & chr1 & 25291612 & 25291613 &   57.410 & -1 & RUNX3    & ENSG00000020633 &  81122\\\\\n",
       "\t chr1 & 25943959 & 25956163 & chr1 & 25955620 & 25956163 & Bcell\\_UnclusteredCS & chr1 & 25943959 & 25943960 &    0.075 &  1 & MAN1C1   & ENSG00000117643 &  11661\\\\\n",
       "\t chr1 & 26126667 & 26131354 & chr1 & 26131133 & 26131354 & Bcell\\_UnclusteredCS & chr1 & 26126667 & 26126668 &    1.770 &  1 & SEPN1    & ENSG00000162430 &   4466\\\\\n",
       "\t chr1 & 27433141 & 27493473 & chr1 & 27433141 & 27433285 & Bcell\\_UnclusteredCS & chr1 & 27493472 & 27493473 &    7.615 & -1 & SLC9A1   & ENSG00000090020 &  60188\\\\\n",
       "\t chr1 & 27693383 & 27696751 & chr1 & 27696156 & 27696751 & Bcell\\_UnclusteredCS & chr1 & 27693383 & 27693384 &    0.795 & -1 & MAP3K6   & ENSG00000142733 &   2773\\\\\n",
       "\t chr1 & 27768425 & 27816670 & chr1 & 27768425 & 27769315 & Bcell\\_UnclusteredCS & chr1 & 27816669 & 27816670 &   42.775 & -1 & WASF2    & ENSG00000158195 &  47355\\\\\n",
       "\t chr1 & 27809797 & 27816670 & chr1 & 27809797 & 27810107 & Bcell\\_UnclusteredCS & chr1 & 27816669 & 27816670 &   42.775 & -1 & WASF2    & ENSG00000158195 &   6563\\\\\n",
       "\t chr1 & 28199055 & 28217318 & chr1 & 28216907 & 28217318 & Bcell\\_UnclusteredCS & chr1 & 28199055 & 28199056 &   20.935 &  1 & THEMIS2  & ENSG00000130775 &  17852\\\\\n",
       "\t chr1 & 28835071 & 28838132 & chr1 & 28837950 & 28838132 & Bcell\\_UnclusteredCS & chr1 & 28835071 & 28835072 & 3464.135 &  1 & SNORA73B & ENSG00000200087 &   2879\\\\\n",
       "\t chr1 & 32479430 & 32487531 & chr1 & 32486412 & 32487531 & Bcell\\_UnclusteredCS & chr1 & 32479430 & 32479431 &   76.815 &  1 & KHDRBS1  & ENSG00000121774 &   6982\\\\\n",
       "\t chr1 & 32716840 & 32719857 & chr1 & 32719399 & 32719857 & Bcell\\_UnclusteredCS & chr1 & 32716840 & 32716841 &   51.700 &  1 & LCK      & ENSG00000182866 &   2559\\\\\n",
       "\t chr1 & 32716840 & 32730715 & chr1 & 32730435 & 32730715 & Bcell\\_UnclusteredCS & chr1 & 32716840 & 32716841 &   51.700 &  1 & LCK      & ENSG00000182866 &  13595\\\\\n",
       "\t chr1 & 32757687 & 32774677 & chr1 & 32774187 & 32774677 & Bcell\\_UnclusteredCS & chr1 & 32757687 & 32757688 &   58.740 &  1 & HDAC1    & ENSG00000116478 &  16500\\\\\n",
       "\t ⋮ & ⋮ & ⋮ & ⋮ & ⋮ & ⋮ & ⋮ & ⋮ & ⋮ & ⋮ & ⋮ & ⋮ & ⋮ & ⋮ & ⋮\\\\\n",
       "\t chrX &  55744172 &  55821377 & chrX &  55820159 &  55821377 & Bcell\\_UnclusteredCS & chrX &  55744172 &  55744173 &   3.835 &  1 & RRAGB     & ENSG00000083750 &   75987\\\\\n",
       "\t chrX &  55744172 &  55945983 & chrX &  55945745 &  55945983 & Bcell\\_UnclusteredCS & chrX &  55744172 &  55744173 &   3.835 &  1 & RRAGB     & ENSG00000083750 &  201573\\\\\n",
       "\t chrX &  62466185 &  62569526 & chrX &  62466185 &  62466288 & Bcell\\_UnclusteredCS & chrX &  62569525 &  62569526 &   0.070 &  1 & SPIN4-AS1 & ENSG00000233661 &  103238\\\\\n",
       "\t chrX &  74144035 &  74145283 & chrX &  74144035 &  74144156 & Bcell\\_UnclusteredCS & chrX &  74145282 &  74145283 &   2.810 & -1 & KIAA2022  & ENSG00000050030 &    1127\\\\\n",
       "\t chrX &  74493920 &  74580531 & chrX &  74580334 &  74580531 & Bcell\\_UnclusteredCS & chrX &  74493920 &  74493921 &   4.105 &  1 & UPRT      & ENSG00000094841 &   86414\\\\\n",
       "\t chrX &  78964620 &  79270256 & chrX &  78964620 &  78966457 & Bcell\\_UnclusteredCS & chrX &  79270255 &  79270256 &   0.005 &  1 & TBX22     & ENSG00000122145 &  303799\\\\\n",
       "\t chrX &  80063348 &  80065188 & chrX &  80063348 &  80063654 & Bcell\\_UnclusteredCS & chrX &  80065187 &  80065188 &   4.925 & -1 & BRWD3     & ENSG00000165288 &    1534\\\\\n",
       "\t chrX &  80457442 &  80605724 & chrX &  80605523 &  80605724 & Bcell\\_UnclusteredCS & chrX &  80457442 &  80457443 &  35.375 &  1 & SH3BGRL   & ENSG00000131171 &  148081\\\\\n",
       "\t chrX &  80457442 &  81153643 & chrX &  81152857 &  81153643 & Bcell\\_UnclusteredCS & chrX &  80457442 &  80457443 &  35.375 &  1 & SH3BGRL   & ENSG00000131171 &  695415\\\\\n",
       "\t chrX &  84258832 &  84350826 & chrX &  84350606 &  84350826 & Bcell\\_UnclusteredCS & chrX &  84258832 &  84258833 &   5.420 &  1 & APOOL     & ENSG00000155008 &   91774\\\\\n",
       "\t chrX &  86959307 &  87442057 & chrX &  87440824 &  87442057 & Bcell\\_UnclusteredCS & chrX &  86959307 &  86959308 &   0.050 & -1 & RPSAP15   & ENSG00000237506 &  481517\\\\\n",
       "\t chrX &  96090821 &  96138908 & chrX &  96090821 &  96091558 & Bcell\\_UnclusteredCS & chrX &  96138907 &  96138908 &   0.245 &  1 & RPA4      & ENSG00000204086 &   47350\\\\\n",
       "\t chrX &  99411771 &  99668486 & chrX &  99667367 &  99668486 & Bcell\\_UnclusteredCS & chrX &  99411771 &  99411772 &   0.050 & -1 & RPSAP8    & ENSG00000230592 &  255596\\\\\n",
       "\t chrX & 102631268 & 102674865 & chrX & 102674776 & 102674865 & Bcell\\_UnclusteredCS & chrX & 102631268 & 102631269 &   0.340 &  1 & NGFRAP1   & ENSG00000166681 &   43508\\\\\n",
       "\t chrX & 103411301 & 103498317 & chrX & 103497985 & 103498317 & Bcell\\_UnclusteredCS & chrX & 103411301 & 103411302 &   3.740 &  1 & FAM199X   & ENSG00000123575 &   86684\\\\\n",
       "\t chrX & 103810996 & 103813358 & chrX & 103812931 & 103813358 & Bcell\\_UnclusteredCS & chrX & 103810996 & 103810997 &   0.005 &  1 & IL1RAPL2  & ENSG00000189108 &    1935\\\\\n",
       "\t chrX & 107068985 & 107070514 & chrX & 107070119 & 107070514 & Bcell\\_UnclusteredCS & chrX & 107068985 & 107068986 &   0.040 &  1 & MID2      & ENSG00000080561 &    1134\\\\\n",
       "\t chrX & 107979651 & 108313755 & chrX & 108312165 & 108313755 & Bcell\\_UnclusteredCS & chrX & 107979651 & 107979652 &   0.010 & -1 & IRS4      & ENSG00000133124 &  332514\\\\\n",
       "\t chrX & 111540424 & 111923376 & chrX & 111540424 & 111540771 & Bcell\\_UnclusteredCS & chrX & 111923375 & 111923376 &   0.155 & -1 & LHFPL1    & ENSG00000182508 &  382605\\\\\n",
       "\t chrX & 112084043 & 113028341 & chrX & 113028188 & 113028341 & Bcell\\_UnclusteredCS & chrX & 112084043 & 112084044 &   5.185 & -1 & AMOT      & ENSG00000126016 &  944145\\\\\n",
       "\t chrX & 117629861 & 117631780 & chrX & 117630872 & 117631780 & Bcell\\_UnclusteredCS & chrX & 117629861 & 117629862 &   9.130 &  1 & DOCK11    & ENSG00000147251 &    1011\\\\\n",
       "\t chrX & 118739858 & 118770984 & chrX & 118770255 & 118770984 & Bcell\\_UnclusteredCS & chrX & 118739858 & 118739859 &   7.975 & -1 & NKRF      & ENSG00000186416 &   30397\\\\\n",
       "\t chrX & 122864707 & 122866907 & chrX & 122864707 & 122864772 & Bcell\\_UnclusteredCS & chrX & 122866906 & 122866907 &  26.655 & -1 & THOC2     & ENSG00000125676 &    2135\\\\\n",
       "\t chrX & 124097666 & 125607233 & chrX & 125606843 & 125607233 & Bcell\\_UnclusteredCS & chrX & 124097666 & 124097667 &   0.005 & -1 & TENM1     & ENSG00000009694 & 1509177\\\\\n",
       "\t chrX & 130880224 & 131351176 & chrX & 130880224 & 130880690 & Bcell\\_UnclusteredCS & chrX & 131351175 & 131351176 &   0.410 &  1 & RAP2C-AS1 & ENSG00000232160 &  470486\\\\\n",
       "\t chrX & 133118185 & 133119923 & chrX & 133118185 & 133118258 & Bcell\\_UnclusteredCS & chrX & 133119922 & 133119923 &   0.270 & -1 & GPC3      & ENSG00000147257 &    1665\\\\\n",
       "\t chrX & 137792247 & 138304940 & chrX & 137792247 & 137792647 & Bcell\\_UnclusteredCS & chrX & 138304939 & 138304940 &   0.060 & -1 & FGF13     & ENSG00000129682 &  512293\\\\\n",
       "\t chrX & 152240819 & 152349916 & chrX & 152349590 & 152349916 & Bcell\\_UnclusteredCS & chrX & 152240819 & 152240820 &   0.010 &  1 & PNMA6C    & ENSG00000235961 &  108771\\\\\n",
       "\t chrX & 153519895 & 153603007 & chrX & 153519895 & 153520410 & Bcell\\_UnclusteredCS & chrX & 153603006 & 153603007 & 241.275 & -1 & FLNA      & ENSG00000196924 &   82597\\\\\n",
       "\t chrX & 153526648 & 153603007 & chrX & 153526648 & 153526953 & Bcell\\_UnclusteredCS & chrX & 153603006 & 153603007 & 241.275 & -1 & FLNA      & ENSG00000196924 &   76054\\\\\n",
       "\\end{tabular}\n"
      ],
      "text/markdown": [
       "\n",
       "A grouped_df: 1870 × 15\n",
       "\n",
       "| ChrHMRTSS &lt;chr&gt; | StartHMRTSS &lt;dbl&gt; | EndHMRTSS &lt;dbl&gt; | ChrHMR &lt;chr&gt; | StartHMR &lt;dbl&gt; | EndHMR &lt;dbl&gt; | HMRGroup &lt;chr&gt; | ChrTSS &lt;chr&gt; | StartTSS &lt;dbl&gt; | EndTSS &lt;dbl&gt; | TPM &lt;dbl&gt; | strand &lt;dbl&gt; | GENE_SYMBOL &lt;chr&gt; | ENSEMBL &lt;chr&gt; | HMRTSSDist &lt;dbl&gt; |\n",
       "|---|---|---|---|---|---|---|---|---|---|---|---|---|---|---|\n",
       "| chr1 |  1385069 |  1394334 | chr1 |  1394021 |  1394334 | Bcell_UnclusteredCS | chr1 |  1385069 |  1385070 |    0.525 |  1 | ATAD3C   | ENSG00000215915 |   8952 |\n",
       "| chr1 |  1981909 |  2032210 | chr1 |  2032031 |  2032210 | Bcell_UnclusteredCS | chr1 |  1981909 |  1981910 |    0.575 |  1 | PRKCZ    | ENSG00000067606 |  50122 |\n",
       "| chr1 |  2263385 |  2323147 | chr1 |  2263385 |  2263443 | Bcell_UnclusteredCS | chr1 |  2323146 |  2323147 |    2.535 | -1 | MORN1    | ENSG00000116151 |  59704 |\n",
       "| chr1 |  3569325 |  3573852 | chr1 |  3573086 |  3573852 | Bcell_UnclusteredCS | chr1 |  3569325 |  3569326 |   15.720 | -1 | WRAP73   | ENSG00000116213 |   3761 |\n",
       "| chr1 |  6052533 |  6073327 | chr1 |  6073217 |  6073327 | Bcell_UnclusteredCS | chr1 |  6052533 |  6052534 |    3.605 | -1 | NPHP4    | ENSG00000131697 |  20684 |\n",
       "| chr1 |  6659636 |  6673746 | chr1 |  6659636 |  6660325 | Bcell_UnclusteredCS | chr1 |  6673745 |  6673746 |    5.935 |  1 | PHF13    | ENSG00000116273 |  13421 |\n",
       "| chr1 | 12079523 | 12101107 | chr1 | 12100074 | 12101107 | Bcell_UnclusteredCS | chr1 | 12079523 | 12079524 |   21.715 |  1 | MIIP     | ENSG00000116691 |  20551 |\n",
       "| chr1 | 12227060 | 12258322 | chr1 | 12258053 | 12258322 | Bcell_UnclusteredCS | chr1 | 12227060 | 12227061 |   31.810 |  1 | TNFRSF1B | ENSG00000028137 |  30993 |\n",
       "| chr1 | 14925200 | 15040438 | chr1 | 15040254 | 15040438 | Bcell_UnclusteredCS | chr1 | 14925200 | 14925201 |    1.670 |  1 | KAZN     | ENSG00000189337 | 115054 |\n",
       "| chr1 | 18404348 | 18434241 | chr1 | 18404348 | 18404580 | Bcell_UnclusteredCS | chr1 | 18434240 | 18434241 |    0.045 |  1 | IGSF21   | ENSG00000117154 |  29661 |\n",
       "| chr1 | 19186176 | 19195881 | chr1 | 19195721 | 19195881 | Bcell_UnclusteredCS | chr1 | 19186176 | 19186177 |    0.005 | -1 | TAS1R2   | ENSG00000179002 |   9545 |\n",
       "| chr1 | 22087677 | 22110100 | chr1 | 22087677 | 22089082 | Bcell_UnclusteredCS | chr1 | 22110099 | 22110100 |   37.530 | -1 | USP48    | ENSG00000090686 |  21018 |\n",
       "| chr1 | 22106294 | 22110100 | chr1 | 22106294 | 22106773 | Bcell_UnclusteredCS | chr1 | 22110099 | 22110100 |   37.530 | -1 | USP48    | ENSG00000090686 |   3327 |\n",
       "| chr1 | 22470462 | 22482011 | chr1 | 22481946 | 22482011 | Bcell_UnclusteredCS | chr1 | 22470462 | 22470463 |    0.040 | -1 | WNT4     | ENSG00000162552 |  11484 |\n",
       "| chr1 | 24514449 | 24553751 | chr1 | 24553383 | 24553751 | Bcell_UnclusteredCS | chr1 | 24514449 | 24514450 |    1.720 | -1 | IFNLR1   | ENSG00000185436 |  38934 |\n",
       "| chr1 | 24860964 | 24882603 | chr1 | 24860964 | 24861150 | Bcell_UnclusteredCS | chr1 | 24882602 | 24882603 |    0.005 |  1 | NCMAP    | ENSG00000184454 |  21453 |\n",
       "| chr1 | 25242448 | 25291613 | chr1 | 25242448 | 25242570 | Bcell_UnclusteredCS | chr1 | 25291612 | 25291613 |   57.410 | -1 | RUNX3    | ENSG00000020633 |  49043 |\n",
       "| chr1 | 25291612 | 25373247 | chr1 | 25372734 | 25373247 | Bcell_UnclusteredCS | chr1 | 25291612 | 25291613 |   57.410 | -1 | RUNX3    | ENSG00000020633 |  81122 |\n",
       "| chr1 | 25943959 | 25956163 | chr1 | 25955620 | 25956163 | Bcell_UnclusteredCS | chr1 | 25943959 | 25943960 |    0.075 |  1 | MAN1C1   | ENSG00000117643 |  11661 |\n",
       "| chr1 | 26126667 | 26131354 | chr1 | 26131133 | 26131354 | Bcell_UnclusteredCS | chr1 | 26126667 | 26126668 |    1.770 |  1 | SEPN1    | ENSG00000162430 |   4466 |\n",
       "| chr1 | 27433141 | 27493473 | chr1 | 27433141 | 27433285 | Bcell_UnclusteredCS | chr1 | 27493472 | 27493473 |    7.615 | -1 | SLC9A1   | ENSG00000090020 |  60188 |\n",
       "| chr1 | 27693383 | 27696751 | chr1 | 27696156 | 27696751 | Bcell_UnclusteredCS | chr1 | 27693383 | 27693384 |    0.795 | -1 | MAP3K6   | ENSG00000142733 |   2773 |\n",
       "| chr1 | 27768425 | 27816670 | chr1 | 27768425 | 27769315 | Bcell_UnclusteredCS | chr1 | 27816669 | 27816670 |   42.775 | -1 | WASF2    | ENSG00000158195 |  47355 |\n",
       "| chr1 | 27809797 | 27816670 | chr1 | 27809797 | 27810107 | Bcell_UnclusteredCS | chr1 | 27816669 | 27816670 |   42.775 | -1 | WASF2    | ENSG00000158195 |   6563 |\n",
       "| chr1 | 28199055 | 28217318 | chr1 | 28216907 | 28217318 | Bcell_UnclusteredCS | chr1 | 28199055 | 28199056 |   20.935 |  1 | THEMIS2  | ENSG00000130775 |  17852 |\n",
       "| chr1 | 28835071 | 28838132 | chr1 | 28837950 | 28838132 | Bcell_UnclusteredCS | chr1 | 28835071 | 28835072 | 3464.135 |  1 | SNORA73B | ENSG00000200087 |   2879 |\n",
       "| chr1 | 32479430 | 32487531 | chr1 | 32486412 | 32487531 | Bcell_UnclusteredCS | chr1 | 32479430 | 32479431 |   76.815 |  1 | KHDRBS1  | ENSG00000121774 |   6982 |\n",
       "| chr1 | 32716840 | 32719857 | chr1 | 32719399 | 32719857 | Bcell_UnclusteredCS | chr1 | 32716840 | 32716841 |   51.700 |  1 | LCK      | ENSG00000182866 |   2559 |\n",
       "| chr1 | 32716840 | 32730715 | chr1 | 32730435 | 32730715 | Bcell_UnclusteredCS | chr1 | 32716840 | 32716841 |   51.700 |  1 | LCK      | ENSG00000182866 |  13595 |\n",
       "| chr1 | 32757687 | 32774677 | chr1 | 32774187 | 32774677 | Bcell_UnclusteredCS | chr1 | 32757687 | 32757688 |   58.740 |  1 | HDAC1    | ENSG00000116478 |  16500 |\n",
       "| ⋮ | ⋮ | ⋮ | ⋮ | ⋮ | ⋮ | ⋮ | ⋮ | ⋮ | ⋮ | ⋮ | ⋮ | ⋮ | ⋮ | ⋮ |\n",
       "| chrX |  55744172 |  55821377 | chrX |  55820159 |  55821377 | Bcell_UnclusteredCS | chrX |  55744172 |  55744173 |   3.835 |  1 | RRAGB     | ENSG00000083750 |   75987 |\n",
       "| chrX |  55744172 |  55945983 | chrX |  55945745 |  55945983 | Bcell_UnclusteredCS | chrX |  55744172 |  55744173 |   3.835 |  1 | RRAGB     | ENSG00000083750 |  201573 |\n",
       "| chrX |  62466185 |  62569526 | chrX |  62466185 |  62466288 | Bcell_UnclusteredCS | chrX |  62569525 |  62569526 |   0.070 |  1 | SPIN4-AS1 | ENSG00000233661 |  103238 |\n",
       "| chrX |  74144035 |  74145283 | chrX |  74144035 |  74144156 | Bcell_UnclusteredCS | chrX |  74145282 |  74145283 |   2.810 | -1 | KIAA2022  | ENSG00000050030 |    1127 |\n",
       "| chrX |  74493920 |  74580531 | chrX |  74580334 |  74580531 | Bcell_UnclusteredCS | chrX |  74493920 |  74493921 |   4.105 |  1 | UPRT      | ENSG00000094841 |   86414 |\n",
       "| chrX |  78964620 |  79270256 | chrX |  78964620 |  78966457 | Bcell_UnclusteredCS | chrX |  79270255 |  79270256 |   0.005 |  1 | TBX22     | ENSG00000122145 |  303799 |\n",
       "| chrX |  80063348 |  80065188 | chrX |  80063348 |  80063654 | Bcell_UnclusteredCS | chrX |  80065187 |  80065188 |   4.925 | -1 | BRWD3     | ENSG00000165288 |    1534 |\n",
       "| chrX |  80457442 |  80605724 | chrX |  80605523 |  80605724 | Bcell_UnclusteredCS | chrX |  80457442 |  80457443 |  35.375 |  1 | SH3BGRL   | ENSG00000131171 |  148081 |\n",
       "| chrX |  80457442 |  81153643 | chrX |  81152857 |  81153643 | Bcell_UnclusteredCS | chrX |  80457442 |  80457443 |  35.375 |  1 | SH3BGRL   | ENSG00000131171 |  695415 |\n",
       "| chrX |  84258832 |  84350826 | chrX |  84350606 |  84350826 | Bcell_UnclusteredCS | chrX |  84258832 |  84258833 |   5.420 |  1 | APOOL     | ENSG00000155008 |   91774 |\n",
       "| chrX |  86959307 |  87442057 | chrX |  87440824 |  87442057 | Bcell_UnclusteredCS | chrX |  86959307 |  86959308 |   0.050 | -1 | RPSAP15   | ENSG00000237506 |  481517 |\n",
       "| chrX |  96090821 |  96138908 | chrX |  96090821 |  96091558 | Bcell_UnclusteredCS | chrX |  96138907 |  96138908 |   0.245 |  1 | RPA4      | ENSG00000204086 |   47350 |\n",
       "| chrX |  99411771 |  99668486 | chrX |  99667367 |  99668486 | Bcell_UnclusteredCS | chrX |  99411771 |  99411772 |   0.050 | -1 | RPSAP8    | ENSG00000230592 |  255596 |\n",
       "| chrX | 102631268 | 102674865 | chrX | 102674776 | 102674865 | Bcell_UnclusteredCS | chrX | 102631268 | 102631269 |   0.340 |  1 | NGFRAP1   | ENSG00000166681 |   43508 |\n",
       "| chrX | 103411301 | 103498317 | chrX | 103497985 | 103498317 | Bcell_UnclusteredCS | chrX | 103411301 | 103411302 |   3.740 |  1 | FAM199X   | ENSG00000123575 |   86684 |\n",
       "| chrX | 103810996 | 103813358 | chrX | 103812931 | 103813358 | Bcell_UnclusteredCS | chrX | 103810996 | 103810997 |   0.005 |  1 | IL1RAPL2  | ENSG00000189108 |    1935 |\n",
       "| chrX | 107068985 | 107070514 | chrX | 107070119 | 107070514 | Bcell_UnclusteredCS | chrX | 107068985 | 107068986 |   0.040 |  1 | MID2      | ENSG00000080561 |    1134 |\n",
       "| chrX | 107979651 | 108313755 | chrX | 108312165 | 108313755 | Bcell_UnclusteredCS | chrX | 107979651 | 107979652 |   0.010 | -1 | IRS4      | ENSG00000133124 |  332514 |\n",
       "| chrX | 111540424 | 111923376 | chrX | 111540424 | 111540771 | Bcell_UnclusteredCS | chrX | 111923375 | 111923376 |   0.155 | -1 | LHFPL1    | ENSG00000182508 |  382605 |\n",
       "| chrX | 112084043 | 113028341 | chrX | 113028188 | 113028341 | Bcell_UnclusteredCS | chrX | 112084043 | 112084044 |   5.185 | -1 | AMOT      | ENSG00000126016 |  944145 |\n",
       "| chrX | 117629861 | 117631780 | chrX | 117630872 | 117631780 | Bcell_UnclusteredCS | chrX | 117629861 | 117629862 |   9.130 |  1 | DOCK11    | ENSG00000147251 |    1011 |\n",
       "| chrX | 118739858 | 118770984 | chrX | 118770255 | 118770984 | Bcell_UnclusteredCS | chrX | 118739858 | 118739859 |   7.975 | -1 | NKRF      | ENSG00000186416 |   30397 |\n",
       "| chrX | 122864707 | 122866907 | chrX | 122864707 | 122864772 | Bcell_UnclusteredCS | chrX | 122866906 | 122866907 |  26.655 | -1 | THOC2     | ENSG00000125676 |    2135 |\n",
       "| chrX | 124097666 | 125607233 | chrX | 125606843 | 125607233 | Bcell_UnclusteredCS | chrX | 124097666 | 124097667 |   0.005 | -1 | TENM1     | ENSG00000009694 | 1509177 |\n",
       "| chrX | 130880224 | 131351176 | chrX | 130880224 | 130880690 | Bcell_UnclusteredCS | chrX | 131351175 | 131351176 |   0.410 |  1 | RAP2C-AS1 | ENSG00000232160 |  470486 |\n",
       "| chrX | 133118185 | 133119923 | chrX | 133118185 | 133118258 | Bcell_UnclusteredCS | chrX | 133119922 | 133119923 |   0.270 | -1 | GPC3      | ENSG00000147257 |    1665 |\n",
       "| chrX | 137792247 | 138304940 | chrX | 137792247 | 137792647 | Bcell_UnclusteredCS | chrX | 138304939 | 138304940 |   0.060 | -1 | FGF13     | ENSG00000129682 |  512293 |\n",
       "| chrX | 152240819 | 152349916 | chrX | 152349590 | 152349916 | Bcell_UnclusteredCS | chrX | 152240819 | 152240820 |   0.010 |  1 | PNMA6C    | ENSG00000235961 |  108771 |\n",
       "| chrX | 153519895 | 153603007 | chrX | 153519895 | 153520410 | Bcell_UnclusteredCS | chrX | 153603006 | 153603007 | 241.275 | -1 | FLNA      | ENSG00000196924 |   82597 |\n",
       "| chrX | 153526648 | 153603007 | chrX | 153526648 | 153526953 | Bcell_UnclusteredCS | chrX | 153603006 | 153603007 | 241.275 | -1 | FLNA      | ENSG00000196924 |   76054 |\n",
       "\n"
      ],
      "text/plain": [
       "     ChrHMRTSS StartHMRTSS EndHMRTSS ChrHMR StartHMR  EndHMR   \n",
       "1    chr1       1385069     1394334  chr1    1394021   1394334 \n",
       "2    chr1       1981909     2032210  chr1    2032031   2032210 \n",
       "3    chr1       2263385     2323147  chr1    2263385   2263443 \n",
       "4    chr1       3569325     3573852  chr1    3573086   3573852 \n",
       "5    chr1       6052533     6073327  chr1    6073217   6073327 \n",
       "6    chr1       6659636     6673746  chr1    6659636   6660325 \n",
       "7    chr1      12079523    12101107  chr1   12100074  12101107 \n",
       "8    chr1      12227060    12258322  chr1   12258053  12258322 \n",
       "9    chr1      14925200    15040438  chr1   15040254  15040438 \n",
       "10   chr1      18404348    18434241  chr1   18404348  18404580 \n",
       "11   chr1      19186176    19195881  chr1   19195721  19195881 \n",
       "12   chr1      22087677    22110100  chr1   22087677  22089082 \n",
       "13   chr1      22106294    22110100  chr1   22106294  22106773 \n",
       "14   chr1      22470462    22482011  chr1   22481946  22482011 \n",
       "15   chr1      24514449    24553751  chr1   24553383  24553751 \n",
       "16   chr1      24860964    24882603  chr1   24860964  24861150 \n",
       "17   chr1      25242448    25291613  chr1   25242448  25242570 \n",
       "18   chr1      25291612    25373247  chr1   25372734  25373247 \n",
       "19   chr1      25943959    25956163  chr1   25955620  25956163 \n",
       "20   chr1      26126667    26131354  chr1   26131133  26131354 \n",
       "21   chr1      27433141    27493473  chr1   27433141  27433285 \n",
       "22   chr1      27693383    27696751  chr1   27696156  27696751 \n",
       "23   chr1      27768425    27816670  chr1   27768425  27769315 \n",
       "24   chr1      27809797    27816670  chr1   27809797  27810107 \n",
       "25   chr1      28199055    28217318  chr1   28216907  28217318 \n",
       "26   chr1      28835071    28838132  chr1   28837950  28838132 \n",
       "27   chr1      32479430    32487531  chr1   32486412  32487531 \n",
       "28   chr1      32716840    32719857  chr1   32719399  32719857 \n",
       "29   chr1      32716840    32730715  chr1   32730435  32730715 \n",
       "30   chr1      32757687    32774677  chr1   32774187  32774677 \n",
       "⋮    ⋮         ⋮           ⋮         ⋮      ⋮         ⋮        \n",
       "1841 chrX       55744172    55821377 chrX    55820159  55821377\n",
       "1842 chrX       55744172    55945983 chrX    55945745  55945983\n",
       "1843 chrX       62466185    62569526 chrX    62466185  62466288\n",
       "1844 chrX       74144035    74145283 chrX    74144035  74144156\n",
       "1845 chrX       74493920    74580531 chrX    74580334  74580531\n",
       "1846 chrX       78964620    79270256 chrX    78964620  78966457\n",
       "1847 chrX       80063348    80065188 chrX    80063348  80063654\n",
       "1848 chrX       80457442    80605724 chrX    80605523  80605724\n",
       "1849 chrX       80457442    81153643 chrX    81152857  81153643\n",
       "1850 chrX       84258832    84350826 chrX    84350606  84350826\n",
       "1851 chrX       86959307    87442057 chrX    87440824  87442057\n",
       "1852 chrX       96090821    96138908 chrX    96090821  96091558\n",
       "1853 chrX       99411771    99668486 chrX    99667367  99668486\n",
       "1854 chrX      102631268   102674865 chrX   102674776 102674865\n",
       "1855 chrX      103411301   103498317 chrX   103497985 103498317\n",
       "1856 chrX      103810996   103813358 chrX   103812931 103813358\n",
       "1857 chrX      107068985   107070514 chrX   107070119 107070514\n",
       "1858 chrX      107979651   108313755 chrX   108312165 108313755\n",
       "1859 chrX      111540424   111923376 chrX   111540424 111540771\n",
       "1860 chrX      112084043   113028341 chrX   113028188 113028341\n",
       "1861 chrX      117629861   117631780 chrX   117630872 117631780\n",
       "1862 chrX      118739858   118770984 chrX   118770255 118770984\n",
       "1863 chrX      122864707   122866907 chrX   122864707 122864772\n",
       "1864 chrX      124097666   125607233 chrX   125606843 125607233\n",
       "1865 chrX      130880224   131351176 chrX   130880224 130880690\n",
       "1866 chrX      133118185   133119923 chrX   133118185 133118258\n",
       "1867 chrX      137792247   138304940 chrX   137792247 137792647\n",
       "1868 chrX      152240819   152349916 chrX   152349590 152349916\n",
       "1869 chrX      153519895   153603007 chrX   153519895 153520410\n",
       "1870 chrX      153526648   153603007 chrX   153526648 153526953\n",
       "     HMRGroup            ChrTSS StartTSS  EndTSS    TPM      strand GENE_SYMBOL\n",
       "1    Bcell_UnclusteredCS chr1    1385069   1385070     0.525  1     ATAD3C     \n",
       "2    Bcell_UnclusteredCS chr1    1981909   1981910     0.575  1     PRKCZ      \n",
       "3    Bcell_UnclusteredCS chr1    2323146   2323147     2.535 -1     MORN1      \n",
       "4    Bcell_UnclusteredCS chr1    3569325   3569326    15.720 -1     WRAP73     \n",
       "5    Bcell_UnclusteredCS chr1    6052533   6052534     3.605 -1     NPHP4      \n",
       "6    Bcell_UnclusteredCS chr1    6673745   6673746     5.935  1     PHF13      \n",
       "7    Bcell_UnclusteredCS chr1   12079523  12079524    21.715  1     MIIP       \n",
       "8    Bcell_UnclusteredCS chr1   12227060  12227061    31.810  1     TNFRSF1B   \n",
       "9    Bcell_UnclusteredCS chr1   14925200  14925201     1.670  1     KAZN       \n",
       "10   Bcell_UnclusteredCS chr1   18434240  18434241     0.045  1     IGSF21     \n",
       "11   Bcell_UnclusteredCS chr1   19186176  19186177     0.005 -1     TAS1R2     \n",
       "12   Bcell_UnclusteredCS chr1   22110099  22110100    37.530 -1     USP48      \n",
       "13   Bcell_UnclusteredCS chr1   22110099  22110100    37.530 -1     USP48      \n",
       "14   Bcell_UnclusteredCS chr1   22470462  22470463     0.040 -1     WNT4       \n",
       "15   Bcell_UnclusteredCS chr1   24514449  24514450     1.720 -1     IFNLR1     \n",
       "16   Bcell_UnclusteredCS chr1   24882602  24882603     0.005  1     NCMAP      \n",
       "17   Bcell_UnclusteredCS chr1   25291612  25291613    57.410 -1     RUNX3      \n",
       "18   Bcell_UnclusteredCS chr1   25291612  25291613    57.410 -1     RUNX3      \n",
       "19   Bcell_UnclusteredCS chr1   25943959  25943960     0.075  1     MAN1C1     \n",
       "20   Bcell_UnclusteredCS chr1   26126667  26126668     1.770  1     SEPN1      \n",
       "21   Bcell_UnclusteredCS chr1   27493472  27493473     7.615 -1     SLC9A1     \n",
       "22   Bcell_UnclusteredCS chr1   27693383  27693384     0.795 -1     MAP3K6     \n",
       "23   Bcell_UnclusteredCS chr1   27816669  27816670    42.775 -1     WASF2      \n",
       "24   Bcell_UnclusteredCS chr1   27816669  27816670    42.775 -1     WASF2      \n",
       "25   Bcell_UnclusteredCS chr1   28199055  28199056    20.935  1     THEMIS2    \n",
       "26   Bcell_UnclusteredCS chr1   28835071  28835072  3464.135  1     SNORA73B   \n",
       "27   Bcell_UnclusteredCS chr1   32479430  32479431    76.815  1     KHDRBS1    \n",
       "28   Bcell_UnclusteredCS chr1   32716840  32716841    51.700  1     LCK        \n",
       "29   Bcell_UnclusteredCS chr1   32716840  32716841    51.700  1     LCK        \n",
       "30   Bcell_UnclusteredCS chr1   32757687  32757688    58.740  1     HDAC1      \n",
       "⋮    ⋮                   ⋮      ⋮         ⋮         ⋮        ⋮      ⋮          \n",
       "1841 Bcell_UnclusteredCS chrX    55744172  55744173   3.835   1     RRAGB      \n",
       "1842 Bcell_UnclusteredCS chrX    55744172  55744173   3.835   1     RRAGB      \n",
       "1843 Bcell_UnclusteredCS chrX    62569525  62569526   0.070   1     SPIN4-AS1  \n",
       "1844 Bcell_UnclusteredCS chrX    74145282  74145283   2.810  -1     KIAA2022   \n",
       "1845 Bcell_UnclusteredCS chrX    74493920  74493921   4.105   1     UPRT       \n",
       "1846 Bcell_UnclusteredCS chrX    79270255  79270256   0.005   1     TBX22      \n",
       "1847 Bcell_UnclusteredCS chrX    80065187  80065188   4.925  -1     BRWD3      \n",
       "1848 Bcell_UnclusteredCS chrX    80457442  80457443  35.375   1     SH3BGRL    \n",
       "1849 Bcell_UnclusteredCS chrX    80457442  80457443  35.375   1     SH3BGRL    \n",
       "1850 Bcell_UnclusteredCS chrX    84258832  84258833   5.420   1     APOOL      \n",
       "1851 Bcell_UnclusteredCS chrX    86959307  86959308   0.050  -1     RPSAP15    \n",
       "1852 Bcell_UnclusteredCS chrX    96138907  96138908   0.245   1     RPA4       \n",
       "1853 Bcell_UnclusteredCS chrX    99411771  99411772   0.050  -1     RPSAP8     \n",
       "1854 Bcell_UnclusteredCS chrX   102631268 102631269   0.340   1     NGFRAP1    \n",
       "1855 Bcell_UnclusteredCS chrX   103411301 103411302   3.740   1     FAM199X    \n",
       "1856 Bcell_UnclusteredCS chrX   103810996 103810997   0.005   1     IL1RAPL2   \n",
       "1857 Bcell_UnclusteredCS chrX   107068985 107068986   0.040   1     MID2       \n",
       "1858 Bcell_UnclusteredCS chrX   107979651 107979652   0.010  -1     IRS4       \n",
       "1859 Bcell_UnclusteredCS chrX   111923375 111923376   0.155  -1     LHFPL1     \n",
       "1860 Bcell_UnclusteredCS chrX   112084043 112084044   5.185  -1     AMOT       \n",
       "1861 Bcell_UnclusteredCS chrX   117629861 117629862   9.130   1     DOCK11     \n",
       "1862 Bcell_UnclusteredCS chrX   118739858 118739859   7.975  -1     NKRF       \n",
       "1863 Bcell_UnclusteredCS chrX   122866906 122866907  26.655  -1     THOC2      \n",
       "1864 Bcell_UnclusteredCS chrX   124097666 124097667   0.005  -1     TENM1      \n",
       "1865 Bcell_UnclusteredCS chrX   131351175 131351176   0.410   1     RAP2C-AS1  \n",
       "1866 Bcell_UnclusteredCS chrX   133119922 133119923   0.270  -1     GPC3       \n",
       "1867 Bcell_UnclusteredCS chrX   138304939 138304940   0.060  -1     FGF13      \n",
       "1868 Bcell_UnclusteredCS chrX   152240819 152240820   0.010   1     PNMA6C     \n",
       "1869 Bcell_UnclusteredCS chrX   153603006 153603007 241.275  -1     FLNA       \n",
       "1870 Bcell_UnclusteredCS chrX   153603006 153603007 241.275  -1     FLNA       \n",
       "     ENSEMBL         HMRTSSDist\n",
       "1    ENSG00000215915   8952    \n",
       "2    ENSG00000067606  50122    \n",
       "3    ENSG00000116151  59704    \n",
       "4    ENSG00000116213   3761    \n",
       "5    ENSG00000131697  20684    \n",
       "6    ENSG00000116273  13421    \n",
       "7    ENSG00000116691  20551    \n",
       "8    ENSG00000028137  30993    \n",
       "9    ENSG00000189337 115054    \n",
       "10   ENSG00000117154  29661    \n",
       "11   ENSG00000179002   9545    \n",
       "12   ENSG00000090686  21018    \n",
       "13   ENSG00000090686   3327    \n",
       "14   ENSG00000162552  11484    \n",
       "15   ENSG00000185436  38934    \n",
       "16   ENSG00000184454  21453    \n",
       "17   ENSG00000020633  49043    \n",
       "18   ENSG00000020633  81122    \n",
       "19   ENSG00000117643  11661    \n",
       "20   ENSG00000162430   4466    \n",
       "21   ENSG00000090020  60188    \n",
       "22   ENSG00000142733   2773    \n",
       "23   ENSG00000158195  47355    \n",
       "24   ENSG00000158195   6563    \n",
       "25   ENSG00000130775  17852    \n",
       "26   ENSG00000200087   2879    \n",
       "27   ENSG00000121774   6982    \n",
       "28   ENSG00000182866   2559    \n",
       "29   ENSG00000182866  13595    \n",
       "30   ENSG00000116478  16500    \n",
       "⋮    ⋮               ⋮         \n",
       "1841 ENSG00000083750   75987   \n",
       "1842 ENSG00000083750  201573   \n",
       "1843 ENSG00000233661  103238   \n",
       "1844 ENSG00000050030    1127   \n",
       "1845 ENSG00000094841   86414   \n",
       "1846 ENSG00000122145  303799   \n",
       "1847 ENSG00000165288    1534   \n",
       "1848 ENSG00000131171  148081   \n",
       "1849 ENSG00000131171  695415   \n",
       "1850 ENSG00000155008   91774   \n",
       "1851 ENSG00000237506  481517   \n",
       "1852 ENSG00000204086   47350   \n",
       "1853 ENSG00000230592  255596   \n",
       "1854 ENSG00000166681   43508   \n",
       "1855 ENSG00000123575   86684   \n",
       "1856 ENSG00000189108    1935   \n",
       "1857 ENSG00000080561    1134   \n",
       "1858 ENSG00000133124  332514   \n",
       "1859 ENSG00000182508  382605   \n",
       "1860 ENSG00000126016  944145   \n",
       "1861 ENSG00000147251    1011   \n",
       "1862 ENSG00000186416   30397   \n",
       "1863 ENSG00000125676    2135   \n",
       "1864 ENSG00000009694 1509177   \n",
       "1865 ENSG00000232160  470486   \n",
       "1866 ENSG00000147257    1665   \n",
       "1867 ENSG00000129682  512293   \n",
       "1868 ENSG00000235961  108771   \n",
       "1869 ENSG00000196924   82597   \n",
       "1870 ENSG00000196924   76054   "
      ]
     },
     "metadata": {},
     "output_type": "display_data"
    }
   ],
   "source": [
    "Bcell_unclustered_loose_cellspecific.100NN.GM_ENSGnoVersionGENESYMBOL_minTPM0.TAD_filtered.1NN"
   ]
  },
  {
   "cell_type": "code",
   "execution_count": 11,
   "id": "109dc850",
   "metadata": {},
   "outputs": [
    {
     "name": "stdout",
     "output_type": "stream",
     "text": [
      "[1] \"Done.\"\n",
      "[1] \"Done.\"\n",
      "[1] \"Done.\"\n"
     ]
    }
   ],
   "source": [
    "Bcell_clusters_containsCS.100NN.GM_ENSGnoVersionGENESYMBOL_minTPM0.TAD_filtered.1NN <-Bcell_clusters_containsCS.100NN.GM_ENSGnoVersionGENESYMBOL_minTPM0.TAD_filtered %>% \n",
    "group_by(ChrHMR, StartHMR) %>% # Group by each HMR\n",
    "top_n(n = 1, wt = -HMRTSSDist) %>%  # Take top row by lowest Distance\n",
    "top_n(n = 1, wt = TPM) %>%  # Might overlap two genes or have a tie in dist. Take top TPM\n",
    "top_n(n = 1, wt = GENE_SYMBOL)  # Might still overlap two genes with same TPM (often 0TPM), so take first alphabetically\n",
    "print(\"Done.\")\n",
    "\n",
    "Bcell_unclustered_cellspecific.100NN.GM_ENSGnoVersionGENESYMBOL_minTPM0.TAD_filtered.1NN <-Bcell_unclustered_cellspecific.100NN.GM_ENSGnoVersionGENESYMBOL_minTPM0.TAD_filtered %>%\n",
    "group_by(ChrHMR, StartHMR) %>% # Group by each HMR\n",
    "top_n(n = 1, wt = -HMRTSSDist) %>%  # Take top row by lowest Distance\n",
    "top_n(n = 1, wt = TPM) %>%  # Might overlap two genes or have a tie in dist. Take top TPM\n",
    "top_n(n = 1, wt = GENE_SYMBOL)  # Might still overlap two genes with same TPM (often 0TPM), so take first alphabetically\n",
    "print(\"Done.\")\n",
    "\n",
    "Bcell_unclustered_loose_cellspecific.100NN.GM_ENSGnoVersionGENESYMBOL_minTPM0.TAD_filtered.1NN <-Bcell_unclustered_loose_cellspecific.100NN.GM_ENSGnoVersionGENESYMBOL_minTPM0.TAD_filtered %>%\n",
    "group_by(ChrHMR, StartHMR) %>% # Group by each HMR\n",
    "top_n(n = 1, wt = -HMRTSSDist) %>%  # Take top row by lowest Distance\n",
    "top_n(n = 1, wt = TPM) %>%  # Might overlap two genes or have a tie in dist. Take top TPM\n",
    "top_n(n = 1, wt = GENE_SYMBOL)  # Might still overlap two genes with same TPM (often 0TPM), so take first alphabetically\n",
    "print(\"Done.\")"
   ]
  },
  {
   "cell_type": "markdown",
   "id": "a2f15451",
   "metadata": {},
   "source": [
    "## Calculate fractions"
   ]
  },
  {
   "cell_type": "code",
   "execution_count": 12,
   "id": "cdf49f7b",
   "metadata": {
    "scrolled": true
   },
   "outputs": [
    {
     "data": {
      "text/html": [
       "<table class=\"dataframe\">\n",
       "<caption>A grouped_df: 1870 × 15</caption>\n",
       "<thead>\n",
       "\t<tr><th scope=col>ChrHMRTSS</th><th scope=col>StartHMRTSS</th><th scope=col>EndHMRTSS</th><th scope=col>ChrHMR</th><th scope=col>StartHMR</th><th scope=col>EndHMR</th><th scope=col>HMRGroup</th><th scope=col>ChrTSS</th><th scope=col>StartTSS</th><th scope=col>EndTSS</th><th scope=col>TPM</th><th scope=col>strand</th><th scope=col>GENE_SYMBOL</th><th scope=col>ENSEMBL</th><th scope=col>HMRTSSDist</th></tr>\n",
       "\t<tr><th scope=col>&lt;chr&gt;</th><th scope=col>&lt;dbl&gt;</th><th scope=col>&lt;dbl&gt;</th><th scope=col>&lt;chr&gt;</th><th scope=col>&lt;dbl&gt;</th><th scope=col>&lt;dbl&gt;</th><th scope=col>&lt;chr&gt;</th><th scope=col>&lt;chr&gt;</th><th scope=col>&lt;dbl&gt;</th><th scope=col>&lt;dbl&gt;</th><th scope=col>&lt;dbl&gt;</th><th scope=col>&lt;dbl&gt;</th><th scope=col>&lt;chr&gt;</th><th scope=col>&lt;chr&gt;</th><th scope=col>&lt;dbl&gt;</th></tr>\n",
       "</thead>\n",
       "<tbody>\n",
       "\t<tr><td>chr1</td><td> 1385069</td><td> 1394334</td><td>chr1</td><td> 1394021</td><td> 1394334</td><td>Bcell_UnclusteredCS</td><td>chr1</td><td> 1385069</td><td> 1385070</td><td>   0.525</td><td> 1</td><td>ATAD3C  </td><td>ENSG00000215915</td><td>  8952</td></tr>\n",
       "\t<tr><td>chr1</td><td> 1981909</td><td> 2032210</td><td>chr1</td><td> 2032031</td><td> 2032210</td><td>Bcell_UnclusteredCS</td><td>chr1</td><td> 1981909</td><td> 1981910</td><td>   0.575</td><td> 1</td><td>PRKCZ   </td><td>ENSG00000067606</td><td> 50122</td></tr>\n",
       "\t<tr><td>chr1</td><td> 2263385</td><td> 2323147</td><td>chr1</td><td> 2263385</td><td> 2263443</td><td>Bcell_UnclusteredCS</td><td>chr1</td><td> 2323146</td><td> 2323147</td><td>   2.535</td><td>-1</td><td>MORN1   </td><td>ENSG00000116151</td><td> 59704</td></tr>\n",
       "\t<tr><td>chr1</td><td> 3569325</td><td> 3573852</td><td>chr1</td><td> 3573086</td><td> 3573852</td><td>Bcell_UnclusteredCS</td><td>chr1</td><td> 3569325</td><td> 3569326</td><td>  15.720</td><td>-1</td><td>WRAP73  </td><td>ENSG00000116213</td><td>  3761</td></tr>\n",
       "\t<tr><td>chr1</td><td> 6052533</td><td> 6073327</td><td>chr1</td><td> 6073217</td><td> 6073327</td><td>Bcell_UnclusteredCS</td><td>chr1</td><td> 6052533</td><td> 6052534</td><td>   3.605</td><td>-1</td><td>NPHP4   </td><td>ENSG00000131697</td><td> 20684</td></tr>\n",
       "\t<tr><td>chr1</td><td> 6659636</td><td> 6673746</td><td>chr1</td><td> 6659636</td><td> 6660325</td><td>Bcell_UnclusteredCS</td><td>chr1</td><td> 6673745</td><td> 6673746</td><td>   5.935</td><td> 1</td><td>PHF13   </td><td>ENSG00000116273</td><td> 13421</td></tr>\n",
       "\t<tr><td>chr1</td><td>12079523</td><td>12101107</td><td>chr1</td><td>12100074</td><td>12101107</td><td>Bcell_UnclusteredCS</td><td>chr1</td><td>12079523</td><td>12079524</td><td>  21.715</td><td> 1</td><td>MIIP    </td><td>ENSG00000116691</td><td> 20551</td></tr>\n",
       "\t<tr><td>chr1</td><td>12227060</td><td>12258322</td><td>chr1</td><td>12258053</td><td>12258322</td><td>Bcell_UnclusteredCS</td><td>chr1</td><td>12227060</td><td>12227061</td><td>  31.810</td><td> 1</td><td>TNFRSF1B</td><td>ENSG00000028137</td><td> 30993</td></tr>\n",
       "\t<tr><td>chr1</td><td>14925200</td><td>15040438</td><td>chr1</td><td>15040254</td><td>15040438</td><td>Bcell_UnclusteredCS</td><td>chr1</td><td>14925200</td><td>14925201</td><td>   1.670</td><td> 1</td><td>KAZN    </td><td>ENSG00000189337</td><td>115054</td></tr>\n",
       "\t<tr><td>chr1</td><td>18404348</td><td>18434241</td><td>chr1</td><td>18404348</td><td>18404580</td><td>Bcell_UnclusteredCS</td><td>chr1</td><td>18434240</td><td>18434241</td><td>   0.045</td><td> 1</td><td>IGSF21  </td><td>ENSG00000117154</td><td> 29661</td></tr>\n",
       "\t<tr><td>chr1</td><td>19186176</td><td>19195881</td><td>chr1</td><td>19195721</td><td>19195881</td><td>Bcell_UnclusteredCS</td><td>chr1</td><td>19186176</td><td>19186177</td><td>   0.005</td><td>-1</td><td>TAS1R2  </td><td>ENSG00000179002</td><td>  9545</td></tr>\n",
       "\t<tr><td>chr1</td><td>22087677</td><td>22110100</td><td>chr1</td><td>22087677</td><td>22089082</td><td>Bcell_UnclusteredCS</td><td>chr1</td><td>22110099</td><td>22110100</td><td>  37.530</td><td>-1</td><td>USP48   </td><td>ENSG00000090686</td><td> 21018</td></tr>\n",
       "\t<tr><td>chr1</td><td>22106294</td><td>22110100</td><td>chr1</td><td>22106294</td><td>22106773</td><td>Bcell_UnclusteredCS</td><td>chr1</td><td>22110099</td><td>22110100</td><td>  37.530</td><td>-1</td><td>USP48   </td><td>ENSG00000090686</td><td>  3327</td></tr>\n",
       "\t<tr><td>chr1</td><td>22470462</td><td>22482011</td><td>chr1</td><td>22481946</td><td>22482011</td><td>Bcell_UnclusteredCS</td><td>chr1</td><td>22470462</td><td>22470463</td><td>   0.040</td><td>-1</td><td>WNT4    </td><td>ENSG00000162552</td><td> 11484</td></tr>\n",
       "\t<tr><td>chr1</td><td>24514449</td><td>24553751</td><td>chr1</td><td>24553383</td><td>24553751</td><td>Bcell_UnclusteredCS</td><td>chr1</td><td>24514449</td><td>24514450</td><td>   1.720</td><td>-1</td><td>IFNLR1  </td><td>ENSG00000185436</td><td> 38934</td></tr>\n",
       "\t<tr><td>chr1</td><td>24860964</td><td>24882603</td><td>chr1</td><td>24860964</td><td>24861150</td><td>Bcell_UnclusteredCS</td><td>chr1</td><td>24882602</td><td>24882603</td><td>   0.005</td><td> 1</td><td>NCMAP   </td><td>ENSG00000184454</td><td> 21453</td></tr>\n",
       "\t<tr><td>chr1</td><td>25242448</td><td>25291613</td><td>chr1</td><td>25242448</td><td>25242570</td><td>Bcell_UnclusteredCS</td><td>chr1</td><td>25291612</td><td>25291613</td><td>  57.410</td><td>-1</td><td>RUNX3   </td><td>ENSG00000020633</td><td> 49043</td></tr>\n",
       "\t<tr><td>chr1</td><td>25291612</td><td>25373247</td><td>chr1</td><td>25372734</td><td>25373247</td><td>Bcell_UnclusteredCS</td><td>chr1</td><td>25291612</td><td>25291613</td><td>  57.410</td><td>-1</td><td>RUNX3   </td><td>ENSG00000020633</td><td> 81122</td></tr>\n",
       "\t<tr><td>chr1</td><td>25943959</td><td>25956163</td><td>chr1</td><td>25955620</td><td>25956163</td><td>Bcell_UnclusteredCS</td><td>chr1</td><td>25943959</td><td>25943960</td><td>   0.075</td><td> 1</td><td>MAN1C1  </td><td>ENSG00000117643</td><td> 11661</td></tr>\n",
       "\t<tr><td>chr1</td><td>26126667</td><td>26131354</td><td>chr1</td><td>26131133</td><td>26131354</td><td>Bcell_UnclusteredCS</td><td>chr1</td><td>26126667</td><td>26126668</td><td>   1.770</td><td> 1</td><td>SEPN1   </td><td>ENSG00000162430</td><td>  4466</td></tr>\n",
       "\t<tr><td>chr1</td><td>27433141</td><td>27493473</td><td>chr1</td><td>27433141</td><td>27433285</td><td>Bcell_UnclusteredCS</td><td>chr1</td><td>27493472</td><td>27493473</td><td>   7.615</td><td>-1</td><td>SLC9A1  </td><td>ENSG00000090020</td><td> 60188</td></tr>\n",
       "\t<tr><td>chr1</td><td>27693383</td><td>27696751</td><td>chr1</td><td>27696156</td><td>27696751</td><td>Bcell_UnclusteredCS</td><td>chr1</td><td>27693383</td><td>27693384</td><td>   0.795</td><td>-1</td><td>MAP3K6  </td><td>ENSG00000142733</td><td>  2773</td></tr>\n",
       "\t<tr><td>chr1</td><td>27768425</td><td>27816670</td><td>chr1</td><td>27768425</td><td>27769315</td><td>Bcell_UnclusteredCS</td><td>chr1</td><td>27816669</td><td>27816670</td><td>  42.775</td><td>-1</td><td>WASF2   </td><td>ENSG00000158195</td><td> 47355</td></tr>\n",
       "\t<tr><td>chr1</td><td>27809797</td><td>27816670</td><td>chr1</td><td>27809797</td><td>27810107</td><td>Bcell_UnclusteredCS</td><td>chr1</td><td>27816669</td><td>27816670</td><td>  42.775</td><td>-1</td><td>WASF2   </td><td>ENSG00000158195</td><td>  6563</td></tr>\n",
       "\t<tr><td>chr1</td><td>28199055</td><td>28217318</td><td>chr1</td><td>28216907</td><td>28217318</td><td>Bcell_UnclusteredCS</td><td>chr1</td><td>28199055</td><td>28199056</td><td>  20.935</td><td> 1</td><td>THEMIS2 </td><td>ENSG00000130775</td><td> 17852</td></tr>\n",
       "\t<tr><td>chr1</td><td>28835071</td><td>28838132</td><td>chr1</td><td>28837950</td><td>28838132</td><td>Bcell_UnclusteredCS</td><td>chr1</td><td>28835071</td><td>28835072</td><td>3464.135</td><td> 1</td><td>SNORA73B</td><td>ENSG00000200087</td><td>  2879</td></tr>\n",
       "\t<tr><td>chr1</td><td>32479430</td><td>32487531</td><td>chr1</td><td>32486412</td><td>32487531</td><td>Bcell_UnclusteredCS</td><td>chr1</td><td>32479430</td><td>32479431</td><td>  76.815</td><td> 1</td><td>KHDRBS1 </td><td>ENSG00000121774</td><td>  6982</td></tr>\n",
       "\t<tr><td>chr1</td><td>32716840</td><td>32719857</td><td>chr1</td><td>32719399</td><td>32719857</td><td>Bcell_UnclusteredCS</td><td>chr1</td><td>32716840</td><td>32716841</td><td>  51.700</td><td> 1</td><td>LCK     </td><td>ENSG00000182866</td><td>  2559</td></tr>\n",
       "\t<tr><td>chr1</td><td>32716840</td><td>32730715</td><td>chr1</td><td>32730435</td><td>32730715</td><td>Bcell_UnclusteredCS</td><td>chr1</td><td>32716840</td><td>32716841</td><td>  51.700</td><td> 1</td><td>LCK     </td><td>ENSG00000182866</td><td> 13595</td></tr>\n",
       "\t<tr><td>chr1</td><td>32757687</td><td>32774677</td><td>chr1</td><td>32774187</td><td>32774677</td><td>Bcell_UnclusteredCS</td><td>chr1</td><td>32757687</td><td>32757688</td><td>  58.740</td><td> 1</td><td>HDAC1   </td><td>ENSG00000116478</td><td> 16500</td></tr>\n",
       "\t<tr><td>⋮</td><td>⋮</td><td>⋮</td><td>⋮</td><td>⋮</td><td>⋮</td><td>⋮</td><td>⋮</td><td>⋮</td><td>⋮</td><td>⋮</td><td>⋮</td><td>⋮</td><td>⋮</td><td>⋮</td></tr>\n",
       "\t<tr><td>chrX</td><td> 55744172</td><td> 55821377</td><td>chrX</td><td> 55820159</td><td> 55821377</td><td>Bcell_UnclusteredCS</td><td>chrX</td><td> 55744172</td><td> 55744173</td><td>  3.835</td><td> 1</td><td>RRAGB    </td><td>ENSG00000083750</td><td>  75987</td></tr>\n",
       "\t<tr><td>chrX</td><td> 55744172</td><td> 55945983</td><td>chrX</td><td> 55945745</td><td> 55945983</td><td>Bcell_UnclusteredCS</td><td>chrX</td><td> 55744172</td><td> 55744173</td><td>  3.835</td><td> 1</td><td>RRAGB    </td><td>ENSG00000083750</td><td> 201573</td></tr>\n",
       "\t<tr><td>chrX</td><td> 62466185</td><td> 62569526</td><td>chrX</td><td> 62466185</td><td> 62466288</td><td>Bcell_UnclusteredCS</td><td>chrX</td><td> 62569525</td><td> 62569526</td><td>  0.070</td><td> 1</td><td>SPIN4-AS1</td><td>ENSG00000233661</td><td> 103238</td></tr>\n",
       "\t<tr><td>chrX</td><td> 74144035</td><td> 74145283</td><td>chrX</td><td> 74144035</td><td> 74144156</td><td>Bcell_UnclusteredCS</td><td>chrX</td><td> 74145282</td><td> 74145283</td><td>  2.810</td><td>-1</td><td>KIAA2022 </td><td>ENSG00000050030</td><td>   1127</td></tr>\n",
       "\t<tr><td>chrX</td><td> 74493920</td><td> 74580531</td><td>chrX</td><td> 74580334</td><td> 74580531</td><td>Bcell_UnclusteredCS</td><td>chrX</td><td> 74493920</td><td> 74493921</td><td>  4.105</td><td> 1</td><td>UPRT     </td><td>ENSG00000094841</td><td>  86414</td></tr>\n",
       "\t<tr><td>chrX</td><td> 78964620</td><td> 79270256</td><td>chrX</td><td> 78964620</td><td> 78966457</td><td>Bcell_UnclusteredCS</td><td>chrX</td><td> 79270255</td><td> 79270256</td><td>  0.005</td><td> 1</td><td>TBX22    </td><td>ENSG00000122145</td><td> 303799</td></tr>\n",
       "\t<tr><td>chrX</td><td> 80063348</td><td> 80065188</td><td>chrX</td><td> 80063348</td><td> 80063654</td><td>Bcell_UnclusteredCS</td><td>chrX</td><td> 80065187</td><td> 80065188</td><td>  4.925</td><td>-1</td><td>BRWD3    </td><td>ENSG00000165288</td><td>   1534</td></tr>\n",
       "\t<tr><td>chrX</td><td> 80457442</td><td> 80605724</td><td>chrX</td><td> 80605523</td><td> 80605724</td><td>Bcell_UnclusteredCS</td><td>chrX</td><td> 80457442</td><td> 80457443</td><td> 35.375</td><td> 1</td><td>SH3BGRL  </td><td>ENSG00000131171</td><td> 148081</td></tr>\n",
       "\t<tr><td>chrX</td><td> 80457442</td><td> 81153643</td><td>chrX</td><td> 81152857</td><td> 81153643</td><td>Bcell_UnclusteredCS</td><td>chrX</td><td> 80457442</td><td> 80457443</td><td> 35.375</td><td> 1</td><td>SH3BGRL  </td><td>ENSG00000131171</td><td> 695415</td></tr>\n",
       "\t<tr><td>chrX</td><td> 84258832</td><td> 84350826</td><td>chrX</td><td> 84350606</td><td> 84350826</td><td>Bcell_UnclusteredCS</td><td>chrX</td><td> 84258832</td><td> 84258833</td><td>  5.420</td><td> 1</td><td>APOOL    </td><td>ENSG00000155008</td><td>  91774</td></tr>\n",
       "\t<tr><td>chrX</td><td> 86959307</td><td> 87442057</td><td>chrX</td><td> 87440824</td><td> 87442057</td><td>Bcell_UnclusteredCS</td><td>chrX</td><td> 86959307</td><td> 86959308</td><td>  0.050</td><td>-1</td><td>RPSAP15  </td><td>ENSG00000237506</td><td> 481517</td></tr>\n",
       "\t<tr><td>chrX</td><td> 96090821</td><td> 96138908</td><td>chrX</td><td> 96090821</td><td> 96091558</td><td>Bcell_UnclusteredCS</td><td>chrX</td><td> 96138907</td><td> 96138908</td><td>  0.245</td><td> 1</td><td>RPA4     </td><td>ENSG00000204086</td><td>  47350</td></tr>\n",
       "\t<tr><td>chrX</td><td> 99411771</td><td> 99668486</td><td>chrX</td><td> 99667367</td><td> 99668486</td><td>Bcell_UnclusteredCS</td><td>chrX</td><td> 99411771</td><td> 99411772</td><td>  0.050</td><td>-1</td><td>RPSAP8   </td><td>ENSG00000230592</td><td> 255596</td></tr>\n",
       "\t<tr><td>chrX</td><td>102631268</td><td>102674865</td><td>chrX</td><td>102674776</td><td>102674865</td><td>Bcell_UnclusteredCS</td><td>chrX</td><td>102631268</td><td>102631269</td><td>  0.340</td><td> 1</td><td>NGFRAP1  </td><td>ENSG00000166681</td><td>  43508</td></tr>\n",
       "\t<tr><td>chrX</td><td>103411301</td><td>103498317</td><td>chrX</td><td>103497985</td><td>103498317</td><td>Bcell_UnclusteredCS</td><td>chrX</td><td>103411301</td><td>103411302</td><td>  3.740</td><td> 1</td><td>FAM199X  </td><td>ENSG00000123575</td><td>  86684</td></tr>\n",
       "\t<tr><td>chrX</td><td>103810996</td><td>103813358</td><td>chrX</td><td>103812931</td><td>103813358</td><td>Bcell_UnclusteredCS</td><td>chrX</td><td>103810996</td><td>103810997</td><td>  0.005</td><td> 1</td><td>IL1RAPL2 </td><td>ENSG00000189108</td><td>   1935</td></tr>\n",
       "\t<tr><td>chrX</td><td>107068985</td><td>107070514</td><td>chrX</td><td>107070119</td><td>107070514</td><td>Bcell_UnclusteredCS</td><td>chrX</td><td>107068985</td><td>107068986</td><td>  0.040</td><td> 1</td><td>MID2     </td><td>ENSG00000080561</td><td>   1134</td></tr>\n",
       "\t<tr><td>chrX</td><td>107979651</td><td>108313755</td><td>chrX</td><td>108312165</td><td>108313755</td><td>Bcell_UnclusteredCS</td><td>chrX</td><td>107979651</td><td>107979652</td><td>  0.010</td><td>-1</td><td>IRS4     </td><td>ENSG00000133124</td><td> 332514</td></tr>\n",
       "\t<tr><td>chrX</td><td>111540424</td><td>111923376</td><td>chrX</td><td>111540424</td><td>111540771</td><td>Bcell_UnclusteredCS</td><td>chrX</td><td>111923375</td><td>111923376</td><td>  0.155</td><td>-1</td><td>LHFPL1   </td><td>ENSG00000182508</td><td> 382605</td></tr>\n",
       "\t<tr><td>chrX</td><td>112084043</td><td>113028341</td><td>chrX</td><td>113028188</td><td>113028341</td><td>Bcell_UnclusteredCS</td><td>chrX</td><td>112084043</td><td>112084044</td><td>  5.185</td><td>-1</td><td>AMOT     </td><td>ENSG00000126016</td><td> 944145</td></tr>\n",
       "\t<tr><td>chrX</td><td>117629861</td><td>117631780</td><td>chrX</td><td>117630872</td><td>117631780</td><td>Bcell_UnclusteredCS</td><td>chrX</td><td>117629861</td><td>117629862</td><td>  9.130</td><td> 1</td><td>DOCK11   </td><td>ENSG00000147251</td><td>   1011</td></tr>\n",
       "\t<tr><td>chrX</td><td>118739858</td><td>118770984</td><td>chrX</td><td>118770255</td><td>118770984</td><td>Bcell_UnclusteredCS</td><td>chrX</td><td>118739858</td><td>118739859</td><td>  7.975</td><td>-1</td><td>NKRF     </td><td>ENSG00000186416</td><td>  30397</td></tr>\n",
       "\t<tr><td>chrX</td><td>122864707</td><td>122866907</td><td>chrX</td><td>122864707</td><td>122864772</td><td>Bcell_UnclusteredCS</td><td>chrX</td><td>122866906</td><td>122866907</td><td> 26.655</td><td>-1</td><td>THOC2    </td><td>ENSG00000125676</td><td>   2135</td></tr>\n",
       "\t<tr><td>chrX</td><td>124097666</td><td>125607233</td><td>chrX</td><td>125606843</td><td>125607233</td><td>Bcell_UnclusteredCS</td><td>chrX</td><td>124097666</td><td>124097667</td><td>  0.005</td><td>-1</td><td>TENM1    </td><td>ENSG00000009694</td><td>1509177</td></tr>\n",
       "\t<tr><td>chrX</td><td>130880224</td><td>131351176</td><td>chrX</td><td>130880224</td><td>130880690</td><td>Bcell_UnclusteredCS</td><td>chrX</td><td>131351175</td><td>131351176</td><td>  0.410</td><td> 1</td><td>RAP2C-AS1</td><td>ENSG00000232160</td><td> 470486</td></tr>\n",
       "\t<tr><td>chrX</td><td>133118185</td><td>133119923</td><td>chrX</td><td>133118185</td><td>133118258</td><td>Bcell_UnclusteredCS</td><td>chrX</td><td>133119922</td><td>133119923</td><td>  0.270</td><td>-1</td><td>GPC3     </td><td>ENSG00000147257</td><td>   1665</td></tr>\n",
       "\t<tr><td>chrX</td><td>137792247</td><td>138304940</td><td>chrX</td><td>137792247</td><td>137792647</td><td>Bcell_UnclusteredCS</td><td>chrX</td><td>138304939</td><td>138304940</td><td>  0.060</td><td>-1</td><td>FGF13    </td><td>ENSG00000129682</td><td> 512293</td></tr>\n",
       "\t<tr><td>chrX</td><td>152240819</td><td>152349916</td><td>chrX</td><td>152349590</td><td>152349916</td><td>Bcell_UnclusteredCS</td><td>chrX</td><td>152240819</td><td>152240820</td><td>  0.010</td><td> 1</td><td>PNMA6C   </td><td>ENSG00000235961</td><td> 108771</td></tr>\n",
       "\t<tr><td>chrX</td><td>153519895</td><td>153603007</td><td>chrX</td><td>153519895</td><td>153520410</td><td>Bcell_UnclusteredCS</td><td>chrX</td><td>153603006</td><td>153603007</td><td>241.275</td><td>-1</td><td>FLNA     </td><td>ENSG00000196924</td><td>  82597</td></tr>\n",
       "\t<tr><td>chrX</td><td>153526648</td><td>153603007</td><td>chrX</td><td>153526648</td><td>153526953</td><td>Bcell_UnclusteredCS</td><td>chrX</td><td>153603006</td><td>153603007</td><td>241.275</td><td>-1</td><td>FLNA     </td><td>ENSG00000196924</td><td>  76054</td></tr>\n",
       "</tbody>\n",
       "</table>\n"
      ],
      "text/latex": [
       "A grouped\\_df: 1870 × 15\n",
       "\\begin{tabular}{lllllllllllllll}\n",
       " ChrHMRTSS & StartHMRTSS & EndHMRTSS & ChrHMR & StartHMR & EndHMR & HMRGroup & ChrTSS & StartTSS & EndTSS & TPM & strand & GENE\\_SYMBOL & ENSEMBL & HMRTSSDist\\\\\n",
       " <chr> & <dbl> & <dbl> & <chr> & <dbl> & <dbl> & <chr> & <chr> & <dbl> & <dbl> & <dbl> & <dbl> & <chr> & <chr> & <dbl>\\\\\n",
       "\\hline\n",
       "\t chr1 &  1385069 &  1394334 & chr1 &  1394021 &  1394334 & Bcell\\_UnclusteredCS & chr1 &  1385069 &  1385070 &    0.525 &  1 & ATAD3C   & ENSG00000215915 &   8952\\\\\n",
       "\t chr1 &  1981909 &  2032210 & chr1 &  2032031 &  2032210 & Bcell\\_UnclusteredCS & chr1 &  1981909 &  1981910 &    0.575 &  1 & PRKCZ    & ENSG00000067606 &  50122\\\\\n",
       "\t chr1 &  2263385 &  2323147 & chr1 &  2263385 &  2263443 & Bcell\\_UnclusteredCS & chr1 &  2323146 &  2323147 &    2.535 & -1 & MORN1    & ENSG00000116151 &  59704\\\\\n",
       "\t chr1 &  3569325 &  3573852 & chr1 &  3573086 &  3573852 & Bcell\\_UnclusteredCS & chr1 &  3569325 &  3569326 &   15.720 & -1 & WRAP73   & ENSG00000116213 &   3761\\\\\n",
       "\t chr1 &  6052533 &  6073327 & chr1 &  6073217 &  6073327 & Bcell\\_UnclusteredCS & chr1 &  6052533 &  6052534 &    3.605 & -1 & NPHP4    & ENSG00000131697 &  20684\\\\\n",
       "\t chr1 &  6659636 &  6673746 & chr1 &  6659636 &  6660325 & Bcell\\_UnclusteredCS & chr1 &  6673745 &  6673746 &    5.935 &  1 & PHF13    & ENSG00000116273 &  13421\\\\\n",
       "\t chr1 & 12079523 & 12101107 & chr1 & 12100074 & 12101107 & Bcell\\_UnclusteredCS & chr1 & 12079523 & 12079524 &   21.715 &  1 & MIIP     & ENSG00000116691 &  20551\\\\\n",
       "\t chr1 & 12227060 & 12258322 & chr1 & 12258053 & 12258322 & Bcell\\_UnclusteredCS & chr1 & 12227060 & 12227061 &   31.810 &  1 & TNFRSF1B & ENSG00000028137 &  30993\\\\\n",
       "\t chr1 & 14925200 & 15040438 & chr1 & 15040254 & 15040438 & Bcell\\_UnclusteredCS & chr1 & 14925200 & 14925201 &    1.670 &  1 & KAZN     & ENSG00000189337 & 115054\\\\\n",
       "\t chr1 & 18404348 & 18434241 & chr1 & 18404348 & 18404580 & Bcell\\_UnclusteredCS & chr1 & 18434240 & 18434241 &    0.045 &  1 & IGSF21   & ENSG00000117154 &  29661\\\\\n",
       "\t chr1 & 19186176 & 19195881 & chr1 & 19195721 & 19195881 & Bcell\\_UnclusteredCS & chr1 & 19186176 & 19186177 &    0.005 & -1 & TAS1R2   & ENSG00000179002 &   9545\\\\\n",
       "\t chr1 & 22087677 & 22110100 & chr1 & 22087677 & 22089082 & Bcell\\_UnclusteredCS & chr1 & 22110099 & 22110100 &   37.530 & -1 & USP48    & ENSG00000090686 &  21018\\\\\n",
       "\t chr1 & 22106294 & 22110100 & chr1 & 22106294 & 22106773 & Bcell\\_UnclusteredCS & chr1 & 22110099 & 22110100 &   37.530 & -1 & USP48    & ENSG00000090686 &   3327\\\\\n",
       "\t chr1 & 22470462 & 22482011 & chr1 & 22481946 & 22482011 & Bcell\\_UnclusteredCS & chr1 & 22470462 & 22470463 &    0.040 & -1 & WNT4     & ENSG00000162552 &  11484\\\\\n",
       "\t chr1 & 24514449 & 24553751 & chr1 & 24553383 & 24553751 & Bcell\\_UnclusteredCS & chr1 & 24514449 & 24514450 &    1.720 & -1 & IFNLR1   & ENSG00000185436 &  38934\\\\\n",
       "\t chr1 & 24860964 & 24882603 & chr1 & 24860964 & 24861150 & Bcell\\_UnclusteredCS & chr1 & 24882602 & 24882603 &    0.005 &  1 & NCMAP    & ENSG00000184454 &  21453\\\\\n",
       "\t chr1 & 25242448 & 25291613 & chr1 & 25242448 & 25242570 & Bcell\\_UnclusteredCS & chr1 & 25291612 & 25291613 &   57.410 & -1 & RUNX3    & ENSG00000020633 &  49043\\\\\n",
       "\t chr1 & 25291612 & 25373247 & chr1 & 25372734 & 25373247 & Bcell\\_UnclusteredCS & chr1 & 25291612 & 25291613 &   57.410 & -1 & RUNX3    & ENSG00000020633 &  81122\\\\\n",
       "\t chr1 & 25943959 & 25956163 & chr1 & 25955620 & 25956163 & Bcell\\_UnclusteredCS & chr1 & 25943959 & 25943960 &    0.075 &  1 & MAN1C1   & ENSG00000117643 &  11661\\\\\n",
       "\t chr1 & 26126667 & 26131354 & chr1 & 26131133 & 26131354 & Bcell\\_UnclusteredCS & chr1 & 26126667 & 26126668 &    1.770 &  1 & SEPN1    & ENSG00000162430 &   4466\\\\\n",
       "\t chr1 & 27433141 & 27493473 & chr1 & 27433141 & 27433285 & Bcell\\_UnclusteredCS & chr1 & 27493472 & 27493473 &    7.615 & -1 & SLC9A1   & ENSG00000090020 &  60188\\\\\n",
       "\t chr1 & 27693383 & 27696751 & chr1 & 27696156 & 27696751 & Bcell\\_UnclusteredCS & chr1 & 27693383 & 27693384 &    0.795 & -1 & MAP3K6   & ENSG00000142733 &   2773\\\\\n",
       "\t chr1 & 27768425 & 27816670 & chr1 & 27768425 & 27769315 & Bcell\\_UnclusteredCS & chr1 & 27816669 & 27816670 &   42.775 & -1 & WASF2    & ENSG00000158195 &  47355\\\\\n",
       "\t chr1 & 27809797 & 27816670 & chr1 & 27809797 & 27810107 & Bcell\\_UnclusteredCS & chr1 & 27816669 & 27816670 &   42.775 & -1 & WASF2    & ENSG00000158195 &   6563\\\\\n",
       "\t chr1 & 28199055 & 28217318 & chr1 & 28216907 & 28217318 & Bcell\\_UnclusteredCS & chr1 & 28199055 & 28199056 &   20.935 &  1 & THEMIS2  & ENSG00000130775 &  17852\\\\\n",
       "\t chr1 & 28835071 & 28838132 & chr1 & 28837950 & 28838132 & Bcell\\_UnclusteredCS & chr1 & 28835071 & 28835072 & 3464.135 &  1 & SNORA73B & ENSG00000200087 &   2879\\\\\n",
       "\t chr1 & 32479430 & 32487531 & chr1 & 32486412 & 32487531 & Bcell\\_UnclusteredCS & chr1 & 32479430 & 32479431 &   76.815 &  1 & KHDRBS1  & ENSG00000121774 &   6982\\\\\n",
       "\t chr1 & 32716840 & 32719857 & chr1 & 32719399 & 32719857 & Bcell\\_UnclusteredCS & chr1 & 32716840 & 32716841 &   51.700 &  1 & LCK      & ENSG00000182866 &   2559\\\\\n",
       "\t chr1 & 32716840 & 32730715 & chr1 & 32730435 & 32730715 & Bcell\\_UnclusteredCS & chr1 & 32716840 & 32716841 &   51.700 &  1 & LCK      & ENSG00000182866 &  13595\\\\\n",
       "\t chr1 & 32757687 & 32774677 & chr1 & 32774187 & 32774677 & Bcell\\_UnclusteredCS & chr1 & 32757687 & 32757688 &   58.740 &  1 & HDAC1    & ENSG00000116478 &  16500\\\\\n",
       "\t ⋮ & ⋮ & ⋮ & ⋮ & ⋮ & ⋮ & ⋮ & ⋮ & ⋮ & ⋮ & ⋮ & ⋮ & ⋮ & ⋮ & ⋮\\\\\n",
       "\t chrX &  55744172 &  55821377 & chrX &  55820159 &  55821377 & Bcell\\_UnclusteredCS & chrX &  55744172 &  55744173 &   3.835 &  1 & RRAGB     & ENSG00000083750 &   75987\\\\\n",
       "\t chrX &  55744172 &  55945983 & chrX &  55945745 &  55945983 & Bcell\\_UnclusteredCS & chrX &  55744172 &  55744173 &   3.835 &  1 & RRAGB     & ENSG00000083750 &  201573\\\\\n",
       "\t chrX &  62466185 &  62569526 & chrX &  62466185 &  62466288 & Bcell\\_UnclusteredCS & chrX &  62569525 &  62569526 &   0.070 &  1 & SPIN4-AS1 & ENSG00000233661 &  103238\\\\\n",
       "\t chrX &  74144035 &  74145283 & chrX &  74144035 &  74144156 & Bcell\\_UnclusteredCS & chrX &  74145282 &  74145283 &   2.810 & -1 & KIAA2022  & ENSG00000050030 &    1127\\\\\n",
       "\t chrX &  74493920 &  74580531 & chrX &  74580334 &  74580531 & Bcell\\_UnclusteredCS & chrX &  74493920 &  74493921 &   4.105 &  1 & UPRT      & ENSG00000094841 &   86414\\\\\n",
       "\t chrX &  78964620 &  79270256 & chrX &  78964620 &  78966457 & Bcell\\_UnclusteredCS & chrX &  79270255 &  79270256 &   0.005 &  1 & TBX22     & ENSG00000122145 &  303799\\\\\n",
       "\t chrX &  80063348 &  80065188 & chrX &  80063348 &  80063654 & Bcell\\_UnclusteredCS & chrX &  80065187 &  80065188 &   4.925 & -1 & BRWD3     & ENSG00000165288 &    1534\\\\\n",
       "\t chrX &  80457442 &  80605724 & chrX &  80605523 &  80605724 & Bcell\\_UnclusteredCS & chrX &  80457442 &  80457443 &  35.375 &  1 & SH3BGRL   & ENSG00000131171 &  148081\\\\\n",
       "\t chrX &  80457442 &  81153643 & chrX &  81152857 &  81153643 & Bcell\\_UnclusteredCS & chrX &  80457442 &  80457443 &  35.375 &  1 & SH3BGRL   & ENSG00000131171 &  695415\\\\\n",
       "\t chrX &  84258832 &  84350826 & chrX &  84350606 &  84350826 & Bcell\\_UnclusteredCS & chrX &  84258832 &  84258833 &   5.420 &  1 & APOOL     & ENSG00000155008 &   91774\\\\\n",
       "\t chrX &  86959307 &  87442057 & chrX &  87440824 &  87442057 & Bcell\\_UnclusteredCS & chrX &  86959307 &  86959308 &   0.050 & -1 & RPSAP15   & ENSG00000237506 &  481517\\\\\n",
       "\t chrX &  96090821 &  96138908 & chrX &  96090821 &  96091558 & Bcell\\_UnclusteredCS & chrX &  96138907 &  96138908 &   0.245 &  1 & RPA4      & ENSG00000204086 &   47350\\\\\n",
       "\t chrX &  99411771 &  99668486 & chrX &  99667367 &  99668486 & Bcell\\_UnclusteredCS & chrX &  99411771 &  99411772 &   0.050 & -1 & RPSAP8    & ENSG00000230592 &  255596\\\\\n",
       "\t chrX & 102631268 & 102674865 & chrX & 102674776 & 102674865 & Bcell\\_UnclusteredCS & chrX & 102631268 & 102631269 &   0.340 &  1 & NGFRAP1   & ENSG00000166681 &   43508\\\\\n",
       "\t chrX & 103411301 & 103498317 & chrX & 103497985 & 103498317 & Bcell\\_UnclusteredCS & chrX & 103411301 & 103411302 &   3.740 &  1 & FAM199X   & ENSG00000123575 &   86684\\\\\n",
       "\t chrX & 103810996 & 103813358 & chrX & 103812931 & 103813358 & Bcell\\_UnclusteredCS & chrX & 103810996 & 103810997 &   0.005 &  1 & IL1RAPL2  & ENSG00000189108 &    1935\\\\\n",
       "\t chrX & 107068985 & 107070514 & chrX & 107070119 & 107070514 & Bcell\\_UnclusteredCS & chrX & 107068985 & 107068986 &   0.040 &  1 & MID2      & ENSG00000080561 &    1134\\\\\n",
       "\t chrX & 107979651 & 108313755 & chrX & 108312165 & 108313755 & Bcell\\_UnclusteredCS & chrX & 107979651 & 107979652 &   0.010 & -1 & IRS4      & ENSG00000133124 &  332514\\\\\n",
       "\t chrX & 111540424 & 111923376 & chrX & 111540424 & 111540771 & Bcell\\_UnclusteredCS & chrX & 111923375 & 111923376 &   0.155 & -1 & LHFPL1    & ENSG00000182508 &  382605\\\\\n",
       "\t chrX & 112084043 & 113028341 & chrX & 113028188 & 113028341 & Bcell\\_UnclusteredCS & chrX & 112084043 & 112084044 &   5.185 & -1 & AMOT      & ENSG00000126016 &  944145\\\\\n",
       "\t chrX & 117629861 & 117631780 & chrX & 117630872 & 117631780 & Bcell\\_UnclusteredCS & chrX & 117629861 & 117629862 &   9.130 &  1 & DOCK11    & ENSG00000147251 &    1011\\\\\n",
       "\t chrX & 118739858 & 118770984 & chrX & 118770255 & 118770984 & Bcell\\_UnclusteredCS & chrX & 118739858 & 118739859 &   7.975 & -1 & NKRF      & ENSG00000186416 &   30397\\\\\n",
       "\t chrX & 122864707 & 122866907 & chrX & 122864707 & 122864772 & Bcell\\_UnclusteredCS & chrX & 122866906 & 122866907 &  26.655 & -1 & THOC2     & ENSG00000125676 &    2135\\\\\n",
       "\t chrX & 124097666 & 125607233 & chrX & 125606843 & 125607233 & Bcell\\_UnclusteredCS & chrX & 124097666 & 124097667 &   0.005 & -1 & TENM1     & ENSG00000009694 & 1509177\\\\\n",
       "\t chrX & 130880224 & 131351176 & chrX & 130880224 & 130880690 & Bcell\\_UnclusteredCS & chrX & 131351175 & 131351176 &   0.410 &  1 & RAP2C-AS1 & ENSG00000232160 &  470486\\\\\n",
       "\t chrX & 133118185 & 133119923 & chrX & 133118185 & 133118258 & Bcell\\_UnclusteredCS & chrX & 133119922 & 133119923 &   0.270 & -1 & GPC3      & ENSG00000147257 &    1665\\\\\n",
       "\t chrX & 137792247 & 138304940 & chrX & 137792247 & 137792647 & Bcell\\_UnclusteredCS & chrX & 138304939 & 138304940 &   0.060 & -1 & FGF13     & ENSG00000129682 &  512293\\\\\n",
       "\t chrX & 152240819 & 152349916 & chrX & 152349590 & 152349916 & Bcell\\_UnclusteredCS & chrX & 152240819 & 152240820 &   0.010 &  1 & PNMA6C    & ENSG00000235961 &  108771\\\\\n",
       "\t chrX & 153519895 & 153603007 & chrX & 153519895 & 153520410 & Bcell\\_UnclusteredCS & chrX & 153603006 & 153603007 & 241.275 & -1 & FLNA      & ENSG00000196924 &   82597\\\\\n",
       "\t chrX & 153526648 & 153603007 & chrX & 153526648 & 153526953 & Bcell\\_UnclusteredCS & chrX & 153603006 & 153603007 & 241.275 & -1 & FLNA      & ENSG00000196924 &   76054\\\\\n",
       "\\end{tabular}\n"
      ],
      "text/markdown": [
       "\n",
       "A grouped_df: 1870 × 15\n",
       "\n",
       "| ChrHMRTSS &lt;chr&gt; | StartHMRTSS &lt;dbl&gt; | EndHMRTSS &lt;dbl&gt; | ChrHMR &lt;chr&gt; | StartHMR &lt;dbl&gt; | EndHMR &lt;dbl&gt; | HMRGroup &lt;chr&gt; | ChrTSS &lt;chr&gt; | StartTSS &lt;dbl&gt; | EndTSS &lt;dbl&gt; | TPM &lt;dbl&gt; | strand &lt;dbl&gt; | GENE_SYMBOL &lt;chr&gt; | ENSEMBL &lt;chr&gt; | HMRTSSDist &lt;dbl&gt; |\n",
       "|---|---|---|---|---|---|---|---|---|---|---|---|---|---|---|\n",
       "| chr1 |  1385069 |  1394334 | chr1 |  1394021 |  1394334 | Bcell_UnclusteredCS | chr1 |  1385069 |  1385070 |    0.525 |  1 | ATAD3C   | ENSG00000215915 |   8952 |\n",
       "| chr1 |  1981909 |  2032210 | chr1 |  2032031 |  2032210 | Bcell_UnclusteredCS | chr1 |  1981909 |  1981910 |    0.575 |  1 | PRKCZ    | ENSG00000067606 |  50122 |\n",
       "| chr1 |  2263385 |  2323147 | chr1 |  2263385 |  2263443 | Bcell_UnclusteredCS | chr1 |  2323146 |  2323147 |    2.535 | -1 | MORN1    | ENSG00000116151 |  59704 |\n",
       "| chr1 |  3569325 |  3573852 | chr1 |  3573086 |  3573852 | Bcell_UnclusteredCS | chr1 |  3569325 |  3569326 |   15.720 | -1 | WRAP73   | ENSG00000116213 |   3761 |\n",
       "| chr1 |  6052533 |  6073327 | chr1 |  6073217 |  6073327 | Bcell_UnclusteredCS | chr1 |  6052533 |  6052534 |    3.605 | -1 | NPHP4    | ENSG00000131697 |  20684 |\n",
       "| chr1 |  6659636 |  6673746 | chr1 |  6659636 |  6660325 | Bcell_UnclusteredCS | chr1 |  6673745 |  6673746 |    5.935 |  1 | PHF13    | ENSG00000116273 |  13421 |\n",
       "| chr1 | 12079523 | 12101107 | chr1 | 12100074 | 12101107 | Bcell_UnclusteredCS | chr1 | 12079523 | 12079524 |   21.715 |  1 | MIIP     | ENSG00000116691 |  20551 |\n",
       "| chr1 | 12227060 | 12258322 | chr1 | 12258053 | 12258322 | Bcell_UnclusteredCS | chr1 | 12227060 | 12227061 |   31.810 |  1 | TNFRSF1B | ENSG00000028137 |  30993 |\n",
       "| chr1 | 14925200 | 15040438 | chr1 | 15040254 | 15040438 | Bcell_UnclusteredCS | chr1 | 14925200 | 14925201 |    1.670 |  1 | KAZN     | ENSG00000189337 | 115054 |\n",
       "| chr1 | 18404348 | 18434241 | chr1 | 18404348 | 18404580 | Bcell_UnclusteredCS | chr1 | 18434240 | 18434241 |    0.045 |  1 | IGSF21   | ENSG00000117154 |  29661 |\n",
       "| chr1 | 19186176 | 19195881 | chr1 | 19195721 | 19195881 | Bcell_UnclusteredCS | chr1 | 19186176 | 19186177 |    0.005 | -1 | TAS1R2   | ENSG00000179002 |   9545 |\n",
       "| chr1 | 22087677 | 22110100 | chr1 | 22087677 | 22089082 | Bcell_UnclusteredCS | chr1 | 22110099 | 22110100 |   37.530 | -1 | USP48    | ENSG00000090686 |  21018 |\n",
       "| chr1 | 22106294 | 22110100 | chr1 | 22106294 | 22106773 | Bcell_UnclusteredCS | chr1 | 22110099 | 22110100 |   37.530 | -1 | USP48    | ENSG00000090686 |   3327 |\n",
       "| chr1 | 22470462 | 22482011 | chr1 | 22481946 | 22482011 | Bcell_UnclusteredCS | chr1 | 22470462 | 22470463 |    0.040 | -1 | WNT4     | ENSG00000162552 |  11484 |\n",
       "| chr1 | 24514449 | 24553751 | chr1 | 24553383 | 24553751 | Bcell_UnclusteredCS | chr1 | 24514449 | 24514450 |    1.720 | -1 | IFNLR1   | ENSG00000185436 |  38934 |\n",
       "| chr1 | 24860964 | 24882603 | chr1 | 24860964 | 24861150 | Bcell_UnclusteredCS | chr1 | 24882602 | 24882603 |    0.005 |  1 | NCMAP    | ENSG00000184454 |  21453 |\n",
       "| chr1 | 25242448 | 25291613 | chr1 | 25242448 | 25242570 | Bcell_UnclusteredCS | chr1 | 25291612 | 25291613 |   57.410 | -1 | RUNX3    | ENSG00000020633 |  49043 |\n",
       "| chr1 | 25291612 | 25373247 | chr1 | 25372734 | 25373247 | Bcell_UnclusteredCS | chr1 | 25291612 | 25291613 |   57.410 | -1 | RUNX3    | ENSG00000020633 |  81122 |\n",
       "| chr1 | 25943959 | 25956163 | chr1 | 25955620 | 25956163 | Bcell_UnclusteredCS | chr1 | 25943959 | 25943960 |    0.075 |  1 | MAN1C1   | ENSG00000117643 |  11661 |\n",
       "| chr1 | 26126667 | 26131354 | chr1 | 26131133 | 26131354 | Bcell_UnclusteredCS | chr1 | 26126667 | 26126668 |    1.770 |  1 | SEPN1    | ENSG00000162430 |   4466 |\n",
       "| chr1 | 27433141 | 27493473 | chr1 | 27433141 | 27433285 | Bcell_UnclusteredCS | chr1 | 27493472 | 27493473 |    7.615 | -1 | SLC9A1   | ENSG00000090020 |  60188 |\n",
       "| chr1 | 27693383 | 27696751 | chr1 | 27696156 | 27696751 | Bcell_UnclusteredCS | chr1 | 27693383 | 27693384 |    0.795 | -1 | MAP3K6   | ENSG00000142733 |   2773 |\n",
       "| chr1 | 27768425 | 27816670 | chr1 | 27768425 | 27769315 | Bcell_UnclusteredCS | chr1 | 27816669 | 27816670 |   42.775 | -1 | WASF2    | ENSG00000158195 |  47355 |\n",
       "| chr1 | 27809797 | 27816670 | chr1 | 27809797 | 27810107 | Bcell_UnclusteredCS | chr1 | 27816669 | 27816670 |   42.775 | -1 | WASF2    | ENSG00000158195 |   6563 |\n",
       "| chr1 | 28199055 | 28217318 | chr1 | 28216907 | 28217318 | Bcell_UnclusteredCS | chr1 | 28199055 | 28199056 |   20.935 |  1 | THEMIS2  | ENSG00000130775 |  17852 |\n",
       "| chr1 | 28835071 | 28838132 | chr1 | 28837950 | 28838132 | Bcell_UnclusteredCS | chr1 | 28835071 | 28835072 | 3464.135 |  1 | SNORA73B | ENSG00000200087 |   2879 |\n",
       "| chr1 | 32479430 | 32487531 | chr1 | 32486412 | 32487531 | Bcell_UnclusteredCS | chr1 | 32479430 | 32479431 |   76.815 |  1 | KHDRBS1  | ENSG00000121774 |   6982 |\n",
       "| chr1 | 32716840 | 32719857 | chr1 | 32719399 | 32719857 | Bcell_UnclusteredCS | chr1 | 32716840 | 32716841 |   51.700 |  1 | LCK      | ENSG00000182866 |   2559 |\n",
       "| chr1 | 32716840 | 32730715 | chr1 | 32730435 | 32730715 | Bcell_UnclusteredCS | chr1 | 32716840 | 32716841 |   51.700 |  1 | LCK      | ENSG00000182866 |  13595 |\n",
       "| chr1 | 32757687 | 32774677 | chr1 | 32774187 | 32774677 | Bcell_UnclusteredCS | chr1 | 32757687 | 32757688 |   58.740 |  1 | HDAC1    | ENSG00000116478 |  16500 |\n",
       "| ⋮ | ⋮ | ⋮ | ⋮ | ⋮ | ⋮ | ⋮ | ⋮ | ⋮ | ⋮ | ⋮ | ⋮ | ⋮ | ⋮ | ⋮ |\n",
       "| chrX |  55744172 |  55821377 | chrX |  55820159 |  55821377 | Bcell_UnclusteredCS | chrX |  55744172 |  55744173 |   3.835 |  1 | RRAGB     | ENSG00000083750 |   75987 |\n",
       "| chrX |  55744172 |  55945983 | chrX |  55945745 |  55945983 | Bcell_UnclusteredCS | chrX |  55744172 |  55744173 |   3.835 |  1 | RRAGB     | ENSG00000083750 |  201573 |\n",
       "| chrX |  62466185 |  62569526 | chrX |  62466185 |  62466288 | Bcell_UnclusteredCS | chrX |  62569525 |  62569526 |   0.070 |  1 | SPIN4-AS1 | ENSG00000233661 |  103238 |\n",
       "| chrX |  74144035 |  74145283 | chrX |  74144035 |  74144156 | Bcell_UnclusteredCS | chrX |  74145282 |  74145283 |   2.810 | -1 | KIAA2022  | ENSG00000050030 |    1127 |\n",
       "| chrX |  74493920 |  74580531 | chrX |  74580334 |  74580531 | Bcell_UnclusteredCS | chrX |  74493920 |  74493921 |   4.105 |  1 | UPRT      | ENSG00000094841 |   86414 |\n",
       "| chrX |  78964620 |  79270256 | chrX |  78964620 |  78966457 | Bcell_UnclusteredCS | chrX |  79270255 |  79270256 |   0.005 |  1 | TBX22     | ENSG00000122145 |  303799 |\n",
       "| chrX |  80063348 |  80065188 | chrX |  80063348 |  80063654 | Bcell_UnclusteredCS | chrX |  80065187 |  80065188 |   4.925 | -1 | BRWD3     | ENSG00000165288 |    1534 |\n",
       "| chrX |  80457442 |  80605724 | chrX |  80605523 |  80605724 | Bcell_UnclusteredCS | chrX |  80457442 |  80457443 |  35.375 |  1 | SH3BGRL   | ENSG00000131171 |  148081 |\n",
       "| chrX |  80457442 |  81153643 | chrX |  81152857 |  81153643 | Bcell_UnclusteredCS | chrX |  80457442 |  80457443 |  35.375 |  1 | SH3BGRL   | ENSG00000131171 |  695415 |\n",
       "| chrX |  84258832 |  84350826 | chrX |  84350606 |  84350826 | Bcell_UnclusteredCS | chrX |  84258832 |  84258833 |   5.420 |  1 | APOOL     | ENSG00000155008 |   91774 |\n",
       "| chrX |  86959307 |  87442057 | chrX |  87440824 |  87442057 | Bcell_UnclusteredCS | chrX |  86959307 |  86959308 |   0.050 | -1 | RPSAP15   | ENSG00000237506 |  481517 |\n",
       "| chrX |  96090821 |  96138908 | chrX |  96090821 |  96091558 | Bcell_UnclusteredCS | chrX |  96138907 |  96138908 |   0.245 |  1 | RPA4      | ENSG00000204086 |   47350 |\n",
       "| chrX |  99411771 |  99668486 | chrX |  99667367 |  99668486 | Bcell_UnclusteredCS | chrX |  99411771 |  99411772 |   0.050 | -1 | RPSAP8    | ENSG00000230592 |  255596 |\n",
       "| chrX | 102631268 | 102674865 | chrX | 102674776 | 102674865 | Bcell_UnclusteredCS | chrX | 102631268 | 102631269 |   0.340 |  1 | NGFRAP1   | ENSG00000166681 |   43508 |\n",
       "| chrX | 103411301 | 103498317 | chrX | 103497985 | 103498317 | Bcell_UnclusteredCS | chrX | 103411301 | 103411302 |   3.740 |  1 | FAM199X   | ENSG00000123575 |   86684 |\n",
       "| chrX | 103810996 | 103813358 | chrX | 103812931 | 103813358 | Bcell_UnclusteredCS | chrX | 103810996 | 103810997 |   0.005 |  1 | IL1RAPL2  | ENSG00000189108 |    1935 |\n",
       "| chrX | 107068985 | 107070514 | chrX | 107070119 | 107070514 | Bcell_UnclusteredCS | chrX | 107068985 | 107068986 |   0.040 |  1 | MID2      | ENSG00000080561 |    1134 |\n",
       "| chrX | 107979651 | 108313755 | chrX | 108312165 | 108313755 | Bcell_UnclusteredCS | chrX | 107979651 | 107979652 |   0.010 | -1 | IRS4      | ENSG00000133124 |  332514 |\n",
       "| chrX | 111540424 | 111923376 | chrX | 111540424 | 111540771 | Bcell_UnclusteredCS | chrX | 111923375 | 111923376 |   0.155 | -1 | LHFPL1    | ENSG00000182508 |  382605 |\n",
       "| chrX | 112084043 | 113028341 | chrX | 113028188 | 113028341 | Bcell_UnclusteredCS | chrX | 112084043 | 112084044 |   5.185 | -1 | AMOT      | ENSG00000126016 |  944145 |\n",
       "| chrX | 117629861 | 117631780 | chrX | 117630872 | 117631780 | Bcell_UnclusteredCS | chrX | 117629861 | 117629862 |   9.130 |  1 | DOCK11    | ENSG00000147251 |    1011 |\n",
       "| chrX | 118739858 | 118770984 | chrX | 118770255 | 118770984 | Bcell_UnclusteredCS | chrX | 118739858 | 118739859 |   7.975 | -1 | NKRF      | ENSG00000186416 |   30397 |\n",
       "| chrX | 122864707 | 122866907 | chrX | 122864707 | 122864772 | Bcell_UnclusteredCS | chrX | 122866906 | 122866907 |  26.655 | -1 | THOC2     | ENSG00000125676 |    2135 |\n",
       "| chrX | 124097666 | 125607233 | chrX | 125606843 | 125607233 | Bcell_UnclusteredCS | chrX | 124097666 | 124097667 |   0.005 | -1 | TENM1     | ENSG00000009694 | 1509177 |\n",
       "| chrX | 130880224 | 131351176 | chrX | 130880224 | 130880690 | Bcell_UnclusteredCS | chrX | 131351175 | 131351176 |   0.410 |  1 | RAP2C-AS1 | ENSG00000232160 |  470486 |\n",
       "| chrX | 133118185 | 133119923 | chrX | 133118185 | 133118258 | Bcell_UnclusteredCS | chrX | 133119922 | 133119923 |   0.270 | -1 | GPC3      | ENSG00000147257 |    1665 |\n",
       "| chrX | 137792247 | 138304940 | chrX | 137792247 | 137792647 | Bcell_UnclusteredCS | chrX | 138304939 | 138304940 |   0.060 | -1 | FGF13     | ENSG00000129682 |  512293 |\n",
       "| chrX | 152240819 | 152349916 | chrX | 152349590 | 152349916 | Bcell_UnclusteredCS | chrX | 152240819 | 152240820 |   0.010 |  1 | PNMA6C    | ENSG00000235961 |  108771 |\n",
       "| chrX | 153519895 | 153603007 | chrX | 153519895 | 153520410 | Bcell_UnclusteredCS | chrX | 153603006 | 153603007 | 241.275 | -1 | FLNA      | ENSG00000196924 |   82597 |\n",
       "| chrX | 153526648 | 153603007 | chrX | 153526648 | 153526953 | Bcell_UnclusteredCS | chrX | 153603006 | 153603007 | 241.275 | -1 | FLNA      | ENSG00000196924 |   76054 |\n",
       "\n"
      ],
      "text/plain": [
       "     ChrHMRTSS StartHMRTSS EndHMRTSS ChrHMR StartHMR  EndHMR   \n",
       "1    chr1       1385069     1394334  chr1    1394021   1394334 \n",
       "2    chr1       1981909     2032210  chr1    2032031   2032210 \n",
       "3    chr1       2263385     2323147  chr1    2263385   2263443 \n",
       "4    chr1       3569325     3573852  chr1    3573086   3573852 \n",
       "5    chr1       6052533     6073327  chr1    6073217   6073327 \n",
       "6    chr1       6659636     6673746  chr1    6659636   6660325 \n",
       "7    chr1      12079523    12101107  chr1   12100074  12101107 \n",
       "8    chr1      12227060    12258322  chr1   12258053  12258322 \n",
       "9    chr1      14925200    15040438  chr1   15040254  15040438 \n",
       "10   chr1      18404348    18434241  chr1   18404348  18404580 \n",
       "11   chr1      19186176    19195881  chr1   19195721  19195881 \n",
       "12   chr1      22087677    22110100  chr1   22087677  22089082 \n",
       "13   chr1      22106294    22110100  chr1   22106294  22106773 \n",
       "14   chr1      22470462    22482011  chr1   22481946  22482011 \n",
       "15   chr1      24514449    24553751  chr1   24553383  24553751 \n",
       "16   chr1      24860964    24882603  chr1   24860964  24861150 \n",
       "17   chr1      25242448    25291613  chr1   25242448  25242570 \n",
       "18   chr1      25291612    25373247  chr1   25372734  25373247 \n",
       "19   chr1      25943959    25956163  chr1   25955620  25956163 \n",
       "20   chr1      26126667    26131354  chr1   26131133  26131354 \n",
       "21   chr1      27433141    27493473  chr1   27433141  27433285 \n",
       "22   chr1      27693383    27696751  chr1   27696156  27696751 \n",
       "23   chr1      27768425    27816670  chr1   27768425  27769315 \n",
       "24   chr1      27809797    27816670  chr1   27809797  27810107 \n",
       "25   chr1      28199055    28217318  chr1   28216907  28217318 \n",
       "26   chr1      28835071    28838132  chr1   28837950  28838132 \n",
       "27   chr1      32479430    32487531  chr1   32486412  32487531 \n",
       "28   chr1      32716840    32719857  chr1   32719399  32719857 \n",
       "29   chr1      32716840    32730715  chr1   32730435  32730715 \n",
       "30   chr1      32757687    32774677  chr1   32774187  32774677 \n",
       "⋮    ⋮         ⋮           ⋮         ⋮      ⋮         ⋮        \n",
       "1841 chrX       55744172    55821377 chrX    55820159  55821377\n",
       "1842 chrX       55744172    55945983 chrX    55945745  55945983\n",
       "1843 chrX       62466185    62569526 chrX    62466185  62466288\n",
       "1844 chrX       74144035    74145283 chrX    74144035  74144156\n",
       "1845 chrX       74493920    74580531 chrX    74580334  74580531\n",
       "1846 chrX       78964620    79270256 chrX    78964620  78966457\n",
       "1847 chrX       80063348    80065188 chrX    80063348  80063654\n",
       "1848 chrX       80457442    80605724 chrX    80605523  80605724\n",
       "1849 chrX       80457442    81153643 chrX    81152857  81153643\n",
       "1850 chrX       84258832    84350826 chrX    84350606  84350826\n",
       "1851 chrX       86959307    87442057 chrX    87440824  87442057\n",
       "1852 chrX       96090821    96138908 chrX    96090821  96091558\n",
       "1853 chrX       99411771    99668486 chrX    99667367  99668486\n",
       "1854 chrX      102631268   102674865 chrX   102674776 102674865\n",
       "1855 chrX      103411301   103498317 chrX   103497985 103498317\n",
       "1856 chrX      103810996   103813358 chrX   103812931 103813358\n",
       "1857 chrX      107068985   107070514 chrX   107070119 107070514\n",
       "1858 chrX      107979651   108313755 chrX   108312165 108313755\n",
       "1859 chrX      111540424   111923376 chrX   111540424 111540771\n",
       "1860 chrX      112084043   113028341 chrX   113028188 113028341\n",
       "1861 chrX      117629861   117631780 chrX   117630872 117631780\n",
       "1862 chrX      118739858   118770984 chrX   118770255 118770984\n",
       "1863 chrX      122864707   122866907 chrX   122864707 122864772\n",
       "1864 chrX      124097666   125607233 chrX   125606843 125607233\n",
       "1865 chrX      130880224   131351176 chrX   130880224 130880690\n",
       "1866 chrX      133118185   133119923 chrX   133118185 133118258\n",
       "1867 chrX      137792247   138304940 chrX   137792247 137792647\n",
       "1868 chrX      152240819   152349916 chrX   152349590 152349916\n",
       "1869 chrX      153519895   153603007 chrX   153519895 153520410\n",
       "1870 chrX      153526648   153603007 chrX   153526648 153526953\n",
       "     HMRGroup            ChrTSS StartTSS  EndTSS    TPM      strand GENE_SYMBOL\n",
       "1    Bcell_UnclusteredCS chr1    1385069   1385070     0.525  1     ATAD3C     \n",
       "2    Bcell_UnclusteredCS chr1    1981909   1981910     0.575  1     PRKCZ      \n",
       "3    Bcell_UnclusteredCS chr1    2323146   2323147     2.535 -1     MORN1      \n",
       "4    Bcell_UnclusteredCS chr1    3569325   3569326    15.720 -1     WRAP73     \n",
       "5    Bcell_UnclusteredCS chr1    6052533   6052534     3.605 -1     NPHP4      \n",
       "6    Bcell_UnclusteredCS chr1    6673745   6673746     5.935  1     PHF13      \n",
       "7    Bcell_UnclusteredCS chr1   12079523  12079524    21.715  1     MIIP       \n",
       "8    Bcell_UnclusteredCS chr1   12227060  12227061    31.810  1     TNFRSF1B   \n",
       "9    Bcell_UnclusteredCS chr1   14925200  14925201     1.670  1     KAZN       \n",
       "10   Bcell_UnclusteredCS chr1   18434240  18434241     0.045  1     IGSF21     \n",
       "11   Bcell_UnclusteredCS chr1   19186176  19186177     0.005 -1     TAS1R2     \n",
       "12   Bcell_UnclusteredCS chr1   22110099  22110100    37.530 -1     USP48      \n",
       "13   Bcell_UnclusteredCS chr1   22110099  22110100    37.530 -1     USP48      \n",
       "14   Bcell_UnclusteredCS chr1   22470462  22470463     0.040 -1     WNT4       \n",
       "15   Bcell_UnclusteredCS chr1   24514449  24514450     1.720 -1     IFNLR1     \n",
       "16   Bcell_UnclusteredCS chr1   24882602  24882603     0.005  1     NCMAP      \n",
       "17   Bcell_UnclusteredCS chr1   25291612  25291613    57.410 -1     RUNX3      \n",
       "18   Bcell_UnclusteredCS chr1   25291612  25291613    57.410 -1     RUNX3      \n",
       "19   Bcell_UnclusteredCS chr1   25943959  25943960     0.075  1     MAN1C1     \n",
       "20   Bcell_UnclusteredCS chr1   26126667  26126668     1.770  1     SEPN1      \n",
       "21   Bcell_UnclusteredCS chr1   27493472  27493473     7.615 -1     SLC9A1     \n",
       "22   Bcell_UnclusteredCS chr1   27693383  27693384     0.795 -1     MAP3K6     \n",
       "23   Bcell_UnclusteredCS chr1   27816669  27816670    42.775 -1     WASF2      \n",
       "24   Bcell_UnclusteredCS chr1   27816669  27816670    42.775 -1     WASF2      \n",
       "25   Bcell_UnclusteredCS chr1   28199055  28199056    20.935  1     THEMIS2    \n",
       "26   Bcell_UnclusteredCS chr1   28835071  28835072  3464.135  1     SNORA73B   \n",
       "27   Bcell_UnclusteredCS chr1   32479430  32479431    76.815  1     KHDRBS1    \n",
       "28   Bcell_UnclusteredCS chr1   32716840  32716841    51.700  1     LCK        \n",
       "29   Bcell_UnclusteredCS chr1   32716840  32716841    51.700  1     LCK        \n",
       "30   Bcell_UnclusteredCS chr1   32757687  32757688    58.740  1     HDAC1      \n",
       "⋮    ⋮                   ⋮      ⋮         ⋮         ⋮        ⋮      ⋮          \n",
       "1841 Bcell_UnclusteredCS chrX    55744172  55744173   3.835   1     RRAGB      \n",
       "1842 Bcell_UnclusteredCS chrX    55744172  55744173   3.835   1     RRAGB      \n",
       "1843 Bcell_UnclusteredCS chrX    62569525  62569526   0.070   1     SPIN4-AS1  \n",
       "1844 Bcell_UnclusteredCS chrX    74145282  74145283   2.810  -1     KIAA2022   \n",
       "1845 Bcell_UnclusteredCS chrX    74493920  74493921   4.105   1     UPRT       \n",
       "1846 Bcell_UnclusteredCS chrX    79270255  79270256   0.005   1     TBX22      \n",
       "1847 Bcell_UnclusteredCS chrX    80065187  80065188   4.925  -1     BRWD3      \n",
       "1848 Bcell_UnclusteredCS chrX    80457442  80457443  35.375   1     SH3BGRL    \n",
       "1849 Bcell_UnclusteredCS chrX    80457442  80457443  35.375   1     SH3BGRL    \n",
       "1850 Bcell_UnclusteredCS chrX    84258832  84258833   5.420   1     APOOL      \n",
       "1851 Bcell_UnclusteredCS chrX    86959307  86959308   0.050  -1     RPSAP15    \n",
       "1852 Bcell_UnclusteredCS chrX    96138907  96138908   0.245   1     RPA4       \n",
       "1853 Bcell_UnclusteredCS chrX    99411771  99411772   0.050  -1     RPSAP8     \n",
       "1854 Bcell_UnclusteredCS chrX   102631268 102631269   0.340   1     NGFRAP1    \n",
       "1855 Bcell_UnclusteredCS chrX   103411301 103411302   3.740   1     FAM199X    \n",
       "1856 Bcell_UnclusteredCS chrX   103810996 103810997   0.005   1     IL1RAPL2   \n",
       "1857 Bcell_UnclusteredCS chrX   107068985 107068986   0.040   1     MID2       \n",
       "1858 Bcell_UnclusteredCS chrX   107979651 107979652   0.010  -1     IRS4       \n",
       "1859 Bcell_UnclusteredCS chrX   111923375 111923376   0.155  -1     LHFPL1     \n",
       "1860 Bcell_UnclusteredCS chrX   112084043 112084044   5.185  -1     AMOT       \n",
       "1861 Bcell_UnclusteredCS chrX   117629861 117629862   9.130   1     DOCK11     \n",
       "1862 Bcell_UnclusteredCS chrX   118739858 118739859   7.975  -1     NKRF       \n",
       "1863 Bcell_UnclusteredCS chrX   122866906 122866907  26.655  -1     THOC2      \n",
       "1864 Bcell_UnclusteredCS chrX   124097666 124097667   0.005  -1     TENM1      \n",
       "1865 Bcell_UnclusteredCS chrX   131351175 131351176   0.410   1     RAP2C-AS1  \n",
       "1866 Bcell_UnclusteredCS chrX   133119922 133119923   0.270  -1     GPC3       \n",
       "1867 Bcell_UnclusteredCS chrX   138304939 138304940   0.060  -1     FGF13      \n",
       "1868 Bcell_UnclusteredCS chrX   152240819 152240820   0.010   1     PNMA6C     \n",
       "1869 Bcell_UnclusteredCS chrX   153603006 153603007 241.275  -1     FLNA       \n",
       "1870 Bcell_UnclusteredCS chrX   153603006 153603007 241.275  -1     FLNA       \n",
       "     ENSEMBL         HMRTSSDist\n",
       "1    ENSG00000215915   8952    \n",
       "2    ENSG00000067606  50122    \n",
       "3    ENSG00000116151  59704    \n",
       "4    ENSG00000116213   3761    \n",
       "5    ENSG00000131697  20684    \n",
       "6    ENSG00000116273  13421    \n",
       "7    ENSG00000116691  20551    \n",
       "8    ENSG00000028137  30993    \n",
       "9    ENSG00000189337 115054    \n",
       "10   ENSG00000117154  29661    \n",
       "11   ENSG00000179002   9545    \n",
       "12   ENSG00000090686  21018    \n",
       "13   ENSG00000090686   3327    \n",
       "14   ENSG00000162552  11484    \n",
       "15   ENSG00000185436  38934    \n",
       "16   ENSG00000184454  21453    \n",
       "17   ENSG00000020633  49043    \n",
       "18   ENSG00000020633  81122    \n",
       "19   ENSG00000117643  11661    \n",
       "20   ENSG00000162430   4466    \n",
       "21   ENSG00000090020  60188    \n",
       "22   ENSG00000142733   2773    \n",
       "23   ENSG00000158195  47355    \n",
       "24   ENSG00000158195   6563    \n",
       "25   ENSG00000130775  17852    \n",
       "26   ENSG00000200087   2879    \n",
       "27   ENSG00000121774   6982    \n",
       "28   ENSG00000182866   2559    \n",
       "29   ENSG00000182866  13595    \n",
       "30   ENSG00000116478  16500    \n",
       "⋮    ⋮               ⋮         \n",
       "1841 ENSG00000083750   75987   \n",
       "1842 ENSG00000083750  201573   \n",
       "1843 ENSG00000233661  103238   \n",
       "1844 ENSG00000050030    1127   \n",
       "1845 ENSG00000094841   86414   \n",
       "1846 ENSG00000122145  303799   \n",
       "1847 ENSG00000165288    1534   \n",
       "1848 ENSG00000131171  148081   \n",
       "1849 ENSG00000131171  695415   \n",
       "1850 ENSG00000155008   91774   \n",
       "1851 ENSG00000237506  481517   \n",
       "1852 ENSG00000204086   47350   \n",
       "1853 ENSG00000230592  255596   \n",
       "1854 ENSG00000166681   43508   \n",
       "1855 ENSG00000123575   86684   \n",
       "1856 ENSG00000189108    1935   \n",
       "1857 ENSG00000080561    1134   \n",
       "1858 ENSG00000133124  332514   \n",
       "1859 ENSG00000182508  382605   \n",
       "1860 ENSG00000126016  944145   \n",
       "1861 ENSG00000147251    1011   \n",
       "1862 ENSG00000186416   30397   \n",
       "1863 ENSG00000125676    2135   \n",
       "1864 ENSG00000009694 1509177   \n",
       "1865 ENSG00000232160  470486   \n",
       "1866 ENSG00000147257    1665   \n",
       "1867 ENSG00000129682  512293   \n",
       "1868 ENSG00000235961  108771   \n",
       "1869 ENSG00000196924   82597   \n",
       "1870 ENSG00000196924   76054   "
      ]
     },
     "metadata": {},
     "output_type": "display_data"
    }
   ],
   "source": [
    "Bcell_unclustered_loose_cellspecific.100NN.GM_ENSGnoVersionGENESYMBOL_minTPM0.TAD_filtered.1NN"
   ]
  },
  {
   "cell_type": "code",
   "execution_count": 15,
   "id": "1b80031e",
   "metadata": {},
   "outputs": [
    {
     "data": {
      "text/html": [
       "<table class=\"dataframe\">\n",
       "<caption>A tibble: 6 × 2</caption>\n",
       "<thead>\n",
       "\t<tr><th scope=col>thresholds</th><th scope=col>HMRGroup</th></tr>\n",
       "\t<tr><th scope=col>&lt;dbl&gt;</th><th scope=col>&lt;chr&gt;</th></tr>\n",
       "</thead>\n",
       "<tbody>\n",
       "\t<tr><td> 10000</td><td>Bcell_unclustered_loose</td></tr>\n",
       "\t<tr><td> 25000</td><td>Bcell_unclustered_loose</td></tr>\n",
       "\t<tr><td> 50000</td><td>Bcell_unclustered_loose</td></tr>\n",
       "\t<tr><td> 75000</td><td>Bcell_unclustered_loose</td></tr>\n",
       "\t<tr><td>100000</td><td>Bcell_unclustered_loose</td></tr>\n",
       "\t<tr><td>150000</td><td>Bcell_unclustered_loose</td></tr>\n",
       "</tbody>\n",
       "</table>\n"
      ],
      "text/latex": [
       "A tibble: 6 × 2\n",
       "\\begin{tabular}{ll}\n",
       " thresholds & HMRGroup\\\\\n",
       " <dbl> & <chr>\\\\\n",
       "\\hline\n",
       "\t  10000 & Bcell\\_unclustered\\_loose\\\\\n",
       "\t  25000 & Bcell\\_unclustered\\_loose\\\\\n",
       "\t  50000 & Bcell\\_unclustered\\_loose\\\\\n",
       "\t  75000 & Bcell\\_unclustered\\_loose\\\\\n",
       "\t 100000 & Bcell\\_unclustered\\_loose\\\\\n",
       "\t 150000 & Bcell\\_unclustered\\_loose\\\\\n",
       "\\end{tabular}\n"
      ],
      "text/markdown": [
       "\n",
       "A tibble: 6 × 2\n",
       "\n",
       "| thresholds &lt;dbl&gt; | HMRGroup &lt;chr&gt; |\n",
       "|---|---|\n",
       "|  10000 | Bcell_unclustered_loose |\n",
       "|  25000 | Bcell_unclustered_loose |\n",
       "|  50000 | Bcell_unclustered_loose |\n",
       "|  75000 | Bcell_unclustered_loose |\n",
       "| 100000 | Bcell_unclustered_loose |\n",
       "| 150000 | Bcell_unclustered_loose |\n",
       "\n"
      ],
      "text/plain": [
       "  thresholds HMRGroup               \n",
       "1  10000     Bcell_unclustered_loose\n",
       "2  25000     Bcell_unclustered_loose\n",
       "3  50000     Bcell_unclustered_loose\n",
       "4  75000     Bcell_unclustered_loose\n",
       "5 100000     Bcell_unclustered_loose\n",
       "6 150000     Bcell_unclustered_loose"
      ]
     },
     "metadata": {},
     "output_type": "display_data"
    }
   ],
   "source": [
    "numGene_UNlooseCS_1NN"
   ]
  },
  {
   "cell_type": "code",
   "execution_count": 14,
   "id": "61ae8c3b",
   "metadata": {},
   "outputs": [
    {
     "name": "stdout",
     "output_type": "stream",
     "text": [
      "[1] \"Initialized.\"\n"
     ]
    }
   ],
   "source": [
    "threshold_list <- c(10000,25000,50000,75000,100000,150000)\n",
    "\n",
    "numGene_CLcontainsCS_1NN <- tibble(\n",
    "    thresholds = threshold_list,\n",
    "    HMRGroup = \"Bcell_clustersContainsCS\"\n",
    ")\n",
    "\n",
    "numGene_UNCS_1NN <- tibble(\n",
    "    thresholds = threshold_list,\n",
    "    HMRGroup = \"Bcell_unclustered\"\n",
    ")\n",
    "\n",
    "numGene_UNlooseCS_1NN <- tibble(\n",
    "    thresholds = threshold_list,\n",
    "    HMRGroup = \"Bcell_unclustered_loose\"\n",
    ")\n",
    "\n",
    "\n",
    "\n",
    "get_numGenes_per_threshold <- function(thresh, df){\n",
    "    df %>% dplyr::filter(HMRTSSDist < thresh) %>% nrow()\n",
    "}\n",
    "                                                    \n",
    "print(\"Initialized.\")"
   ]
  },
  {
   "cell_type": "code",
   "execution_count": 16,
   "id": "17b7e76d",
   "metadata": {},
   "outputs": [
    {
     "name": "stdout",
     "output_type": "stream",
     "text": [
      "[1] \"Done.\"\n",
      "[1] \"Done.\"\n",
      "[1] \"Done.\"\n"
     ]
    }
   ],
   "source": [
    "# Get numbers by threshold\n",
    "\n",
    "# CLusters that contain Cell Specific \n",
    "CLcontainsCS_counts <- map(threshold_list, get_numGenes_per_threshold, df = Bcell_clusters_containsCS.100NN.GM_ENSGnoVersionGENESYMBOL_minTPM0.TAD_filtered.1NN)\n",
    "\n",
    "numGene_CLcontainsCS_1NN$HMRCounts <- unlist(CLcontainsCS_counts)\n",
    "\n",
    "print(\"Done.\")\n",
    "\n",
    "\n",
    "\n",
    "\n",
    "# UNclustered Cell specific \n",
    "UNCS_counts <- map(threshold_list, get_numGenes_per_threshold, df = Bcell_unclustered_cellspecific.100NN.GM_ENSGnoVersionGENESYMBOL_minTPM0.TAD_filtered.1NN)\n",
    "\n",
    "numGene_UNCS_1NN$HMRCounts <- unlist(UNCS_counts)\n",
    "\n",
    "print(\"Done.\")\n",
    "\n",
    "\n",
    "\n",
    "# UNclustered - All -  Cell specific \n",
    "UNCS_loose_counts <- map(threshold_list, get_numGenes_per_threshold, df = Bcell_unclustered_loose_cellspecific.100NN.GM_ENSGnoVersionGENESYMBOL_minTPM0.TAD_filtered.1NN)\n",
    "\n",
    "numGene_UNlooseCS_1NN$HMRCounts <- unlist(UNCS_loose_counts)\n",
    "\n",
    "\n",
    "\n",
    "\n",
    "print(\"Done.\")"
   ]
  },
  {
   "cell_type": "code",
   "execution_count": 17,
   "id": "132613af",
   "metadata": {
    "scrolled": true
   },
   "outputs": [
    {
     "data": {
      "text/html": [
       "<table class=\"dataframe\">\n",
       "<caption>A tibble: 6 × 3</caption>\n",
       "<thead>\n",
       "\t<tr><th scope=col>thresholds</th><th scope=col>HMRGroup</th><th scope=col>HMRCounts</th></tr>\n",
       "\t<tr><th scope=col>&lt;dbl&gt;</th><th scope=col>&lt;chr&gt;</th><th scope=col>&lt;int&gt;</th></tr>\n",
       "</thead>\n",
       "<tbody>\n",
       "\t<tr><td> 10000</td><td>Bcell_clustersContainsCS</td><td>138</td></tr>\n",
       "\t<tr><td> 25000</td><td>Bcell_clustersContainsCS</td><td>219</td></tr>\n",
       "\t<tr><td> 50000</td><td>Bcell_clustersContainsCS</td><td>290</td></tr>\n",
       "\t<tr><td> 75000</td><td>Bcell_clustersContainsCS</td><td>324</td></tr>\n",
       "\t<tr><td>100000</td><td>Bcell_clustersContainsCS</td><td>351</td></tr>\n",
       "\t<tr><td>150000</td><td>Bcell_clustersContainsCS</td><td>378</td></tr>\n",
       "</tbody>\n",
       "</table>\n"
      ],
      "text/latex": [
       "A tibble: 6 × 3\n",
       "\\begin{tabular}{lll}\n",
       " thresholds & HMRGroup & HMRCounts\\\\\n",
       " <dbl> & <chr> & <int>\\\\\n",
       "\\hline\n",
       "\t  10000 & Bcell\\_clustersContainsCS & 138\\\\\n",
       "\t  25000 & Bcell\\_clustersContainsCS & 219\\\\\n",
       "\t  50000 & Bcell\\_clustersContainsCS & 290\\\\\n",
       "\t  75000 & Bcell\\_clustersContainsCS & 324\\\\\n",
       "\t 100000 & Bcell\\_clustersContainsCS & 351\\\\\n",
       "\t 150000 & Bcell\\_clustersContainsCS & 378\\\\\n",
       "\\end{tabular}\n"
      ],
      "text/markdown": [
       "\n",
       "A tibble: 6 × 3\n",
       "\n",
       "| thresholds &lt;dbl&gt; | HMRGroup &lt;chr&gt; | HMRCounts &lt;int&gt; |\n",
       "|---|---|---|\n",
       "|  10000 | Bcell_clustersContainsCS | 138 |\n",
       "|  25000 | Bcell_clustersContainsCS | 219 |\n",
       "|  50000 | Bcell_clustersContainsCS | 290 |\n",
       "|  75000 | Bcell_clustersContainsCS | 324 |\n",
       "| 100000 | Bcell_clustersContainsCS | 351 |\n",
       "| 150000 | Bcell_clustersContainsCS | 378 |\n",
       "\n"
      ],
      "text/plain": [
       "  thresholds HMRGroup                 HMRCounts\n",
       "1  10000     Bcell_clustersContainsCS 138      \n",
       "2  25000     Bcell_clustersContainsCS 219      \n",
       "3  50000     Bcell_clustersContainsCS 290      \n",
       "4  75000     Bcell_clustersContainsCS 324      \n",
       "5 100000     Bcell_clustersContainsCS 351      \n",
       "6 150000     Bcell_clustersContainsCS 378      "
      ]
     },
     "metadata": {},
     "output_type": "display_data"
    },
    {
     "data": {
      "text/html": [
       "<table class=\"dataframe\">\n",
       "<caption>A tibble: 6 × 3</caption>\n",
       "<thead>\n",
       "\t<tr><th scope=col>thresholds</th><th scope=col>HMRGroup</th><th scope=col>HMRCounts</th></tr>\n",
       "\t<tr><th scope=col>&lt;dbl&gt;</th><th scope=col>&lt;chr&gt;</th><th scope=col>&lt;int&gt;</th></tr>\n",
       "</thead>\n",
       "<tbody>\n",
       "\t<tr><td> 10000</td><td>Bcell_unclustered</td><td> 122</td></tr>\n",
       "\t<tr><td> 25000</td><td>Bcell_unclustered</td><td> 403</td></tr>\n",
       "\t<tr><td> 50000</td><td>Bcell_unclustered</td><td> 737</td></tr>\n",
       "\t<tr><td> 75000</td><td>Bcell_unclustered</td><td> 906</td></tr>\n",
       "\t<tr><td>100000</td><td>Bcell_unclustered</td><td>1013</td></tr>\n",
       "\t<tr><td>150000</td><td>Bcell_unclustered</td><td>1143</td></tr>\n",
       "</tbody>\n",
       "</table>\n"
      ],
      "text/latex": [
       "A tibble: 6 × 3\n",
       "\\begin{tabular}{lll}\n",
       " thresholds & HMRGroup & HMRCounts\\\\\n",
       " <dbl> & <chr> & <int>\\\\\n",
       "\\hline\n",
       "\t  10000 & Bcell\\_unclustered &  122\\\\\n",
       "\t  25000 & Bcell\\_unclustered &  403\\\\\n",
       "\t  50000 & Bcell\\_unclustered &  737\\\\\n",
       "\t  75000 & Bcell\\_unclustered &  906\\\\\n",
       "\t 100000 & Bcell\\_unclustered & 1013\\\\\n",
       "\t 150000 & Bcell\\_unclustered & 1143\\\\\n",
       "\\end{tabular}\n"
      ],
      "text/markdown": [
       "\n",
       "A tibble: 6 × 3\n",
       "\n",
       "| thresholds &lt;dbl&gt; | HMRGroup &lt;chr&gt; | HMRCounts &lt;int&gt; |\n",
       "|---|---|---|\n",
       "|  10000 | Bcell_unclustered |  122 |\n",
       "|  25000 | Bcell_unclustered |  403 |\n",
       "|  50000 | Bcell_unclustered |  737 |\n",
       "|  75000 | Bcell_unclustered |  906 |\n",
       "| 100000 | Bcell_unclustered | 1013 |\n",
       "| 150000 | Bcell_unclustered | 1143 |\n",
       "\n"
      ],
      "text/plain": [
       "  thresholds HMRGroup          HMRCounts\n",
       "1  10000     Bcell_unclustered  122     \n",
       "2  25000     Bcell_unclustered  403     \n",
       "3  50000     Bcell_unclustered  737     \n",
       "4  75000     Bcell_unclustered  906     \n",
       "5 100000     Bcell_unclustered 1013     \n",
       "6 150000     Bcell_unclustered 1143     "
      ]
     },
     "metadata": {},
     "output_type": "display_data"
    },
    {
     "data": {
      "text/html": [
       "<table class=\"dataframe\">\n",
       "<caption>A tibble: 6 × 3</caption>\n",
       "<thead>\n",
       "\t<tr><th scope=col>thresholds</th><th scope=col>HMRGroup</th><th scope=col>HMRCounts</th></tr>\n",
       "\t<tr><th scope=col>&lt;dbl&gt;</th><th scope=col>&lt;chr&gt;</th><th scope=col>&lt;int&gt;</th></tr>\n",
       "</thead>\n",
       "<tbody>\n",
       "\t<tr><td> 10000</td><td>Bcell_unclustered_loose</td><td> 389</td></tr>\n",
       "\t<tr><td> 25000</td><td>Bcell_unclustered_loose</td><td> 712</td></tr>\n",
       "\t<tr><td> 50000</td><td>Bcell_unclustered_loose</td><td>1083</td></tr>\n",
       "\t<tr><td> 75000</td><td>Bcell_unclustered_loose</td><td>1267</td></tr>\n",
       "\t<tr><td>100000</td><td>Bcell_unclustered_loose</td><td>1378</td></tr>\n",
       "\t<tr><td>150000</td><td>Bcell_unclustered_loose</td><td>1518</td></tr>\n",
       "</tbody>\n",
       "</table>\n"
      ],
      "text/latex": [
       "A tibble: 6 × 3\n",
       "\\begin{tabular}{lll}\n",
       " thresholds & HMRGroup & HMRCounts\\\\\n",
       " <dbl> & <chr> & <int>\\\\\n",
       "\\hline\n",
       "\t  10000 & Bcell\\_unclustered\\_loose &  389\\\\\n",
       "\t  25000 & Bcell\\_unclustered\\_loose &  712\\\\\n",
       "\t  50000 & Bcell\\_unclustered\\_loose & 1083\\\\\n",
       "\t  75000 & Bcell\\_unclustered\\_loose & 1267\\\\\n",
       "\t 100000 & Bcell\\_unclustered\\_loose & 1378\\\\\n",
       "\t 150000 & Bcell\\_unclustered\\_loose & 1518\\\\\n",
       "\\end{tabular}\n"
      ],
      "text/markdown": [
       "\n",
       "A tibble: 6 × 3\n",
       "\n",
       "| thresholds &lt;dbl&gt; | HMRGroup &lt;chr&gt; | HMRCounts &lt;int&gt; |\n",
       "|---|---|---|\n",
       "|  10000 | Bcell_unclustered_loose |  389 |\n",
       "|  25000 | Bcell_unclustered_loose |  712 |\n",
       "|  50000 | Bcell_unclustered_loose | 1083 |\n",
       "|  75000 | Bcell_unclustered_loose | 1267 |\n",
       "| 100000 | Bcell_unclustered_loose | 1378 |\n",
       "| 150000 | Bcell_unclustered_loose | 1518 |\n",
       "\n"
      ],
      "text/plain": [
       "  thresholds HMRGroup                HMRCounts\n",
       "1  10000     Bcell_unclustered_loose  389     \n",
       "2  25000     Bcell_unclustered_loose  712     \n",
       "3  50000     Bcell_unclustered_loose 1083     \n",
       "4  75000     Bcell_unclustered_loose 1267     \n",
       "5 100000     Bcell_unclustered_loose 1378     \n",
       "6 150000     Bcell_unclustered_loose 1518     "
      ]
     },
     "metadata": {},
     "output_type": "display_data"
    }
   ],
   "source": [
    "numGene_CLcontainsCS_1NN\n",
    "numGene_UNCS_1NN\n",
    "numGene_UNlooseCS_1NN"
   ]
  },
  {
   "cell_type": "code",
   "execution_count": null,
   "id": "ba530065",
   "metadata": {},
   "outputs": [],
   "source": []
  },
  {
   "cell_type": "code",
   "execution_count": 20,
   "id": "e5664d04",
   "metadata": {},
   "outputs": [
    {
     "name": "stdout",
     "output_type": "stream",
     "text": [
      "[1] \"Done.\"\n"
     ]
    }
   ],
   "source": [
    "# Calc fraction\n",
    "numGene_CLcontainsCS_1NN_fraction <- numGene_CLcontainsCS_1NN %>% mutate(fraction = (HMRCounts/444) )\n",
    "numGene_UNCS_1NN_fraction <- numGene_UNCS_1NN %>% mutate(fraction = (HMRCounts/1621) )\n",
    "numGene_UNlooseCS_1NN_fraction <- numGene_UNlooseCS_1NN %>% mutate(fraction = (HMRCounts/2040) )\n",
    "\n",
    "numGene_CLcontainsCS_UNCS_1NN_fraction <- rbind(numGene_CLcontainsCS_1NN_fraction, numGene_UNCS_1NN_fraction )\n",
    "\n",
    "numGene_CLcontainsCS_UNCS_UNCSloose_1NN_fraction <- rbind(numGene_CLcontainsCS_1NN_fraction, numGene_UNCS_1NN_fraction, numGene_UNlooseCS_1NN_fraction)\n",
    "\n",
    "print(\"Done.\")"
   ]
  },
  {
   "cell_type": "markdown",
   "id": "32f739d5",
   "metadata": {},
   "source": [
    "## Plot"
   ]
  },
  {
   "cell_type": "code",
   "execution_count": 19,
   "id": "5a0664c9",
   "metadata": {},
   "outputs": [
    {
     "data": {
      "image/png": "[encoded data removed]",
      "text/plain": [
       "plot without title"
      ]
     },
     "metadata": {
      "image/png": {
       "height": 420,
       "width": 420
      }
     },
     "output_type": "display_data"
    }
   ],
   "source": [
    "p_numGene_1NN <- numGene_CLcontainsCS_UNCS_1NN_fraction %>%\n",
    "ggplot(aes(x = thresholds, y = fraction)) +\n",
    "geom_point(aes(color = HMRGroup)) + \n",
    "geom_line(aes(color = HMRGroup)) +\n",
    "theme_minimal() +\n",
    "scale_color_manual(values=c(\"#B0DAB6\", \"#3990C0\")) +\n",
    "theme(aspect.ratio = .7, legend.position = \"top\") +\n",
    "scale_x_continuous(breaks=threshold_list) +\n",
    "ylab(\"Fraction HMRs with Gene Assignment\")\n",
    "p_numGene_1NN"
   ]
  },
  {
   "cell_type": "code",
   "execution_count": 25,
   "id": "b609b54e",
   "metadata": {},
   "outputs": [
    {
     "data": {
      "text/html": [
       "<strong>png:</strong> 2"
      ],
      "text/latex": [
       "\\textbf{png:} 2"
      ],
      "text/markdown": [
       "**png:** 2"
      ],
      "text/plain": [
       "png \n",
       "  2 "
      ]
     },
     "metadata": {},
     "output_type": "display_data"
    },
    {
     "data": {
      "image/png": "[encoded data removed]",
      "text/plain": [
       "plot without title"
      ]
     },
     "metadata": {
      "image/png": {
       "height": 420,
       "width": 420
      }
     },
     "output_type": "display_data"
    }
   ],
   "source": [
    "pdf(\"/data/hodges_lab/Tim/FractionGenesByDistance_Cl_Un_UnLoose.pdf\")\n",
    "\n",
    "p <- numGene_CLcontainsCS_UNCS_UNCSloose_1NN_fraction %>%\n",
    "ggplot(aes(x = thresholds, y = fraction)) +\n",
    "geom_point(aes(color = HMRGroup)) + \n",
    "geom_line(aes(color = HMRGroup)) +\n",
    "theme_minimal() +\n",
    "scale_color_manual(values=c(\"#B0DAB6\", \"#061638\", \"#3990C0\")) +\n",
    "theme(aspect.ratio = .7, legend.position = \"top\") +\n",
    "scale_x_continuous(breaks=threshold_list) +\n",
    "ylab(\"Fraction HMRs with Gene Assignment\")\n",
    "p\n",
    "\n",
    "dev.off()\n",
    "p"
   ]
  },
  {
   "cell_type": "code",
   "execution_count": null,
   "id": "07c04c78",
   "metadata": {},
   "outputs": [],
   "source": [
    "## Fraction of fractions"
   ]
  },
  {
   "cell_type": "code",
   "execution_count": 26,
   "id": "f3edfec9",
   "metadata": {},
   "outputs": [],
   "source": [
    "numGene_CLcontainsCS_UNCS_1NN_fractionRatio <- merge(numGene_CLcontainsCS_1NN_fraction, numGene_UNCS_1NN_fraction, by = \"thresholds\") %>% mutate(fractionRatio = (fraction.x/fraction.y))\n",
    "\n",
    "numGene_CLcontainsCS_UNCSLoose_1NN_fractionRatio <- merge(numGene_CLcontainsCS_1NN_fraction, numGene_UNlooseCS_1NN_fraction, by = \"thresholds\") %>% mutate(fractionRatio = (fraction.x/fraction.y))"
   ]
  },
  {
   "cell_type": "code",
   "execution_count": null,
   "id": "c933fa7e",
   "metadata": {},
   "outputs": [],
   "source": []
  },
  {
   "cell_type": "code",
   "execution_count": 22,
   "id": "ff5a6451",
   "metadata": {},
   "outputs": [
    {
     "data": {
      "image/png": "[encoded data removed]",
      "text/plain": [
       "plot without title"
      ]
     },
     "metadata": {
      "image/png": {
       "height": 420,
       "width": 420
      }
     },
     "output_type": "display_data"
    }
   ],
   "source": [
    "p_numGeneFraction_1NN <- numGene_CLcontainsCS_UNCS_1NN_fractionRatio %>% \n",
    "ggplot(aes(x = thresholds, y = fractionRatio)) +\n",
    "geom_point() + \n",
    "geom_line() +\n",
    "geom_hline(yintercept = 1, color = \"red\") + \n",
    "coord_cartesian(ylim = c(1,4.5)) +\n",
    "theme_minimal() +\n",
    "scale_x_continuous(breaks=threshold_list) + \n",
    "theme(aspect.ratio = .25) +\n",
    "ylab(\"FractionCL/FractionUN\")\n",
    "\n",
    "p_numGeneFraction_1NN"
   ]
  },
  {
   "cell_type": "code",
   "execution_count": 23,
   "id": "e535c466",
   "metadata": {},
   "outputs": [
    {
     "data": {
      "image/png": "[encoded data removed]",
      "text/plain": [
       "plot without title"
      ]
     },
     "metadata": {
      "image/png": {
       "height": 420,
       "width": 420
      }
     },
     "output_type": "display_data"
    }
   ],
   "source": [
    "ggpubr::ggarrange(p_numGene_1NN, p_numGeneFraction_1NN, nrow = 2, align = \"v\", heights = c(4, 1.539))"
   ]
  },
  {
   "cell_type": "markdown",
   "id": "2f35e2c6",
   "metadata": {},
   "source": [
    "## Stats for fractions"
   ]
  },
  {
   "cell_type": "code",
   "execution_count": 24,
   "id": "fced833c",
   "metadata": {},
   "outputs": [
    {
     "data": {
      "text/html": [
       "<table class=\"dataframe\">\n",
       "<caption>A data.frame: 3 × 8</caption>\n",
       "<thead>\n",
       "\t<tr><th></th><th scope=col>thresholds</th><th scope=col>HMRGroup.x</th><th scope=col>HMRCounts.x</th><th scope=col>fraction.x</th><th scope=col>HMRGroup.y</th><th scope=col>HMRCounts.y</th><th scope=col>fraction.y</th><th scope=col>fractionRatio</th></tr>\n",
       "\t<tr><th></th><th scope=col>&lt;dbl&gt;</th><th scope=col>&lt;chr&gt;</th><th scope=col>&lt;int&gt;</th><th scope=col>&lt;dbl&gt;</th><th scope=col>&lt;chr&gt;</th><th scope=col>&lt;int&gt;</th><th scope=col>&lt;dbl&gt;</th><th scope=col>&lt;dbl&gt;</th></tr>\n",
       "</thead>\n",
       "<tbody>\n",
       "\t<tr><th scope=row>1</th><td>10000</td><td>Bcell_clustersContainsCS</td><td>138</td><td>0.3108108</td><td>Bcell_unclustered</td><td>122</td><td>0.07526218</td><td>4.129708</td></tr>\n",
       "\t<tr><th scope=row>2</th><td>25000</td><td>Bcell_clustersContainsCS</td><td>219</td><td>0.4932432</td><td>Bcell_unclustered</td><td>403</td><td>0.24861197</td><td>1.983988</td></tr>\n",
       "\t<tr><th scope=row>3</th><td>50000</td><td>Bcell_clustersContainsCS</td><td>290</td><td>0.6531532</td><td>Bcell_unclustered</td><td>737</td><td>0.45465762</td><td>1.436582</td></tr>\n",
       "</tbody>\n",
       "</table>\n"
      ],
      "text/latex": [
       "A data.frame: 3 × 8\n",
       "\\begin{tabular}{r|llllllll}\n",
       "  & thresholds & HMRGroup.x & HMRCounts.x & fraction.x & HMRGroup.y & HMRCounts.y & fraction.y & fractionRatio\\\\\n",
       "  & <dbl> & <chr> & <int> & <dbl> & <chr> & <int> & <dbl> & <dbl>\\\\\n",
       "\\hline\n",
       "\t1 & 10000 & Bcell\\_clustersContainsCS & 138 & 0.3108108 & Bcell\\_unclustered & 122 & 0.07526218 & 4.129708\\\\\n",
       "\t2 & 25000 & Bcell\\_clustersContainsCS & 219 & 0.4932432 & Bcell\\_unclustered & 403 & 0.24861197 & 1.983988\\\\\n",
       "\t3 & 50000 & Bcell\\_clustersContainsCS & 290 & 0.6531532 & Bcell\\_unclustered & 737 & 0.45465762 & 1.436582\\\\\n",
       "\\end{tabular}\n"
      ],
      "text/markdown": [
       "\n",
       "A data.frame: 3 × 8\n",
       "\n",
       "| <!--/--> | thresholds &lt;dbl&gt; | HMRGroup.x &lt;chr&gt; | HMRCounts.x &lt;int&gt; | fraction.x &lt;dbl&gt; | HMRGroup.y &lt;chr&gt; | HMRCounts.y &lt;int&gt; | fraction.y &lt;dbl&gt; | fractionRatio &lt;dbl&gt; |\n",
       "|---|---|---|---|---|---|---|---|---|\n",
       "| 1 | 10000 | Bcell_clustersContainsCS | 138 | 0.3108108 | Bcell_unclustered | 122 | 0.07526218 | 4.129708 |\n",
       "| 2 | 25000 | Bcell_clustersContainsCS | 219 | 0.4932432 | Bcell_unclustered | 403 | 0.24861197 | 1.983988 |\n",
       "| 3 | 50000 | Bcell_clustersContainsCS | 290 | 0.6531532 | Bcell_unclustered | 737 | 0.45465762 | 1.436582 |\n",
       "\n"
      ],
      "text/plain": [
       "  thresholds HMRGroup.x               HMRCounts.x fraction.x HMRGroup.y       \n",
       "1 10000      Bcell_clustersContainsCS 138         0.3108108  Bcell_unclustered\n",
       "2 25000      Bcell_clustersContainsCS 219         0.4932432  Bcell_unclustered\n",
       "3 50000      Bcell_clustersContainsCS 290         0.6531532  Bcell_unclustered\n",
       "  HMRCounts.y fraction.y fractionRatio\n",
       "1 122         0.07526218 4.129708     \n",
       "2 403         0.24861197 1.983988     \n",
       "3 737         0.45465762 1.436582     "
      ]
     },
     "metadata": {},
     "output_type": "display_data"
    }
   ],
   "source": [
    "head(numGene_CLcontainsCS_UNCS_1NN_fractionRatio, 3)"
   ]
  },
  {
   "cell_type": "code",
   "execution_count": 29,
   "id": "3e2ec8e0",
   "metadata": {
    "scrolled": true
   },
   "outputs": [
    {
     "data": {
      "text/html": [
       "<table class=\"dataframe\">\n",
       "<caption>A rowwise_df: 6 × 10</caption>\n",
       "<thead>\n",
       "\t<tr><th scope=col>thresholds</th><th scope=col>HMRGroup.x</th><th scope=col>HMRCounts.x</th><th scope=col>fraction.x</th><th scope=col>HMRGroup.y</th><th scope=col>HMRCounts.y</th><th scope=col>fraction.y</th><th scope=col>fractionRatio</th><th scope=col>propTestP</th><th scope=col>propTestStat</th></tr>\n",
       "\t<tr><th scope=col>&lt;dbl&gt;</th><th scope=col>&lt;chr&gt;</th><th scope=col>&lt;int&gt;</th><th scope=col>&lt;dbl&gt;</th><th scope=col>&lt;chr&gt;</th><th scope=col>&lt;int&gt;</th><th scope=col>&lt;dbl&gt;</th><th scope=col>&lt;dbl&gt;</th><th scope=col>&lt;dbl&gt;</th><th scope=col>&lt;dbl&gt;</th></tr>\n",
       "</thead>\n",
       "<tbody>\n",
       "\t<tr><td> 10000</td><td>Bcell_clustersContainsCS</td><td>138</td><td>0.3108108</td><td>Bcell_unclustered</td><td> 122</td><td>0.07526218</td><td>4.129708</td><td>1.224932e-39</td><td>173.57631</td></tr>\n",
       "\t<tr><td> 25000</td><td>Bcell_clustersContainsCS</td><td>219</td><td>0.4932432</td><td>Bcell_unclustered</td><td> 403</td><td>0.24861197</td><td>1.983988</td><td>4.320121e-23</td><td> 97.93652</td></tr>\n",
       "\t<tr><td> 50000</td><td>Bcell_clustersContainsCS</td><td>290</td><td>0.6531532</td><td>Bcell_unclustered</td><td> 737</td><td>0.45465762</td><td>1.436582</td><td>1.866878e-13</td><td> 54.14015</td></tr>\n",
       "\t<tr><td> 75000</td><td>Bcell_clustersContainsCS</td><td>324</td><td>0.7297297</td><td>Bcell_unclustered</td><td> 906</td><td>0.55891425</td><td>1.305620</td><td>1.168654e-10</td><td> 41.51675</td></tr>\n",
       "\t<tr><td>100000</td><td>Bcell_clustersContainsCS</td><td>351</td><td>0.7905405</td><td>Bcell_unclustered</td><td>1013</td><td>0.62492289</td><td>1.265021</td><td>9.607968e-11</td><td> 41.89965</td></tr>\n",
       "\t<tr><td>150000</td><td>Bcell_clustersContainsCS</td><td>378</td><td>0.8513514</td><td>Bcell_unclustered</td><td>1143</td><td>0.70512030</td><td>1.207385</td><td>8.423779e-10</td><td> 37.65945</td></tr>\n",
       "</tbody>\n",
       "</table>\n"
      ],
      "text/latex": [
       "A rowwise\\_df: 6 × 10\n",
       "\\begin{tabular}{llllllllll}\n",
       " thresholds & HMRGroup.x & HMRCounts.x & fraction.x & HMRGroup.y & HMRCounts.y & fraction.y & fractionRatio & propTestP & propTestStat\\\\\n",
       " <dbl> & <chr> & <int> & <dbl> & <chr> & <int> & <dbl> & <dbl> & <dbl> & <dbl>\\\\\n",
       "\\hline\n",
       "\t  10000 & Bcell\\_clustersContainsCS & 138 & 0.3108108 & Bcell\\_unclustered &  122 & 0.07526218 & 4.129708 & 1.224932e-39 & 173.57631\\\\\n",
       "\t  25000 & Bcell\\_clustersContainsCS & 219 & 0.4932432 & Bcell\\_unclustered &  403 & 0.24861197 & 1.983988 & 4.320121e-23 &  97.93652\\\\\n",
       "\t  50000 & Bcell\\_clustersContainsCS & 290 & 0.6531532 & Bcell\\_unclustered &  737 & 0.45465762 & 1.436582 & 1.866878e-13 &  54.14015\\\\\n",
       "\t  75000 & Bcell\\_clustersContainsCS & 324 & 0.7297297 & Bcell\\_unclustered &  906 & 0.55891425 & 1.305620 & 1.168654e-10 &  41.51675\\\\\n",
       "\t 100000 & Bcell\\_clustersContainsCS & 351 & 0.7905405 & Bcell\\_unclustered & 1013 & 0.62492289 & 1.265021 & 9.607968e-11 &  41.89965\\\\\n",
       "\t 150000 & Bcell\\_clustersContainsCS & 378 & 0.8513514 & Bcell\\_unclustered & 1143 & 0.70512030 & 1.207385 & 8.423779e-10 &  37.65945\\\\\n",
       "\\end{tabular}\n"
      ],
      "text/markdown": [
       "\n",
       "A rowwise_df: 6 × 10\n",
       "\n",
       "| thresholds &lt;dbl&gt; | HMRGroup.x &lt;chr&gt; | HMRCounts.x &lt;int&gt; | fraction.x &lt;dbl&gt; | HMRGroup.y &lt;chr&gt; | HMRCounts.y &lt;int&gt; | fraction.y &lt;dbl&gt; | fractionRatio &lt;dbl&gt; | propTestP &lt;dbl&gt; | propTestStat &lt;dbl&gt; |\n",
       "|---|---|---|---|---|---|---|---|---|---|\n",
       "|  10000 | Bcell_clustersContainsCS | 138 | 0.3108108 | Bcell_unclustered |  122 | 0.07526218 | 4.129708 | 1.224932e-39 | 173.57631 |\n",
       "|  25000 | Bcell_clustersContainsCS | 219 | 0.4932432 | Bcell_unclustered |  403 | 0.24861197 | 1.983988 | 4.320121e-23 |  97.93652 |\n",
       "|  50000 | Bcell_clustersContainsCS | 290 | 0.6531532 | Bcell_unclustered |  737 | 0.45465762 | 1.436582 | 1.866878e-13 |  54.14015 |\n",
       "|  75000 | Bcell_clustersContainsCS | 324 | 0.7297297 | Bcell_unclustered |  906 | 0.55891425 | 1.305620 | 1.168654e-10 |  41.51675 |\n",
       "| 100000 | Bcell_clustersContainsCS | 351 | 0.7905405 | Bcell_unclustered | 1013 | 0.62492289 | 1.265021 | 9.607968e-11 |  41.89965 |\n",
       "| 150000 | Bcell_clustersContainsCS | 378 | 0.8513514 | Bcell_unclustered | 1143 | 0.70512030 | 1.207385 | 8.423779e-10 |  37.65945 |\n",
       "\n"
      ],
      "text/plain": [
       "  thresholds HMRGroup.x               HMRCounts.x fraction.x HMRGroup.y       \n",
       "1  10000     Bcell_clustersContainsCS 138         0.3108108  Bcell_unclustered\n",
       "2  25000     Bcell_clustersContainsCS 219         0.4932432  Bcell_unclustered\n",
       "3  50000     Bcell_clustersContainsCS 290         0.6531532  Bcell_unclustered\n",
       "4  75000     Bcell_clustersContainsCS 324         0.7297297  Bcell_unclustered\n",
       "5 100000     Bcell_clustersContainsCS 351         0.7905405  Bcell_unclustered\n",
       "6 150000     Bcell_clustersContainsCS 378         0.8513514  Bcell_unclustered\n",
       "  HMRCounts.y fraction.y fractionRatio propTestP    propTestStat\n",
       "1  122        0.07526218 4.129708      1.224932e-39 173.57631   \n",
       "2  403        0.24861197 1.983988      4.320121e-23  97.93652   \n",
       "3  737        0.45465762 1.436582      1.866878e-13  54.14015   \n",
       "4  906        0.55891425 1.305620      1.168654e-10  41.51675   \n",
       "5 1013        0.62492289 1.265021      9.607968e-11  41.89965   \n",
       "6 1143        0.70512030 1.207385      8.423779e-10  37.65945   "
      ]
     },
     "metadata": {},
     "output_type": "display_data"
    },
    {
     "data": {
      "text/html": [
       "<table class=\"dataframe\">\n",
       "<caption>A rowwise_df: 6 × 10</caption>\n",
       "<thead>\n",
       "\t<tr><th scope=col>thresholds</th><th scope=col>HMRGroup.x</th><th scope=col>HMRCounts.x</th><th scope=col>fraction.x</th><th scope=col>HMRGroup.y</th><th scope=col>HMRCounts.y</th><th scope=col>fraction.y</th><th scope=col>fractionRatio</th><th scope=col>propTestP</th><th scope=col>propTestStat</th></tr>\n",
       "\t<tr><th scope=col>&lt;dbl&gt;</th><th scope=col>&lt;chr&gt;</th><th scope=col>&lt;int&gt;</th><th scope=col>&lt;dbl&gt;</th><th scope=col>&lt;chr&gt;</th><th scope=col>&lt;int&gt;</th><th scope=col>&lt;dbl&gt;</th><th scope=col>&lt;dbl&gt;</th><th scope=col>&lt;dbl&gt;</th><th scope=col>&lt;dbl&gt;</th></tr>\n",
       "</thead>\n",
       "<tbody>\n",
       "\t<tr><td> 10000</td><td>Bcell_clustersContainsCS</td><td>138</td><td>0.3108108</td><td>Bcell_unclustered_loose</td><td> 389</td><td>0.1906863</td><td>1.629959</td><td>2.912668e-08</td><td>30.76485</td></tr>\n",
       "\t<tr><td> 25000</td><td>Bcell_clustersContainsCS</td><td>219</td><td>0.4932432</td><td>Bcell_unclustered_loose</td><td> 712</td><td>0.3490196</td><td>1.413225</td><td>1.748548e-08</td><td>31.75548</td></tr>\n",
       "\t<tr><td> 50000</td><td>Bcell_clustersContainsCS</td><td>290</td><td>0.6531532</td><td>Bcell_unclustered_loose</td><td>1083</td><td>0.5308824</td><td>1.230316</td><td>3.430992e-06</td><td>21.55905</td></tr>\n",
       "\t<tr><td> 75000</td><td>Bcell_clustersContainsCS</td><td>324</td><td>0.7297297</td><td>Bcell_unclustered_loose</td><td>1267</td><td>0.6210784</td><td>1.174940</td><td>1.962262e-05</td><td>18.22557</td></tr>\n",
       "\t<tr><td>100000</td><td>Bcell_clustersContainsCS</td><td>351</td><td>0.7905405</td><td>Bcell_unclustered_loose</td><td>1378</td><td>0.6754902</td><td>1.170321</td><td>2.364742e-06</td><td>22.27328</td></tr>\n",
       "\t<tr><td>150000</td><td>Bcell_clustersContainsCS</td><td>378</td><td>0.8513514</td><td>Bcell_unclustered_loose</td><td>1518</td><td>0.7441176</td><td>1.144109</td><td>1.977369e-06</td><td>22.61691</td></tr>\n",
       "</tbody>\n",
       "</table>\n"
      ],
      "text/latex": [
       "A rowwise\\_df: 6 × 10\n",
       "\\begin{tabular}{llllllllll}\n",
       " thresholds & HMRGroup.x & HMRCounts.x & fraction.x & HMRGroup.y & HMRCounts.y & fraction.y & fractionRatio & propTestP & propTestStat\\\\\n",
       " <dbl> & <chr> & <int> & <dbl> & <chr> & <int> & <dbl> & <dbl> & <dbl> & <dbl>\\\\\n",
       "\\hline\n",
       "\t  10000 & Bcell\\_clustersContainsCS & 138 & 0.3108108 & Bcell\\_unclustered\\_loose &  389 & 0.1906863 & 1.629959 & 2.912668e-08 & 30.76485\\\\\n",
       "\t  25000 & Bcell\\_clustersContainsCS & 219 & 0.4932432 & Bcell\\_unclustered\\_loose &  712 & 0.3490196 & 1.413225 & 1.748548e-08 & 31.75548\\\\\n",
       "\t  50000 & Bcell\\_clustersContainsCS & 290 & 0.6531532 & Bcell\\_unclustered\\_loose & 1083 & 0.5308824 & 1.230316 & 3.430992e-06 & 21.55905\\\\\n",
       "\t  75000 & Bcell\\_clustersContainsCS & 324 & 0.7297297 & Bcell\\_unclustered\\_loose & 1267 & 0.6210784 & 1.174940 & 1.962262e-05 & 18.22557\\\\\n",
       "\t 100000 & Bcell\\_clustersContainsCS & 351 & 0.7905405 & Bcell\\_unclustered\\_loose & 1378 & 0.6754902 & 1.170321 & 2.364742e-06 & 22.27328\\\\\n",
       "\t 150000 & Bcell\\_clustersContainsCS & 378 & 0.8513514 & Bcell\\_unclustered\\_loose & 1518 & 0.7441176 & 1.144109 & 1.977369e-06 & 22.61691\\\\\n",
       "\\end{tabular}\n"
      ],
      "text/markdown": [
       "\n",
       "A rowwise_df: 6 × 10\n",
       "\n",
       "| thresholds &lt;dbl&gt; | HMRGroup.x &lt;chr&gt; | HMRCounts.x &lt;int&gt; | fraction.x &lt;dbl&gt; | HMRGroup.y &lt;chr&gt; | HMRCounts.y &lt;int&gt; | fraction.y &lt;dbl&gt; | fractionRatio &lt;dbl&gt; | propTestP &lt;dbl&gt; | propTestStat &lt;dbl&gt; |\n",
       "|---|---|---|---|---|---|---|---|---|---|\n",
       "|  10000 | Bcell_clustersContainsCS | 138 | 0.3108108 | Bcell_unclustered_loose |  389 | 0.1906863 | 1.629959 | 2.912668e-08 | 30.76485 |\n",
       "|  25000 | Bcell_clustersContainsCS | 219 | 0.4932432 | Bcell_unclustered_loose |  712 | 0.3490196 | 1.413225 | 1.748548e-08 | 31.75548 |\n",
       "|  50000 | Bcell_clustersContainsCS | 290 | 0.6531532 | Bcell_unclustered_loose | 1083 | 0.5308824 | 1.230316 | 3.430992e-06 | 21.55905 |\n",
       "|  75000 | Bcell_clustersContainsCS | 324 | 0.7297297 | Bcell_unclustered_loose | 1267 | 0.6210784 | 1.174940 | 1.962262e-05 | 18.22557 |\n",
       "| 100000 | Bcell_clustersContainsCS | 351 | 0.7905405 | Bcell_unclustered_loose | 1378 | 0.6754902 | 1.170321 | 2.364742e-06 | 22.27328 |\n",
       "| 150000 | Bcell_clustersContainsCS | 378 | 0.8513514 | Bcell_unclustered_loose | 1518 | 0.7441176 | 1.144109 | 1.977369e-06 | 22.61691 |\n",
       "\n"
      ],
      "text/plain": [
       "  thresholds HMRGroup.x               HMRCounts.x fraction.x\n",
       "1  10000     Bcell_clustersContainsCS 138         0.3108108 \n",
       "2  25000     Bcell_clustersContainsCS 219         0.4932432 \n",
       "3  50000     Bcell_clustersContainsCS 290         0.6531532 \n",
       "4  75000     Bcell_clustersContainsCS 324         0.7297297 \n",
       "5 100000     Bcell_clustersContainsCS 351         0.7905405 \n",
       "6 150000     Bcell_clustersContainsCS 378         0.8513514 \n",
       "  HMRGroup.y              HMRCounts.y fraction.y fractionRatio propTestP   \n",
       "1 Bcell_unclustered_loose  389        0.1906863  1.629959      2.912668e-08\n",
       "2 Bcell_unclustered_loose  712        0.3490196  1.413225      1.748548e-08\n",
       "3 Bcell_unclustered_loose 1083        0.5308824  1.230316      3.430992e-06\n",
       "4 Bcell_unclustered_loose 1267        0.6210784  1.174940      1.962262e-05\n",
       "5 Bcell_unclustered_loose 1378        0.6754902  1.170321      2.364742e-06\n",
       "6 Bcell_unclustered_loose 1518        0.7441176  1.144109      1.977369e-06\n",
       "  propTestStat\n",
       "1 30.76485    \n",
       "2 31.75548    \n",
       "3 21.55905    \n",
       "4 18.22557    \n",
       "5 22.27328    \n",
       "6 22.61691    "
      ]
     },
     "metadata": {},
     "output_type": "display_data"
    }
   ],
   "source": [
    "# Cl vs. Un\n",
    "numGene_CLcontainsCS_UNCS_1NN_fractionRatio_pvals <- numGene_CLcontainsCS_UNCS_1NN_fractionRatio %>% rowwise() %>% mutate(\n",
    "    propTestP = prop.test(x = c(HMRCounts.x, HMRCounts.y), n = c(444, 1621))$p.value,\n",
    "    propTestStat = prop.test(x = c(HMRCounts.x, HMRCounts.y), n = c(444, 1621))$statistic,\n",
    ")\n",
    "numGene_CLcontainsCS_UNCS_1NN_fractionRatio_pvals\n",
    "\n",
    "\n",
    "# Cl vs. UnLoose\n",
    "numGene_CLcontainsCS_UNCSLoose_1NN_fractionRatio_pvals <- numGene_CLcontainsCS_UNCSLoose_1NN_fractionRatio %>% rowwise() %>% mutate(\n",
    "    propTestP = prop.test(x = c(HMRCounts.x, HMRCounts.y), n = c(444, 2040))$p.value,\n",
    "    propTestStat = prop.test(x = c(HMRCounts.x, HMRCounts.y), n = c(444, 2040))$statistic,\n",
    ")\n",
    "numGene_CLcontainsCS_UNCSLoose_1NN_fractionRatio_pvals"
   ]
  },
  {
   "cell_type": "code",
   "execution_count": 39,
   "id": "40943e93",
   "metadata": {},
   "outputs": [
    {
     "data": {
      "text/html": [
       "<strong>png:</strong> 2"
      ],
      "text/latex": [
       "\\textbf{png:} 2"
      ],
      "text/markdown": [
       "**png:** 2"
      ],
      "text/plain": [
       "png \n",
       "  2 "
      ]
     },
     "metadata": {},
     "output_type": "display_data"
    },
    {
     "data": {
      "image/png": "[encoded data removed]",
      "text/plain": [
       "plot without title"
      ]
     },
     "metadata": {
      "image/png": {
       "height": 420,
       "width": 420
      }
     },
     "output_type": "display_data"
    }
   ],
   "source": [
    "pdf(\"/data/hodges_lab/Tim/Bcell.TAD.1NN.UniqueGenes.ProportionOfHMRsbyDistance.July15.Cl_Un_UnLoose.pdf\")\n",
    "\n",
    "ps <- numGene_CLcontainsCS_UNCS_UNCSloose_1NN_fraction %>%\n",
    "ggplot(aes(x = thresholds, y = fraction)) +\n",
    "geom_point(aes(color = HMRGroup), size = 5) + \n",
    "geom_line(aes(color = HMRGroup), size = 2) +\n",
    "theme_bw() +\n",
    "scale_color_manual(values=c(\"#B0DAB6\", \"#061638\", \"#3990C0\")) +\n",
    "theme(aspect.ratio = .7, legend.position = \"top\") +\n",
    "scale_x_continuous(breaks=threshold_list) +\n",
    "ylab(\"Fraction HMRs with Gene Assignment\") +\n",
    "geom_text(data = numGene_CLcontainsCS_UNCS_1NN_fractionRatio_pvals, aes(x = thresholds+1000, y = .5, label = format(propTestP, digits=3))) +\n",
    "geom_text(data = numGene_CLcontainsCS_UNCSLoose_1NN_fractionRatio_pvals, aes(x = thresholds+1000, y = .7, label = format(propTestP, digits=3)))\n",
    "ps\n",
    "\n",
    "dev.off()\n",
    "ps"
   ]
  },
  {
   "cell_type": "code",
   "execution_count": 30,
   "id": "43d791c3",
   "metadata": {},
   "outputs": [
    {
     "data": {
      "text/html": [
       "<strong>png:</strong> 2"
      ],
      "text/latex": [
       "\\textbf{png:} 2"
      ],
      "text/markdown": [
       "**png:** 2"
      ],
      "text/plain": [
       "png \n",
       "  2 "
      ]
     },
     "metadata": {},
     "output_type": "display_data"
    },
    {
     "data": {
      "image/png": "[encoded data removed]",
      "text/plain": [
       "plot without title"
      ]
     },
     "metadata": {
      "image/png": {
       "height": 420,
       "width": 420
      }
     },
     "output_type": "display_data"
    }
   ],
   "source": [
    "pdf(\"Bcell.TAD.1NN.UniqueGenes.ProportionOfHMRsbyDistance.June11.pdf\")\n",
    "\n",
    "p_numGene_1NN_stats <- numGene_CLcontainsCS_UNCS_1NN_fraction %>%\n",
    "ggplot(aes(x = thresholds, y = fraction)) +\n",
    "geom_point(aes(color = HMRGroup), size = 5) + \n",
    "geom_line(aes(color = HMRGroup), size = 2) +\n",
    "theme_bw() +\n",
    "scale_color_manual(values=c(\"#B0DAB6\", \"#3990C0\")) +\n",
    "theme(aspect.ratio = .7, legend.position = \"top\") +\n",
    "scale_x_continuous(breaks=threshold_list) +\n",
    "ylab(\"Fraction HMRs with Gene Assignment\") +\n",
    "geom_text(data = numGene_CLcontainsCS_UNCS_1NN_fractionRatio_pvals, aes(x = thresholds+1000, y = .5, label = format(propTestP, digits=3)))\n",
    "p_numGene_1NN_stats\n",
    "\n",
    "dev.off()\n",
    "p_numGene_1NN_stats"
   ]
  },
  {
   "cell_type": "code",
   "execution_count": null,
   "id": "05d4491f",
   "metadata": {},
   "outputs": [],
   "source": []
  }
 ],
 "metadata": {
  "kernelspec": {
   "display_name": "R",
   "language": "R",
   "name": "ir"
  },
  "language_info": {
   "codemirror_mode": "r",
   "file_extension": ".r",
   "mimetype": "text/x-r-source",
   "name": "R",
   "pygments_lexer": "r",
   "version": "4.1.2"
  },
  "toc": {
   "base_numbering": 1,
   "nav_menu": {},
   "number_sections": true,
   "sideBar": true,
   "skip_h1_title": false,
   "title_cell": "Table of Contents",
   "title_sidebar": "Contents",
   "toc_cell": false,
   "toc_position": {
    "height": "calc(100% - 180px)",
    "left": "10px",
    "top": "150px",
    "width": "313px"
   },
   "toc_section_display": true,
   "toc_window_display": true
  }
 },
 "nbformat": 4,
 "nbformat_minor": 5
}

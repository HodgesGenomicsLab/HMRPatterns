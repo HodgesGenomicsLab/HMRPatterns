{
 "cells": [
  {
   "cell_type": "code",
   "execution_count": 1,
   "id": "6f8a6760",
   "metadata": {},
   "outputs": [],
   "source": [
    "cd /data/hodges_lab/Tim/ChromHMM"
   ]
  },
  {
   "cell_type": "code",
   "execution_count": null,
   "id": "80e0bc00",
   "metadata": {},
   "outputs": [],
   "source": []
  },
  {
   "cell_type": "code",
   "execution_count": 6,
   "id": "a08b709b",
   "metadata": {},
   "outputs": [],
   "source": [
    "CHMM_FILE=/data/hodges_lab/Tim/ChromHMM/wgEncodeBroadHmmGm12878HMM.bed\n",
    "B_CLUST=/data/hodges_lab/Tim/finalAnalyses_HMRs/hp_lineage/HMRs/Bcell_internalClusters_individualHMRs_hpl.txt\n",
    "B_UNCLUST=/data/hodges_lab/Tim/finalAnalyses_HMRs/hp_lineage/HMRs/Bcell_unclustered_hpl.txt"
   ]
  },
  {
   "cell_type": "code",
   "execution_count": 2,
   "id": "694582e3",
   "metadata": {},
   "outputs": [
    {
     "name": "stdout",
     "output_type": "stream",
     "text": [
      "wgEncodeBroadHmmGm12878HMM.bed\n"
     ]
    }
   ],
   "source": [
    "ls"
   ]
  },
  {
   "cell_type": "code",
   "execution_count": 3,
   "id": "0f96670c",
   "metadata": {},
   "outputs": [
    {
     "name": "stdout",
     "output_type": "stream",
     "text": [
      "chr1\t67001612\t67113812\t13_Heterochrom/lo\t0\t.\t67001612\t67113812\n",
      "chr1\t201324577\t201326777\t12_Repressed\t0\t.\t201324577\t201326777\n",
      "chr1\t8381013\t8408813\t13_Heterochrom/lo\t0\t.\t8381013\t8408813\n",
      "chr1\t16777013\t16777413\t5_Strong_Enhancer\t0\t.\t16777013\t16777413\n",
      "chr1\t25162013\t25166013\t11_Weak_Txn\t0\t.\t25162013\t25166013\n",
      "chr1\t33554013\t33554613\t6_Weak_Enhancer\t0\t.\t33554013\t33554613\n",
      "chr1\t41942213\t41944013\t11_Weak_Txn\t0\t.\t41942213\t41944013\n",
      "chr1\t49401813\t50512613\t13_Heterochrom/lo\t0\t.\t49401813\t50512613\n",
      "chr1\t58717812\t58856412\t13_Heterochrom/lo\t0\t.\t58717812\t58856412\n",
      "chr1\t75324612\t75592212\t13_Heterochrom/lo\t0\t.\t75324612\t75592212\n"
     ]
    }
   ],
   "source": [
    "head wgEncodeBroadHmmGm12878HMM.bed"
   ]
  },
  {
   "cell_type": "code",
   "execution_count": 4,
   "id": "08c92b5e",
   "metadata": {},
   "outputs": [
    {
     "name": "stdout",
     "output_type": "stream",
     "text": [
      "571339 wgEncodeBroadHmmGm12878HMM.bed\n"
     ]
    }
   ],
   "source": [
    "wc -l wgEncodeBroadHmmGm12878HMM.bed"
   ]
  },
  {
   "cell_type": "code",
   "execution_count": 5,
   "id": "a4fe8666",
   "metadata": {},
   "outputs": [
    {
     "name": "stdout",
     "output_type": "stream",
     "text": [
      "1330\n"
     ]
    }
   ],
   "source": [
    "bedtools sort -i wgEncodeBroadHmmGm12878HMM.bed | bedtools merge -i - | wc -l "
   ]
  },
  {
   "cell_type": "code",
   "execution_count": 10,
   "id": "175fe4c1",
   "metadata": {},
   "outputs": [
    {
     "name": "stdout",
     "output_type": "stream",
     "text": [
      "10_Txn_Elongation\n",
      "11_Weak_Txn\n",
      "12_Repressed\n",
      "13_Heterochrom/lo\n",
      "14_Repetitive/CNV\n",
      "15_Repetitive/CNV\n",
      "1_Active_Promoter\n",
      "2_Weak_Promoter\n",
      "3_Poised_Promoter\n",
      "4_Strong_Enhancer\n",
      "5_Strong_Enhancer\n",
      "6_Weak_Enhancer\n",
      "7_Weak_Enhancer\n",
      "8_Insulator\n",
      "9_Txn_Transition\n"
     ]
    }
   ],
   "source": [
    "awk '{print $4}' wgEncodeBroadHmmGm12878HMM.bed | sort | uniq"
   ]
  },
  {
   "cell_type": "code",
   "execution_count": 8,
   "id": "de90b971",
   "metadata": {},
   "outputs": [
    {
     "name": "stdout",
     "output_type": "stream",
     "text": [
      "5974 /data/hodges_lab/Tim/finalAnalyses_HMRs/hp_lineage/HMRs/Bcell_internalClusters_individualHMRs_hpl.txt\n",
      "17185 /data/hodges_lab/Tim/finalAnalyses_HMRs/hp_lineage/HMRs/Bcell_unclustered_hpl.txt\n"
     ]
    }
   ],
   "source": [
    "wc -l $B_CLUST\n",
    "wc -l $B_UNCLUST"
   ]
  },
  {
   "cell_type": "code",
   "execution_count": 9,
   "id": "c8c063b8",
   "metadata": {},
   "outputs": [
    {
     "name": "stdout",
     "output_type": "stream",
     "text": [
      "chr1\t564470\t566009\t1539\tchr1\t564137\t570537\t14_Repetitive/CNV\t0\t.\t564137\t570537\t1539\n",
      "chr1\t566458\t566879\t421\tchr1\t564137\t570537\t14_Repetitive/CNV\t0\t.\t564137\t570537\t421\n",
      "chr1\t567166\t570301\t3135\tchr1\t564137\t570537\t14_Repetitive/CNV\t0\t.\t564137\t570537\t3135\n",
      "chr1\t832618\t833196\t578\tchr1\t826537\t834137\t12_Repressed\t0\t.\t826537\t834137\t578\n",
      "chr1\t833785\t834596\t811\tchr1\t826537\t834137\t12_Repressed\t0\t.\t826537\t834137\t352\n",
      "chr1\t833785\t834596\t811\tchr1\t834137\t834337\t3_Poised_Promoter\t0\t.\t834137\t834337\t200\n",
      "chr1\t833785\t834596\t811\tchr1\t834337\t834937\t12_Repressed\t0\t.\t834337\t834937\t259\n",
      "chr1\t839724\t841039\t1315\tchr1\t839737\t840137\t6_Weak_Enhancer\t0\t.\t839737\t840137\t400\n",
      "chr1\t839724\t841039\t1315\tchr1\t840137\t841137\t2_Weak_Promoter\t0\t.\t840137\t841137\t902\n",
      "chr1\t839724\t841039\t1315\tchr1\t834937\t839737\t13_Heterochrom/lo\t0\t.\t834937\t839737\t13\n"
     ]
    }
   ],
   "source": [
    "bedtools intersect -wao -a $B_CLUST -b $CHMM_FILE | head"
   ]
  },
  {
   "cell_type": "markdown",
   "id": "0d8bccdc",
   "metadata": {},
   "source": [
    "# Dirs and files"
   ]
  },
  {
   "cell_type": "code",
   "execution_count": 28,
   "id": "ccc75701",
   "metadata": {},
   "outputs": [],
   "source": [
    "CHMM_DIR=/data/hodges_lab/Tim/ChromHMM/\n",
    "CHMM_FILE=/data/hodges_lab/Tim/ChromHMM/wgEncodeBroadHmmGm12878HMM.bed\n",
    "B_CLUST=/data/hodges_lab/Tim/finalAnalyses_HMRs/hp_lineage/HMRs/Bcell_internalClusters_individualHMRs_hpl.txt\n",
    "B_UNCLUST=/data/hodges_lab/Tim/finalAnalyses_HMRs/hp_lineage/HMRs/Bcell_unclustered_hpl.txt"
   ]
  },
  {
   "cell_type": "code",
   "execution_count": 30,
   "id": "77e4d9dc",
   "metadata": {},
   "outputs": [
    {
     "name": "stdout",
     "output_type": "stream",
     "text": [
      "5974 /data/hodges_lab/Tim/finalAnalyses_HMRs/hp_lineage/HMRs/Bcell_internalClusters_individualHMRs_hpl.txt\n",
      "17185 /data/hodges_lab/Tim/finalAnalyses_HMRs/hp_lineage/HMRs/Bcell_unclustered_hpl.txt\n"
     ]
    }
   ],
   "source": [
    "wc -l $B_CLUST\n",
    "wc -l $B_UNCLUST"
   ]
  },
  {
   "cell_type": "markdown",
   "id": "1043ef62",
   "metadata": {},
   "source": [
    "# Get ChromHMM"
   ]
  },
  {
   "cell_type": "code",
   "execution_count": 11,
   "id": "9f0d4372",
   "metadata": {},
   "outputs": [
    {
     "name": "stdout",
     "output_type": "stream",
     "text": [
      "--2023-07-18 13:26:53--  http://hgdownload.cse.ucsc.edu/goldenpath/hg19/encodeDCC/wgEncodeBroadHmm/wgEncodeBroadHmmGm12878HMM.bed.gz\n",
      "Resolving hgdownload.cse.ucsc.edu (hgdownload.cse.ucsc.edu)... 128.114.119.163\n",
      "Connecting to hgdownload.cse.ucsc.edu (hgdownload.cse.ucsc.edu)|128.114.119.163|:80... connected.\n",
      "HTTP request sent, awaiting response... 200 OK\n",
      "Length: 5540331 (5.3M) [application/x-gzip]\n",
      "Saving to: ‘wgEncodeBroadHmmGm12878HMM.bed.gz’\n",
      "\n",
      "100%[======================================>] 5,540,331   4.74MB/s   in 1.1s   \n",
      "\n",
      "2023-07-18 13:26:55 (4.74 MB/s) - ‘wgEncodeBroadHmmGm12878HMM.bed.gz’ saved [5540331/5540331]\n",
      "\n"
     ]
    }
   ],
   "source": [
    "cd /data/hodges_lab/Tim/ChromHMM/\n",
    "\n",
    "wget http://hgdownload.cse.ucsc.edu/goldenpath/hg19/encodeDCC/wgEncodeBroadHmm/wgEncodeBroadHmmGm12878HMM.bed.gz\n"
   ]
  },
  {
   "cell_type": "markdown",
   "id": "c91b9045",
   "metadata": {},
   "source": [
    "## Unzip"
   ]
  },
  {
   "cell_type": "code",
   "execution_count": 16,
   "id": "6ed0beaa",
   "metadata": {},
   "outputs": [],
   "source": [
    "gunzip wgEncodeBroadHmmGm12878HMM.bed.gz"
   ]
  },
  {
   "cell_type": "markdown",
   "id": "75e71de9",
   "metadata": {},
   "source": [
    "# Intersect "
   ]
  },
  {
   "cell_type": "code",
   "execution_count": null,
   "id": "00aae5e7",
   "metadata": {},
   "outputs": [],
   "source": [
    "## Clustered"
   ]
  },
  {
   "cell_type": "code",
   "execution_count": 26,
   "id": "e43355a4",
   "metadata": {},
   "outputs": [],
   "source": [
    "bedtools intersect -wo -a $B_CLUST -b $CHMM_FILE > ${CHMM_DIR}Bcell_internalClusters_individualHMRs_hpl.ChromHMM.txt"
   ]
  },
  {
   "cell_type": "code",
   "execution_count": null,
   "id": "e6d9825c",
   "metadata": {},
   "outputs": [],
   "source": [
    "## Unclustered"
   ]
  },
  {
   "cell_type": "code",
   "execution_count": 29,
   "id": "ccf1d3bd",
   "metadata": {},
   "outputs": [],
   "source": [
    "bedtools intersect -wo -a $B_UNCLUST -b $CHMM_FILE > ${CHMM_DIR}Bcell_unclustered_hpl.ChromHMM.txt"
   ]
  },
  {
   "cell_type": "markdown",
   "id": "43ca5930",
   "metadata": {},
   "source": [
    "# R: Get values for Enhancers/Hetero/Insulators"
   ]
  },
  {
   "cell_type": "markdown",
   "id": "522d2b79",
   "metadata": {},
   "source": [
    "## Libraries "
   ]
  },
  {
   "cell_type": "code",
   "execution_count": 2,
   "id": "87f88085",
   "metadata": {},
   "outputs": [],
   "source": [
    "library(tidyverse)\n",
    "library(ggplot2)\n",
    "\n",
    "setwd(\"/data/hodges_lab/Tim/ChromHMM/\")"
   ]
  },
  {
   "cell_type": "markdown",
   "id": "d436a861",
   "metadata": {},
   "source": [
    "## Load files"
   ]
  },
  {
   "cell_type": "code",
   "execution_count": 6,
   "id": "b87db153",
   "metadata": {},
   "outputs": [
    {
     "name": "stderr",
     "output_type": "stream",
     "text": [
      "\u001b[1mRows: \u001b[22m\u001b[34m9266\u001b[39m \u001b[1mColumns: \u001b[22m\u001b[34m14\u001b[39m\n",
      "\u001b[36m──\u001b[39m \u001b[1mColumn specification\u001b[22m \u001b[36m────────────────────────────────────────────────────────\u001b[39m\n",
      "\u001b[1mDelimiter:\u001b[22m \"\\t\"\n",
      "\u001b[31mchr\u001b[39m (5): chrHMR, chrChromHMM, ChromHMMGroup, value1, values\n",
      "\u001b[32mdbl\u001b[39m (9): startHMR, endHMR, lengthHMR, startChromHMM, endChromHMM, value0stra...\n",
      "\n",
      "\u001b[36mℹ\u001b[39m Use `spec()` to retrieve the full column specification for this data.\n",
      "\u001b[36mℹ\u001b[39m Specify the column types or set `show_col_types = FALSE` to quiet this message.\n",
      "\u001b[1mRows: \u001b[22m\u001b[34m27320\u001b[39m \u001b[1mColumns: \u001b[22m\u001b[34m13\u001b[39m\n",
      "\u001b[36m──\u001b[39m \u001b[1mColumn specification\u001b[22m \u001b[36m────────────────────────────────────────────────────────\u001b[39m\n",
      "\u001b[1mDelimiter:\u001b[22m \"\\t\"\n",
      "\u001b[31mchr\u001b[39m (5): chrHMR, chrChromHMM, ChromHMMGroup, value1, values\n",
      "\u001b[32mdbl\u001b[39m (8): startHMR, endHMR, startChromHMM, endChromHMM, value0strand, startCh...\n",
      "\n",
      "\u001b[36mℹ\u001b[39m Use `spec()` to retrieve the full column specification for this data.\n",
      "\u001b[36mℹ\u001b[39m Specify the column types or set `show_col_types = FALSE` to quiet this message.\n"
     ]
    }
   ],
   "source": [
    "\n",
    "BCL_CHMM <- read_tsv(\"Bcell_internalClusters_individualHMRs_hpl.ChromHMM.txt\", col_names = c(\"chrHMR\",\"startHMR\",\"endHMR\",\"lengthHMR\",\"chrChromHMM\",\"startChromHMM\",\"endChromHMM\",\"ChromHMMGroup\",\"value0strand\",\"value1\",\"startChromHMM_rep\",\"endChromHMM_rep\",\"values\",\"value2\"))\n",
    "\n",
    "\n",
    "BUN_CHMM <- read_tsv(\"Bcell_unclustered_hpl.ChromHMM.txt\", col_names = c(\"chrHMR\",\"startHMR\",\"endHMR\",\"chrChromHMM\",\"startChromHMM\",\"endChromHMM\",\"ChromHMMGroup\",\"value0strand\",\"value1\",\"startChromHMM_rep\",\"endChromHMM_rep\",\"values\",\"value2\"))"
   ]
  },
  {
   "cell_type": "markdown",
   "id": "5a6d7b56",
   "metadata": {},
   "source": [
    "## Find #HMRs per group"
   ]
  },
  {
   "cell_type": "code",
   "execution_count": 8,
   "id": "6c752ea8",
   "metadata": {},
   "outputs": [
    {
     "data": {
      "text/html": [
       "<style>\n",
       ".list-inline {list-style: none; margin:0; padding: 0}\n",
       ".list-inline>li {display: inline-block}\n",
       ".list-inline>li:not(:last-child)::after {content: \"\\00b7\"; padding: 0 .5ex}\n",
       "</style>\n",
       "<ol class=list-inline><li>'14_Repetitive/CNV'</li><li>'12_Repressed'</li><li>'3_Poised_Promoter'</li><li>'6_Weak_Enhancer'</li><li>'2_Weak_Promoter'</li><li>'13_Heterochrom/lo'</li><li>'7_Weak_Enhancer'</li><li>'4_Strong_Enhancer'</li><li>'11_Weak_Txn'</li><li>'1_Active_Promoter'</li><li>'5_Strong_Enhancer'</li><li>'8_Insulator'</li><li>'9_Txn_Transition'</li><li>'15_Repetitive/CNV'</li><li>'10_Txn_Elongation'</li></ol>\n"
      ],
      "text/latex": [
       "\\begin{enumerate*}\n",
       "\\item '14\\_Repetitive/CNV'\n",
       "\\item '12\\_Repressed'\n",
       "\\item '3\\_Poised\\_Promoter'\n",
       "\\item '6\\_Weak\\_Enhancer'\n",
       "\\item '2\\_Weak\\_Promoter'\n",
       "\\item '13\\_Heterochrom/lo'\n",
       "\\item '7\\_Weak\\_Enhancer'\n",
       "\\item '4\\_Strong\\_Enhancer'\n",
       "\\item '11\\_Weak\\_Txn'\n",
       "\\item '1\\_Active\\_Promoter'\n",
       "\\item '5\\_Strong\\_Enhancer'\n",
       "\\item '8\\_Insulator'\n",
       "\\item '9\\_Txn\\_Transition'\n",
       "\\item '15\\_Repetitive/CNV'\n",
       "\\item '10\\_Txn\\_Elongation'\n",
       "\\end{enumerate*}\n"
      ],
      "text/markdown": [
       "1. '14_Repetitive/CNV'\n",
       "2. '12_Repressed'\n",
       "3. '3_Poised_Promoter'\n",
       "4. '6_Weak_Enhancer'\n",
       "5. '2_Weak_Promoter'\n",
       "6. '13_Heterochrom/lo'\n",
       "7. '7_Weak_Enhancer'\n",
       "8. '4_Strong_Enhancer'\n",
       "9. '11_Weak_Txn'\n",
       "10. '1_Active_Promoter'\n",
       "11. '5_Strong_Enhancer'\n",
       "12. '8_Insulator'\n",
       "13. '9_Txn_Transition'\n",
       "14. '15_Repetitive/CNV'\n",
       "15. '10_Txn_Elongation'\n",
       "\n",
       "\n"
      ],
      "text/plain": [
       " [1] \"14_Repetitive/CNV\" \"12_Repressed\"      \"3_Poised_Promoter\"\n",
       " [4] \"6_Weak_Enhancer\"   \"2_Weak_Promoter\"   \"13_Heterochrom/lo\"\n",
       " [7] \"7_Weak_Enhancer\"   \"4_Strong_Enhancer\" \"11_Weak_Txn\"      \n",
       "[10] \"1_Active_Promoter\" \"5_Strong_Enhancer\" \"8_Insulator\"      \n",
       "[13] \"9_Txn_Transition\"  \"15_Repetitive/CNV\" \"10_Txn_Elongation\""
      ]
     },
     "metadata": {},
     "output_type": "display_data"
    }
   ],
   "source": [
    "unique(BCL_CHMM$ChromHMMGroup)"
   ]
  },
  {
   "cell_type": "code",
   "execution_count": null,
   "id": "0da1f17e",
   "metadata": {},
   "outputs": [],
   "source": [
    "# 5974 /data/hodges_lab/Tim/finalAnalyses_HMRs/hp_lineage/HMRs/Bcell_internalClusters_individualHMRs_hpl.txt\n",
    "# 17185 /data/hodges_lab/Tim/finalAnalyses_HMRs/hp_lineage/HMRs/Bcell_unclustered_hpl.txt"
   ]
  },
  {
   "cell_type": "markdown",
   "id": "1cac88ee",
   "metadata": {},
   "source": [
    "### Strong Enhancers"
   ]
  },
  {
   "cell_type": "code",
   "execution_count": 17,
   "id": "534144c7",
   "metadata": {
    "scrolled": true
   },
   "outputs": [
    {
     "data": {
      "text/html": [
       "1824"
      ],
      "text/latex": [
       "1824"
      ],
      "text/markdown": [
       "1824"
      ],
      "text/plain": [
       "[1] 1824"
      ]
     },
     "metadata": {},
     "output_type": "display_data"
    },
    {
     "data": {
      "text/html": [
       "3334"
      ],
      "text/latex": [
       "3334"
      ],
      "text/markdown": [
       "3334"
      ],
      "text/plain": [
       "[1] 3334"
      ]
     },
     "metadata": {},
     "output_type": "display_data"
    }
   ],
   "source": [
    "BCL_CHMM_StrongEnh <- BCL_CHMM %>%\n",
    "filter(ChromHMMGroup %in% c(\"4_Strong_Enhancer\", \"5_Strong_Enhancer\")) %>% \n",
    "group_by(chrHMR, startHMR, endHMR) %>% top_n(n = 1, wt = startChromHMM) %>% nrow()\n",
    "\n",
    "BUN_CHMM_StrongEnh <- BUN_CHMM %>%\n",
    "filter(ChromHMMGroup %in% c(\"4_Strong_Enhancer\", \"5_Strong_Enhancer\")) %>% \n",
    "group_by(chrHMR, startHMR, endHMR) %>% top_n(n = 1, wt = startChromHMM) %>% nrow()\n",
    "\n",
    "BCL_CHMM_StrongEnh\n",
    "BUN_CHMM_StrongEnh"
   ]
  },
  {
   "cell_type": "markdown",
   "id": "3481ce57",
   "metadata": {},
   "source": [
    "### Weak Enhancers"
   ]
  },
  {
   "cell_type": "code",
   "execution_count": 18,
   "id": "d37dd526",
   "metadata": {},
   "outputs": [
    {
     "data": {
      "text/html": [
       "1410"
      ],
      "text/latex": [
       "1410"
      ],
      "text/markdown": [
       "1410"
      ],
      "text/plain": [
       "[1] 1410"
      ]
     },
     "metadata": {},
     "output_type": "display_data"
    },
    {
     "data": {
      "text/html": [
       "4261"
      ],
      "text/latex": [
       "4261"
      ],
      "text/markdown": [
       "4261"
      ],
      "text/plain": [
       "[1] 4261"
      ]
     },
     "metadata": {},
     "output_type": "display_data"
    }
   ],
   "source": [
    "BCL_CHMM_WeakEnh <- BCL_CHMM %>%\n",
    "filter(ChromHMMGroup %in% c(\"6_Weak_Enhancer\", \"7_Weak_Enhancer\")) %>% \n",
    "group_by(chrHMR, startHMR, endHMR) %>% top_n(n = 1, wt = startChromHMM) %>% nrow()\n",
    "\n",
    "BUN_CHMM_WeakEnh <- BUN_CHMM %>%\n",
    "filter(ChromHMMGroup %in% c(\"6_Weak_Enhancer\", \"7_Weak_Enhancer\")) %>% \n",
    "group_by(chrHMR, startHMR, endHMR) %>% top_n(n = 1, wt = startChromHMM) %>% nrow()\n",
    "\n",
    "BCL_CHMM_WeakEnh\n",
    "BUN_CHMM_WeakEnh"
   ]
  },
  {
   "cell_type": "markdown",
   "id": "e66be607",
   "metadata": {},
   "source": [
    "### Heterochromatin"
   ]
  },
  {
   "cell_type": "code",
   "execution_count": 19,
   "id": "fc3649ff",
   "metadata": {
    "scrolled": true
   },
   "outputs": [
    {
     "data": {
      "text/html": [
       "<table class=\"dataframe\">\n",
       "<caption>A spec_tbl_df: 1255 × 14</caption>\n",
       "<thead>\n",
       "\t<tr><th scope=col>chrHMR</th><th scope=col>startHMR</th><th scope=col>endHMR</th><th scope=col>lengthHMR</th><th scope=col>chrChromHMM</th><th scope=col>startChromHMM</th><th scope=col>endChromHMM</th><th scope=col>ChromHMMGroup</th><th scope=col>value0strand</th><th scope=col>value1</th><th scope=col>startChromHMM_rep</th><th scope=col>endChromHMM_rep</th><th scope=col>values</th><th scope=col>value2</th></tr>\n",
       "\t<tr><th scope=col>&lt;chr&gt;</th><th scope=col>&lt;dbl&gt;</th><th scope=col>&lt;dbl&gt;</th><th scope=col>&lt;dbl&gt;</th><th scope=col>&lt;chr&gt;</th><th scope=col>&lt;dbl&gt;</th><th scope=col>&lt;dbl&gt;</th><th scope=col>&lt;chr&gt;</th><th scope=col>&lt;dbl&gt;</th><th scope=col>&lt;chr&gt;</th><th scope=col>&lt;dbl&gt;</th><th scope=col>&lt;dbl&gt;</th><th scope=col>&lt;chr&gt;</th><th scope=col>&lt;dbl&gt;</th></tr>\n",
       "</thead>\n",
       "<tbody>\n",
       "\t<tr><td>chr1</td><td> 839724</td><td> 841039</td><td>1315</td><td>chr1</td><td> 834937</td><td> 839737</td><td>13_Heterochrom/lo</td><td>0</td><td>.</td><td> 834937</td><td> 839737</td><td>245,245,245</td><td> 13</td></tr>\n",
       "\t<tr><td>chr1</td><td>1071770</td><td>1073219</td><td>1449</td><td>chr1</td><td>1058137</td><td>1071937</td><td>13_Heterochrom/lo</td><td>0</td><td>.</td><td>1058137</td><td>1071937</td><td>245,245,245</td><td>167</td></tr>\n",
       "\t<tr><td>chr1</td><td>1092645</td><td>1093973</td><td>1328</td><td>chr1</td><td>1082337</td><td>1092937</td><td>13_Heterochrom/lo</td><td>0</td><td>.</td><td>1082337</td><td>1092937</td><td>245,245,245</td><td>292</td></tr>\n",
       "\t<tr><td>chr1</td><td>1099552</td><td>1099651</td><td>  99</td><td>chr1</td><td>1094537</td><td>1101737</td><td>13_Heterochrom/lo</td><td>0</td><td>.</td><td>1094537</td><td>1101737</td><td>245,245,245</td><td> 99</td></tr>\n",
       "\t<tr><td>chr1</td><td>1101641</td><td>1101896</td><td> 255</td><td>chr1</td><td>1094537</td><td>1101737</td><td>13_Heterochrom/lo</td><td>0</td><td>.</td><td>1094537</td><td>1101737</td><td>245,245,245</td><td> 96</td></tr>\n",
       "\t<tr><td>chr1</td><td>1830655</td><td>1831404</td><td> 749</td><td>chr1</td><td>1831340</td><td>1837540</td><td>13_Heterochrom/lo</td><td>0</td><td>.</td><td>1831340</td><td>1837540</td><td>245,245,245</td><td> 64</td></tr>\n",
       "\t<tr><td>chr1</td><td>1833498</td><td>1833790</td><td> 292</td><td>chr1</td><td>1831340</td><td>1837540</td><td>13_Heterochrom/lo</td><td>0</td><td>.</td><td>1831340</td><td>1837540</td><td>245,245,245</td><td>292</td></tr>\n",
       "\t<tr><td>chr1</td><td>2058380</td><td>2059042</td><td> 662</td><td>chr1</td><td>2058740</td><td>2063740</td><td>13_Heterochrom/lo</td><td>0</td><td>.</td><td>2058740</td><td>2063740</td><td>245,245,245</td><td>302</td></tr>\n",
       "\t<tr><td>chr1</td><td>2581963</td><td>2582660</td><td> 697</td><td>chr1</td><td>2574940</td><td>2583540</td><td>13_Heterochrom/lo</td><td>0</td><td>.</td><td>2574940</td><td>2583540</td><td>245,245,245</td><td>697</td></tr>\n",
       "\t<tr><td>chr1</td><td>2583319</td><td>2584253</td><td> 934</td><td>chr1</td><td>2574940</td><td>2583540</td><td>13_Heterochrom/lo</td><td>0</td><td>.</td><td>2574940</td><td>2583540</td><td>245,245,245</td><td>221</td></tr>\n",
       "\t<tr><td>chr1</td><td>2631802</td><td>2634084</td><td>2282</td><td>chr1</td><td>2633740</td><td>2634140</td><td>13_Heterochrom/lo</td><td>0</td><td>.</td><td>2633740</td><td>2634140</td><td>245,245,245</td><td>344</td></tr>\n",
       "\t<tr><td>chr1</td><td>3071819</td><td>3072326</td><td> 507</td><td>chr1</td><td>2991140</td><td>3097740</td><td>13_Heterochrom/lo</td><td>0</td><td>.</td><td>2991140</td><td>3097740</td><td>245,245,245</td><td>507</td></tr>\n",
       "\t<tr><td>chr1</td><td>3073307</td><td>3073496</td><td> 189</td><td>chr1</td><td>2991140</td><td>3097740</td><td>13_Heterochrom/lo</td><td>0</td><td>.</td><td>2991140</td><td>3097740</td><td>245,245,245</td><td>189</td></tr>\n",
       "\t<tr><td>chr1</td><td>3077478</td><td>3078076</td><td> 598</td><td>chr1</td><td>2991140</td><td>3097740</td><td>13_Heterochrom/lo</td><td>0</td><td>.</td><td>2991140</td><td>3097740</td><td>245,245,245</td><td>598</td></tr>\n",
       "\t<tr><td>chr1</td><td>3098599</td><td>3098867</td><td> 268</td><td>chr1</td><td>3098540</td><td>3223540</td><td>13_Heterochrom/lo</td><td>0</td><td>.</td><td>3098540</td><td>3223540</td><td>245,245,245</td><td>268</td></tr>\n",
       "\t<tr><td>chr1</td><td>3099970</td><td>3100669</td><td> 699</td><td>chr1</td><td>3098540</td><td>3223540</td><td>13_Heterochrom/lo</td><td>0</td><td>.</td><td>3098540</td><td>3223540</td><td>245,245,245</td><td>699</td></tr>\n",
       "\t<tr><td>chr1</td><td>3100945</td><td>3101018</td><td>  73</td><td>chr1</td><td>3098540</td><td>3223540</td><td>13_Heterochrom/lo</td><td>0</td><td>.</td><td>3098540</td><td>3223540</td><td>245,245,245</td><td> 73</td></tr>\n",
       "\t<tr><td>chr1</td><td>3132181</td><td>3132355</td><td> 174</td><td>chr1</td><td>3098540</td><td>3223540</td><td>13_Heterochrom/lo</td><td>0</td><td>.</td><td>3098540</td><td>3223540</td><td>245,245,245</td><td>174</td></tr>\n",
       "\t<tr><td>chr1</td><td>3134446</td><td>3134745</td><td> 299</td><td>chr1</td><td>3098540</td><td>3223540</td><td>13_Heterochrom/lo</td><td>0</td><td>.</td><td>3098540</td><td>3223540</td><td>245,245,245</td><td>299</td></tr>\n",
       "\t<tr><td>chr1</td><td>3138554</td><td>3139286</td><td> 732</td><td>chr1</td><td>3098540</td><td>3223540</td><td>13_Heterochrom/lo</td><td>0</td><td>.</td><td>3098540</td><td>3223540</td><td>245,245,245</td><td>732</td></tr>\n",
       "\t<tr><td>chr1</td><td>3164029</td><td>3164172</td><td> 143</td><td>chr1</td><td>3098540</td><td>3223540</td><td>13_Heterochrom/lo</td><td>0</td><td>.</td><td>3098540</td><td>3223540</td><td>245,245,245</td><td>143</td></tr>\n",
       "\t<tr><td>chr1</td><td>3164251</td><td>3164526</td><td> 275</td><td>chr1</td><td>3098540</td><td>3223540</td><td>13_Heterochrom/lo</td><td>0</td><td>.</td><td>3098540</td><td>3223540</td><td>245,245,245</td><td>275</td></tr>\n",
       "\t<tr><td>chr1</td><td>3164571</td><td>3165028</td><td> 457</td><td>chr1</td><td>3098540</td><td>3223540</td><td>13_Heterochrom/lo</td><td>0</td><td>.</td><td>3098540</td><td>3223540</td><td>245,245,245</td><td>457</td></tr>\n",
       "\t<tr><td>chr1</td><td>3167772</td><td>3167896</td><td> 124</td><td>chr1</td><td>3098540</td><td>3223540</td><td>13_Heterochrom/lo</td><td>0</td><td>.</td><td>3098540</td><td>3223540</td><td>245,245,245</td><td>124</td></tr>\n",
       "\t<tr><td>chr1</td><td>3237207</td><td>3237801</td><td> 594</td><td>chr1</td><td>3237140</td><td>3306540</td><td>13_Heterochrom/lo</td><td>0</td><td>.</td><td>3237140</td><td>3306540</td><td>245,245,245</td><td>594</td></tr>\n",
       "\t<tr><td>chr1</td><td>3238767</td><td>3239045</td><td> 278</td><td>chr1</td><td>3237140</td><td>3306540</td><td>13_Heterochrom/lo</td><td>0</td><td>.</td><td>3237140</td><td>3306540</td><td>245,245,245</td><td>278</td></tr>\n",
       "\t<tr><td>chr1</td><td>3240054</td><td>3240366</td><td> 312</td><td>chr1</td><td>3237140</td><td>3306540</td><td>13_Heterochrom/lo</td><td>0</td><td>.</td><td>3237140</td><td>3306540</td><td>245,245,245</td><td>312</td></tr>\n",
       "\t<tr><td>chr1</td><td>3513491</td><td>3513613</td><td> 122</td><td>chr1</td><td>3482340</td><td>3513740</td><td>13_Heterochrom/lo</td><td>0</td><td>.</td><td>3482340</td><td>3513740</td><td>245,245,245</td><td>122</td></tr>\n",
       "\t<tr><td>chr1</td><td>3535639</td><td>3536327</td><td> 688</td><td>chr1</td><td>3535940</td><td>3537340</td><td>13_Heterochrom/lo</td><td>0</td><td>.</td><td>3535940</td><td>3537340</td><td>245,245,245</td><td>387</td></tr>\n",
       "\t<tr><td>chr1</td><td>5563453</td><td>5563990</td><td> 537</td><td>chr1</td><td>5462813</td><td>5569813</td><td>13_Heterochrom/lo</td><td>0</td><td>.</td><td>5462813</td><td>5569813</td><td>245,245,245</td><td>537</td></tr>\n",
       "\t<tr><td>⋮</td><td>⋮</td><td>⋮</td><td>⋮</td><td>⋮</td><td>⋮</td><td>⋮</td><td>⋮</td><td>⋮</td><td>⋮</td><td>⋮</td><td>⋮</td><td>⋮</td><td>⋮</td></tr>\n",
       "\t<tr><td>chrX</td><td>124339910</td><td>124340241</td><td> 331</td><td>chrX</td><td>124338319</td><td>124458319</td><td>13_Heterochrom/lo</td><td>0</td><td>.</td><td>124338319</td><td>124458319</td><td>245,245,245</td><td> 331</td></tr>\n",
       "\t<tr><td>chrX</td><td>129067331</td><td>129067427</td><td>  96</td><td>chrX</td><td>129067119</td><td>129086319</td><td>13_Heterochrom/lo</td><td>0</td><td>.</td><td>129067119</td><td>129086319</td><td>245,245,245</td><td>  96</td></tr>\n",
       "\t<tr><td>chrX</td><td>130201483</td><td>130201972</td><td> 489</td><td>chrX</td><td>130129119</td><td>130201519</td><td>13_Heterochrom/lo</td><td>0</td><td>.</td><td>130129119</td><td>130201519</td><td>245,245,245</td><td>  36</td></tr>\n",
       "\t<tr><td>chrX</td><td>130206830</td><td>130207146</td><td> 316</td><td>chrX</td><td>130205319</td><td>130396719</td><td>13_Heterochrom/lo</td><td>0</td><td>.</td><td>130205319</td><td>130396719</td><td>245,245,245</td><td> 316</td></tr>\n",
       "\t<tr><td>chrX</td><td>130207281</td><td>130207434</td><td> 153</td><td>chrX</td><td>130205319</td><td>130396719</td><td>13_Heterochrom/lo</td><td>0</td><td>.</td><td>130205319</td><td>130396719</td><td>245,245,245</td><td> 153</td></tr>\n",
       "\t<tr><td>chrX</td><td>133305778</td><td>133306010</td><td> 232</td><td>chrX</td><td>133295734</td><td>133305934</td><td>13_Heterochrom/lo</td><td>0</td><td>.</td><td>133295734</td><td>133305934</td><td>245,245,245</td><td> 156</td></tr>\n",
       "\t<tr><td>chrX</td><td>133678626</td><td>133678758</td><td> 132</td><td>chrX</td><td>133663334</td><td>133682134</td><td>13_Heterochrom/lo</td><td>0</td><td>.</td><td>133663334</td><td>133682134</td><td>245,245,245</td><td> 132</td></tr>\n",
       "\t<tr><td>chrX</td><td>133678990</td><td>133679247</td><td> 257</td><td>chrX</td><td>133663334</td><td>133682134</td><td>13_Heterochrom/lo</td><td>0</td><td>.</td><td>133663334</td><td>133682134</td><td>245,245,245</td><td> 257</td></tr>\n",
       "\t<tr><td>chrX</td><td>136505583</td><td>136507290</td><td>1707</td><td>chrX</td><td>136376334</td><td>136506934</td><td>13_Heterochrom/lo</td><td>0</td><td>.</td><td>136376334</td><td>136506934</td><td>245,245,245</td><td>1351</td></tr>\n",
       "\t<tr><td>chrX</td><td>136512106</td><td>136512544</td><td> 438</td><td>chrX</td><td>136512534</td><td>136514734</td><td>13_Heterochrom/lo</td><td>0</td><td>.</td><td>136512534</td><td>136514734</td><td>245,245,245</td><td>  10</td></tr>\n",
       "\t<tr><td>chrX</td><td>136627385</td><td>136627760</td><td> 375</td><td>chrX</td><td>136520734</td><td>136646134</td><td>13_Heterochrom/lo</td><td>0</td><td>.</td><td>136520734</td><td>136646134</td><td>245,245,245</td><td> 375</td></tr>\n",
       "\t<tr><td>chrX</td><td>136628420</td><td>136629516</td><td>1096</td><td>chrX</td><td>136520734</td><td>136646134</td><td>13_Heterochrom/lo</td><td>0</td><td>.</td><td>136520734</td><td>136646134</td><td>245,245,245</td><td>1096</td></tr>\n",
       "\t<tr><td>chrX</td><td>136629596</td><td>136630060</td><td> 464</td><td>chrX</td><td>136520734</td><td>136646134</td><td>13_Heterochrom/lo</td><td>0</td><td>.</td><td>136520734</td><td>136646134</td><td>245,245,245</td><td> 464</td></tr>\n",
       "\t<tr><td>chrX</td><td>136630532</td><td>136631024</td><td> 492</td><td>chrX</td><td>136520734</td><td>136646134</td><td>13_Heterochrom/lo</td><td>0</td><td>.</td><td>136520734</td><td>136646134</td><td>245,245,245</td><td> 492</td></tr>\n",
       "\t<tr><td>chrX</td><td>136631194</td><td>136632195</td><td>1001</td><td>chrX</td><td>136520734</td><td>136646134</td><td>13_Heterochrom/lo</td><td>0</td><td>.</td><td>136520734</td><td>136646134</td><td>245,245,245</td><td>1001</td></tr>\n",
       "\t<tr><td>chrX</td><td>136632269</td><td>136632332</td><td>  63</td><td>chrX</td><td>136520734</td><td>136646134</td><td>13_Heterochrom/lo</td><td>0</td><td>.</td><td>136520734</td><td>136646134</td><td>245,245,245</td><td>  63</td></tr>\n",
       "\t<tr><td>chrX</td><td>136632602</td><td>136632966</td><td> 364</td><td>chrX</td><td>136520734</td><td>136646134</td><td>13_Heterochrom/lo</td><td>0</td><td>.</td><td>136520734</td><td>136646134</td><td>245,245,245</td><td> 364</td></tr>\n",
       "\t<tr><td>chrX</td><td>136633027</td><td>136633212</td><td> 185</td><td>chrX</td><td>136520734</td><td>136646134</td><td>13_Heterochrom/lo</td><td>0</td><td>.</td><td>136520734</td><td>136646134</td><td>245,245,245</td><td> 185</td></tr>\n",
       "\t<tr><td>chrX</td><td>136655808</td><td>136655952</td><td> 144</td><td>chrX</td><td>136655734</td><td>137108334</td><td>13_Heterochrom/lo</td><td>0</td><td>.</td><td>136655734</td><td>137108334</td><td>245,245,245</td><td> 144</td></tr>\n",
       "\t<tr><td>chrX</td><td>136656500</td><td>136656738</td><td> 238</td><td>chrX</td><td>136655734</td><td>137108334</td><td>13_Heterochrom/lo</td><td>0</td><td>.</td><td>136655734</td><td>137108334</td><td>245,245,245</td><td> 238</td></tr>\n",
       "\t<tr><td>chrX</td><td>136656845</td><td>136657217</td><td> 372</td><td>chrX</td><td>136655734</td><td>137108334</td><td>13_Heterochrom/lo</td><td>0</td><td>.</td><td>136655734</td><td>137108334</td><td>245,245,245</td><td> 372</td></tr>\n",
       "\t<tr><td>chrX</td><td>139591214</td><td>139591557</td><td> 343</td><td>chrX</td><td>139262134</td><td>139654734</td><td>13_Heterochrom/lo</td><td>0</td><td>.</td><td>139262134</td><td>139654734</td><td>245,245,245</td><td> 343</td></tr>\n",
       "\t<tr><td>chrX</td><td>139591829</td><td>139592351</td><td> 522</td><td>chrX</td><td>139262134</td><td>139654734</td><td>13_Heterochrom/lo</td><td>0</td><td>.</td><td>139262134</td><td>139654734</td><td>245,245,245</td><td> 522</td></tr>\n",
       "\t<tr><td>chrX</td><td>139593213</td><td>139593353</td><td> 140</td><td>chrX</td><td>139262134</td><td>139654734</td><td>13_Heterochrom/lo</td><td>0</td><td>.</td><td>139262134</td><td>139654734</td><td>245,245,245</td><td> 140</td></tr>\n",
       "\t<tr><td>chrX</td><td>149533850</td><td>149535108</td><td>1258</td><td>chrX</td><td>149534342</td><td>149550942</td><td>13_Heterochrom/lo</td><td>0</td><td>.</td><td>149534342</td><td>149550942</td><td>245,245,245</td><td> 766</td></tr>\n",
       "\t<tr><td>chrX</td><td>152194910</td><td>152195174</td><td> 264</td><td>chrX</td><td>152158344</td><td>152200344</td><td>13_Heterochrom/lo</td><td>0</td><td>.</td><td>152158344</td><td>152200344</td><td>245,245,245</td><td> 264</td></tr>\n",
       "\t<tr><td>chrX</td><td>152782897</td><td>152782978</td><td>  81</td><td>chrX</td><td>152773606</td><td>152804806</td><td>13_Heterochrom/lo</td><td>0</td><td>.</td><td>152773606</td><td>152804806</td><td>245,245,245</td><td>  81</td></tr>\n",
       "\t<tr><td>chrX</td><td>152783358</td><td>152783467</td><td> 109</td><td>chrX</td><td>152773606</td><td>152804806</td><td>13_Heterochrom/lo</td><td>0</td><td>.</td><td>152773606</td><td>152804806</td><td>245,245,245</td><td> 109</td></tr>\n",
       "\t<tr><td>chrX</td><td>152783637</td><td>152783965</td><td> 328</td><td>chrX</td><td>152773606</td><td>152804806</td><td>13_Heterochrom/lo</td><td>0</td><td>.</td><td>152773606</td><td>152804806</td><td>245,245,245</td><td> 328</td></tr>\n",
       "\t<tr><td>chrX</td><td>152928011</td><td>152928319</td><td> 308</td><td>chrX</td><td>152928006</td><td>152933206</td><td>13_Heterochrom/lo</td><td>0</td><td>.</td><td>152928006</td><td>152933206</td><td>245,245,245</td><td> 308</td></tr>\n",
       "</tbody>\n",
       "</table>\n"
      ],
      "text/latex": [
       "A spec\\_tbl\\_df: 1255 × 14\n",
       "\\begin{tabular}{llllllllllllll}\n",
       " chrHMR & startHMR & endHMR & lengthHMR & chrChromHMM & startChromHMM & endChromHMM & ChromHMMGroup & value0strand & value1 & startChromHMM\\_rep & endChromHMM\\_rep & values & value2\\\\\n",
       " <chr> & <dbl> & <dbl> & <dbl> & <chr> & <dbl> & <dbl> & <chr> & <dbl> & <chr> & <dbl> & <dbl> & <chr> & <dbl>\\\\\n",
       "\\hline\n",
       "\t chr1 &  839724 &  841039 & 1315 & chr1 &  834937 &  839737 & 13\\_Heterochrom/lo & 0 & . &  834937 &  839737 & 245,245,245 &  13\\\\\n",
       "\t chr1 & 1071770 & 1073219 & 1449 & chr1 & 1058137 & 1071937 & 13\\_Heterochrom/lo & 0 & . & 1058137 & 1071937 & 245,245,245 & 167\\\\\n",
       "\t chr1 & 1092645 & 1093973 & 1328 & chr1 & 1082337 & 1092937 & 13\\_Heterochrom/lo & 0 & . & 1082337 & 1092937 & 245,245,245 & 292\\\\\n",
       "\t chr1 & 1099552 & 1099651 &   99 & chr1 & 1094537 & 1101737 & 13\\_Heterochrom/lo & 0 & . & 1094537 & 1101737 & 245,245,245 &  99\\\\\n",
       "\t chr1 & 1101641 & 1101896 &  255 & chr1 & 1094537 & 1101737 & 13\\_Heterochrom/lo & 0 & . & 1094537 & 1101737 & 245,245,245 &  96\\\\\n",
       "\t chr1 & 1830655 & 1831404 &  749 & chr1 & 1831340 & 1837540 & 13\\_Heterochrom/lo & 0 & . & 1831340 & 1837540 & 245,245,245 &  64\\\\\n",
       "\t chr1 & 1833498 & 1833790 &  292 & chr1 & 1831340 & 1837540 & 13\\_Heterochrom/lo & 0 & . & 1831340 & 1837540 & 245,245,245 & 292\\\\\n",
       "\t chr1 & 2058380 & 2059042 &  662 & chr1 & 2058740 & 2063740 & 13\\_Heterochrom/lo & 0 & . & 2058740 & 2063740 & 245,245,245 & 302\\\\\n",
       "\t chr1 & 2581963 & 2582660 &  697 & chr1 & 2574940 & 2583540 & 13\\_Heterochrom/lo & 0 & . & 2574940 & 2583540 & 245,245,245 & 697\\\\\n",
       "\t chr1 & 2583319 & 2584253 &  934 & chr1 & 2574940 & 2583540 & 13\\_Heterochrom/lo & 0 & . & 2574940 & 2583540 & 245,245,245 & 221\\\\\n",
       "\t chr1 & 2631802 & 2634084 & 2282 & chr1 & 2633740 & 2634140 & 13\\_Heterochrom/lo & 0 & . & 2633740 & 2634140 & 245,245,245 & 344\\\\\n",
       "\t chr1 & 3071819 & 3072326 &  507 & chr1 & 2991140 & 3097740 & 13\\_Heterochrom/lo & 0 & . & 2991140 & 3097740 & 245,245,245 & 507\\\\\n",
       "\t chr1 & 3073307 & 3073496 &  189 & chr1 & 2991140 & 3097740 & 13\\_Heterochrom/lo & 0 & . & 2991140 & 3097740 & 245,245,245 & 189\\\\\n",
       "\t chr1 & 3077478 & 3078076 &  598 & chr1 & 2991140 & 3097740 & 13\\_Heterochrom/lo & 0 & . & 2991140 & 3097740 & 245,245,245 & 598\\\\\n",
       "\t chr1 & 3098599 & 3098867 &  268 & chr1 & 3098540 & 3223540 & 13\\_Heterochrom/lo & 0 & . & 3098540 & 3223540 & 245,245,245 & 268\\\\\n",
       "\t chr1 & 3099970 & 3100669 &  699 & chr1 & 3098540 & 3223540 & 13\\_Heterochrom/lo & 0 & . & 3098540 & 3223540 & 245,245,245 & 699\\\\\n",
       "\t chr1 & 3100945 & 3101018 &   73 & chr1 & 3098540 & 3223540 & 13\\_Heterochrom/lo & 0 & . & 3098540 & 3223540 & 245,245,245 &  73\\\\\n",
       "\t chr1 & 3132181 & 3132355 &  174 & chr1 & 3098540 & 3223540 & 13\\_Heterochrom/lo & 0 & . & 3098540 & 3223540 & 245,245,245 & 174\\\\\n",
       "\t chr1 & 3134446 & 3134745 &  299 & chr1 & 3098540 & 3223540 & 13\\_Heterochrom/lo & 0 & . & 3098540 & 3223540 & 245,245,245 & 299\\\\\n",
       "\t chr1 & 3138554 & 3139286 &  732 & chr1 & 3098540 & 3223540 & 13\\_Heterochrom/lo & 0 & . & 3098540 & 3223540 & 245,245,245 & 732\\\\\n",
       "\t chr1 & 3164029 & 3164172 &  143 & chr1 & 3098540 & 3223540 & 13\\_Heterochrom/lo & 0 & . & 3098540 & 3223540 & 245,245,245 & 143\\\\\n",
       "\t chr1 & 3164251 & 3164526 &  275 & chr1 & 3098540 & 3223540 & 13\\_Heterochrom/lo & 0 & . & 3098540 & 3223540 & 245,245,245 & 275\\\\\n",
       "\t chr1 & 3164571 & 3165028 &  457 & chr1 & 3098540 & 3223540 & 13\\_Heterochrom/lo & 0 & . & 3098540 & 3223540 & 245,245,245 & 457\\\\\n",
       "\t chr1 & 3167772 & 3167896 &  124 & chr1 & 3098540 & 3223540 & 13\\_Heterochrom/lo & 0 & . & 3098540 & 3223540 & 245,245,245 & 124\\\\\n",
       "\t chr1 & 3237207 & 3237801 &  594 & chr1 & 3237140 & 3306540 & 13\\_Heterochrom/lo & 0 & . & 3237140 & 3306540 & 245,245,245 & 594\\\\\n",
       "\t chr1 & 3238767 & 3239045 &  278 & chr1 & 3237140 & 3306540 & 13\\_Heterochrom/lo & 0 & . & 3237140 & 3306540 & 245,245,245 & 278\\\\\n",
       "\t chr1 & 3240054 & 3240366 &  312 & chr1 & 3237140 & 3306540 & 13\\_Heterochrom/lo & 0 & . & 3237140 & 3306540 & 245,245,245 & 312\\\\\n",
       "\t chr1 & 3513491 & 3513613 &  122 & chr1 & 3482340 & 3513740 & 13\\_Heterochrom/lo & 0 & . & 3482340 & 3513740 & 245,245,245 & 122\\\\\n",
       "\t chr1 & 3535639 & 3536327 &  688 & chr1 & 3535940 & 3537340 & 13\\_Heterochrom/lo & 0 & . & 3535940 & 3537340 & 245,245,245 & 387\\\\\n",
       "\t chr1 & 5563453 & 5563990 &  537 & chr1 & 5462813 & 5569813 & 13\\_Heterochrom/lo & 0 & . & 5462813 & 5569813 & 245,245,245 & 537\\\\\n",
       "\t ⋮ & ⋮ & ⋮ & ⋮ & ⋮ & ⋮ & ⋮ & ⋮ & ⋮ & ⋮ & ⋮ & ⋮ & ⋮ & ⋮\\\\\n",
       "\t chrX & 124339910 & 124340241 &  331 & chrX & 124338319 & 124458319 & 13\\_Heterochrom/lo & 0 & . & 124338319 & 124458319 & 245,245,245 &  331\\\\\n",
       "\t chrX & 129067331 & 129067427 &   96 & chrX & 129067119 & 129086319 & 13\\_Heterochrom/lo & 0 & . & 129067119 & 129086319 & 245,245,245 &   96\\\\\n",
       "\t chrX & 130201483 & 130201972 &  489 & chrX & 130129119 & 130201519 & 13\\_Heterochrom/lo & 0 & . & 130129119 & 130201519 & 245,245,245 &   36\\\\\n",
       "\t chrX & 130206830 & 130207146 &  316 & chrX & 130205319 & 130396719 & 13\\_Heterochrom/lo & 0 & . & 130205319 & 130396719 & 245,245,245 &  316\\\\\n",
       "\t chrX & 130207281 & 130207434 &  153 & chrX & 130205319 & 130396719 & 13\\_Heterochrom/lo & 0 & . & 130205319 & 130396719 & 245,245,245 &  153\\\\\n",
       "\t chrX & 133305778 & 133306010 &  232 & chrX & 133295734 & 133305934 & 13\\_Heterochrom/lo & 0 & . & 133295734 & 133305934 & 245,245,245 &  156\\\\\n",
       "\t chrX & 133678626 & 133678758 &  132 & chrX & 133663334 & 133682134 & 13\\_Heterochrom/lo & 0 & . & 133663334 & 133682134 & 245,245,245 &  132\\\\\n",
       "\t chrX & 133678990 & 133679247 &  257 & chrX & 133663334 & 133682134 & 13\\_Heterochrom/lo & 0 & . & 133663334 & 133682134 & 245,245,245 &  257\\\\\n",
       "\t chrX & 136505583 & 136507290 & 1707 & chrX & 136376334 & 136506934 & 13\\_Heterochrom/lo & 0 & . & 136376334 & 136506934 & 245,245,245 & 1351\\\\\n",
       "\t chrX & 136512106 & 136512544 &  438 & chrX & 136512534 & 136514734 & 13\\_Heterochrom/lo & 0 & . & 136512534 & 136514734 & 245,245,245 &   10\\\\\n",
       "\t chrX & 136627385 & 136627760 &  375 & chrX & 136520734 & 136646134 & 13\\_Heterochrom/lo & 0 & . & 136520734 & 136646134 & 245,245,245 &  375\\\\\n",
       "\t chrX & 136628420 & 136629516 & 1096 & chrX & 136520734 & 136646134 & 13\\_Heterochrom/lo & 0 & . & 136520734 & 136646134 & 245,245,245 & 1096\\\\\n",
       "\t chrX & 136629596 & 136630060 &  464 & chrX & 136520734 & 136646134 & 13\\_Heterochrom/lo & 0 & . & 136520734 & 136646134 & 245,245,245 &  464\\\\\n",
       "\t chrX & 136630532 & 136631024 &  492 & chrX & 136520734 & 136646134 & 13\\_Heterochrom/lo & 0 & . & 136520734 & 136646134 & 245,245,245 &  492\\\\\n",
       "\t chrX & 136631194 & 136632195 & 1001 & chrX & 136520734 & 136646134 & 13\\_Heterochrom/lo & 0 & . & 136520734 & 136646134 & 245,245,245 & 1001\\\\\n",
       "\t chrX & 136632269 & 136632332 &   63 & chrX & 136520734 & 136646134 & 13\\_Heterochrom/lo & 0 & . & 136520734 & 136646134 & 245,245,245 &   63\\\\\n",
       "\t chrX & 136632602 & 136632966 &  364 & chrX & 136520734 & 136646134 & 13\\_Heterochrom/lo & 0 & . & 136520734 & 136646134 & 245,245,245 &  364\\\\\n",
       "\t chrX & 136633027 & 136633212 &  185 & chrX & 136520734 & 136646134 & 13\\_Heterochrom/lo & 0 & . & 136520734 & 136646134 & 245,245,245 &  185\\\\\n",
       "\t chrX & 136655808 & 136655952 &  144 & chrX & 136655734 & 137108334 & 13\\_Heterochrom/lo & 0 & . & 136655734 & 137108334 & 245,245,245 &  144\\\\\n",
       "\t chrX & 136656500 & 136656738 &  238 & chrX & 136655734 & 137108334 & 13\\_Heterochrom/lo & 0 & . & 136655734 & 137108334 & 245,245,245 &  238\\\\\n",
       "\t chrX & 136656845 & 136657217 &  372 & chrX & 136655734 & 137108334 & 13\\_Heterochrom/lo & 0 & . & 136655734 & 137108334 & 245,245,245 &  372\\\\\n",
       "\t chrX & 139591214 & 139591557 &  343 & chrX & 139262134 & 139654734 & 13\\_Heterochrom/lo & 0 & . & 139262134 & 139654734 & 245,245,245 &  343\\\\\n",
       "\t chrX & 139591829 & 139592351 &  522 & chrX & 139262134 & 139654734 & 13\\_Heterochrom/lo & 0 & . & 139262134 & 139654734 & 245,245,245 &  522\\\\\n",
       "\t chrX & 139593213 & 139593353 &  140 & chrX & 139262134 & 139654734 & 13\\_Heterochrom/lo & 0 & . & 139262134 & 139654734 & 245,245,245 &  140\\\\\n",
       "\t chrX & 149533850 & 149535108 & 1258 & chrX & 149534342 & 149550942 & 13\\_Heterochrom/lo & 0 & . & 149534342 & 149550942 & 245,245,245 &  766\\\\\n",
       "\t chrX & 152194910 & 152195174 &  264 & chrX & 152158344 & 152200344 & 13\\_Heterochrom/lo & 0 & . & 152158344 & 152200344 & 245,245,245 &  264\\\\\n",
       "\t chrX & 152782897 & 152782978 &   81 & chrX & 152773606 & 152804806 & 13\\_Heterochrom/lo & 0 & . & 152773606 & 152804806 & 245,245,245 &   81\\\\\n",
       "\t chrX & 152783358 & 152783467 &  109 & chrX & 152773606 & 152804806 & 13\\_Heterochrom/lo & 0 & . & 152773606 & 152804806 & 245,245,245 &  109\\\\\n",
       "\t chrX & 152783637 & 152783965 &  328 & chrX & 152773606 & 152804806 & 13\\_Heterochrom/lo & 0 & . & 152773606 & 152804806 & 245,245,245 &  328\\\\\n",
       "\t chrX & 152928011 & 152928319 &  308 & chrX & 152928006 & 152933206 & 13\\_Heterochrom/lo & 0 & . & 152928006 & 152933206 & 245,245,245 &  308\\\\\n",
       "\\end{tabular}\n"
      ],
      "text/markdown": [
       "\n",
       "A spec_tbl_df: 1255 × 14\n",
       "\n",
       "| chrHMR &lt;chr&gt; | startHMR &lt;dbl&gt; | endHMR &lt;dbl&gt; | lengthHMR &lt;dbl&gt; | chrChromHMM &lt;chr&gt; | startChromHMM &lt;dbl&gt; | endChromHMM &lt;dbl&gt; | ChromHMMGroup &lt;chr&gt; | value0strand &lt;dbl&gt; | value1 &lt;chr&gt; | startChromHMM_rep &lt;dbl&gt; | endChromHMM_rep &lt;dbl&gt; | values &lt;chr&gt; | value2 &lt;dbl&gt; |\n",
       "|---|---|---|---|---|---|---|---|---|---|---|---|---|---|\n",
       "| chr1 |  839724 |  841039 | 1315 | chr1 |  834937 |  839737 | 13_Heterochrom/lo | 0 | . |  834937 |  839737 | 245,245,245 |  13 |\n",
       "| chr1 | 1071770 | 1073219 | 1449 | chr1 | 1058137 | 1071937 | 13_Heterochrom/lo | 0 | . | 1058137 | 1071937 | 245,245,245 | 167 |\n",
       "| chr1 | 1092645 | 1093973 | 1328 | chr1 | 1082337 | 1092937 | 13_Heterochrom/lo | 0 | . | 1082337 | 1092937 | 245,245,245 | 292 |\n",
       "| chr1 | 1099552 | 1099651 |   99 | chr1 | 1094537 | 1101737 | 13_Heterochrom/lo | 0 | . | 1094537 | 1101737 | 245,245,245 |  99 |\n",
       "| chr1 | 1101641 | 1101896 |  255 | chr1 | 1094537 | 1101737 | 13_Heterochrom/lo | 0 | . | 1094537 | 1101737 | 245,245,245 |  96 |\n",
       "| chr1 | 1830655 | 1831404 |  749 | chr1 | 1831340 | 1837540 | 13_Heterochrom/lo | 0 | . | 1831340 | 1837540 | 245,245,245 |  64 |\n",
       "| chr1 | 1833498 | 1833790 |  292 | chr1 | 1831340 | 1837540 | 13_Heterochrom/lo | 0 | . | 1831340 | 1837540 | 245,245,245 | 292 |\n",
       "| chr1 | 2058380 | 2059042 |  662 | chr1 | 2058740 | 2063740 | 13_Heterochrom/lo | 0 | . | 2058740 | 2063740 | 245,245,245 | 302 |\n",
       "| chr1 | 2581963 | 2582660 |  697 | chr1 | 2574940 | 2583540 | 13_Heterochrom/lo | 0 | . | 2574940 | 2583540 | 245,245,245 | 697 |\n",
       "| chr1 | 2583319 | 2584253 |  934 | chr1 | 2574940 | 2583540 | 13_Heterochrom/lo | 0 | . | 2574940 | 2583540 | 245,245,245 | 221 |\n",
       "| chr1 | 2631802 | 2634084 | 2282 | chr1 | 2633740 | 2634140 | 13_Heterochrom/lo | 0 | . | 2633740 | 2634140 | 245,245,245 | 344 |\n",
       "| chr1 | 3071819 | 3072326 |  507 | chr1 | 2991140 | 3097740 | 13_Heterochrom/lo | 0 | . | 2991140 | 3097740 | 245,245,245 | 507 |\n",
       "| chr1 | 3073307 | 3073496 |  189 | chr1 | 2991140 | 3097740 | 13_Heterochrom/lo | 0 | . | 2991140 | 3097740 | 245,245,245 | 189 |\n",
       "| chr1 | 3077478 | 3078076 |  598 | chr1 | 2991140 | 3097740 | 13_Heterochrom/lo | 0 | . | 2991140 | 3097740 | 245,245,245 | 598 |\n",
       "| chr1 | 3098599 | 3098867 |  268 | chr1 | 3098540 | 3223540 | 13_Heterochrom/lo | 0 | . | 3098540 | 3223540 | 245,245,245 | 268 |\n",
       "| chr1 | 3099970 | 3100669 |  699 | chr1 | 3098540 | 3223540 | 13_Heterochrom/lo | 0 | . | 3098540 | 3223540 | 245,245,245 | 699 |\n",
       "| chr1 | 3100945 | 3101018 |   73 | chr1 | 3098540 | 3223540 | 13_Heterochrom/lo | 0 | . | 3098540 | 3223540 | 245,245,245 |  73 |\n",
       "| chr1 | 3132181 | 3132355 |  174 | chr1 | 3098540 | 3223540 | 13_Heterochrom/lo | 0 | . | 3098540 | 3223540 | 245,245,245 | 174 |\n",
       "| chr1 | 3134446 | 3134745 |  299 | chr1 | 3098540 | 3223540 | 13_Heterochrom/lo | 0 | . | 3098540 | 3223540 | 245,245,245 | 299 |\n",
       "| chr1 | 3138554 | 3139286 |  732 | chr1 | 3098540 | 3223540 | 13_Heterochrom/lo | 0 | . | 3098540 | 3223540 | 245,245,245 | 732 |\n",
       "| chr1 | 3164029 | 3164172 |  143 | chr1 | 3098540 | 3223540 | 13_Heterochrom/lo | 0 | . | 3098540 | 3223540 | 245,245,245 | 143 |\n",
       "| chr1 | 3164251 | 3164526 |  275 | chr1 | 3098540 | 3223540 | 13_Heterochrom/lo | 0 | . | 3098540 | 3223540 | 245,245,245 | 275 |\n",
       "| chr1 | 3164571 | 3165028 |  457 | chr1 | 3098540 | 3223540 | 13_Heterochrom/lo | 0 | . | 3098540 | 3223540 | 245,245,245 | 457 |\n",
       "| chr1 | 3167772 | 3167896 |  124 | chr1 | 3098540 | 3223540 | 13_Heterochrom/lo | 0 | . | 3098540 | 3223540 | 245,245,245 | 124 |\n",
       "| chr1 | 3237207 | 3237801 |  594 | chr1 | 3237140 | 3306540 | 13_Heterochrom/lo | 0 | . | 3237140 | 3306540 | 245,245,245 | 594 |\n",
       "| chr1 | 3238767 | 3239045 |  278 | chr1 | 3237140 | 3306540 | 13_Heterochrom/lo | 0 | . | 3237140 | 3306540 | 245,245,245 | 278 |\n",
       "| chr1 | 3240054 | 3240366 |  312 | chr1 | 3237140 | 3306540 | 13_Heterochrom/lo | 0 | . | 3237140 | 3306540 | 245,245,245 | 312 |\n",
       "| chr1 | 3513491 | 3513613 |  122 | chr1 | 3482340 | 3513740 | 13_Heterochrom/lo | 0 | . | 3482340 | 3513740 | 245,245,245 | 122 |\n",
       "| chr1 | 3535639 | 3536327 |  688 | chr1 | 3535940 | 3537340 | 13_Heterochrom/lo | 0 | . | 3535940 | 3537340 | 245,245,245 | 387 |\n",
       "| chr1 | 5563453 | 5563990 |  537 | chr1 | 5462813 | 5569813 | 13_Heterochrom/lo | 0 | . | 5462813 | 5569813 | 245,245,245 | 537 |\n",
       "| ⋮ | ⋮ | ⋮ | ⋮ | ⋮ | ⋮ | ⋮ | ⋮ | ⋮ | ⋮ | ⋮ | ⋮ | ⋮ | ⋮ |\n",
       "| chrX | 124339910 | 124340241 |  331 | chrX | 124338319 | 124458319 | 13_Heterochrom/lo | 0 | . | 124338319 | 124458319 | 245,245,245 |  331 |\n",
       "| chrX | 129067331 | 129067427 |   96 | chrX | 129067119 | 129086319 | 13_Heterochrom/lo | 0 | . | 129067119 | 129086319 | 245,245,245 |   96 |\n",
       "| chrX | 130201483 | 130201972 |  489 | chrX | 130129119 | 130201519 | 13_Heterochrom/lo | 0 | . | 130129119 | 130201519 | 245,245,245 |   36 |\n",
       "| chrX | 130206830 | 130207146 |  316 | chrX | 130205319 | 130396719 | 13_Heterochrom/lo | 0 | . | 130205319 | 130396719 | 245,245,245 |  316 |\n",
       "| chrX | 130207281 | 130207434 |  153 | chrX | 130205319 | 130396719 | 13_Heterochrom/lo | 0 | . | 130205319 | 130396719 | 245,245,245 |  153 |\n",
       "| chrX | 133305778 | 133306010 |  232 | chrX | 133295734 | 133305934 | 13_Heterochrom/lo | 0 | . | 133295734 | 133305934 | 245,245,245 |  156 |\n",
       "| chrX | 133678626 | 133678758 |  132 | chrX | 133663334 | 133682134 | 13_Heterochrom/lo | 0 | . | 133663334 | 133682134 | 245,245,245 |  132 |\n",
       "| chrX | 133678990 | 133679247 |  257 | chrX | 133663334 | 133682134 | 13_Heterochrom/lo | 0 | . | 133663334 | 133682134 | 245,245,245 |  257 |\n",
       "| chrX | 136505583 | 136507290 | 1707 | chrX | 136376334 | 136506934 | 13_Heterochrom/lo | 0 | . | 136376334 | 136506934 | 245,245,245 | 1351 |\n",
       "| chrX | 136512106 | 136512544 |  438 | chrX | 136512534 | 136514734 | 13_Heterochrom/lo | 0 | . | 136512534 | 136514734 | 245,245,245 |   10 |\n",
       "| chrX | 136627385 | 136627760 |  375 | chrX | 136520734 | 136646134 | 13_Heterochrom/lo | 0 | . | 136520734 | 136646134 | 245,245,245 |  375 |\n",
       "| chrX | 136628420 | 136629516 | 1096 | chrX | 136520734 | 136646134 | 13_Heterochrom/lo | 0 | . | 136520734 | 136646134 | 245,245,245 | 1096 |\n",
       "| chrX | 136629596 | 136630060 |  464 | chrX | 136520734 | 136646134 | 13_Heterochrom/lo | 0 | . | 136520734 | 136646134 | 245,245,245 |  464 |\n",
       "| chrX | 136630532 | 136631024 |  492 | chrX | 136520734 | 136646134 | 13_Heterochrom/lo | 0 | . | 136520734 | 136646134 | 245,245,245 |  492 |\n",
       "| chrX | 136631194 | 136632195 | 1001 | chrX | 136520734 | 136646134 | 13_Heterochrom/lo | 0 | . | 136520734 | 136646134 | 245,245,245 | 1001 |\n",
       "| chrX | 136632269 | 136632332 |   63 | chrX | 136520734 | 136646134 | 13_Heterochrom/lo | 0 | . | 136520734 | 136646134 | 245,245,245 |   63 |\n",
       "| chrX | 136632602 | 136632966 |  364 | chrX | 136520734 | 136646134 | 13_Heterochrom/lo | 0 | . | 136520734 | 136646134 | 245,245,245 |  364 |\n",
       "| chrX | 136633027 | 136633212 |  185 | chrX | 136520734 | 136646134 | 13_Heterochrom/lo | 0 | . | 136520734 | 136646134 | 245,245,245 |  185 |\n",
       "| chrX | 136655808 | 136655952 |  144 | chrX | 136655734 | 137108334 | 13_Heterochrom/lo | 0 | . | 136655734 | 137108334 | 245,245,245 |  144 |\n",
       "| chrX | 136656500 | 136656738 |  238 | chrX | 136655734 | 137108334 | 13_Heterochrom/lo | 0 | . | 136655734 | 137108334 | 245,245,245 |  238 |\n",
       "| chrX | 136656845 | 136657217 |  372 | chrX | 136655734 | 137108334 | 13_Heterochrom/lo | 0 | . | 136655734 | 137108334 | 245,245,245 |  372 |\n",
       "| chrX | 139591214 | 139591557 |  343 | chrX | 139262134 | 139654734 | 13_Heterochrom/lo | 0 | . | 139262134 | 139654734 | 245,245,245 |  343 |\n",
       "| chrX | 139591829 | 139592351 |  522 | chrX | 139262134 | 139654734 | 13_Heterochrom/lo | 0 | . | 139262134 | 139654734 | 245,245,245 |  522 |\n",
       "| chrX | 139593213 | 139593353 |  140 | chrX | 139262134 | 139654734 | 13_Heterochrom/lo | 0 | . | 139262134 | 139654734 | 245,245,245 |  140 |\n",
       "| chrX | 149533850 | 149535108 | 1258 | chrX | 149534342 | 149550942 | 13_Heterochrom/lo | 0 | . | 149534342 | 149550942 | 245,245,245 |  766 |\n",
       "| chrX | 152194910 | 152195174 |  264 | chrX | 152158344 | 152200344 | 13_Heterochrom/lo | 0 | . | 152158344 | 152200344 | 245,245,245 |  264 |\n",
       "| chrX | 152782897 | 152782978 |   81 | chrX | 152773606 | 152804806 | 13_Heterochrom/lo | 0 | . | 152773606 | 152804806 | 245,245,245 |   81 |\n",
       "| chrX | 152783358 | 152783467 |  109 | chrX | 152773606 | 152804806 | 13_Heterochrom/lo | 0 | . | 152773606 | 152804806 | 245,245,245 |  109 |\n",
       "| chrX | 152783637 | 152783965 |  328 | chrX | 152773606 | 152804806 | 13_Heterochrom/lo | 0 | . | 152773606 | 152804806 | 245,245,245 |  328 |\n",
       "| chrX | 152928011 | 152928319 |  308 | chrX | 152928006 | 152933206 | 13_Heterochrom/lo | 0 | . | 152928006 | 152933206 | 245,245,245 |  308 |\n",
       "\n"
      ],
      "text/plain": [
       "     chrHMR startHMR  endHMR    lengthHMR chrChromHMM startChromHMM endChromHMM\n",
       "1    chr1    839724    841039   1315      chr1         834937        839737    \n",
       "2    chr1   1071770   1073219   1449      chr1        1058137       1071937    \n",
       "3    chr1   1092645   1093973   1328      chr1        1082337       1092937    \n",
       "4    chr1   1099552   1099651     99      chr1        1094537       1101737    \n",
       "5    chr1   1101641   1101896    255      chr1        1094537       1101737    \n",
       "6    chr1   1830655   1831404    749      chr1        1831340       1837540    \n",
       "7    chr1   1833498   1833790    292      chr1        1831340       1837540    \n",
       "8    chr1   2058380   2059042    662      chr1        2058740       2063740    \n",
       "9    chr1   2581963   2582660    697      chr1        2574940       2583540    \n",
       "10   chr1   2583319   2584253    934      chr1        2574940       2583540    \n",
       "11   chr1   2631802   2634084   2282      chr1        2633740       2634140    \n",
       "12   chr1   3071819   3072326    507      chr1        2991140       3097740    \n",
       "13   chr1   3073307   3073496    189      chr1        2991140       3097740    \n",
       "14   chr1   3077478   3078076    598      chr1        2991140       3097740    \n",
       "15   chr1   3098599   3098867    268      chr1        3098540       3223540    \n",
       "16   chr1   3099970   3100669    699      chr1        3098540       3223540    \n",
       "17   chr1   3100945   3101018     73      chr1        3098540       3223540    \n",
       "18   chr1   3132181   3132355    174      chr1        3098540       3223540    \n",
       "19   chr1   3134446   3134745    299      chr1        3098540       3223540    \n",
       "20   chr1   3138554   3139286    732      chr1        3098540       3223540    \n",
       "21   chr1   3164029   3164172    143      chr1        3098540       3223540    \n",
       "22   chr1   3164251   3164526    275      chr1        3098540       3223540    \n",
       "23   chr1   3164571   3165028    457      chr1        3098540       3223540    \n",
       "24   chr1   3167772   3167896    124      chr1        3098540       3223540    \n",
       "25   chr1   3237207   3237801    594      chr1        3237140       3306540    \n",
       "26   chr1   3238767   3239045    278      chr1        3237140       3306540    \n",
       "27   chr1   3240054   3240366    312      chr1        3237140       3306540    \n",
       "28   chr1   3513491   3513613    122      chr1        3482340       3513740    \n",
       "29   chr1   3535639   3536327    688      chr1        3535940       3537340    \n",
       "30   chr1   5563453   5563990    537      chr1        5462813       5569813    \n",
       "⋮    ⋮      ⋮         ⋮         ⋮         ⋮           ⋮             ⋮          \n",
       "1226 chrX   124339910 124340241  331      chrX        124338319     124458319  \n",
       "1227 chrX   129067331 129067427   96      chrX        129067119     129086319  \n",
       "1228 chrX   130201483 130201972  489      chrX        130129119     130201519  \n",
       "1229 chrX   130206830 130207146  316      chrX        130205319     130396719  \n",
       "1230 chrX   130207281 130207434  153      chrX        130205319     130396719  \n",
       "1231 chrX   133305778 133306010  232      chrX        133295734     133305934  \n",
       "1232 chrX   133678626 133678758  132      chrX        133663334     133682134  \n",
       "1233 chrX   133678990 133679247  257      chrX        133663334     133682134  \n",
       "1234 chrX   136505583 136507290 1707      chrX        136376334     136506934  \n",
       "1235 chrX   136512106 136512544  438      chrX        136512534     136514734  \n",
       "1236 chrX   136627385 136627760  375      chrX        136520734     136646134  \n",
       "1237 chrX   136628420 136629516 1096      chrX        136520734     136646134  \n",
       "1238 chrX   136629596 136630060  464      chrX        136520734     136646134  \n",
       "1239 chrX   136630532 136631024  492      chrX        136520734     136646134  \n",
       "1240 chrX   136631194 136632195 1001      chrX        136520734     136646134  \n",
       "1241 chrX   136632269 136632332   63      chrX        136520734     136646134  \n",
       "1242 chrX   136632602 136632966  364      chrX        136520734     136646134  \n",
       "1243 chrX   136633027 136633212  185      chrX        136520734     136646134  \n",
       "1244 chrX   136655808 136655952  144      chrX        136655734     137108334  \n",
       "1245 chrX   136656500 136656738  238      chrX        136655734     137108334  \n",
       "1246 chrX   136656845 136657217  372      chrX        136655734     137108334  \n",
       "1247 chrX   139591214 139591557  343      chrX        139262134     139654734  \n",
       "1248 chrX   139591829 139592351  522      chrX        139262134     139654734  \n",
       "1249 chrX   139593213 139593353  140      chrX        139262134     139654734  \n",
       "1250 chrX   149533850 149535108 1258      chrX        149534342     149550942  \n",
       "1251 chrX   152194910 152195174  264      chrX        152158344     152200344  \n",
       "1252 chrX   152782897 152782978   81      chrX        152773606     152804806  \n",
       "1253 chrX   152783358 152783467  109      chrX        152773606     152804806  \n",
       "1254 chrX   152783637 152783965  328      chrX        152773606     152804806  \n",
       "1255 chrX   152928011 152928319  308      chrX        152928006     152933206  \n",
       "     ChromHMMGroup     value0strand value1 startChromHMM_rep endChromHMM_rep\n",
       "1    13_Heterochrom/lo 0            .       834937            839737        \n",
       "2    13_Heterochrom/lo 0            .      1058137           1071937        \n",
       "3    13_Heterochrom/lo 0            .      1082337           1092937        \n",
       "4    13_Heterochrom/lo 0            .      1094537           1101737        \n",
       "5    13_Heterochrom/lo 0            .      1094537           1101737        \n",
       "6    13_Heterochrom/lo 0            .      1831340           1837540        \n",
       "7    13_Heterochrom/lo 0            .      1831340           1837540        \n",
       "8    13_Heterochrom/lo 0            .      2058740           2063740        \n",
       "9    13_Heterochrom/lo 0            .      2574940           2583540        \n",
       "10   13_Heterochrom/lo 0            .      2574940           2583540        \n",
       "11   13_Heterochrom/lo 0            .      2633740           2634140        \n",
       "12   13_Heterochrom/lo 0            .      2991140           3097740        \n",
       "13   13_Heterochrom/lo 0            .      2991140           3097740        \n",
       "14   13_Heterochrom/lo 0            .      2991140           3097740        \n",
       "15   13_Heterochrom/lo 0            .      3098540           3223540        \n",
       "16   13_Heterochrom/lo 0            .      3098540           3223540        \n",
       "17   13_Heterochrom/lo 0            .      3098540           3223540        \n",
       "18   13_Heterochrom/lo 0            .      3098540           3223540        \n",
       "19   13_Heterochrom/lo 0            .      3098540           3223540        \n",
       "20   13_Heterochrom/lo 0            .      3098540           3223540        \n",
       "21   13_Heterochrom/lo 0            .      3098540           3223540        \n",
       "22   13_Heterochrom/lo 0            .      3098540           3223540        \n",
       "23   13_Heterochrom/lo 0            .      3098540           3223540        \n",
       "24   13_Heterochrom/lo 0            .      3098540           3223540        \n",
       "25   13_Heterochrom/lo 0            .      3237140           3306540        \n",
       "26   13_Heterochrom/lo 0            .      3237140           3306540        \n",
       "27   13_Heterochrom/lo 0            .      3237140           3306540        \n",
       "28   13_Heterochrom/lo 0            .      3482340           3513740        \n",
       "29   13_Heterochrom/lo 0            .      3535940           3537340        \n",
       "30   13_Heterochrom/lo 0            .      5462813           5569813        \n",
       "⋮    ⋮                 ⋮            ⋮      ⋮                 ⋮              \n",
       "1226 13_Heterochrom/lo 0            .      124338319         124458319      \n",
       "1227 13_Heterochrom/lo 0            .      129067119         129086319      \n",
       "1228 13_Heterochrom/lo 0            .      130129119         130201519      \n",
       "1229 13_Heterochrom/lo 0            .      130205319         130396719      \n",
       "1230 13_Heterochrom/lo 0            .      130205319         130396719      \n",
       "1231 13_Heterochrom/lo 0            .      133295734         133305934      \n",
       "1232 13_Heterochrom/lo 0            .      133663334         133682134      \n",
       "1233 13_Heterochrom/lo 0            .      133663334         133682134      \n",
       "1234 13_Heterochrom/lo 0            .      136376334         136506934      \n",
       "1235 13_Heterochrom/lo 0            .      136512534         136514734      \n",
       "1236 13_Heterochrom/lo 0            .      136520734         136646134      \n",
       "1237 13_Heterochrom/lo 0            .      136520734         136646134      \n",
       "1238 13_Heterochrom/lo 0            .      136520734         136646134      \n",
       "1239 13_Heterochrom/lo 0            .      136520734         136646134      \n",
       "1240 13_Heterochrom/lo 0            .      136520734         136646134      \n",
       "1241 13_Heterochrom/lo 0            .      136520734         136646134      \n",
       "1242 13_Heterochrom/lo 0            .      136520734         136646134      \n",
       "1243 13_Heterochrom/lo 0            .      136520734         136646134      \n",
       "1244 13_Heterochrom/lo 0            .      136655734         137108334      \n",
       "1245 13_Heterochrom/lo 0            .      136655734         137108334      \n",
       "1246 13_Heterochrom/lo 0            .      136655734         137108334      \n",
       "1247 13_Heterochrom/lo 0            .      139262134         139654734      \n",
       "1248 13_Heterochrom/lo 0            .      139262134         139654734      \n",
       "1249 13_Heterochrom/lo 0            .      139262134         139654734      \n",
       "1250 13_Heterochrom/lo 0            .      149534342         149550942      \n",
       "1251 13_Heterochrom/lo 0            .      152158344         152200344      \n",
       "1252 13_Heterochrom/lo 0            .      152773606         152804806      \n",
       "1253 13_Heterochrom/lo 0            .      152773606         152804806      \n",
       "1254 13_Heterochrom/lo 0            .      152773606         152804806      \n",
       "1255 13_Heterochrom/lo 0            .      152928006         152933206      \n",
       "     values      value2\n",
       "1    245,245,245  13   \n",
       "2    245,245,245 167   \n",
       "3    245,245,245 292   \n",
       "4    245,245,245  99   \n",
       "5    245,245,245  96   \n",
       "6    245,245,245  64   \n",
       "7    245,245,245 292   \n",
       "8    245,245,245 302   \n",
       "9    245,245,245 697   \n",
       "10   245,245,245 221   \n",
       "11   245,245,245 344   \n",
       "12   245,245,245 507   \n",
       "13   245,245,245 189   \n",
       "14   245,245,245 598   \n",
       "15   245,245,245 268   \n",
       "16   245,245,245 699   \n",
       "17   245,245,245  73   \n",
       "18   245,245,245 174   \n",
       "19   245,245,245 299   \n",
       "20   245,245,245 732   \n",
       "21   245,245,245 143   \n",
       "22   245,245,245 275   \n",
       "23   245,245,245 457   \n",
       "24   245,245,245 124   \n",
       "25   245,245,245 594   \n",
       "26   245,245,245 278   \n",
       "27   245,245,245 312   \n",
       "28   245,245,245 122   \n",
       "29   245,245,245 387   \n",
       "30   245,245,245 537   \n",
       "⋮    ⋮           ⋮     \n",
       "1226 245,245,245  331  \n",
       "1227 245,245,245   96  \n",
       "1228 245,245,245   36  \n",
       "1229 245,245,245  316  \n",
       "1230 245,245,245  153  \n",
       "1231 245,245,245  156  \n",
       "1232 245,245,245  132  \n",
       "1233 245,245,245  257  \n",
       "1234 245,245,245 1351  \n",
       "1235 245,245,245   10  \n",
       "1236 245,245,245  375  \n",
       "1237 245,245,245 1096  \n",
       "1238 245,245,245  464  \n",
       "1239 245,245,245  492  \n",
       "1240 245,245,245 1001  \n",
       "1241 245,245,245   63  \n",
       "1242 245,245,245  364  \n",
       "1243 245,245,245  185  \n",
       "1244 245,245,245  144  \n",
       "1245 245,245,245  238  \n",
       "1246 245,245,245  372  \n",
       "1247 245,245,245  343  \n",
       "1248 245,245,245  522  \n",
       "1249 245,245,245  140  \n",
       "1250 245,245,245  766  \n",
       "1251 245,245,245  264  \n",
       "1252 245,245,245   81  \n",
       "1253 245,245,245  109  \n",
       "1254 245,245,245  328  \n",
       "1255 245,245,245  308  "
      ]
     },
     "metadata": {},
     "output_type": "display_data"
    }
   ],
   "source": [
    "BCL_CHMM %>%\n",
    "filter(ChromHMMGroup %in% c(\"13_Heterochrom/lo\"))"
   ]
  },
  {
   "cell_type": "code",
   "execution_count": 22,
   "id": "e20f9c98",
   "metadata": {},
   "outputs": [
    {
     "data": {
      "text/html": [
       "1227"
      ],
      "text/latex": [
       "1227"
      ],
      "text/markdown": [
       "1227"
      ],
      "text/plain": [
       "[1] 1227"
      ]
     },
     "metadata": {},
     "output_type": "display_data"
    },
    {
     "data": {
      "text/html": [
       "6017"
      ],
      "text/latex": [
       "6017"
      ],
      "text/markdown": [
       "6017"
      ],
      "text/plain": [
       "[1] 6017"
      ]
     },
     "metadata": {},
     "output_type": "display_data"
    }
   ],
   "source": [
    "BCL_CHMM_Hetero <- BCL_CHMM %>%\n",
    "filter(ChromHMMGroup %in% c(\"13_Heterochrom/lo\")) %>% \n",
    "group_by(chrHMR, startHMR, endHMR) %>% top_n(n = 1, wt = startChromHMM) %>% nrow()\n",
    "\n",
    "BUN_CHMM_Hetero <- BUN_CHMM %>%\n",
    "filter(ChromHMMGroup %in% c(\"13_Heterochrom/lo\")) %>% \n",
    "group_by(chrHMR, startHMR, endHMR) %>% top_n(n = 1, wt = startChromHMM) %>% nrow()\n",
    "\n",
    "BCL_CHMM_Hetero\n",
    "BUN_CHMM_Hetero"
   ]
  },
  {
   "cell_type": "markdown",
   "id": "0a3656f1",
   "metadata": {},
   "source": [
    "### Repressed"
   ]
  },
  {
   "cell_type": "code",
   "execution_count": 23,
   "id": "13ee75b8",
   "metadata": {},
   "outputs": [
    {
     "data": {
      "text/html": [
       "920"
      ],
      "text/latex": [
       "920"
      ],
      "text/markdown": [
       "920"
      ],
      "text/plain": [
       "[1] 920"
      ]
     },
     "metadata": {},
     "output_type": "display_data"
    },
    {
     "data": {
      "text/html": [
       "1584"
      ],
      "text/latex": [
       "1584"
      ],
      "text/markdown": [
       "1584"
      ],
      "text/plain": [
       "[1] 1584"
      ]
     },
     "metadata": {},
     "output_type": "display_data"
    }
   ],
   "source": [
    "BCL_CHMM_Repr <- BCL_CHMM %>%\n",
    "filter(ChromHMMGroup %in% c(\"12_Repressed\")) %>% \n",
    "group_by(chrHMR, startHMR, endHMR) %>% top_n(n = 1, wt = startChromHMM) %>% nrow()\n",
    "\n",
    "BUN_CHMM_Repr <- BUN_CHMM %>%\n",
    "filter(ChromHMMGroup %in% c(\"12_Repressed\")) %>% \n",
    "group_by(chrHMR, startHMR, endHMR) %>% top_n(n = 1, wt = startChromHMM) %>% nrow()\n",
    "\n",
    "BCL_CHMM_Repr\n",
    "BUN_CHMM_Repr"
   ]
  },
  {
   "cell_type": "markdown",
   "id": "54d4b833",
   "metadata": {},
   "source": [
    "### Insulators"
   ]
  },
  {
   "cell_type": "code",
   "execution_count": 24,
   "id": "4b966297",
   "metadata": {},
   "outputs": [
    {
     "data": {
      "text/html": [
       "574"
      ],
      "text/latex": [
       "574"
      ],
      "text/markdown": [
       "574"
      ],
      "text/plain": [
       "[1] 574"
      ]
     },
     "metadata": {},
     "output_type": "display_data"
    },
    {
     "data": {
      "text/html": [
       "3424"
      ],
      "text/latex": [
       "3424"
      ],
      "text/markdown": [
       "3424"
      ],
      "text/plain": [
       "[1] 3424"
      ]
     },
     "metadata": {},
     "output_type": "display_data"
    }
   ],
   "source": [
    "BCL_CHMM_Ins <- BCL_CHMM %>%\n",
    "filter(ChromHMMGroup %in% c(\"8_Insulator\")) %>% \n",
    "group_by(chrHMR, startHMR, endHMR) %>% top_n(n = 1, wt = startChromHMM) %>% nrow()\n",
    "\n",
    "BUN_CHMM_Ins <- BUN_CHMM %>%\n",
    "filter(ChromHMMGroup %in% c(\"8_Insulator\")) %>% \n",
    "group_by(chrHMR, startHMR, endHMR) %>% top_n(n = 1, wt = startChromHMM) %>% nrow()\n",
    "\n",
    "BCL_CHMM_Ins\n",
    "BUN_CHMM_Ins"
   ]
  },
  {
   "cell_type": "markdown",
   "id": "4b83446d",
   "metadata": {},
   "source": [
    "### Weak Transcription"
   ]
  },
  {
   "cell_type": "code",
   "execution_count": 25,
   "id": "09a0260e",
   "metadata": {},
   "outputs": [
    {
     "data": {
      "text/html": [
       "400"
      ],
      "text/latex": [
       "400"
      ],
      "text/markdown": [
       "400"
      ],
      "text/plain": [
       "[1] 400"
      ]
     },
     "metadata": {},
     "output_type": "display_data"
    },
    {
     "data": {
      "text/html": [
       "817"
      ],
      "text/latex": [
       "817"
      ],
      "text/markdown": [
       "817"
      ],
      "text/plain": [
       "[1] 817"
      ]
     },
     "metadata": {},
     "output_type": "display_data"
    }
   ],
   "source": [
    "BCL_CHMM_WeakTx <- BCL_CHMM %>%\n",
    "filter(ChromHMMGroup %in% c(\"11_Weak_Txn\")) %>% \n",
    "group_by(chrHMR, startHMR, endHMR) %>% top_n(n = 1, wt = startChromHMM) %>% nrow()\n",
    "\n",
    "BUN_CHMM_WeakTx <- BUN_CHMM %>%\n",
    "filter(ChromHMMGroup %in% c(\"11_Weak_Txn\")) %>% \n",
    "group_by(chrHMR, startHMR, endHMR) %>% top_n(n = 1, wt = startChromHMM) %>% nrow()\n",
    "\n",
    "BCL_CHMM_WeakTx\n",
    "BUN_CHMM_WeakTx"
   ]
  },
  {
   "cell_type": "markdown",
   "id": "9bc9578f",
   "metadata": {},
   "source": [
    "# Plot"
   ]
  },
  {
   "cell_type": "markdown",
   "id": "d128b877",
   "metadata": {},
   "source": [
    "## Generate data frame"
   ]
  },
  {
   "cell_type": "code",
   "execution_count": 28,
   "id": "9e908cc9",
   "metadata": {},
   "outputs": [
    {
     "data": {
      "text/html": [
       "<table class=\"dataframe\">\n",
       "<caption>A tibble: 12 × 3</caption>\n",
       "<thead>\n",
       "\t<tr><th scope=col>HMRGroup</th><th scope=col>ChromHMM</th><th scope=col>TotalHMRs</th></tr>\n",
       "\t<tr><th scope=col>&lt;chr&gt;</th><th scope=col>&lt;chr&gt;</th><th scope=col>&lt;dbl&gt;</th></tr>\n",
       "</thead>\n",
       "<tbody>\n",
       "\t<tr><td>B cell Clustered  </td><td>StrongEnhancer </td><td> 5974</td></tr>\n",
       "\t<tr><td>B cell Clustered  </td><td>WeakEnhancer   </td><td> 5974</td></tr>\n",
       "\t<tr><td>B cell Clustered  </td><td>Heterochromatin</td><td> 5974</td></tr>\n",
       "\t<tr><td>B cell Clustered  </td><td>Repressed      </td><td> 5974</td></tr>\n",
       "\t<tr><td>B cell Clustered  </td><td>Insulator      </td><td> 5974</td></tr>\n",
       "\t<tr><td>B cell Clustered  </td><td>WeakTx         </td><td> 5974</td></tr>\n",
       "\t<tr><td>B cell Unclustered</td><td>StrongEnhancer </td><td>17185</td></tr>\n",
       "\t<tr><td>B cell Unclustered</td><td>WeakEnhancer   </td><td>17185</td></tr>\n",
       "\t<tr><td>B cell Unclustered</td><td>Heterochromatin</td><td>17185</td></tr>\n",
       "\t<tr><td>B cell Unclustered</td><td>Repressed      </td><td>17185</td></tr>\n",
       "\t<tr><td>B cell Unclustered</td><td>Insulator      </td><td>17185</td></tr>\n",
       "\t<tr><td>B cell Unclustered</td><td>WeakTx         </td><td>17185</td></tr>\n",
       "</tbody>\n",
       "</table>\n"
      ],
      "text/latex": [
       "A tibble: 12 × 3\n",
       "\\begin{tabular}{lll}\n",
       " HMRGroup & ChromHMM & TotalHMRs\\\\\n",
       " <chr> & <chr> & <dbl>\\\\\n",
       "\\hline\n",
       "\t B cell Clustered   & StrongEnhancer  &  5974\\\\\n",
       "\t B cell Clustered   & WeakEnhancer    &  5974\\\\\n",
       "\t B cell Clustered   & Heterochromatin &  5974\\\\\n",
       "\t B cell Clustered   & Repressed       &  5974\\\\\n",
       "\t B cell Clustered   & Insulator       &  5974\\\\\n",
       "\t B cell Clustered   & WeakTx          &  5974\\\\\n",
       "\t B cell Unclustered & StrongEnhancer  & 17185\\\\\n",
       "\t B cell Unclustered & WeakEnhancer    & 17185\\\\\n",
       "\t B cell Unclustered & Heterochromatin & 17185\\\\\n",
       "\t B cell Unclustered & Repressed       & 17185\\\\\n",
       "\t B cell Unclustered & Insulator       & 17185\\\\\n",
       "\t B cell Unclustered & WeakTx          & 17185\\\\\n",
       "\\end{tabular}\n"
      ],
      "text/markdown": [
       "\n",
       "A tibble: 12 × 3\n",
       "\n",
       "| HMRGroup &lt;chr&gt; | ChromHMM &lt;chr&gt; | TotalHMRs &lt;dbl&gt; |\n",
       "|---|---|---|\n",
       "| B cell Clustered   | StrongEnhancer  |  5974 |\n",
       "| B cell Clustered   | WeakEnhancer    |  5974 |\n",
       "| B cell Clustered   | Heterochromatin |  5974 |\n",
       "| B cell Clustered   | Repressed       |  5974 |\n",
       "| B cell Clustered   | Insulator       |  5974 |\n",
       "| B cell Clustered   | WeakTx          |  5974 |\n",
       "| B cell Unclustered | StrongEnhancer  | 17185 |\n",
       "| B cell Unclustered | WeakEnhancer    | 17185 |\n",
       "| B cell Unclustered | Heterochromatin | 17185 |\n",
       "| B cell Unclustered | Repressed       | 17185 |\n",
       "| B cell Unclustered | Insulator       | 17185 |\n",
       "| B cell Unclustered | WeakTx          | 17185 |\n",
       "\n"
      ],
      "text/plain": [
       "   HMRGroup           ChromHMM        TotalHMRs\n",
       "1  B cell Clustered   StrongEnhancer   5974    \n",
       "2  B cell Clustered   WeakEnhancer     5974    \n",
       "3  B cell Clustered   Heterochromatin  5974    \n",
       "4  B cell Clustered   Repressed        5974    \n",
       "5  B cell Clustered   Insulator        5974    \n",
       "6  B cell Clustered   WeakTx           5974    \n",
       "7  B cell Unclustered StrongEnhancer  17185    \n",
       "8  B cell Unclustered WeakEnhancer    17185    \n",
       "9  B cell Unclustered Heterochromatin 17185    \n",
       "10 B cell Unclustered Repressed       17185    \n",
       "11 B cell Unclustered Insulator       17185    \n",
       "12 B cell Unclustered WeakTx          17185    "
      ]
     },
     "metadata": {},
     "output_type": "display_data"
    }
   ],
   "source": [
    "df_val <- tibble(\n",
    "    HMRGroup = c(rep(\"B cell Clustered\", 6), rep(\"B cell Unclustered\", 6)),\n",
    "    ChromHMM = rep(c(\"StrongEnhancer\",\"WeakEnhancer\",\"Heterochromatin\",\"Repressed\",\"Insulator\",\"WeakTx\"), 2),\n",
    "    TotalHMRs = c(rep(5974, 6), rep(17185, 6))\n",
    ")\n",
    "\n",
    "df_val"
   ]
  },
  {
   "cell_type": "code",
   "execution_count": 30,
   "id": "d4eb04ed",
   "metadata": {},
   "outputs": [
    {
     "data": {
      "text/html": [
       "<table class=\"dataframe\">\n",
       "<caption>A tibble: 12 × 4</caption>\n",
       "<thead>\n",
       "\t<tr><th scope=col>HMRGroup</th><th scope=col>ChromHMM</th><th scope=col>TotalHMRs</th><th scope=col>numHMRs</th></tr>\n",
       "\t<tr><th scope=col>&lt;chr&gt;</th><th scope=col>&lt;chr&gt;</th><th scope=col>&lt;dbl&gt;</th><th scope=col>&lt;int&gt;</th></tr>\n",
       "</thead>\n",
       "<tbody>\n",
       "\t<tr><td>B cell Clustered  </td><td>StrongEnhancer </td><td> 5974</td><td>1824</td></tr>\n",
       "\t<tr><td>B cell Clustered  </td><td>WeakEnhancer   </td><td> 5974</td><td>1410</td></tr>\n",
       "\t<tr><td>B cell Clustered  </td><td>Heterochromatin</td><td> 5974</td><td>1227</td></tr>\n",
       "\t<tr><td>B cell Clustered  </td><td>Repressed      </td><td> 5974</td><td> 920</td></tr>\n",
       "\t<tr><td>B cell Clustered  </td><td>Insulator      </td><td> 5974</td><td> 574</td></tr>\n",
       "\t<tr><td>B cell Clustered  </td><td>WeakTx         </td><td> 5974</td><td> 400</td></tr>\n",
       "\t<tr><td>B cell Unclustered</td><td>StrongEnhancer </td><td>17185</td><td>3334</td></tr>\n",
       "\t<tr><td>B cell Unclustered</td><td>WeakEnhancer   </td><td>17185</td><td>4261</td></tr>\n",
       "\t<tr><td>B cell Unclustered</td><td>Heterochromatin</td><td>17185</td><td>6017</td></tr>\n",
       "\t<tr><td>B cell Unclustered</td><td>Repressed      </td><td>17185</td><td>1584</td></tr>\n",
       "\t<tr><td>B cell Unclustered</td><td>Insulator      </td><td>17185</td><td>3424</td></tr>\n",
       "\t<tr><td>B cell Unclustered</td><td>WeakTx         </td><td>17185</td><td> 817</td></tr>\n",
       "</tbody>\n",
       "</table>\n"
      ],
      "text/latex": [
       "A tibble: 12 × 4\n",
       "\\begin{tabular}{llll}\n",
       " HMRGroup & ChromHMM & TotalHMRs & numHMRs\\\\\n",
       " <chr> & <chr> & <dbl> & <int>\\\\\n",
       "\\hline\n",
       "\t B cell Clustered   & StrongEnhancer  &  5974 & 1824\\\\\n",
       "\t B cell Clustered   & WeakEnhancer    &  5974 & 1410\\\\\n",
       "\t B cell Clustered   & Heterochromatin &  5974 & 1227\\\\\n",
       "\t B cell Clustered   & Repressed       &  5974 &  920\\\\\n",
       "\t B cell Clustered   & Insulator       &  5974 &  574\\\\\n",
       "\t B cell Clustered   & WeakTx          &  5974 &  400\\\\\n",
       "\t B cell Unclustered & StrongEnhancer  & 17185 & 3334\\\\\n",
       "\t B cell Unclustered & WeakEnhancer    & 17185 & 4261\\\\\n",
       "\t B cell Unclustered & Heterochromatin & 17185 & 6017\\\\\n",
       "\t B cell Unclustered & Repressed       & 17185 & 1584\\\\\n",
       "\t B cell Unclustered & Insulator       & 17185 & 3424\\\\\n",
       "\t B cell Unclustered & WeakTx          & 17185 &  817\\\\\n",
       "\\end{tabular}\n"
      ],
      "text/markdown": [
       "\n",
       "A tibble: 12 × 4\n",
       "\n",
       "| HMRGroup &lt;chr&gt; | ChromHMM &lt;chr&gt; | TotalHMRs &lt;dbl&gt; | numHMRs &lt;int&gt; |\n",
       "|---|---|---|---|\n",
       "| B cell Clustered   | StrongEnhancer  |  5974 | 1824 |\n",
       "| B cell Clustered   | WeakEnhancer    |  5974 | 1410 |\n",
       "| B cell Clustered   | Heterochromatin |  5974 | 1227 |\n",
       "| B cell Clustered   | Repressed       |  5974 |  920 |\n",
       "| B cell Clustered   | Insulator       |  5974 |  574 |\n",
       "| B cell Clustered   | WeakTx          |  5974 |  400 |\n",
       "| B cell Unclustered | StrongEnhancer  | 17185 | 3334 |\n",
       "| B cell Unclustered | WeakEnhancer    | 17185 | 4261 |\n",
       "| B cell Unclustered | Heterochromatin | 17185 | 6017 |\n",
       "| B cell Unclustered | Repressed       | 17185 | 1584 |\n",
       "| B cell Unclustered | Insulator       | 17185 | 3424 |\n",
       "| B cell Unclustered | WeakTx          | 17185 |  817 |\n",
       "\n"
      ],
      "text/plain": [
       "   HMRGroup           ChromHMM        TotalHMRs numHMRs\n",
       "1  B cell Clustered   StrongEnhancer   5974     1824   \n",
       "2  B cell Clustered   WeakEnhancer     5974     1410   \n",
       "3  B cell Clustered   Heterochromatin  5974     1227   \n",
       "4  B cell Clustered   Repressed        5974      920   \n",
       "5  B cell Clustered   Insulator        5974      574   \n",
       "6  B cell Clustered   WeakTx           5974      400   \n",
       "7  B cell Unclustered StrongEnhancer  17185     3334   \n",
       "8  B cell Unclustered WeakEnhancer    17185     4261   \n",
       "9  B cell Unclustered Heterochromatin 17185     6017   \n",
       "10 B cell Unclustered Repressed       17185     1584   \n",
       "11 B cell Unclustered Insulator       17185     3424   \n",
       "12 B cell Unclustered WeakTx          17185      817   "
      ]
     },
     "metadata": {},
     "output_type": "display_data"
    }
   ],
   "source": [
    "df_val <- tibble(\n",
    "    HMRGroup = c(rep(\"B cell Clustered\", 6), rep(\"B cell Unclustered\", 6)),\n",
    "    ChromHMM = rep(c(\"StrongEnhancer\",\"WeakEnhancer\",\"Heterochromatin\",\"Repressed\",\"Insulator\",\"WeakTx\"), 2),\n",
    "    TotalHMRs = c(rep(5974, 6), rep(17185, 6)),\n",
    "    numHMRs = c(BCL_CHMM_StrongEnh, BCL_CHMM_WeakEnh, BCL_CHMM_Hetero, BCL_CHMM_Repr, BCL_CHMM_Ins, BCL_CHMM_WeakTx,\n",
    "              BUN_CHMM_StrongEnh, BUN_CHMM_WeakEnh, BUN_CHMM_Hetero, BUN_CHMM_Repr, BUN_CHMM_Ins, BUN_CHMM_WeakTx)\n",
    ")\n",
    "\n",
    "df_val"
   ]
  },
  {
   "cell_type": "markdown",
   "id": "66939935",
   "metadata": {},
   "source": [
    "## Calculate fraction"
   ]
  },
  {
   "cell_type": "code",
   "execution_count": 32,
   "id": "5a2015cb",
   "metadata": {},
   "outputs": [
    {
     "data": {
      "text/html": [
       "<table class=\"dataframe\">\n",
       "<caption>A tibble: 12 × 5</caption>\n",
       "<thead>\n",
       "\t<tr><th scope=col>HMRGroup</th><th scope=col>ChromHMM</th><th scope=col>TotalHMRs</th><th scope=col>numHMRs</th><th scope=col>ProportionHMRs</th></tr>\n",
       "\t<tr><th scope=col>&lt;chr&gt;</th><th scope=col>&lt;chr&gt;</th><th scope=col>&lt;dbl&gt;</th><th scope=col>&lt;int&gt;</th><th scope=col>&lt;dbl&gt;</th></tr>\n",
       "</thead>\n",
       "<tbody>\n",
       "\t<tr><td>B cell Clustered  </td><td>StrongEnhancer </td><td> 5974</td><td>1824</td><td>0.30532307</td></tr>\n",
       "\t<tr><td>B cell Clustered  </td><td>WeakEnhancer   </td><td> 5974</td><td>1410</td><td>0.23602277</td></tr>\n",
       "\t<tr><td>B cell Clustered  </td><td>Heterochromatin</td><td> 5974</td><td>1227</td><td>0.20539002</td></tr>\n",
       "\t<tr><td>B cell Clustered  </td><td>Repressed      </td><td> 5974</td><td> 920</td><td>0.15400067</td></tr>\n",
       "\t<tr><td>B cell Clustered  </td><td>Insulator      </td><td> 5974</td><td> 574</td><td>0.09608303</td></tr>\n",
       "\t<tr><td>B cell Clustered  </td><td>WeakTx         </td><td> 5974</td><td> 400</td><td>0.06695681</td></tr>\n",
       "\t<tr><td>B cell Unclustered</td><td>StrongEnhancer </td><td>17185</td><td>3334</td><td>0.19400640</td></tr>\n",
       "\t<tr><td>B cell Unclustered</td><td>WeakEnhancer   </td><td>17185</td><td>4261</td><td>0.24794879</td></tr>\n",
       "\t<tr><td>B cell Unclustered</td><td>Heterochromatin</td><td>17185</td><td>6017</td><td>0.35013093</td></tr>\n",
       "\t<tr><td>B cell Unclustered</td><td>Repressed      </td><td>17185</td><td>1584</td><td>0.09217341</td></tr>\n",
       "\t<tr><td>B cell Unclustered</td><td>Insulator      </td><td>17185</td><td>3424</td><td>0.19924353</td></tr>\n",
       "\t<tr><td>B cell Unclustered</td><td>WeakTx         </td><td>17185</td><td> 817</td><td>0.04754146</td></tr>\n",
       "</tbody>\n",
       "</table>\n"
      ],
      "text/latex": [
       "A tibble: 12 × 5\n",
       "\\begin{tabular}{lllll}\n",
       " HMRGroup & ChromHMM & TotalHMRs & numHMRs & ProportionHMRs\\\\\n",
       " <chr> & <chr> & <dbl> & <int> & <dbl>\\\\\n",
       "\\hline\n",
       "\t B cell Clustered   & StrongEnhancer  &  5974 & 1824 & 0.30532307\\\\\n",
       "\t B cell Clustered   & WeakEnhancer    &  5974 & 1410 & 0.23602277\\\\\n",
       "\t B cell Clustered   & Heterochromatin &  5974 & 1227 & 0.20539002\\\\\n",
       "\t B cell Clustered   & Repressed       &  5974 &  920 & 0.15400067\\\\\n",
       "\t B cell Clustered   & Insulator       &  5974 &  574 & 0.09608303\\\\\n",
       "\t B cell Clustered   & WeakTx          &  5974 &  400 & 0.06695681\\\\\n",
       "\t B cell Unclustered & StrongEnhancer  & 17185 & 3334 & 0.19400640\\\\\n",
       "\t B cell Unclustered & WeakEnhancer    & 17185 & 4261 & 0.24794879\\\\\n",
       "\t B cell Unclustered & Heterochromatin & 17185 & 6017 & 0.35013093\\\\\n",
       "\t B cell Unclustered & Repressed       & 17185 & 1584 & 0.09217341\\\\\n",
       "\t B cell Unclustered & Insulator       & 17185 & 3424 & 0.19924353\\\\\n",
       "\t B cell Unclustered & WeakTx          & 17185 &  817 & 0.04754146\\\\\n",
       "\\end{tabular}\n"
      ],
      "text/markdown": [
       "\n",
       "A tibble: 12 × 5\n",
       "\n",
       "| HMRGroup &lt;chr&gt; | ChromHMM &lt;chr&gt; | TotalHMRs &lt;dbl&gt; | numHMRs &lt;int&gt; | ProportionHMRs &lt;dbl&gt; |\n",
       "|---|---|---|---|---|\n",
       "| B cell Clustered   | StrongEnhancer  |  5974 | 1824 | 0.30532307 |\n",
       "| B cell Clustered   | WeakEnhancer    |  5974 | 1410 | 0.23602277 |\n",
       "| B cell Clustered   | Heterochromatin |  5974 | 1227 | 0.20539002 |\n",
       "| B cell Clustered   | Repressed       |  5974 |  920 | 0.15400067 |\n",
       "| B cell Clustered   | Insulator       |  5974 |  574 | 0.09608303 |\n",
       "| B cell Clustered   | WeakTx          |  5974 |  400 | 0.06695681 |\n",
       "| B cell Unclustered | StrongEnhancer  | 17185 | 3334 | 0.19400640 |\n",
       "| B cell Unclustered | WeakEnhancer    | 17185 | 4261 | 0.24794879 |\n",
       "| B cell Unclustered | Heterochromatin | 17185 | 6017 | 0.35013093 |\n",
       "| B cell Unclustered | Repressed       | 17185 | 1584 | 0.09217341 |\n",
       "| B cell Unclustered | Insulator       | 17185 | 3424 | 0.19924353 |\n",
       "| B cell Unclustered | WeakTx          | 17185 |  817 | 0.04754146 |\n",
       "\n"
      ],
      "text/plain": [
       "   HMRGroup           ChromHMM        TotalHMRs numHMRs ProportionHMRs\n",
       "1  B cell Clustered   StrongEnhancer   5974     1824    0.30532307    \n",
       "2  B cell Clustered   WeakEnhancer     5974     1410    0.23602277    \n",
       "3  B cell Clustered   Heterochromatin  5974     1227    0.20539002    \n",
       "4  B cell Clustered   Repressed        5974      920    0.15400067    \n",
       "5  B cell Clustered   Insulator        5974      574    0.09608303    \n",
       "6  B cell Clustered   WeakTx           5974      400    0.06695681    \n",
       "7  B cell Unclustered StrongEnhancer  17185     3334    0.19400640    \n",
       "8  B cell Unclustered WeakEnhancer    17185     4261    0.24794879    \n",
       "9  B cell Unclustered Heterochromatin 17185     6017    0.35013093    \n",
       "10 B cell Unclustered Repressed       17185     1584    0.09217341    \n",
       "11 B cell Unclustered Insulator       17185     3424    0.19924353    \n",
       "12 B cell Unclustered WeakTx          17185      817    0.04754146    "
      ]
     },
     "metadata": {},
     "output_type": "display_data"
    }
   ],
   "source": [
    "df_frac <- df_val %>% mutate(ProportionHMRs = (numHMRs/TotalHMRs))\n",
    "df_frac"
   ]
  },
  {
   "cell_type": "markdown",
   "id": "564a7af6",
   "metadata": {},
   "source": [
    "## Order factor"
   ]
  },
  {
   "cell_type": "code",
   "execution_count": 39,
   "id": "7e0898ac",
   "metadata": {},
   "outputs": [],
   "source": [
    "df_frac$ChromHMM <- factor(df_frac$ChromHMM, levels = \n",
    "                          c(\"StrongEnhancer\", \"WeakEnhancer\", \"Heterochromatin\", \"Repressed\", \"Insulator\", \"WeakTx\"))"
   ]
  },
  {
   "cell_type": "markdown",
   "id": "f3f98d2c",
   "metadata": {},
   "source": [
    "## Plot call"
   ]
  },
  {
   "cell_type": "code",
   "execution_count": 44,
   "id": "469f5961",
   "metadata": {},
   "outputs": [
    {
     "data": {
      "image/png": "[encoded data removed]",
      "text/plain": [
       "plot without title"
      ]
     },
     "metadata": {
      "image/png": {
       "height": 420,
       "width": 420
      }
     },
     "output_type": "display_data"
    }
   ],
   "source": [
    "df_frac %>%\n",
    "ggplot(aes(x = ChromHMM, y = ProportionHMRs)) +\n",
    "geom_bar(aes(fill = HMRGroup), width = .7, stat = \"identity\",  position = position_dodge(width=.8)) +\n",
    "theme_minimal() +\n",
    "theme(aspect.ratio = .5)"
   ]
  },
  {
   "cell_type": "markdown",
   "id": "8a113b55",
   "metadata": {},
   "source": [
    "## Stats DF "
   ]
  },
  {
   "cell_type": "code",
   "execution_count": 45,
   "id": "5b2861e6",
   "metadata": {},
   "outputs": [
    {
     "data": {
      "text/html": [
       "<table class=\"dataframe\">\n",
       "<caption>A tibble: 12 × 5</caption>\n",
       "<thead>\n",
       "\t<tr><th scope=col>HMRGroup</th><th scope=col>ChromHMM</th><th scope=col>TotalHMRs</th><th scope=col>numHMRs</th><th scope=col>ProportionHMRs</th></tr>\n",
       "\t<tr><th scope=col>&lt;chr&gt;</th><th scope=col>&lt;fct&gt;</th><th scope=col>&lt;dbl&gt;</th><th scope=col>&lt;int&gt;</th><th scope=col>&lt;dbl&gt;</th></tr>\n",
       "</thead>\n",
       "<tbody>\n",
       "\t<tr><td>B cell Clustered  </td><td>StrongEnhancer </td><td> 5974</td><td>1824</td><td>0.30532307</td></tr>\n",
       "\t<tr><td>B cell Clustered  </td><td>WeakEnhancer   </td><td> 5974</td><td>1410</td><td>0.23602277</td></tr>\n",
       "\t<tr><td>B cell Clustered  </td><td>Heterochromatin</td><td> 5974</td><td>1227</td><td>0.20539002</td></tr>\n",
       "\t<tr><td>B cell Clustered  </td><td>Repressed      </td><td> 5974</td><td> 920</td><td>0.15400067</td></tr>\n",
       "\t<tr><td>B cell Clustered  </td><td>Insulator      </td><td> 5974</td><td> 574</td><td>0.09608303</td></tr>\n",
       "\t<tr><td>B cell Clustered  </td><td>WeakTx         </td><td> 5974</td><td> 400</td><td>0.06695681</td></tr>\n",
       "\t<tr><td>B cell Unclustered</td><td>StrongEnhancer </td><td>17185</td><td>3334</td><td>0.19400640</td></tr>\n",
       "\t<tr><td>B cell Unclustered</td><td>WeakEnhancer   </td><td>17185</td><td>4261</td><td>0.24794879</td></tr>\n",
       "\t<tr><td>B cell Unclustered</td><td>Heterochromatin</td><td>17185</td><td>6017</td><td>0.35013093</td></tr>\n",
       "\t<tr><td>B cell Unclustered</td><td>Repressed      </td><td>17185</td><td>1584</td><td>0.09217341</td></tr>\n",
       "\t<tr><td>B cell Unclustered</td><td>Insulator      </td><td>17185</td><td>3424</td><td>0.19924353</td></tr>\n",
       "\t<tr><td>B cell Unclustered</td><td>WeakTx         </td><td>17185</td><td> 817</td><td>0.04754146</td></tr>\n",
       "</tbody>\n",
       "</table>\n"
      ],
      "text/latex": [
       "A tibble: 12 × 5\n",
       "\\begin{tabular}{lllll}\n",
       " HMRGroup & ChromHMM & TotalHMRs & numHMRs & ProportionHMRs\\\\\n",
       " <chr> & <fct> & <dbl> & <int> & <dbl>\\\\\n",
       "\\hline\n",
       "\t B cell Clustered   & StrongEnhancer  &  5974 & 1824 & 0.30532307\\\\\n",
       "\t B cell Clustered   & WeakEnhancer    &  5974 & 1410 & 0.23602277\\\\\n",
       "\t B cell Clustered   & Heterochromatin &  5974 & 1227 & 0.20539002\\\\\n",
       "\t B cell Clustered   & Repressed       &  5974 &  920 & 0.15400067\\\\\n",
       "\t B cell Clustered   & Insulator       &  5974 &  574 & 0.09608303\\\\\n",
       "\t B cell Clustered   & WeakTx          &  5974 &  400 & 0.06695681\\\\\n",
       "\t B cell Unclustered & StrongEnhancer  & 17185 & 3334 & 0.19400640\\\\\n",
       "\t B cell Unclustered & WeakEnhancer    & 17185 & 4261 & 0.24794879\\\\\n",
       "\t B cell Unclustered & Heterochromatin & 17185 & 6017 & 0.35013093\\\\\n",
       "\t B cell Unclustered & Repressed       & 17185 & 1584 & 0.09217341\\\\\n",
       "\t B cell Unclustered & Insulator       & 17185 & 3424 & 0.19924353\\\\\n",
       "\t B cell Unclustered & WeakTx          & 17185 &  817 & 0.04754146\\\\\n",
       "\\end{tabular}\n"
      ],
      "text/markdown": [
       "\n",
       "A tibble: 12 × 5\n",
       "\n",
       "| HMRGroup &lt;chr&gt; | ChromHMM &lt;fct&gt; | TotalHMRs &lt;dbl&gt; | numHMRs &lt;int&gt; | ProportionHMRs &lt;dbl&gt; |\n",
       "|---|---|---|---|---|\n",
       "| B cell Clustered   | StrongEnhancer  |  5974 | 1824 | 0.30532307 |\n",
       "| B cell Clustered   | WeakEnhancer    |  5974 | 1410 | 0.23602277 |\n",
       "| B cell Clustered   | Heterochromatin |  5974 | 1227 | 0.20539002 |\n",
       "| B cell Clustered   | Repressed       |  5974 |  920 | 0.15400067 |\n",
       "| B cell Clustered   | Insulator       |  5974 |  574 | 0.09608303 |\n",
       "| B cell Clustered   | WeakTx          |  5974 |  400 | 0.06695681 |\n",
       "| B cell Unclustered | StrongEnhancer  | 17185 | 3334 | 0.19400640 |\n",
       "| B cell Unclustered | WeakEnhancer    | 17185 | 4261 | 0.24794879 |\n",
       "| B cell Unclustered | Heterochromatin | 17185 | 6017 | 0.35013093 |\n",
       "| B cell Unclustered | Repressed       | 17185 | 1584 | 0.09217341 |\n",
       "| B cell Unclustered | Insulator       | 17185 | 3424 | 0.19924353 |\n",
       "| B cell Unclustered | WeakTx          | 17185 |  817 | 0.04754146 |\n",
       "\n"
      ],
      "text/plain": [
       "   HMRGroup           ChromHMM        TotalHMRs numHMRs ProportionHMRs\n",
       "1  B cell Clustered   StrongEnhancer   5974     1824    0.30532307    \n",
       "2  B cell Clustered   WeakEnhancer     5974     1410    0.23602277    \n",
       "3  B cell Clustered   Heterochromatin  5974     1227    0.20539002    \n",
       "4  B cell Clustered   Repressed        5974      920    0.15400067    \n",
       "5  B cell Clustered   Insulator        5974      574    0.09608303    \n",
       "6  B cell Clustered   WeakTx           5974      400    0.06695681    \n",
       "7  B cell Unclustered StrongEnhancer  17185     3334    0.19400640    \n",
       "8  B cell Unclustered WeakEnhancer    17185     4261    0.24794879    \n",
       "9  B cell Unclustered Heterochromatin 17185     6017    0.35013093    \n",
       "10 B cell Unclustered Repressed       17185     1584    0.09217341    \n",
       "11 B cell Unclustered Insulator       17185     3424    0.19924353    \n",
       "12 B cell Unclustered WeakTx          17185      817    0.04754146    "
      ]
     },
     "metadata": {},
     "output_type": "display_data"
    }
   ],
   "source": [
    "df_frac"
   ]
  },
  {
   "cell_type": "code",
   "execution_count": 54,
   "id": "1b6ef43d",
   "metadata": {},
   "outputs": [
    {
     "data": {
      "text/html": [
       "<table class=\"dataframe\">\n",
       "<caption>A data.frame: 6 × 9</caption>\n",
       "<thead>\n",
       "\t<tr><th scope=col>ChromHMM</th><th scope=col>HMRGroup.x</th><th scope=col>TotalHMRs.x</th><th scope=col>numHMRs.x</th><th scope=col>ProportionHMRs.x</th><th scope=col>HMRGroup.y</th><th scope=col>TotalHMRs.y</th><th scope=col>numHMRs.y</th><th scope=col>ProportionHMRs.y</th></tr>\n",
       "\t<tr><th scope=col>&lt;fct&gt;</th><th scope=col>&lt;chr&gt;</th><th scope=col>&lt;dbl&gt;</th><th scope=col>&lt;int&gt;</th><th scope=col>&lt;dbl&gt;</th><th scope=col>&lt;chr&gt;</th><th scope=col>&lt;dbl&gt;</th><th scope=col>&lt;int&gt;</th><th scope=col>&lt;dbl&gt;</th></tr>\n",
       "</thead>\n",
       "<tbody>\n",
       "\t<tr><td>Heterochromatin</td><td>B cell Clustered</td><td>5974</td><td>1227</td><td>0.20539002</td><td>B cell Unclustered</td><td>17185</td><td>6017</td><td>0.35013093</td></tr>\n",
       "\t<tr><td>Insulator      </td><td>B cell Clustered</td><td>5974</td><td> 574</td><td>0.09608303</td><td>B cell Unclustered</td><td>17185</td><td>3424</td><td>0.19924353</td></tr>\n",
       "\t<tr><td>Repressed      </td><td>B cell Clustered</td><td>5974</td><td> 920</td><td>0.15400067</td><td>B cell Unclustered</td><td>17185</td><td>1584</td><td>0.09217341</td></tr>\n",
       "\t<tr><td>StrongEnhancer </td><td>B cell Clustered</td><td>5974</td><td>1824</td><td>0.30532307</td><td>B cell Unclustered</td><td>17185</td><td>3334</td><td>0.19400640</td></tr>\n",
       "\t<tr><td>WeakEnhancer   </td><td>B cell Clustered</td><td>5974</td><td>1410</td><td>0.23602277</td><td>B cell Unclustered</td><td>17185</td><td>4261</td><td>0.24794879</td></tr>\n",
       "\t<tr><td>WeakTx         </td><td>B cell Clustered</td><td>5974</td><td> 400</td><td>0.06695681</td><td>B cell Unclustered</td><td>17185</td><td> 817</td><td>0.04754146</td></tr>\n",
       "</tbody>\n",
       "</table>\n"
      ],
      "text/latex": [
       "A data.frame: 6 × 9\n",
       "\\begin{tabular}{lllllllll}\n",
       " ChromHMM & HMRGroup.x & TotalHMRs.x & numHMRs.x & ProportionHMRs.x & HMRGroup.y & TotalHMRs.y & numHMRs.y & ProportionHMRs.y\\\\\n",
       " <fct> & <chr> & <dbl> & <int> & <dbl> & <chr> & <dbl> & <int> & <dbl>\\\\\n",
       "\\hline\n",
       "\t Heterochromatin & B cell Clustered & 5974 & 1227 & 0.20539002 & B cell Unclustered & 17185 & 6017 & 0.35013093\\\\\n",
       "\t Insulator       & B cell Clustered & 5974 &  574 & 0.09608303 & B cell Unclustered & 17185 & 3424 & 0.19924353\\\\\n",
       "\t Repressed       & B cell Clustered & 5974 &  920 & 0.15400067 & B cell Unclustered & 17185 & 1584 & 0.09217341\\\\\n",
       "\t StrongEnhancer  & B cell Clustered & 5974 & 1824 & 0.30532307 & B cell Unclustered & 17185 & 3334 & 0.19400640\\\\\n",
       "\t WeakEnhancer    & B cell Clustered & 5974 & 1410 & 0.23602277 & B cell Unclustered & 17185 & 4261 & 0.24794879\\\\\n",
       "\t WeakTx          & B cell Clustered & 5974 &  400 & 0.06695681 & B cell Unclustered & 17185 &  817 & 0.04754146\\\\\n",
       "\\end{tabular}\n"
      ],
      "text/markdown": [
       "\n",
       "A data.frame: 6 × 9\n",
       "\n",
       "| ChromHMM &lt;fct&gt; | HMRGroup.x &lt;chr&gt; | TotalHMRs.x &lt;dbl&gt; | numHMRs.x &lt;int&gt; | ProportionHMRs.x &lt;dbl&gt; | HMRGroup.y &lt;chr&gt; | TotalHMRs.y &lt;dbl&gt; | numHMRs.y &lt;int&gt; | ProportionHMRs.y &lt;dbl&gt; |\n",
       "|---|---|---|---|---|---|---|---|---|\n",
       "| Heterochromatin | B cell Clustered | 5974 | 1227 | 0.20539002 | B cell Unclustered | 17185 | 6017 | 0.35013093 |\n",
       "| Insulator       | B cell Clustered | 5974 |  574 | 0.09608303 | B cell Unclustered | 17185 | 3424 | 0.19924353 |\n",
       "| Repressed       | B cell Clustered | 5974 |  920 | 0.15400067 | B cell Unclustered | 17185 | 1584 | 0.09217341 |\n",
       "| StrongEnhancer  | B cell Clustered | 5974 | 1824 | 0.30532307 | B cell Unclustered | 17185 | 3334 | 0.19400640 |\n",
       "| WeakEnhancer    | B cell Clustered | 5974 | 1410 | 0.23602277 | B cell Unclustered | 17185 | 4261 | 0.24794879 |\n",
       "| WeakTx          | B cell Clustered | 5974 |  400 | 0.06695681 | B cell Unclustered | 17185 |  817 | 0.04754146 |\n",
       "\n"
      ],
      "text/plain": [
       "  ChromHMM        HMRGroup.x       TotalHMRs.x numHMRs.x ProportionHMRs.x\n",
       "1 Heterochromatin B cell Clustered 5974        1227      0.20539002      \n",
       "2 Insulator       B cell Clustered 5974         574      0.09608303      \n",
       "3 Repressed       B cell Clustered 5974         920      0.15400067      \n",
       "4 StrongEnhancer  B cell Clustered 5974        1824      0.30532307      \n",
       "5 WeakEnhancer    B cell Clustered 5974        1410      0.23602277      \n",
       "6 WeakTx          B cell Clustered 5974         400      0.06695681      \n",
       "  HMRGroup.y         TotalHMRs.y numHMRs.y ProportionHMRs.y\n",
       "1 B cell Unclustered 17185       6017      0.35013093      \n",
       "2 B cell Unclustered 17185       3424      0.19924353      \n",
       "3 B cell Unclustered 17185       1584      0.09217341      \n",
       "4 B cell Unclustered 17185       3334      0.19400640      \n",
       "5 B cell Unclustered 17185       4261      0.24794879      \n",
       "6 B cell Unclustered 17185        817      0.04754146      "
      ]
     },
     "metadata": {},
     "output_type": "display_data"
    }
   ],
   "source": [
    "df_frac_cl <- df_frac[1:6,]\n",
    "df_frac_un <- df_frac[7:12,]\n",
    "df_frac_wide <- merge(df_frac_cl, df_frac_un, by = \"ChromHMM\")\n",
    "df_frac_wide"
   ]
  },
  {
   "cell_type": "code",
   "execution_count": 55,
   "id": "d3627392",
   "metadata": {},
   "outputs": [
    {
     "data": {
      "text/html": [
       "<table class=\"dataframe\">\n",
       "<caption>A rowwise_df: 6 × 11</caption>\n",
       "<thead>\n",
       "\t<tr><th scope=col>ChromHMM</th><th scope=col>HMRGroup.x</th><th scope=col>TotalHMRs.x</th><th scope=col>numHMRs.x</th><th scope=col>ProportionHMRs.x</th><th scope=col>HMRGroup.y</th><th scope=col>TotalHMRs.y</th><th scope=col>numHMRs.y</th><th scope=col>ProportionHMRs.y</th><th scope=col>propTestP</th><th scope=col>propTestStat</th></tr>\n",
       "\t<tr><th scope=col>&lt;fct&gt;</th><th scope=col>&lt;chr&gt;</th><th scope=col>&lt;dbl&gt;</th><th scope=col>&lt;int&gt;</th><th scope=col>&lt;dbl&gt;</th><th scope=col>&lt;chr&gt;</th><th scope=col>&lt;dbl&gt;</th><th scope=col>&lt;int&gt;</th><th scope=col>&lt;dbl&gt;</th><th scope=col>&lt;dbl&gt;</th><th scope=col>&lt;dbl&gt;</th></tr>\n",
       "</thead>\n",
       "<tbody>\n",
       "\t<tr><td>Heterochromatin</td><td>B cell Clustered</td><td>5974</td><td>1227</td><td>0.20539002</td><td>B cell Unclustered</td><td>17185</td><td>6017</td><td>0.35013093</td><td>8.158921e-96</td><td>431.374944</td></tr>\n",
       "\t<tr><td>Insulator      </td><td>B cell Clustered</td><td>5974</td><td> 574</td><td>0.09608303</td><td>B cell Unclustered</td><td>17185</td><td>3424</td><td>0.19924353</td><td>1.191274e-73</td><td>329.571976</td></tr>\n",
       "\t<tr><td>Repressed      </td><td>B cell Clustered</td><td>5974</td><td> 920</td><td>0.15400067</td><td>B cell Unclustered</td><td>17185</td><td>1584</td><td>0.09217341</td><td>5.736333e-40</td><td>175.085048</td></tr>\n",
       "\t<tr><td>StrongEnhancer </td><td>B cell Clustered</td><td>5974</td><td>1824</td><td>0.30532307</td><td>B cell Unclustered</td><td>17185</td><td>3334</td><td>0.19400640</td><td>7.725492e-71</td><td>316.662347</td></tr>\n",
       "\t<tr><td>WeakEnhancer   </td><td>B cell Clustered</td><td>5974</td><td>1410</td><td>0.23602277</td><td>B cell Unclustered</td><td>17185</td><td>4261</td><td>0.24794879</td><td>6.738538e-02</td><td>  3.345589</td></tr>\n",
       "\t<tr><td>WeakTx         </td><td>B cell Clustered</td><td>5974</td><td> 400</td><td>0.06695681</td><td>B cell Unclustered</td><td>17185</td><td> 817</td><td>0.04754146</td><td>8.427047e-09</td><td> 33.173985</td></tr>\n",
       "</tbody>\n",
       "</table>\n"
      ],
      "text/latex": [
       "A rowwise\\_df: 6 × 11\n",
       "\\begin{tabular}{lllllllllll}\n",
       " ChromHMM & HMRGroup.x & TotalHMRs.x & numHMRs.x & ProportionHMRs.x & HMRGroup.y & TotalHMRs.y & numHMRs.y & ProportionHMRs.y & propTestP & propTestStat\\\\\n",
       " <fct> & <chr> & <dbl> & <int> & <dbl> & <chr> & <dbl> & <int> & <dbl> & <dbl> & <dbl>\\\\\n",
       "\\hline\n",
       "\t Heterochromatin & B cell Clustered & 5974 & 1227 & 0.20539002 & B cell Unclustered & 17185 & 6017 & 0.35013093 & 8.158921e-96 & 431.374944\\\\\n",
       "\t Insulator       & B cell Clustered & 5974 &  574 & 0.09608303 & B cell Unclustered & 17185 & 3424 & 0.19924353 & 1.191274e-73 & 329.571976\\\\\n",
       "\t Repressed       & B cell Clustered & 5974 &  920 & 0.15400067 & B cell Unclustered & 17185 & 1584 & 0.09217341 & 5.736333e-40 & 175.085048\\\\\n",
       "\t StrongEnhancer  & B cell Clustered & 5974 & 1824 & 0.30532307 & B cell Unclustered & 17185 & 3334 & 0.19400640 & 7.725492e-71 & 316.662347\\\\\n",
       "\t WeakEnhancer    & B cell Clustered & 5974 & 1410 & 0.23602277 & B cell Unclustered & 17185 & 4261 & 0.24794879 & 6.738538e-02 &   3.345589\\\\\n",
       "\t WeakTx          & B cell Clustered & 5974 &  400 & 0.06695681 & B cell Unclustered & 17185 &  817 & 0.04754146 & 8.427047e-09 &  33.173985\\\\\n",
       "\\end{tabular}\n"
      ],
      "text/markdown": [
       "\n",
       "A rowwise_df: 6 × 11\n",
       "\n",
       "| ChromHMM &lt;fct&gt; | HMRGroup.x &lt;chr&gt; | TotalHMRs.x &lt;dbl&gt; | numHMRs.x &lt;int&gt; | ProportionHMRs.x &lt;dbl&gt; | HMRGroup.y &lt;chr&gt; | TotalHMRs.y &lt;dbl&gt; | numHMRs.y &lt;int&gt; | ProportionHMRs.y &lt;dbl&gt; | propTestP &lt;dbl&gt; | propTestStat &lt;dbl&gt; |\n",
       "|---|---|---|---|---|---|---|---|---|---|---|\n",
       "| Heterochromatin | B cell Clustered | 5974 | 1227 | 0.20539002 | B cell Unclustered | 17185 | 6017 | 0.35013093 | 8.158921e-96 | 431.374944 |\n",
       "| Insulator       | B cell Clustered | 5974 |  574 | 0.09608303 | B cell Unclustered | 17185 | 3424 | 0.19924353 | 1.191274e-73 | 329.571976 |\n",
       "| Repressed       | B cell Clustered | 5974 |  920 | 0.15400067 | B cell Unclustered | 17185 | 1584 | 0.09217341 | 5.736333e-40 | 175.085048 |\n",
       "| StrongEnhancer  | B cell Clustered | 5974 | 1824 | 0.30532307 | B cell Unclustered | 17185 | 3334 | 0.19400640 | 7.725492e-71 | 316.662347 |\n",
       "| WeakEnhancer    | B cell Clustered | 5974 | 1410 | 0.23602277 | B cell Unclustered | 17185 | 4261 | 0.24794879 | 6.738538e-02 |   3.345589 |\n",
       "| WeakTx          | B cell Clustered | 5974 |  400 | 0.06695681 | B cell Unclustered | 17185 |  817 | 0.04754146 | 8.427047e-09 |  33.173985 |\n",
       "\n"
      ],
      "text/plain": [
       "  ChromHMM        HMRGroup.x       TotalHMRs.x numHMRs.x ProportionHMRs.x\n",
       "1 Heterochromatin B cell Clustered 5974        1227      0.20539002      \n",
       "2 Insulator       B cell Clustered 5974         574      0.09608303      \n",
       "3 Repressed       B cell Clustered 5974         920      0.15400067      \n",
       "4 StrongEnhancer  B cell Clustered 5974        1824      0.30532307      \n",
       "5 WeakEnhancer    B cell Clustered 5974        1410      0.23602277      \n",
       "6 WeakTx          B cell Clustered 5974         400      0.06695681      \n",
       "  HMRGroup.y         TotalHMRs.y numHMRs.y ProportionHMRs.y propTestP   \n",
       "1 B cell Unclustered 17185       6017      0.35013093       8.158921e-96\n",
       "2 B cell Unclustered 17185       3424      0.19924353       1.191274e-73\n",
       "3 B cell Unclustered 17185       1584      0.09217341       5.736333e-40\n",
       "4 B cell Unclustered 17185       3334      0.19400640       7.725492e-71\n",
       "5 B cell Unclustered 17185       4261      0.24794879       6.738538e-02\n",
       "6 B cell Unclustered 17185        817      0.04754146       8.427047e-09\n",
       "  propTestStat\n",
       "1 431.374944  \n",
       "2 329.571976  \n",
       "3 175.085048  \n",
       "4 316.662347  \n",
       "5   3.345589  \n",
       "6  33.173985  "
      ]
     },
     "metadata": {},
     "output_type": "display_data"
    }
   ],
   "source": [
    "# Cl vs. UnLoose\n",
    "df_frac_stats <- df_frac_wide %>% rowwise() %>% mutate(\n",
    "    propTestP = prop.test(x = c(numHMRs.x, numHMRs.y), n = c(5974, 17185))$p.value,\n",
    "    propTestStat = prop.test(x = c(numHMRs.x, numHMRs.y), n = c(5974, 17185))$statistic,\n",
    ")\n",
    "df_frac_stats"
   ]
  },
  {
   "cell_type": "code",
   "execution_count": 64,
   "id": "80ae08dc",
   "metadata": {},
   "outputs": [
    {
     "data": {
      "text/plain": [
       "\n",
       "\t2-sample test for equality of proportions with continuity correction\n",
       "\n",
       "data:  c(400, 817) out of c(5974, 17185)\n",
       "X-squared = 33.174, df = 1, p-value = 8.427e-09\n",
       "alternative hypothesis: two.sided\n",
       "95 percent confidence interval:\n",
       " 0.01221071 0.02661999\n",
       "sample estimates:\n",
       "    prop 1     prop 2 \n",
       "0.06695681 0.04754146 \n"
      ]
     },
     "metadata": {},
     "output_type": "display_data"
    }
   ],
   "source": [
    "prop.test(c(400, 817), c(5974, 17185))"
   ]
  },
  {
   "cell_type": "code",
   "execution_count": 57,
   "id": "b840dea7",
   "metadata": {
    "scrolled": true
   },
   "outputs": [
    {
     "data": {
      "text/plain": [
       "\n",
       "\t2-sample test for equality of proportions with continuity correction\n",
       "\n",
       "data:  c(1824, 3334) out of c(5974, 17185)\n",
       "X-squared = 316.66, df = 1, p-value < 2.2e-16\n",
       "alternative hypothesis: two.sided\n",
       "95 percent confidence interval:\n",
       " 0.09811415 0.12451918\n",
       "sample estimates:\n",
       "   prop 1    prop 2 \n",
       "0.3053231 0.1940064 \n"
      ]
     },
     "metadata": {},
     "output_type": "display_data"
    },
    {
     "data": {
      "text/plain": [
       "\n",
       "\t2-sample test for equality of proportions with continuity correction\n",
       "\n",
       "data:  c(920, 1584) out of c(5974, 17185)\n",
       "X-squared = 175.09, df = 1, p-value < 2.2e-16\n",
       "alternative hypothesis: two.sided\n",
       "95 percent confidence interval:\n",
       " 0.05159115 0.07206338\n",
       "sample estimates:\n",
       "    prop 1     prop 2 \n",
       "0.15400067 0.09217341 \n"
      ]
     },
     "metadata": {},
     "output_type": "display_data"
    }
   ],
   "source": [
    "# Hand check\n",
    "# Strong Enh\n",
    "prop.test(c(1824, 3334), c(5974, 17185))\n",
    "\n",
    "# Repressed\n",
    "prop.test(c(920, 1584), c(5974, 17185))"
   ]
  },
  {
   "cell_type": "markdown",
   "id": "e2b0fb9b",
   "metadata": {},
   "source": [
    "## Plot with stats"
   ]
  },
  {
   "cell_type": "code",
   "execution_count": 62,
   "id": "a04be082",
   "metadata": {},
   "outputs": [
    {
     "data": {
      "image/png": "[encoded data removed]",
      "text/plain": [
       "plot without title"
      ]
     },
     "metadata": {
      "image/png": {
       "height": 420,
       "width": 420
      }
     },
     "output_type": "display_data"
    }
   ],
   "source": [
    "p_chrom_stats <- df_frac %>%\n",
    "ggplot(aes(x = ChromHMM, y = ProportionHMRs)) +\n",
    "geom_bar(aes(fill = HMRGroup), width = .7, stat = \"identity\",  position = position_dodge(width=.8)) +\n",
    "theme_minimal() +\n",
    "theme(aspect.ratio = .5) +\n",
    "scale_fill_manual(values=c(\"#B0DAB6\", \"#3990C0\")) +\n",
    "geom_text(data = df_frac_stats, aes(x = ChromHMM, y = .4, label = format(propTestP, digits=3)))\n",
    "\n",
    "\n",
    "p_chrom_stats"
   ]
  },
  {
   "cell_type": "code",
   "execution_count": 63,
   "id": "0d518198",
   "metadata": {},
   "outputs": [
    {
     "data": {
      "text/html": [
       "<strong>png:</strong> 2"
      ],
      "text/latex": [
       "\\textbf{png:} 2"
      ],
      "text/markdown": [
       "**png:** 2"
      ],
      "text/plain": [
       "png \n",
       "  2 "
      ]
     },
     "metadata": {},
     "output_type": "display_data"
    }
   ],
   "source": [
    "pdf(\"/data/hodges_lab/Tim/ChromHMM.withStats.pdf\")\n",
    "\n",
    "p_chrom_stats\n",
    "\n",
    "dev.off()"
   ]
  },
  {
   "cell_type": "code",
   "execution_count": null,
   "id": "42696624",
   "metadata": {},
   "outputs": [],
   "source": []
  },
  {
   "cell_type": "code",
   "execution_count": null,
   "id": "d47f2535",
   "metadata": {},
   "outputs": [],
   "source": []
  },
  {
   "cell_type": "code",
   "execution_count": null,
   "id": "f9df3ce5",
   "metadata": {},
   "outputs": [],
   "source": []
  },
  {
   "cell_type": "code",
   "execution_count": null,
   "id": "0f52322a",
   "metadata": {},
   "outputs": [],
   "source": []
  }
 ],
 "metadata": {
  "kernelspec": {
   "display_name": "R",
   "language": "R",
   "name": "ir"
  },
  "language_info": {
   "codemirror_mode": "r",
   "file_extension": ".r",
   "mimetype": "text/x-r-source",
   "name": "R",
   "pygments_lexer": "r",
   "version": "4.1.2"
  },
  "toc": {
   "base_numbering": 1,
   "nav_menu": {},
   "number_sections": true,
   "sideBar": true,
   "skip_h1_title": false,
   "title_cell": "Table of Contents",
   "title_sidebar": "Contents",
   "toc_cell": false,
   "toc_position": {},
   "toc_section_display": true,
   "toc_window_display": true
  }
 },
 "nbformat": 4,
 "nbformat_minor": 5
}

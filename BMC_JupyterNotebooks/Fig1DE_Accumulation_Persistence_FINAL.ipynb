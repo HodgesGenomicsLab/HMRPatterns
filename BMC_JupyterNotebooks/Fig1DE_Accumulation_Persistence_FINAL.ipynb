{
 "cells": [
  {
   "cell_type": "markdown",
   "id": "7dd81ee5",
   "metadata": {},
   "source": [
    "# Accumulation"
   ]
  },
  {
   "cell_type": "markdown",
   "id": "cfd0f68e",
   "metadata": {},
   "source": [
    "## HMR files to use:"
   ]
  },
  {
   "cell_type": "code",
   "execution_count": 1,
   "id": "3f20bdbb",
   "metadata": {},
   "outputs": [],
   "source": [
    "HMR_DIR=/data/hodges_lab/Tim/finalAnalyses_HMRs/hp_lineage/filtRefSeqFiles/\n",
    "\n",
    "H1_FILE=${HMR_DIR}H1ESC.minsize50.filtforrefseqTSSexons.txt\n",
    "HSPC_FILE=${HMR_DIR}HSC.minsize50.filtforrefseqTSSexons.txt\n",
    "MACRO_FILE=${HMR_DIR}Macrophage.minsize50.filtforrefseqTSSexons.txt\n",
    "BCELL_FILE=${HMR_DIR}Bcell.minsize50.filtforrefseqTSSexons.txt"
   ]
  },
  {
   "cell_type": "markdown",
   "id": "6c2b5d7a",
   "metadata": {},
   "source": [
    "## R:"
   ]
  },
  {
   "cell_type": "markdown",
   "id": "454769aa",
   "metadata": {},
   "source": [
    "## Load libaries and files "
   ]
  },
  {
   "cell_type": "code",
   "execution_count": 1,
   "id": "14aa489f",
   "metadata": {},
   "outputs": [
    {
     "name": "stderr",
     "output_type": "stream",
     "text": [
      "── \u001b[1mAttaching packages\u001b[22m ─────────────────────────────────────── tidyverse 1.3.1 ──\n",
      "\n",
      "\u001b[32m✔\u001b[39m \u001b[34mggplot2\u001b[39m 3.3.6     \u001b[32m✔\u001b[39m \u001b[34mpurrr  \u001b[39m 1.0.1\n",
      "\u001b[32m✔\u001b[39m \u001b[34mtibble \u001b[39m 3.2.1     \u001b[32m✔\u001b[39m \u001b[34mdplyr  \u001b[39m 1.1.1\n",
      "\u001b[32m✔\u001b[39m \u001b[34mtidyr  \u001b[39m 1.3.0     \u001b[32m✔\u001b[39m \u001b[34mstringr\u001b[39m 1.5.0\n",
      "\u001b[32m✔\u001b[39m \u001b[34mreadr  \u001b[39m 2.1.2     \u001b[32m✔\u001b[39m \u001b[34mforcats\u001b[39m 0.5.1\n",
      "\n",
      "── \u001b[1mConflicts\u001b[22m ────────────────────────────────────────── tidyverse_conflicts() ──\n",
      "\u001b[31m✖\u001b[39m \u001b[34mdplyr\u001b[39m::\u001b[32mfilter()\u001b[39m masks \u001b[34mstats\u001b[39m::filter()\n",
      "\u001b[31m✖\u001b[39m \u001b[34mdplyr\u001b[39m::\u001b[32mlag()\u001b[39m    masks \u001b[34mstats\u001b[39m::lag()\n",
      "\n"
     ]
    }
   ],
   "source": [
    "library(tidyverse)\n",
    "library(ggplot2)"
   ]
  },
  {
   "cell_type": "code",
   "execution_count": 5,
   "id": "6f86bf74",
   "metadata": {
    "scrolled": true
   },
   "outputs": [
    {
     "name": "stderr",
     "output_type": "stream",
     "text": [
      "\u001b[1mRows: \u001b[22m\u001b[34m18235\u001b[39m \u001b[1mColumns: \u001b[22m\u001b[34m4\u001b[39m\n",
      "\u001b[36m──\u001b[39m \u001b[1mColumn specification\u001b[22m \u001b[36m────────────────────────────────────────────────────────\u001b[39m\n",
      "\u001b[1mDelimiter:\u001b[22m \"\\t\"\n",
      "\u001b[31mchr\u001b[39m (1): X1\n",
      "\u001b[32mdbl\u001b[39m (3): X2, X3, X4\n",
      "\n",
      "\u001b[36mℹ\u001b[39m Use `spec()` to retrieve the full column specification for this data.\n",
      "\u001b[36mℹ\u001b[39m Specify the column types or set `show_col_types = FALSE` to quiet this message.\n",
      "\u001b[1mRows: \u001b[22m\u001b[34m46056\u001b[39m \u001b[1mColumns: \u001b[22m\u001b[34m4\u001b[39m\n",
      "\u001b[36m──\u001b[39m \u001b[1mColumn specification\u001b[22m \u001b[36m────────────────────────────────────────────────────────\u001b[39m\n",
      "\u001b[1mDelimiter:\u001b[22m \"\\t\"\n",
      "\u001b[31mchr\u001b[39m (1): X1\n",
      "\u001b[32mdbl\u001b[39m (3): X2, X3, X4\n",
      "\n",
      "\u001b[36mℹ\u001b[39m Use `spec()` to retrieve the full column specification for this data.\n",
      "\u001b[36mℹ\u001b[39m Specify the column types or set `show_col_types = FALSE` to quiet this message.\n",
      "\u001b[1mRows: \u001b[22m\u001b[34m54331\u001b[39m \u001b[1mColumns: \u001b[22m\u001b[34m4\u001b[39m\n",
      "\u001b[36m──\u001b[39m \u001b[1mColumn specification\u001b[22m \u001b[36m────────────────────────────────────────────────────────\u001b[39m\n",
      "\u001b[1mDelimiter:\u001b[22m \"\\t\"\n",
      "\u001b[31mchr\u001b[39m (1): X1\n",
      "\u001b[32mdbl\u001b[39m (3): X2, X3, X4\n",
      "\n",
      "\u001b[36mℹ\u001b[39m Use `spec()` to retrieve the full column specification for this data.\n",
      "\u001b[36mℹ\u001b[39m Specify the column types or set `show_col_types = FALSE` to quiet this message.\n",
      "\u001b[1mRows: \u001b[22m\u001b[34m34070\u001b[39m \u001b[1mColumns: \u001b[22m\u001b[34m4\u001b[39m\n",
      "\u001b[36m──\u001b[39m \u001b[1mColumn specification\u001b[22m \u001b[36m────────────────────────────────────────────────────────\u001b[39m\n",
      "\u001b[1mDelimiter:\u001b[22m \"\\t\"\n",
      "\u001b[31mchr\u001b[39m (1): X1\n",
      "\u001b[32mdbl\u001b[39m (3): X2, X3, X4\n",
      "\n",
      "\u001b[36mℹ\u001b[39m Use `spec()` to retrieve the full column specification for this data.\n",
      "\u001b[36mℹ\u001b[39m Specify the column types or set `show_col_types = FALSE` to quiet this message.\n"
     ]
    }
   ],
   "source": [
    "setwd(\"/data/hodges_lab/Tim/ACCUMULATION_PERSISTENCE/\")\n",
    "\n",
    "# Load in to check numbers\n",
    "H1_FILE <- read_tsv(\"/data/hodges_lab/Tim/finalAnalyses_HMRs/hp_lineage/filtRefSeqFiles/H1ESC.minsize50.filtforrefseqTSSexons.txt\", col_names = FALSE)\n",
    "HSPC_FILE <- read_tsv(\"/data/hodges_lab/Tim/finalAnalyses_HMRs/hp_lineage/filtRefSeqFiles/HSC.minsize50.filtforrefseqTSSexons.txt\", col_names = FALSE)\n",
    "MACRO_FILE <- read_tsv(\"/data/hodges_lab/Tim/finalAnalyses_HMRs/hp_lineage/filtRefSeqFiles/Macrophage.minsize50.filtforrefseqTSSexons.txt\", col_names = FALSE)\n",
    "BCELL_FILE <- read_tsv(\"/data/hodges_lab/Tim/finalAnalyses_HMRs/hp_lineage/filtRefSeqFiles/Bcell.minsize50.filtforrefseqTSSexons.txt\", col_names = FALSE)"
   ]
  },
  {
   "cell_type": "code",
   "execution_count": 4,
   "id": "16613b32",
   "metadata": {
    "scrolled": true
   },
   "outputs": [
    {
     "data": {
      "text/html": [
       "<table class=\"dataframe\">\n",
       "<caption>A spec_tbl_df: 18235 × 4</caption>\n",
       "<thead>\n",
       "\t<tr><th scope=col>X1</th><th scope=col>X2</th><th scope=col>X3</th><th scope=col>X4</th></tr>\n",
       "\t<tr><th scope=col>&lt;chr&gt;</th><th scope=col>&lt;dbl&gt;</th><th scope=col>&lt;dbl&gt;</th><th scope=col>&lt;dbl&gt;</th></tr>\n",
       "</thead>\n",
       "<tbody>\n",
       "\t<tr><td>chr1</td><td> 564470</td><td> 566570</td><td>2100</td></tr>\n",
       "\t<tr><td>chr1</td><td> 566713</td><td> 566879</td><td> 166</td></tr>\n",
       "\t<tr><td>chr1</td><td> 567112</td><td> 567402</td><td> 290</td></tr>\n",
       "\t<tr><td>chr1</td><td> 567500</td><td> 567696</td><td> 196</td></tr>\n",
       "\t<tr><td>chr1</td><td> 567881</td><td> 568325</td><td> 444</td></tr>\n",
       "\t<tr><td>chr1</td><td> 568459</td><td> 568587</td><td> 128</td></tr>\n",
       "\t<tr><td>chr1</td><td> 568760</td><td> 570301</td><td>1541</td></tr>\n",
       "\t<tr><td>chr1</td><td> 713671</td><td> 714779</td><td>1108</td></tr>\n",
       "\t<tr><td>chr1</td><td> 724205</td><td> 724285</td><td>  80</td></tr>\n",
       "\t<tr><td>chr1</td><td> 762112</td><td> 763166</td><td>1054</td></tr>\n",
       "\t<tr><td>chr1</td><td> 804991</td><td> 805519</td><td> 528</td></tr>\n",
       "\t<tr><td>chr1</td><td> 839667</td><td> 840422</td><td> 755</td></tr>\n",
       "\t<tr><td>chr1</td><td> 840554</td><td> 841039</td><td> 485</td></tr>\n",
       "\t<tr><td>chr1</td><td> 856108</td><td> 856782</td><td> 674</td></tr>\n",
       "\t<tr><td>chr1</td><td> 869169</td><td> 870599</td><td>1430</td></tr>\n",
       "\t<tr><td>chr1</td><td> 919594</td><td> 919883</td><td> 289</td></tr>\n",
       "\t<tr><td>chr1</td><td> 959987</td><td> 960282</td><td> 295</td></tr>\n",
       "\t<tr><td>chr1</td><td> 975314</td><td> 975598</td><td> 284</td></tr>\n",
       "\t<tr><td>chr1</td><td> 994206</td><td> 995434</td><td>1228</td></tr>\n",
       "\t<tr><td>chr1</td><td> 999276</td><td> 999705</td><td> 429</td></tr>\n",
       "\t<tr><td>chr1</td><td>1003815</td><td>1004981</td><td>1166</td></tr>\n",
       "\t<tr><td>chr1</td><td>1014625</td><td>1016391</td><td>1766</td></tr>\n",
       "\t<tr><td>chr1</td><td>1057486</td><td>1057736</td><td> 250</td></tr>\n",
       "\t<tr><td>chr1</td><td>1072028</td><td>1072128</td><td> 100</td></tr>\n",
       "\t<tr><td>chr1</td><td>1072293</td><td>1072879</td><td> 586</td></tr>\n",
       "\t<tr><td>chr1</td><td>1092879</td><td>1093824</td><td> 945</td></tr>\n",
       "\t<tr><td>chr1</td><td>1097958</td><td>1098103</td><td> 145</td></tr>\n",
       "\t<tr><td>chr1</td><td>1098196</td><td>1098266</td><td>  70</td></tr>\n",
       "\t<tr><td>chr1</td><td>1099940</td><td>1100122</td><td> 182</td></tr>\n",
       "\t<tr><td>chr1</td><td>1136220</td><td>1137152</td><td> 932</td></tr>\n",
       "\t<tr><td>⋮</td><td>⋮</td><td>⋮</td><td>⋮</td></tr>\n",
       "\t<tr><td>chrY</td><td>13459015</td><td>13459246</td><td> 231</td></tr>\n",
       "\t<tr><td>chrY</td><td>13459509</td><td>13459710</td><td> 201</td></tr>\n",
       "\t<tr><td>chrY</td><td>14532627</td><td>14532736</td><td> 109</td></tr>\n",
       "\t<tr><td>chrY</td><td>14773683</td><td>14776203</td><td>2520</td></tr>\n",
       "\t<tr><td>chrY</td><td>15096889</td><td>15097364</td><td> 475</td></tr>\n",
       "\t<tr><td>chrY</td><td>15159626</td><td>15161325</td><td>1699</td></tr>\n",
       "\t<tr><td>chrY</td><td>15204706</td><td>15206001</td><td>1295</td></tr>\n",
       "\t<tr><td>chrY</td><td>15850566</td><td>15850857</td><td> 291</td></tr>\n",
       "\t<tr><td>chrY</td><td>15862493</td><td>15865433</td><td>2940</td></tr>\n",
       "\t<tr><td>chrY</td><td>15914444</td><td>15916744</td><td>2300</td></tr>\n",
       "\t<tr><td>chrY</td><td>16522205</td><td>16522840</td><td> 635</td></tr>\n",
       "\t<tr><td>chrY</td><td>17349137</td><td>17349373</td><td> 236</td></tr>\n",
       "\t<tr><td>chrY</td><td>17536464</td><td>17536884</td><td> 420</td></tr>\n",
       "\t<tr><td>chrY</td><td>17622039</td><td>17623485</td><td>1446</td></tr>\n",
       "\t<tr><td>chrY</td><td>18248404</td><td>18249077</td><td> 673</td></tr>\n",
       "\t<tr><td>chrY</td><td>19189477</td><td>19189699</td><td> 222</td></tr>\n",
       "\t<tr><td>chrY</td><td>20831726</td><td>20831874</td><td> 148</td></tr>\n",
       "\t<tr><td>chrY</td><td>21154603</td><td>21154667</td><td>  64</td></tr>\n",
       "\t<tr><td>chrY</td><td>21196452</td><td>21197164</td><td> 712</td></tr>\n",
       "\t<tr><td>chrY</td><td>21203891</td><td>21205228</td><td>1337</td></tr>\n",
       "\t<tr><td>chrY</td><td>21237404</td><td>21238201</td><td> 797</td></tr>\n",
       "\t<tr><td>chrY</td><td>21238566</td><td>21238760</td><td> 194</td></tr>\n",
       "\t<tr><td>chrY</td><td>21540547</td><td>21540836</td><td> 289</td></tr>\n",
       "\t<tr><td>chrY</td><td>21589133</td><td>21590467</td><td>1334</td></tr>\n",
       "\t<tr><td>chrY</td><td>21728429</td><td>21730508</td><td>2079</td></tr>\n",
       "\t<tr><td>chrY</td><td>23454052</td><td>23455110</td><td>1058</td></tr>\n",
       "\t<tr><td>chrY</td><td>26921949</td><td>26922256</td><td> 307</td></tr>\n",
       "\t<tr><td>chrY</td><td>58977826</td><td>58979287</td><td>1461</td></tr>\n",
       "\t<tr><td>chrY</td><td>58981952</td><td>58982341</td><td> 389</td></tr>\n",
       "\t<tr><td>chrY</td><td>58987083</td><td>58987887</td><td> 804</td></tr>\n",
       "</tbody>\n",
       "</table>\n"
      ],
      "text/latex": [
       "A spec\\_tbl\\_df: 18235 × 4\n",
       "\\begin{tabular}{llll}\n",
       " X1 & X2 & X3 & X4\\\\\n",
       " <chr> & <dbl> & <dbl> & <dbl>\\\\\n",
       "\\hline\n",
       "\t chr1 &  564470 &  566570 & 2100\\\\\n",
       "\t chr1 &  566713 &  566879 &  166\\\\\n",
       "\t chr1 &  567112 &  567402 &  290\\\\\n",
       "\t chr1 &  567500 &  567696 &  196\\\\\n",
       "\t chr1 &  567881 &  568325 &  444\\\\\n",
       "\t chr1 &  568459 &  568587 &  128\\\\\n",
       "\t chr1 &  568760 &  570301 & 1541\\\\\n",
       "\t chr1 &  713671 &  714779 & 1108\\\\\n",
       "\t chr1 &  724205 &  724285 &   80\\\\\n",
       "\t chr1 &  762112 &  763166 & 1054\\\\\n",
       "\t chr1 &  804991 &  805519 &  528\\\\\n",
       "\t chr1 &  839667 &  840422 &  755\\\\\n",
       "\t chr1 &  840554 &  841039 &  485\\\\\n",
       "\t chr1 &  856108 &  856782 &  674\\\\\n",
       "\t chr1 &  869169 &  870599 & 1430\\\\\n",
       "\t chr1 &  919594 &  919883 &  289\\\\\n",
       "\t chr1 &  959987 &  960282 &  295\\\\\n",
       "\t chr1 &  975314 &  975598 &  284\\\\\n",
       "\t chr1 &  994206 &  995434 & 1228\\\\\n",
       "\t chr1 &  999276 &  999705 &  429\\\\\n",
       "\t chr1 & 1003815 & 1004981 & 1166\\\\\n",
       "\t chr1 & 1014625 & 1016391 & 1766\\\\\n",
       "\t chr1 & 1057486 & 1057736 &  250\\\\\n",
       "\t chr1 & 1072028 & 1072128 &  100\\\\\n",
       "\t chr1 & 1072293 & 1072879 &  586\\\\\n",
       "\t chr1 & 1092879 & 1093824 &  945\\\\\n",
       "\t chr1 & 1097958 & 1098103 &  145\\\\\n",
       "\t chr1 & 1098196 & 1098266 &   70\\\\\n",
       "\t chr1 & 1099940 & 1100122 &  182\\\\\n",
       "\t chr1 & 1136220 & 1137152 &  932\\\\\n",
       "\t ⋮ & ⋮ & ⋮ & ⋮\\\\\n",
       "\t chrY & 13459015 & 13459246 &  231\\\\\n",
       "\t chrY & 13459509 & 13459710 &  201\\\\\n",
       "\t chrY & 14532627 & 14532736 &  109\\\\\n",
       "\t chrY & 14773683 & 14776203 & 2520\\\\\n",
       "\t chrY & 15096889 & 15097364 &  475\\\\\n",
       "\t chrY & 15159626 & 15161325 & 1699\\\\\n",
       "\t chrY & 15204706 & 15206001 & 1295\\\\\n",
       "\t chrY & 15850566 & 15850857 &  291\\\\\n",
       "\t chrY & 15862493 & 15865433 & 2940\\\\\n",
       "\t chrY & 15914444 & 15916744 & 2300\\\\\n",
       "\t chrY & 16522205 & 16522840 &  635\\\\\n",
       "\t chrY & 17349137 & 17349373 &  236\\\\\n",
       "\t chrY & 17536464 & 17536884 &  420\\\\\n",
       "\t chrY & 17622039 & 17623485 & 1446\\\\\n",
       "\t chrY & 18248404 & 18249077 &  673\\\\\n",
       "\t chrY & 19189477 & 19189699 &  222\\\\\n",
       "\t chrY & 20831726 & 20831874 &  148\\\\\n",
       "\t chrY & 21154603 & 21154667 &   64\\\\\n",
       "\t chrY & 21196452 & 21197164 &  712\\\\\n",
       "\t chrY & 21203891 & 21205228 & 1337\\\\\n",
       "\t chrY & 21237404 & 21238201 &  797\\\\\n",
       "\t chrY & 21238566 & 21238760 &  194\\\\\n",
       "\t chrY & 21540547 & 21540836 &  289\\\\\n",
       "\t chrY & 21589133 & 21590467 & 1334\\\\\n",
       "\t chrY & 21728429 & 21730508 & 2079\\\\\n",
       "\t chrY & 23454052 & 23455110 & 1058\\\\\n",
       "\t chrY & 26921949 & 26922256 &  307\\\\\n",
       "\t chrY & 58977826 & 58979287 & 1461\\\\\n",
       "\t chrY & 58981952 & 58982341 &  389\\\\\n",
       "\t chrY & 58987083 & 58987887 &  804\\\\\n",
       "\\end{tabular}\n"
      ],
      "text/markdown": [
       "\n",
       "A spec_tbl_df: 18235 × 4\n",
       "\n",
       "| X1 &lt;chr&gt; | X2 &lt;dbl&gt; | X3 &lt;dbl&gt; | X4 &lt;dbl&gt; |\n",
       "|---|---|---|---|\n",
       "| chr1 |  564470 |  566570 | 2100 |\n",
       "| chr1 |  566713 |  566879 |  166 |\n",
       "| chr1 |  567112 |  567402 |  290 |\n",
       "| chr1 |  567500 |  567696 |  196 |\n",
       "| chr1 |  567881 |  568325 |  444 |\n",
       "| chr1 |  568459 |  568587 |  128 |\n",
       "| chr1 |  568760 |  570301 | 1541 |\n",
       "| chr1 |  713671 |  714779 | 1108 |\n",
       "| chr1 |  724205 |  724285 |   80 |\n",
       "| chr1 |  762112 |  763166 | 1054 |\n",
       "| chr1 |  804991 |  805519 |  528 |\n",
       "| chr1 |  839667 |  840422 |  755 |\n",
       "| chr1 |  840554 |  841039 |  485 |\n",
       "| chr1 |  856108 |  856782 |  674 |\n",
       "| chr1 |  869169 |  870599 | 1430 |\n",
       "| chr1 |  919594 |  919883 |  289 |\n",
       "| chr1 |  959987 |  960282 |  295 |\n",
       "| chr1 |  975314 |  975598 |  284 |\n",
       "| chr1 |  994206 |  995434 | 1228 |\n",
       "| chr1 |  999276 |  999705 |  429 |\n",
       "| chr1 | 1003815 | 1004981 | 1166 |\n",
       "| chr1 | 1014625 | 1016391 | 1766 |\n",
       "| chr1 | 1057486 | 1057736 |  250 |\n",
       "| chr1 | 1072028 | 1072128 |  100 |\n",
       "| chr1 | 1072293 | 1072879 |  586 |\n",
       "| chr1 | 1092879 | 1093824 |  945 |\n",
       "| chr1 | 1097958 | 1098103 |  145 |\n",
       "| chr1 | 1098196 | 1098266 |   70 |\n",
       "| chr1 | 1099940 | 1100122 |  182 |\n",
       "| chr1 | 1136220 | 1137152 |  932 |\n",
       "| ⋮ | ⋮ | ⋮ | ⋮ |\n",
       "| chrY | 13459015 | 13459246 |  231 |\n",
       "| chrY | 13459509 | 13459710 |  201 |\n",
       "| chrY | 14532627 | 14532736 |  109 |\n",
       "| chrY | 14773683 | 14776203 | 2520 |\n",
       "| chrY | 15096889 | 15097364 |  475 |\n",
       "| chrY | 15159626 | 15161325 | 1699 |\n",
       "| chrY | 15204706 | 15206001 | 1295 |\n",
       "| chrY | 15850566 | 15850857 |  291 |\n",
       "| chrY | 15862493 | 15865433 | 2940 |\n",
       "| chrY | 15914444 | 15916744 | 2300 |\n",
       "| chrY | 16522205 | 16522840 |  635 |\n",
       "| chrY | 17349137 | 17349373 |  236 |\n",
       "| chrY | 17536464 | 17536884 |  420 |\n",
       "| chrY | 17622039 | 17623485 | 1446 |\n",
       "| chrY | 18248404 | 18249077 |  673 |\n",
       "| chrY | 19189477 | 19189699 |  222 |\n",
       "| chrY | 20831726 | 20831874 |  148 |\n",
       "| chrY | 21154603 | 21154667 |   64 |\n",
       "| chrY | 21196452 | 21197164 |  712 |\n",
       "| chrY | 21203891 | 21205228 | 1337 |\n",
       "| chrY | 21237404 | 21238201 |  797 |\n",
       "| chrY | 21238566 | 21238760 |  194 |\n",
       "| chrY | 21540547 | 21540836 |  289 |\n",
       "| chrY | 21589133 | 21590467 | 1334 |\n",
       "| chrY | 21728429 | 21730508 | 2079 |\n",
       "| chrY | 23454052 | 23455110 | 1058 |\n",
       "| chrY | 26921949 | 26922256 |  307 |\n",
       "| chrY | 58977826 | 58979287 | 1461 |\n",
       "| chrY | 58981952 | 58982341 |  389 |\n",
       "| chrY | 58987083 | 58987887 |  804 |\n",
       "\n"
      ],
      "text/plain": [
       "      X1   X2       X3       X4  \n",
       "1     chr1  564470   566570  2100\n",
       "2     chr1  566713   566879   166\n",
       "3     chr1  567112   567402   290\n",
       "4     chr1  567500   567696   196\n",
       "5     chr1  567881   568325   444\n",
       "6     chr1  568459   568587   128\n",
       "7     chr1  568760   570301  1541\n",
       "8     chr1  713671   714779  1108\n",
       "9     chr1  724205   724285    80\n",
       "10    chr1  762112   763166  1054\n",
       "11    chr1  804991   805519   528\n",
       "12    chr1  839667   840422   755\n",
       "13    chr1  840554   841039   485\n",
       "14    chr1  856108   856782   674\n",
       "15    chr1  869169   870599  1430\n",
       "16    chr1  919594   919883   289\n",
       "17    chr1  959987   960282   295\n",
       "18    chr1  975314   975598   284\n",
       "19    chr1  994206   995434  1228\n",
       "20    chr1  999276   999705   429\n",
       "21    chr1 1003815  1004981  1166\n",
       "22    chr1 1014625  1016391  1766\n",
       "23    chr1 1057486  1057736   250\n",
       "24    chr1 1072028  1072128   100\n",
       "25    chr1 1072293  1072879   586\n",
       "26    chr1 1092879  1093824   945\n",
       "27    chr1 1097958  1098103   145\n",
       "28    chr1 1098196  1098266    70\n",
       "29    chr1 1099940  1100122   182\n",
       "30    chr1 1136220  1137152   932\n",
       "⋮     ⋮    ⋮        ⋮        ⋮   \n",
       "18206 chrY 13459015 13459246  231\n",
       "18207 chrY 13459509 13459710  201\n",
       "18208 chrY 14532627 14532736  109\n",
       "18209 chrY 14773683 14776203 2520\n",
       "18210 chrY 15096889 15097364  475\n",
       "18211 chrY 15159626 15161325 1699\n",
       "18212 chrY 15204706 15206001 1295\n",
       "18213 chrY 15850566 15850857  291\n",
       "18214 chrY 15862493 15865433 2940\n",
       "18215 chrY 15914444 15916744 2300\n",
       "18216 chrY 16522205 16522840  635\n",
       "18217 chrY 17349137 17349373  236\n",
       "18218 chrY 17536464 17536884  420\n",
       "18219 chrY 17622039 17623485 1446\n",
       "18220 chrY 18248404 18249077  673\n",
       "18221 chrY 19189477 19189699  222\n",
       "18222 chrY 20831726 20831874  148\n",
       "18223 chrY 21154603 21154667   64\n",
       "18224 chrY 21196452 21197164  712\n",
       "18225 chrY 21203891 21205228 1337\n",
       "18226 chrY 21237404 21238201  797\n",
       "18227 chrY 21238566 21238760  194\n",
       "18228 chrY 21540547 21540836  289\n",
       "18229 chrY 21589133 21590467 1334\n",
       "18230 chrY 21728429 21730508 2079\n",
       "18231 chrY 23454052 23455110 1058\n",
       "18232 chrY 26921949 26922256  307\n",
       "18233 chrY 58977826 58979287 1461\n",
       "18234 chrY 58981952 58982341  389\n",
       "18235 chrY 58987083 58987887  804"
      ]
     },
     "metadata": {},
     "output_type": "display_data"
    }
   ],
   "source": [
    "H1_FILE"
   ]
  },
  {
   "cell_type": "markdown",
   "id": "91c2397f",
   "metadata": {},
   "source": [
    "## Create dataframe for plotting accumulation"
   ]
  },
  {
   "cell_type": "code",
   "execution_count": 14,
   "id": "443d67cd",
   "metadata": {},
   "outputs": [
    {
     "data": {
      "text/html": [
       "<table class=\"dataframe\">\n",
       "<caption>A tibble: 4 × 3</caption>\n",
       "<thead>\n",
       "\t<tr><th scope=col>Celltype</th><th scope=col>Stage</th><th scope=col>Count</th></tr>\n",
       "\t<tr><th scope=col>&lt;fct&gt;</th><th scope=col>&lt;fct&gt;</th><th scope=col>&lt;dbl&gt;</th></tr>\n",
       "</thead>\n",
       "<tbody>\n",
       "\t<tr><td>H1 ESC    </td><td>H1ESC         </td><td>18235</td></tr>\n",
       "\t<tr><td>HSPC      </td><td>HSPC          </td><td>46056</td></tr>\n",
       "\t<tr><td>Macrophage</td><td>Differentiated</td><td>54331</td></tr>\n",
       "\t<tr><td>B cell    </td><td>Differentiated</td><td>34070</td></tr>\n",
       "</tbody>\n",
       "</table>\n"
      ],
      "text/latex": [
       "A tibble: 4 × 3\n",
       "\\begin{tabular}{lll}\n",
       " Celltype & Stage & Count\\\\\n",
       " <fct> & <fct> & <dbl>\\\\\n",
       "\\hline\n",
       "\t H1 ESC     & H1ESC          & 18235\\\\\n",
       "\t HSPC       & HSPC           & 46056\\\\\n",
       "\t Macrophage & Differentiated & 54331\\\\\n",
       "\t B cell     & Differentiated & 34070\\\\\n",
       "\\end{tabular}\n"
      ],
      "text/markdown": [
       "\n",
       "A tibble: 4 × 3\n",
       "\n",
       "| Celltype &lt;fct&gt; | Stage &lt;fct&gt; | Count &lt;dbl&gt; |\n",
       "|---|---|---|\n",
       "| H1 ESC     | H1ESC          | 18235 |\n",
       "| HSPC       | HSPC           | 46056 |\n",
       "| Macrophage | Differentiated | 54331 |\n",
       "| B cell     | Differentiated | 34070 |\n",
       "\n"
      ],
      "text/plain": [
       "  Celltype   Stage          Count\n",
       "1 H1 ESC     H1ESC          18235\n",
       "2 HSPC       HSPC           46056\n",
       "3 Macrophage Differentiated 54331\n",
       "4 B cell     Differentiated 34070"
      ]
     },
     "metadata": {},
     "output_type": "display_data"
    }
   ],
   "source": [
    "df_acc <- tibble(\n",
    "    Celltype = c(\"H1 ESC\", \"HSPC\", \"Macrophage\", \"B cell\"),\n",
    "    Stage = c(\"H1ESC\",\"HSPC\",\"Differentiated\",\"Differentiated\"),\n",
    "    Count = c(18235, 46056, 54331, 34070)\n",
    ")\n",
    "\n",
    "df_acc$Celltype <- factor(df_acc$Celltype, levels = c(\"H1 ESC\", \"HSPC\", \"Macrophage\", \"B cell\"))\n",
    "df_acc$Stage <- factor(df_acc$Stage, levels = c(\"H1ESC\",\"HSPC\",\"Differentiated\"))\n",
    "\n",
    "df_acc"
   ]
  },
  {
   "cell_type": "markdown",
   "id": "dfebc344",
   "metadata": {},
   "source": [
    "## Plot"
   ]
  },
  {
   "cell_type": "code",
   "execution_count": 26,
   "id": "bffeff58",
   "metadata": {},
   "outputs": [
    {
     "data": {
      "text/html": [
       "<strong>png:</strong> 2"
      ],
      "text/latex": [
       "\\textbf{png:} 2"
      ],
      "text/markdown": [
       "**png:** 2"
      ],
      "text/plain": [
       "png \n",
       "  2 "
      ]
     },
     "metadata": {},
     "output_type": "display_data"
    },
    {
     "data": {
      "image/png": "[encoded data removed]",
      "text/plain": [
       "plot without title"
      ]
     },
     "metadata": {
      "image/png": {
       "height": 420,
       "width": 420
      }
     },
     "output_type": "display_data"
    }
   ],
   "source": [
    "pdf(\"Accumulation.byStage.plot.pdf\")\n",
    "\n",
    "p_a1 <- ggplot(df_acc, aes(x = Stage, y = Count)) +\n",
    "    geom_bar(aes(fill = Celltype), stat = \"identity\", position = position_dodge2(width = 0.9, preserve = \"single\"), width = .75) +\n",
    "    theme_classic() +\n",
    "    theme(aspect.ratio = .5)\n",
    "p_a1\n",
    "\n",
    "dev.off()\n",
    "\n",
    "p_a1"
   ]
  },
  {
   "cell_type": "code",
   "execution_count": 21,
   "id": "9161db10",
   "metadata": {},
   "outputs": [
    {
     "data": {
      "text/html": [
       "<strong>png:</strong> 2"
      ],
      "text/latex": [
       "\\textbf{png:} 2"
      ],
      "text/markdown": [
       "**png:** 2"
      ],
      "text/plain": [
       "png \n",
       "  2 "
      ]
     },
     "metadata": {},
     "output_type": "display_data"
    },
    {
     "data": {
      "image/png": "[encoded data removed]",
      "text/plain": [
       "plot without title"
      ]
     },
     "metadata": {
      "image/png": {
       "height": 420,
       "width": 420
      }
     },
     "output_type": "display_data"
    }
   ],
   "source": [
    "pdf(\"Accumulation.plot.pdf\")\n",
    "\n",
    "p_a <- ggplot(df_acc, aes(x = Celltype, y = Count)) +\n",
    "    geom_bar(aes(fill = Celltype), stat = \"identity\", position = \"dodge\", width = .5) +\n",
    "    theme_classic() +\n",
    "    theme(aspect.ratio = .5)\n",
    "p_a\n",
    "\n",
    "dev.off()\n",
    "\n",
    "p_a"
   ]
  },
  {
   "cell_type": "markdown",
   "id": "fa73b5a9",
   "metadata": {},
   "source": [
    "# Persistence"
   ]
  },
  {
   "cell_type": "markdown",
   "id": "c268fe8f",
   "metadata": {},
   "source": [
    "## Get numbers: H1 ESC"
   ]
  },
  {
   "cell_type": "code",
   "execution_count": 4,
   "id": "920f35e9",
   "metadata": {},
   "outputs": [],
   "source": [
    "HMR_DIR=/data/hodges_lab/Tim/finalAnalyses_HMRs/hp_lineage/filtRefSeqFiles/"
   ]
  },
  {
   "cell_type": "code",
   "execution_count": 6,
   "id": "b7fd4ba4",
   "metadata": {},
   "outputs": [
    {
     "name": "stdout",
     "output_type": "stream",
     "text": [
      "18235 /data/hodges_lab/Tim/finalAnalyses_HMRs/hp_lineage/filtRefSeqFiles/H1ESC.minsize50.filtforrefseqTSSexons.txt\n"
     ]
    }
   ],
   "source": [
    "## H1ESC starting\n",
    "wc -l ${HMR_DIR}H1ESC.minsize50.filtforrefseqTSSexons.txt"
   ]
  },
  {
   "cell_type": "code",
   "execution_count": 1,
   "id": "21dce464",
   "metadata": {},
   "outputs": [
    {
     "name": "stdout",
     "output_type": "stream",
     "text": [
      "11959\n"
     ]
    }
   ],
   "source": [
    "## H1ESC persist HSPC\n",
    "bedtools intersect -u -a ${HMR_DIR}H1ESC.minsize50.filtforrefseqTSSexons.txt -b ${HMR_DIR}HSC.minsize50.filtforrefseqTSSexons.txt | wc -l "
   ]
  },
  {
   "cell_type": "code",
   "execution_count": 11,
   "id": "7a6c3914",
   "metadata": {},
   "outputs": [
    {
     "name": "stdout",
     "output_type": "stream",
     "text": [
      "11310\n"
     ]
    }
   ],
   "source": [
    "## H1ESC persist HSPC - persist Macrophage\n",
    "bedtools intersect -u -a ${HMR_DIR}H1ESC.minsize50.filtforrefseqTSSexons.txt -b ${HMR_DIR}HSC.minsize50.filtforrefseqTSSexons.txt | bedtools intersect -u -a - -b ${HMR_DIR}Macrophage.minsize50.filtforrefseqTSSexons.txt | wc -l "
   ]
  },
  {
   "cell_type": "code",
   "execution_count": null,
   "id": "3d4d86e6",
   "metadata": {},
   "outputs": [],
   "source": [
    "## H1ESC persist HSPC - persist B cell "
   ]
  },
  {
   "cell_type": "code",
   "execution_count": 12,
   "id": "2f7f780c",
   "metadata": {},
   "outputs": [
    {
     "name": "stdout",
     "output_type": "stream",
     "text": [
      "10285\n"
     ]
    }
   ],
   "source": [
    "## H1ESC persist HSPC - persist Macrophage\n",
    "bedtools intersect -u -a ${HMR_DIR}H1ESC.minsize50.filtforrefseqTSSexons.txt -b ${HMR_DIR}HSC.minsize50.filtforrefseqTSSexons.txt | bedtools intersect -u -a - -b ${HMR_DIR}Bcell.minsize50.filtforrefseqTSSexons.txt | wc -l "
   ]
  },
  {
   "cell_type": "markdown",
   "id": "382bbdab",
   "metadata": {},
   "source": [
    "## Get numbers: HSPC"
   ]
  },
  {
   "cell_type": "code",
   "execution_count": 5,
   "id": "2b3f7818",
   "metadata": {},
   "outputs": [],
   "source": [
    "HMR_DIR=/data/hodges_lab/Tim/finalAnalyses_HMRs/hp_lineage/filtRefSeqFiles/"
   ]
  },
  {
   "cell_type": "code",
   "execution_count": 7,
   "id": "5838d8b8",
   "metadata": {},
   "outputs": [
    {
     "name": "stdout",
     "output_type": "stream",
     "text": [
      "34605\n"
     ]
    }
   ],
   "source": [
    "## HSPC NOT in H1 ESC\n",
    "bedtools intersect -v -a ${HMR_DIR}HSC.minsize50.filtforrefseqTSSexons.txt -b ${HMR_DIR}H1ESC.minsize50.filtforrefseqTSSexons.txt | wc -l "
   ]
  },
  {
   "cell_type": "code",
   "execution_count": 9,
   "id": "46a84db2",
   "metadata": {},
   "outputs": [
    {
     "name": "stdout",
     "output_type": "stream",
     "text": [
      "27312\n"
     ]
    }
   ],
   "source": [
    "## HSPC NOT in H1 ESC - Persist B cell \n",
    "bedtools intersect -v -a ${HMR_DIR}HSC.minsize50.filtforrefseqTSSexons.txt -b ${HMR_DIR}H1ESC.minsize50.filtforrefseqTSSexons.txt | bedtools intersect -u -a - -b ${HMR_DIR}Macrophage.minsize50.filtforrefseqTSSexons.txt | wc -l  "
   ]
  },
  {
   "cell_type": "code",
   "execution_count": 10,
   "id": "ca118113",
   "metadata": {},
   "outputs": [
    {
     "name": "stdout",
     "output_type": "stream",
     "text": [
      "15185\n"
     ]
    }
   ],
   "source": [
    "## HSPC NOT in H1 ESC - Persist B cell \n",
    "bedtools intersect -v -a ${HMR_DIR}HSC.minsize50.filtforrefseqTSSexons.txt -b ${HMR_DIR}H1ESC.minsize50.filtforrefseqTSSexons.txt | bedtools intersect -u -a - -b ${HMR_DIR}Bcell.minsize50.filtforrefseqTSSexons.txt | wc -l  "
   ]
  },
  {
   "cell_type": "markdown",
   "id": "603d1971",
   "metadata": {},
   "source": [
    "## R: Create dataframes"
   ]
  },
  {
   "cell_type": "code",
   "execution_count": 2,
   "id": "d2233c55",
   "metadata": {},
   "outputs": [
    {
     "name": "stderr",
     "output_type": "stream",
     "text": [
      "── \u001b[1mAttaching packages\u001b[22m ─────────────────────────────────────── tidyverse 1.3.1 ──\n",
      "\n",
      "\u001b[32m✔\u001b[39m \u001b[34mggplot2\u001b[39m 3.3.6     \u001b[32m✔\u001b[39m \u001b[34mpurrr  \u001b[39m 1.0.1\n",
      "\u001b[32m✔\u001b[39m \u001b[34mtibble \u001b[39m 3.2.1     \u001b[32m✔\u001b[39m \u001b[34mdplyr  \u001b[39m 1.1.1\n",
      "\u001b[32m✔\u001b[39m \u001b[34mtidyr  \u001b[39m 1.3.0     \u001b[32m✔\u001b[39m \u001b[34mstringr\u001b[39m 1.5.0\n",
      "\u001b[32m✔\u001b[39m \u001b[34mreadr  \u001b[39m 2.1.2     \u001b[32m✔\u001b[39m \u001b[34mforcats\u001b[39m 0.5.1\n",
      "\n",
      "── \u001b[1mConflicts\u001b[22m ────────────────────────────────────────── tidyverse_conflicts() ──\n",
      "\u001b[31m✖\u001b[39m \u001b[34mdplyr\u001b[39m::\u001b[32mfilter()\u001b[39m masks \u001b[34mstats\u001b[39m::filter()\n",
      "\u001b[31m✖\u001b[39m \u001b[34mdplyr\u001b[39m::\u001b[32mlag()\u001b[39m    masks \u001b[34mstats\u001b[39m::lag()\n",
      "\n"
     ]
    }
   ],
   "source": [
    "library(tidyverse)\n",
    "library(ggplot2)\n",
    "\n",
    "setwd(\"/data/hodges_lab/Tim/ACCUMULATION_PERSISTENCE/\")"
   ]
  },
  {
   "cell_type": "code",
   "execution_count": 8,
   "id": "d7643a19",
   "metadata": {},
   "outputs": [],
   "source": [
    "H1_persist <- tibble(\n",
    "    Celltype = c(\"H1 ESC\", \"HSPC\", \"Macrophage\", \"B cell\"),\n",
    "    Stage = c(\"H1ESC\",\"HSPC\",\"Differentiated\",\"Differentiated\"),\n",
    "    Count = c(18235, 11959, 11310, 10285)\n",
    ")\n",
    "\n",
    "H1_persist$Celltype <- factor(H1_persist$Celltype, levels = c(\"H1 ESC\", \"HSPC\", \"Macrophage\", \"B cell\"))\n",
    "H1_persist$Stage <- factor(H1_persist$Stage, levels = c(\"H1ESC\",\"HSPC\",\"Differentiated\"))"
   ]
  },
  {
   "cell_type": "code",
   "execution_count": 16,
   "id": "8f76aede",
   "metadata": {},
   "outputs": [],
   "source": [
    "HSPC_persist <- tibble(\n",
    "    Celltype = c(\"H1 ESC\", \"HSPC\", \"Macrophage\", \"B cell\"),\n",
    "    Stage = c(\"H1 ESC\", \"HSPC\",\"Differentiated\",\"Differentiated\"),\n",
    "    Count = c(0, 34605, 27312, 15185)\n",
    ")\n",
    "\n",
    "HSPC_persist$Celltype <- factor(HSPC_persist$Celltype, levels = c(\"H1 ESC\",\"HSPC\", \"Macrophage\", \"B cell\"))\n",
    "HSPC_persist$Stage <- factor(HSPC_persist$Stage, levels = c(\"H1 ESC\",\"HSPC\",\"Differentiated\"))"
   ]
  },
  {
   "cell_type": "markdown",
   "id": "9f9e4623",
   "metadata": {},
   "source": [
    "## Plot"
   ]
  },
  {
   "cell_type": "code",
   "execution_count": 22,
   "id": "d5aaddca",
   "metadata": {},
   "outputs": [
    {
     "data": {
      "text/html": [
       "<strong>png:</strong> 2"
      ],
      "text/latex": [
       "\\textbf{png:} 2"
      ],
      "text/markdown": [
       "**png:** 2"
      ],
      "text/plain": [
       "png \n",
       "  2 "
      ]
     },
     "metadata": {},
     "output_type": "display_data"
    },
    {
     "data": {
      "image/png": "[encoded data removed]",
      "text/plain": [
       "plot without title"
      ]
     },
     "metadata": {
      "image/png": {
       "height": 420,
       "width": 420
      }
     },
     "output_type": "display_data"
    }
   ],
   "source": [
    "pdf(\"Persistence.H1ESC.pdf\")\n",
    "\n",
    "p_H1persist <- H1_persist %>%\n",
    "ggplot(aes(x = Stage, y = Count)) +\n",
    "    geom_bar(aes(fill = Celltype), stat = \"identity\", position = position_dodge2(width = 0.9, preserve = \"single\"), width = .75) +\n",
    "    theme_classic() +\n",
    "    theme(aspect.ratio = .4) \n",
    "p_H1persist\n",
    "\n",
    "dev.off()\n",
    "p_H1persist\n"
   ]
  },
  {
   "cell_type": "code",
   "execution_count": 23,
   "id": "c7a53285",
   "metadata": {},
   "outputs": [
    {
     "data": {
      "text/html": [
       "<strong>png:</strong> 2"
      ],
      "text/latex": [
       "\\textbf{png:} 2"
      ],
      "text/markdown": [
       "**png:** 2"
      ],
      "text/plain": [
       "png \n",
       "  2 "
      ]
     },
     "metadata": {},
     "output_type": "display_data"
    },
    {
     "data": {
      "image/png": "[encoded data removed]",
      "text/plain": [
       "plot without title"
      ]
     },
     "metadata": {
      "image/png": {
       "height": 420,
       "width": 420
      }
     },
     "output_type": "display_data"
    }
   ],
   "source": [
    "pdf(\"Persistence.HSPC.pdf\")\n",
    "\n",
    "p_HSPCpersist <- HSPC_persist %>%\n",
    "ggplot(aes(x = Stage, y = Count)) +\n",
    "    geom_bar(aes(fill = Celltype), stat = \"identity\", position = position_dodge2(width = 0.9, preserve = \"single\"), width = .75) +\n",
    "    theme_classic() +\n",
    "    theme(aspect.ratio = .4) +\n",
    "    scale_y_reverse() +\n",
    "    scale_x_discrete(position = \"top\")\n",
    "p_HSPCpersist\n",
    "\n",
    "dev.off()\n",
    "p_HSPCpersist"
   ]
  },
  {
   "cell_type": "code",
   "execution_count": null,
   "id": "038de2bb",
   "metadata": {},
   "outputs": [],
   "source": []
  }
 ],
 "metadata": {
  "kernelspec": {
   "display_name": "R",
   "language": "R",
   "name": "ir"
  },
  "language_info": {
   "codemirror_mode": "r",
   "file_extension": ".r",
   "mimetype": "text/x-r-source",
   "name": "R",
   "pygments_lexer": "r",
   "version": "4.1.2"
  },
  "toc": {
   "base_numbering": 1,
   "nav_menu": {},
   "number_sections": true,
   "sideBar": true,
   "skip_h1_title": false,
   "title_cell": "Table of Contents",
   "title_sidebar": "Contents",
   "toc_cell": false,
   "toc_position": {},
   "toc_section_display": true,
   "toc_window_display": true
  }
 },
 "nbformat": 4,
 "nbformat_minor": 5
}
